{
 "cells": [
  {
   "cell_type": "markdown",
   "metadata": {},
   "source": [
    "<a target=\"_blank\" href=\"https://colab.research.google.com/github/PDBeurope/pdbe-notebooks/blob/main/pdbeccdutils_tutorials/spring_school_cadd/pdbeccdutils.ipynb\">\n",
    "  <img src=\"https://colab.research.google.com/assets/colab-badge.svg\" alt=\"Open In Colab\"/>\n",
    "</a>"
   ]
  },
  {
   "cell_type": "markdown",
   "metadata": {},
   "source": [
    "# Introduction"
   ]
  },
  {
   "cell_type": "markdown",
   "metadata": {},
   "source": [
    "PDBe CCDUtils is an open-source python package for processing and analyzing small molecules in the PDB. Small-molecule data in the PDB is available as [Chemical Component Dictionary (CCD)](http://www.wwpdb.org/data/ccd) or [Biologically Interesting Molecule reference Dictioanry (BIRD)](http://www.wwpdb.org/data/bird) in PDBX/mmCIF format. PDBe CCDUtils provides streamlined access to all metadata of small molecules in the PDB and offers a set of convenient methods to compute various properties using RDKIt such as \n",
    "\n",
    "* [Physicochemical properties](#accessing-properties-of-CCD)\n",
    "* [Matching common fragments and scaffolds](#finding-fragments-and-scaffolds)\n",
    "* [Mapping to small-molecule databases using UniChem](#fetching-external-mappings-to-other-databases)\n",
    "* [2D depictions](#2D-Depictions)\n",
    "* [Similarity using PARITY method](#similarity-using-parity-method)\n",
    "* [Export to multiple formats](#export-to-different-formats)\n",
    " \n",
    "\n",
    "PDBe CCDUtils also provides methods for identifying all the Covalently Linked Chemical components (CLC) in a macromolecular structure. To findout more, please refer to the publication [PDBe CCDUtils: an RDKit-based toolkit for handling and analysing small molecules in the Protein Data Bank](https://doi.org/10.1186/s13321-023-00786-w)"
   ]
  },
  {
   "cell_type": "markdown",
   "metadata": {},
   "source": [
    "## Installation of dependencies"
   ]
  },
  {
   "cell_type": "code",
   "execution_count": null,
   "metadata": {},
   "outputs": [],
   "source": [
    "%pip install rdkit"
   ]
  },
  {
   "cell_type": "code",
   "execution_count": null,
   "metadata": {},
   "outputs": [],
   "source": [
    "%pip install pdbeccdutils"
   ]
  },
  {
   "cell_type": "code",
   "execution_count": null,
   "metadata": {},
   "outputs": [],
   "source": [
    "%pip install wget"
   ]
  },
  {
   "cell_type": "markdown",
   "metadata": {},
   "source": [
    "## Helper functions"
   ]
  },
  {
   "cell_type": "code",
   "execution_count": 1,
   "metadata": {},
   "outputs": [],
   "source": [
    "import os\n",
    "import gzip\n",
    "import requests\n",
    "from enum import Enum"
   ]
  },
  {
   "cell_type": "code",
   "execution_count": 131,
   "metadata": {},
   "outputs": [],
   "source": [
    "PDBECHEM_URL = \"https://ftp.ebi.ac.uk/pub/databases/msd/pdbechem_v2\"\n",
    "ENTRY_URL = \"https://ftp.ebi.ac.uk/pub/databases/msd/updated_mmcif/all\"\n",
    "\n",
    "class ligandType(Enum):\n",
    "    CCD = \"ccd\"\n",
    "    PRD = \"prd\"\n",
    "    CLC = \"clc\"\n",
    "\n",
    "\n",
    "def get_ligand_cif(ligand_id: str, ligand_type: ligandType) -> str:\n",
    "    \"\"\"\n",
    "    Downloads and writes ligand CIF from PDBe FTP to a file\n",
    "    and returns the path\n",
    "\n",
    "    Args:\n",
    "        ligand_id: ID of the ligand\n",
    "        ligand_type: Type of ligand\n",
    "    \n",
    "    Returns:\n",
    "        The path to cif file of ligand\n",
    "    \"\"\"\n",
    "    match ligand_type.value:\n",
    "        case \"ccd\":\n",
    "            ligand_dir = os.path.join(\"ccd\", ligand_id[0], ligand_id)\n",
    "        case \"prd\":\n",
    "            ligand_dir = os.path.join(\"prd\", ligand_id[-1],ligand_id)\n",
    "        case \"clc\":\n",
    "            ligand_dir = os.path.join(\"clc\", ligand_id[-1],ligand_id)\n",
    "    try:\n",
    "        ligand_cif_path = os.path.join(PDBECHEM_URL, ligand_dir, f\"{ligand_id}.cif\")\n",
    "        response = requests.get(ligand_cif_path)\n",
    "        assert response.status_code == 200\n",
    "        ligand_cif_file = os.path.join(os.getcwd(), f\"{ligand_id}.cif\")\n",
    "        with open(ligand_cif_file, \"wb\") as fh:\n",
    "            fh.write(response.content)\n",
    "\n",
    "        return ligand_cif_file\n",
    "    except  AssertionError:\n",
    "        print(f\"Couldn't find the file. Check if {ligand_id} & {ligand_type} are valid, if so try again\")\n",
    "\n",
    "\n",
    "def get_entry_cif(pdb_id: str) -> str:\n",
    "    \"\"\"\n",
    "    Downloads and writes PDB entry updated mmCIF to a file and \n",
    "    returns the path\n",
    "\n",
    "    Args:\n",
    "        pdb_id: PDB id of an entry\n",
    "\n",
    "    Returns:\n",
    "        path to the downloaded file\n",
    "    \"\"\"\n",
    "    entry_url = os.path.join(ENTRY_URL, f\"{pdb_id}_updated.cif.gz\")\n",
    "    response = requests.get(entry_url, stream=True)\n",
    "    response.raise_for_status()\n",
    "    with open(f\"{pdb_id}_updated.cif\", \"wb\") as fh:\n",
    "        fh.write(gzip.decompress(response.content))\n",
    "\n",
    "    return f\"{pdb_id}_updated.cif\"\n"
   ]
  },
  {
   "cell_type": "markdown",
   "metadata": {},
   "source": [
    "## Reading small molecule data"
   ]
  },
  {
   "cell_type": "code",
   "execution_count": 132,
   "metadata": {},
   "outputs": [],
   "source": [
    "from pdbeccdutils.core import ccd_reader"
   ]
  },
  {
   "cell_type": "code",
   "execution_count": 133,
   "metadata": {},
   "outputs": [],
   "source": [
    "hem_cif = get_ligand_cif(\"HEM\", ligandType.CCD)\n",
    "hem =  ccd_reader.read_pdb_cif_file(hem_cif)"
   ]
  },
  {
   "cell_type": "code",
   "execution_count": null,
   "metadata": {},
   "outputs": [],
   "source": [
    "hem"
   ]
  },
  {
   "cell_type": "markdown",
   "metadata": {},
   "source": [
    "CCDReaderResult contains a component object - the core structural representation of small-molecules in PDBe CCDUtils. Component is a wrapper around rdkit.Chem.rdchem.Mol object providing most of its functionality and access metada data from CCD file. "
   ]
  },
  {
   "cell_type": "code",
   "execution_count": 137,
   "metadata": {},
   "outputs": [],
   "source": [
    "hem_component = hem.component"
   ]
  },
  {
   "cell_type": "markdown",
   "metadata": {},
   "source": [
    "## Accessing properties of CCD"
   ]
  },
  {
   "cell_type": "markdown",
   "metadata": {},
   "source": [
    "Properties in the CCD file and physicochemical properties generated by RDKit can be accessed using attributes of the Component object"
   ]
  },
  {
   "cell_type": "code",
   "execution_count": null,
   "metadata": {},
   "outputs": [],
   "source": [
    "print(f\"\"\"\n",
    "id: {hem_component.id}\n",
    "name: {hem_component.name}\n",
    "formula: {hem_component.formula}\n",
    "inchi: {hem_component.inchi}\n",
    "inchikey: {hem_component.inchikey}\n",
    "release status: {hem_component.pdbx_release_status.name}\n",
    "modified_date: {hem_component.modified_date}\n",
    "\"\"\")"
   ]
  },
  {
   "cell_type": "code",
   "execution_count": null,
   "metadata": {},
   "outputs": [],
   "source": [
    "hem_component.descriptors"
   ]
  },
  {
   "cell_type": "code",
   "execution_count": null,
   "metadata": {},
   "outputs": [],
   "source": [
    "hem_component.physchem_properties"
   ]
  },
  {
   "cell_type": "markdown",
   "metadata": {},
   "source": [
    "## Fetching external mappings to other databases"
   ]
  },
  {
   "cell_type": "code",
   "execution_count": null,
   "metadata": {},
   "outputs": [],
   "source": [
    "external_mappings = hem_component.fetch_external_mappings(all_mappings=True)\n",
    "external_mappings"
   ]
  },
  {
   "cell_type": "markdown",
   "metadata": {},
   "source": [
    "## Finding fragments"
   ]
  },
  {
   "cell_type": "markdown",
   "metadata": {},
   "source": [
    "PDBe CCDUtils supports search for fragments present in a small molecule from a library of fragments. The fragment library present in PDBe CCDUtils contains 2158 fragments which were manually currated at PDBe and collaborating resources (ENAMINE, DSI). Should you wish to check all the fragments, please check [fragment_library.tsv](https://github.com/PDBeurope/ccdutils/blob/master/pdbeccdutils/data/fragment_library.tsv) file."
   ]
  },
  {
   "cell_type": "code",
   "execution_count": 134,
   "metadata": {},
   "outputs": [],
   "source": [
    "from pdbeccdutils.core.fragment_library import FragmentLibrary\n",
    "from rdkit.Chem import Draw"
   ]
  },
  {
   "cell_type": "code",
   "execution_count": 135,
   "metadata": {},
   "outputs": [],
   "source": [
    "fragment_library = FragmentLibrary()"
   ]
  },
  {
   "cell_type": "code",
   "execution_count": 138,
   "metadata": {},
   "outputs": [
    {
     "name": "stdout",
     "output_type": "stream",
     "text": [
      "No of fragments found: 2\n"
     ]
    }
   ],
   "source": [
    "fragment_matches = hem_component.library_search(fragment_library)\n",
    "print(f\"No of fragments found: {len(fragment_matches)}\")"
   ]
  },
  {
   "cell_type": "code",
   "execution_count": 139,
   "metadata": {},
   "outputs": [
    {
     "data": {
      "text/plain": [
       "[SubstructureMapping(name='porphin-like', mol=<rdkit.Chem.rdchem.Mol object at 0x7f8689b48740>, source='PDBe', mappings=((5, 6, 7, 1, 14, 39, 17, 16, 15, 2, 21, 40, 24, 3, 28, 41, 31, 0, 4, 38, 30, 29, 23, 22),)),\n",
       " SubstructureMapping(name='pyrrole', mol=<rdkit.Chem.rdchem.Mol object at 0x7f8689b48dd0>, source='PDBe', mappings=((4, 5, 6, 7, 38), (21, 22, 23, 24, 40)))]"
      ]
     },
     "execution_count": 139,
     "metadata": {},
     "output_type": "execute_result"
    }
   ],
   "source": [
    "fragment_matches"
   ]
  },
  {
   "cell_type": "code",
   "execution_count": null,
   "metadata": {},
   "outputs": [],
   "source": [
    "fragment_mols = [fragment.mol for fragment in hem_component.fragments]\n",
    "img = Draw.MolsToGridImage(fragment_mols, legends = [fragment.name for fragment in hem_component.fragments])\n",
    "img"
   ]
  },
  {
   "cell_type": "markdown",
   "metadata": {},
   "source": [
    "## Finding scaffolds"
   ]
  },
  {
   "cell_type": "markdown",
   "metadata": {},
   "source": [
    "PDBe CCDUtils supports identification of scaffolds of small moelcules in PDB using the RDKit functionality. Currently it supports three types of scaffolding methods\n",
    "* MurckoScaffold\n",
    "* MurckoScaffoldGeneric\n",
    "* BRICS"
   ]
  },
  {
   "cell_type": "code",
   "execution_count": null,
   "metadata": {},
   "outputs": [],
   "source": [
    "from pdbeccdutils.core.models import ScaffoldingMethod"
   ]
  },
  {
   "cell_type": "code",
   "execution_count": null,
   "metadata": {},
   "outputs": [],
   "source": [
    "murcko_scaffolds = hem_component.get_scaffolds(scaffolding_method = ScaffoldingMethod.MurckoScaffold)\n",
    "generic_murcko_scaffolds = hem_component.get_scaffolds(scaffolding_method = ScaffoldingMethod.MurckoGeneric)\n",
    "brics_scaffolds = hem_component.get_scaffolds(scaffolding_method=ScaffoldingMethod.Brics)"
   ]
  },
  {
   "cell_type": "code",
   "execution_count": null,
   "metadata": {},
   "outputs": [],
   "source": [
    "murcko_scaffolds[0]"
   ]
  },
  {
   "cell_type": "markdown",
   "metadata": {},
   "source": [
    "## 2D Depictions"
   ]
  },
  {
   "cell_type": "markdown",
   "metadata": {},
   "source": [
    "PDBe CCDUtils uses [template-based](https://rdkit.org/docs/source/rdkit.Chem.rdDepictor.html#rdkit.Chem.rdDepictor.GenerateDepictionMatching2DStructure) and [connectivity based](https://rdkit.org/docs/source/rdkit.Chem.rdCoordGen.html) methods from RDKit to generate 2D depictions of small moelcules. Templates can either be downloaded from PubChem or provided as a path to a folder containing SDF files. A hand-curated set of [ten templates](https://github.com/PDBeurope/ccdutils/tree/master/pdbeccdutils/data/general_templates) are also provided with PDBe CCDUtils\n",
    "\n",
    "To find the best depiction of a small molecule, a heuristic-based Depiction Penalty Score (DPS) is defined. A DPS of zero indicates a high-quality 2D depiction, while higher scores indicate lower quality."
   ]
  },
  {
   "cell_type": "code",
   "execution_count": null,
   "metadata": {},
   "outputs": [],
   "source": [
    "hem_component.mol"
   ]
  },
  {
   "cell_type": "code",
   "execution_count": null,
   "metadata": {},
   "outputs": [],
   "source": [
    "hem_component.export_2d_svg(\"hem.svg\")"
   ]
  },
  {
   "cell_type": "code",
   "execution_count": 74,
   "metadata": {},
   "outputs": [],
   "source": [
    "from pdbeccdutils.core.depictions import DepictionManager\n",
    "from pdbeccdutils.utils.pubchem_downloader import PubChemDownloader"
   ]
  },
  {
   "cell_type": "code",
   "execution_count": 75,
   "metadata": {},
   "outputs": [],
   "source": [
    "pubchem_templates = os.getcwd()\n",
    "pubchem_downloader = PubChemDownloader(pubchem_templates)"
   ]
  },
  {
   "cell_type": "code",
   "execution_count": null,
   "metadata": {},
   "outputs": [],
   "source": [
    "pubchem_downloader.process_template(hem_component)\n",
    "depictions = DepictionManager(pubchem_templates)\n",
    "depiction_result = hem_component.compute_2d(depictions)\n",
    "depiction_result"
   ]
  },
  {
   "cell_type": "code",
   "execution_count": null,
   "metadata": {},
   "outputs": [],
   "source": [
    "hem_component.mol2D"
   ]
  },
  {
   "cell_type": "markdown",
   "metadata": {},
   "source": [
    "## Similarity using PARITY method"
   ]
  },
  {
   "cell_type": "markdown",
   "metadata": {},
   "source": [
    "PDBe CCDUtils supports comparison of small moelcules based on [PARITY](https://www.ncbi.nlm.nih.gov/pmc/articles/PMC5890617/) similarity score. PARITY represents the proportion of atoms of same type residing in identical topology between two small molecules"
   ]
  },
  {
   "cell_type": "code",
   "execution_count": null,
   "metadata": {},
   "outputs": [],
   "source": [
    "from pdbeccdutils.computations.parity_method import compare_molecules"
   ]
  },
  {
   "cell_type": "code",
   "execution_count": null,
   "metadata": {},
   "outputs": [],
   "source": [
    "heme_acetyl_cif = get_ligand_cif(\"HCO\", ligandType.CCD)\n",
    "heme_acetyl_component = ccd_reader.read_pdb_cif_file(heme_acetyl_cif).component"
   ]
  },
  {
   "cell_type": "code",
   "execution_count": null,
   "metadata": {},
   "outputs": [],
   "source": [
    "similarity = compare_molecules(hem_component.mol_no_h, heme_acetyl_component.mol_no_h)"
   ]
  },
  {
   "cell_type": "code",
   "execution_count": null,
   "metadata": {},
   "outputs": [],
   "source": [
    "similarity"
   ]
  },
  {
   "cell_type": "markdown",
   "metadata": {},
   "source": [
    "## Export to different formats"
   ]
  },
  {
   "cell_type": "markdown",
   "metadata": {},
   "source": [
    "PDBe CCDUtils presently supports exporting of small molecule data to the following formats\n",
    "* CIF\n",
    "* PDB\n",
    "* SDF\n",
    "* CML"
   ]
  },
  {
   "cell_type": "code",
   "execution_count": null,
   "metadata": {},
   "outputs": [],
   "source": [
    "from pdbeccdutils.core import ccd_writer"
   ]
  },
  {
   "cell_type": "code",
   "execution_count": null,
   "metadata": {},
   "outputs": [],
   "source": [
    "ccd_writer.write_molecule(\"hem.sdf\",\n",
    "                          hem_component,\n",
    "                          )"
   ]
  },
  {
   "cell_type": "code",
   "execution_count": null,
   "metadata": {},
   "outputs": [],
   "source": [
    "ccd_writer.write_molecule(\"hem.pdb\",\n",
    "                          hem_component,\n",
    "                          )"
   ]
  },
  {
   "cell_type": "markdown",
   "metadata": {},
   "source": [
    "# Use cases"
   ]
  },
  {
   "cell_type": "markdown",
   "metadata": {},
   "source": [
    "## Idenitfying Covalently Linked Components from a PDB entry"
   ]
  },
  {
   "cell_type": "markdown",
   "metadata": {},
   "source": [
    "In some PDB entries, large ligands are fragmented to smaller CCDs. For example in PDB entry [1e55](https://www.ebi.ac.uk/pdbe/entry/pdb/1e55), the competitive inhibitor **dhurrin** is in compelx with the structure, but it is split into two different CCDs - BGC and DHR. This happens due to the current wwwPDB annotation policies, which recommend splitting of large ligands to smaller CCDs to allow identification of correct stereospecificities and geometry. However, this practise obscures the small molecule data in the PDB archive and make it difficult to automatically identify and map to other databases.\n",
    "\n",
    "At PDBe, we have created a process to identify these fragmented ligands in the PDB and assign a unique identifier based on the inchikey. You can access them from [PDBeChem FTP](https://ftp.ebi.ac.uk/pub/databases/msd/pdbechem_v2/clc/). You can also use PDBe CCDUtils to create the complete representaiton of fragmented ligands in a PDB entry."
   ]
  },
  {
   "cell_type": "code",
   "execution_count": 17,
   "metadata": {},
   "outputs": [],
   "source": [
    "from pdbeccdutils.helpers import cif_tools\n",
    "from pdbeccdutils.core.boundmolecule import infer_bound_molecules\n",
    "from pdbeccdutils.core import clc_reader"
   ]
  },
  {
   "cell_type": "code",
   "execution_count": 18,
   "metadata": {},
   "outputs": [],
   "source": [
    "def get_clc(pdb_id: str) -> list[clc_reader.CLCReaderResult]:\n",
    "    \"\"\"\n",
    "    Returns a list of CLCReaderResults containing Component \n",
    "    object of Covalently Linked Components (CLCs)\n",
    "\n",
    "    Args:\n",
    "        pdb_id: PDB ID of an entry\n",
    "\n",
    "    \"\"\"\n",
    "    input_cif = get_entry_cif(pdb_id)\n",
    "    fixed_mmcif_file = os.path.join(f\"{pdb_id}_processed.cif\")\n",
    "\n",
    "    #Keeps only first model, removes alternate conformations of atoms and residues\n",
    "    cif_tools.fix_updated_mmcif(input_cif, fixed_mmcif_file)\n",
    "\n",
    "    #\n",
    "    bms = infer_bound_molecules(\n",
    "    fixed_mmcif_file, [\"HOH\"], assembly=False\n",
    ")\n",
    "    clc_reader_results = []\n",
    "    for i, bm in enumerate(bms, start=1):\n",
    "        bm_id = f\"bm{i}\"\n",
    "        reader_result = clc_reader.infer_multiple_chem_comp(\n",
    "            fixed_mmcif_file, bm, bm_id, sanitize=True\n",
    "        )\n",
    "        if reader_result:\n",
    "            clc_reader_results.append(reader_result)\n",
    "    \n",
    "    return clc_reader_results\n"
   ]
  },
  {
   "cell_type": "code",
   "execution_count": 19,
   "metadata": {},
   "outputs": [],
   "source": [
    "clc_reader_results = get_clc(\"1e55\")"
   ]
  },
  {
   "cell_type": "code",
   "execution_count": 23,
   "metadata": {},
   "outputs": [],
   "source": [
    "dhurrin_component = clc_reader_results[0].component"
   ]
  },
  {
   "cell_type": "code",
   "execution_count": 24,
   "metadata": {},
   "outputs": [
    {
     "data": {
      "image/png": "[encoded data removed]",
      "text/plain": [
       "<rdkit.Chem.rdchem.RWMol at 0x7f8819c45800>"
      ]
     },
     "execution_count": 24,
     "metadata": {},
     "output_type": "execute_result"
    }
   ],
   "source": [
    "dhurrin_component.mol"
   ]
  },
  {
   "cell_type": "code",
   "execution_count": 25,
   "metadata": {},
   "outputs": [
    {
     "data": {
      "text/plain": [
       "[('EPA CompTox Dashboard', 'DTXSID90198142'),\n",
       " ('ZINC', 'ZINC000004096638'),\n",
       " ('SureChEMBL', 'SCHEMBL50174'),\n",
       " ('Nikkaji', 'J10.589I'),\n",
       " ('ChEBI', '27826'),\n",
       " ('KEGG LIGAND', 'C05143'),\n",
       " ('eMolecules', '32231621'),\n",
       " ('BRENDA', '30532'),\n",
       " ('BRENDA', '1121'),\n",
       " ('MetaboLights', 'MTBLC27826'),\n",
       " ('Rhea', '27826'),\n",
       " ('HMDB', 'HMDB0060471'),\n",
       " ('PubChem', '161355'),\n",
       " ('PubChem TPHARMA', '24422914'),\n",
       " ('NMRShiftDB', '60025950'),\n",
       " ('fdasrs', 'P5999IY65C')]"
      ]
     },
     "execution_count": 25,
     "metadata": {},
     "output_type": "execute_result"
    }
   ],
   "source": [
    "dhurrin_component.fetch_external_mappings(all_mappings=True)"
   ]
  },
  {
   "cell_type": "markdown",
   "metadata": {},
   "source": [
    "Instead of creating the complete representation of fragmented ligands from PDB entries, you can find the standardized IDs of these ligands from [interacting_chains_with_ligand_functions.tsv](https://ftp.ebi.ac.uk/pub/databases/msd/pdbechem_v2/additional_data/pdb_ligand_interactions/interacting_chains_with_ligand_functions.tsv) available from FTP. The below example shows how this can be done for the entry **1e55**. "
   ]
  },
  {
   "cell_type": "code",
   "execution_count": 34,
   "metadata": {},
   "outputs": [],
   "source": [
    "import wget\n",
    "import pandas as pd\n",
    "from pdbeccdutils.core import clc_reader"
   ]
  },
  {
   "cell_type": "code",
   "execution_count": 33,
   "metadata": {},
   "outputs": [
    {
     "data": {
      "text/plain": [
       "'interacting_chains_with_ligand_functions.tsv'"
      ]
     },
     "execution_count": 33,
     "metadata": {},
     "output_type": "execute_result"
    }
   ],
   "source": [
    "wget.download(\"https://ftp.ebi.ac.uk/pub/databases/msd/pdbechem_v2/additional_data/pdb_ligand_interactions/interacting_chains_with_ligand_functions.tsv\")"
   ]
  },
  {
   "cell_type": "code",
   "execution_count": 41,
   "metadata": {},
   "outputs": [],
   "source": [
    "int_chain_ligand = pd.read_csv(\"interacting_chains_with_ligand_functions.tsv\", sep=\"\\t\")"
   ]
  },
  {
   "cell_type": "code",
   "execution_count": 57,
   "metadata": {},
   "outputs": [
    {
     "data": {
      "text/html": [
       "<div>\n",
       "<style scoped>\n",
       "    .dataframe tbody tr th:only-of-type {\n",
       "        vertical-align: middle;\n",
       "    }\n",
       "\n",
       "    .dataframe tbody tr th {\n",
       "        vertical-align: top;\n",
       "    }\n",
       "\n",
       "    .dataframe thead th {\n",
       "        text-align: right;\n",
       "    }\n",
       "</style>\n",
       "<table border=\"1\" class=\"dataframe\">\n",
       "  <thead>\n",
       "    <tr style=\"text-align: right;\">\n",
       "      <th></th>\n",
       "      <th>PDBID</th>\n",
       "      <th>Chain_Symmetry</th>\n",
       "      <th>BestUnpAccession</th>\n",
       "      <th>bmID</th>\n",
       "      <th>inchikey</th>\n",
       "      <th>LigandID</th>\n",
       "      <th>LigandType</th>\n",
       "      <th>annotation</th>\n",
       "    </tr>\n",
       "  </thead>\n",
       "  <tbody>\n",
       "    <tr>\n",
       "      <th>0</th>\n",
       "      <td>100d</td>\n",
       "      <td>A</td>\n",
       "      <td>NaN</td>\n",
       "      <td>bm1</td>\n",
       "      <td>PFNFFQXMRSDOHW-UHFFFAOYSA-N</td>\n",
       "      <td>SPM</td>\n",
       "      <td>CCD</td>\n",
       "      <td>NaN</td>\n",
       "    </tr>\n",
       "    <tr>\n",
       "      <th>1</th>\n",
       "      <td>101d</td>\n",
       "      <td>A</td>\n",
       "      <td>NaN</td>\n",
       "      <td>bm1</td>\n",
       "      <td>JLVVSXFLKOJNIY-UHFFFAOYSA-N</td>\n",
       "      <td>MG</td>\n",
       "      <td>CCD</td>\n",
       "      <td>ion</td>\n",
       "    </tr>\n",
       "    <tr>\n",
       "      <th>2</th>\n",
       "      <td>101d</td>\n",
       "      <td>A</td>\n",
       "      <td>NaN</td>\n",
       "      <td>bm2</td>\n",
       "      <td>IDBIFFKSXLYUOT-UHFFFAOYSA-N</td>\n",
       "      <td>NT</td>\n",
       "      <td>CCD</td>\n",
       "      <td>NaN</td>\n",
       "    </tr>\n",
       "    <tr>\n",
       "      <th>3</th>\n",
       "      <td>101d</td>\n",
       "      <td>B</td>\n",
       "      <td>NaN</td>\n",
       "      <td>bm1</td>\n",
       "      <td>JLVVSXFLKOJNIY-UHFFFAOYSA-N</td>\n",
       "      <td>MG</td>\n",
       "      <td>CCD</td>\n",
       "      <td>ion</td>\n",
       "    </tr>\n",
       "    <tr>\n",
       "      <th>4</th>\n",
       "      <td>101d</td>\n",
       "      <td>B</td>\n",
       "      <td>NaN</td>\n",
       "      <td>bm2</td>\n",
       "      <td>IDBIFFKSXLYUOT-UHFFFAOYSA-N</td>\n",
       "      <td>NT</td>\n",
       "      <td>CCD</td>\n",
       "      <td>NaN</td>\n",
       "    </tr>\n",
       "  </tbody>\n",
       "</table>\n",
       "</div>"
      ],
      "text/plain": [
       "  PDBID Chain_Symmetry BestUnpAccession bmID                     inchikey  \\\n",
       "0  100d              A              NaN  bm1  PFNFFQXMRSDOHW-UHFFFAOYSA-N   \n",
       "1  101d              A              NaN  bm1  JLVVSXFLKOJNIY-UHFFFAOYSA-N   \n",
       "2  101d              A              NaN  bm2  IDBIFFKSXLYUOT-UHFFFAOYSA-N   \n",
       "3  101d              B              NaN  bm1  JLVVSXFLKOJNIY-UHFFFAOYSA-N   \n",
       "4  101d              B              NaN  bm2  IDBIFFKSXLYUOT-UHFFFAOYSA-N   \n",
       "\n",
       "  LigandID LigandType annotation  \n",
       "0      SPM        CCD        NaN  \n",
       "1       MG        CCD        ion  \n",
       "2       NT        CCD        NaN  \n",
       "3       MG        CCD        ion  \n",
       "4       NT        CCD        NaN  "
      ]
     },
     "execution_count": 57,
     "metadata": {},
     "output_type": "execute_result"
    }
   ],
   "source": [
    "int_chain_ligand.head()"
   ]
  },
  {
   "cell_type": "code",
   "execution_count": 38,
   "metadata": {},
   "outputs": [],
   "source": [
    "durrin_cif = get_ligand_cif(\"CLC_000189\", ligandType.CLC)\n",
    "dhurrin_cif_component = clc_reader.read_clc_cif_file(durrin_cif).component"
   ]
  },
  {
   "cell_type": "code",
   "execution_count": 40,
   "metadata": {},
   "outputs": [
    {
     "data": {
      "image/png": "[encoded data removed]",
      "text/plain": [
       "<rdkit.Chem.rdchem.Mol at 0x7f880ac7ece0>"
      ]
     },
     "execution_count": 40,
     "metadata": {},
     "output_type": "execute_result"
    }
   ],
   "source": [
    "dhurrin_cif_component.mol"
   ]
  },
  {
   "cell_type": "markdown",
   "metadata": {},
   "source": [
    "## Analysis of Drug-like molecules in PDB"
   ]
  },
  {
   "cell_type": "code",
   "execution_count": 116,
   "metadata": {},
   "outputs": [],
   "source": [
    "drug_like_molecules = int_chain_ligand.loc[int_chain_ligand[\"annotation\"]==\"drug-like\", \"LigandID\"].unique()"
   ]
  },
  {
   "cell_type": "code",
   "execution_count": 117,
   "metadata": {},
   "outputs": [
    {
     "data": {
      "text/plain": [
       "array(['BME', 'MES', 'SAH', ..., 'G3D', 'IYJ', '6UB'], dtype=object)"
      ]
     },
     "execution_count": 117,
     "metadata": {},
     "output_type": "execute_result"
    }
   ],
   "source": [
    "drug_like_molecules"
   ]
  },
  {
   "cell_type": "code",
   "execution_count": 56,
   "metadata": {},
   "outputs": [
    {
     "data": {
      "text/plain": [
       "'components.cif'"
      ]
     },
     "execution_count": 56,
     "metadata": {},
     "output_type": "execute_result"
    }
   ],
   "source": [
    "wget.download(\"https://ftp.ebi.ac.uk/pub/databases/msd/pdbechem_v2/ccd/components.cif\")"
   ]
  },
  {
   "cell_type": "code",
   "execution_count": 62,
   "metadata": {},
   "outputs": [],
   "source": [
    "ccd_components = ccd_reader.read_pdb_components_file(\"components.cif\")"
   ]
  },
  {
   "cell_type": "code",
   "execution_count": 87,
   "metadata": {},
   "outputs": [],
   "source": [
    "import matplotlib.pyplot as plt\n",
    "import numpy as np"
   ]
  },
  {
   "cell_type": "code",
   "execution_count": 118,
   "metadata": {},
   "outputs": [],
   "source": [
    "#Filter based on number of atoms\n",
    "drug_like_with_heavy_atoms = []\n",
    "for ccd in drug_like_molecules:\n",
    "    num_heavy_atoms = ccd_components[ccd].component.physchem_properties.get(\"NumHeavyAtoms\", 0)\n",
    "    if num_heavy_atoms > 6:\n",
    "        drug_like_with_heavy_atoms.append(ccd)\n"
   ]
  },
  {
   "cell_type": "code",
   "execution_count": 120,
   "metadata": {},
   "outputs": [],
   "source": [
    "drug_like_weights = []\n",
    "for ccd in drug_like_with_heavy_atoms:\n",
    "    if \"exactmw\" in ccd_components[ccd].component.physchem_properties:\n",
    "        drug_like_weights.append(ccd_components[ccd].component.physchem_properties[\"exactmw\"])"
   ]
  },
  {
   "cell_type": "code",
   "execution_count": 130,
   "metadata": {},
   "outputs": [
    {
     "data": {
      "image/png": "[encoded data removed]",
      "text/plain": [
       "<Figure size 640x480 with 1 Axes>"
      ]
     },
     "metadata": {},
     "output_type": "display_data"
    }
   ],
   "source": [
    "meidan_weight = np.median(drug_like_weights)\n",
    "plt.hist(drug_like_weights)\n",
    "plt.axhline(y=meidan_weight, color='r', linestyle='--')\n",
    "plt.xlabel(\"Molecular Weight\")\n",
    "plt.ylabel(\"Frequency\")\n",
    "plt.show()"
   ]
  },
  {
   "cell_type": "code",
   "execution_count": null,
   "metadata": {},
   "outputs": [],
   "source": []
  }
 ],
 "metadata": {
  "kernelspec": {
   "display_name": "Python 3 (ipykernel)",
   "language": "python",
   "name": "python3"
  },
  "language_info": {
   "codemirror_mode": {
    "name": "ipython",
    "version": 3
   },
   "file_extension": ".py",
   "mimetype": "text/x-python",
   "name": "python",
   "nbconvert_exporter": "python",
   "pygments_lexer": "ipython3",
   "version": "3.10.0"
  }
 },
 "nbformat": 4,
 "nbformat_minor": 4
}
