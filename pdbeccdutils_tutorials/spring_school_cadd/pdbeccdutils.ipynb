{
 "cells": [
  {
   "cell_type": "markdown",
   "metadata": {},
   "source": [
    "<a target=\"_blank\" href=\"https://colab.research.google.com/github/PDBeurope/pdbe-notebooks/blob/main/pdbeccdutils_tutorials/spring_school_cadd/pdbeccdutils.ipynb\">\n",
    "  <img src=\"https://colab.research.google.com/assets/colab-badge.svg\" alt=\"Open In Colab\"/>\n",
    "</a>"
   ]
  },
  {
   "cell_type": "markdown",
   "metadata": {},
   "source": [
    "# Introduction"
   ]
  },
  {
   "cell_type": "markdown",
   "metadata": {},
   "source": [
    "PDBe CCDUtils is an open-source python package for processing and analyzing small molecules in the PDB. Small-molecule data in the PDB is available as [Chemical Component Dictionary (CCD)](http://www.wwpdb.org/data/ccd) or [Biologically Interesting Molecule reference Dictioanry (BIRD)](http://www.wwpdb.org/data/bird) in PDBX/mmCIF format. PDBe CCDUtils provides streamlined access to all metadata of small molecules in the PDB and offers a set of convenient methods to compute various properties using RDKIt such as \n",
    "\n",
    "* [Physicochemical properties](#accessing-properties-of-CCD)\n",
    "* [Matching common fragments and scaffolds](#finding-fragments-and-scaffolds)\n",
    "* [Mapping to small-molecule databases using UniChem](#fetching-external-mappings-to-other-databases)\n",
    "* [2D depictions](#2D-Depictions)\n",
    "* [Similarity using PARITY method](#similarity-using-parity-method)\n",
    "* [Export to multiple formats](#export-to-different-formats)\n",
    " \n",
    "\n",
    "PDBe CCDUtils also provides methods for identifying all the Covalently Linked Chemical components (CLC) in a macromolecular structure. To findout more, please refer to the publication [PDBe CCDUtils: an RDKit-based toolkit for handling and analysing small molecules in the Protein Data Bank](https://doi.org/10.1186/s13321-023-00786-w)"
   ]
  },
  {
   "cell_type": "markdown",
   "metadata": {},
   "source": [
    "## Installation of dependencies"
   ]
  },
  {
   "cell_type": "code",
   "execution_count": 3,
   "metadata": {},
   "outputs": [],
   "source": [
    "# %pip install rdkit pdbeccdutils wget"
   ]
  },
  {
   "cell_type": "markdown",
   "metadata": {},
   "source": [
    "## Helper functions"
   ]
  },
  {
   "cell_type": "code",
   "execution_count": 6,
   "metadata": {},
   "outputs": [],
   "source": [
    "import os\n",
    "import gzip\n",
    "import requests\n",
    "from enum import Enum\n",
    "from typing import NamedTuple\n",
    "import pandas as pd\n",
    "from collections import defaultdict\n",
    "from typing import List, Set, Dict\n",
    "from gemmi import cif\n",
    "from pdbeccdutils.core.component import Component"
   ]
  },
  {
   "cell_type": "code",
   "execution_count": 5,
   "metadata": {},
   "outputs": [],
   "source": [
    "PDBECHEM_URL = \"https://ftp.ebi.ac.uk/pub/databases/msd/pdbechem_v2\"\n",
    "ENTRY_URL = \"https://ftp.ebi.ac.uk/pub/databases/msd/updated_mmcif/all\"\n",
    "\n",
    "class ligandType(Enum):\n",
    "    CCD = \"ccd\"\n",
    "    PRD = \"prd\"\n",
    "    CLC = \"clc\"\n",
    "\n",
    "class Subcomponent(NamedTuple):\n",
    "    id: int\n",
    "    name: str\n",
    "    atoms: list[str]\n",
    "\n",
    "\n",
    "def get_ligand_cif(ligand_id: str, ligand_type: ligandType) -> str:\n",
    "    \"\"\"\n",
    "    Downloads and writes ligand CIF from PDBe FTP to a file\n",
    "    and returns the path\n",
    "\n",
    "    Args:\n",
    "        ligand_id: ID of the ligand\n",
    "        ligand_type: Type of ligand\n",
    "    \n",
    "    Returns:\n",
    "        The path to cif file of ligand\n",
    "    \"\"\"\n",
    "    match ligand_type.value:\n",
    "        case \"ccd\":\n",
    "            ligand_dir = os.path.join(\"ccd\", ligand_id[0], ligand_id)\n",
    "        case \"prd\":\n",
    "            ligand_dir = os.path.join(\"prd\", ligand_id[-1],ligand_id)\n",
    "        case \"clc\":\n",
    "            ligand_dir = os.path.join(\"clc\", ligand_id[-1],ligand_id)\n",
    "    try:\n",
    "        ligand_cif_path = os.path.join(PDBECHEM_URL, ligand_dir, f\"{ligand_id}.cif\")\n",
    "        response = requests.get(ligand_cif_path)\n",
    "        assert response.status_code == 200\n",
    "        ligand_cif_file = os.path.join(os.getcwd(), f\"{ligand_id}.cif\")\n",
    "        with open(ligand_cif_file, \"wb\") as fh:\n",
    "            fh.write(response.content)\n",
    "\n",
    "        return ligand_cif_file\n",
    "    except  AssertionError:\n",
    "        print(f\"Couldn't find the file. Check if {ligand_id} & {ligand_type} are valid, if so try again\")\n",
    "\n",
    "\n",
    "def get_entry_cif(pdb_id: str) -> str:\n",
    "    \"\"\"\n",
    "    Downloads and writes PDB entry updated mmCIF to a file and \n",
    "    returns the path\n",
    "\n",
    "    Args:\n",
    "        pdb_id: PDB id of an entry\n",
    "\n",
    "    Returns:\n",
    "        path to the downloaded file\n",
    "    \"\"\"\n",
    "    entry_url = os.path.join(ENTRY_URL, f\"{pdb_id}_updated.cif.gz\")\n",
    "    response = requests.get(entry_url, stream=True)\n",
    "    response.raise_for_status()\n",
    "    with open(f\"{pdb_id}_updated.cif\", \"wb\") as fh:\n",
    "        fh.write(gzip.decompress(response.content))\n",
    "\n",
    "    return f\"{pdb_id}_updated.cif\"\n",
    "\n",
    "\n",
    "def get_subcomponents(component: Component) -> List[Subcomponent]:\n",
    "    \"\"\"\n",
    "    Returns a list of subcomponents present in a \n",
    "    multi-component ligand\n",
    "\n",
    "    Args:\n",
    "        component: Component object of small molecule\n",
    "    \"\"\"\n",
    "    mol = component.mol_no_h\n",
    "    atoms = defaultdict(list)\n",
    "    for atom in mol.GetAtoms():\n",
    "        if not atom.HasProp(\"residue_id\"):\n",
    "            continue\n",
    "        else:\n",
    "            res_id = atom.GetProp(\"residue_id\")\n",
    "            res_info = atom.GetPDBResidueInfo()\n",
    "            res_name = res_info.GetResidueName()\n",
    "            atoms[(res_id, res_name)].append(atom.GetProp(\"name\"))\n",
    "        \n",
    "    subcomponents = [Subcomponent(id=key[0],\n",
    "                                  name = key[1],\n",
    "                                  atoms = values,\n",
    "                                ) for key, values in atoms.items()]\n",
    "    return subcomponents\n"
   ]
  },
  {
   "cell_type": "markdown",
   "metadata": {},
   "source": [
    "## Reading small molecule data"
   ]
  },
  {
   "cell_type": "code",
   "execution_count": 1,
   "metadata": {},
   "outputs": [],
   "source": [
    "from pdbeccdutils.core import ccd_reader"
   ]
  },
  {
   "cell_type": "code",
   "execution_count": 7,
   "metadata": {},
   "outputs": [
    {
     "data": {
      "text/plain": [
       "CCDReaderResult(warnings=[], errors=[], component=<pdbeccdutils.core.component.Component object at 0x7fc8d18cdba0>, sanitized=True)"
      ]
     },
     "execution_count": 7,
     "metadata": {},
     "output_type": "execute_result"
    }
   ],
   "source": [
    "hem_cif = get_ligand_cif(\"HEM\", ligandType.CCD)\n",
    "hem =  ccd_reader.read_pdb_cif_file(hem_cif)\n",
    "hem"
   ]
  },
  {
   "cell_type": "markdown",
   "metadata": {},
   "source": [
    "CCDReaderResult contains a component object - the core structural representation of small-molecules in PDBe CCDUtils. Component is a wrapper around rdkit.Chem.rdchem.Mol object providing most of its functionality and access metada data from CCD file. "
   ]
  },
  {
   "cell_type": "code",
   "execution_count": 8,
   "metadata": {},
   "outputs": [],
   "source": [
    "hem_component = hem.component"
   ]
  },
  {
   "cell_type": "markdown",
   "metadata": {},
   "source": [
    "## Accessing properties of CCD"
   ]
  },
  {
   "cell_type": "markdown",
   "metadata": {},
   "source": [
    "Properties in the CCD file and physicochemical properties generated by RDKit can be accessed using attributes of the Component object"
   ]
  },
  {
   "cell_type": "code",
   "execution_count": 9,
   "metadata": {},
   "outputs": [
    {
     "name": "stdout",
     "output_type": "stream",
     "text": [
      "\n",
      "id: HEM\n",
      "name: PROTOPORPHYRIN IX CONTAINING FE\n",
      "formula: C34 H32 Fe N4 O4\n",
      "inchi: InChI=1S/C34H34N4O4.Fe/c1-7-21-17(3)25-13-26-19(5)23(9-11-33(39)40)31(37-26)16-32-24(10-12-34(41)42)20(6)28(38-32)15-30-22(8-2)18(4)27(36-30)14-29(21)35-25;/h7-8,13-16H,1-2,9-12H2,3-6H3,(H4,35,36,37,38,39,40,41,42);/q;+2/p-2/b25-13-,26-13-,27-14-,28-15-,29-14-,30-15-,31-16-,32-16-;\n",
      "inchikey: KABFMIBPWCXCRK-RGGAHWMASA-L\n",
      "release status: REL\n",
      "modified_date: 2020-06-17\n",
      "\n"
     ]
    }
   ],
   "source": [
    "print(f\"\"\"\n",
    "id: {hem_component.id}\n",
    "name: {hem_component.name}\n",
    "formula: {hem_component.formula}\n",
    "inchi: {hem_component.inchi}\n",
    "inchikey: {hem_component.inchikey}\n",
    "release status: {hem_component.pdbx_release_status.name}\n",
    "modified_date: {hem_component.modified_date}\n",
    "\"\"\")"
   ]
  },
  {
   "cell_type": "code",
   "execution_count": 10,
   "metadata": {},
   "outputs": [
    {
     "data": {
      "text/plain": [
       "[Descriptor(type='SMILES', program='ACDLabs', program_version='12.01', value='C=1c3c(c(c4C=C5C(=C(C=6C=C7C(=C(C8=CC=2C(=C(C=1N=2[Fe](n34)(N5=6)N78)CCC(=O)O)C)\\\\C=C)C)\\\\C=C)C)C)CCC(=O)O'),\n",
       " Descriptor(type='InChI', program='InChI', program_version='1.03', value='InChI=1S/C34H34N4O4.Fe/c1-7-21-17(3)25-13-26-19(5)23(9-11-33(39)40)31(37-26)16-32-24(10-12-34(41)42)20(6)28(38-32)15-30-22(8-2)18(4)27(36-30)14-29(21)35-25;/h7-8,13-16H,1-2,9-12H2,3-6H3,(H4,35,36,37,38,39,40,41,42);/q;+2/p-2/b25-13-,26-13-,27-14-,28-15-,29-14-,30-15-,31-16-,32-16-;'),\n",
       " Descriptor(type='InChIKey', program='InChI', program_version='1.03', value='KABFMIBPWCXCRK-RGGAHWMASA-L'),\n",
       " Descriptor(type='SMILES_CANONICAL', program='CACTVS', program_version='3.385', value='CC1=C(CCC(O)=O)C2=Cc3n4[Fe]5|6|N2=C1C=c7n5c(=CC8=N|6C(=Cc4c(C)c3CCC(O)=O)C(=C8C=C)C)c(C)c7C=C'),\n",
       " Descriptor(type='SMILES', program='CACTVS', program_version='3.385', value='CC1=C(CCC(O)=O)C2=Cc3n4[Fe]5|6|N2=C1C=c7n5c(=CC8=N|6C(=Cc4c(C)c3CCC(O)=O)C(=C8C=C)C)c(C)c7C=C'),\n",
       " Descriptor(type='SMILES_CANONICAL', program='OpenEye OEToolkits', program_version='1.7.6', value='Cc1c2n3c(c1CCC(=O)O)C=C4C(=C(C5=[N]4[Fe]36[N]7=C(C=C8N6C(=C5)C(=C8C)C=C)C(=C(C7=C2)C)C=C)C)CCC(=O)O'),\n",
       " Descriptor(type='SMILES', program='OpenEye OEToolkits', program_version='1.7.6', value='Cc1c2n3c(c1CCC(=O)O)C=C4C(=C(C5=[N]4[Fe]36[N]7=C(C=C8N6C(=C5)C(=C8C)C=C)C(=C(C7=C2)C)C=C)C)CCC(=O)O'),\n",
       " Descriptor(type='SYSTEMATIC NAME', program='OpenEye OEToolkits', program_version='1.6.1', value='3-[(5Z,10Z,14Z,19Z)-18-(2-carboxyethyl)-8,13-bis(ethenyl)-3,7,12,17-tetramethyl-21,23-dihydroporphyrin-2-yl]propanoic acid'),\n",
       " Descriptor(type='SYSTEMATIC NAME', program='ACDLabs', program_version='12.01', value=\"[3,3'-(7,12-diethenyl-3,8,13,17-tetramethylporphyrin-2,18-diyl-kappa~4~N~21~,N~22~,N~23~,N~24~)dipropanoato(2-)]iron\")]"
      ]
     },
     "execution_count": 10,
     "metadata": {},
     "output_type": "execute_result"
    }
   ],
   "source": [
    "hem_component.descriptors"
   ]
  },
  {
   "cell_type": "code",
   "execution_count": 11,
   "metadata": {},
   "outputs": [
    {
     "data": {
      "text/plain": [
       "{'exactmw': 616.177293004001,\n",
       " 'amw': 616.4990000000015,\n",
       " 'lipinskiHBA': 8.0,\n",
       " 'lipinskiHBD': 2.0,\n",
       " 'NumRotatableBonds': 12.0,\n",
       " 'NumHBD': 2.0,\n",
       " 'NumHBA': 8.0,\n",
       " 'NumHeavyAtoms': 43.0,\n",
       " 'NumAtoms': 75.0,\n",
       " 'NumHeteroatoms': 9.0,\n",
       " 'NumAmideBonds': 0.0,\n",
       " 'FractionCSP3': 0.23529411764705882,\n",
       " 'NumRings': 6.0,\n",
       " 'NumAromaticRings': 2.0,\n",
       " 'NumAliphaticRings': 4.0,\n",
       " 'NumSaturatedRings': 0.0,\n",
       " 'NumHeterocycles': 6.0,\n",
       " 'NumAromaticHeterocycles': 2.0,\n",
       " 'NumSaturatedHeterocycles': 0.0,\n",
       " 'NumAliphaticHeterocycles': 4.0,\n",
       " 'NumSpiroAtoms': 0.0,\n",
       " 'NumBridgeheadAtoms': 6.0,\n",
       " 'NumAtomStereoCenters': 1.0,\n",
       " 'NumUnspecifiedAtomStereoCenters': 0.0,\n",
       " 'labuteASA': 296.33725284003606,\n",
       " 'tpsa': 96.26000000000002,\n",
       " 'CrippenClogP': 6.210060000000007,\n",
       " 'CrippenMR': 165.27259999999967,\n",
       " 'chi0v': 21.879585517566603,\n",
       " 'chi1v': 13.71303192500862,\n",
       " 'chi2v': 11.67144422171997,\n",
       " 'chi3v': 11.67144422171997,\n",
       " 'chi4v': 10.931337280412357,\n",
       " 'chi0n': 52.775400934448555,\n",
       " 'chi1n': 27.554303075888956,\n",
       " 'chi2n': 7.046175792189254,\n",
       " 'chi3n': 7.046175792189254,\n",
       " 'chi4n': 5.474853708651833,\n",
       " 'hallKierAlpha': -4.460519480519479,\n",
       " 'kappa1': 9.033095446276976,\n",
       " 'kappa2': 8.336182650117628,\n",
       " 'kappa3': 2.8255702357007864,\n",
       " 'Phi': 1.7511984543281554}"
      ]
     },
     "execution_count": 11,
     "metadata": {},
     "output_type": "execute_result"
    }
   ],
   "source": [
    "hem_component.physchem_properties"
   ]
  },
  {
   "cell_type": "markdown",
   "metadata": {},
   "source": [
    "## Fetching external mappings to other databases"
   ]
  },
  {
   "cell_type": "code",
   "execution_count": 12,
   "metadata": {},
   "outputs": [
    {
     "data": {
      "text/plain": [
       "[('BRENDA', '228486'),\n",
       " ('MedChemExpress', 'HY-111914A'),\n",
       " ('BRENDA', '228485'),\n",
       " ('BRENDA', '135197'),\n",
       " ('PDBe', 'HEM'),\n",
       " ('SureChEMBL', 'SCHEMBL4008'),\n",
       " ('ChEBI', '17627'),\n",
       " ('DrugBank', 'DB18267'),\n",
       " ('ChEBI', '26355'),\n",
       " ('fdasrs', '42VZT0U6YR'),\n",
       " ('PubChem TPHARMA', '14912106'),\n",
       " ('Probes And Drugs', 'PD158908'),\n",
       " ('BRENDA', '1517'),\n",
       " ('BRENDA', '8254'),\n",
       " ('BRENDA', '143348'),\n",
       " ('BRENDA', '822'),\n",
       " ('BRENDA', '211503'),\n",
       " ('BRENDA', '144129'),\n",
       " ('MetaboLights', 'MTBLC26355'),\n",
       " ('MetaboLights', 'MTBLC17627'),\n",
       " ('BRENDA', '3360'),\n",
       " ('BRENDA', '30062'),\n",
       " ('BRENDA', '48'),\n",
       " ('EPA CompTox Dashboard', 'DTXSID90889386'),\n",
       " ('HMDB', 'HMDB0003178')]"
      ]
     },
     "execution_count": 12,
     "metadata": {},
     "output_type": "execute_result"
    }
   ],
   "source": [
    "external_mappings = hem_component.fetch_external_mappings(all_mappings=True)\n",
    "external_mappings"
   ]
  },
  {
   "cell_type": "markdown",
   "metadata": {},
   "source": [
    "## Finding fragments"
   ]
  },
  {
   "cell_type": "markdown",
   "metadata": {},
   "source": [
    "PDBe CCDUtils supports search for fragments present in a small molecule from a library of fragments. The fragment library present in PDBe CCDUtils contains 2158 fragments which were manually currated at PDBe and collaborating resources (ENAMINE, DSI). Should you wish to check all the fragments, please check [fragment_library.tsv](https://github.com/PDBeurope/ccdutils/blob/master/pdbeccdutils/data/fragment_library.tsv) file."
   ]
  },
  {
   "cell_type": "code",
   "execution_count": 13,
   "metadata": {},
   "outputs": [],
   "source": [
    "from pdbeccdutils.core.fragment_library import FragmentLibrary\n",
    "from rdkit.Chem import Draw"
   ]
  },
  {
   "cell_type": "code",
   "execution_count": 14,
   "metadata": {},
   "outputs": [],
   "source": [
    "fragment_library = FragmentLibrary()"
   ]
  },
  {
   "cell_type": "code",
   "execution_count": 15,
   "metadata": {},
   "outputs": [
    {
     "name": "stdout",
     "output_type": "stream",
     "text": [
      "No of fragments found: 2\n"
     ]
    }
   ],
   "source": [
    "fragment_matches = hem_component.library_search(fragment_library)\n",
    "print(f\"No of fragments found: {len(fragment_matches)}\")"
   ]
  },
  {
   "cell_type": "code",
   "execution_count": 16,
   "metadata": {},
   "outputs": [
    {
     "data": {
      "text/plain": [
       "[SubstructureMapping(name='porphin-like', mol=<rdkit.Chem.rdchem.Mol object at 0x7fc8d192c040>, source='PDBe', mappings=((5, 6, 7, 1, 14, 39, 17, 16, 15, 2, 21, 40, 24, 3, 28, 41, 31, 0, 4, 38, 30, 29, 23, 22),)),\n",
       " SubstructureMapping(name='pyrrole', mol=<rdkit.Chem.rdchem.Mol object at 0x7fc8d192c7b0>, source='PDBe', mappings=((4, 5, 6, 7, 38), (21, 22, 23, 24, 40)))]"
      ]
     },
     "execution_count": 16,
     "metadata": {},
     "output_type": "execute_result"
    }
   ],
   "source": [
    "fragment_matches"
   ]
  },
  {
   "cell_type": "code",
   "execution_count": 17,
   "metadata": {},
   "outputs": [
    {
     "data": {
      "image/png": "[encoded data removed]",
      "text/plain": [
       "<IPython.core.display.Image object>"
      ]
     },
     "execution_count": 17,
     "metadata": {},
     "output_type": "execute_result"
    }
   ],
   "source": [
    "fragment_mols = [fragment.mol for fragment in hem_component.fragments]\n",
    "img = Draw.MolsToGridImage(fragment_mols, legends = [fragment.name for fragment in hem_component.fragments])\n",
    "img"
   ]
  },
  {
   "cell_type": "markdown",
   "metadata": {},
   "source": [
    "## Finding scaffolds"
   ]
  },
  {
   "cell_type": "markdown",
   "metadata": {},
   "source": [
    "PDBe CCDUtils supports identification of scaffolds of small moelcules in PDB using the RDKit functionality. Currently it supports three types of scaffolding methods\n",
    "* MurckoScaffold\n",
    "* MurckoScaffoldGeneric\n",
    "* BRICS"
   ]
  },
  {
   "cell_type": "code",
   "execution_count": 18,
   "metadata": {},
   "outputs": [],
   "source": [
    "from pdbeccdutils.core.models import ScaffoldingMethod"
   ]
  },
  {
   "cell_type": "code",
   "execution_count": 19,
   "metadata": {},
   "outputs": [],
   "source": [
    "murcko_scaffolds = hem_component.get_scaffolds(scaffolding_method = ScaffoldingMethod.MurckoScaffold)\n",
    "generic_murcko_scaffolds = hem_component.get_scaffolds(scaffolding_method = ScaffoldingMethod.MurckoGeneric)\n",
    "brics_scaffolds = hem_component.get_scaffolds(scaffolding_method=ScaffoldingMethod.Brics)"
   ]
  },
  {
   "cell_type": "code",
   "execution_count": 20,
   "metadata": {},
   "outputs": [
    {
     "data": {
      "image/png": "[encoded data removed]",
      "text/plain": [
       "<rdkit.Chem.rdchem.Mol at 0x7fc8c16d9e70>"
      ]
     },
     "execution_count": 20,
     "metadata": {},
     "output_type": "execute_result"
    }
   ],
   "source": [
    "murcko_scaffolds[0]"
   ]
  },
  {
   "cell_type": "markdown",
   "metadata": {},
   "source": [
    "## 2D Depictions"
   ]
  },
  {
   "cell_type": "markdown",
   "metadata": {},
   "source": [
    "PDBe CCDUtils uses [template-based](https://rdkit.org/docs/source/rdkit.Chem.rdDepictor.html#rdkit.Chem.rdDepictor.GenerateDepictionMatching2DStructure) and [connectivity based](https://rdkit.org/docs/source/rdkit.Chem.rdCoordGen.html) methods from RDKit to generate 2D depictions of small moelcules. Templates can either be downloaded from PubChem or provided as a path to a folder containing SDF files. A hand-curated set of [ten templates](https://github.com/PDBeurope/ccdutils/tree/master/pdbeccdutils/data/general_templates) are also provided with PDBe CCDUtils\n",
    "\n",
    "To find the best depiction of a small molecule, a heuristic-based Depiction Penalty Score (DPS) is defined. A DPS of zero indicates a high-quality 2D depiction, while higher scores indicate lower quality."
   ]
  },
  {
   "cell_type": "code",
   "execution_count": 21,
   "metadata": {},
   "outputs": [
    {
     "data": {
      "image/png": "[encoded data removed]",
      "text/plain": [
       "<rdkit.Chem.rdchem.Mol at 0x7fc8d18c5690>"
      ]
     },
     "execution_count": 21,
     "metadata": {},
     "output_type": "execute_result"
    }
   ],
   "source": [
    "hem_component.mol"
   ]
  },
  {
   "cell_type": "code",
   "execution_count": 22,
   "metadata": {},
   "outputs": [],
   "source": [
    "from pdbeccdutils.core.depictions import DepictionManager\n",
    "from pdbeccdutils.utils.pubchem_downloader import PubChemDownloader\n",
    "from IPython.core.display import SVG"
   ]
  },
  {
   "cell_type": "code",
   "execution_count": 23,
   "metadata": {},
   "outputs": [],
   "source": [
    "pubchem_templates = os.getcwd()\n",
    "pubchem_downloader = PubChemDownloader(pubchem_templates)"
   ]
  },
  {
   "cell_type": "code",
   "execution_count": 24,
   "metadata": {},
   "outputs": [
    {
     "name": "stderr",
     "output_type": "stream",
     "text": [
      "[18:48:31] Warning: molecule is tagged as 2D, but at least one Z coordinate is not zero. Marking the mol as 3D.\n"
     ]
    },
    {
     "data": {
      "text/plain": [
       "DepictionResult(source=<DepictionSource.Template: 2>, template_name='hem', mol=<rdkit.Chem.rdchem.RWMol object at 0x7fc8d1921120>, score=0.0)"
      ]
     },
     "execution_count": 24,
     "metadata": {},
     "output_type": "execute_result"
    }
   ],
   "source": [
    "pubchem_downloader.process_template(hem_component)\n",
    "depictions = DepictionManager(pubchem_templates)\n",
    "depiction_result = hem_component.compute_2d(depictions)\n",
    "depiction_result"
   ]
  },
  {
   "cell_type": "code",
   "execution_count": 25,
   "metadata": {},
   "outputs": [
    {
     "data": {
      "image/png": "[encoded data removed]",
      "text/plain": [
       "<rdkit.Chem.rdchem.RWMol at 0x7fc8d1921120>"
      ]
     },
     "execution_count": 25,
     "metadata": {},
     "output_type": "execute_result"
    }
   ],
   "source": [
    "hem_component.mol2D"
   ]
  },
  {
   "cell_type": "code",
   "execution_count": 26,
   "metadata": {},
   "outputs": [],
   "source": [
    "hem_component.export_2d_svg(\"hem.svg\", width=400)"
   ]
  },
  {
   "cell_type": "code",
   "execution_count": 27,
   "metadata": {},
   "outputs": [
    {
     "data": {
      "image/svg+xml": [
       "<svg xmlns=\"http://www.w3.org/2000/svg\" xmlns:rdkit=\"http://www.rdkit.org/xml\" xmlns:xlink=\"http://www.w3.org/1999/xlink\" version=\"1.1\" baseProfile=\"full\" xml:space=\"preserve\" width=\"400px\" height=\"400px\" viewBox=\"0 0 400 400\">\n",
       "<!-- END OF HEADER -->\n",
       "<rect style=\"opacity:1.0;fill:#FFFFFF;stroke:none\" width=\"400.0\" height=\"400.0\" x=\"0.0\" y=\"0.0\"> </rect>\n",
       "<path class=\"bond-0 atom-0 atom-4\" d=\"M 133.3,200.2 L 152.0,168.3\" style=\"fill:none;fill-rule:evenodd;stroke:#000000;stroke-width:2.0px;stroke-linecap:butt;stroke-linejoin:miter;stroke-opacity:1\"/>\n",
       "<path class=\"bond-1 atom-0 atom-31\" d=\"M 133.3,200.2 L 152.0,232.1\" style=\"fill:none;fill-rule:evenodd;stroke:#000000;stroke-width:2.0px;stroke-linecap:butt;stroke-linejoin:miter;stroke-opacity:1\"/>\n",
       "<path class=\"bond-1 atom-0 atom-31\" d=\"M 140.0,200.2 L 155.7,226.9\" style=\"fill:none;fill-rule:evenodd;stroke:#000000;stroke-width:2.0px;stroke-linecap:butt;stroke-linejoin:miter;stroke-opacity:1\"/>\n",
       "<path class=\"bond-2 atom-1 atom-7\" d=\"M 226.1,106.4 L 194.2,125.2\" style=\"fill:none;fill-rule:evenodd;stroke:#000000;stroke-width:2.0px;stroke-linecap:butt;stroke-linejoin:miter;stroke-opacity:1\"/>\n",
       "<path class=\"bond-3 atom-1 atom-14\" d=\"M 226.1,106.4 L 258.9,125.2\" style=\"fill:none;fill-rule:evenodd;stroke:#000000;stroke-width:2.0px;stroke-linecap:butt;stroke-linejoin:miter;stroke-opacity:1\"/>\n",
       "<path class=\"bond-3 atom-1 atom-14\" d=\"M 226.2,113.1 L 253.6,128.8\" style=\"fill:none;fill-rule:evenodd;stroke:#000000;stroke-width:2.0px;stroke-linecap:butt;stroke-linejoin:miter;stroke-opacity:1\"/>\n",
       "<path class=\"bond-4 atom-2 atom-17\" d=\"M 319.9,200.2 L 301.1,168.3\" style=\"fill:none;fill-rule:evenodd;stroke:#000000;stroke-width:2.0px;stroke-linecap:butt;stroke-linejoin:miter;stroke-opacity:1\"/>\n",
       "<path class=\"bond-5 atom-2 atom-21\" d=\"M 319.9,200.2 L 301.1,232.1\" style=\"fill:none;fill-rule:evenodd;stroke:#000000;stroke-width:2.0px;stroke-linecap:butt;stroke-linejoin:miter;stroke-opacity:1\"/>\n",
       "<path class=\"bond-5 atom-2 atom-21\" d=\"M 313.2,200.2 L 297.5,226.9\" style=\"fill:none;fill-rule:evenodd;stroke:#000000;stroke-width:2.0px;stroke-linecap:butt;stroke-linejoin:miter;stroke-opacity:1\"/>\n",
       "<path class=\"bond-6 atom-3 atom-24\" d=\"M 226.1,294.0 L 258.9,275.2\" style=\"fill:none;fill-rule:evenodd;stroke:#000000;stroke-width:2.0px;stroke-linecap:butt;stroke-linejoin:miter;stroke-opacity:1\"/>\n",
       "<path class=\"bond-6 atom-3 atom-24\" d=\"M 226.2,287.3 L 253.6,271.6\" style=\"fill:none;fill-rule:evenodd;stroke:#000000;stroke-width:2.0px;stroke-linecap:butt;stroke-linejoin:miter;stroke-opacity:1\"/>\n",
       "<path class=\"bond-7 atom-3 atom-28\" d=\"M 226.1,294.0 L 194.2,275.2\" style=\"fill:none;fill-rule:evenodd;stroke:#000000;stroke-width:2.0px;stroke-linecap:butt;stroke-linejoin:miter;stroke-opacity:1\"/>\n",
       "<path class=\"bond-8 atom-4 atom-5\" d=\"M 152.0,168.3 L 135.2,134.6\" style=\"fill:none;fill-rule:evenodd;stroke:#000000;stroke-width:2.0px;stroke-linecap:butt;stroke-linejoin:miter;stroke-opacity:1\"/>\n",
       "<path class=\"bond-8 atom-4 atom-5\" d=\"M 155.3,161.9 L 142.2,135.7\" style=\"fill:none;fill-rule:evenodd;stroke:#000000;stroke-width:2.0px;stroke-linecap:butt;stroke-linejoin:miter;stroke-opacity:1\"/>\n",
       "<path class=\"bond-9 atom-4 atom-38\" d=\"M 152.0,168.3 L 167.7,165.5\" style=\"fill:none;fill-rule:evenodd;stroke:#000000;stroke-width:2.0px;stroke-linecap:butt;stroke-linejoin:miter;stroke-opacity:1\"/>\n",
       "<path class=\"bond-9 atom-4 atom-38\" d=\"M 167.7,165.5 L 183.4,162.7\" style=\"fill:none;fill-rule:evenodd;stroke:#0000FF;stroke-width:2.0px;stroke-linecap:butt;stroke-linejoin:miter;stroke-opacity:1\"/>\n",
       "<path class=\"bond-10 atom-5 atom-6\" d=\"M 135.2,134.6 L 161.4,108.3\" style=\"fill:none;fill-rule:evenodd;stroke:#000000;stroke-width:2.0px;stroke-linecap:butt;stroke-linejoin:miter;stroke-opacity:1\"/>\n",
       "<path class=\"bond-11 atom-5 atom-9\" d=\"M 135.2,134.6 L 97.9,128.4\" style=\"fill:none;fill-rule:evenodd;stroke:#000000;stroke-width:2.0px;stroke-linecap:butt;stroke-linejoin:miter;stroke-opacity:1\"/>\n",
       "<path class=\"bond-12 atom-6 atom-7\" d=\"M 161.4,108.3 L 194.2,125.2\" style=\"fill:none;fill-rule:evenodd;stroke:#000000;stroke-width:2.0px;stroke-linecap:butt;stroke-linejoin:miter;stroke-opacity:1\"/>\n",
       "<path class=\"bond-12 atom-6 atom-7\" d=\"M 162.5,115.4 L 187.9,128.4\" style=\"fill:none;fill-rule:evenodd;stroke:#000000;stroke-width:2.0px;stroke-linecap:butt;stroke-linejoin:miter;stroke-opacity:1\"/>\n",
       "<path class=\"bond-13 atom-6 atom-8\" d=\"M 161.4,108.3 L 155.6,71.6\" style=\"fill:none;fill-rule:evenodd;stroke:#000000;stroke-width:2.0px;stroke-linecap:butt;stroke-linejoin:miter;stroke-opacity:1\"/>\n",
       "<path class=\"bond-14 atom-7 atom-38\" d=\"M 194.2,125.2 L 191.9,140.2\" style=\"fill:none;fill-rule:evenodd;stroke:#000000;stroke-width:2.0px;stroke-linecap:butt;stroke-linejoin:miter;stroke-opacity:1\"/>\n",
       "<path class=\"bond-14 atom-7 atom-38\" d=\"M 191.9,140.2 L 189.6,155.2\" style=\"fill:none;fill-rule:evenodd;stroke:#0000FF;stroke-width:2.0px;stroke-linecap:butt;stroke-linejoin:miter;stroke-opacity:1\"/>\n",
       "<path class=\"bond-15 atom-9 atom-10\" d=\"M 97.9,128.4 L 84.9,93.7\" style=\"fill:none;fill-rule:evenodd;stroke:#000000;stroke-width:2.0px;stroke-linecap:butt;stroke-linejoin:miter;stroke-opacity:1\"/>\n",
       "<path class=\"bond-16 atom-10 atom-11\" d=\"M 84.9,93.7 L 48.4,87.6\" style=\"fill:none;fill-rule:evenodd;stroke:#000000;stroke-width:2.0px;stroke-linecap:butt;stroke-linejoin:miter;stroke-opacity:1\"/>\n",
       "<path class=\"bond-17 atom-11 atom-12\" d=\"M 47.2,84.5 L 37.6,96.2\" style=\"fill:none;fill-rule:evenodd;stroke:#000000;stroke-width:2.0px;stroke-linecap:butt;stroke-linejoin:miter;stroke-opacity:1\"/>\n",
       "<path class=\"bond-17 atom-11 atom-12\" d=\"M 37.6,96.2 L 28.0,107.8\" style=\"fill:none;fill-rule:evenodd;stroke:#FF0000;stroke-width:2.0px;stroke-linecap:butt;stroke-linejoin:miter;stroke-opacity:1\"/>\n",
       "<path class=\"bond-17 atom-11 atom-12\" d=\"M 51.6,88.2 L 42.1,99.8\" style=\"fill:none;fill-rule:evenodd;stroke:#000000;stroke-width:2.0px;stroke-linecap:butt;stroke-linejoin:miter;stroke-opacity:1\"/>\n",
       "<path class=\"bond-17 atom-11 atom-12\" d=\"M 42.1,99.8 L 32.5,111.5\" style=\"fill:none;fill-rule:evenodd;stroke:#FF0000;stroke-width:2.0px;stroke-linecap:butt;stroke-linejoin:miter;stroke-opacity:1\"/>\n",
       "<path class=\"bond-18 atom-11 atom-13\" d=\"M 48.4,87.6 L 43.1,73.7\" style=\"fill:none;fill-rule:evenodd;stroke:#000000;stroke-width:2.0px;stroke-linecap:butt;stroke-linejoin:miter;stroke-opacity:1\"/>\n",
       "<path class=\"bond-18 atom-11 atom-13\" d=\"M 43.1,73.7 L 37.9,59.7\" style=\"fill:none;fill-rule:evenodd;stroke:#FF0000;stroke-width:2.0px;stroke-linecap:butt;stroke-linejoin:miter;stroke-opacity:1\"/>\n",
       "<path class=\"bond-19 atom-14 atom-15\" d=\"M 258.9,125.2 L 291.8,108.3\" style=\"fill:none;fill-rule:evenodd;stroke:#000000;stroke-width:2.0px;stroke-linecap:butt;stroke-linejoin:miter;stroke-opacity:1\"/>\n",
       "<path class=\"bond-20 atom-14 atom-39\" d=\"M 258.9,125.2 L 261.3,140.2\" style=\"fill:none;fill-rule:evenodd;stroke:#000000;stroke-width:2.0px;stroke-linecap:butt;stroke-linejoin:miter;stroke-opacity:1\"/>\n",
       "<path class=\"bond-20 atom-14 atom-39\" d=\"M 261.3,140.2 L 263.6,155.2\" style=\"fill:none;fill-rule:evenodd;stroke:#0000FF;stroke-width:2.0px;stroke-linecap:butt;stroke-linejoin:miter;stroke-opacity:1\"/>\n",
       "<path class=\"bond-21 atom-15 atom-16\" d=\"M 291.8,108.3 L 319.0,134.6\" style=\"fill:none;fill-rule:evenodd;stroke:#000000;stroke-width:2.0px;stroke-linecap:butt;stroke-linejoin:miter;stroke-opacity:1\"/>\n",
       "<path class=\"bond-21 atom-15 atom-16\" d=\"M 290.7,115.4 L 311.8,135.7\" style=\"fill:none;fill-rule:evenodd;stroke:#000000;stroke-width:2.0px;stroke-linecap:butt;stroke-linejoin:miter;stroke-opacity:1\"/>\n",
       "<path class=\"bond-22 atom-15 atom-18\" d=\"M 291.8,108.3 L 297.4,71.8\" style=\"fill:none;fill-rule:evenodd;stroke:#000000;stroke-width:2.0px;stroke-linecap:butt;stroke-linejoin:miter;stroke-opacity:1\"/>\n",
       "<path class=\"bond-23 atom-16 atom-17\" d=\"M 319.0,134.6 L 301.1,168.3\" style=\"fill:none;fill-rule:evenodd;stroke:#000000;stroke-width:2.0px;stroke-linecap:butt;stroke-linejoin:miter;stroke-opacity:1\"/>\n",
       "<path class=\"bond-24 atom-16 atom-19\" d=\"M 319.0,134.6 L 356.2,128.0\" style=\"fill:none;fill-rule:evenodd;stroke:#000000;stroke-width:2.0px;stroke-linecap:butt;stroke-linejoin:miter;stroke-opacity:1\"/>\n",
       "<path class=\"bond-25 atom-17 atom-39\" d=\"M 301.1,168.3 L 285.5,165.5\" style=\"fill:none;fill-rule:evenodd;stroke:#000000;stroke-width:2.0px;stroke-linecap:butt;stroke-linejoin:miter;stroke-opacity:1\"/>\n",
       "<path class=\"bond-25 atom-17 atom-39\" d=\"M 285.5,165.5 L 269.8,162.7\" style=\"fill:none;fill-rule:evenodd;stroke:#0000FF;stroke-width:2.0px;stroke-linecap:butt;stroke-linejoin:miter;stroke-opacity:1\"/>\n",
       "<path class=\"bond-25 atom-17 atom-39\" d=\"M 298.0,161.9 L 284.4,159.5\" style=\"fill:none;fill-rule:evenodd;stroke:#000000;stroke-width:2.0px;stroke-linecap:butt;stroke-linejoin:miter;stroke-opacity:1\"/>\n",
       "<path class=\"bond-25 atom-17 atom-39\" d=\"M 284.4,159.5 L 270.8,157.0\" style=\"fill:none;fill-rule:evenodd;stroke:#0000FF;stroke-width:2.0px;stroke-linecap:butt;stroke-linejoin:miter;stroke-opacity:1\"/>\n",
       "<path class=\"bond-26 atom-19 atom-20\" d=\"M 356.2,128.0 L 380.0,156.4\" style=\"fill:none;fill-rule:evenodd;stroke:#000000;stroke-width:2.0px;stroke-linecap:butt;stroke-linejoin:miter;stroke-opacity:1\"/>\n",
       "<path class=\"bond-26 atom-19 atom-20\" d=\"M 353.9,134.3 L 375.6,160.1\" style=\"fill:none;fill-rule:evenodd;stroke:#000000;stroke-width:2.0px;stroke-linecap:butt;stroke-linejoin:miter;stroke-opacity:1\"/>\n",
       "<path class=\"bond-27 atom-21 atom-22\" d=\"M 301.1,232.1 L 319.0,265.9\" style=\"fill:none;fill-rule:evenodd;stroke:#000000;stroke-width:2.0px;stroke-linecap:butt;stroke-linejoin:miter;stroke-opacity:1\"/>\n",
       "<path class=\"bond-28 atom-21 atom-40\" d=\"M 301.1,232.1 L 285.5,234.9\" style=\"fill:none;fill-rule:evenodd;stroke:#000000;stroke-width:2.0px;stroke-linecap:butt;stroke-linejoin:miter;stroke-opacity:1\"/>\n",
       "<path class=\"bond-28 atom-21 atom-40\" d=\"M 285.5,234.9 L 269.8,237.7\" style=\"fill:none;fill-rule:evenodd;stroke:#0000FF;stroke-width:2.0px;stroke-linecap:butt;stroke-linejoin:miter;stroke-opacity:1\"/>\n",
       "<path class=\"bond-29 atom-22 atom-23\" d=\"M 319.0,265.9 L 291.8,292.1\" style=\"fill:none;fill-rule:evenodd;stroke:#000000;stroke-width:2.0px;stroke-linecap:butt;stroke-linejoin:miter;stroke-opacity:1\"/>\n",
       "<path class=\"bond-29 atom-22 atom-23\" d=\"M 311.8,264.7 L 290.7,285.1\" style=\"fill:none;fill-rule:evenodd;stroke:#000000;stroke-width:2.0px;stroke-linecap:butt;stroke-linejoin:miter;stroke-opacity:1\"/>\n",
       "<path class=\"bond-30 atom-22 atom-25\" d=\"M 319.0,265.9 L 356.7,271.3\" style=\"fill:none;fill-rule:evenodd;stroke:#000000;stroke-width:2.0px;stroke-linecap:butt;stroke-linejoin:miter;stroke-opacity:1\"/>\n",
       "<path class=\"bond-31 atom-23 atom-24\" d=\"M 291.8,292.1 L 258.9,275.2\" style=\"fill:none;fill-rule:evenodd;stroke:#000000;stroke-width:2.0px;stroke-linecap:butt;stroke-linejoin:miter;stroke-opacity:1\"/>\n",
       "<path class=\"bond-32 atom-23 atom-26\" d=\"M 291.8,292.1 L 297.0,329.6\" style=\"fill:none;fill-rule:evenodd;stroke:#000000;stroke-width:2.0px;stroke-linecap:butt;stroke-linejoin:miter;stroke-opacity:1\"/>\n",
       "<path class=\"bond-33 atom-24 atom-40\" d=\"M 258.9,275.2 L 261.3,260.2\" style=\"fill:none;fill-rule:evenodd;stroke:#000000;stroke-width:2.0px;stroke-linecap:butt;stroke-linejoin:miter;stroke-opacity:1\"/>\n",
       "<path class=\"bond-33 atom-24 atom-40\" d=\"M 261.3,260.2 L 263.6,245.2\" style=\"fill:none;fill-rule:evenodd;stroke:#0000FF;stroke-width:2.0px;stroke-linecap:butt;stroke-linejoin:miter;stroke-opacity:1\"/>\n",
       "<path class=\"bond-34 atom-26 atom-27\" d=\"M 297.0,329.6 L 267.8,352.4\" style=\"fill:none;fill-rule:evenodd;stroke:#000000;stroke-width:2.0px;stroke-linecap:butt;stroke-linejoin:miter;stroke-opacity:1\"/>\n",
       "<path class=\"bond-34 atom-26 atom-27\" d=\"M 290.8,327.0 L 264.3,347.8\" style=\"fill:none;fill-rule:evenodd;stroke:#000000;stroke-width:2.0px;stroke-linecap:butt;stroke-linejoin:miter;stroke-opacity:1\"/>\n",
       "<path class=\"bond-35 atom-28 atom-29\" d=\"M 194.2,275.2 L 161.4,292.1\" style=\"fill:none;fill-rule:evenodd;stroke:#000000;stroke-width:2.0px;stroke-linecap:butt;stroke-linejoin:miter;stroke-opacity:1\"/>\n",
       "<path class=\"bond-36 atom-28 atom-41\" d=\"M 194.2,275.2 L 191.9,260.2\" style=\"fill:none;fill-rule:evenodd;stroke:#000000;stroke-width:2.0px;stroke-linecap:butt;stroke-linejoin:miter;stroke-opacity:1\"/>\n",
       "<path class=\"bond-36 atom-28 atom-41\" d=\"M 191.9,260.2 L 189.6,245.2\" style=\"fill:none;fill-rule:evenodd;stroke:#0000FF;stroke-width:2.0px;stroke-linecap:butt;stroke-linejoin:miter;stroke-opacity:1\"/>\n",
       "<path class=\"bond-36 atom-28 atom-41\" d=\"M 187.9,272.0 L 185.9,259.0\" style=\"fill:none;fill-rule:evenodd;stroke:#000000;stroke-width:2.0px;stroke-linecap:butt;stroke-linejoin:miter;stroke-opacity:1\"/>\n",
       "<path class=\"bond-36 atom-28 atom-41\" d=\"M 185.9,259.0 L 183.9,246.1\" style=\"fill:none;fill-rule:evenodd;stroke:#0000FF;stroke-width:2.0px;stroke-linecap:butt;stroke-linejoin:miter;stroke-opacity:1\"/>\n",
       "<path class=\"bond-37 atom-29 atom-30\" d=\"M 161.4,292.1 L 135.2,265.9\" style=\"fill:none;fill-rule:evenodd;stroke:#000000;stroke-width:2.0px;stroke-linecap:butt;stroke-linejoin:miter;stroke-opacity:1\"/>\n",
       "<path class=\"bond-37 atom-29 atom-30\" d=\"M 162.5,285.0 L 142.2,264.7\" style=\"fill:none;fill-rule:evenodd;stroke:#000000;stroke-width:2.0px;stroke-linecap:butt;stroke-linejoin:miter;stroke-opacity:1\"/>\n",
       "<path class=\"bond-38 atom-29 atom-32\" d=\"M 161.4,292.1 L 155.8,328.6\" style=\"fill:none;fill-rule:evenodd;stroke:#000000;stroke-width:2.0px;stroke-linecap:butt;stroke-linejoin:miter;stroke-opacity:1\"/>\n",
       "<path class=\"bond-39 atom-30 atom-31\" d=\"M 135.2,265.9 L 152.0,232.1\" style=\"fill:none;fill-rule:evenodd;stroke:#000000;stroke-width:2.0px;stroke-linecap:butt;stroke-linejoin:miter;stroke-opacity:1\"/>\n",
       "<path class=\"bond-40 atom-30 atom-33\" d=\"M 135.2,265.9 L 98.5,271.7\" style=\"fill:none;fill-rule:evenodd;stroke:#000000;stroke-width:2.0px;stroke-linecap:butt;stroke-linejoin:miter;stroke-opacity:1\"/>\n",
       "<path class=\"bond-41 atom-31 atom-41\" d=\"M 152.0,232.1 L 167.7,234.9\" style=\"fill:none;fill-rule:evenodd;stroke:#000000;stroke-width:2.0px;stroke-linecap:butt;stroke-linejoin:miter;stroke-opacity:1\"/>\n",
       "<path class=\"bond-41 atom-31 atom-41\" d=\"M 167.7,234.9 L 183.4,237.7\" style=\"fill:none;fill-rule:evenodd;stroke:#0000FF;stroke-width:2.0px;stroke-linecap:butt;stroke-linejoin:miter;stroke-opacity:1\"/>\n",
       "<path class=\"bond-42 atom-33 atom-34\" d=\"M 98.5,271.7 L 85.2,306.3\" style=\"fill:none;fill-rule:evenodd;stroke:#000000;stroke-width:2.0px;stroke-linecap:butt;stroke-linejoin:miter;stroke-opacity:1\"/>\n",
       "<path class=\"bond-43 atom-34 atom-35\" d=\"M 85.2,306.3 L 48.6,312.1\" style=\"fill:none;fill-rule:evenodd;stroke:#000000;stroke-width:2.0px;stroke-linecap:butt;stroke-linejoin:miter;stroke-opacity:1\"/>\n",
       "<path class=\"bond-44 atom-35 atom-36\" d=\"M 51.9,311.5 L 42.4,299.9\" style=\"fill:none;fill-rule:evenodd;stroke:#000000;stroke-width:2.0px;stroke-linecap:butt;stroke-linejoin:miter;stroke-opacity:1\"/>\n",
       "<path class=\"bond-44 atom-35 atom-36\" d=\"M 42.4,299.9 L 33.0,288.2\" style=\"fill:none;fill-rule:evenodd;stroke:#FF0000;stroke-width:2.0px;stroke-linecap:butt;stroke-linejoin:miter;stroke-opacity:1\"/>\n",
       "<path class=\"bond-44 atom-35 atom-36\" d=\"M 47.4,315.2 L 37.9,303.5\" style=\"fill:none;fill-rule:evenodd;stroke:#000000;stroke-width:2.0px;stroke-linecap:butt;stroke-linejoin:miter;stroke-opacity:1\"/>\n",
       "<path class=\"bond-44 atom-35 atom-36\" d=\"M 37.9,303.5 L 28.5,291.8\" style=\"fill:none;fill-rule:evenodd;stroke:#FF0000;stroke-width:2.0px;stroke-linecap:butt;stroke-linejoin:miter;stroke-opacity:1\"/>\n",
       "<path class=\"bond-45 atom-35 atom-37\" d=\"M 48.6,312.1 L 43.2,326.1\" style=\"fill:none;fill-rule:evenodd;stroke:#000000;stroke-width:2.0px;stroke-linecap:butt;stroke-linejoin:miter;stroke-opacity:1\"/>\n",
       "<path class=\"bond-45 atom-35 atom-37\" d=\"M 43.2,326.1 L 37.8,340.1\" style=\"fill:none;fill-rule:evenodd;stroke:#FF0000;stroke-width:2.0px;stroke-linecap:butt;stroke-linejoin:miter;stroke-opacity:1\"/>\n",
       "<path class=\"bond-46 atom-42 atom-38\" d=\"M 219.8,193.7 L 206.8,180.4\" style=\"fill:none;fill-rule:evenodd;stroke:#000000;stroke-width:2.0px;stroke-linecap:butt;stroke-linejoin:miter;stroke-opacity:1\"/>\n",
       "<path class=\"bond-46 atom-42 atom-38\" d=\"M 206.8,180.4 L 193.9,167.2\" style=\"fill:none;fill-rule:evenodd;stroke:#0000FF;stroke-width:2.0px;stroke-linecap:butt;stroke-linejoin:miter;stroke-opacity:1\"/>\n",
       "<path class=\"bond-47 atom-39 atom-42\" d=\"M 259.3,167.0 L 244.6,181.7\" style=\"fill:none;fill-rule:evenodd;stroke:#0000FF;stroke-width:2.0px;stroke-linecap:butt;stroke-linejoin:miter;stroke-opacity:1;stroke-dasharray:1,1.33333\"/>\n",
       "<path class=\"bond-47 atom-39 atom-42\" d=\"M 244.6,181.7 L 229.9,196.4\" style=\"fill:none;fill-rule:evenodd;stroke:#000000;stroke-width:2.0px;stroke-linecap:butt;stroke-linejoin:miter;stroke-opacity:1;stroke-dasharray:1,1.33333\"/>\n",
       "<path class=\"bond-48 atom-42 atom-40\" d=\"M 230.8,204.9 L 245.0,219.1\" style=\"fill:none;fill-rule:evenodd;stroke:#000000;stroke-width:2.0px;stroke-linecap:butt;stroke-linejoin:miter;stroke-opacity:1\"/>\n",
       "<path class=\"bond-48 atom-42 atom-40\" d=\"M 245.0,219.1 L 259.3,233.4\" style=\"fill:none;fill-rule:evenodd;stroke:#0000FF;stroke-width:2.0px;stroke-linecap:butt;stroke-linejoin:miter;stroke-opacity:1\"/>\n",
       "<path class=\"bond-49 atom-41 atom-42\" d=\"M 193.9,233.3 L 206.8,220.0\" style=\"fill:none;fill-rule:evenodd;stroke:#0000FF;stroke-width:2.0px;stroke-linecap:butt;stroke-linejoin:miter;stroke-opacity:1;stroke-dasharray:1,1.33333\"/>\n",
       "<path class=\"bond-49 atom-41 atom-42\" d=\"M 206.8,220.0 L 219.8,206.7\" style=\"fill:none;fill-rule:evenodd;stroke:#000000;stroke-width:2.0px;stroke-linecap:butt;stroke-linejoin:miter;stroke-opacity:1;stroke-dasharray:1,1.33333\"/>\n",
       "<path d=\"M 134.2,198.6 L 133.3,200.2 L 134.2,201.8\" style=\"fill:none;stroke:#000000;stroke-width:2.0px;stroke-linecap:butt;stroke-linejoin:miter;stroke-opacity:1;\"/>\n",
       "<path d=\"M 224.5,107.4 L 226.1,106.4 L 227.8,107.4\" style=\"fill:none;stroke:#000000;stroke-width:2.0px;stroke-linecap:butt;stroke-linejoin:miter;stroke-opacity:1;\"/>\n",
       "<path d=\"M 319.0,198.6 L 319.9,200.2 L 319.0,201.8\" style=\"fill:none;stroke:#000000;stroke-width:2.0px;stroke-linecap:butt;stroke-linejoin:miter;stroke-opacity:1;\"/>\n",
       "<path d=\"M 227.8,293.1 L 226.1,294.0 L 224.5,293.1\" style=\"fill:none;stroke:#000000;stroke-width:2.0px;stroke-linecap:butt;stroke-linejoin:miter;stroke-opacity:1;\"/>\n",
       "<path d=\"M 99.8,128.7 L 97.9,128.4 L 97.3,126.7\" style=\"fill:none;stroke:#000000;stroke-width:2.0px;stroke-linecap:butt;stroke-linejoin:miter;stroke-opacity:1;\"/>\n",
       "<path d=\"M 85.6,95.4 L 84.9,93.7 L 83.1,93.4\" style=\"fill:none;stroke:#000000;stroke-width:2.0px;stroke-linecap:butt;stroke-linejoin:miter;stroke-opacity:1;\"/>\n",
       "<path d=\"M 50.2,87.9 L 48.4,87.6 L 48.1,86.9\" style=\"fill:none;stroke:#000000;stroke-width:2.0px;stroke-linecap:butt;stroke-linejoin:miter;stroke-opacity:1;\"/>\n",
       "<path d=\"M 354.3,128.3 L 356.2,128.0 L 357.4,129.4\" style=\"fill:none;stroke:#000000;stroke-width:2.0px;stroke-linecap:butt;stroke-linejoin:miter;stroke-opacity:1;\"/>\n",
       "<path d=\"M 296.8,327.7 L 297.0,329.6 L 295.6,330.7\" style=\"fill:none;stroke:#000000;stroke-width:2.0px;stroke-linecap:butt;stroke-linejoin:miter;stroke-opacity:1;\"/>\n",
       "<path d=\"M 100.3,271.4 L 98.5,271.7 L 97.8,273.4\" style=\"fill:none;stroke:#000000;stroke-width:2.0px;stroke-linecap:butt;stroke-linejoin:miter;stroke-opacity:1;\"/>\n",
       "<path d=\"M 85.9,304.5 L 85.2,306.3 L 83.4,306.5\" style=\"fill:none;stroke:#000000;stroke-width:2.0px;stroke-linecap:butt;stroke-linejoin:miter;stroke-opacity:1;\"/>\n",
       "<path d=\"M 50.4,311.8 L 48.6,312.1 L 48.3,312.8\" style=\"fill:none;stroke:#000000;stroke-width:2.0px;stroke-linecap:butt;stroke-linejoin:miter;stroke-opacity:1;\"/>\n",
       "<path class=\"atom-12\" d=\"M 20.0 116.3 Q 20.0 113.8, 21.2 112.4 Q 22.5 110.9, 24.8 110.9 Q 27.1 110.9, 28.4 112.4 Q 29.6 113.8, 29.6 116.3 Q 29.6 118.8, 28.4 120.3 Q 27.1 121.7, 24.8 121.7 Q 22.5 121.7, 21.2 120.3 Q 20.0 118.8, 20.0 116.3 M 24.8 120.5 Q 26.4 120.5, 27.3 119.5 Q 28.2 118.4, 28.2 116.3 Q 28.2 114.2, 27.3 113.2 Q 26.4 112.1, 24.8 112.1 Q 23.2 112.1, 22.3 113.2 Q 21.5 114.2, 21.5 116.3 Q 21.5 118.4, 22.3 119.5 Q 23.2 120.5, 24.8 120.5 \" fill=\"#FF0000\"/>\n",
       "<path class=\"atom-13\" d=\"M 20.2 47.8 L 21.6 47.8 L 21.6 52.2 L 26.9 52.2 L 26.9 47.8 L 28.4 47.8 L 28.4 58.2 L 26.9 58.2 L 26.9 53.4 L 21.6 53.4 L 21.6 58.2 L 20.2 58.2 L 20.2 47.8 \" fill=\"#FF0000\"/>\n",
       "<path class=\"atom-13\" d=\"M 30.5 53.0 Q 30.5 50.4, 31.8 49.0 Q 33.0 47.6, 35.3 47.6 Q 37.7 47.6, 38.9 49.0 Q 40.2 50.4, 40.2 53.0 Q 40.2 55.5, 38.9 57.0 Q 37.6 58.4, 35.3 58.4 Q 33.0 58.4, 31.8 57.0 Q 30.5 55.5, 30.5 53.0 M 35.3 57.2 Q 36.9 57.2, 37.8 56.2 Q 38.7 55.1, 38.7 53.0 Q 38.7 50.9, 37.8 49.9 Q 36.9 48.8, 35.3 48.8 Q 33.7 48.8, 32.9 49.9 Q 32.0 50.9, 32.0 53.0 Q 32.0 55.1, 32.9 56.2 Q 33.7 57.2, 35.3 57.2 \" fill=\"#FF0000\"/>\n",
       "<path class=\"atom-36\" d=\"M 20.5 283.3 Q 20.5 280.8, 21.7 279.4 Q 23.0 277.9, 25.3 277.9 Q 27.6 277.9, 28.9 279.4 Q 30.1 280.8, 30.1 283.3 Q 30.1 285.8, 28.8 287.3 Q 27.6 288.7, 25.3 288.7 Q 23.0 288.7, 21.7 287.3 Q 20.5 285.8, 20.5 283.3 M 25.3 287.5 Q 26.9 287.5, 27.7 286.5 Q 28.6 285.4, 28.6 283.3 Q 28.6 281.2, 27.7 280.2 Q 26.9 279.1, 25.3 279.1 Q 23.7 279.1, 22.8 280.2 Q 21.9 281.2, 21.9 283.3 Q 21.9 285.4, 22.8 286.5 Q 23.7 287.5, 25.3 287.5 \" fill=\"#FF0000\"/>\n",
       "<path class=\"atom-37\" d=\"M 20.1 341.5 L 21.6 341.5 L 21.6 345.9 L 26.9 345.9 L 26.9 341.5 L 28.3 341.5 L 28.3 351.9 L 26.9 351.9 L 26.9 347.1 L 21.6 347.1 L 21.6 351.9 L 20.1 351.9 L 20.1 341.5 \" fill=\"#FF0000\"/>\n",
       "<path class=\"atom-37\" d=\"M 30.5 346.7 Q 30.5 344.2, 31.7 342.7 Q 33.0 341.3, 35.3 341.3 Q 37.6 341.3, 38.9 342.7 Q 40.1 344.2, 40.1 346.7 Q 40.1 349.2, 38.9 350.7 Q 37.6 352.1, 35.3 352.1 Q 33.0 352.1, 31.7 350.7 Q 30.5 349.2, 30.5 346.7 M 35.3 350.9 Q 36.9 350.9, 37.8 349.9 Q 38.7 348.8, 38.7 346.7 Q 38.7 344.6, 37.8 343.6 Q 36.9 342.5, 35.3 342.5 Q 33.7 342.5, 32.8 343.6 Q 32.0 344.6, 32.0 346.7 Q 32.0 348.8, 32.8 349.9 Q 33.7 350.9, 35.3 350.9 \" fill=\"#FF0000\"/>\n",
       "<path class=\"atom-38\" d=\"M 186.3 156.5 L 189.7 162.1 Q 190.1 162.6, 190.6 163.6 Q 191.2 164.6, 191.2 164.7 L 191.2 156.5 L 192.6 156.5 L 192.6 167.0 L 191.1 167.0 L 187.5 160.9 Q 187.0 160.2, 186.6 159.4 Q 186.1 158.6, 186.0 158.3 L 186.0 167.0 L 184.6 167.0 L 184.6 156.5 L 186.3 156.5 \" fill=\"#0000FF\"/>\n",
       "<path class=\"atom-39\" d=\"M 262.2 156.5 L 265.7 162.1 Q 266.0 162.6, 266.6 163.6 Q 267.1 164.6, 267.2 164.7 L 267.2 156.5 L 268.5 156.5 L 268.5 167.0 L 267.1 167.0 L 263.4 160.9 Q 263.0 160.2, 262.5 159.4 Q 262.1 158.6, 261.9 158.3 L 261.9 167.0 L 260.6 167.0 L 260.6 156.5 L 262.2 156.5 \" fill=\"#0000FF\"/>\n",
       "<path class=\"atom-40\" d=\"M 262.2 233.4 L 265.7 239.0 Q 266.0 239.5, 266.6 240.5 Q 267.1 241.5, 267.2 241.6 L 267.2 233.4 L 268.5 233.4 L 268.5 243.9 L 267.1 243.9 L 263.4 237.8 Q 263.0 237.1, 262.5 236.3 Q 262.1 235.5, 261.9 235.2 L 261.9 243.9 L 260.6 243.9 L 260.6 233.4 L 262.2 233.4 \" fill=\"#0000FF\"/>\n",
       "<path class=\"atom-41\" d=\"M 186.3 233.4 L 189.7 239.0 Q 190.1 239.5, 190.6 240.5 Q 191.2 241.5, 191.2 241.6 L 191.2 233.4 L 192.6 233.4 L 192.6 243.9 L 191.1 243.9 L 187.5 237.8 Q 187.0 237.1, 186.6 236.3 Q 186.1 235.5, 186.0 235.2 L 186.0 243.9 L 184.6 243.9 L 184.6 233.4 L 186.3 233.4 \" fill=\"#0000FF\"/>\n",
       "<path class=\"atom-42\" d=\"M 215.5 195.0 L 221.8 195.0 L 221.8 196.2 L 216.9 196.2 L 216.9 199.4 L 221.2 199.4 L 221.2 200.6 L 216.9 200.6 L 216.9 205.5 L 215.5 205.5 L 215.5 195.0 \" fill=\"#000000\"/>\n",
       "<path class=\"atom-42\" d=\"M 222.7 201.6 Q 222.7 199.8, 223.7 198.8 Q 224.6 197.7, 226.3 197.7 Q 228.0 197.7, 228.7 198.7 Q 229.5 199.7, 229.5 201.6 L 229.5 201.8 L 224.2 201.8 Q 224.2 203.1, 224.8 203.8 Q 225.4 204.5, 226.4 204.5 Q 227.0 204.5, 227.6 204.4 Q 228.1 204.2, 228.8 203.9 L 229.2 204.9 Q 228.4 205.2, 227.8 205.4 Q 227.1 205.6, 226.4 205.6 Q 224.6 205.6, 223.7 204.5 Q 222.7 203.5, 222.7 201.6 M 226.3 198.8 Q 225.4 198.8, 224.9 199.3 Q 224.4 199.8, 224.2 200.8 L 228.0 200.8 Q 227.9 199.8, 227.5 199.3 Q 227.1 198.8, 226.3 198.8 \" fill=\"#000000\"/>\n",
       "</svg>"
      ],
      "text/plain": [
       "<IPython.core.display.SVG object>"
      ]
     },
     "execution_count": 27,
     "metadata": {},
     "output_type": "execute_result"
    }
   ],
   "source": [
    "SVG(\"hem.svg\")"
   ]
  },
  {
   "cell_type": "markdown",
   "metadata": {},
   "source": [
    "### Highlighting substructures"
   ]
  },
  {
   "cell_type": "markdown",
   "metadata": {},
   "source": [
    "Atoms and bonds of substructures (fragments and scaffolds) can be highligted on the 2D depiction of small molecules using *export_2d_svg* method of Component object. The atoms to highlight can be passed as a dictionary with atom names as keys and the color as values. Similarly the bonds to highlight can be passed as a dictionary of atom names of bonds as a tuple and colors as values.\n",
    "The below example shows how to highlight the Murcko scaffold of **HEM**. "
   ]
  },
  {
   "cell_type": "code",
   "execution_count": 28,
   "metadata": {},
   "outputs": [],
   "source": [
    "atom_color = (0.5, 0.5, 0.5, 0.4)\n",
    "bond_color = (0.5, 0.5, 0.5, 0.8)\n",
    "hem_murcko_scaffold = murcko_scaffolds[0]\n",
    "athighlights = {atom.GetProp(\"name\"):atom_color for atom in hem_murcko_scaffold.GetAtoms()}\n",
    "bndhighlights = {(bond.GetBeginAtom().GetProp(\"name\"), bond.GetEndAtom().GetProp(\"name\")): bond_color for bond in hem_murcko_scaffold.GetBonds()}\n",
    "hem_component.export_2d_svg(\"hem_scaffold.svg\", atom_highlight=athighlights, bond_highlight=bndhighlights, width=400)"
   ]
  },
  {
   "cell_type": "code",
   "execution_count": 29,
   "metadata": {},
   "outputs": [
    {
     "data": {
      "image/svg+xml": [
       "<svg xmlns=\"http://www.w3.org/2000/svg\" xmlns:rdkit=\"http://www.rdkit.org/xml\" xmlns:xlink=\"http://www.w3.org/1999/xlink\" version=\"1.1\" baseProfile=\"full\" xml:space=\"preserve\" width=\"400px\" height=\"400px\" viewBox=\"0 0 400 400\">\n",
       "<!-- END OF HEADER -->\n",
       "<rect style=\"opacity:1.0;fill:#FFFFFF;stroke:none\" width=\"400.0\" height=\"400.0\" x=\"0.0\" y=\"0.0\"> </rect>\n",
       "<path class=\"bond-0 atom-0 atom-4\" d=\"M 147.5,168.2 L 152.0,168.3 L 154.5,171.9 L 137.9,200.2 L 128.7,200.2 Z\" style=\"fill:#7F7F7FCC;fill-rule:evenodd;fill-opacity:0.8;stroke:#7F7F7FCC;stroke-width:0.0px;stroke-linecap:butt;stroke-linejoin:miter;stroke-opacity:0.8;\"/>\n",
       "<path class=\"bond-1 atom-0 atom-31\" d=\"M 137.9,200.2 L 154.5,228.5 L 152.0,232.1 L 147.5,232.3 L 128.7,200.2 Z\" style=\"fill:#7F7F7FCC;fill-rule:evenodd;fill-opacity:0.8;stroke:#7F7F7FCC;stroke-width:0.0px;stroke-linecap:butt;stroke-linejoin:miter;stroke-opacity:0.8;\"/>\n",
       "<path class=\"bond-2 atom-1 atom-7\" d=\"M 226.1,101.9 L 226.1,111.0 L 197.9,127.7 L 194.2,125.2 L 194.1,120.7 Z\" style=\"fill:#7F7F7FCC;fill-rule:evenodd;fill-opacity:0.8;stroke:#7F7F7FCC;stroke-width:0.0px;stroke-linecap:butt;stroke-linejoin:miter;stroke-opacity:0.8;\"/>\n",
       "<path class=\"bond-3 atom-1 atom-14\" d=\"M 226.1,101.9 L 259.0,120.7 L 258.9,125.2 L 255.3,127.7 L 226.1,111.0 Z\" style=\"fill:#7F7F7FCC;fill-rule:evenodd;fill-opacity:0.8;stroke:#7F7F7FCC;stroke-width:0.0px;stroke-linecap:butt;stroke-linejoin:miter;stroke-opacity:0.8;\"/>\n",
       "<path class=\"bond-4 atom-2 atom-17\" d=\"M 305.7,168.2 L 324.5,200.2 L 315.3,200.2 L 298.7,171.9 L 301.1,168.3 Z\" style=\"fill:#7F7F7FCC;fill-rule:evenodd;fill-opacity:0.8;stroke:#7F7F7FCC;stroke-width:0.0px;stroke-linecap:butt;stroke-linejoin:miter;stroke-opacity:0.8;\"/>\n",
       "<path class=\"bond-5 atom-2 atom-21\" d=\"M 324.5,200.2 L 305.7,232.2 L 301.1,232.1 L 298.7,228.5 L 315.3,200.2 Z\" style=\"fill:#7F7F7FCC;fill-rule:evenodd;fill-opacity:0.8;stroke:#7F7F7FCC;stroke-width:0.0px;stroke-linecap:butt;stroke-linejoin:miter;stroke-opacity:0.8;\"/>\n",
       "<path class=\"bond-6 atom-3 atom-24\" d=\"M 255.3,272.8 L 258.9,275.2 L 259.0,279.7 L 226.1,298.6 L 226.1,289.4 Z\" style=\"fill:#7F7F7FCC;fill-rule:evenodd;fill-opacity:0.8;stroke:#7F7F7FCC;stroke-width:0.0px;stroke-linecap:butt;stroke-linejoin:miter;stroke-opacity:0.8;\"/>\n",
       "<path class=\"bond-7 atom-3 atom-28\" d=\"M 197.9,272.8 L 226.1,289.4 L 226.1,298.6 L 194.1,279.8 L 194.2,275.2 Z\" style=\"fill:#7F7F7FCC;fill-rule:evenodd;fill-opacity:0.8;stroke:#7F7F7FCC;stroke-width:0.0px;stroke-linecap:butt;stroke-linejoin:miter;stroke-opacity:0.8;\"/>\n",
       "<path class=\"bond-8 atom-4 atom-5\" d=\"M 130.3,133.8 L 140.0,135.4 L 154.2,163.9 L 152.0,168.3 L 147.5,168.2 Z\" style=\"fill:#7F7F7FCC;fill-rule:evenodd;fill-opacity:0.8;stroke:#7F7F7FCC;stroke-width:0.0px;stroke-linecap:butt;stroke-linejoin:miter;stroke-opacity:0.8;\"/>\n",
       "<path class=\"bond-9 atom-4 atom-38\" d=\"M 185.1,158.4 L 188.6,161.8 L 187.2,166.0 L 154.5,171.9 L 152.0,168.3 L 154.2,163.9 Z\" style=\"fill:#7F7F7FCC;fill-rule:evenodd;fill-opacity:0.8;stroke:#7F7F7FCC;stroke-width:0.0px;stroke-linecap:butt;stroke-linejoin:miter;stroke-opacity:0.8;\"/>\n",
       "<path class=\"bond-10 atom-5 atom-6\" d=\"M 160.7,103.5 L 162.2,113.2 L 140.0,135.4 L 130.3,133.8 Z\" style=\"fill:#7F7F7FCC;fill-rule:evenodd;fill-opacity:0.8;stroke:#7F7F7FCC;stroke-width:0.0px;stroke-linecap:butt;stroke-linejoin:miter;stroke-opacity:0.8;\"/>\n",
       "<path class=\"bond-12 atom-6 atom-7\" d=\"M 160.7,103.5 L 194.1,120.7 L 194.2,125.2 L 189.9,127.4 L 162.2,113.2 Z\" style=\"fill:#7F7F7FCC;fill-rule:evenodd;fill-opacity:0.8;stroke:#7F7F7FCC;stroke-width:0.0px;stroke-linecap:butt;stroke-linejoin:miter;stroke-opacity:0.8;\"/>\n",
       "<path class=\"bond-14 atom-7 atom-38\" d=\"M 194.2,125.2 L 197.9,127.7 L 192.8,160.4 L 188.6,161.8 L 185.1,158.4 L 189.9,127.4 Z\" style=\"fill:#7F7F7FCC;fill-rule:evenodd;fill-opacity:0.8;stroke:#7F7F7FCC;stroke-width:0.0px;stroke-linecap:butt;stroke-linejoin:miter;stroke-opacity:0.8;\"/>\n",
       "<path class=\"bond-19 atom-14 atom-15\" d=\"M 292.5,103.5 L 291.1,113.1 L 263.3,127.4 L 258.9,125.2 L 259.0,120.7 Z\" style=\"fill:#7F7F7FCC;fill-rule:evenodd;fill-opacity:0.8;stroke:#7F7F7FCC;stroke-width:0.0px;stroke-linecap:butt;stroke-linejoin:miter;stroke-opacity:0.8;\"/>\n",
       "<path class=\"bond-20 atom-14 atom-39\" d=\"M 258.9,125.2 L 263.3,127.4 L 268.0,158.4 L 264.6,161.8 L 260.4,160.4 L 255.3,127.7 Z\" style=\"fill:#7F7F7FCC;fill-rule:evenodd;fill-opacity:0.8;stroke:#7F7F7FCC;stroke-width:0.0px;stroke-linecap:butt;stroke-linejoin:miter;stroke-opacity:0.8;\"/>\n",
       "<path class=\"bond-21 atom-15 atom-16\" d=\"M 292.5,103.5 L 323.8,133.8 L 314.1,135.4 L 291.1,113.1 Z\" style=\"fill:#7F7F7FCC;fill-rule:evenodd;fill-opacity:0.8;stroke:#7F7F7FCC;stroke-width:0.0px;stroke-linecap:butt;stroke-linejoin:miter;stroke-opacity:0.8;\"/>\n",
       "<path class=\"bond-23 atom-16 atom-17\" d=\"M 323.8,133.8 L 305.7,168.2 L 301.1,168.3 L 299.0,163.9 L 314.1,135.4 Z\" style=\"fill:#7F7F7FCC;fill-rule:evenodd;fill-opacity:0.8;stroke:#7F7F7FCC;stroke-width:0.0px;stroke-linecap:butt;stroke-linejoin:miter;stroke-opacity:0.8;\"/>\n",
       "<path class=\"bond-25 atom-17 atom-39\" d=\"M 268.0,158.4 L 299.0,163.9 L 301.1,168.3 L 298.7,171.9 L 265.9,166.0 L 264.6,161.8 Z\" style=\"fill:#7F7F7FCC;fill-rule:evenodd;fill-opacity:0.8;stroke:#7F7F7FCC;stroke-width:0.0px;stroke-linecap:butt;stroke-linejoin:miter;stroke-opacity:0.8;\"/>\n",
       "<path class=\"bond-27 atom-21 atom-22\" d=\"M 301.1,232.1 L 305.7,232.2 L 323.8,266.6 L 314.1,265.1 L 299.0,236.5 Z\" style=\"fill:#7F7F7FCC;fill-rule:evenodd;fill-opacity:0.8;stroke:#7F7F7FCC;stroke-width:0.0px;stroke-linecap:butt;stroke-linejoin:miter;stroke-opacity:0.8;\"/>\n",
       "<path class=\"bond-28 atom-21 atom-40\" d=\"M 298.7,228.5 L 301.1,232.1 L 299.0,236.5 L 268.0,242.1 L 264.6,238.7 L 265.9,234.4 Z\" style=\"fill:#7F7F7FCC;fill-rule:evenodd;fill-opacity:0.8;stroke:#7F7F7FCC;stroke-width:0.0px;stroke-linecap:butt;stroke-linejoin:miter;stroke-opacity:0.8;\"/>\n",
       "<path class=\"bond-29 atom-22 atom-23\" d=\"M 314.1,265.1 L 323.8,266.6 L 292.5,296.9 L 291.1,287.3 Z\" style=\"fill:#7F7F7FCC;fill-rule:evenodd;fill-opacity:0.8;stroke:#7F7F7FCC;stroke-width:0.0px;stroke-linecap:butt;stroke-linejoin:miter;stroke-opacity:0.8;\"/>\n",
       "<path class=\"bond-31 atom-23 atom-24\" d=\"M 263.3,273.0 L 291.1,287.3 L 292.5,296.9 L 259.0,279.7 L 258.9,275.2 Z\" style=\"fill:#7F7F7FCC;fill-rule:evenodd;fill-opacity:0.8;stroke:#7F7F7FCC;stroke-width:0.0px;stroke-linecap:butt;stroke-linejoin:miter;stroke-opacity:0.8;\"/>\n",
       "<path class=\"bond-33 atom-24 atom-40\" d=\"M 264.6,238.7 L 268.0,242.1 L 263.3,273.0 L 258.9,275.2 L 255.3,272.8 L 260.4,240.0 Z\" style=\"fill:#7F7F7FCC;fill-rule:evenodd;fill-opacity:0.8;stroke:#7F7F7FCC;stroke-width:0.0px;stroke-linecap:butt;stroke-linejoin:miter;stroke-opacity:0.8;\"/>\n",
       "<path class=\"bond-35 atom-28 atom-29\" d=\"M 189.9,273.0 L 194.2,275.2 L 194.1,279.8 L 160.7,297.0 L 162.2,287.3 Z\" style=\"fill:#7F7F7FCC;fill-rule:evenodd;fill-opacity:0.8;stroke:#7F7F7FCC;stroke-width:0.0px;stroke-linecap:butt;stroke-linejoin:miter;stroke-opacity:0.8;\"/>\n",
       "<path class=\"bond-36 atom-28 atom-41\" d=\"M 188.6,238.7 L 192.8,240.0 L 197.9,272.8 L 194.2,275.2 L 189.9,273.0 L 185.1,242.1 Z\" style=\"fill:#7F7F7FCC;fill-rule:evenodd;fill-opacity:0.8;stroke:#7F7F7FCC;stroke-width:0.0px;stroke-linecap:butt;stroke-linejoin:miter;stroke-opacity:0.8;\"/>\n",
       "<path class=\"bond-37 atom-29 atom-30\" d=\"M 140.0,265.1 L 162.2,287.3 L 160.7,297.0 L 130.3,266.6 Z\" style=\"fill:#7F7F7FCC;fill-rule:evenodd;fill-opacity:0.8;stroke:#7F7F7FCC;stroke-width:0.0px;stroke-linecap:butt;stroke-linejoin:miter;stroke-opacity:0.8;\"/>\n",
       "<path class=\"bond-39 atom-30 atom-31\" d=\"M 152.0,232.1 L 154.2,236.5 L 140.0,265.1 L 130.3,266.6 L 147.5,232.3 Z\" style=\"fill:#7F7F7FCC;fill-rule:evenodd;fill-opacity:0.8;stroke:#7F7F7FCC;stroke-width:0.0px;stroke-linecap:butt;stroke-linejoin:miter;stroke-opacity:0.8;\"/>\n",
       "<path class=\"bond-41 atom-31 atom-41\" d=\"M 154.5,228.5 L 187.2,234.4 L 188.6,238.7 L 185.1,242.1 L 154.2,236.5 L 152.0,232.1 Z\" style=\"fill:#7F7F7FCC;fill-rule:evenodd;fill-opacity:0.8;stroke:#7F7F7FCC;stroke-width:0.0px;stroke-linecap:butt;stroke-linejoin:miter;stroke-opacity:0.8;\"/>\n",
       "<path class=\"bond-46 atom-38 atom-42\" d=\"M 192.8,160.4 L 226.2,194.6 L 226.1,200.2 L 220.6,200.2 L 187.2,166.0 L 188.6,161.8 Z\" style=\"fill:#7F7F7FCC;fill-rule:evenodd;fill-opacity:0.8;stroke:#7F7F7FCC;stroke-width:0.0px;stroke-linecap:butt;stroke-linejoin:miter;stroke-opacity:0.8;\"/>\n",
       "<path class=\"bond-47 atom-39 atom-42\" d=\"M 260.4,160.4 L 264.6,161.8 L 265.9,166.0 L 231.7,200.2 L 226.1,200.2 L 226.2,194.6 Z\" style=\"fill:#7F7F7FCC;fill-rule:evenodd;fill-opacity:0.8;stroke:#7F7F7FCC;stroke-width:0.0px;stroke-linecap:butt;stroke-linejoin:miter;stroke-opacity:0.8;\"/>\n",
       "<path class=\"bond-48 atom-40 atom-42\" d=\"M 226.1,200.2 L 231.7,200.2 L 265.9,234.4 L 264.6,238.7 L 260.4,240.0 L 226.2,205.8 Z\" style=\"fill:#7F7F7FCC;fill-rule:evenodd;fill-opacity:0.8;stroke:#7F7F7FCC;stroke-width:0.0px;stroke-linecap:butt;stroke-linejoin:miter;stroke-opacity:0.8;\"/>\n",
       "<path class=\"bond-49 atom-41 atom-42\" d=\"M 226.1,200.2 L 226.2,205.8 L 192.8,240.0 L 188.6,238.7 L 187.2,234.4 L 220.6,200.2 Z\" style=\"fill:#7F7F7FCC;fill-rule:evenodd;fill-opacity:0.8;stroke:#7F7F7FCC;stroke-width:0.0px;stroke-linecap:butt;stroke-linejoin:miter;stroke-opacity:0.8;\"/>\n",
       "<ellipse cx=\"133.3\" cy=\"200.2\" rx=\"7.4\" ry=\"7.4\" class=\"atom-0\" style=\"fill:#7F7F7F66;fill-rule:evenodd;stroke:#7F7F7F66;stroke-width:1.0px;stroke-linecap:butt;stroke-linejoin:miter;stroke-opacity:1\"/>\n",
       "<ellipse cx=\"226.1\" cy=\"106.4\" rx=\"7.4\" ry=\"7.4\" class=\"atom-1\" style=\"fill:#7F7F7F66;fill-rule:evenodd;stroke:#7F7F7F66;stroke-width:1.0px;stroke-linecap:butt;stroke-linejoin:miter;stroke-opacity:1\"/>\n",
       "<ellipse cx=\"319.9\" cy=\"200.2\" rx=\"7.4\" ry=\"7.4\" class=\"atom-2\" style=\"fill:#7F7F7F66;fill-rule:evenodd;stroke:#7F7F7F66;stroke-width:1.0px;stroke-linecap:butt;stroke-linejoin:miter;stroke-opacity:1\"/>\n",
       "<ellipse cx=\"226.1\" cy=\"294.0\" rx=\"7.4\" ry=\"7.4\" class=\"atom-3\" style=\"fill:#7F7F7F66;fill-rule:evenodd;stroke:#7F7F7F66;stroke-width:1.0px;stroke-linecap:butt;stroke-linejoin:miter;stroke-opacity:1\"/>\n",
       "<ellipse cx=\"152.0\" cy=\"168.3\" rx=\"7.4\" ry=\"7.4\" class=\"atom-4\" style=\"fill:#7F7F7F66;fill-rule:evenodd;stroke:#7F7F7F66;stroke-width:1.0px;stroke-linecap:butt;stroke-linejoin:miter;stroke-opacity:1\"/>\n",
       "<ellipse cx=\"135.2\" cy=\"134.6\" rx=\"7.4\" ry=\"7.4\" class=\"atom-5\" style=\"fill:#7F7F7F66;fill-rule:evenodd;stroke:#7F7F7F66;stroke-width:1.0px;stroke-linecap:butt;stroke-linejoin:miter;stroke-opacity:1\"/>\n",
       "<ellipse cx=\"161.4\" cy=\"108.3\" rx=\"7.4\" ry=\"7.4\" class=\"atom-6\" style=\"fill:#7F7F7F66;fill-rule:evenodd;stroke:#7F7F7F66;stroke-width:1.0px;stroke-linecap:butt;stroke-linejoin:miter;stroke-opacity:1\"/>\n",
       "<ellipse cx=\"194.2\" cy=\"125.2\" rx=\"7.4\" ry=\"7.4\" class=\"atom-7\" style=\"fill:#7F7F7F66;fill-rule:evenodd;stroke:#7F7F7F66;stroke-width:1.0px;stroke-linecap:butt;stroke-linejoin:miter;stroke-opacity:1\"/>\n",
       "<ellipse cx=\"258.9\" cy=\"125.2\" rx=\"7.4\" ry=\"7.4\" class=\"atom-14\" style=\"fill:#7F7F7F66;fill-rule:evenodd;stroke:#7F7F7F66;stroke-width:1.0px;stroke-linecap:butt;stroke-linejoin:miter;stroke-opacity:1\"/>\n",
       "<ellipse cx=\"291.8\" cy=\"108.3\" rx=\"7.4\" ry=\"7.4\" class=\"atom-15\" style=\"fill:#7F7F7F66;fill-rule:evenodd;stroke:#7F7F7F66;stroke-width:1.0px;stroke-linecap:butt;stroke-linejoin:miter;stroke-opacity:1\"/>\n",
       "<ellipse cx=\"319.0\" cy=\"134.6\" rx=\"7.4\" ry=\"7.4\" class=\"atom-16\" style=\"fill:#7F7F7F66;fill-rule:evenodd;stroke:#7F7F7F66;stroke-width:1.0px;stroke-linecap:butt;stroke-linejoin:miter;stroke-opacity:1\"/>\n",
       "<ellipse cx=\"301.1\" cy=\"168.3\" rx=\"7.4\" ry=\"7.4\" class=\"atom-17\" style=\"fill:#7F7F7F66;fill-rule:evenodd;stroke:#7F7F7F66;stroke-width:1.0px;stroke-linecap:butt;stroke-linejoin:miter;stroke-opacity:1\"/>\n",
       "<ellipse cx=\"301.1\" cy=\"232.1\" rx=\"7.4\" ry=\"7.4\" class=\"atom-21\" style=\"fill:#7F7F7F66;fill-rule:evenodd;stroke:#7F7F7F66;stroke-width:1.0px;stroke-linecap:butt;stroke-linejoin:miter;stroke-opacity:1\"/>\n",
       "<ellipse cx=\"319.0\" cy=\"265.9\" rx=\"7.4\" ry=\"7.4\" class=\"atom-22\" style=\"fill:#7F7F7F66;fill-rule:evenodd;stroke:#7F7F7F66;stroke-width:1.0px;stroke-linecap:butt;stroke-linejoin:miter;stroke-opacity:1\"/>\n",
       "<ellipse cx=\"291.8\" cy=\"292.1\" rx=\"7.4\" ry=\"7.4\" class=\"atom-23\" style=\"fill:#7F7F7F66;fill-rule:evenodd;stroke:#7F7F7F66;stroke-width:1.0px;stroke-linecap:butt;stroke-linejoin:miter;stroke-opacity:1\"/>\n",
       "<ellipse cx=\"258.9\" cy=\"275.2\" rx=\"7.4\" ry=\"7.4\" class=\"atom-24\" style=\"fill:#7F7F7F66;fill-rule:evenodd;stroke:#7F7F7F66;stroke-width:1.0px;stroke-linecap:butt;stroke-linejoin:miter;stroke-opacity:1\"/>\n",
       "<ellipse cx=\"194.2\" cy=\"275.2\" rx=\"7.4\" ry=\"7.4\" class=\"atom-28\" style=\"fill:#7F7F7F66;fill-rule:evenodd;stroke:#7F7F7F66;stroke-width:1.0px;stroke-linecap:butt;stroke-linejoin:miter;stroke-opacity:1\"/>\n",
       "<ellipse cx=\"161.4\" cy=\"292.1\" rx=\"7.4\" ry=\"7.4\" class=\"atom-29\" style=\"fill:#7F7F7F66;fill-rule:evenodd;stroke:#7F7F7F66;stroke-width:1.0px;stroke-linecap:butt;stroke-linejoin:miter;stroke-opacity:1\"/>\n",
       "<ellipse cx=\"135.2\" cy=\"265.9\" rx=\"7.4\" ry=\"7.4\" class=\"atom-30\" style=\"fill:#7F7F7F66;fill-rule:evenodd;stroke:#7F7F7F66;stroke-width:1.0px;stroke-linecap:butt;stroke-linejoin:miter;stroke-opacity:1\"/>\n",
       "<ellipse cx=\"152.0\" cy=\"232.1\" rx=\"7.4\" ry=\"7.4\" class=\"atom-31\" style=\"fill:#7F7F7F66;fill-rule:evenodd;stroke:#7F7F7F66;stroke-width:1.0px;stroke-linecap:butt;stroke-linejoin:miter;stroke-opacity:1\"/>\n",
       "<ellipse cx=\"188.6\" cy=\"161.8\" rx=\"7.4\" ry=\"7.4\" class=\"atom-38\" style=\"fill:#7F7F7F66;fill-rule:evenodd;stroke:#7F7F7F66;stroke-width:1.0px;stroke-linecap:butt;stroke-linejoin:miter;stroke-opacity:1\"/>\n",
       "<ellipse cx=\"264.6\" cy=\"161.8\" rx=\"7.4\" ry=\"7.4\" class=\"atom-39\" style=\"fill:#7F7F7F66;fill-rule:evenodd;stroke:#7F7F7F66;stroke-width:1.0px;stroke-linecap:butt;stroke-linejoin:miter;stroke-opacity:1\"/>\n",
       "<ellipse cx=\"264.6\" cy=\"238.7\" rx=\"7.4\" ry=\"7.4\" class=\"atom-40\" style=\"fill:#7F7F7F66;fill-rule:evenodd;stroke:#7F7F7F66;stroke-width:1.0px;stroke-linecap:butt;stroke-linejoin:miter;stroke-opacity:1\"/>\n",
       "<ellipse cx=\"188.6\" cy=\"238.7\" rx=\"7.4\" ry=\"7.4\" class=\"atom-41\" style=\"fill:#7F7F7F66;fill-rule:evenodd;stroke:#7F7F7F66;stroke-width:1.0px;stroke-linecap:butt;stroke-linejoin:miter;stroke-opacity:1\"/>\n",
       "<ellipse cx=\"222.5\" cy=\"200.3\" rx=\"9.9\" ry=\"7.5\" class=\"atom-42\" style=\"fill:#7F7F7F66;fill-rule:evenodd;stroke:#7F7F7F66;stroke-width:1.0px;stroke-linecap:butt;stroke-linejoin:miter;stroke-opacity:1\"/>\n",
       "<path class=\"bond-0 atom-0 atom-4\" d=\"M 133.3,200.2 L 152.0,168.3\" style=\"fill:none;fill-rule:evenodd;stroke:#000000;stroke-width:2.0px;stroke-linecap:butt;stroke-linejoin:miter;stroke-opacity:1\"/>\n",
       "<path class=\"bond-1 atom-0 atom-31\" d=\"M 133.3,200.2 L 152.0,232.1\" style=\"fill:none;fill-rule:evenodd;stroke:#000000;stroke-width:2.0px;stroke-linecap:butt;stroke-linejoin:miter;stroke-opacity:1\"/>\n",
       "<path class=\"bond-1 atom-0 atom-31\" d=\"M 140.0,200.2 L 155.7,226.9\" style=\"fill:none;fill-rule:evenodd;stroke:#000000;stroke-width:2.0px;stroke-linecap:butt;stroke-linejoin:miter;stroke-opacity:1\"/>\n",
       "<path class=\"bond-2 atom-1 atom-7\" d=\"M 226.1,106.4 L 194.2,125.2\" style=\"fill:none;fill-rule:evenodd;stroke:#000000;stroke-width:2.0px;stroke-linecap:butt;stroke-linejoin:miter;stroke-opacity:1\"/>\n",
       "<path class=\"bond-3 atom-1 atom-14\" d=\"M 226.1,106.4 L 258.9,125.2\" style=\"fill:none;fill-rule:evenodd;stroke:#000000;stroke-width:2.0px;stroke-linecap:butt;stroke-linejoin:miter;stroke-opacity:1\"/>\n",
       "<path class=\"bond-3 atom-1 atom-14\" d=\"M 226.2,113.1 L 253.6,128.8\" style=\"fill:none;fill-rule:evenodd;stroke:#000000;stroke-width:2.0px;stroke-linecap:butt;stroke-linejoin:miter;stroke-opacity:1\"/>\n",
       "<path class=\"bond-4 atom-2 atom-17\" d=\"M 319.9,200.2 L 301.1,168.3\" style=\"fill:none;fill-rule:evenodd;stroke:#000000;stroke-width:2.0px;stroke-linecap:butt;stroke-linejoin:miter;stroke-opacity:1\"/>\n",
       "<path class=\"bond-5 atom-2 atom-21\" d=\"M 319.9,200.2 L 301.1,232.1\" style=\"fill:none;fill-rule:evenodd;stroke:#000000;stroke-width:2.0px;stroke-linecap:butt;stroke-linejoin:miter;stroke-opacity:1\"/>\n",
       "<path class=\"bond-5 atom-2 atom-21\" d=\"M 313.2,200.2 L 297.5,226.9\" style=\"fill:none;fill-rule:evenodd;stroke:#000000;stroke-width:2.0px;stroke-linecap:butt;stroke-linejoin:miter;stroke-opacity:1\"/>\n",
       "<path class=\"bond-6 atom-3 atom-24\" d=\"M 226.1,294.0 L 258.9,275.2\" style=\"fill:none;fill-rule:evenodd;stroke:#000000;stroke-width:2.0px;stroke-linecap:butt;stroke-linejoin:miter;stroke-opacity:1\"/>\n",
       "<path class=\"bond-6 atom-3 atom-24\" d=\"M 226.2,287.3 L 253.6,271.6\" style=\"fill:none;fill-rule:evenodd;stroke:#000000;stroke-width:2.0px;stroke-linecap:butt;stroke-linejoin:miter;stroke-opacity:1\"/>\n",
       "<path class=\"bond-7 atom-3 atom-28\" d=\"M 226.1,294.0 L 194.2,275.2\" style=\"fill:none;fill-rule:evenodd;stroke:#000000;stroke-width:2.0px;stroke-linecap:butt;stroke-linejoin:miter;stroke-opacity:1\"/>\n",
       "<path class=\"bond-8 atom-4 atom-5\" d=\"M 152.0,168.3 L 135.2,134.6\" style=\"fill:none;fill-rule:evenodd;stroke:#000000;stroke-width:2.0px;stroke-linecap:butt;stroke-linejoin:miter;stroke-opacity:1\"/>\n",
       "<path class=\"bond-8 atom-4 atom-5\" d=\"M 155.3,161.9 L 142.2,135.7\" style=\"fill:none;fill-rule:evenodd;stroke:#000000;stroke-width:2.0px;stroke-linecap:butt;stroke-linejoin:miter;stroke-opacity:1\"/>\n",
       "<path class=\"bond-9 atom-4 atom-38\" d=\"M 152.0,168.3 L 167.7,165.5\" style=\"fill:none;fill-rule:evenodd;stroke:#000000;stroke-width:2.0px;stroke-linecap:butt;stroke-linejoin:miter;stroke-opacity:1\"/>\n",
       "<path class=\"bond-9 atom-4 atom-38\" d=\"M 167.7,165.5 L 183.4,162.7\" style=\"fill:none;fill-rule:evenodd;stroke:#0000FF;stroke-width:2.0px;stroke-linecap:butt;stroke-linejoin:miter;stroke-opacity:1\"/>\n",
       "<path class=\"bond-10 atom-5 atom-6\" d=\"M 135.2,134.6 L 161.4,108.3\" style=\"fill:none;fill-rule:evenodd;stroke:#000000;stroke-width:2.0px;stroke-linecap:butt;stroke-linejoin:miter;stroke-opacity:1\"/>\n",
       "<path class=\"bond-11 atom-5 atom-9\" d=\"M 135.2,134.6 L 97.9,128.4\" style=\"fill:none;fill-rule:evenodd;stroke:#000000;stroke-width:2.0px;stroke-linecap:butt;stroke-linejoin:miter;stroke-opacity:1\"/>\n",
       "<path class=\"bond-12 atom-6 atom-7\" d=\"M 161.4,108.3 L 194.2,125.2\" style=\"fill:none;fill-rule:evenodd;stroke:#000000;stroke-width:2.0px;stroke-linecap:butt;stroke-linejoin:miter;stroke-opacity:1\"/>\n",
       "<path class=\"bond-12 atom-6 atom-7\" d=\"M 162.5,115.4 L 187.9,128.4\" style=\"fill:none;fill-rule:evenodd;stroke:#000000;stroke-width:2.0px;stroke-linecap:butt;stroke-linejoin:miter;stroke-opacity:1\"/>\n",
       "<path class=\"bond-13 atom-6 atom-8\" d=\"M 161.4,108.3 L 155.6,71.6\" style=\"fill:none;fill-rule:evenodd;stroke:#000000;stroke-width:2.0px;stroke-linecap:butt;stroke-linejoin:miter;stroke-opacity:1\"/>\n",
       "<path class=\"bond-14 atom-7 atom-38\" d=\"M 194.2,125.2 L 191.9,140.2\" style=\"fill:none;fill-rule:evenodd;stroke:#000000;stroke-width:2.0px;stroke-linecap:butt;stroke-linejoin:miter;stroke-opacity:1\"/>\n",
       "<path class=\"bond-14 atom-7 atom-38\" d=\"M 191.9,140.2 L 189.6,155.2\" style=\"fill:none;fill-rule:evenodd;stroke:#0000FF;stroke-width:2.0px;stroke-linecap:butt;stroke-linejoin:miter;stroke-opacity:1\"/>\n",
       "<path class=\"bond-15 atom-9 atom-10\" d=\"M 97.9,128.4 L 84.9,93.7\" style=\"fill:none;fill-rule:evenodd;stroke:#000000;stroke-width:2.0px;stroke-linecap:butt;stroke-linejoin:miter;stroke-opacity:1\"/>\n",
       "<path class=\"bond-16 atom-10 atom-11\" d=\"M 84.9,93.7 L 48.4,87.6\" style=\"fill:none;fill-rule:evenodd;stroke:#000000;stroke-width:2.0px;stroke-linecap:butt;stroke-linejoin:miter;stroke-opacity:1\"/>\n",
       "<path class=\"bond-17 atom-11 atom-12\" d=\"M 47.2,84.5 L 37.6,96.2\" style=\"fill:none;fill-rule:evenodd;stroke:#000000;stroke-width:2.0px;stroke-linecap:butt;stroke-linejoin:miter;stroke-opacity:1\"/>\n",
       "<path class=\"bond-17 atom-11 atom-12\" d=\"M 37.6,96.2 L 28.0,107.8\" style=\"fill:none;fill-rule:evenodd;stroke:#FF0000;stroke-width:2.0px;stroke-linecap:butt;stroke-linejoin:miter;stroke-opacity:1\"/>\n",
       "<path class=\"bond-17 atom-11 atom-12\" d=\"M 51.6,88.2 L 42.1,99.8\" style=\"fill:none;fill-rule:evenodd;stroke:#000000;stroke-width:2.0px;stroke-linecap:butt;stroke-linejoin:miter;stroke-opacity:1\"/>\n",
       "<path class=\"bond-17 atom-11 atom-12\" d=\"M 42.1,99.8 L 32.5,111.5\" style=\"fill:none;fill-rule:evenodd;stroke:#FF0000;stroke-width:2.0px;stroke-linecap:butt;stroke-linejoin:miter;stroke-opacity:1\"/>\n",
       "<path class=\"bond-18 atom-11 atom-13\" d=\"M 48.4,87.6 L 43.1,73.7\" style=\"fill:none;fill-rule:evenodd;stroke:#000000;stroke-width:2.0px;stroke-linecap:butt;stroke-linejoin:miter;stroke-opacity:1\"/>\n",
       "<path class=\"bond-18 atom-11 atom-13\" d=\"M 43.1,73.7 L 37.9,59.7\" style=\"fill:none;fill-rule:evenodd;stroke:#FF0000;stroke-width:2.0px;stroke-linecap:butt;stroke-linejoin:miter;stroke-opacity:1\"/>\n",
       "<path class=\"bond-19 atom-14 atom-15\" d=\"M 258.9,125.2 L 291.8,108.3\" style=\"fill:none;fill-rule:evenodd;stroke:#000000;stroke-width:2.0px;stroke-linecap:butt;stroke-linejoin:miter;stroke-opacity:1\"/>\n",
       "<path class=\"bond-20 atom-14 atom-39\" d=\"M 258.9,125.2 L 261.3,140.2\" style=\"fill:none;fill-rule:evenodd;stroke:#000000;stroke-width:2.0px;stroke-linecap:butt;stroke-linejoin:miter;stroke-opacity:1\"/>\n",
       "<path class=\"bond-20 atom-14 atom-39\" d=\"M 261.3,140.2 L 263.6,155.2\" style=\"fill:none;fill-rule:evenodd;stroke:#0000FF;stroke-width:2.0px;stroke-linecap:butt;stroke-linejoin:miter;stroke-opacity:1\"/>\n",
       "<path class=\"bond-21 atom-15 atom-16\" d=\"M 291.8,108.3 L 319.0,134.6\" style=\"fill:none;fill-rule:evenodd;stroke:#000000;stroke-width:2.0px;stroke-linecap:butt;stroke-linejoin:miter;stroke-opacity:1\"/>\n",
       "<path class=\"bond-21 atom-15 atom-16\" d=\"M 290.7,115.4 L 311.8,135.7\" style=\"fill:none;fill-rule:evenodd;stroke:#000000;stroke-width:2.0px;stroke-linecap:butt;stroke-linejoin:miter;stroke-opacity:1\"/>\n",
       "<path class=\"bond-22 atom-15 atom-18\" d=\"M 291.8,108.3 L 297.4,71.8\" style=\"fill:none;fill-rule:evenodd;stroke:#000000;stroke-width:2.0px;stroke-linecap:butt;stroke-linejoin:miter;stroke-opacity:1\"/>\n",
       "<path class=\"bond-23 atom-16 atom-17\" d=\"M 319.0,134.6 L 301.1,168.3\" style=\"fill:none;fill-rule:evenodd;stroke:#000000;stroke-width:2.0px;stroke-linecap:butt;stroke-linejoin:miter;stroke-opacity:1\"/>\n",
       "<path class=\"bond-24 atom-16 atom-19\" d=\"M 319.0,134.6 L 356.2,128.0\" style=\"fill:none;fill-rule:evenodd;stroke:#000000;stroke-width:2.0px;stroke-linecap:butt;stroke-linejoin:miter;stroke-opacity:1\"/>\n",
       "<path class=\"bond-25 atom-17 atom-39\" d=\"M 301.1,168.3 L 285.5,165.5\" style=\"fill:none;fill-rule:evenodd;stroke:#000000;stroke-width:2.0px;stroke-linecap:butt;stroke-linejoin:miter;stroke-opacity:1\"/>\n",
       "<path class=\"bond-25 atom-17 atom-39\" d=\"M 285.5,165.5 L 269.8,162.7\" style=\"fill:none;fill-rule:evenodd;stroke:#0000FF;stroke-width:2.0px;stroke-linecap:butt;stroke-linejoin:miter;stroke-opacity:1\"/>\n",
       "<path class=\"bond-25 atom-17 atom-39\" d=\"M 298.0,161.9 L 284.4,159.5\" style=\"fill:none;fill-rule:evenodd;stroke:#000000;stroke-width:2.0px;stroke-linecap:butt;stroke-linejoin:miter;stroke-opacity:1\"/>\n",
       "<path class=\"bond-25 atom-17 atom-39\" d=\"M 284.4,159.5 L 270.8,157.0\" style=\"fill:none;fill-rule:evenodd;stroke:#0000FF;stroke-width:2.0px;stroke-linecap:butt;stroke-linejoin:miter;stroke-opacity:1\"/>\n",
       "<path class=\"bond-26 atom-19 atom-20\" d=\"M 356.2,128.0 L 380.0,156.4\" style=\"fill:none;fill-rule:evenodd;stroke:#000000;stroke-width:2.0px;stroke-linecap:butt;stroke-linejoin:miter;stroke-opacity:1\"/>\n",
       "<path class=\"bond-26 atom-19 atom-20\" d=\"M 353.9,134.3 L 375.6,160.1\" style=\"fill:none;fill-rule:evenodd;stroke:#000000;stroke-width:2.0px;stroke-linecap:butt;stroke-linejoin:miter;stroke-opacity:1\"/>\n",
       "<path class=\"bond-27 atom-21 atom-22\" d=\"M 301.1,232.1 L 319.0,265.9\" style=\"fill:none;fill-rule:evenodd;stroke:#000000;stroke-width:2.0px;stroke-linecap:butt;stroke-linejoin:miter;stroke-opacity:1\"/>\n",
       "<path class=\"bond-28 atom-21 atom-40\" d=\"M 301.1,232.1 L 285.5,234.9\" style=\"fill:none;fill-rule:evenodd;stroke:#000000;stroke-width:2.0px;stroke-linecap:butt;stroke-linejoin:miter;stroke-opacity:1\"/>\n",
       "<path class=\"bond-28 atom-21 atom-40\" d=\"M 285.5,234.9 L 269.8,237.7\" style=\"fill:none;fill-rule:evenodd;stroke:#0000FF;stroke-width:2.0px;stroke-linecap:butt;stroke-linejoin:miter;stroke-opacity:1\"/>\n",
       "<path class=\"bond-29 atom-22 atom-23\" d=\"M 319.0,265.9 L 291.8,292.1\" style=\"fill:none;fill-rule:evenodd;stroke:#000000;stroke-width:2.0px;stroke-linecap:butt;stroke-linejoin:miter;stroke-opacity:1\"/>\n",
       "<path class=\"bond-29 atom-22 atom-23\" d=\"M 311.8,264.7 L 290.7,285.1\" style=\"fill:none;fill-rule:evenodd;stroke:#000000;stroke-width:2.0px;stroke-linecap:butt;stroke-linejoin:miter;stroke-opacity:1\"/>\n",
       "<path class=\"bond-30 atom-22 atom-25\" d=\"M 319.0,265.9 L 356.7,271.3\" style=\"fill:none;fill-rule:evenodd;stroke:#000000;stroke-width:2.0px;stroke-linecap:butt;stroke-linejoin:miter;stroke-opacity:1\"/>\n",
       "<path class=\"bond-31 atom-23 atom-24\" d=\"M 291.8,292.1 L 258.9,275.2\" style=\"fill:none;fill-rule:evenodd;stroke:#000000;stroke-width:2.0px;stroke-linecap:butt;stroke-linejoin:miter;stroke-opacity:1\"/>\n",
       "<path class=\"bond-32 atom-23 atom-26\" d=\"M 291.8,292.1 L 297.0,329.6\" style=\"fill:none;fill-rule:evenodd;stroke:#000000;stroke-width:2.0px;stroke-linecap:butt;stroke-linejoin:miter;stroke-opacity:1\"/>\n",
       "<path class=\"bond-33 atom-24 atom-40\" d=\"M 258.9,275.2 L 261.3,260.2\" style=\"fill:none;fill-rule:evenodd;stroke:#000000;stroke-width:2.0px;stroke-linecap:butt;stroke-linejoin:miter;stroke-opacity:1\"/>\n",
       "<path class=\"bond-33 atom-24 atom-40\" d=\"M 261.3,260.2 L 263.6,245.2\" style=\"fill:none;fill-rule:evenodd;stroke:#0000FF;stroke-width:2.0px;stroke-linecap:butt;stroke-linejoin:miter;stroke-opacity:1\"/>\n",
       "<path class=\"bond-34 atom-26 atom-27\" d=\"M 297.0,329.6 L 267.8,352.4\" style=\"fill:none;fill-rule:evenodd;stroke:#000000;stroke-width:2.0px;stroke-linecap:butt;stroke-linejoin:miter;stroke-opacity:1\"/>\n",
       "<path class=\"bond-34 atom-26 atom-27\" d=\"M 290.8,327.0 L 264.3,347.8\" style=\"fill:none;fill-rule:evenodd;stroke:#000000;stroke-width:2.0px;stroke-linecap:butt;stroke-linejoin:miter;stroke-opacity:1\"/>\n",
       "<path class=\"bond-35 atom-28 atom-29\" d=\"M 194.2,275.2 L 161.4,292.1\" style=\"fill:none;fill-rule:evenodd;stroke:#000000;stroke-width:2.0px;stroke-linecap:butt;stroke-linejoin:miter;stroke-opacity:1\"/>\n",
       "<path class=\"bond-36 atom-28 atom-41\" d=\"M 194.2,275.2 L 191.9,260.2\" style=\"fill:none;fill-rule:evenodd;stroke:#000000;stroke-width:2.0px;stroke-linecap:butt;stroke-linejoin:miter;stroke-opacity:1\"/>\n",
       "<path class=\"bond-36 atom-28 atom-41\" d=\"M 191.9,260.2 L 189.6,245.2\" style=\"fill:none;fill-rule:evenodd;stroke:#0000FF;stroke-width:2.0px;stroke-linecap:butt;stroke-linejoin:miter;stroke-opacity:1\"/>\n",
       "<path class=\"bond-36 atom-28 atom-41\" d=\"M 187.9,272.0 L 185.9,259.0\" style=\"fill:none;fill-rule:evenodd;stroke:#000000;stroke-width:2.0px;stroke-linecap:butt;stroke-linejoin:miter;stroke-opacity:1\"/>\n",
       "<path class=\"bond-36 atom-28 atom-41\" d=\"M 185.9,259.0 L 183.9,246.1\" style=\"fill:none;fill-rule:evenodd;stroke:#0000FF;stroke-width:2.0px;stroke-linecap:butt;stroke-linejoin:miter;stroke-opacity:1\"/>\n",
       "<path class=\"bond-37 atom-29 atom-30\" d=\"M 161.4,292.1 L 135.2,265.9\" style=\"fill:none;fill-rule:evenodd;stroke:#000000;stroke-width:2.0px;stroke-linecap:butt;stroke-linejoin:miter;stroke-opacity:1\"/>\n",
       "<path class=\"bond-37 atom-29 atom-30\" d=\"M 162.5,285.0 L 142.2,264.7\" style=\"fill:none;fill-rule:evenodd;stroke:#000000;stroke-width:2.0px;stroke-linecap:butt;stroke-linejoin:miter;stroke-opacity:1\"/>\n",
       "<path class=\"bond-38 atom-29 atom-32\" d=\"M 161.4,292.1 L 155.8,328.6\" style=\"fill:none;fill-rule:evenodd;stroke:#000000;stroke-width:2.0px;stroke-linecap:butt;stroke-linejoin:miter;stroke-opacity:1\"/>\n",
       "<path class=\"bond-39 atom-30 atom-31\" d=\"M 135.2,265.9 L 152.0,232.1\" style=\"fill:none;fill-rule:evenodd;stroke:#000000;stroke-width:2.0px;stroke-linecap:butt;stroke-linejoin:miter;stroke-opacity:1\"/>\n",
       "<path class=\"bond-40 atom-30 atom-33\" d=\"M 135.2,265.9 L 98.5,271.7\" style=\"fill:none;fill-rule:evenodd;stroke:#000000;stroke-width:2.0px;stroke-linecap:butt;stroke-linejoin:miter;stroke-opacity:1\"/>\n",
       "<path class=\"bond-41 atom-31 atom-41\" d=\"M 152.0,232.1 L 167.7,234.9\" style=\"fill:none;fill-rule:evenodd;stroke:#000000;stroke-width:2.0px;stroke-linecap:butt;stroke-linejoin:miter;stroke-opacity:1\"/>\n",
       "<path class=\"bond-41 atom-31 atom-41\" d=\"M 167.7,234.9 L 183.4,237.7\" style=\"fill:none;fill-rule:evenodd;stroke:#0000FF;stroke-width:2.0px;stroke-linecap:butt;stroke-linejoin:miter;stroke-opacity:1\"/>\n",
       "<path class=\"bond-42 atom-33 atom-34\" d=\"M 98.5,271.7 L 85.2,306.3\" style=\"fill:none;fill-rule:evenodd;stroke:#000000;stroke-width:2.0px;stroke-linecap:butt;stroke-linejoin:miter;stroke-opacity:1\"/>\n",
       "<path class=\"bond-43 atom-34 atom-35\" d=\"M 85.2,306.3 L 48.6,312.1\" style=\"fill:none;fill-rule:evenodd;stroke:#000000;stroke-width:2.0px;stroke-linecap:butt;stroke-linejoin:miter;stroke-opacity:1\"/>\n",
       "<path class=\"bond-44 atom-35 atom-36\" d=\"M 51.9,311.5 L 42.4,299.9\" style=\"fill:none;fill-rule:evenodd;stroke:#000000;stroke-width:2.0px;stroke-linecap:butt;stroke-linejoin:miter;stroke-opacity:1\"/>\n",
       "<path class=\"bond-44 atom-35 atom-36\" d=\"M 42.4,299.9 L 33.0,288.2\" style=\"fill:none;fill-rule:evenodd;stroke:#FF0000;stroke-width:2.0px;stroke-linecap:butt;stroke-linejoin:miter;stroke-opacity:1\"/>\n",
       "<path class=\"bond-44 atom-35 atom-36\" d=\"M 47.4,315.2 L 37.9,303.5\" style=\"fill:none;fill-rule:evenodd;stroke:#000000;stroke-width:2.0px;stroke-linecap:butt;stroke-linejoin:miter;stroke-opacity:1\"/>\n",
       "<path class=\"bond-44 atom-35 atom-36\" d=\"M 37.9,303.5 L 28.5,291.8\" style=\"fill:none;fill-rule:evenodd;stroke:#FF0000;stroke-width:2.0px;stroke-linecap:butt;stroke-linejoin:miter;stroke-opacity:1\"/>\n",
       "<path class=\"bond-45 atom-35 atom-37\" d=\"M 48.6,312.1 L 43.2,326.1\" style=\"fill:none;fill-rule:evenodd;stroke:#000000;stroke-width:2.0px;stroke-linecap:butt;stroke-linejoin:miter;stroke-opacity:1\"/>\n",
       "<path class=\"bond-45 atom-35 atom-37\" d=\"M 43.2,326.1 L 37.8,340.1\" style=\"fill:none;fill-rule:evenodd;stroke:#FF0000;stroke-width:2.0px;stroke-linecap:butt;stroke-linejoin:miter;stroke-opacity:1\"/>\n",
       "<path class=\"bond-46 atom-42 atom-38\" d=\"M 219.8,193.7 L 206.8,180.4\" style=\"fill:none;fill-rule:evenodd;stroke:#000000;stroke-width:2.0px;stroke-linecap:butt;stroke-linejoin:miter;stroke-opacity:1\"/>\n",
       "<path class=\"bond-46 atom-42 atom-38\" d=\"M 206.8,180.4 L 193.9,167.2\" style=\"fill:none;fill-rule:evenodd;stroke:#0000FF;stroke-width:2.0px;stroke-linecap:butt;stroke-linejoin:miter;stroke-opacity:1\"/>\n",
       "<path class=\"bond-47 atom-39 atom-42\" d=\"M 259.3,167.0 L 244.6,181.7\" style=\"fill:none;fill-rule:evenodd;stroke:#0000FF;stroke-width:2.0px;stroke-linecap:butt;stroke-linejoin:miter;stroke-opacity:1;stroke-dasharray:1,1.33333\"/>\n",
       "<path class=\"bond-47 atom-39 atom-42\" d=\"M 244.6,181.7 L 229.9,196.4\" style=\"fill:none;fill-rule:evenodd;stroke:#000000;stroke-width:2.0px;stroke-linecap:butt;stroke-linejoin:miter;stroke-opacity:1;stroke-dasharray:1,1.33333\"/>\n",
       "<path class=\"bond-48 atom-42 atom-40\" d=\"M 230.8,204.9 L 245.0,219.1\" style=\"fill:none;fill-rule:evenodd;stroke:#000000;stroke-width:2.0px;stroke-linecap:butt;stroke-linejoin:miter;stroke-opacity:1\"/>\n",
       "<path class=\"bond-48 atom-42 atom-40\" d=\"M 245.0,219.1 L 259.3,233.4\" style=\"fill:none;fill-rule:evenodd;stroke:#0000FF;stroke-width:2.0px;stroke-linecap:butt;stroke-linejoin:miter;stroke-opacity:1\"/>\n",
       "<path class=\"bond-49 atom-41 atom-42\" d=\"M 193.9,233.3 L 206.8,220.0\" style=\"fill:none;fill-rule:evenodd;stroke:#0000FF;stroke-width:2.0px;stroke-linecap:butt;stroke-linejoin:miter;stroke-opacity:1;stroke-dasharray:1,1.33333\"/>\n",
       "<path class=\"bond-49 atom-41 atom-42\" d=\"M 206.8,220.0 L 219.8,206.7\" style=\"fill:none;fill-rule:evenodd;stroke:#000000;stroke-width:2.0px;stroke-linecap:butt;stroke-linejoin:miter;stroke-opacity:1;stroke-dasharray:1,1.33333\"/>\n",
       "<path d=\"M 134.2,198.6 L 133.3,200.2 L 134.2,201.8\" style=\"fill:none;stroke:#000000;stroke-width:2.0px;stroke-linecap:butt;stroke-linejoin:miter;stroke-opacity:1;\"/>\n",
       "<path d=\"M 224.5,107.4 L 226.1,106.4 L 227.8,107.4\" style=\"fill:none;stroke:#000000;stroke-width:2.0px;stroke-linecap:butt;stroke-linejoin:miter;stroke-opacity:1;\"/>\n",
       "<path d=\"M 319.0,198.6 L 319.9,200.2 L 319.0,201.8\" style=\"fill:none;stroke:#000000;stroke-width:2.0px;stroke-linecap:butt;stroke-linejoin:miter;stroke-opacity:1;\"/>\n",
       "<path d=\"M 227.8,293.1 L 226.1,294.0 L 224.5,293.1\" style=\"fill:none;stroke:#000000;stroke-width:2.0px;stroke-linecap:butt;stroke-linejoin:miter;stroke-opacity:1;\"/>\n",
       "<path d=\"M 99.8,128.7 L 97.9,128.4 L 97.3,126.7\" style=\"fill:none;stroke:#000000;stroke-width:2.0px;stroke-linecap:butt;stroke-linejoin:miter;stroke-opacity:1;\"/>\n",
       "<path d=\"M 85.6,95.4 L 84.9,93.7 L 83.1,93.4\" style=\"fill:none;stroke:#000000;stroke-width:2.0px;stroke-linecap:butt;stroke-linejoin:miter;stroke-opacity:1;\"/>\n",
       "<path d=\"M 50.2,87.9 L 48.4,87.6 L 48.1,86.9\" style=\"fill:none;stroke:#000000;stroke-width:2.0px;stroke-linecap:butt;stroke-linejoin:miter;stroke-opacity:1;\"/>\n",
       "<path d=\"M 354.3,128.3 L 356.2,128.0 L 357.4,129.4\" style=\"fill:none;stroke:#000000;stroke-width:2.0px;stroke-linecap:butt;stroke-linejoin:miter;stroke-opacity:1;\"/>\n",
       "<path d=\"M 296.8,327.7 L 297.0,329.6 L 295.6,330.7\" style=\"fill:none;stroke:#000000;stroke-width:2.0px;stroke-linecap:butt;stroke-linejoin:miter;stroke-opacity:1;\"/>\n",
       "<path d=\"M 100.3,271.4 L 98.5,271.7 L 97.8,273.4\" style=\"fill:none;stroke:#000000;stroke-width:2.0px;stroke-linecap:butt;stroke-linejoin:miter;stroke-opacity:1;\"/>\n",
       "<path d=\"M 85.9,304.5 L 85.2,306.3 L 83.4,306.5\" style=\"fill:none;stroke:#000000;stroke-width:2.0px;stroke-linecap:butt;stroke-linejoin:miter;stroke-opacity:1;\"/>\n",
       "<path d=\"M 50.4,311.8 L 48.6,312.1 L 48.3,312.8\" style=\"fill:none;stroke:#000000;stroke-width:2.0px;stroke-linecap:butt;stroke-linejoin:miter;stroke-opacity:1;\"/>\n",
       "<path class=\"atom-12\" d=\"M 20.0 116.3 Q 20.0 113.8, 21.2 112.4 Q 22.5 110.9, 24.8 110.9 Q 27.1 110.9, 28.4 112.4 Q 29.6 113.8, 29.6 116.3 Q 29.6 118.8, 28.4 120.3 Q 27.1 121.7, 24.8 121.7 Q 22.5 121.7, 21.2 120.3 Q 20.0 118.8, 20.0 116.3 M 24.8 120.5 Q 26.4 120.5, 27.3 119.5 Q 28.2 118.4, 28.2 116.3 Q 28.2 114.2, 27.3 113.2 Q 26.4 112.1, 24.8 112.1 Q 23.2 112.1, 22.3 113.2 Q 21.5 114.2, 21.5 116.3 Q 21.5 118.4, 22.3 119.5 Q 23.2 120.5, 24.8 120.5 \" fill=\"#FF0000\"/>\n",
       "<path class=\"atom-13\" d=\"M 20.2 47.8 L 21.6 47.8 L 21.6 52.2 L 26.9 52.2 L 26.9 47.8 L 28.4 47.8 L 28.4 58.2 L 26.9 58.2 L 26.9 53.4 L 21.6 53.4 L 21.6 58.2 L 20.2 58.2 L 20.2 47.8 \" fill=\"#FF0000\"/>\n",
       "<path class=\"atom-13\" d=\"M 30.5 53.0 Q 30.5 50.4, 31.8 49.0 Q 33.0 47.6, 35.3 47.6 Q 37.7 47.6, 38.9 49.0 Q 40.2 50.4, 40.2 53.0 Q 40.2 55.5, 38.9 57.0 Q 37.6 58.4, 35.3 58.4 Q 33.0 58.4, 31.8 57.0 Q 30.5 55.5, 30.5 53.0 M 35.3 57.2 Q 36.9 57.2, 37.8 56.2 Q 38.7 55.1, 38.7 53.0 Q 38.7 50.9, 37.8 49.9 Q 36.9 48.8, 35.3 48.8 Q 33.7 48.8, 32.9 49.9 Q 32.0 50.9, 32.0 53.0 Q 32.0 55.1, 32.9 56.2 Q 33.7 57.2, 35.3 57.2 \" fill=\"#FF0000\"/>\n",
       "<path class=\"atom-36\" d=\"M 20.5 283.3 Q 20.5 280.8, 21.7 279.4 Q 23.0 277.9, 25.3 277.9 Q 27.6 277.9, 28.9 279.4 Q 30.1 280.8, 30.1 283.3 Q 30.1 285.8, 28.8 287.3 Q 27.6 288.7, 25.3 288.7 Q 23.0 288.7, 21.7 287.3 Q 20.5 285.8, 20.5 283.3 M 25.3 287.5 Q 26.9 287.5, 27.7 286.5 Q 28.6 285.4, 28.6 283.3 Q 28.6 281.2, 27.7 280.2 Q 26.9 279.1, 25.3 279.1 Q 23.7 279.1, 22.8 280.2 Q 21.9 281.2, 21.9 283.3 Q 21.9 285.4, 22.8 286.5 Q 23.7 287.5, 25.3 287.5 \" fill=\"#FF0000\"/>\n",
       "<path class=\"atom-37\" d=\"M 20.1 341.5 L 21.6 341.5 L 21.6 345.9 L 26.9 345.9 L 26.9 341.5 L 28.3 341.5 L 28.3 351.9 L 26.9 351.9 L 26.9 347.1 L 21.6 347.1 L 21.6 351.9 L 20.1 351.9 L 20.1 341.5 \" fill=\"#FF0000\"/>\n",
       "<path class=\"atom-37\" d=\"M 30.5 346.7 Q 30.5 344.2, 31.7 342.7 Q 33.0 341.3, 35.3 341.3 Q 37.6 341.3, 38.9 342.7 Q 40.1 344.2, 40.1 346.7 Q 40.1 349.2, 38.9 350.7 Q 37.6 352.1, 35.3 352.1 Q 33.0 352.1, 31.7 350.7 Q 30.5 349.2, 30.5 346.7 M 35.3 350.9 Q 36.9 350.9, 37.8 349.9 Q 38.7 348.8, 38.7 346.7 Q 38.7 344.6, 37.8 343.6 Q 36.9 342.5, 35.3 342.5 Q 33.7 342.5, 32.8 343.6 Q 32.0 344.6, 32.0 346.7 Q 32.0 348.8, 32.8 349.9 Q 33.7 350.9, 35.3 350.9 \" fill=\"#FF0000\"/>\n",
       "<path class=\"atom-38\" d=\"M 186.3 156.5 L 189.7 162.1 Q 190.1 162.6, 190.6 163.6 Q 191.2 164.6, 191.2 164.7 L 191.2 156.5 L 192.6 156.5 L 192.6 167.0 L 191.1 167.0 L 187.5 160.9 Q 187.0 160.2, 186.6 159.4 Q 186.1 158.6, 186.0 158.3 L 186.0 167.0 L 184.6 167.0 L 184.6 156.5 L 186.3 156.5 \" fill=\"#0000FF\"/>\n",
       "<path class=\"atom-39\" d=\"M 262.2 156.5 L 265.7 162.1 Q 266.0 162.6, 266.6 163.6 Q 267.1 164.6, 267.2 164.7 L 267.2 156.5 L 268.5 156.5 L 268.5 167.0 L 267.1 167.0 L 263.4 160.9 Q 263.0 160.2, 262.5 159.4 Q 262.1 158.6, 261.9 158.3 L 261.9 167.0 L 260.6 167.0 L 260.6 156.5 L 262.2 156.5 \" fill=\"#0000FF\"/>\n",
       "<path class=\"atom-40\" d=\"M 262.2 233.4 L 265.7 239.0 Q 266.0 239.5, 266.6 240.5 Q 267.1 241.5, 267.2 241.6 L 267.2 233.4 L 268.5 233.4 L 268.5 243.9 L 267.1 243.9 L 263.4 237.8 Q 263.0 237.1, 262.5 236.3 Q 262.1 235.5, 261.9 235.2 L 261.9 243.9 L 260.6 243.9 L 260.6 233.4 L 262.2 233.4 \" fill=\"#0000FF\"/>\n",
       "<path class=\"atom-41\" d=\"M 186.3 233.4 L 189.7 239.0 Q 190.1 239.5, 190.6 240.5 Q 191.2 241.5, 191.2 241.6 L 191.2 233.4 L 192.6 233.4 L 192.6 243.9 L 191.1 243.9 L 187.5 237.8 Q 187.0 237.1, 186.6 236.3 Q 186.1 235.5, 186.0 235.2 L 186.0 243.9 L 184.6 243.9 L 184.6 233.4 L 186.3 233.4 \" fill=\"#0000FF\"/>\n",
       "<path class=\"atom-42\" d=\"M 215.5 195.0 L 221.8 195.0 L 221.8 196.2 L 216.9 196.2 L 216.9 199.4 L 221.2 199.4 L 221.2 200.6 L 216.9 200.6 L 216.9 205.5 L 215.5 205.5 L 215.5 195.0 \" fill=\"#000000\"/>\n",
       "<path class=\"atom-42\" d=\"M 222.7 201.6 Q 222.7 199.8, 223.7 198.8 Q 224.6 197.7, 226.3 197.7 Q 228.0 197.7, 228.7 198.7 Q 229.5 199.7, 229.5 201.6 L 229.5 201.8 L 224.2 201.8 Q 224.2 203.1, 224.8 203.8 Q 225.4 204.5, 226.4 204.5 Q 227.0 204.5, 227.6 204.4 Q 228.1 204.2, 228.8 203.9 L 229.2 204.9 Q 228.4 205.2, 227.8 205.4 Q 227.1 205.6, 226.4 205.6 Q 224.6 205.6, 223.7 204.5 Q 222.7 203.5, 222.7 201.6 M 226.3 198.8 Q 225.4 198.8, 224.9 199.3 Q 224.4 199.8, 224.2 200.8 L 228.0 200.8 Q 227.9 199.8, 227.5 199.3 Q 227.1 198.8, 226.3 198.8 \" fill=\"#000000\"/>\n",
       "</svg>"
      ],
      "text/plain": [
       "<IPython.core.display.SVG object>"
      ]
     },
     "execution_count": 29,
     "metadata": {},
     "output_type": "execute_result"
    }
   ],
   "source": [
    "SVG(\"hem_scaffold.svg\")"
   ]
  },
  {
   "cell_type": "markdown",
   "metadata": {},
   "source": [
    "## Similarity using PARITY method"
   ]
  },
  {
   "cell_type": "markdown",
   "metadata": {},
   "source": [
    "PDBe CCDUtils supports comparison of small moelcules based on [PARITY](https://www.ncbi.nlm.nih.gov/pmc/articles/PMC5890617/) similarity score. PARITY represents the proportion of atoms of same type residing in identical topology between two small molecules"
   ]
  },
  {
   "cell_type": "code",
   "execution_count": 30,
   "metadata": {},
   "outputs": [],
   "source": [
    "from pdbeccdutils.computations.parity_method import compare_molecules"
   ]
  },
  {
   "cell_type": "code",
   "execution_count": 31,
   "metadata": {},
   "outputs": [],
   "source": [
    "heme_acetyl_cif = get_ligand_cif(\"HCO\", ligandType.CCD)\n",
    "heme_acetyl_component = ccd_reader.read_pdb_cif_file(heme_acetyl_cif).component"
   ]
  },
  {
   "cell_type": "code",
   "execution_count": 32,
   "metadata": {},
   "outputs": [],
   "source": [
    "similarity = compare_molecules(hem_component.mol_no_h, heme_acetyl_component.mol_no_h)"
   ]
  },
  {
   "cell_type": "code",
   "execution_count": 33,
   "metadata": {},
   "outputs": [
    {
     "data": {
      "text/plain": [
       "ParityResult(mapping={0: 1, 4: 9, 5: 10, 6: 11, 7: 12, 38: 5, 42: 0, 40: 7, 21: 27, 2: 3, 17: 22, 39: 6, 14: 19, 1: 2, 15: 20, 16: 21, 19: 24, 20: 25, 18: 23, 22: 28, 23: 29, 24: 30, 3: 4, 28: 34, 41: 8, 31: 37, 30: 36, 29: 35, 32: 38, 33: 39, 34: 40, 35: 41, 36: 42, 37: 43, 26: 32, 27: 33, 25: 31, 8: 13, 9: 14, 10: 15, 11: 16, 12: 17, 13: 18}, similarity_score=0.9772727272727273)"
      ]
     },
     "execution_count": 33,
     "metadata": {},
     "output_type": "execute_result"
    }
   ],
   "source": [
    "similarity"
   ]
  },
  {
   "cell_type": "markdown",
   "metadata": {},
   "source": [
    "## Export to different formats"
   ]
  },
  {
   "cell_type": "markdown",
   "metadata": {},
   "source": [
    "PDBe CCDUtils presently supports exporting of small molecule data to the following formats\n",
    "* CIF\n",
    "* PDB\n",
    "* SDF\n",
    "* CML"
   ]
  },
  {
   "cell_type": "code",
   "execution_count": 34,
   "metadata": {},
   "outputs": [],
   "source": [
    "from pdbeccdutils.core import ccd_writer"
   ]
  },
  {
   "cell_type": "code",
   "execution_count": 35,
   "metadata": {},
   "outputs": [],
   "source": [
    "ccd_writer.write_molecule(\"hem.sdf\",\n",
    "                          hem_component,\n",
    "                          )"
   ]
  },
  {
   "cell_type": "code",
   "execution_count": 36,
   "metadata": {},
   "outputs": [],
   "source": [
    "ccd_writer.write_molecule(\"hem.pdb\",\n",
    "                          hem_component,\n",
    "                          )"
   ]
  },
  {
   "cell_type": "markdown",
   "metadata": {},
   "source": [
    "# Use cases"
   ]
  },
  {
   "cell_type": "markdown",
   "metadata": {},
   "source": [
    "## Fetching DrugBank details"
   ]
  },
  {
   "cell_type": "markdown",
   "metadata": {},
   "source": [
    "The enriched CIF files of small molecules available from [PDBeChem FTP](https://ftp.ebi.ac.uk/pub/databases/msd/pdbechem_v2) contains data fetched from DrugBank. This information can be accessed by parsing approriate category in the CIF files. The below example shows how to fetch DrugBank details of **IMATINIB** "
   ]
  },
  {
   "cell_type": "code",
   "execution_count": 37,
   "metadata": {},
   "outputs": [],
   "source": [
    "sti_cif = get_ligand_cif(\"STI\", ligandType.CCD)\n",
    "sti_component = ccd_reader.read_pdb_cif_file(sti_cif).component"
   ]
  },
  {
   "cell_type": "code",
   "execution_count": 38,
   "metadata": {},
   "outputs": [],
   "source": [
    "def get_drugbank_synonyms(component: Component) -> Set[str]:\n",
    "    \"\"\"\n",
    "    Returns synonyms from DrugBank\n",
    "\n",
    "    Args:\n",
    "        component: Component object of small molecule\n",
    "    \"\"\"\n",
    "\n",
    "    cif_block = component.ccd_cif_block\n",
    "    if \"_pdbe_chem_comp_synonyms.\" not in cif_block.get_mmcif_category_names():\n",
    "        return\n",
    "    synonyms = set()\n",
    "    synonyms_table = cif_block.find(\"_pdbe_chem_comp_synonyms.\", [\"name\", \"provenance\"])\n",
    "    for row in synonyms_table:\n",
    "        if row[\"_pdbe_chem_comp_synonyms.provenance\"] == \"DrugBank\":\n",
    "            synonyms.add(cif.as_string(row[\"_pdbe_chem_comp_synonyms.name\"]))\n",
    "    return synonyms"
   ]
  },
  {
   "cell_type": "code",
   "execution_count": 39,
   "metadata": {},
   "outputs": [
    {
     "data": {
      "text/plain": [
       "{'Celonib',\n",
       " 'Enliven',\n",
       " 'Imatib',\n",
       " 'Imatinib',\n",
       " 'Imatinibum',\n",
       " 'Mesylonib',\n",
       " 'Mitinab',\n",
       " 'Plivatinib',\n",
       " 'Shantinib',\n",
       " \"α-(4-methyl-1-piperazinyl)-3'-((4-(3-pyridyl)-2-pyrimidinyl)amino)-p-toluidide\"}"
      ]
     },
     "execution_count": 39,
     "metadata": {},
     "output_type": "execute_result"
    }
   ],
   "source": [
    "synonyms = get_drugbank_synonyms(sti_component)\n",
    "synonyms"
   ]
  },
  {
   "cell_type": "code",
   "execution_count": 40,
   "metadata": {},
   "outputs": [],
   "source": [
    "def get_drugbank_classification(component: Component) -> Dict[str, str]:\n",
    "    \"\"\"\n",
    "    Returns DrugBank classification details\n",
    "\n",
    "    Args:\n",
    "        component: Component object of small molecule\n",
    "    \"\"\"\n",
    "    cif_block = component.ccd_cif_block\n",
    "    if \"_pdbe_chem_comp_drugbank_classification.\" not in cif_block.get_mmcif_category_names():\n",
    "        return\n",
    "    items = [\"description\", \"kingdom\", \"superclass\", \"class\", \"parent\"]\n",
    "    classification = {item: cif.as_string(cif_block.find_value(f\"_pdbe_chem_comp_drugbank_classification.{item}\")) for item in items}\n",
    "    return classification"
   ]
  },
  {
   "cell_type": "code",
   "execution_count": 41,
   "metadata": {},
   "outputs": [
    {
     "data": {
      "text/plain": [
       "{'description': \"This compound belongs to the class of organic compounds known as benzanilides. These are aromatic compounds containing an anilide group in which the carboxamide group is substituted with a benzene ring. They have the general structure RNC(=O)R', where R,R'= benzene.\",\n",
       " 'kingdom': 'Organic compounds',\n",
       " 'superclass': 'Benzenoids',\n",
       " 'class': 'Benzene and substituted derivatives',\n",
       " 'parent': 'Benzanilides'}"
      ]
     },
     "execution_count": 41,
     "metadata": {},
     "output_type": "execute_result"
    }
   ],
   "source": [
    "get_drugbank_classification(sti_component)"
   ]
  },
  {
   "cell_type": "code",
   "execution_count": 42,
   "metadata": {},
   "outputs": [],
   "source": [
    "def get_drugbank_details(component: Component):\n",
    "    \"\"\"\n",
    "    Returns details from DrugBank such as name, id, \n",
    "    description etc.\n",
    "\n",
    "    Args:\n",
    "        component: Component object of small molecule\n",
    "\n",
    "    \"\"\"\n",
    "    cif_block = component.ccd_cif_block\n",
    "    if \"_pdbe_chem_comp_drugbank_details.\" not in cif_block.get_mmcif_category_names():\n",
    "        return\n",
    "    items = [\"drugbank_id\", \"name\", \"description\", \"mechanism_of_action\"]\n",
    "    details = defaultdict(list)\n",
    "    for item in items:\n",
    "        details[\"info\"].append(item)\n",
    "        details[\"value\"].append(cif.as_string(cif_block.find_value(f\"_pdbe_chem_comp_drugbank_details.{item}\")))\n",
    "    synonyms = get_drugbank_synonyms(component)\n",
    "    details[\"info\"].append(\"synonyms\")\n",
    "    details[\"value\"].append(', '.join(synonyms))\n",
    "    details_df = pd.DataFrame.from_dict(details)\n",
    "    return details_df\n",
    "    "
   ]
  },
  {
   "cell_type": "code",
   "execution_count": 43,
   "metadata": {},
   "outputs": [
    {
     "data": {
      "text/html": [
       "<div>\n",
       "<style scoped>\n",
       "    .dataframe tbody tr th:only-of-type {\n",
       "        vertical-align: middle;\n",
       "    }\n",
       "\n",
       "    .dataframe tbody tr th {\n",
       "        vertical-align: top;\n",
       "    }\n",
       "\n",
       "    .dataframe thead th {\n",
       "        text-align: right;\n",
       "    }\n",
       "</style>\n",
       "<table border=\"1\" class=\"dataframe\">\n",
       "  <thead>\n",
       "    <tr style=\"text-align: right;\">\n",
       "      <th></th>\n",
       "      <th>info</th>\n",
       "      <th>value</th>\n",
       "    </tr>\n",
       "  </thead>\n",
       "  <tbody>\n",
       "    <tr>\n",
       "      <th>0</th>\n",
       "      <td>drugbank_id</td>\n",
       "      <td>DB00619</td>\n",
       "    </tr>\n",
       "    <tr>\n",
       "      <th>1</th>\n",
       "      <td>name</td>\n",
       "      <td>Imatinib</td>\n",
       "    </tr>\n",
       "    <tr>\n",
       "      <th>2</th>\n",
       "      <td>description</td>\n",
       "      <td>Imatinib is a small molecule kinase inhibitor that revolutionized the treatment of cancer, particularly chronic myeloid leukemia, in 2001.[A249305] It was deemed a \"miracle drug\" due to its clinical success, as oncologist Dr. Brian noted that \"complete hematologic responses were observed in 53 of 54 patients with CML treated with a daily dosage of 300 mg or more and typically occurred in the first four weeks of therapy\".[A249315]. The discovery of imatinib also established a new group of therapy called \"targeted therapy\", since treatment can be tailored specifically to the unique cancer genetics of each patient.[L42220]   Imatinib was approved on February 1st ,2001 by the FDA and November 7th, 2001 by the EMA; however, its European approval has been withdrawn in October 2023.[A263036,L49746,L49751]</td>\n",
       "    </tr>\n",
       "    <tr>\n",
       "      <th>3</th>\n",
       "      <td>mechanism_of_action</td>\n",
       "      <td>Imatinib mesylate is a protein-tyrosine kinase inhibitor that inhibits the BCR-ABL tyrosine kinase, the constitutively active tyrosine kinase created by the Philadelphia chromosome abnormality in CML.[L42080]Although the function of normal BCR is still unclear, ABL activation is overexpressed in various tumors and is heavily implicated in cancer cells growth and survival.[A249305,A249310] Imatinib inhibits the BCR-ABL protein by binding to the ATP pocket in the active site, thus preventing downstream phosphorylation of target protein.[A249305]  Imatinib is also an inhibitor of the receptor tyrosine kinases for platelet-derived growth factor (PDGF) and stem cell factor (SCF), c-Kit, and inhibits PDGF- and SCF-mediated cellular events. In vitro, imatinib inhibits proliferation and induces apoptosis in GIST cells, which express an activating c-Kit mutation.[L42080]</td>\n",
       "    </tr>\n",
       "    <tr>\n",
       "      <th>4</th>\n",
       "      <td>synonyms</td>\n",
       "      <td>Shantinib, α-(4-methyl-1-piperazinyl)-3'-((4-(3-pyridyl)-2-pyrimidinyl)amino)-p-toluidide, Plivatinib, Enliven, Celonib, Mitinab, Imatib, Imatinib, Imatinibum, Mesylonib</td>\n",
       "    </tr>\n",
       "  </tbody>\n",
       "</table>\n",
       "</div>"
      ],
      "text/plain": [
       "                  info  \\\n",
       "0          drugbank_id   \n",
       "1                 name   \n",
       "2          description   \n",
       "3  mechanism_of_action   \n",
       "4             synonyms   \n",
       "\n",
       "                                                                                                                                                                                                                                                                                                                                                                                                                                                                                                                                                                                                                                                                                                                                                                                                                                                                                                        value  \n",
       "0                                                                                                                                                                                                                                                                                                                                                                                                                                                                                                                                                                                                                                                                                                                                                                                                                                                                                                     DB00619  \n",
       "1                                                                                                                                                                                                                                                                                                                                                                                                                                                                                                                                                                                                                                                                                                                                                                                                                                                                                                    Imatinib  \n",
       "2                                                                   Imatinib is a small molecule kinase inhibitor that revolutionized the treatment of cancer, particularly chronic myeloid leukemia, in 2001.[A249305] It was deemed a \"miracle drug\" due to its clinical success, as oncologist Dr. Brian noted that \"complete hematologic responses were observed in 53 of 54 patients with CML treated with a daily dosage of 300 mg or more and typically occurred in the first four weeks of therapy\".[A249315]. The discovery of imatinib also established a new group of therapy called \"targeted therapy\", since treatment can be tailored specifically to the unique cancer genetics of each patient.[L42220]   Imatinib was approved on February 1st ,2001 by the FDA and November 7th, 2001 by the EMA; however, its European approval has been withdrawn in October 2023.[A263036,L49746,L49751]  \n",
       "3  Imatinib mesylate is a protein-tyrosine kinase inhibitor that inhibits the BCR-ABL tyrosine kinase, the constitutively active tyrosine kinase created by the Philadelphia chromosome abnormality in CML.[L42080]Although the function of normal BCR is still unclear, ABL activation is overexpressed in various tumors and is heavily implicated in cancer cells growth and survival.[A249305,A249310] Imatinib inhibits the BCR-ABL protein by binding to the ATP pocket in the active site, thus preventing downstream phosphorylation of target protein.[A249305]  Imatinib is also an inhibitor of the receptor tyrosine kinases for platelet-derived growth factor (PDGF) and stem cell factor (SCF), c-Kit, and inhibits PDGF- and SCF-mediated cellular events. In vitro, imatinib inhibits proliferation and induces apoptosis in GIST cells, which express an activating c-Kit mutation.[L42080]  \n",
       "4                                                                                                                                                                                                                                                                                                                                                                                                                                                                                                                                                                                                                                                                                                                                   Shantinib, α-(4-methyl-1-piperazinyl)-3'-((4-(3-pyridyl)-2-pyrimidinyl)amino)-p-toluidide, Plivatinib, Enliven, Celonib, Mitinab, Imatib, Imatinib, Imatinibum, Mesylonib  "
      ]
     },
     "execution_count": 43,
     "metadata": {},
     "output_type": "execute_result"
    }
   ],
   "source": [
    "pd.set_option('display.max_colwidth', None)\n",
    "get_drugbank_details(sti_component)"
   ]
  },
  {
   "cell_type": "code",
   "execution_count": 44,
   "metadata": {},
   "outputs": [],
   "source": [
    "def get_drugbank_targets(component: Component) -> pd.DataFrame:\n",
    "    \"\"\"\n",
    "    Returns target information from DrugBank\n",
    "\n",
    "    Args:\n",
    "        component: Component object of small molecule\n",
    "    \"\"\"\n",
    "    cif_block = component.ccd_cif_block\n",
    "    if \"_pdbe_chem_comp_drugbank_targets.\" not in cif_block.get_mmcif_category_names():\n",
    "        return\n",
    "    items = [\"name\", \"organism\", \"uniprot_id\", \"pharmacologically_active\"]\n",
    "    targets = cif_block.find(\"_pdbe_chem_comp_drugbank_targets.\", items)\n",
    "    targets_info = defaultdict(list)\n",
    "    for row in targets:\n",
    "        for item in items:\n",
    "            targets_info[item].append(cif.as_string(row[f\"_pdbe_chem_comp_drugbank_targets.{item}\"]))    \n",
    "    targets_df = pd.DataFrame.from_dict(targets_info)\n",
    "    return targets_df\n"
   ]
  },
  {
   "cell_type": "code",
   "execution_count": 45,
   "metadata": {},
   "outputs": [
    {
     "data": {
      "text/html": [
       "<div>\n",
       "<style scoped>\n",
       "    .dataframe tbody tr th:only-of-type {\n",
       "        vertical-align: middle;\n",
       "    }\n",
       "\n",
       "    .dataframe tbody tr th {\n",
       "        vertical-align: top;\n",
       "    }\n",
       "\n",
       "    .dataframe thead th {\n",
       "        text-align: right;\n",
       "    }\n",
       "</style>\n",
       "<table border=\"1\" class=\"dataframe\">\n",
       "  <thead>\n",
       "    <tr style=\"text-align: right;\">\n",
       "      <th></th>\n",
       "      <th>name</th>\n",
       "      <th>organism</th>\n",
       "      <th>uniprot_id</th>\n",
       "      <th>pharmacologically_active</th>\n",
       "    </tr>\n",
       "  </thead>\n",
       "  <tbody>\n",
       "    <tr>\n",
       "      <th>0</th>\n",
       "      <td>Breakpoint cluster region protein</td>\n",
       "      <td>Humans</td>\n",
       "      <td>P11274</td>\n",
       "      <td>yes</td>\n",
       "    </tr>\n",
       "    <tr>\n",
       "      <th>1</th>\n",
       "      <td>Mast/stem cell growth factor receptor Kit</td>\n",
       "      <td>Humans</td>\n",
       "      <td>P10721</td>\n",
       "      <td>yes</td>\n",
       "    </tr>\n",
       "    <tr>\n",
       "      <th>2</th>\n",
       "      <td>Proto-oncogene tyrosine-protein kinase receptor Ret</td>\n",
       "      <td>Humans</td>\n",
       "      <td>P07949</td>\n",
       "      <td>yes</td>\n",
       "    </tr>\n",
       "    <tr>\n",
       "      <th>3</th>\n",
       "      <td>High affinity nerve growth factor receptor</td>\n",
       "      <td>Humans</td>\n",
       "      <td>P04629</td>\n",
       "      <td>unknown</td>\n",
       "    </tr>\n",
       "    <tr>\n",
       "      <th>4</th>\n",
       "      <td>Macrophage colony-stimulating factor 1 receptor</td>\n",
       "      <td>Humans</td>\n",
       "      <td>P07333</td>\n",
       "      <td>unknown</td>\n",
       "    </tr>\n",
       "    <tr>\n",
       "      <th>5</th>\n",
       "      <td>Platelet-derived growth factor receptor alpha</td>\n",
       "      <td>Humans</td>\n",
       "      <td>P16234</td>\n",
       "      <td>yes</td>\n",
       "    </tr>\n",
       "    <tr>\n",
       "      <th>6</th>\n",
       "      <td>Epithelial discoidin domain-containing receptor 1</td>\n",
       "      <td>Humans</td>\n",
       "      <td>Q08345</td>\n",
       "      <td>unknown</td>\n",
       "    </tr>\n",
       "    <tr>\n",
       "      <th>7</th>\n",
       "      <td>Tyrosine-protein kinase ABL1</td>\n",
       "      <td>Humans</td>\n",
       "      <td>P00519</td>\n",
       "      <td>yes</td>\n",
       "    </tr>\n",
       "    <tr>\n",
       "      <th>8</th>\n",
       "      <td>Platelet-derived growth factor receptor beta</td>\n",
       "      <td>Humans</td>\n",
       "      <td>P09619</td>\n",
       "      <td>yes</td>\n",
       "    </tr>\n",
       "    <tr>\n",
       "      <th>9</th>\n",
       "      <td>Discoidin domain-containing receptor 2</td>\n",
       "      <td>Humans</td>\n",
       "      <td>Q16832</td>\n",
       "      <td>unknown</td>\n",
       "    </tr>\n",
       "  </tbody>\n",
       "</table>\n",
       "</div>"
      ],
      "text/plain": [
       "                                                  name organism uniprot_id  \\\n",
       "0                    Breakpoint cluster region protein   Humans     P11274   \n",
       "1            Mast/stem cell growth factor receptor Kit   Humans     P10721   \n",
       "2  Proto-oncogene tyrosine-protein kinase receptor Ret   Humans     P07949   \n",
       "3           High affinity nerve growth factor receptor   Humans     P04629   \n",
       "4      Macrophage colony-stimulating factor 1 receptor   Humans     P07333   \n",
       "5        Platelet-derived growth factor receptor alpha   Humans     P16234   \n",
       "6    Epithelial discoidin domain-containing receptor 1   Humans     Q08345   \n",
       "7                         Tyrosine-protein kinase ABL1   Humans     P00519   \n",
       "8         Platelet-derived growth factor receptor beta   Humans     P09619   \n",
       "9               Discoidin domain-containing receptor 2   Humans     Q16832   \n",
       "\n",
       "  pharmacologically_active  \n",
       "0                      yes  \n",
       "1                      yes  \n",
       "2                      yes  \n",
       "3                  unknown  \n",
       "4                  unknown  \n",
       "5                      yes  \n",
       "6                  unknown  \n",
       "7                      yes  \n",
       "8                      yes  \n",
       "9                  unknown  "
      ]
     },
     "execution_count": 45,
     "metadata": {},
     "output_type": "execute_result"
    }
   ],
   "source": [
    "get_drugbank_targets(sti_component)"
   ]
  },
  {
   "cell_type": "markdown",
   "metadata": {},
   "source": [
    "## Idenitfying Covalently Linked Components from a PDB entry"
   ]
  },
  {
   "cell_type": "markdown",
   "metadata": {},
   "source": [
    "In some PDB entries, large ligands are fragmented to smaller CCDs. For example in PDB entry [1e55](https://www.ebi.ac.uk/pdbe/entry/pdb/1e55), the competitive inhibitor **dhurrin** is in compelx with the structure, but it is split into two different CCDs - BGC and DHR. This happens due to the current wwwPDB annotation policies, which recommend splitting of large ligands to smaller CCDs to allow identification of correct stereospecificities and geometry. However, this practise obscures the small molecule data in the PDB archive and make it difficult to automatically identify and map to other databases.\n",
    "\n",
    "At PDBe, we have created a process to identify these fragmented ligands in the PDB and assign a unique identifier based on the inchikey. You can access them from [PDBeChem FTP](https://ftp.ebi.ac.uk/pub/databases/msd/pdbechem_v2/clc/). You can also use PDBe CCDUtils to create the complete representaiton of fragmented ligands in a PDB entry."
   ]
  },
  {
   "cell_type": "code",
   "execution_count": 46,
   "metadata": {},
   "outputs": [],
   "source": [
    "from pdbeccdutils.helpers import cif_tools\n",
    "from pdbeccdutils.core.boundmolecule import infer_bound_molecules\n",
    "from pdbeccdutils.core import clc_reader"
   ]
  },
  {
   "cell_type": "code",
   "execution_count": 47,
   "metadata": {},
   "outputs": [],
   "source": [
    "def get_clc(pdb_id: str) -> list[clc_reader.CLCReaderResult]:\n",
    "    \"\"\"\n",
    "    Returns a list of CLCReaderResults containing Component \n",
    "    object of Covalently Linked Components (CLCs)\n",
    "\n",
    "    Args:\n",
    "        pdb_id: PDB ID of an entry\n",
    "\n",
    "    \"\"\"\n",
    "    input_cif = get_entry_cif(pdb_id)\n",
    "    fixed_mmcif_file = os.path.join(f\"{pdb_id}_processed.cif\")\n",
    "\n",
    "    #Keeps only first model, removes alternate conformations of atoms and residues\n",
    "    cif_tools.fix_updated_mmcif(input_cif, fixed_mmcif_file)\n",
    "\n",
    "    #\n",
    "    bms = infer_bound_molecules(\n",
    "    fixed_mmcif_file, [\"HOH\"], assembly=False\n",
    ")\n",
    "    clc_reader_results = []\n",
    "    for i, bm in enumerate(bms, start=1):\n",
    "        bm_id = f\"bm{i}\"\n",
    "        reader_result = clc_reader.infer_multiple_chem_comp(\n",
    "            fixed_mmcif_file, bm, bm_id, sanitize=True\n",
    "        )\n",
    "        if reader_result:\n",
    "            clc_reader_results.append(reader_result)\n",
    "    \n",
    "    return clc_reader_results\n"
   ]
  },
  {
   "cell_type": "code",
   "execution_count": 48,
   "metadata": {},
   "outputs": [
    {
     "data": {
      "image/png": "[encoded data removed]",
      "text/plain": [
       "<rdkit.Chem.rdchem.RWMol at 0x7fc8d1922f70>"
      ]
     },
     "execution_count": 48,
     "metadata": {},
     "output_type": "execute_result"
    }
   ],
   "source": [
    "clc_reader_results = get_clc(\"1e55\")\n",
    "dhurrin_component = clc_reader_results[0].component\n",
    "dhurrin_component.mol"
   ]
  },
  {
   "cell_type": "code",
   "execution_count": 49,
   "metadata": {},
   "outputs": [
    {
     "data": {
      "text/plain": [
       "[('EPA CompTox Dashboard', 'DTXSID90198142'),\n",
       " ('ZINC', 'ZINC000004096638'),\n",
       " ('SureChEMBL', 'SCHEMBL50174'),\n",
       " ('Nikkaji', 'J10.589I'),\n",
       " ('ChEBI', '27826'),\n",
       " ('KEGG LIGAND', 'C05143'),\n",
       " ('eMolecules', '32231621'),\n",
       " ('BRENDA', '30532'),\n",
       " ('BRENDA', '1121'),\n",
       " ('MetaboLights', 'MTBLC27826'),\n",
       " ('Rhea', '27826'),\n",
       " ('HMDB', 'HMDB0060471'),\n",
       " ('PubChem', '161355'),\n",
       " ('PubChem TPHARMA', '24422914'),\n",
       " ('NMRShiftDB', '60025950'),\n",
       " ('fdasrs', 'P5999IY65C')]"
      ]
     },
     "execution_count": 49,
     "metadata": {},
     "output_type": "execute_result"
    }
   ],
   "source": [
    "dhurrin_component.fetch_external_mappings(all_mappings=True)"
   ]
  },
  {
   "cell_type": "markdown",
   "metadata": {},
   "source": [
    "Instead of creating the complete representation of fragmented ligands from PDB entries, you can find the standardized IDs of these ligands from [interacting_chains_with_ligand_functions.tsv](https://ftp.ebi.ac.uk/pub/databases/msd/pdbechem_v2/additional_data/pdb_ligand_interactions/interacting_chains_with_ligand_functions.tsv) available from FTP. The below example shows how this can be done for the entry **1e55**. "
   ]
  },
  {
   "cell_type": "code",
   "execution_count": 50,
   "metadata": {},
   "outputs": [],
   "source": [
    "import wget\n",
    "from pdbeccdutils.core import clc_reader"
   ]
  },
  {
   "cell_type": "code",
   "execution_count": 56,
   "metadata": {},
   "outputs": [],
   "source": [
    "interacting_chains = os.path.join(PDBECHEM_URL, \"additional_data\", \"pdb_ligand_interactions\", \"interacting_chains_with_ligand_functions.tsv\")\n",
    "wget.download(interacting_chains)"
   ]
  },
  {
   "cell_type": "code",
   "execution_count": 7,
   "metadata": {},
   "outputs": [
    {
     "data": {
      "text/html": [
       "<div>\n",
       "<style scoped>\n",
       "    .dataframe tbody tr th:only-of-type {\n",
       "        vertical-align: middle;\n",
       "    }\n",
       "\n",
       "    .dataframe tbody tr th {\n",
       "        vertical-align: top;\n",
       "    }\n",
       "\n",
       "    .dataframe thead th {\n",
       "        text-align: right;\n",
       "    }\n",
       "</style>\n",
       "<table border=\"1\" class=\"dataframe\">\n",
       "  <thead>\n",
       "    <tr style=\"text-align: right;\">\n",
       "      <th></th>\n",
       "      <th>PDBID</th>\n",
       "      <th>Chain_Symmetry</th>\n",
       "      <th>BestUnpAccession</th>\n",
       "      <th>bmID</th>\n",
       "      <th>inchikey</th>\n",
       "      <th>LigandID</th>\n",
       "      <th>LigandType</th>\n",
       "      <th>annotation</th>\n",
       "    </tr>\n",
       "  </thead>\n",
       "  <tbody>\n",
       "    <tr>\n",
       "      <th>0</th>\n",
       "      <td>100d</td>\n",
       "      <td>A</td>\n",
       "      <td>NaN</td>\n",
       "      <td>bm1</td>\n",
       "      <td>PFNFFQXMRSDOHW-UHFFFAOYSA-N</td>\n",
       "      <td>SPM</td>\n",
       "      <td>CCD</td>\n",
       "      <td>NaN</td>\n",
       "    </tr>\n",
       "    <tr>\n",
       "      <th>1</th>\n",
       "      <td>101d</td>\n",
       "      <td>A</td>\n",
       "      <td>NaN</td>\n",
       "      <td>bm1</td>\n",
       "      <td>JLVVSXFLKOJNIY-UHFFFAOYSA-N</td>\n",
       "      <td>MG</td>\n",
       "      <td>CCD</td>\n",
       "      <td>ion</td>\n",
       "    </tr>\n",
       "    <tr>\n",
       "      <th>2</th>\n",
       "      <td>101d</td>\n",
       "      <td>A</td>\n",
       "      <td>NaN</td>\n",
       "      <td>bm2</td>\n",
       "      <td>IDBIFFKSXLYUOT-UHFFFAOYSA-N</td>\n",
       "      <td>NT</td>\n",
       "      <td>CCD</td>\n",
       "      <td>NaN</td>\n",
       "    </tr>\n",
       "    <tr>\n",
       "      <th>3</th>\n",
       "      <td>101d</td>\n",
       "      <td>B</td>\n",
       "      <td>NaN</td>\n",
       "      <td>bm1</td>\n",
       "      <td>JLVVSXFLKOJNIY-UHFFFAOYSA-N</td>\n",
       "      <td>MG</td>\n",
       "      <td>CCD</td>\n",
       "      <td>ion</td>\n",
       "    </tr>\n",
       "    <tr>\n",
       "      <th>4</th>\n",
       "      <td>101d</td>\n",
       "      <td>B</td>\n",
       "      <td>NaN</td>\n",
       "      <td>bm2</td>\n",
       "      <td>IDBIFFKSXLYUOT-UHFFFAOYSA-N</td>\n",
       "      <td>NT</td>\n",
       "      <td>CCD</td>\n",
       "      <td>NaN</td>\n",
       "    </tr>\n",
       "  </tbody>\n",
       "</table>\n",
       "</div>"
      ],
      "text/plain": [
       "  PDBID Chain_Symmetry BestUnpAccession bmID                     inchikey  \\\n",
       "0  100d              A              NaN  bm1  PFNFFQXMRSDOHW-UHFFFAOYSA-N   \n",
       "1  101d              A              NaN  bm1  JLVVSXFLKOJNIY-UHFFFAOYSA-N   \n",
       "2  101d              A              NaN  bm2  IDBIFFKSXLYUOT-UHFFFAOYSA-N   \n",
       "3  101d              B              NaN  bm1  JLVVSXFLKOJNIY-UHFFFAOYSA-N   \n",
       "4  101d              B              NaN  bm2  IDBIFFKSXLYUOT-UHFFFAOYSA-N   \n",
       "\n",
       "  LigandID LigandType annotation  \n",
       "0      SPM        CCD        NaN  \n",
       "1       MG        CCD        ion  \n",
       "2       NT        CCD        NaN  \n",
       "3       MG        CCD        ion  \n",
       "4       NT        CCD        NaN  "
      ]
     },
     "execution_count": 7,
     "metadata": {},
     "output_type": "execute_result"
    }
   ],
   "source": [
    "int_chain_ligand = pd.read_csv(\"interacting_chains_with_ligand_functions.tsv\", sep=\"\\t\")\n",
    "int_chain_ligand.head()"
   ]
  },
  {
   "cell_type": "code",
   "execution_count": 58,
   "metadata": {},
   "outputs": [
    {
     "data": {
      "text/html": [
       "<div>\n",
       "<style scoped>\n",
       "    .dataframe tbody tr th:only-of-type {\n",
       "        vertical-align: middle;\n",
       "    }\n",
       "\n",
       "    .dataframe tbody tr th {\n",
       "        vertical-align: top;\n",
       "    }\n",
       "\n",
       "    .dataframe thead th {\n",
       "        text-align: right;\n",
       "    }\n",
       "</style>\n",
       "<table border=\"1\" class=\"dataframe\">\n",
       "  <thead>\n",
       "    <tr style=\"text-align: right;\">\n",
       "      <th></th>\n",
       "      <th>PDBID</th>\n",
       "      <th>Chain_Symmetry</th>\n",
       "      <th>BestUnpAccession</th>\n",
       "      <th>bmID</th>\n",
       "      <th>inchikey</th>\n",
       "      <th>LigandID</th>\n",
       "      <th>LigandType</th>\n",
       "      <th>annotation</th>\n",
       "    </tr>\n",
       "  </thead>\n",
       "  <tbody>\n",
       "    <tr>\n",
       "      <th>15854</th>\n",
       "      <td>1e55</td>\n",
       "      <td>A</td>\n",
       "      <td>P49235</td>\n",
       "      <td>bm1</td>\n",
       "      <td>NVLTYOJHPBMILU-YOVYLDAJSA-N</td>\n",
       "      <td>CLC_000189</td>\n",
       "      <td>CLC</td>\n",
       "      <td>NaN</td>\n",
       "    </tr>\n",
       "    <tr>\n",
       "      <th>15855</th>\n",
       "      <td>1e55</td>\n",
       "      <td>B</td>\n",
       "      <td>P49235</td>\n",
       "      <td>bm2</td>\n",
       "      <td>NVLTYOJHPBMILU-YOVYLDAJSA-N</td>\n",
       "      <td>CLC_000189</td>\n",
       "      <td>CLC</td>\n",
       "      <td>NaN</td>\n",
       "    </tr>\n",
       "  </tbody>\n",
       "</table>\n",
       "</div>"
      ],
      "text/plain": [
       "      PDBID Chain_Symmetry BestUnpAccession bmID                     inchikey  \\\n",
       "15854  1e55              A           P49235  bm1  NVLTYOJHPBMILU-YOVYLDAJSA-N   \n",
       "15855  1e55              B           P49235  bm2  NVLTYOJHPBMILU-YOVYLDAJSA-N   \n",
       "\n",
       "         LigandID LigandType annotation  \n",
       "15854  CLC_000189        CLC        NaN  \n",
       "15855  CLC_000189        CLC        NaN  "
      ]
     },
     "execution_count": 58,
     "metadata": {},
     "output_type": "execute_result"
    }
   ],
   "source": [
    "int_chain_ligand[int_chain_ligand[\"PDBID\"]==\"1e55\"]"
   ]
  },
  {
   "cell_type": "code",
   "execution_count": 59,
   "metadata": {},
   "outputs": [
    {
     "data": {
      "image/png": "[encoded data removed]",
      "text/plain": [
       "<rdkit.Chem.rdchem.Mol at 0x7fc8a42d6c70>"
      ]
     },
     "execution_count": 59,
     "metadata": {},
     "output_type": "execute_result"
    }
   ],
   "source": [
    "durrin_cif = get_ligand_cif(\"CLC_000189\", ligandType.CLC)\n",
    "dhurrin_cif_component = clc_reader.read_clc_cif_file(durrin_cif).component\n",
    "dhurrin_cif_component.mol"
   ]
  },
  {
   "cell_type": "markdown",
   "metadata": {},
   "source": [
    "### Highlighting CCDs present in a Covalently Linked Component (CLC)"
   ]
  },
  {
   "cell_type": "code",
   "execution_count": 60,
   "metadata": {},
   "outputs": [
    {
     "name": "stderr",
     "output_type": "stream",
     "text": [
      "[18:48:31] unrecognized bond type[18:48:31] unrecognized bond type[19:01:10] Warning: molecule is tagged as 2D, but at least one Z coordinate is not zero. Marking the mol as 3D.\n"
     ]
    },
    {
     "data": {
      "text/plain": [
       "DepictionResult(source=<DepictionSource.PubChem: 1>, template_name='CLC_000189', mol=<rdkit.Chem.rdchem.Mol object at 0x7fc8c16dab20>, score=0.0)"
      ]
     },
     "execution_count": 60,
     "metadata": {},
     "output_type": "execute_result"
    }
   ],
   "source": [
    "pubchem_downloader.process_template(dhurrin_cif_component)\n",
    "depictions = DepictionManager(pubchem_templates)\n",
    "depiction_result = dhurrin_cif_component.compute_2d(depictions)\n",
    "depiction_result"
   ]
  },
  {
   "cell_type": "code",
   "execution_count": 61,
   "metadata": {},
   "outputs": [
    {
     "data": {
      "image/png": "[encoded data removed]",
      "text/plain": [
       "<rdkit.Chem.rdchem.Mol at 0x7fc8c16dab20>"
      ]
     },
     "execution_count": 61,
     "metadata": {},
     "output_type": "execute_result"
    }
   ],
   "source": [
    "dhurrin_cif_component.mol2D"
   ]
  },
  {
   "cell_type": "code",
   "execution_count": 62,
   "metadata": {},
   "outputs": [
    {
     "data": {
      "text/plain": [
       "[Subcomponent(id='1', name='BGC', atoms=['C0', 'C1', 'C2', 'C3', 'C4', 'C5', 'O6', 'O7', 'O8', 'O9', 'O10', 'O11']),\n",
       " Subcomponent(id='2', name='DHR', atoms=['N12', 'C13', 'C14', 'C15', 'C16', 'C17', 'C18', 'C19', 'O20', 'C21'])]"
      ]
     },
     "execution_count": 62,
     "metadata": {},
     "output_type": "execute_result"
    }
   ],
   "source": [
    "dhurrin_subcomponents = get_subcomponents(dhurrin_cif_component)\n",
    "dhurrin_subcomponents"
   ]
  },
  {
   "cell_type": "code",
   "execution_count": 63,
   "metadata": {},
   "outputs": [],
   "source": [
    "subcomponent_colors = [(0.0, 0.0, 1.0, 0.5), (1.0, 0.0, 0.0, 0.5)]\n",
    "athighlights ={}\n",
    "bndhighlights = {}\n",
    "for i, subcomponent in enumerate(dhurrin_subcomponents):\n",
    "    for atom in subcomponent.atoms:\n",
    "        athighlights[atom] = subcomponent_colors[i]\n",
    "    for bond in dhurrin_cif_component.mol.GetBonds():\n",
    "        bgn_atom = bond.GetBeginAtom().GetProp(\"name\")\n",
    "        end_atom = bond.GetEndAtom().GetProp(\"name\")\n",
    "        if bgn_atom in subcomponent.atoms and end_atom in subcomponent.atoms:\n",
    "            bndhighlights[(bgn_atom, end_atom)] = subcomponent_colors[i]"
   ]
  },
  {
   "cell_type": "code",
   "execution_count": 64,
   "metadata": {},
   "outputs": [],
   "source": [
    "dhurrin_cif_component.export_2d_svg(\"dhurrin_ccd.svg\", atom_highlight=athighlights, bond_highlight=bndhighlights)"
   ]
  },
  {
   "cell_type": "code",
   "execution_count": 65,
   "metadata": {},
   "outputs": [
    {
     "data": {
      "image/svg+xml": [
       "<svg xmlns=\"http://www.w3.org/2000/svg\" xmlns:rdkit=\"http://www.rdkit.org/xml\" xmlns:xlink=\"http://www.w3.org/1999/xlink\" version=\"1.1\" baseProfile=\"full\" xml:space=\"preserve\" width=\"500px\" height=\"500px\" viewBox=\"0 0 500 500\">\n",
       "<!-- END OF HEADER -->\n",
       "<rect style=\"opacity:1.0;fill:#FFFFFF;stroke:none\" width=\"500.0\" height=\"500.0\" x=\"0.0\" y=\"0.0\"> </rect>\n",
       "<path class=\"bond-0 atom-0 atom-1\" d=\"M 195.5,331.3 L 201.5,334.7 L 201.5,341.7 L 158.5,366.5 L 152.5,363.0 L 152.5,356.1 Z\" style=\"fill:#0000FF7F;fill-rule:evenodd;fill-opacity:0.5;stroke:#0000FF7F;stroke-width:0.0px;stroke-linecap:butt;stroke-linejoin:miter;stroke-opacity:0.5;\"/>\n",
       "<path class=\"bond-1 atom-0 atom-5\" d=\"M 201.5,278.2 L 207.5,281.6 L 207.5,331.3 L 201.5,334.7 L 195.5,331.3 L 195.5,281.6 Z\" style=\"fill:#0000FF7F;fill-rule:evenodd;fill-opacity:0.5;stroke:#0000FF7F;stroke-width:0.0px;stroke-linecap:butt;stroke-linejoin:miter;stroke-opacity:0.5;\"/>\n",
       "<path class=\"bond-2 atom-0 atom-7\" d=\"M 207.5,331.3 L 253.5,357.8 L 247.5,368.3 L 201.5,341.7 L 201.5,334.7 Z\" style=\"fill:#0000FF7F;fill-rule:evenodd;fill-opacity:0.5;stroke:#0000FF7F;stroke-width:0.0px;stroke-linecap:butt;stroke-linejoin:miter;stroke-opacity:0.5;\"/>\n",
       "<path class=\"bond-3 atom-1 atom-2\" d=\"M 109.5,331.3 L 152.5,356.1 L 152.5,363.0 L 146.5,366.5 L 103.5,341.7 L 103.5,334.7 Z\" style=\"fill:#0000FF7F;fill-rule:evenodd;fill-opacity:0.5;stroke:#0000FF7F;stroke-width:0.0px;stroke-linecap:butt;stroke-linejoin:miter;stroke-opacity:0.5;\"/>\n",
       "<path class=\"bond-4 atom-1 atom-8\" d=\"M 152.5,363.0 L 158.5,366.5 L 158.5,419.6 L 146.5,419.6 L 146.5,366.5 Z\" style=\"fill:#0000FF7F;fill-rule:evenodd;fill-opacity:0.5;stroke:#0000FF7F;stroke-width:0.0px;stroke-linecap:butt;stroke-linejoin:miter;stroke-opacity:0.5;\"/>\n",
       "<path class=\"bond-5 atom-2 atom-3\" d=\"M 103.5,278.2 L 109.5,281.6 L 109.5,331.3 L 103.5,334.7 L 97.5,331.3 L 97.5,281.6 Z\" style=\"fill:#0000FF7F;fill-rule:evenodd;fill-opacity:0.5;stroke:#0000FF7F;stroke-width:0.0px;stroke-linecap:butt;stroke-linejoin:miter;stroke-opacity:0.5;\"/>\n",
       "<path class=\"bond-6 atom-2 atom-9\" d=\"M 97.5,331.3 L 103.5,334.7 L 103.5,341.7 L 57.5,368.3 L 51.5,357.8 Z\" style=\"fill:#0000FF7F;fill-rule:evenodd;fill-opacity:0.5;stroke:#0000FF7F;stroke-width:0.0px;stroke-linecap:butt;stroke-linejoin:miter;stroke-opacity:0.5;\"/>\n",
       "<path class=\"bond-7 atom-3 atom-4\" d=\"M 60.5,246.4 L 103.5,271.2 L 103.5,278.2 L 97.5,281.6 L 48.5,253.4 Z\" style=\"fill:#0000FF7F;fill-rule:evenodd;fill-opacity:0.5;stroke:#0000FF7F;stroke-width:0.0px;stroke-linecap:butt;stroke-linejoin:miter;stroke-opacity:0.5;\"/>\n",
       "<path class=\"bond-8 atom-3 atom-10\" d=\"M 152.5,242.9 L 152.5,256.8 L 109.5,281.6 L 103.5,278.2 L 103.5,271.2 Z\" style=\"fill:#0000FF7F;fill-rule:evenodd;fill-opacity:0.5;stroke:#0000FF7F;stroke-width:0.0px;stroke-linecap:butt;stroke-linejoin:miter;stroke-opacity:0.5;\"/>\n",
       "<path class=\"bond-9 atom-4 atom-11\" d=\"M 48.5,193.3 L 60.5,193.3 L 60.5,246.4 L 48.5,253.4 Z\" style=\"fill:#0000FF7F;fill-rule:evenodd;fill-opacity:0.5;stroke:#0000FF7F;stroke-width:0.0px;stroke-linecap:butt;stroke-linejoin:miter;stroke-opacity:0.5;\"/>\n",
       "<path class=\"bond-10 atom-5 atom-6\" d=\"M 247.5,244.6 L 253.5,255.1 L 207.5,281.6 L 201.5,278.2 L 201.5,271.2 Z\" style=\"fill:#0000FF7F;fill-rule:evenodd;fill-opacity:0.5;stroke:#0000FF7F;stroke-width:0.0px;stroke-linecap:butt;stroke-linejoin:miter;stroke-opacity:0.5;\"/>\n",
       "<path class=\"bond-11 atom-5 atom-10\" d=\"M 152.5,242.9 L 201.5,271.2 L 201.5,278.2 L 195.5,281.6 L 152.5,256.8 Z\" style=\"fill:#0000FF7F;fill-rule:evenodd;fill-opacity:0.5;stroke:#0000FF7F;stroke-width:0.0px;stroke-linecap:butt;stroke-linejoin:miter;stroke-opacity:0.5;\"/>\n",
       "<path class=\"bond-12 atom-12 atom-13\" d=\"M 155.5,131.5 L 204.0,159.5 L 199.0,170.5 L 149.5,142.0 Z\" style=\"fill:#FF00007F;fill-rule:evenodd;fill-opacity:0.5;stroke:#FF00007F;stroke-width:0.0px;stroke-linecap:butt;stroke-linejoin:miter;stroke-opacity:0.5;\"/>\n",
       "<path class=\"bond-13 atom-13 atom-21\" d=\"M 204.0,159.5 L 250.5,186.3 L 250.5,200.3 L 199.0,170.5 Z\" style=\"fill:#FF00007F;fill-rule:evenodd;fill-opacity:0.5;stroke:#FF00007F;stroke-width:0.0px;stroke-linecap:butt;stroke-linejoin:miter;stroke-opacity:0.5;\"/>\n",
       "<path class=\"bond-14 atom-14 atom-15\" d=\"M 293.4,105.0 L 305.5,111.9 L 305.5,161.5 L 299.5,165.0 L 293.4,161.5 Z\" style=\"fill:#FF00007F;fill-rule:evenodd;fill-opacity:0.5;stroke:#FF00007F;stroke-width:0.0px;stroke-linecap:butt;stroke-linejoin:miter;stroke-opacity:0.5;\"/>\n",
       "<path class=\"bond-15 atom-14 atom-16\" d=\"M 305.5,161.5 L 348.5,186.3 L 348.5,200.3 L 299.5,172.0 L 299.5,165.0 Z\" style=\"fill:#FF00007F;fill-rule:evenodd;fill-opacity:0.5;stroke:#FF00007F;stroke-width:0.0px;stroke-linecap:butt;stroke-linejoin:miter;stroke-opacity:0.5;\"/>\n",
       "<path class=\"bond-16 atom-14 atom-21\" d=\"M 293.4,161.5 L 299.5,165.0 L 299.5,172.0 L 250.5,200.3 L 250.5,186.3 Z\" style=\"fill:#FF00007F;fill-rule:evenodd;fill-opacity:0.5;stroke:#FF00007F;stroke-width:0.0px;stroke-linecap:butt;stroke-linejoin:miter;stroke-opacity:0.5;\"/>\n",
       "<path class=\"bond-17 atom-15 atom-18\" d=\"M 348.5,73.2 L 348.5,87.1 L 305.5,111.9 L 293.4,105.0 Z\" style=\"fill:#FF00007F;fill-rule:evenodd;fill-opacity:0.5;stroke:#FF00007F;stroke-width:0.0px;stroke-linecap:butt;stroke-linejoin:miter;stroke-opacity:0.5;\"/>\n",
       "<path class=\"bond-18 atom-16 atom-17\" d=\"M 391.4,161.5 L 403.5,168.5 L 348.5,200.3 L 348.5,186.3 Z\" style=\"fill:#FF00007F;fill-rule:evenodd;fill-opacity:0.5;stroke:#FF00007F;stroke-width:0.0px;stroke-linecap:butt;stroke-linejoin:miter;stroke-opacity:0.5;\"/>\n",
       "<path class=\"bond-19 atom-17 atom-19\" d=\"M 397.5,108.4 L 403.5,111.9 L 403.5,168.5 L 391.4,161.5 L 391.4,111.9 Z\" style=\"fill:#FF00007F;fill-rule:evenodd;fill-opacity:0.5;stroke:#FF00007F;stroke-width:0.0px;stroke-linecap:butt;stroke-linejoin:miter;stroke-opacity:0.5;\"/>\n",
       "<path class=\"bond-20 atom-18 atom-19\" d=\"M 348.5,73.2 L 397.5,101.5 L 397.5,108.4 L 391.4,111.9 L 348.5,87.1 Z\" style=\"fill:#FF00007F;fill-rule:evenodd;fill-opacity:0.5;stroke:#FF00007F;stroke-width:0.0px;stroke-linecap:butt;stroke-linejoin:miter;stroke-opacity:0.5;\"/>\n",
       "<path class=\"bond-21 atom-19 atom-20\" d=\"M 443.4,74.9 L 449.5,85.4 L 403.5,111.9 L 397.5,108.4 L 397.5,101.5 Z\" style=\"fill:#FF00007F;fill-rule:evenodd;fill-opacity:0.5;stroke:#FF00007F;stroke-width:0.0px;stroke-linecap:butt;stroke-linejoin:miter;stroke-opacity:0.5;\"/>\n",
       "<ellipse cx=\"201.5\" cy=\"334.7\" rx=\"11.3\" ry=\"11.3\" class=\"atom-0\" style=\"fill:#0000FF7F;fill-rule:evenodd;stroke:#0000FF7F;stroke-width:1.0px;stroke-linecap:butt;stroke-linejoin:miter;stroke-opacity:1\"/>\n",
       "<ellipse cx=\"152.5\" cy=\"363.0\" rx=\"11.3\" ry=\"11.3\" class=\"atom-1\" style=\"fill:#0000FF7F;fill-rule:evenodd;stroke:#0000FF7F;stroke-width:1.0px;stroke-linecap:butt;stroke-linejoin:miter;stroke-opacity:1\"/>\n",
       "<ellipse cx=\"103.5\" cy=\"334.7\" rx=\"11.3\" ry=\"11.3\" class=\"atom-2\" style=\"fill:#0000FF7F;fill-rule:evenodd;stroke:#0000FF7F;stroke-width:1.0px;stroke-linecap:butt;stroke-linejoin:miter;stroke-opacity:1\"/>\n",
       "<ellipse cx=\"103.5\" cy=\"278.2\" rx=\"11.3\" ry=\"11.3\" class=\"atom-3\" style=\"fill:#0000FF7F;fill-rule:evenodd;stroke:#0000FF7F;stroke-width:1.0px;stroke-linecap:butt;stroke-linejoin:miter;stroke-opacity:1\"/>\n",
       "<ellipse cx=\"54.5\" cy=\"249.9\" rx=\"11.3\" ry=\"11.3\" class=\"atom-4\" style=\"fill:#0000FF7F;fill-rule:evenodd;stroke:#0000FF7F;stroke-width:1.0px;stroke-linecap:butt;stroke-linejoin:miter;stroke-opacity:1\"/>\n",
       "<ellipse cx=\"201.5\" cy=\"278.2\" rx=\"11.3\" ry=\"11.3\" class=\"atom-5\" style=\"fill:#0000FF7F;fill-rule:evenodd;stroke:#0000FF7F;stroke-width:1.0px;stroke-linecap:butt;stroke-linejoin:miter;stroke-opacity:1\"/>\n",
       "<ellipse cx=\"250.5\" cy=\"250.0\" rx=\"11.3\" ry=\"11.6\" class=\"atom-6\" style=\"fill:#0000FF7F;fill-rule:evenodd;stroke:#0000FF7F;stroke-width:1.0px;stroke-linecap:butt;stroke-linejoin:miter;stroke-opacity:1\"/>\n",
       "<ellipse cx=\"258.0\" cy=\"363.1\" rx=\"21.0\" ry=\"11.6\" class=\"atom-7\" style=\"fill:#0000FF7F;fill-rule:evenodd;stroke:#0000FF7F;stroke-width:1.0px;stroke-linecap:butt;stroke-linejoin:miter;stroke-opacity:1\"/>\n",
       "<ellipse cx=\"160.0\" cy=\"419.7\" rx=\"21.0\" ry=\"11.6\" class=\"atom-8\" style=\"fill:#0000FF7F;fill-rule:evenodd;stroke:#0000FF7F;stroke-width:1.0px;stroke-linecap:butt;stroke-linejoin:miter;stroke-opacity:1\"/>\n",
       "<ellipse cx=\"46.6\" cy=\"363.1\" rx=\"21.6\" ry=\"11.6\" class=\"atom-9\" style=\"fill:#0000FF7F;fill-rule:evenodd;stroke:#0000FF7F;stroke-width:1.0px;stroke-linecap:butt;stroke-linejoin:miter;stroke-opacity:1\"/>\n",
       "<ellipse cx=\"152.5\" cy=\"250.0\" rx=\"11.3\" ry=\"11.6\" class=\"atom-10\" style=\"fill:#0000FF7F;fill-rule:evenodd;stroke:#0000FF7F;stroke-width:1.0px;stroke-linecap:butt;stroke-linejoin:miter;stroke-opacity:1\"/>\n",
       "<ellipse cx=\"62.0\" cy=\"193.4\" rx=\"21.0\" ry=\"11.6\" class=\"atom-11\" style=\"fill:#0000FF7F;fill-rule:evenodd;stroke:#0000FF7F;stroke-width:1.0px;stroke-linecap:butt;stroke-linejoin:miter;stroke-opacity:1\"/>\n",
       "<ellipse cx=\"152.5\" cy=\"136.7\" rx=\"11.3\" ry=\"11.3\" class=\"atom-12\" style=\"fill:#FF00007F;fill-rule:evenodd;stroke:#FF00007F;stroke-width:1.0px;stroke-linecap:butt;stroke-linejoin:miter;stroke-opacity:1\"/>\n",
       "<ellipse cx=\"201.5\" cy=\"165.0\" rx=\"11.3\" ry=\"11.3\" class=\"atom-13\" style=\"fill:#FF00007F;fill-rule:evenodd;stroke:#FF00007F;stroke-width:1.0px;stroke-linecap:butt;stroke-linejoin:miter;stroke-opacity:1\"/>\n",
       "<ellipse cx=\"299.5\" cy=\"165.0\" rx=\"11.3\" ry=\"11.3\" class=\"atom-14\" style=\"fill:#FF00007F;fill-rule:evenodd;stroke:#FF00007F;stroke-width:1.0px;stroke-linecap:butt;stroke-linejoin:miter;stroke-opacity:1\"/>\n",
       "<ellipse cx=\"299.5\" cy=\"108.4\" rx=\"11.3\" ry=\"11.3\" class=\"atom-15\" style=\"fill:#FF00007F;fill-rule:evenodd;stroke:#FF00007F;stroke-width:1.0px;stroke-linecap:butt;stroke-linejoin:miter;stroke-opacity:1\"/>\n",
       "<ellipse cx=\"348.5\" cy=\"193.3\" rx=\"11.3\" ry=\"11.3\" class=\"atom-16\" style=\"fill:#FF00007F;fill-rule:evenodd;stroke:#FF00007F;stroke-width:1.0px;stroke-linecap:butt;stroke-linejoin:miter;stroke-opacity:1\"/>\n",
       "<ellipse cx=\"397.5\" cy=\"165.0\" rx=\"11.3\" ry=\"11.3\" class=\"atom-17\" style=\"fill:#FF00007F;fill-rule:evenodd;stroke:#FF00007F;stroke-width:1.0px;stroke-linecap:butt;stroke-linejoin:miter;stroke-opacity:1\"/>\n",
       "<ellipse cx=\"348.5\" cy=\"80.2\" rx=\"11.3\" ry=\"11.3\" class=\"atom-18\" style=\"fill:#FF00007F;fill-rule:evenodd;stroke:#FF00007F;stroke-width:1.0px;stroke-linecap:butt;stroke-linejoin:miter;stroke-opacity:1\"/>\n",
       "<ellipse cx=\"397.5\" cy=\"108.4\" rx=\"11.3\" ry=\"11.3\" class=\"atom-19\" style=\"fill:#FF00007F;fill-rule:evenodd;stroke:#FF00007F;stroke-width:1.0px;stroke-linecap:butt;stroke-linejoin:miter;stroke-opacity:1\"/>\n",
       "<ellipse cx=\"454.0\" cy=\"80.3\" rx=\"21.0\" ry=\"11.6\" class=\"atom-20\" style=\"fill:#FF00007F;fill-rule:evenodd;stroke:#FF00007F;stroke-width:1.0px;stroke-linecap:butt;stroke-linejoin:miter;stroke-opacity:1\"/>\n",
       "<ellipse cx=\"250.5\" cy=\"193.3\" rx=\"11.3\" ry=\"11.3\" class=\"atom-21\" style=\"fill:#FF00007F;fill-rule:evenodd;stroke:#FF00007F;stroke-width:1.0px;stroke-linecap:butt;stroke-linejoin:miter;stroke-opacity:1\"/>\n",
       "<path class=\"bond-0 atom-0 atom-1\" d=\"M 201.5,334.7 L 152.5,363.0\" style=\"fill:none;fill-rule:evenodd;stroke:#000000;stroke-width:2.0px;stroke-linecap:butt;stroke-linejoin:miter;stroke-opacity:1\"/>\n",
       "<path class=\"bond-1 atom-0 atom-5\" d=\"M 201.5,334.7 L 201.5,278.2\" style=\"fill:none;fill-rule:evenodd;stroke:#000000;stroke-width:2.0px;stroke-linecap:butt;stroke-linejoin:miter;stroke-opacity:1\"/>\n",
       "<path class=\"bond-2 atom-0 atom-7\" d=\"M 201.5,334.7 L 221.4,346.2\" style=\"fill:none;fill-rule:evenodd;stroke:#000000;stroke-width:2.0px;stroke-linecap:butt;stroke-linejoin:miter;stroke-opacity:1\"/>\n",
       "<path class=\"bond-2 atom-0 atom-7\" d=\"M 221.4,346.2 L 241.3,357.7\" style=\"fill:none;fill-rule:evenodd;stroke:#FF0000;stroke-width:2.0px;stroke-linecap:butt;stroke-linejoin:miter;stroke-opacity:1\"/>\n",
       "<path class=\"bond-3 atom-1 atom-2\" d=\"M 152.5,363.0 L 103.5,334.7\" style=\"fill:none;fill-rule:evenodd;stroke:#000000;stroke-width:2.0px;stroke-linecap:butt;stroke-linejoin:miter;stroke-opacity:1\"/>\n",
       "<path class=\"bond-4 atom-1 atom-8\" d=\"M 152.5,363.0 L 152.5,386.3\" style=\"fill:none;fill-rule:evenodd;stroke:#000000;stroke-width:2.0px;stroke-linecap:butt;stroke-linejoin:miter;stroke-opacity:1\"/>\n",
       "<path class=\"bond-4 atom-1 atom-8\" d=\"M 152.5,386.3 L 152.5,409.6\" style=\"fill:none;fill-rule:evenodd;stroke:#FF0000;stroke-width:2.0px;stroke-linecap:butt;stroke-linejoin:miter;stroke-opacity:1\"/>\n",
       "<path class=\"bond-5 atom-2 atom-3\" d=\"M 103.5,334.7 L 103.5,278.2\" style=\"fill:none;fill-rule:evenodd;stroke:#000000;stroke-width:2.0px;stroke-linecap:butt;stroke-linejoin:miter;stroke-opacity:1\"/>\n",
       "<path class=\"bond-6 atom-2 atom-9\" d=\"M 103.5,334.7 L 83.6,346.2\" style=\"fill:none;fill-rule:evenodd;stroke:#000000;stroke-width:2.0px;stroke-linecap:butt;stroke-linejoin:miter;stroke-opacity:1\"/>\n",
       "<path class=\"bond-6 atom-2 atom-9\" d=\"M 83.6,346.2 L 63.7,357.7\" style=\"fill:none;fill-rule:evenodd;stroke:#FF0000;stroke-width:2.0px;stroke-linecap:butt;stroke-linejoin:miter;stroke-opacity:1\"/>\n",
       "<path class=\"bond-7 atom-3 atom-4\" d=\"M 103.5,278.2 L 54.5,249.9\" style=\"fill:none;fill-rule:evenodd;stroke:#000000;stroke-width:2.0px;stroke-linecap:butt;stroke-linejoin:miter;stroke-opacity:1\"/>\n",
       "<path class=\"bond-8 atom-3 atom-10\" d=\"M 103.5,278.2 L 123.4,266.7\" style=\"fill:none;fill-rule:evenodd;stroke:#000000;stroke-width:2.0px;stroke-linecap:butt;stroke-linejoin:miter;stroke-opacity:1\"/>\n",
       "<path class=\"bond-8 atom-3 atom-10\" d=\"M 123.4,266.7 L 143.3,255.2\" style=\"fill:none;fill-rule:evenodd;stroke:#FF0000;stroke-width:2.0px;stroke-linecap:butt;stroke-linejoin:miter;stroke-opacity:1\"/>\n",
       "<path class=\"bond-9 atom-4 atom-11\" d=\"M 54.5,249.9 L 54.5,226.7\" style=\"fill:none;fill-rule:evenodd;stroke:#000000;stroke-width:2.0px;stroke-linecap:butt;stroke-linejoin:miter;stroke-opacity:1\"/>\n",
       "<path class=\"bond-9 atom-4 atom-11\" d=\"M 54.5,226.7 L 54.5,203.5\" style=\"fill:none;fill-rule:evenodd;stroke:#FF0000;stroke-width:2.0px;stroke-linecap:butt;stroke-linejoin:miter;stroke-opacity:1\"/>\n",
       "<path class=\"bond-10 atom-5 atom-6\" d=\"M 201.5,278.2 L 221.4,266.7\" style=\"fill:none;fill-rule:evenodd;stroke:#000000;stroke-width:2.0px;stroke-linecap:butt;stroke-linejoin:miter;stroke-opacity:1\"/>\n",
       "<path class=\"bond-10 atom-5 atom-6\" d=\"M 221.4,266.7 L 241.3,255.2\" style=\"fill:none;fill-rule:evenodd;stroke:#FF0000;stroke-width:2.0px;stroke-linecap:butt;stroke-linejoin:miter;stroke-opacity:1\"/>\n",
       "<path class=\"bond-11 atom-5 atom-10\" d=\"M 201.5,278.2 L 181.6,266.7\" style=\"fill:none;fill-rule:evenodd;stroke:#000000;stroke-width:2.0px;stroke-linecap:butt;stroke-linejoin:miter;stroke-opacity:1\"/>\n",
       "<path class=\"bond-11 atom-5 atom-10\" d=\"M 181.6,266.7 L 161.7,255.2\" style=\"fill:none;fill-rule:evenodd;stroke:#FF0000;stroke-width:2.0px;stroke-linecap:butt;stroke-linejoin:miter;stroke-opacity:1\"/>\n",
       "<path class=\"bond-12 atom-12 atom-13\" d=\"M 160.4,141.3 L 181.0,153.2\" style=\"fill:none;fill-rule:evenodd;stroke:#0000FF;stroke-width:2.0px;stroke-linecap:butt;stroke-linejoin:miter;stroke-opacity:1\"/>\n",
       "<path class=\"bond-12 atom-12 atom-13\" d=\"M 181.0,153.2 L 201.5,165.0\" style=\"fill:none;fill-rule:evenodd;stroke:#000000;stroke-width:2.0px;stroke-linecap:butt;stroke-linejoin:miter;stroke-opacity:1\"/>\n",
       "<path class=\"bond-12 atom-12 atom-13\" d=\"M 164.7,134.0 L 185.2,145.8\" style=\"fill:none;fill-rule:evenodd;stroke:#0000FF;stroke-width:2.0px;stroke-linecap:butt;stroke-linejoin:miter;stroke-opacity:1\"/>\n",
       "<path class=\"bond-12 atom-12 atom-13\" d=\"M 185.2,145.8 L 205.7,157.7\" style=\"fill:none;fill-rule:evenodd;stroke:#000000;stroke-width:2.0px;stroke-linecap:butt;stroke-linejoin:miter;stroke-opacity:1\"/>\n",
       "<path class=\"bond-12 atom-12 atom-13\" d=\"M 156.2,148.7 L 176.7,160.5\" style=\"fill:none;fill-rule:evenodd;stroke:#0000FF;stroke-width:2.0px;stroke-linecap:butt;stroke-linejoin:miter;stroke-opacity:1\"/>\n",
       "<path class=\"bond-12 atom-12 atom-13\" d=\"M 176.7,160.5 L 197.2,172.4\" style=\"fill:none;fill-rule:evenodd;stroke:#000000;stroke-width:2.0px;stroke-linecap:butt;stroke-linejoin:miter;stroke-opacity:1\"/>\n",
       "<path class=\"bond-13 atom-13 atom-21\" d=\"M 201.5,165.0 L 250.5,193.3\" style=\"fill:none;fill-rule:evenodd;stroke:#000000;stroke-width:2.0px;stroke-linecap:butt;stroke-linejoin:miter;stroke-opacity:1\"/>\n",
       "<path class=\"bond-14 atom-14 atom-15\" d=\"M 299.5,165.0 L 299.5,108.4\" style=\"fill:none;fill-rule:evenodd;stroke:#000000;stroke-width:2.0px;stroke-linecap:butt;stroke-linejoin:miter;stroke-opacity:1\"/>\n",
       "<path class=\"bond-14 atom-14 atom-15\" d=\"M 308.0,160.1 L 308.0,113.3\" style=\"fill:none;fill-rule:evenodd;stroke:#000000;stroke-width:2.0px;stroke-linecap:butt;stroke-linejoin:miter;stroke-opacity:1\"/>\n",
       "<path class=\"bond-15 atom-14 atom-16\" d=\"M 299.5,165.0 L 348.5,193.3\" style=\"fill:none;fill-rule:evenodd;stroke:#000000;stroke-width:2.0px;stroke-linecap:butt;stroke-linejoin:miter;stroke-opacity:1\"/>\n",
       "<path class=\"bond-16 atom-14 atom-21\" d=\"M 299.5,165.0 L 250.5,193.3\" style=\"fill:none;fill-rule:evenodd;stroke:#000000;stroke-width:2.0px;stroke-linecap:butt;stroke-linejoin:miter;stroke-opacity:1\"/>\n",
       "<path class=\"bond-17 atom-15 atom-18\" d=\"M 299.5,108.4 L 348.5,80.2\" style=\"fill:none;fill-rule:evenodd;stroke:#000000;stroke-width:2.0px;stroke-linecap:butt;stroke-linejoin:miter;stroke-opacity:1\"/>\n",
       "<path class=\"bond-18 atom-16 atom-17\" d=\"M 348.5,193.3 L 397.5,165.0\" style=\"fill:none;fill-rule:evenodd;stroke:#000000;stroke-width:2.0px;stroke-linecap:butt;stroke-linejoin:miter;stroke-opacity:1\"/>\n",
       "<path class=\"bond-18 atom-16 atom-17\" d=\"M 348.5,183.5 L 389.0,160.1\" style=\"fill:none;fill-rule:evenodd;stroke:#000000;stroke-width:2.0px;stroke-linecap:butt;stroke-linejoin:miter;stroke-opacity:1\"/>\n",
       "<path class=\"bond-19 atom-17 atom-19\" d=\"M 397.5,165.0 L 397.5,108.4\" style=\"fill:none;fill-rule:evenodd;stroke:#000000;stroke-width:2.0px;stroke-linecap:butt;stroke-linejoin:miter;stroke-opacity:1\"/>\n",
       "<path class=\"bond-20 atom-18 atom-19\" d=\"M 348.5,80.2 L 397.5,108.4\" style=\"fill:none;fill-rule:evenodd;stroke:#000000;stroke-width:2.0px;stroke-linecap:butt;stroke-linejoin:miter;stroke-opacity:1\"/>\n",
       "<path class=\"bond-20 atom-18 atom-19\" d=\"M 348.5,90.0 L 389.0,113.3\" style=\"fill:none;fill-rule:evenodd;stroke:#000000;stroke-width:2.0px;stroke-linecap:butt;stroke-linejoin:miter;stroke-opacity:1\"/>\n",
       "<path class=\"bond-21 atom-19 atom-20\" d=\"M 397.5,108.4 L 417.3,97.0\" style=\"fill:none;fill-rule:evenodd;stroke:#000000;stroke-width:2.0px;stroke-linecap:butt;stroke-linejoin:miter;stroke-opacity:1\"/>\n",
       "<path class=\"bond-21 atom-19 atom-20\" d=\"M 417.3,97.0 L 437.2,85.5\" style=\"fill:none;fill-rule:evenodd;stroke:#FF0000;stroke-width:2.0px;stroke-linecap:butt;stroke-linejoin:miter;stroke-opacity:1\"/>\n",
       "<path class=\"bond-22 atom-6 atom-21\" d=\"M 250.5,239.9 L 250.5,216.6\" style=\"fill:none;fill-rule:evenodd;stroke:#FF0000;stroke-width:2.0px;stroke-linecap:butt;stroke-linejoin:miter;stroke-opacity:1\"/>\n",
       "<path class=\"bond-22 atom-6 atom-21\" d=\"M 250.5,216.6 L 250.5,193.3\" style=\"fill:none;fill-rule:evenodd;stroke:#000000;stroke-width:2.0px;stroke-linecap:butt;stroke-linejoin:miter;stroke-opacity:1\"/>\n",
       "<path d=\"M 57.0,251.3 L 54.5,249.9 L 54.5,248.7\" style=\"fill:none;stroke:#000000;stroke-width:2.0px;stroke-linecap:butt;stroke-linejoin:miter;stroke-opacity:1;\"/>\n",
       "<path d=\"M 200.5,164.4 L 201.5,165.0 L 203.9,166.4\" style=\"fill:none;stroke:#000000;stroke-width:2.0px;stroke-linecap:butt;stroke-linejoin:miter;stroke-opacity:1;\"/>\n",
       "<path d=\"M 299.5,111.3 L 299.5,108.4 L 301.9,107.0\" style=\"fill:none;stroke:#000000;stroke-width:2.0px;stroke-linecap:butt;stroke-linejoin:miter;stroke-opacity:1;\"/>\n",
       "<path d=\"M 346.0,191.9 L 348.5,193.3 L 350.9,191.9\" style=\"fill:none;stroke:#000000;stroke-width:2.0px;stroke-linecap:butt;stroke-linejoin:miter;stroke-opacity:1;\"/>\n",
       "<path d=\"M 395.0,166.4 L 397.5,165.0 L 397.5,162.2\" style=\"fill:none;stroke:#000000;stroke-width:2.0px;stroke-linecap:butt;stroke-linejoin:miter;stroke-opacity:1;\"/>\n",
       "<path d=\"M 346.0,81.6 L 348.5,80.2 L 350.9,81.6\" style=\"fill:none;stroke:#000000;stroke-width:2.0px;stroke-linecap:butt;stroke-linejoin:miter;stroke-opacity:1;\"/>\n",
       "<path class=\"atom-6\" d=\"M 243.1 249.9 Q 243.1 246.1, 245.0 243.9 Q 246.9 241.8, 250.5 241.8 Q 254.0 241.8, 255.9 243.9 Q 257.8 246.1, 257.8 249.9 Q 257.8 253.8, 255.9 256.0 Q 254.0 258.2, 250.5 258.2 Q 246.9 258.2, 245.0 256.0 Q 243.1 253.8, 243.1 249.9 M 250.5 256.4 Q 252.9 256.4, 254.2 254.8 Q 255.6 253.1, 255.6 249.9 Q 255.6 246.8, 254.2 245.2 Q 252.9 243.6, 250.5 243.6 Q 248.0 243.6, 246.7 245.2 Q 245.4 246.8, 245.4 249.9 Q 245.4 253.2, 246.7 254.8 Q 248.0 256.4, 250.5 256.4 \" fill=\"#FF0000\"/>\n",
       "<path class=\"atom-7\" d=\"M 243.1 363.1 Q 243.1 359.2, 245.0 357.1 Q 246.9 354.9, 250.5 354.9 Q 254.0 354.9, 255.9 357.1 Q 257.8 359.2, 257.8 363.1 Q 257.8 367.0, 255.9 369.2 Q 254.0 371.4, 250.5 371.4 Q 246.9 371.4, 245.0 369.2 Q 243.1 367.0, 243.1 363.1 M 250.5 369.6 Q 252.9 369.6, 254.2 367.9 Q 255.6 366.3, 255.6 363.1 Q 255.6 359.9, 254.2 358.3 Q 252.9 356.7, 250.5 356.7 Q 248.0 356.7, 246.7 358.3 Q 245.4 359.9, 245.4 363.1 Q 245.4 366.3, 246.7 367.9 Q 248.0 369.6, 250.5 369.6 \" fill=\"#FF0000\"/>\n",
       "<path class=\"atom-7\" d=\"M 260.3 355.1 L 262.5 355.1 L 262.5 361.9 L 270.7 361.9 L 270.7 355.1 L 272.9 355.1 L 272.9 371.1 L 270.7 371.1 L 270.7 363.7 L 262.5 363.7 L 262.5 371.1 L 260.3 371.1 L 260.3 355.1 \" fill=\"#FF0000\"/>\n",
       "<path class=\"atom-8\" d=\"M 145.1 419.6 Q 145.1 415.8, 147.0 413.6 Q 148.9 411.5, 152.5 411.5 Q 156.0 411.5, 157.9 413.6 Q 159.8 415.8, 159.8 419.6 Q 159.8 423.5, 157.9 425.8 Q 156.0 427.9, 152.5 427.9 Q 149.0 427.9, 147.0 425.8 Q 145.1 423.6, 145.1 419.6 M 152.5 426.1 Q 154.9 426.1, 156.2 424.5 Q 157.6 422.9, 157.6 419.6 Q 157.6 416.5, 156.2 414.9 Q 154.9 413.3, 152.5 413.3 Q 150.0 413.3, 148.7 414.9 Q 147.4 416.5, 147.4 419.6 Q 147.4 422.9, 148.7 424.5 Q 150.0 426.1, 152.5 426.1 \" fill=\"#FF0000\"/>\n",
       "<path class=\"atom-8\" d=\"M 162.3 411.7 L 164.5 411.7 L 164.5 418.5 L 172.7 418.5 L 172.7 411.7 L 174.9 411.7 L 174.9 427.7 L 172.7 427.7 L 172.7 420.3 L 164.5 420.3 L 164.5 427.7 L 162.3 427.7 L 162.3 411.7 \" fill=\"#FF0000\"/>\n",
       "<path class=\"atom-9\" d=\"M 31.3 355.1 L 33.5 355.1 L 33.5 361.9 L 41.7 361.9 L 41.7 355.1 L 43.9 355.1 L 43.9 371.1 L 41.7 371.1 L 41.7 363.7 L 33.5 363.7 L 33.5 371.1 L 31.3 371.1 L 31.3 355.1 \" fill=\"#FF0000\"/>\n",
       "<path class=\"atom-9\" d=\"M 47.1 363.1 Q 47.1 359.2, 49.0 357.1 Q 50.9 354.9, 54.5 354.9 Q 58.1 354.9, 60.0 357.1 Q 61.9 359.2, 61.9 363.1 Q 61.9 367.0, 59.9 369.2 Q 58.0 371.4, 54.5 371.4 Q 51.0 371.4, 49.0 369.2 Q 47.1 367.0, 47.1 363.1 M 54.5 369.6 Q 56.9 369.6, 58.3 367.9 Q 59.6 366.3, 59.6 363.1 Q 59.6 359.9, 58.3 358.3 Q 56.9 356.7, 54.5 356.7 Q 52.1 356.7, 50.7 358.3 Q 49.4 359.9, 49.4 363.1 Q 49.4 366.3, 50.7 367.9 Q 52.1 369.6, 54.5 369.6 \" fill=\"#FF0000\"/>\n",
       "<path class=\"atom-10\" d=\"M 145.1 249.9 Q 145.1 246.1, 147.0 243.9 Q 148.9 241.8, 152.5 241.8 Q 156.0 241.8, 157.9 243.9 Q 159.8 246.1, 159.8 249.9 Q 159.8 253.8, 157.9 256.0 Q 156.0 258.2, 152.5 258.2 Q 149.0 258.2, 147.0 256.0 Q 145.1 253.8, 145.1 249.9 M 152.5 256.4 Q 154.9 256.4, 156.2 254.8 Q 157.6 253.1, 157.6 249.9 Q 157.6 246.8, 156.2 245.2 Q 154.9 243.6, 152.5 243.6 Q 150.0 243.6, 148.7 245.2 Q 147.4 246.8, 147.4 249.9 Q 147.4 253.2, 148.7 254.8 Q 150.0 256.4, 152.5 256.4 \" fill=\"#FF0000\"/>\n",
       "<path class=\"atom-11\" d=\"M 47.1 193.3 Q 47.1 189.5, 49.0 187.3 Q 50.9 185.2, 54.5 185.2 Q 58.1 185.2, 60.0 187.3 Q 61.9 189.5, 61.9 193.3 Q 61.9 197.2, 59.9 199.5 Q 58.0 201.7, 54.5 201.7 Q 51.0 201.7, 49.0 199.5 Q 47.1 197.3, 47.1 193.3 M 54.5 199.8 Q 56.9 199.8, 58.3 198.2 Q 59.6 196.6, 59.6 193.3 Q 59.6 190.2, 58.3 188.6 Q 56.9 187.0, 54.5 187.0 Q 52.1 187.0, 50.7 188.6 Q 49.4 190.2, 49.4 193.3 Q 49.4 196.6, 50.7 198.2 Q 52.1 199.8, 54.5 199.8 \" fill=\"#FF0000\"/>\n",
       "<path class=\"atom-11\" d=\"M 64.3 185.4 L 66.5 185.4 L 66.5 192.2 L 74.7 192.2 L 74.7 185.4 L 76.9 185.4 L 76.9 201.4 L 74.7 201.4 L 74.7 194.0 L 66.5 194.0 L 66.5 201.4 L 64.3 201.4 L 64.3 185.4 \" fill=\"#FF0000\"/>\n",
       "<path class=\"atom-12\" d=\"M 148.9 128.7 L 154.2 137.2 Q 154.7 138.0, 155.6 139.6 Q 156.4 141.1, 156.4 141.2 L 156.4 128.7 L 158.6 128.7 L 158.6 144.7 L 156.4 144.7 L 150.7 135.5 Q 150.1 134.4, 149.4 133.1 Q 148.7 131.9, 148.5 131.5 L 148.5 144.7 L 146.4 144.7 L 146.4 128.7 L 148.9 128.7 \" fill=\"#0000FF\"/>\n",
       "<path class=\"atom-20\" d=\"M 439.1 80.2 Q 439.1 76.4, 441.0 74.2 Q 442.9 72.1, 446.5 72.1 Q 450.0 72.1, 451.9 74.2 Q 453.8 76.4, 453.8 80.2 Q 453.8 84.1, 451.9 86.3 Q 450.0 88.5, 446.5 88.5 Q 442.9 88.5, 441.0 86.3 Q 439.1 84.1, 439.1 80.2 M 446.5 86.7 Q 448.9 86.7, 450.2 85.1 Q 451.5 83.4, 451.5 80.2 Q 451.5 77.1, 450.2 75.5 Q 448.9 73.9, 446.5 73.9 Q 444.0 73.9, 442.7 75.4 Q 441.4 77.0, 441.4 80.2 Q 441.4 83.4, 442.7 85.1 Q 444.0 86.7, 446.5 86.7 \" fill=\"#FF0000\"/>\n",
       "<path class=\"atom-20\" d=\"M 456.3 72.2 L 458.5 72.2 L 458.5 79.0 L 466.7 79.0 L 466.7 72.2 L 468.8 72.2 L 468.8 88.3 L 466.7 88.3 L 466.7 80.9 L 458.5 80.9 L 458.5 88.3 L 456.3 88.3 L 456.3 72.2 \" fill=\"#FF0000\"/>\n",
       "</svg>"
      ],
      "text/plain": [
       "<IPython.core.display.SVG object>"
      ]
     },
     "execution_count": 65,
     "metadata": {},
     "output_type": "execute_result"
    }
   ],
   "source": [
    "SVG(\"dhurrin_ccd.svg\")"
   ]
  },
  {
   "cell_type": "markdown",
   "metadata": {},
   "source": [
    "## Analysis of Drug-like molecules in PDB"
   ]
  },
  {
   "cell_type": "code",
   "execution_count": 8,
   "metadata": {},
   "outputs": [
    {
     "data": {
      "text/plain": [
       "array(['BME', 'MES', 'SAH', ..., 'G3D', 'IYJ', '6UB'], dtype=object)"
      ]
     },
     "execution_count": 8,
     "metadata": {},
     "output_type": "execute_result"
    }
   ],
   "source": [
    "drug_like_molecules = int_chain_ligand.loc[int_chain_ligand[\"annotation\"]==\"drug-like\", \"LigandID\"].unique()\n",
    "drug_like_molecules"
   ]
  },
  {
   "cell_type": "code",
   "execution_count": 67,
   "metadata": {},
   "outputs": [],
   "source": [
    "ccd_component_cif = os.path.join(PDBECHEM_URL, \"ccd\", \"components.cif\")\n",
    "wget.download(ccd_component_cif)"
   ]
  },
  {
   "cell_type": "code",
   "execution_count": 2,
   "metadata": {},
   "outputs": [],
   "source": [
    "ccd_components = ccd_reader.read_pdb_components_file(\"components.cif\")"
   ]
  },
  {
   "cell_type": "code",
   "execution_count": 3,
   "metadata": {},
   "outputs": [],
   "source": [
    "import matplotlib.pyplot as plt"
   ]
  },
  {
   "cell_type": "code",
   "execution_count": 9,
   "metadata": {},
   "outputs": [],
   "source": [
    "#Filter based on number of atoms\n",
    "drug_like_with_heavy_atoms = []\n",
    "for ccd in drug_like_molecules:\n",
    "    num_heavy_atoms = ccd_components[ccd].component.physchem_properties.get(\"NumHeavyAtoms\", 0)\n",
    "    if num_heavy_atoms > 6:\n",
    "        drug_like_with_heavy_atoms.append(ccd)\n"
   ]
  },
  {
   "cell_type": "code",
   "execution_count": 10,
   "metadata": {},
   "outputs": [],
   "source": [
    "drug_like_weights = []\n",
    "for ccd in drug_like_with_heavy_atoms:\n",
    "    if \"exactmw\" in ccd_components[ccd].component.physchem_properties:\n",
    "        drug_like_weights.append(ccd_components[ccd].component.physchem_properties[\"exactmw\"])"
   ]
  },
  {
   "cell_type": "code",
   "execution_count": 11,
   "metadata": {},
   "outputs": [
    {
     "data": {
      "image/png": "[encoded data removed]",
      "text/plain": [
       "<Figure size 640x480 with 1 Axes>"
      ]
     },
     "metadata": {},
     "output_type": "display_data"
    }
   ],
   "source": [
    "plt.hist(drug_like_weights)\n",
    "plt.xlabel(\"Molecular Weight\")\n",
    "plt.ylabel(\"Frequency\")\n",
    "plt.show()"
   ]
  }
 ],
 "metadata": {
  "kernelspec": {
   "display_name": "Python 3 (ipykernel)",
   "language": "python",
   "name": "python3"
  },
  "language_info": {
   "codemirror_mode": {
    "name": "ipython",
    "version": 3
   },
   "file_extension": ".py",
   "mimetype": "text/x-python",
   "name": "python",
   "nbconvert_exporter": "python",
   "pygments_lexer": "ipython3",
   "version": "3.10.0"
  }
 },
 "nbformat": 4,
 "nbformat_minor": 4
}
