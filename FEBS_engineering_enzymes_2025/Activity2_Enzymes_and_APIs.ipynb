{
  "nbformat": 4,
  "nbformat_minor": 0,
  "metadata": {
    "colab": {
      "provenance": [],
      "collapsed_sections": [
        "SA22dGnLwoxM",
        "-Ah_YdhOzh3j",
        "w0fuMcGHtIPu",
        "vUpodoU4tfbt",
        "cJtKDF4DudZk"
      ],
      "toc_visible": true,
      "include_colab_link": true
    },
    "kernelspec": {
      "name": "python3",
      "display_name": "Python 3"
    },
    "language_info": {
      "name": "python"
    }
  },
  "cells": [
    {
      "cell_type": "markdown",
      "metadata": {
        "id": "view-in-github",
        "colab_type": "text"
      },
      "source": [
        "<a href=\"https://colab.research.google.com/github/PDBeurope/pdbe-notebooks/blob/main/FEBS_engineering_enzymes_2025/Activity2_Enzymes_and_APIs.ipynb\" target=\"_parent\"><img src=\"https://colab.research.google.com/assets/colab-badge.svg\" alt=\"Open In Colab\"/></a>"
      ]
    },
    {
      "cell_type": "markdown",
      "source": [
        "# 🧬 Integrating Enzyme Data: APIs, Identifiers, and Smart Parsing\n",
        "\n",
        "<img src=\"https://github.com/glevans/PDB_Notebooks/raw/main/PDBe-logo.png\" height=\"200\" align=\"right\">\n",
        "\n",
        "In this notebook, you'll learn how to:\n",
        "\n",
        "- Combine information from different APIs\n",
        "- Understand the relationship between other protein identifiers (*e.g.* UniProt ID), macromolecular structures & EC (Enzyme Commission) numbers\n",
        "- Transform nested JSON data into a DataFrame\n",
        "- Use `glom` to simiplify code for nested data\n",
        "- Use AI to help generate useful code & debug code\n",
        "\n",
        "<br>\n",
        "\n",
        "---"
      ],
      "metadata": {
        "id": "xwyYc4Qf8wor"
      }
    },
    {
      "cell_type": "markdown",
      "source": [
        "## ℹ️ **Introduction**"
      ],
      "metadata": {
        "id": "xNAfmMefKNYq"
      }
    },
    {
      "cell_type": "markdown",
      "source": [
        "### **What is UniProt?**\n",
        "\n",
        "[UniProt](https://www.uniprot.org/) (Universal Protein Resource) is a globally recognized, high-quality database that provides comprehensive information on protein sequences, functions, and interactions. The information is provided for proteins across all domains of life. UniProt integrates data from multiple sources, including:\n",
        "\n",
        "*   research literature\n",
        "*   experimental findings\n",
        "*   computational predictions\n",
        "\n",
        "[UniProt](https://www.uniprot.org/) is hosted and maintained by EMBL-EBI, in collaboration with other international institutions, ensuring its reliability.  Each UniProt entry is assigned a unique identifier and corresponds to a specific combination of protein sequence and source organism. The source organism is defined by taxonomy name and taxonomy ID.\n",
        "\n",
        "---\n",
        "\n",
        "\n",
        "Every 2-4 months a new verison of UniProt is released with new entries, as well as additions and corrections to existing entries.\n",
        "\n",
        "More information on the most recent release is available here:\n",
        "\n",
        "[https://www.uniprot.org/uniprotkb/statistics](https://www.uniprot.org/uniprotkb/statistics)"
      ],
      "metadata": {
        "id": "ygRj7IBpKTJA"
      }
    },
    {
      "cell_type": "markdown",
      "source": [
        "### **Types of UniProt Entries and Their Uses**\n",
        "\n",
        "---\n",
        "\n",
        "\n",
        "🔹 **1. UniProtKB (Universal Protein Knowledgebase)**\n",
        "UniProtKB entries are divided into UniProtKB/Swiss-Prot and UniProtKB/TrEMBL.\n",
        "- **Purpose**: UniProtKB is a comprehensive resource for **protein sequence and functional information**.\n",
        "- **Entry name & accession**: Each entry has unique identifiers for tracking and referencing.\n",
        "- **Types**:\n",
        "   - *Entry status:* Reviewed (Swiss-Prot) vs. Unreviewed (TrEMBL)\n",
        "   - *Annotation level:* Manual vs. automatic\n",
        "- **Example use cases**:\n",
        "   - Studying the catalytic mechanism of enzyme from different bacterial species.\n",
        "   - Designing primers to amplify a specific isoform of a human protein.\n",
        "   - Building a phylogenetic tree of homologous proteins across species.\n",
        "\n",
        "---\n",
        "\n",
        "🔹 **2. UniRef (UniProt Reference Clusters)**\n",
        "- **Purpose**: UniRef provides **clustered sets of protein sequences** to reduce redundancy and improve search efficiency.\n",
        "- **Types**:\n",
        "  - *UniRef100:* Clusters identical sequences and fragments.\n",
        "  - *UniRef90:* Clusters sequences with ≥90% identity.\n",
        "  - *UniRef50:* Clusters sequences with ≥50% identity.\n",
        "- **Use case**: Similarity searches and large-scale analyses.\n",
        "\n",
        "🔗 [UniRef Overview](https://www.uniprot.org/help/uniref)\n",
        "\n",
        "---\n",
        "\n",
        "🔹 **3. UniParc (UniProt Archive)**\n",
        "- **Purpose**: UniParc is a comprehensive repository of all known protein sequences, regardless of their source or annotation status.\n",
        "- **Key Feature**: It stores **100% identical sequences** as single entries, even across different species or databases.\n",
        "- **Use case**: Tracking sequence history and redundancy across databases.\n",
        "\n",
        "🔗 [UniParc Overview](https://www.uniprot.org/help/uniparc)"
      ],
      "metadata": {
        "id": "73C_ASWCGygM"
      }
    },
    {
      "cell_type": "markdown",
      "source": [
        "### **What is UniRef90?**\n",
        "\n",
        "**UniRef90** is a clustered sets of protein sequences that groups protein sequences based on sequence similarity.\n",
        "\n",
        "Specifically:\n",
        "\n",
        "*  *90% identity threshold:* Proteins that share 90% or higher sequence identity are grouped into the same cluster.\n",
        "\n",
        "\n",
        "*  *Length coverage:* The alignment must cover at least 80% of the longest sequence.\n",
        "\n",
        "\n",
        "*  *Single representative:* Each cluster has one \"representative\" sequence (usually the longest or best-annotated).\n",
        "\n",
        "\n",
        "---\n",
        "\n",
        "\n",
        "\n",
        "Why Does **UniRef90** Exist?\n",
        "\n",
        "The UniProt database contains millions of protein sequences, many of which are nearly identical (*e.g.* same protein from closely related species). **UniRef90** reduces this redundancy while preserving biological diversity."
      ],
      "metadata": {
        "id": "Kc9XTgfB-EGp"
      }
    },
    {
      "cell_type": "markdown",
      "source": [
        "### **Isoforms & canonical sequences**\n",
        "\n",
        "A protein isoform is a variant of a protein that is produced from the same gene but differs in its amino acid sequence due to mechanisms like alternative splicing, alternative promoter usage, or alternative translation initiation. These isoforms can have distinct functions, localizations, or interactions within the cell.\n",
        "\n",
        "Whenever possible, all the protein products encoded by one gene in a given species are described in a single **UniProtKB/Swiss-Prot** entry, including all isoforms generated by alternative splicing, alternative promoter usage, and alternative translation initiation.\n",
        "\n",
        "When a **UniProtKB/Swiss-Prot** entry has isoforms one in amongst the gene products is chosen as the canonical sequence.\n",
        "\n",
        "The canonical sequence in a **UniProtKB/Swiss-Prot** entry is selected based on several criteria to ensure it is representative and informative:\n",
        "\n",
        "*  *Functionality:* The sequence must correspond to a functional protein product.\n",
        "*  *Expression:* It should be widely expressed across tissues or conditions.\n",
        "*  *Evolutionary Conservation:* It is encoded by conserved exons found in orthologous sequences across species.\n",
        "*  *Consensus with Other Resources:* It matches consensus sequences from other annotation efforts, like:\n",
        "   - [CCDS (Consensus Coding Sequence)](https://www.ncbi.nlm.nih.gov/projects/CCDS/CcdsBrowse.cgi) - human and mouse protein-coding regions\n",
        "   - [MANE (Matched Annotation from NCBI and EMBL-EBI)](https://www.ncbi.nlm.nih.gov/refseq/MANE/) - human protein-coding regions"
      ],
      "metadata": {
        "id": "hP4rzUYPEb0y"
      }
    },
    {
      "cell_type": "markdown",
      "source": [
        "### **What is a Python definition?**\n",
        "\n",
        "A Python definition is a way to create a reusable block of code that does something specific."
      ],
      "metadata": {
        "id": "oxbh9pLaaL3h"
      }
    },
    {
      "cell_type": "markdown",
      "source": [
        "### **What is a API?**\n",
        "\n",
        "<img src=\"https://github.com/glevans/PDB_Notebooks/raw/main/API_graphic.png\" height=\"200\" align=\"right\">\n",
        "\n",
        "The API is a programmatic way to obtain information. APIs are in the background providing information we see on websites such as [PDBe's website](https://pdbe.org). Using Python code to access APIs enables faster analysis than can be obtained by viewing information directly on websites.\n",
        "\n",
        "For more information on PDBe's APIs, visit:\n",
        "\n",
        "*   [http://www.ebi.ac.uk/pdbe/pdbe-rest-api](http://www.ebi.ac.uk/pdbe/pdbe-rest-api)\n",
        "*   [https://www.ebi.ac.uk/pdbe/api/v2/#/](https://www.ebi.ac.uk/pdbe/api/v2/#/)"
      ],
      "metadata": {
        "id": "UAZVb5APiYfM"
      }
    },
    {
      "cell_type": "markdown",
      "source": [
        "### **What is a Notebook?**\n",
        "\n",
        "A **Colab** or **Jupyter** notebook corresponds to a file with the extension `.ipynb`.\n",
        "\n",
        "Notebooks are useful for sharing examples of code and exploring progammatic ways of handling data.\n",
        "\n",
        "<br>\n",
        "\n",
        "To use this notebook in **Colab** (link at top of the page):\n",
        "\n",
        "*   you will need to have a Google account\n",
        "*   be logged in to Google Colab (by being logged into Google account)\n",
        "\n",
        "<br>\n",
        "\n",
        "To use as a **Jupyter** notebook, download & viewed with:\n",
        "\n",
        "*   a local installation of [Jupyter](https://jupyter.org/)\n",
        "*   a browser instance of [JupyterLab](https://jupyter.org/try-jupyter/lab/)\n",
        "\n",
        "<br>"
      ],
      "metadata": {
        "id": "5dp6BpjhJy4v"
      }
    },
    {
      "cell_type": "markdown",
      "source": [
        "<br>\n",
        "\n",
        "---\n",
        "\n",
        "## How to use this notebook <a name=\"Quick Start\"></a>\n",
        "1. To run a code cell, click on the cell to select it. You will notice a play button (▶️) on the left side of the cell. Click on the play button or press Shift+Enter to run the code in the selected cell.\n",
        "2. The code will start executing, and you will see the output, if any, displayed below the code cell.\n",
        "3. Move to the next code cell and repeat steps 2 and 3 until you have executed all the desired code cells in sequence.\n",
        "4. The currently running step is indicated by a circle with a stop sign next to it.\n",
        "If you need to stop or interrupt the execution of a code cell, you can click on the stop button (■) located next to the play button.\n",
        "5. The exercise & bonus challenges had empty code cells will require the addition of code before they are run.\n",
        "\n",
        "*Remember to run the code cells in the correct order, as their execution might depend on variables or functions defined in previous cells. You can modify the code in a code cell and re-run it to see updated results.*\n",
        "\n",
        "<br>\n",
        "\n",
        "---\n",
        "\n",
        "## Contact us\n",
        "\n",
        "If you experience any bugs please contact pdbehelp@ebi.ac.uk and put \"Help with\" and the title of the notebook in the subject line of the message.\n"
      ],
      "metadata": {
        "id": "v7cYcoBq9B9g"
      }
    },
    {
      "cell_type": "markdown",
      "source": [
        "## ⚙️ **Setup**\n",
        "\n"
      ],
      "metadata": {
        "id": "KrQ5Yq848ebj"
      }
    },
    {
      "cell_type": "markdown",
      "source": [
        "### 📦 Step 1: Install Required Package\n",
        "Ensure the `glom` package is installed.\n",
        "\n",
        "This is used to simplify data extraction from nested data structures."
      ],
      "metadata": {
        "id": "lT5PKwyf_MmT"
      }
    },
    {
      "cell_type": "markdown",
      "source": [
        "To run a BASH command in a Notebook, one adds `!` before the command.\n",
        "\n",
        "Many python packages are available from [PyPi](https://pypi.org/).\n",
        "\n",
        "The BASH command `pip install` installs from PyPi."
      ],
      "metadata": {
        "id": "CvtjvR_0vDZi"
      }
    },
    {
      "cell_type": "code",
      "source": [
        "# Install glom if not already installed\n",
        "!pip install glom"
      ],
      "metadata": {
        "id": "3AQYTNpNXQq5"
      },
      "execution_count": null,
      "outputs": []
    },
    {
      "cell_type": "markdown",
      "source": [
        "### 📥 Step 2: Import Modules\n",
        "\n",
        "Import all necessary Python modules for data fetching, transformation, and display."
      ],
      "metadata": {
        "id": "vsfOXpEi_VbQ"
      }
    },
    {
      "cell_type": "markdown",
      "source": [
        "We will be using Python packages / modules:\n",
        "\n",
        "*   [requests](https://docs.python.org/3/library/re.html) - allows you to send HTTP/1.1 requests extremely easily\n",
        "*   [re](https://https://docs.python.org/3/library/re.html) - allows use of regular expression matching operations similar to those found in Perl\n",
        "*   [pprint](https://docs.python.org/3/library/pprint.html) - makes data look more readable / pretty\n",
        "*   [pandas](https://pandas.pydata.org/) - for working with data in tables, like spreadsheets\n",
        "*   [glom](https://glom.readthedocs.io/en/stable/) - for exploring and accessing information in nested data structures, such as that from APIs.\n",
        "\n",
        "<br>"
      ],
      "metadata": {
        "id": "jPRMmXXmZ4Ny"
      }
    },
    {
      "cell_type": "code",
      "source": [
        "# Import necessary modules\n",
        "import re\n",
        "import requests\n",
        "from pprint import pprint\n",
        "from glom import glom, Coalesce, PathAccessError, Path\n",
        "import pandas as pd"
      ],
      "metadata": {
        "id": "S735LdtW-7Wd"
      },
      "execution_count": null,
      "outputs": []
    },
    {
      "cell_type": "markdown",
      "source": [
        "### ✔️ Step 3: Setting up functions to check identifiers\n",
        "\n",
        "Setting up two definitions to check whether identifers are correctly formatted and input is a string (not a number)."
      ],
      "metadata": {
        "id": "FxbhlqO7kjkR"
      }
    },
    {
      "cell_type": "code",
      "source": [
        "def is_pdb_id(identifier):\n",
        "    \"\"\"\n",
        "    Check if a string is a valid PDB ID.\n",
        "\n",
        "    Parameters:\n",
        "        identifier (str): The string to check.\n",
        "\n",
        "    Returns:\n",
        "        bool: True if it matches PDB ID format, False otherwise.\n",
        "    \"\"\"\n",
        "    if isinstance(identifier, str):\n",
        "        # PDB IDs are 4-character strings starting with a digit\n",
        "        pattern = r\"^[0-9][A-Za-z0-9]{3}$\"\n",
        "        return bool(re.match(pattern, identifier))\n",
        "    else:\n",
        "        return False"
      ],
      "metadata": {
        "id": "ETVXFJqBl045"
      },
      "execution_count": null,
      "outputs": []
    },
    {
      "cell_type": "code",
      "source": [
        "# Example usage\n",
        "print(is_pdb_id(\"2XFU\"))           # True\n",
        "print(is_pdb_id(\"2xfu\"))           # True\n",
        "print(is_pdb_id(\"P69905\"))         # False\n",
        "print(is_pdb_id(\"not_a_protein\"))  # False\n",
        "print(is_pdb_id(123))              # False\n",
        "print(is_pdb_id(10.25))            # False"
      ],
      "metadata": {
        "id": "imHNPAuH1015"
      },
      "execution_count": null,
      "outputs": []
    },
    {
      "cell_type": "code",
      "source": [
        "def is_uniprot_id(identifier):\n",
        "    \"\"\"\n",
        "    Check if a string is a valid UniProt accession or entry name.\n",
        "\n",
        "    Parameters:\n",
        "        identifier (str): The string to check.\n",
        "\n",
        "    Returns:\n",
        "        bool: True if it matches UniProt ID patterns, False otherwise.\n",
        "    \"\"\"\n",
        "    if isinstance(identifier, str):\n",
        "      # UniProt accessions: 6 or 10 characters, starting with a letter\n",
        "      accession_pattern = r\"^[A-Z0-9]{6}$|^[A-Z0-9]{10}$\"\n",
        "      # UniProt entry names: e.g., P69905_HUMAN\n",
        "      entry_name_pattern = r\"^[A-Z0-9]+_[A-Z0-9]+$\"\n",
        "      return bool(re.match(accession_pattern, identifier)) or bool(re.match(entry_name_pattern, identifier))\n",
        "    else:\n",
        "      return False"
      ],
      "metadata": {
        "id": "eklOmvRKltIj"
      },
      "execution_count": null,
      "outputs": []
    },
    {
      "cell_type": "code",
      "source": [
        "# Example usage\n",
        "print(is_uniprot_id(\"P69905\"))            # True\n",
        "print(is_uniprot_id(\"G1L2V2\"))            # True\n",
        "print(is_uniprot_id(\"HIS4_MYCTA\"))        # True\n",
        "print(is_uniprot_id(\"A0A081HVH1_9MYCO\"))  # True\n",
        "print(is_uniprot_id(\"A0A081HVH1\"))        # True\n",
        "print(is_uniprot_id(\"not_a_protein\"))     # False\n",
        "print(is_uniprot_id(\"2xfu\"))              # False\n",
        "print(is_uniprot_id(123))                 # False\n",
        "print(is_uniprot_id(10.25))               # False"
      ],
      "metadata": {
        "id": "ZdUdUtrT1uAI"
      },
      "execution_count": null,
      "outputs": []
    },
    {
      "cell_type": "markdown",
      "source": [
        "### 🌐 Step 4: Setting up variables\n",
        "\n",
        "Full list of PDBe API endpoints is available from: https://www.ebi.ac.uk/pdbe/api/v2/doc/"
      ],
      "metadata": {
        "id": "WmGphL8DkxPD"
      }
    },
    {
      "cell_type": "code",
      "source": [
        "# Defining variables to describe API urls\n",
        "ebi_host = \"https://www.ebi.ac.uk/\"\n",
        "\n",
        "pdbe_api_base = ebi_host + \"pdbe/api/v2/\"\n",
        "\n",
        "best_isoform_url = pdbe_api_base + \"mappings/isoforms/\"\n",
        "\n",
        "# We have defined a variable called best_isoform_url with the following value:\n",
        "#### https://www.ebi.ac.uk/pdbe/api/v2/mapping/isoforms/\n",
        "\n",
        "structures_ranked_url = pdbe_api_base + \"uniprot/best_structures/\"\n",
        "\n",
        "# We have defined a variable called best_isoform_url with the following value:\n",
        "#### https://www.ebi.ac.uk/pdbe/api/v2/uniprot/structures_ranked_url/"
      ],
      "metadata": {
        "id": "Frwe_Hi0TTvo"
      },
      "execution_count": null,
      "outputs": []
    },
    {
      "cell_type": "markdown",
      "source": [
        "Uniprot has many APIs.\n",
        "\n",
        "List of some UniProt APIs is here:\n",
        "[https://www.uniprot.org/help/api_retrieve_entries](https://www.uniprot.org/help/api_retrieve_entries)\n",
        "\n",
        "More information on UniProt APIs:\n",
        "[https://www.uniprot.org/help/api_queries](https://www.uniprot.org/help/api_queries)"
      ],
      "metadata": {
        "id": "FhcrfG2iA-jt"
      }
    },
    {
      "cell_type": "code",
      "source": [
        "# Defining more variables to describe API urls\n",
        "uniprot_rest_host = \"https://rest.uniprot.org/\"\n",
        "\n",
        "uniref_url = uniprot_rest_host + \"uniref/\"\n",
        "\n",
        "# We have defined a variable called uniref_url with the following value:\n",
        "#### https://rest.uniprot.org/uniref/\n",
        "\n",
        "uniref_search_url = uniprot_rest_host + \"uniref/search?query=\"\n",
        "\n",
        "# We have defined a variable called unire_search_url with the following value:\n",
        "#### https://rest.uniprot.org/uniref/search?query="
      ],
      "metadata": {
        "id": "lcpP5xakBA9L"
      },
      "execution_count": null,
      "outputs": []
    },
    {
      "cell_type": "markdown",
      "source": [
        "## 💻 **Setting-up data retrieval from API endpoints**\n",
        "\n",
        "Setting-up new Python definitions to retrieve data from different PDBe and UniProt API endpoints."
      ],
      "metadata": {
        "id": "wFlrAr6x8dHI"
      }
    },
    {
      "cell_type": "markdown",
      "source": [
        "### **1. Best UniProt isoform for a PDB entry**"
      ],
      "metadata": {
        "id": "Gg8uQnHw1_7N"
      }
    },
    {
      "cell_type": "code",
      "source": [
        "def fetch_best_isoform(pdb_id):\n",
        "    # Validate PDB ID format (using previous definition)\n",
        "    if is_pdb_id(pdb_id) is False:\n",
        "        print(f\"Invalid PDB ID: {pdb_id}\")\n",
        "        return None\n",
        "    else:\n",
        "      print(f\"Validated PDB ID: {pdb_id}\")\n",
        "\n",
        "      # Make GET request\n",
        "      full_url = f\"{best_isoform_url}{pdb_id}\"\n",
        "      response = requests.get(full_url)\n",
        "      print(\"URL:\", full_url)\n",
        "\n",
        "    if response.status_code == 200:\n",
        "        print(\"Data retrieved successfully.\")\n",
        "        return response.json()\n",
        "    else:\n",
        "        print(f\"Failed to retrieve data. Status code: {response.status_code}\")\n",
        "        return None"
      ],
      "metadata": {
        "id": "frd0tq7zld_u"
      },
      "execution_count": null,
      "outputs": []
    },
    {
      "cell_type": "code",
      "source": [
        "# Example usage\n",
        "pdb_id = \"1ffy\" # Example: Isoleucine--tRNA ligase\n",
        "result_1ffy = fetch_best_isoform(pdb_id)\n",
        "pprint(result_1ffy)"
      ],
      "metadata": {
        "id": "nbTsCGVy1nHv"
      },
      "execution_count": null,
      "outputs": []
    },
    {
      "cell_type": "code",
      "source": [
        "def fetch_isoforms_for_pdbids(pdb_ids_string):\n",
        "    \"\"\"\n",
        "    Process a comma-separated string of PDB IDs and fetch data for each.\n",
        "    \"\"\"\n",
        "    pdb_ids = [pid.strip() for pid in pdb_ids_string.split(\",\")]\n",
        "    results = {}\n",
        "\n",
        "    for pdb_id in pdb_ids:\n",
        "        data = fetch_best_isoform(pdb_id)\n",
        "        if data:\n",
        "            results[pdb_id] = data\n",
        "\n",
        "    return results"
      ],
      "metadata": {
        "id": "ZCxuuzUEyBwT"
      },
      "execution_count": null,
      "outputs": []
    },
    {
      "cell_type": "code",
      "source": [
        "# Example usage:\n",
        "\n",
        "pdb_ids_as_list = [\n",
        "    \"3LII\", \"3K5V\", \"1U70\", \"2XFU\", \"2X91\",\n",
        "]\n",
        "\n",
        "pdb_ids_string = \", \".join(pdb_ids_as_list)\n",
        "\n",
        "print(pdb_ids_string)\n",
        "\n",
        "results = fetch_isoforms_for_pdbids(pdb_ids_string)\n",
        "pprint(results)\n"
      ],
      "metadata": {
        "id": "x55kY5_CyDnW"
      },
      "execution_count": null,
      "outputs": []
    },
    {
      "cell_type": "markdown",
      "source": [
        "### **2. PDB structures for a UniProt entry (ranked)**"
      ],
      "metadata": {
        "id": "r4i2dJeoIfkJ"
      }
    },
    {
      "cell_type": "code",
      "source": [
        "def fetch_ranked_structures(uniprot_id):\n",
        "    # Validate UniProt ID format (using previous definition)\n",
        "    if is_uniprot_id(uniprot_id) is False:\n",
        "        print(f\"Invalid UniProt ID: {uniprot_id}\")\n",
        "        return None\n",
        "    else:\n",
        "      print(f\"Validated UniProt ID: {uniprot_id}\")\n",
        "\n",
        "      # Make GET request\n",
        "      full_url = f\"{structures_ranked_url}{uniprot_id}\"\n",
        "      response = requests.get(full_url)\n",
        "      print(\"URL:\", full_url)\n",
        "\n",
        "    if response.status_code == 200:\n",
        "        print(\"Data retrieved successfully.\")\n",
        "        return response.json()\n",
        "    else:\n",
        "        print(f\"Failed to retrieve data. Status code: {response.status_code}\")\n",
        "        return None"
      ],
      "metadata": {
        "id": "ZVAsaTeOI00p"
      },
      "execution_count": null,
      "outputs": []
    },
    {
      "cell_type": "code",
      "source": [
        "# Example usage\n",
        "uniprot_id = \"P41972\" # Example: Isoleucine--tRNA ligase\n",
        "result_P41972 = fetch_ranked_structures(uniprot_id)\n",
        "pprint(result_P41972)"
      ],
      "metadata": {
        "id": "YD8yzxWpJP40"
      },
      "execution_count": null,
      "outputs": []
    },
    {
      "cell_type": "markdown",
      "source": [
        "### **3. Retrieve UniRef clusters for a UniProt ID**"
      ],
      "metadata": {
        "id": "K-aI66NMML0m"
      }
    },
    {
      "cell_type": "code",
      "source": [
        "def fetch_uniref_clusters(uniprot_id):\n",
        "    # Validate UniProt ID format (using previous definition)\n",
        "    if is_uniprot_id(uniprot_id) is False:\n",
        "        print(f\"Invalid UniProt ID: {uniprot_id}\")\n",
        "        return None\n",
        "    else:\n",
        "      print(f\"Validated UniProt ID: {uniprot_id}\")\n",
        "\n",
        "      # Make GET request\n",
        "      full_url = f\"{uniref_search_url}{uniprot_id}&size=3\"\n",
        "      print(\"URL:\", full_url)\n",
        "      response = requests.get(full_url)\n",
        "\n",
        "    if response.status_code == 200:\n",
        "        print(\"Data retrieved successfully.\")\n",
        "        return response.json()\n",
        "    else:\n",
        "        print(f\"Failed to retrieve data. Status code: {response.status_code}\")\n",
        "        return None"
      ],
      "metadata": {
        "id": "0AV72DUJOWMa"
      },
      "execution_count": null,
      "outputs": []
    },
    {
      "cell_type": "code",
      "source": [
        "# Example usage\n",
        "uniprot_id = \"G1L2V2\"  # Example: Alcohol dehydrogenase (from Giant Panda)\n",
        "uniref_clusters_G1L2V2 = fetch_uniref_clusters(uniprot_id)\n",
        "pprint(uniref_clusters_G1L2V2)"
      ],
      "metadata": {
        "id": "t_nE3SUeNtkg"
      },
      "execution_count": null,
      "outputs": []
    },
    {
      "cell_type": "markdown",
      "source": [
        "### **4. Retrieve UniRef90 clusters contents**"
      ],
      "metadata": {
        "id": "ueCyDlVkPkU8"
      }
    },
    {
      "cell_type": "code",
      "source": [
        "def fetch_uniref90_content(uniprot_id):\n",
        "    # Validate UniProt ID format (using previous definition)\n",
        "    if is_uniprot_id(uniprot_id) is False:\n",
        "        print(f\"Invalid UniProt ID: {uniprot_id}\")\n",
        "        return None\n",
        "    else:\n",
        "      print(f\"Validated UniProt ID: {uniprot_id}\")\n",
        "\n",
        "      # Make GET request\n",
        "      full_url = f\"{uniref_url}UniRef90_{uniprot_id}\"\n",
        "      print(\"URL:\", full_url)\n",
        "      response = requests.get(full_url)\n",
        "\n",
        "    if response.status_code == 200:\n",
        "        print(\"Data retrieved successfully.\")\n",
        "        return response.json()\n",
        "    else:\n",
        "        print(f\"Failed to retrieve data. Status code: {response.status_code}\")\n",
        "        return None"
      ],
      "metadata": {
        "id": "h65QgRr8fEuL"
      },
      "execution_count": null,
      "outputs": []
    },
    {
      "cell_type": "code",
      "source": [
        "# Example usage\n",
        "uniprot_id = \"P00327\"  # Example: Alcohol dehydrogenase (from Horse)\n",
        "uniref90_content_P00327 = fetch_uniref90_content(uniprot_id)\n",
        "pprint(uniref90_content_P00327)"
      ],
      "metadata": {
        "id": "3KMKtvbNPVSb"
      },
      "execution_count": null,
      "outputs": []
    },
    {
      "cell_type": "markdown",
      "source": [
        "### Example data to test code"
      ],
      "metadata": {
        "id": "kHxi-Urd_IiR"
      }
    },
    {
      "cell_type": "markdown",
      "source": [
        "Example data retrieved using the 4 new Python definition:\n",
        "\n",
        "1.  `result_1ffy`\n",
        "2.  `result_P41972`\n",
        "3.  `uniref_clusters_G1L2V2`\n",
        "4.  `uniref90_content_P00327`"
      ],
      "metadata": {
        "id": "ZHYlJ-4JiiMF"
      }
    },
    {
      "cell_type": "markdown",
      "source": [
        "## 🧭 **Exploring API endpoint Python definitions**\n"
      ],
      "metadata": {
        "id": "MtBOzBdquhUw"
      }
    },
    {
      "cell_type": "markdown",
      "source": [
        "### 🔑 Step 1: Top-Level Keys\n",
        "\n",
        "Use this to get a quick overview of the the top-level division of information from the API."
      ],
      "metadata": {
        "id": "M6Dxi8Ns8q1J"
      }
    },
    {
      "cell_type": "code",
      "source": [
        "# Print top-level keys to understand the structure\n",
        "print(result_1ffy.keys())\n",
        "print(result_P41972.keys())\n",
        "print(uniref_clusters_G1L2V2.keys())\n",
        "print(uniref90_content_P00327.keys())"
      ],
      "metadata": {
        "id": "dKurtVWpXQV3"
      },
      "execution_count": null,
      "outputs": []
    },
    {
      "cell_type": "markdown",
      "source": [
        "### 🧰 Step 2: Map All Keys\n",
        "\n",
        "We are using a Python definition to find all the dictionary keys in the nested structure.\n",
        "\n",
        "This is useful approach for understanding deeply nested JSON objects."
      ],
      "metadata": {
        "id": "qL87rSuF85Be"
      }
    },
    {
      "cell_type": "markdown",
      "source": [
        "🧠 **Function: map_keys**"
      ],
      "metadata": {
        "id": "nJ4qtxrn9VHx"
      }
    },
    {
      "cell_type": "code",
      "source": [
        "# Define a recursive function to map all keys\n",
        "def map_keys(d, level=0, path=''):\n",
        "    # If the current object is a dictionary\n",
        "    if isinstance(d, dict):\n",
        "        for k, v in d.items():\n",
        "            # Build the full path to the current key\n",
        "            full_path = f\"{path}.{k}\" if path else k\n",
        "            # Print the key with indentation based on the current level\n",
        "            print(\"  \" * level + f\"- {full_path}\")\n",
        "            # Recursively call map_keys on the value\n",
        "            map_keys(v, level + 1, full_path)\n",
        "\n",
        "    # If the current object is a list\n",
        "    elif isinstance(d, list):\n",
        "        for i, item in enumerate(d):\n",
        "            # Build the full path to the current list index\n",
        "            full_path = f\"{path}[{i}]\"\n",
        "            # Recursively call map_keys on the list item\n",
        "            map_keys(item, level + 1, full_path)"
      ],
      "metadata": {
        "id": "Q5mUbhgGbM8a"
      },
      "execution_count": null,
      "outputs": []
    },
    {
      "cell_type": "markdown",
      "source": [
        "▶️ **Run the Function**"
      ],
      "metadata": {
        "id": "NR_WWDua9cnO"
      }
    },
    {
      "cell_type": "markdown",
      "source": [
        "#### Mapping keys for Result 1"
      ],
      "metadata": {
        "id": "e5piE_tVoYV4"
      }
    },
    {
      "cell_type": "code",
      "source": [
        "# Call the function on your JSON-like data structure\n",
        "map_keys(result_1ffy)"
      ],
      "metadata": {
        "id": "aaKCNu5rbRTB"
      },
      "execution_count": null,
      "outputs": []
    },
    {
      "cell_type": "markdown",
      "source": [
        "#### Mapping keys for Result 2"
      ],
      "metadata": {
        "id": "4DiHyXi1osmb"
      }
    },
    {
      "cell_type": "code",
      "source": [
        "# Call the function on your JSON-like data structure\n",
        "map_keys(result_P41972)"
      ],
      "metadata": {
        "id": "4XNJbjpgnsPF"
      },
      "execution_count": null,
      "outputs": []
    },
    {
      "cell_type": "markdown",
      "source": [
        "#### Mapping keys for Result 3"
      ],
      "metadata": {
        "id": "lTJWPGeEopPv"
      }
    },
    {
      "cell_type": "code",
      "source": [
        "# Call the function on your JSON-like data structure\n",
        "map_keys(uniref_clusters_G1L2V2)"
      ],
      "metadata": {
        "id": "qUc_Veh_n6gW"
      },
      "execution_count": null,
      "outputs": []
    },
    {
      "cell_type": "markdown",
      "source": [
        "#### Mapping keys for Result 4"
      ],
      "metadata": {
        "id": "mWkguyfzoPUV"
      }
    },
    {
      "cell_type": "code",
      "source": [
        "# Call the function on your JSON-like data structure\n",
        "map_keys(uniref90_content_P00327)"
      ],
      "metadata": {
        "id": "oZWygNI7oBYw"
      },
      "execution_count": null,
      "outputs": []
    },
    {
      "cell_type": "markdown",
      "source": [
        "### 🗺️ Step 3: Generate a JSON **Structure** Report\n",
        "We are using a Python definition to see all dictionary keys.\n",
        "\n",
        "This code reports at each level in the nested data whether data is structured as:\n",
        "\n",
        "*   dictionary\n",
        "*   list\n",
        "*   string"
      ],
      "metadata": {
        "id": "PbC2AHMy9ql5"
      }
    },
    {
      "cell_type": "markdown",
      "source": [
        "🧠 **Function: json_structure_report**"
      ],
      "metadata": {
        "id": "a9x1U5Sj9q8y"
      }
    },
    {
      "cell_type": "code",
      "source": [
        "def json_structure_report(data, level=0, path='root', show_values=False, max_depth=None):\n",
        "    \"\"\"\n",
        "    Recursively reports the type of each layer in a nested JSON-like structure.\n",
        "\n",
        "    Parameters:\n",
        "    - data: The JSON-like object (dict or list) to inspect.\n",
        "    - level: Current depth level (used for indentation).\n",
        "    - path: String representing the path to the current node.\n",
        "    - show_values: If True, prints the value for non-dict-keys/list types.\n",
        "    - max_depth: If set, limits the depth of recursion.\n",
        "    \"\"\"\n",
        "    indent = \"  \" * level  # Indentation for visual hierarchy\n",
        "\n",
        "    # Stop recursion if max_depth is reached\n",
        "    if max_depth is not None and level > max_depth:\n",
        "        print(f\"{indent}{path} ... (max depth reached)\")\n",
        "        return\n",
        "\n",
        "    if isinstance(data, dict):\n",
        "        print(f\"{indent}{path} is a dictionary with {len(data)} keys: {list(data.keys())}\")\n",
        "        for key, value in data.items():\n",
        "            json_structure_report(value, level + 1, f\"{path}.{key}\", show_values, max_depth)\n",
        "\n",
        "    elif isinstance(data, list):\n",
        "        print(f\"{indent}{path} is a list with {len(data)} items\")\n",
        "        for i, item in enumerate(data):\n",
        "            json_structure_report(item, level + 1, f\"{path}[{i}]\", show_values, max_depth)\n",
        "\n",
        "    else:\n",
        "        # For primitive types (str, int, etc.)\n",
        "        type_name = type(data).__name__\n",
        "        if show_values:\n",
        "            print(f\"{indent}{path} is a {type_name} with value: {repr(data)}\")\n",
        "        else:\n",
        "            print(f\"{indent}{path} is a {type_name}\")"
      ],
      "metadata": {
        "id": "gS5FZ8r3emux"
      },
      "execution_count": null,
      "outputs": []
    },
    {
      "cell_type": "markdown",
      "source": [
        "▶️ **Run the Function**"
      ],
      "metadata": {
        "id": "MRWNWEyl9wsp"
      }
    },
    {
      "cell_type": "markdown",
      "source": [
        "#### Data structure Result 1"
      ],
      "metadata": {
        "id": "peZX9f2Q_j4d"
      }
    },
    {
      "cell_type": "code",
      "source": [
        "# Call the function on your JSON-like data structure\n",
        "json_structure_report(result_1ffy, show_values=True)"
      ],
      "metadata": {
        "id": "mKxHBoBhg067"
      },
      "execution_count": null,
      "outputs": []
    },
    {
      "cell_type": "markdown",
      "source": [
        "#### Data structure Result 2"
      ],
      "metadata": {
        "id": "dnMkx7DH_4UU"
      }
    },
    {
      "cell_type": "code",
      "source": [
        "# Call the function on your JSON-like data structure\n",
        "json_structure_report(result_P41972, show_values=True)"
      ],
      "metadata": {
        "id": "dzM1T6Lc_0KV"
      },
      "execution_count": null,
      "outputs": []
    },
    {
      "cell_type": "markdown",
      "source": [
        "#### Data structure Result 3"
      ],
      "metadata": {
        "id": "MA1uGI1o_8dH"
      }
    },
    {
      "cell_type": "code",
      "source": [
        "# Call the function on your JSON-like data structure\n",
        "json_structure_report(uniref_clusters_G1L2V2, show_values=True)"
      ],
      "metadata": {
        "id": "JYwfif19_0VD"
      },
      "execution_count": null,
      "outputs": []
    },
    {
      "cell_type": "markdown",
      "source": [
        "#### Data structure Result 4"
      ],
      "metadata": {
        "id": "4zgBhyY9_6dD"
      }
    },
    {
      "cell_type": "code",
      "source": [
        "# Call the function on your JSON-like data structure\n",
        "json_structure_report(uniref90_content_P00327, show_values=True)"
      ],
      "metadata": {
        "id": "jQBRXTNB_0fg"
      },
      "execution_count": null,
      "outputs": []
    },
    {
      "cell_type": "markdown",
      "source": [
        "## 🔍 **1) EXERCISE - PROVIDED EXAMPLE**\n"
      ],
      "metadata": {
        "id": "SA22dGnLwoxM"
      }
    },
    {
      "cell_type": "markdown",
      "source": [
        "### ❓ **TASK 1:** Suggest bug fixes for the code below.\n",
        "\n",
        "The code was generated by AI and contains errors.\n",
        "The code below should extract table with PDB ids, chain ids, experimental method, resolution and UniProt coverage.\n",
        "\n",
        "*HINT: Use output from the 'Exploring API endpoints Python definitions'* `map_keys` *or* `json_structure_report` *in the prompt.*\n",
        "\n",
        "---"
      ],
      "metadata": {
        "id": "SKbpRgKH7jrD"
      }
    },
    {
      "cell_type": "markdown",
      "source": [
        "🐞 **Original Code with Bugs**"
      ],
      "metadata": {
        "id": "bmVABiKP6Grh"
      }
    },
    {
      "cell_type": "code",
      "source": [
        "def fetch_best_structures(uniprot_id):\n",
        "    url = f\"https://www.ebi.ac.uk/pdbe/api/v2/uniprot/best_structures/{uniprot_id}\"\n",
        "    response = requests.get(url)\n",
        "    response.raise_for_status()  # Raise an error for bad responses\n",
        "    data = response.json()\n",
        "\n",
        "    records = []\n",
        "    for entry in data.get(uniprot_id, []):\n",
        "        for region in entry.get(\"observed_regions\", []):\n",
        "            unp_start = region.get(\"unp_start\")\n",
        "            unp_end = region.get(\"unp_end\")\n",
        "            coverage = (unp_end - unp_start + 1) / (entry.get(\"end\", unp_end) - entry.get(\"start\", unp_start) + 1)\n",
        "\n",
        "            records.append({\n",
        "                \"experimental_method\": entry.get(\"experimental_method\"),\n",
        "                \"resolution\": entry.get(\"resolution\"),\n",
        "                \"pdb_id\": entry.get(\"pdb_id\"),\n",
        "                \"chain_id\": entry.get(\"chain_id\"),\n",
        "                \"unp_start\": unp_start,\n",
        "                \"unp_end\": unp_end,\n",
        "                \"coverage\": coverage\n",
        "            })"
      ],
      "metadata": {
        "id": "gLq4L4G4Wllw"
      },
      "execution_count": null,
      "outputs": []
    },
    {
      "cell_type": "code",
      "source": [
        "# Example usage\n",
        "\n",
        "fetch_best_structures(\"P41972\")"
      ],
      "metadata": {
        "id": "FZBuGMcnDEuU"
      },
      "execution_count": null,
      "outputs": []
    },
    {
      "cell_type": "markdown",
      "source": [
        "### 🧪 **SOLUTION 1:** Bug Fixes and Explanation\n",
        "\n",
        "Issue 1. Redundant Coverage Calculation\n",
        "- Problem: The code recalculates `coverage` using:\n",
        "  ```python\n",
        "  coverage = (unp_end - unp_start + 1) / (entry.get(\"end\", unp_end) - entry.get(\"start\", unp_start) + 1)\n",
        "  ```\n",
        "- Why problem: The API already provides a `coverage` value, making this calculation unnecessary and potentially error-prone.\n",
        "\n",
        "Issue 2. No explicit handling for entries solved by solution NMR where the resolution value will be `Null` or `None`\n",
        "\n",
        "Issue 3. Data is not loaded into a pandas dataframe\n",
        "\n",
        "Issue 4. Code could be simplified by using `glom`\n",
        "\n",
        "---"
      ],
      "metadata": {
        "id": "1naKqJ5Exk9l"
      }
    },
    {
      "cell_type": "code",
      "source": [
        "def fetch_best_structures(uniprot_id):\n",
        "    url = f\"https://www.ebi.ac.uk/pdbe/api/v2/uniprot/best_structures/{uniprot_id}\"\n",
        "    response = requests.get(url)\n",
        "    response.raise_for_status()\n",
        "    data = response.json()\n",
        "\n",
        "    target = Path(uniprot_id)\n",
        "    records = []\n",
        "\n",
        "    for entry in glom(data, target):\n",
        "        for region in entry.get(\"observed_regions\", []):\n",
        "            record = {\n",
        "                \"experimental_method\": entry.get(\"experimental_method\"),\n",
        "                \"resolution\": entry.get(\"resolution\") if entry.get(\"resolution\") is not None else float(\"nan\"),\n",
        "                \"pdb_id\": entry.get(\"pdb_id\"),\n",
        "                \"chain_id\": entry.get(\"chain_id\"),\n",
        "                \"coverage\": entry.get(\"coverage\"),\n",
        "                \"unp_start\": region.get(\"unp_start\"),\n",
        "                \"unp_end\": region.get(\"unp_end\")\n",
        "            }\n",
        "            records.append(record)\n",
        "\n",
        "    df = pd.DataFrame(records)\n",
        "    return df"
      ],
      "metadata": {
        "id": "tHIIv2RhXtgs"
      },
      "execution_count": null,
      "outputs": []
    },
    {
      "cell_type": "code",
      "source": [
        "# Example usage 1\n",
        "\n",
        "fetch_best_structures(\"P41972\")"
      ],
      "metadata": {
        "id": "FXD4TRPRRnZS"
      },
      "execution_count": null,
      "outputs": []
    },
    {
      "cell_type": "code",
      "source": [
        "# Example usage 2\n",
        "\n",
        "fetch_best_structures(\"P48754\")"
      ],
      "metadata": {
        "id": "HLOvYz12g5hY"
      },
      "execution_count": null,
      "outputs": []
    },
    {
      "cell_type": "markdown",
      "source": [
        "## 🔍 **2) EXERCISE**"
      ],
      "metadata": {
        "id": "-Ah_YdhOzh3j"
      }
    },
    {
      "cell_type": "markdown",
      "source": [
        "### ❓ **TASK 2:** Generate code that produces a list of PDB ids\n",
        "\n",
        "With help from AI convert the code from the previous exercise into code that produces a list of pdb ids rather than a dataframe / table.\n",
        "\n",
        "*HINT: Incorporate code to remove duplicates from the pdb id list.*\n",
        "\n",
        "<br>\n",
        "\n",
        "---\n",
        "\n"
      ],
      "metadata": {
        "id": "IWSM5Epy0XMa"
      }
    },
    {
      "cell_type": "markdown",
      "source": [
        "### 🧪 **SOLUTION 2:** New Python definition that outputs a list of structures that contain at least one protein chain that corresponds to input UniProt id"
      ],
      "metadata": {
        "id": "_0-CxYXr2GOS"
      }
    },
    {
      "cell_type": "code",
      "source": [],
      "metadata": {
        "id": "0fYe8_LG-N66"
      },
      "execution_count": null,
      "outputs": []
    },
    {
      "cell_type": "code",
      "source": [],
      "metadata": {
        "id": "6f1qCR-F-Nu6"
      },
      "execution_count": null,
      "outputs": []
    },
    {
      "cell_type": "markdown",
      "source": [
        "## 🔍 **3) EXERCISE**"
      ],
      "metadata": {
        "id": "w0fuMcGHtIPu"
      }
    },
    {
      "cell_type": "markdown",
      "source": [
        "### ❓**TASK 3:** Improve the code and convert into a Python definition.\n",
        "\n",
        "Enhance the previous code to generate an output table with 14 columns that correspond to the content from the API.\n",
        "\n",
        "\n",
        "<br>\n",
        "\n",
        "---"
      ],
      "metadata": {
        "id": "ZGRYUk096pcm"
      }
    },
    {
      "cell_type": "markdown",
      "source": [
        "### 🧪 **SOLUTION 3:** Improved code (include more info from API)"
      ],
      "metadata": {
        "id": "vUpodoU4tfbt"
      }
    },
    {
      "cell_type": "code",
      "source": [],
      "metadata": {
        "id": "1zVVp-SE-MHG"
      },
      "execution_count": null,
      "outputs": []
    },
    {
      "cell_type": "code",
      "source": [],
      "metadata": {
        "id": "2wWeJvir-L4l"
      },
      "execution_count": null,
      "outputs": []
    },
    {
      "cell_type": "markdown",
      "source": [
        "## 🔍 **4) BONUS CHALLENGE**"
      ],
      "metadata": {
        "id": "FkWp0pOwz5Sa"
      }
    },
    {
      "cell_type": "markdown",
      "source": [
        "### ❓ **TASK 4:** The below code was generated with AI. Update code so it outputs a single canonical UniProt id.\n",
        "\n",
        "The code was generated by AI after several prompts.\n",
        "\n",
        "The code below extacts both the isoform UniProt and related information from API: `https://www.ebi.ac.uk/pdbe/api/v2/mappings/isoforms/{pdb_id}`.\n",
        "\n",
        "*HINT 1: Use the code below as part of an AI prompts to generate a Python definition that outputs a single uniprot id.*\n",
        "\n",
        "*HINT2: Update code so it takes a chain id as an input.*\n",
        "\n",
        "*HINT3: Update code as an additional prompt to convert isomeric UniProt id (e.g. P21802-3, P21802-4) to canocial UniProt id (P21802).*\n",
        "\n",
        "<br>\n",
        "\n",
        "---"
      ],
      "metadata": {
        "id": "lbQp2rXn68bF"
      }
    },
    {
      "cell_type": "markdown",
      "source": [
        "🤖 **AI generated Code**\n",
        "\n"
      ],
      "metadata": {
        "id": "0X56v1gP6RLl"
      }
    },
    {
      "cell_type": "code",
      "execution_count": null,
      "metadata": {
        "id": "3XKcE5-OTxmX"
      },
      "outputs": [],
      "source": [
        "# Extract the PDB ID key (e.g., '1ffy')\n",
        "pdb_id = list(result_1ffy.keys())[0]\n",
        "\n",
        "# Extract the UniProt ID key (e.g., 'P41972') dynamically\n",
        "uniprot_id = list(result_1ffy[pdb_id]['UniProt'].keys())[0]\n",
        "\n",
        "# Access the UniProt entry\n",
        "entry = result_1ffy[pdb_id]['UniProt'][uniprot_id]\n",
        "\n",
        "# Print extracted values\n",
        "print(\"PDB ID:\", pdb_id)\n",
        "print(\"UniProt ID:\", uniprot_id)\n",
        "print(\"Identifier:\", entry['identifier'])\n",
        "print(\"Name:\", entry['name'])\n",
        "\n",
        "# Print mapping details\n",
        "for mapping in entry['mappings']:\n",
        "    print(f\"Chain: {mapping['chain_id']}\")\n",
        "    print(f\"Start residue: {mapping['start']['residue_number']}\")\n",
        "    print(f\"End residue: {mapping['end']['residue_number']}\")\n",
        "    print(f\"UniProt range: {mapping['unp_start']}–{mapping['unp_end']}\")\n",
        "    print(f\"Identity: {mapping['identity']}\")\n",
        "    print(\"---\")"
      ]
    },
    {
      "cell_type": "markdown",
      "source": [
        "### 🧪 **SOLUTION 4:** New Python definition that can be combined with `fetch_best_isoform(pdb_id)`\n"
      ],
      "metadata": {
        "id": "4JfXPMl_0Fg6"
      }
    },
    {
      "cell_type": "code",
      "source": [],
      "metadata": {
        "id": "r03yCzxu-I0E"
      },
      "execution_count": null,
      "outputs": []
    },
    {
      "cell_type": "code",
      "source": [],
      "metadata": {
        "id": "AdHucv7l-Imu"
      },
      "execution_count": null,
      "outputs": []
    },
    {
      "cell_type": "markdown",
      "source": [
        "## 🔍 **5) BONUS CHALLENGE** -- PROVIDED EXAMPLE"
      ],
      "metadata": {
        "id": "cJtKDF4DudZk"
      }
    },
    {
      "cell_type": "markdown",
      "source": [
        "### ❓ **TASK 5:** Use AI to generate a code that is able to take a list of PDB ids and find the best isoforms\n",
        "\n",
        "*HINT: May take more than one prompt -- you can ask AI to bug fix.*\n",
        "\n",
        "<br>\n",
        "\n",
        "---"
      ],
      "metadata": {
        "id": "zyAL2RkP6yvS"
      }
    },
    {
      "cell_type": "markdown",
      "source": [
        "### 🧪 **SOLUTION 5:** A new Python definition that incorporated the previous Python definitions."
      ],
      "metadata": {
        "id": "Veb_ANY_uwkG"
      }
    },
    {
      "cell_type": "code",
      "source": [
        "def fetch_multiple_isoforms(pdb_ids_string):\n",
        "    \"\"\"\n",
        "    Process a comma-separated string of PDB IDs, fetch data for each,\n",
        "    and return a combined DataFrame of parsed UniProt mappings.\n",
        "    \"\"\"\n",
        "    pdb_ids = [pid.strip() for pid in pdb_ids_string.split(\",\")]\n",
        "\n",
        "    frames = []\n",
        "\n",
        "    for pdb_id in pdb_ids:\n",
        "        data = fetch_best_isoform(pdb_id)\n",
        "        #display(parse_pdb_uniprot_mapping(data))\n",
        "        if data:\n",
        "            df = parse_pdb_uniprot_mapping(data)\n",
        "            if not df.empty:\n",
        "                frames.append(df)\n",
        "\n",
        "    return pd.concat(frames, ignore_index=True) if frames else pd.DataFrame()"
      ],
      "metadata": {
        "id": "HlVwJ2egoeD4"
      },
      "execution_count": null,
      "outputs": []
    },
    {
      "cell_type": "code",
      "source": [
        "# Example usage 1:\n",
        "\n",
        "pdb_ids_as_list = [\n",
        "    \"3LII\", \"3K5V\", \"1U70\", \"2XFU\", \"2X91\", \"2R4F\", \"3B7E\", \"3K4V\", \"2JHF\", \"1GAL\", \"3B2T\", \"3OJM\"\n",
        "]\n",
        "\n",
        "pdb_ids_string = \", \".join(pdb_ids_as_list)\n",
        "\n",
        "results_enzyme_list = fetch_multiple_isoforms(pdb_ids_string)"
      ],
      "metadata": {
        "id": "oACFQVIJikFQ"
      },
      "execution_count": null,
      "outputs": []
    },
    {
      "cell_type": "code",
      "source": [
        "display(results_enzyme_list)"
      ],
      "metadata": {
        "id": "ypNchGZSQ3i2"
      },
      "execution_count": null,
      "outputs": []
    },
    {
      "cell_type": "code",
      "source": [
        "# Example usage 2:\n",
        "\n",
        "pdb_ids_as_list = ['8rs8', '4y2g', '4igk', '7lyb', '7jzv', '3pxa', '1t15', '4y18', '4ofb', '3pxb', '8grq', '4ifi', '3pxe', '3pxc', '1y98', '3pxd', '1t29', '1jnx', '1n5o', '3k15', '1t2u', '3k0h', '3k0k', '3coj', '3k16', '1t2v', '4u4a', '2ing', '4jlu', '6g2i', '1jm7', '1oqa']\n",
        "\n",
        "pdb_ids_string = ', '.join(pdb_ids_as_list)\n",
        "\n",
        "results_BRCA1 = fetch_multiple_isoforms(pdb_ids_string)"
      ],
      "metadata": {
        "id": "tjIfcPMC5I9B"
      },
      "execution_count": null,
      "outputs": []
    },
    {
      "cell_type": "code",
      "source": [
        "display(results_BRCA1)"
      ],
      "metadata": {
        "id": "exLZUVoyQjI0"
      },
      "execution_count": null,
      "outputs": []
    },
    {
      "cell_type": "markdown",
      "source": [
        "## 📝 Quick Review Quiz 1"
      ],
      "metadata": {
        "id": "U_ZyGlorhsWm"
      }
    },
    {
      "cell_type": "markdown",
      "source": [
        "Test your understanding!\n",
        "\n",
        "**1. What is a UniProt ID?**  \n",
        "\n",
        "*A UniProt ID uniquely identifies:*\n",
        "\n",
        "<select>\n",
        "  <option value=\"Select_answer\">Select answer</option>\n",
        "  <option value=\"protein_in_PDB\">A protein structure in the PDB.</option>\n",
        "  <option value=\"human_gene\">A gene in the human genome.</option>\n",
        "  <option value=\"protein_seq_w_defined_organism\">A specific protein sequence from a defined organism.</option>\n",
        "  <option value=\"same_protein_multiple_species\">Same protein across multiple species</option>\n",
        "</select>\n",
        "\n",
        "---\n",
        "\n",
        "**2. What is the canonical sequence in UniProt?**\n",
        "\n",
        "*The canonical sequence in a UniProtKB/Swiss-Prot entry is selected based on:*\n",
        "\n",
        "<select>\n",
        "  <option value=\"Select_answer\">Select answer</option>\n",
        "  <option value=\"longest_isoform\">The longest isoform available.</option>\n",
        "  <option value=\"recent_isoform\">The most recently discovered isoform.</option>\n",
        "  <option value=\"functionality_expression_etc\">Functionality, expression, conservation, and consensus with other databases</option>\n",
        "  <option value=\"highest_MW_isoform\">The isoform with the highest molecular weight.</option>\n",
        "</select>\n",
        "\n",
        "---\n",
        "\n",
        "**3. How often is UniProt updated?**  \n",
        "\n",
        "*New versions of UniProt are released:*\n",
        "\n",
        "<select>\n",
        "  <option value=\"Select_answer\">Select answer</option>\n",
        "  <option value=\"Weekly\">Weekly</option>\n",
        "  <option value=\"Monthly\">Monthly</option>\n",
        "  <option value=\"2-4 months\">Every 2-4 months</option>\n",
        "  <option value=\"Annually\">Annually</option>\n",
        "</select>\n",
        "\n",
        "---\n",
        "\n",
        "**4. Which statement about isoforms is TRUE?**  \n",
        "<select>\n",
        "  <option value=\"Select_answer\">Select answer</option>\n",
        "  <option value=\"only_in_non-humans\">Isoforms are only found in non-human proteins.</option>\n",
        "  <option value=\"alt_splicing\">Isoforms result from alternative splicing and may have different functions.</option>\n",
        "  <option value=\"not_in_uniprot\">Isoforms are not included in UniProt entries.</option>\n",
        "  <option value=\"same_tissue\">Isoforms cannot be expressed in the same tissue or organism.</option>\n",
        "</select>\n",
        "\n",
        "---\n"
      ],
      "metadata": {
        "id": "JArKy9Z-huEL"
      }
    },
    {
      "cell_type": "markdown",
      "source": [
        "## 🔍 **6) EXERCISE**"
      ],
      "metadata": {
        "id": "js_a5a0ltEW7"
      }
    },
    {
      "cell_type": "markdown",
      "source": [
        "### ❓ **TASK 6:** Make Python definition by adapting the below code.\n",
        "\n",
        "The below code was generated with AI.\n",
        "\n",
        "Use this starting point to generate new code that outputs the **UniRef50** cluster instead of the **UniRef90** cluster.\n",
        "\n",
        "<br>\n",
        "\n",
        "---"
      ],
      "metadata": {
        "id": "AUBDICa76dLd"
      }
    },
    {
      "cell_type": "code",
      "source": [
        "def fetch_uniref90_cluster_id(query):\n",
        "    \"\"\"\n",
        "    Fetches UniRef90 cluster IDs from the top 3 UniRef search results for a given UniProt accession or ID.\n",
        "\n",
        "    Parameters:\n",
        "        query (str): UniProt accession or ID (e.g., 'G1L2V2')\n",
        "\n",
        "    Returns:\n",
        "        list: A list of UniRef90 cluster IDs (e.g., ['UniRef90_P00327']), or an empty list if none found.\n",
        "    \"\"\"\n",
        "    url = f\"https://rest.uniprot.org/uniref/search?query={query}&size=3\"\n",
        "    response = requests.get(url)\n",
        "    response.raise_for_status()\n",
        "    data = response.json()\n",
        "\n",
        "    uniref90_ids = []\n",
        "    try:\n",
        "        for result in data.get(\"results\", []):\n",
        "            cluster_id = result.get(\"id\", \"\")\n",
        "            if re.match(r\"^UniRef90_\", cluster_id):\n",
        "                uniref90_ids.append(cluster_id)\n",
        "    except Exception as e:\n",
        "        print(\"Error parsing UniRef data:\", e)\n",
        "\n",
        "    return uniref90_ids"
      ],
      "metadata": {
        "id": "Q0nZWdlmV8fY"
      },
      "execution_count": null,
      "outputs": []
    },
    {
      "cell_type": "code",
      "source": [
        "# Example usage\n",
        "ids = fetch_uniref90_cluster_id(\"G1L2V2\")\n",
        "print(\"UniRef90 IDs:\", ids)"
      ],
      "metadata": {
        "id": "vy_ArQySWB_m"
      },
      "execution_count": null,
      "outputs": []
    },
    {
      "cell_type": "markdown",
      "source": [
        "### 🧪 **SOLUTION 6:** New Python definition based on previous code."
      ],
      "metadata": {
        "id": "-t7mh54g6dBC"
      }
    },
    {
      "cell_type": "code",
      "source": [],
      "metadata": {
        "id": "mciCdjCz-S-T"
      },
      "execution_count": null,
      "outputs": []
    },
    {
      "cell_type": "code",
      "source": [],
      "metadata": {
        "id": "xDaQDjiP-SuZ"
      },
      "execution_count": null,
      "outputs": []
    },
    {
      "cell_type": "markdown",
      "source": [
        "## 🔍 **7) EXERCISE**"
      ],
      "metadata": {
        "id": "abVsYalQUoqB"
      }
    },
    {
      "cell_type": "markdown",
      "source": [
        "### ❓ **TASK 7:** Make Python definition by adapting the below code.\n",
        "\n",
        "Use the code below starting point to generate new code that outputs a csv file.\n",
        "\n",
        "<br>\n",
        "\n",
        "---"
      ],
      "metadata": {
        "id": "-lzuErzgUtsw"
      }
    },
    {
      "cell_type": "code",
      "source": [
        "def uniref_cluster_details(cluster_id):\n",
        "    \"\"\"\n",
        "    Fetches and parses UniRef cluster data from the UniProt REST API.\n",
        "\n",
        "    Parameters:\n",
        "        cluster_id (str): UniRef cluster ID (e.g., 'UniRef90_P00327')\n",
        "\n",
        "    Returns:\n",
        "        pd.DataFrame: DataFrame containing selected fields from cluster members.\n",
        "    \"\"\"\n",
        "    # Validate cluster ID format\n",
        "    pattern = r'^UniRef(50|90|100)_\\w+$'\n",
        "    if not re.match(pattern, cluster_id):\n",
        "        raise ValueError(f\"Invalid UniRef cluster ID format: {cluster_id}\")\n",
        "\n",
        "    # Getting data from API\n",
        "    url = f\"https://rest.uniprot.org/uniref/{cluster_id}\"\n",
        "    response = requests.get(url)\n",
        "    response.raise_for_status()\n",
        "    data = response.json()\n",
        "\n",
        "    # Parsing JSON from API\n",
        "    cluster_name = data.get('id')\n",
        "    seed = []\n",
        "    seed_info = data.get('representativeMember')\n",
        "\n",
        "    seed_accessions = seed_info.get('accessions')\n",
        "    seed_accession = seed_accessions[0] if isinstance(seed_accessions, list) and seed_accessions else None\n",
        "\n",
        "    seed.append({\n",
        "        'Index': 1,\n",
        "        'Cluster_name': cluster_name,\n",
        "        'UniProtId': seed_accession,\n",
        "        'MemberId': seed_info.get('memberId'),\n",
        "        'MemberId_Type': seed_info.get('memberIdType'),\n",
        "        'Organism_Name': seed_info.get('organismName'),\n",
        "        'Organism_TaxId': seed_info.get('organismTaxId'),\n",
        "        'Protein_Name': seed_info.get('proteinName'),\n",
        "        'Seq_Alignment_Length': seed_info.get('sequence', {}).get('length')\n",
        "    })\n",
        "\n",
        "    members = data.get(\"members\", [])\n",
        "    parsed_members = seed\n",
        "    for idx, member in enumerate(members):\n",
        "        accessions = member.get('accessions')\n",
        "        accession = accessions[0] if isinstance(accessions, list) and accessions else None\n",
        "        parsed_members.append({\n",
        "            'Index': idx + 2,\n",
        "            'UniProtId': accession,\n",
        "            'Cluster_name': cluster_name,\n",
        "            'MemberId': member.get('memberId'),\n",
        "            'MemberId_Type': member.get('memberIdType'),\n",
        "            'Organism_Name': member.get('organismName'),\n",
        "            'Organism_TaxId': member.get('organismTaxId'),\n",
        "            'Protein_Name': member.get('proteinName'),\n",
        "            'Seq_Alignment_Length': member.get('sequenceLength')\n",
        "        })\n",
        "\n",
        "    # Convert to DataFrame\n",
        "    df = pd.DataFrame(parsed_members)\n",
        "    return df"
      ],
      "metadata": {
        "id": "X7JUBFv9rqVR"
      },
      "execution_count": null,
      "outputs": []
    },
    {
      "cell_type": "code",
      "source": [
        "# Example usage\n",
        "\n",
        "cluster_data = uniref_cluster_details(\"UniRef90_P11373\")\n",
        "display(cluster_data)"
      ],
      "metadata": {
        "id": "Au412ZRTUoVT"
      },
      "execution_count": null,
      "outputs": []
    },
    {
      "cell_type": "markdown",
      "source": [
        "### 🧪 **SOLUTION 7:** New Python definition based on previous code."
      ],
      "metadata": {
        "id": "CMTcVQTnUhJM"
      }
    },
    {
      "cell_type": "code",
      "source": [],
      "metadata": {
        "id": "OelP9f2t_tdS"
      },
      "execution_count": null,
      "outputs": []
    },
    {
      "cell_type": "code",
      "source": [],
      "metadata": {
        "id": "E9F27BX-_tTM"
      },
      "execution_count": null,
      "outputs": []
    },
    {
      "cell_type": "markdown",
      "source": [
        "## 🔍 **8) BONUS CHALLENGE** - PROVIDED EXAMPLE\n"
      ],
      "metadata": {
        "id": "MzqfGHZQ3IBr"
      }
    },
    {
      "cell_type": "markdown",
      "source": [
        "### ❓ **TASK 8:** Combine previous Python definitions so input is pdb id and output is UniRef90 cluster.\n",
        "\n",
        "<br>\n",
        "\n",
        "---"
      ],
      "metadata": {
        "id": "JSZhPXdQ6TWu"
      }
    },
    {
      "cell_type": "markdown",
      "source": [
        "### 🧪 **SOLUTION 8:** A new Python definition which refers to previous Python definitions."
      ],
      "metadata": {
        "id": "JtU8jdsr7YSh"
      }
    },
    {
      "cell_type": "code",
      "source": [
        "def uniref_cluster_ids(cluster_id):\n",
        "    \"\"\"\n",
        "    Fetches and parses UniRef cluster data from the UniProt REST API.\n",
        "\n",
        "    Parameters:\n",
        "        cluster_id (str): UniRef cluster ID (e.g., 'UniRef90_P00327')\n",
        "\n",
        "    Returns:\n",
        "        pd.DataFrame: DataFrame containing selected fields from cluster members.\n",
        "    \"\"\"\n",
        "    # Validate cluster ID format\n",
        "    pattern = r'^UniRef(50|90|100)_\\w+$'\n",
        "    if not re.match(pattern, cluster_id):\n",
        "        raise ValueError(f\"Invalid UniRef cluster ID format: {cluster_id}\")\n",
        "\n",
        "    # Getting data from API\n",
        "    url = f\"https://rest.uniprot.org/uniref/{cluster_id}\"\n",
        "    response = requests.get(url)\n",
        "    response.raise_for_status()\n",
        "    data = response.json()\n",
        "\n",
        "    # Parsing JSON from API\n",
        "    cluster_name = data.get('id')\n",
        "    seed = []\n",
        "    seed_info = data.get('representativeMember')\n",
        "\n",
        "    seed_accessions = seed_info.get('accessions')\n",
        "    seed_accession = seed_accessions[0] if isinstance(seed_accessions, list) and seed_accessions else None\n",
        "\n",
        "    seed.append({\n",
        "        'UniProtId': seed_accession,\n",
        "    })\n",
        "\n",
        "    members = data.get(\"members\", [])\n",
        "    parsed_members = seed\n",
        "    for idx, member in enumerate(members):\n",
        "        accessions = member.get('accessions')\n",
        "        accession = accessions[0] if isinstance(accessions, list) and accessions else None\n",
        "        parsed_members.append({\n",
        "            'UniProtId': accession,\n",
        "        })\n",
        "\n",
        "    # Remove None and duplicates\n",
        "    parsed_members = [item for item in parsed_members if item['UniProtId'] is not None]\n",
        "    parsed_members = list({v['UniProtId']: v for v in parsed_members}.values())\n",
        "\n",
        "\n",
        "    # Extract the UniProtId values into a list\n",
        "    uniprot_ids = [entry['UniProtId'] for entry in parsed_members]\n",
        "\n",
        "    return uniprot_ids"
      ],
      "metadata": {
        "id": "ogxhloH47LGg"
      },
      "execution_count": null,
      "outputs": []
    },
    {
      "cell_type": "code",
      "source": [
        "uniref_cluster_ids('UniRef90_P21802')"
      ],
      "metadata": {
        "id": "GYtofMNjhA4a"
      },
      "execution_count": null,
      "outputs": []
    },
    {
      "cell_type": "code",
      "source": [
        "def fetch_uniref90_for_pdb(pdb_id, chain_id):\n",
        "    \"\"\"\n",
        "    Fetches UniRef90 cluster IDs for a given PDB ID.\n",
        "\n",
        "    Parameters:\n",
        "        pdb_id (str): PDB ID (e.g., '3LII')\n",
        "\n",
        "    Returns:\n",
        "        list: A list of UniRef90\n",
        "    \"\"\"\n",
        "    result = fetch_best_isoform(pdb_id)\n",
        "    uniref90_id = fetch_uniref90_cluster_id(get_canonical_uniprot_id_by_chain(result, chain_id))\n",
        "    uniref90_per_chain_per_pdb = uniref_cluster_ids(uniref90_id[0])\n",
        "    return uniref90_per_chain_per_pdb"
      ],
      "metadata": {
        "id": "_tPkBB4rhEfI"
      },
      "execution_count": null,
      "outputs": []
    },
    {
      "cell_type": "code",
      "source": [
        "uniref90_3ojm = fetch_uniref90_for_pdb('3ojm', 'B')"
      ],
      "metadata": {
        "id": "YVzIodWAhG_1"
      },
      "execution_count": null,
      "outputs": []
    },
    {
      "cell_type": "code",
      "source": [
        "print(uniref90_3ojm)"
      ],
      "metadata": {
        "id": "k2YAFUl7hKqK"
      },
      "execution_count": null,
      "outputs": []
    },
    {
      "cell_type": "markdown",
      "source": [
        "# Copyright 2025 EMBL - European Bioinformatics Institute\n",
        "\n",
        "Licensed under the Apache License, Version 2.0 (the \"License\"); you may not use this file except in compliance with the License. You may obtain a copy of the License at http://www.apache.org/licenses/LICENSE-2.0\n",
        "\n",
        "Unless required by applicable law or agreed to in writing, software distributed under the License is distributed on an \"AS IS\" BASIS, WITHOUT WARRANTIES OR CONDITIONS OF ANY KIND, either express or implied. See the License for the specific language governing permissions and limitations under the License."
      ],
      "metadata": {
        "id": "iMcFdQcjasgx"
      }
    },
    {
      "cell_type": "markdown",
      "source": [
        "**Quick Review Quiz 1**\n",
        "\n",
        "---\n",
        "\n",
        "🧪 **Question 1: What is a UniProt ID?**\n",
        "\n",
        "**A UniProt ID uniquely identifies:**\n",
        "\n",
        "A. A protein structure in the PDB  \n",
        "B. A gene in the human genome  \n",
        "C. A specific protein sequence from a defined organism  \n",
        "D. A protein isoform across all species\n",
        "\n",
        "✅ **Correct Answer:** C\n",
        "\n",
        "---\n",
        "\n",
        "🧪 **Question 2: What is the canonical sequence in UniProt?**\n",
        "\n",
        "**The canonical sequence in a UniProtKB/Swiss-Prot entry is selected based on:**\n",
        "\n",
        "A. The longest isoform available  \n",
        "B. The most recently discovered isoform  \n",
        "C. Functionality, expression, conservation, and consensus with other databases  \n",
        "D. The isoform with the highest molecular weight\n",
        "\n",
        "✅ **Correct Answer:** C\n",
        "\n",
        "---\n",
        "\n",
        "🧪 **Question 3: How often is UniProt updated?**\n",
        "\n",
        "**New versions of UniProt are released:**\n",
        "\n",
        "A. Weekly  \n",
        "B. Monthly  \n",
        "C. Every 2-4 months  \n",
        "D. Annually\n",
        "\n",
        "✅ **Correct Answer:** C\n",
        "\n",
        "---\n",
        "\n",
        "🧪 **Question 4: Which statement about isoforms is TRUE?**\n",
        "\n",
        "A. Isoforms are only found in non-human proteins.\n",
        "B. Isoforms result from alternative splicing and may have different functions.\n",
        "C. Isoforms are not included in UniProt entries.\n",
        "D. Isoforms cannot be expressed in the same tissue or organism.\n",
        "\n",
        "✅ **Correct Answer:** B\n"
      ],
      "metadata": {
        "id": "z6GEJuyl4dsF"
      }
    }
  ]
}