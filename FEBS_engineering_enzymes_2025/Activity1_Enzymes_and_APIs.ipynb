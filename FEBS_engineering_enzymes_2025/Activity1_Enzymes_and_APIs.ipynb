{
  "nbformat": 4,
  "nbformat_minor": 0,
  "metadata": {
    "colab": {
      "provenance": [],
      "toc_visible": true,
      "include_colab_link": true
    },
    "kernelspec": {
      "name": "python3",
      "display_name": "Python 3"
    },
    "language_info": {
      "name": "python"
    }
  },
  "cells": [
    {
      "cell_type": "markdown",
      "metadata": {
        "id": "view-in-github",
        "colab_type": "text"
      },
      "source": [
        "<a href=\"https://colab.research.google.com/github/PDBeurope/pdbe-notebooks/blob/Genevieve/FEBS_engineering_enzymes_2025/Activity1_Enzymes_and_APIs.ipynb\" target=\"_parent\"><img src=\"https://colab.research.google.com/assets/colab-badge.svg\" alt=\"Open In Colab\"/></a>"
      ]
    },
    {
      "cell_type": "markdown",
      "source": [
        "# 🧬 Exploring PDBe APIs for Enzyme Classifications\n",
        "\n",
        "<img src=\"https://github.com/glevans/PDB_Notebooks/raw/main/PDBe-logo.png\" height=\"200\" align=\"right\">\n",
        "\n",
        "In this notebook, you'll learn how to:\n",
        "\n",
        "- Access and parse biological data from an API\n",
        "- Understand the relationship between macromolecular structures & EC (Enzyme Commission) numbers\n",
        "- Make use of Python definitions\n",
        "- Transform nested JSON data into a structured `DataFrame`\n",
        "- Introduction to `glom` which is Python package useful for nested data\n",
        "- Use AI to bugfix and improve Python code\n",
        "\n",
        "<br>\n",
        "\n",
        "---"
      ],
      "metadata": {
        "id": "xwyYc4Qf8wor"
      }
    },
    {
      "cell_type": "markdown",
      "source": [
        "## ℹ️ **Introduction**"
      ],
      "metadata": {
        "id": "xNAfmMefKNYq"
      }
    },
    {
      "cell_type": "markdown",
      "source": [
        "### **What is the Protein Data Bank (PDB)?**\n",
        "\n",
        "The **Protein Data Bank (PDB)** contains experimentally-determined 3D structures of biological molecules, such as protein, DNA and RNA.\n",
        "\n",
        "The **Protein Data Bank in Europe (PDBe)** is the European branch of the PDB that helps prepare, share, organize and visualize protein structure data for scientists worldwide. PDBe is based at the **European Bioinformatics Institute (EMBL-EBI)**, a global leader in bioinformatic tools and resources. EMBL-EBI provides freely available data, tools, and services to support life science research."
      ],
      "metadata": {
        "id": "xda2FykZVFdu"
      }
    },
    {
      "cell_type": "markdown",
      "source": [
        "### **What are EC Numbers?**\n",
        "\n",
        "EC (Enzyme Commission) numbers classify enzymes based on the chemical reactions they catalyze. Each EC numbers consists of up to four-part (*e.g.* 2.7.1.1), forming a hierarchical identifier that reflects an enzyme’s function. While full four-part identifiers specify a unique enzymatic activity, two-part and three-part identifiers are often used when the exact substrate or reaction details are unknown or variable. These shorter EC numbers group enzymes by broader functional categories, making them useful for preliminary enzyme classification or when an enzyme acts on a range of substrates.\n",
        "\n",
        "**Example: EC 2.7.1.1**\n",
        "\n",
        "*  **2:** Transferase – an enzyme that transfers functional groups.\n",
        "*  **7:** Transfers phosphorus-containing groups.\n",
        "*  **1:** Transfers a phosphate group to an alcohol group.\n",
        "*  **1:** Specifies the complete reaction: ATP + D-hexose → ADP + D-hexose 6-phosphate.\n",
        "\n",
        "<br>\n",
        "\n",
        "Mapping EC numbers to protein chains in PDB entries helps researchers understand the biological role of a protein structure.\n",
        "\n",
        "Information on EC numbers, enzyme reactions, and enzyme names at PDBe is sourced from:\n",
        "\n",
        "*   [Expasy ENZYME - Enzyme nomenclature database](https://enzyme.expasy.org/)\n",
        "*   [ExplorEnz - the Enzyme Database](https://www.enzyme-database.org/)\n",
        "\n",
        "Previously, this data was obtained from [Intenz](https://pmc.ncbi.nlm.nih.gov/articles/PMC308853/). However, this resource is no longer available."
      ],
      "metadata": {
        "id": "A-eJs314JzDP"
      }
    },
    {
      "cell_type": "markdown",
      "source": [
        "### **What is a Python definition?**\n",
        "\n",
        "A Python definition is a way to create a reusable block of code that does something specific."
      ],
      "metadata": {
        "id": "i3q4qLSzTrmM"
      }
    },
    {
      "cell_type": "markdown",
      "source": [
        "### **What is a API?**\n",
        "<img src=\"https://github.com/glevans/PDB_Notebooks/raw/main/API_graphic.png\" height=\"200\" align=\"right\">\n",
        "\n",
        "The API is a programmatic way to obtain information. APIs are in the background providing information we see on websites such as [PDBe's website](https://pdbe.org). Using Python code to access APIs enables faster analysis than can be obtained by viewing information directly on websites.\n",
        "\n",
        "For more information on PDBe's APIs, visit:\n",
        "\n",
        "*   [http://www.ebi.ac.uk/pdbe/pdbe-rest-api](http://www.ebi.ac.uk/pdbe/pdbe-rest-api)\n",
        "*   [https://www.ebi.ac.uk/pdbe/api/v2/#/](https://www.ebi.ac.uk/pdbe/api/v2/#/)"
      ],
      "metadata": {
        "id": "ygRj7IBpKTJA"
      }
    },
    {
      "cell_type": "markdown",
      "source": [
        "### **API Request Components**\n",
        "\n",
        "An example of an PDBe API endpoint:\n",
        "\n",
        "[https://www.ebi.ac.uk/pdbe/api/mappings/ec/2XFU](https://www.ebi.ac.uk/pdbe/api/mappings/ec/2XFU)"
      ],
      "metadata": {
        "id": "9mxhkzHPOB6u"
      }
    },
    {
      "cell_type": "markdown",
      "source": [
        "#### *Protocol*\n",
        "\n",
        "```\n",
        "https://\n",
        "```\n",
        "\n",
        "This is the communication protocol used to make the API request."
      ],
      "metadata": {
        "id": "ZtHKd4qnOlsx"
      }
    },
    {
      "cell_type": "markdown",
      "source": [
        "#### *Domain or Host*\n",
        "\n",
        "www.ebi.ac.uk (European Bioinformatics Institute)"
      ],
      "metadata": {
        "id": "semGQ9rCSGWO"
      }
    },
    {
      "cell_type": "markdown",
      "source": [
        "#### *API Structure or Path*\n",
        "\n",
        "PDBe API v2 uses service-specific endpoint patterns, such as:\n",
        "\n",
        "**Mappings:** `/pdbe/api/mappings/{type}/{id}`\n",
        "\n",
        "**Entry Data:** `/pdbe/api/pdb/entry/{data}/{id}`\n",
        "\n",
        "**Validation:** `/pdbe/api/validation/{type}/{id}`\n",
        "\n",
        "Each service has its own optimized URL structure designed for that specific functionality, making the API more intuitive."
      ],
      "metadata": {
        "id": "d0GljWXBOrQn"
      }
    },
    {
      "cell_type": "markdown",
      "source": [
        "#### *Query string -- ID*\n",
        "\n",
        "Some examples of IDs used for querying PDBe's API endpoints:\n",
        "\n",
        "##### **1. 🧪 PDB Identifiers**\n",
        "```\n",
        "Format: [0-9][A-Za-z0-9]{3}\n",
        "Examples: 1mso, 8a3h, 2ins\n",
        "```\n",
        "- **Primary Resource ID**: Most common identifier type\n",
        "- **4-character alphanumeric**: First character is numeric (0-9), followed by 3 alphanumeric\n",
        "- **Case insensitive**: API accepts both uppercase and lowercase\n",
        "- **Usage**: For experimentally-detemined structure endpoints\n",
        "\n",
        "<br>\n",
        "\n",
        "##### **2. ⚗️ Chemical Component Dictionary Identifiers (or HET codes)**\n",
        "```\n",
        "Format: [A-Z0-9]{1,3,5}\n",
        "Examples: ATP, NAD, HEM, ZN, SO4, A1L3O (5-Hydroxyuridine 5'-phosphate)\n",
        "```\n",
        "- **Chemical identifiers**: 1, 3 or 5 character codes for non-polymer entities\n",
        "- **Standardized**: Defined by wwPDB Chemical Component Dictionary\n",
        "- **Types include**:\n",
        "  - **Ligands**: ATP (adenosine triphosphate), NAD (nicotinamide adenine dinucleotide)\n",
        "  - **Cofactors**: HEM (heme), FAD (flavin adenine dinucleotide)\n",
        "  - **Metals**: ZN (zinc), CA (calcium), MG (magnesium)\n",
        "  - **Solvents**: GOL (glycerol), SO4 (sulfate)\n",
        "- **Usage**: For small molecule / ligand-specific endpoints\n"
      ],
      "metadata": {
        "id": "dyKUbHCjN9k9"
      }
    },
    {
      "cell_type": "markdown",
      "source": [
        "### **What is JSON format?**\n",
        "\n",
        "JSON (JavaScript Object Notation) is a format where data is in key-value pairs. This makes it an easy format to read and write, and thus useful for data exchange between systems, especially in APIs.\n",
        "\n",
        "JSONs can have nested data structures. Nested data structures function similar to having folders within folders, several layers deep, thus allowing complex data relationships to be represented."
      ],
      "metadata": {
        "id": "DZhTndS-rXZS"
      }
    },
    {
      "cell_type": "markdown",
      "source": [
        "### **What is a Notebook?**\n",
        "\n",
        "A **Colab** or **Jupyter** notebook corresponds to a file with the extension `.ipynb`.\n",
        "\n",
        "Notebooks are useful for sharing examples of code and exploring progammatic ways of handling data.\n",
        "\n",
        "<br>\n",
        "\n",
        "To use this notebook in **Colab** (link at top of the page):\n",
        "\n",
        "*   you will need to have a Google account\n",
        "*   be logged in to Google Colab (by being logged into Google account)\n",
        "\n",
        "<br>\n",
        "\n",
        "To use as a **Jupyter** notebook, download & viewed with:\n",
        "\n",
        "*   a local installation of [Jupyter](https://jupyter.org/)\n",
        "*   a browser instance of [JupyterLab](https://jupyter.org/try-jupyter/lab/)\n",
        "\n",
        "<br>"
      ],
      "metadata": {
        "id": "5dp6BpjhJy4v"
      }
    },
    {
      "cell_type": "markdown",
      "source": [
        "<br>\n",
        "\n",
        "---\n",
        "\n",
        "## How to use this notebook <a name=\"Quick Start\"></a>\n",
        "1. To run a code cell, click on the cell to select it. You will notice a play button (▶️) on the left side of the cell. Click on the play button or press Shift+Enter to run the code in the selected cell.\n",
        "2. The code will start executing, and you will see the output, if any, displayed below the code cell.\n",
        "3. Move to the next code cell and repeat steps 2 and 3 until you have executed all the desired code cells in sequence.\n",
        "4. The currently running step is indicated by a circle with a stop sign next to it.\n",
        "If you need to stop or interrupt the execution of a code cell, you can click on the stop button (■) located next to the play button.\n",
        "5. The exercise & bonus challenges had empty code cells will require the addition of code before they are run.\n",
        "\n",
        "*Remember to run the code cells in the correct order, as their execution might depend on variables or functions defined in previous cells. You can modify the code in a code cell and re-run it to see updated results.*\n",
        "\n",
        "<br>\n",
        "\n",
        "---\n",
        "\n",
        "## Contact us\n",
        "\n",
        "If you experience any bugs please contact pdbehelp@ebi.ac.uk and put \"Help with\" and the title of the notebook in the subject line of the message.\n"
      ],
      "metadata": {
        "id": "v7cYcoBq9B9g"
      }
    },
    {
      "cell_type": "markdown",
      "source": [
        "## ⚙️ **Setup**\n",
        "\n"
      ],
      "metadata": {
        "id": "KrQ5Yq848ebj"
      }
    },
    {
      "cell_type": "markdown",
      "source": [
        "### 📦 Step 1: Install Required Package\n",
        "Ensure the `glom` package is installed.\n",
        "\n",
        "This is used to simplify data extraction from nested data structures."
      ],
      "metadata": {
        "id": "lT5PKwyf_MmT"
      }
    },
    {
      "cell_type": "markdown",
      "source": [
        "To run a BASH command in a Notebook, one adds `!` before the command.\n",
        "\n",
        "Many python packages are available from [PyPi](https://pypi.org/).\n",
        "\n",
        "The BASH command `pip install` installs from PyPi."
      ],
      "metadata": {
        "id": "15_haVDsu2J7"
      }
    },
    {
      "cell_type": "code",
      "source": [
        "# Install glom if not already installed\n",
        "!pip install glom"
      ],
      "metadata": {
        "id": "3AQYTNpNXQq5"
      },
      "execution_count": null,
      "outputs": []
    },
    {
      "cell_type": "markdown",
      "source": [
        "### 📥 Step 2: Import Modules\n",
        "Import all necessary Python modules for data fetching, transformation, and display."
      ],
      "metadata": {
        "id": "vsfOXpEi_VbQ"
      }
    },
    {
      "cell_type": "markdown",
      "source": [
        "We will be using Python packages / modules:\n",
        "\n",
        "*   [requests](https://docs.python.org/3/library/re.html) - allows you to send HTTP/1.1 requests extremely easily.\n",
        "*   [pandas](https://pandas.pydata.org/) - for working with data in tables, like spreadsheets\n",
        "*   [glom](https://glom.readthedocs.io/en/stable/) - for exploring and accessing information in nested data structures, such as that from APIs\n",
        "\n",
        "<br>"
      ],
      "metadata": {
        "id": "jPRMmXXmZ4Ny"
      }
    },
    {
      "cell_type": "code",
      "source": [
        "# Import necessary modules\n",
        "import requests\n",
        "from glom import glom, Coalesce\n",
        "import pandas as pd"
      ],
      "metadata": {
        "id": "S735LdtW-7Wd"
      },
      "execution_count": null,
      "outputs": []
    },
    {
      "cell_type": "markdown",
      "source": [
        "### 🌐 Step 3: Fetch Data from an API\n",
        "\n",
        "We will be using the PDBe API to retrieve enzyme classification (EC) mapping data for a specific PDB entry (2XFU)."
      ],
      "metadata": {
        "id": "PLdFrOAw_ZvN"
      }
    },
    {
      "cell_type": "code",
      "source": [
        "url_2xfu = \"https://www.ebi.ac.uk/pdbe/api/mappings/ec/2XFU\"\n",
        "response_2xfu = requests.get(url_2xfu)\n",
        "data_2xfu = response_2xfu.json()"
      ],
      "metadata": {
        "id": "tKASZoU1XQes"
      },
      "execution_count": null,
      "outputs": []
    },
    {
      "cell_type": "markdown",
      "source": [
        "To view this API endpoints output (for query `2XFU`):\n",
        "\n",
        "[https://www.ebi.ac.uk/pdbe/api/mappings/ec/2XFU](https://www.ebi.ac.uk/pdbe/api/mappings/ec/2XFU)\n",
        "\n",
        "\n",
        "<br>\n",
        "\n",
        "Information from this API is formatted as a JSON object.\n",
        "\n",
        "\n",
        "\n",
        "---\n",
        "\n",
        "\n"
      ],
      "metadata": {
        "id": "XWbFydpqCdsO"
      }
    },
    {
      "cell_type": "markdown",
      "source": [
        "## 🧭 **Exploring API endpoint data structure**\n"
      ],
      "metadata": {
        "id": "wFlrAr6x8dHI"
      }
    },
    {
      "cell_type": "markdown",
      "source": [
        "### 🔑 Step 1: Top-Level Keys\n",
        "\n",
        "Use this to get a quick overview of the the top-level division of information from the API."
      ],
      "metadata": {
        "id": "M6Dxi8Ns8q1J"
      }
    },
    {
      "cell_type": "code",
      "source": [
        "# Print top-level keys to understand the structure\n",
        "print(data_2xfu.keys())"
      ],
      "metadata": {
        "id": "dKurtVWpXQV3"
      },
      "execution_count": null,
      "outputs": []
    },
    {
      "cell_type": "markdown",
      "source": [
        "### 🧰 Step 2: Map All Keys\n",
        "\n",
        "We are using a Python definition to find all the dictionary keys in the nested structure.\n",
        "\n",
        "This is useful approach for understanding deeply nested JSON objects."
      ],
      "metadata": {
        "id": "qL87rSuF85Be"
      }
    },
    {
      "cell_type": "markdown",
      "source": [
        "🧠 **Function: map_keys**"
      ],
      "metadata": {
        "id": "nJ4qtxrn9VHx"
      }
    },
    {
      "cell_type": "code",
      "source": [
        "# Define a recursive function to map all keys\n",
        "def map_keys(d, level=0, path=''):\n",
        "    # If the current object is a dictionary\n",
        "    if isinstance(d, dict):\n",
        "        for k, v in d.items():\n",
        "            # Build the full path to the current key\n",
        "            full_path = f\"{path}.{k}\" if path else k\n",
        "            # Print the key with indentation based on the current level\n",
        "            print(\"  \" * level + f\"- {full_path}\")\n",
        "            # Recursively call map_keys on the value\n",
        "            map_keys(v, level + 1, full_path)\n",
        "\n",
        "    # If the current object is a list\n",
        "    elif isinstance(d, list):\n",
        "        for i, item in enumerate(d):\n",
        "            # Build the full path to the current list index\n",
        "            full_path = f\"{path}[{i}]\"\n",
        "            # Recursively call map_keys on the list item\n",
        "            map_keys(item, level + 1, full_path)"
      ],
      "metadata": {
        "id": "Q5mUbhgGbM8a"
      },
      "execution_count": null,
      "outputs": []
    },
    {
      "cell_type": "markdown",
      "source": [
        "▶️ **Run the Function**"
      ],
      "metadata": {
        "id": "NR_WWDua9cnO"
      }
    },
    {
      "cell_type": "code",
      "source": [
        "# Call the function on your JSON-like data structure\n",
        "map_keys(data_2xfu)"
      ],
      "metadata": {
        "id": "aaKCNu5rbRTB"
      },
      "execution_count": null,
      "outputs": []
    },
    {
      "cell_type": "markdown",
      "source": [
        "### 🗺️ Step 3: Map all keys with added information on data structure\n",
        "\n",
        "We are using a Python definition to see all dictionary keys, with added information.\n",
        "\n",
        "The below code reports at each level in the nested data whether data is structured as:\n",
        "\n",
        "*   dictionary\n",
        "*   list\n",
        "*   string"
      ],
      "metadata": {
        "id": "PbC2AHMy9ql5"
      }
    },
    {
      "cell_type": "code",
      "source": [
        "def json_structure_report(data, level=0, path='root', show_values=False, max_depth=None):\n",
        "    \"\"\"\n",
        "    Recursively reports the type of each layer in a nested JSON-like structure.\n",
        "\n",
        "    Parameters:\n",
        "    - data: The JSON-like object (dict or list) to inspect.\n",
        "    - level: Current depth level (used for indentation).\n",
        "    - path: String representing the path to the current node.\n",
        "    - show_values: If True, prints the value for non-dict-keys/list types.\n",
        "    - max_depth: If set, limits the depth of recursion.\n",
        "    \"\"\"\n",
        "    indent = \"  \" * level  # Indentation for visual hierarchy\n",
        "\n",
        "    # Stop recursion if max_depth is reached\n",
        "    if max_depth is not None and level > max_depth:\n",
        "        print(f\"{indent}{path} ... (max depth reached)\")\n",
        "        return\n",
        "\n",
        "    if isinstance(data, dict):\n",
        "        print(f\"{indent}{path} is a dictionary with {len(data)} keys: {list(data.keys())}\")\n",
        "        for key, value in data.items():\n",
        "            json_structure_report(value, level + 1, f\"{path}.{key}\", show_values, max_depth)\n",
        "\n",
        "    elif isinstance(data, list):\n",
        "        print(f\"{indent}{path} is a list with {len(data)} items\")\n",
        "        for i, item in enumerate(data):\n",
        "            json_structure_report(item, level + 1, f\"{path}[{i}]\", show_values, max_depth)\n",
        "\n",
        "    else:\n",
        "        # For primitive types (str, int, etc.)\n",
        "        type_name = type(data).__name__\n",
        "        if show_values:\n",
        "            print(f\"{indent}{path} is a {type_name} with value: {repr(data)}\")\n",
        "        else:\n",
        "            print(f\"{indent}{path} is a {type_name}\")"
      ],
      "metadata": {
        "id": "gS5FZ8r3emux"
      },
      "execution_count": null,
      "outputs": []
    },
    {
      "cell_type": "markdown",
      "source": [
        "▶️ **Run the Function**"
      ],
      "metadata": {
        "id": "MRWNWEyl9wsp"
      }
    },
    {
      "cell_type": "code",
      "source": [
        "# Call the function on your JSON-like data structure\n",
        "json_structure_report(data_2xfu, show_values=True)"
      ],
      "metadata": {
        "id": "mKxHBoBhg067"
      },
      "execution_count": null,
      "outputs": []
    },
    {
      "cell_type": "markdown",
      "source": [
        "## 🔍 **1) EXERCISE - PROVIDED EXAMPLE**\n",
        "\n",
        "\n",
        "\n",
        "\n",
        "\n",
        "\n"
      ],
      "metadata": {
        "id": "SA22dGnLwoxM"
      }
    },
    {
      "cell_type": "markdown",
      "source": [
        "### ❓ **TASK 1:** Suggest bug fixes for the code below.\n",
        "\n",
        "\n",
        "The code was generated by AI and contains errors.\n",
        "\n",
        "*HINT: Use insights from the functions* `map_keys` *and* `json_structure_report`.\n",
        "\n",
        "\n",
        "<br>\n",
        "\n",
        "---"
      ],
      "metadata": {
        "id": "SKbpRgKH7jrD"
      }
    },
    {
      "cell_type": "markdown",
      "source": [
        "🐞 **Original Code with Bugs**"
      ],
      "metadata": {
        "id": "bmVABiKP6Grh"
      }
    },
    {
      "cell_type": "code",
      "source": [
        "# Extract the list of EC mappings\n",
        "ecmappings = glom(data_2xfu, '2XFU.EC', default=[])\n",
        "print(ecmappings)\n",
        "\n",
        "# Create an empty list to store EC numbers\n",
        "ecnumbers = []\n",
        "\n",
        "# Loop through each entry in the ecmappings list\n",
        "for details in ecmappings:\n",
        "    # Extract the value associated with the 'ecnumber' key\n",
        "    ec_number = details['ecnumber']\n",
        "    # Append the EC number to the list\n",
        "    ecnumbers.append(ec_number)\n",
        "\n",
        "print(\"Extracted EC Numbers:\", ecnumbers)"
      ],
      "metadata": {
        "id": "gLq4L4G4Wllw"
      },
      "execution_count": null,
      "outputs": []
    },
    {
      "cell_type": "markdown",
      "source": [
        "### 🧪 **SOLUTION 1:** Bug Fixes and Explanation\n",
        "\n",
        "\n",
        "*   Issue 1: Incorrect capitalization of PDB ID (2XFU should be lowercase: 2xfu)\n",
        "*   Issue 2: '2xfu.EC' refers to a **dictionary**, not a\n",
        "*   Issue 3: 'ecnumber' is NOT a **dictionary key**"
      ],
      "metadata": {
        "id": "1naKqJ5Exk9l"
      }
    },
    {
      "cell_type": "code",
      "source": [
        "# Extract the list of EC mappings\n",
        "ecmappings = glom(data_2xfu, '2xfu.EC', default={})\n",
        "\n",
        "# Create an empty list to store EC numbers\n",
        "ecnumbers = []\n",
        "\n",
        "# Loop through each key in the ecmappings dictionary\n",
        "for ec_number in ecmappings.keys():\n",
        "    # Append each EC number to the list\n",
        "    ecnumbers.append(ec_number)\n",
        "\n",
        "print(\"Extracted EC Numbers:\", ecnumbers)"
      ],
      "metadata": {
        "id": "NzAgnYlocNXp"
      },
      "execution_count": null,
      "outputs": []
    },
    {
      "cell_type": "markdown",
      "source": [
        "## 🔍 **2) EXERCISE**"
      ],
      "metadata": {
        "id": "-Ah_YdhOzh3j"
      }
    },
    {
      "cell_type": "markdown",
      "source": [
        "### ❓ **TASK 2:** Suggest bug fixes for the code below.\n",
        "\n",
        "The code was generated by AI and contains errors.\n",
        "\n",
        "*HINT1: Use insights from the functions* `map_keys` *and* `json_structure_report`.\n",
        "\n",
        "*HINT2: You can use AI to help find with the bug fixing*.\n",
        "\n",
        "<br>\n",
        "\n",
        "---"
      ],
      "metadata": {
        "id": "lbQp2rXn68bF"
      }
    },
    {
      "cell_type": "markdown",
      "source": [
        "🐞 **Original Code with Bugs**"
      ],
      "metadata": {
        "id": "0X56v1gP6RLl"
      }
    },
    {
      "cell_type": "code",
      "execution_count": null,
      "metadata": {
        "id": "3XKcE5-OTxmX"
      },
      "outputs": [],
      "source": [
        "# Step 1: Extract EC numbers and associated chain IDs\n",
        "ec_mappings = data_2xfu.get(\"2XFU\", {}).get(\"EC\", [])\n",
        "rows = []\n",
        "for details in ec_mappings:\n",
        "    ec_number = details.get(\"ec_number\")\n",
        "    for mapping in details.get(\"mappings\", []):\n",
        "        chain_id = mapping.get(\"chain_id\")\n",
        "        rows.append({\"EC Number\": ec_number, \"Chain ID\": chain_id})\n",
        "\n",
        "# Step 2: Create a DataFrame\n",
        "df = pd.DataFrame(rows)\n",
        "\n",
        "# Step 3: Display a DataFrame / Table\n",
        "display(df)"
      ]
    },
    {
      "cell_type": "markdown",
      "source": [
        "### 🧪 **SOLUTION 2:** Bug Fixes and Explanation\n",
        "\n",
        "*  Issue 1: Incorrect capitalization of PDB ID (2XFU → 2xfu)\n",
        "*  Issue 2: '2xfu.EC' is a **dictionary**, not a list\n",
        "*  Issue 3: Iteration in first `for` loops needs to take into account nested data structure\n"
      ],
      "metadata": {
        "id": "4JfXPMl_0Fg6"
      }
    },
    {
      "cell_type": "code",
      "execution_count": null,
      "metadata": {
        "id": "PytrHc9vh0ES"
      },
      "outputs": [],
      "source": []
    },
    {
      "cell_type": "markdown",
      "source": [
        "Equivalent code but updated to use `glom`."
      ],
      "metadata": {
        "id": "2l-WI21rL7Mv"
      }
    },
    {
      "cell_type": "code",
      "source": [],
      "metadata": {
        "id": "aS4JQjl4KxVg"
      },
      "execution_count": null,
      "outputs": []
    },
    {
      "cell_type": "markdown",
      "source": [
        "## 📝 Quick Review Quiz 1"
      ],
      "metadata": {
        "id": "vMng8S0j7mUu"
      }
    },
    {
      "cell_type": "markdown",
      "source": [
        "Test your understanding!\n",
        "\n",
        "---\n",
        "\n",
        "**1. What does \"API\" stand for?**\n",
        "\n",
        "<select>\n",
        "  <option value=\"Select_answer\">Select answer</option>\n",
        "  <option value=\"Automated_Program_Integration\">Automated Program Integration</option>\n",
        "  <option value=\"Advanced_Protocol_Interface\">Advanced Protocol Interface</option>\n",
        "  <option value=\"Application_Programming_Interface\">Application Programming Interface</option>\n",
        "  <option value=\"Applied Programming Instruction\">Applied Programming Instruction</option>\n",
        "</select>\n",
        "\n",
        "---\n",
        "\n",
        "**2. Which part of an API endpoint typically specifies the resource being accessed?**\n",
        "\n",
        "<select>\n",
        "  <option value=\"Select_answer\">Select answer</option>\n",
        "  <option value=\"Protocol\">Protocol</option>\n",
        "  <option value=\"Domain\">Domain</option>\n",
        "  <option value=\"Path\">Path</option>\n",
        "  <option value=\"Query_string\">Query string</option>\n",
        "</select>\n",
        "\n",
        "\n",
        "---\n",
        "\n",
        "**3.  In the endpoint `https://api.example.com/users/123`, what does 123 represent?**\n",
        "\n",
        "<select>\n",
        "  <option value=\"Select_answer\">Select answer</option>\n",
        "  <option value=\"API_version\">API version</option>\n",
        "  <option value=\"User_ID\">User ID</option>\n",
        "  <option value=\"Query_parameter\">Query parameter</option>\n",
        "  <option value=\"HTTP method\">HTTP method</option>\n",
        "</select>\n",
        "\n",
        "\n",
        "---\n",
        "\n",
        "**4. What does an EC number represent?**\n",
        "\n",
        "<select>\n",
        "  <option value=\"Select_answer\">Select answer</option>\n",
        "  <option value=\"Molecular_weight\">The molecular weight of an enzyme</option>\n",
        "  <option value=\"Protein_structure\">The structure of a protein</option>\n",
        "  <option value=\"Catalyzed_reaction\">The type of chemical reaction an enzyme catalyzes</option>\n",
        "  <option value=\"Cellular_location\">The location of the enzyme in the cell</option>\n",
        "</select>\n",
        "\n",
        "\n",
        "---\n",
        "\n",
        "**5. How many parts are there in a full EC number?**\n",
        "\n",
        "<select>\n",
        "  <option value=\"Select_answer\">Select answer</option>\n",
        "  <option value=\"2\">2</option>\n",
        "  <option value=\"3\">3</option>\n",
        "  <option value=\"4\">4</option>\n",
        "  <option value=\"5\">5</option>\n",
        "</select>"
      ],
      "metadata": {
        "id": "hs7PeCFe7mzn"
      }
    },
    {
      "cell_type": "markdown",
      "source": [
        "## 🔍 **3) EXERCISE**"
      ],
      "metadata": {
        "id": "rf-8b__2Q9BF"
      }
    },
    {
      "cell_type": "markdown",
      "source": [
        "### ❓ **TASK 3:** Replace the PDB id in the Python code & get a different output\n",
        "\n",
        "Replace the PDB id with a new id - `3DIV`\n"
      ],
      "metadata": {
        "id": "AXJMaTolVNuN"
      }
    },
    {
      "cell_type": "markdown",
      "source": [
        "### 🧪 **SOLUTION 3:** Replacing PDB id\n",
        "\n",
        "\n"
      ],
      "metadata": {
        "id": "llw_WJTYVn-1"
      }
    },
    {
      "cell_type": "code",
      "source": [],
      "metadata": {
        "id": "kRInZlJfQ8Ka"
      },
      "execution_count": null,
      "outputs": []
    },
    {
      "cell_type": "markdown",
      "source": [
        "## 📝 Quick Review Quiz 2"
      ],
      "metadata": {
        "id": "VHfLbFkOsbLk"
      }
    },
    {
      "cell_type": "markdown",
      "source": [
        "Test your understanding!\n",
        "\n",
        "**1. What is the main purpose of using an API in bioinformatics?**  \n",
        "<select>\n",
        "  <option value=\"Select_answer\">Select answer</option>\n",
        "  <option value=\"Visualize_protein_structures\">To visualize protein structures</option>\n",
        "  <option value=\"Access_biological_data\">To access and retrieve biological data from online databases</option>\n",
        "  <option value=\"Edit_DNA_sequences\">To edit DNA sequences</option>\n",
        "  <option value=\"Create_3D_models\">To create 3D models of enzymes</option>\n",
        "</select>\n",
        "\n",
        "---\n",
        "\n",
        "**2. Which Python keyword is used to define a function?**  \n",
        "<select>\n",
        "  <option value=\"Select_answer\">Select answer</option>\n",
        "  <option value=\"define\">define</option>\n",
        "  <option value=\"function\">function</option>\n",
        "  <option value=\"def\">def</option>\n",
        "  <option value=\"lambda\">lambda</option>\n",
        "</select>\n",
        "\n",
        "---\n",
        "\n",
        "**3. What Python data type is commonly used to store parsed JSON data?**  \n",
        "<select>\n",
        "  <option value=\"Select_answer\">Select answer</option>\n",
        "  <option value=\"List\">List</option>\n",
        "  <option value=\"Tuple\">Tuple</option>\n",
        "  <option value=\"Dictionary\">Dictionary</option>\n",
        "  <option value=\"String\">String</option>\n",
        "</select>\n",
        "\n",
        "---\n",
        "\n",
        "**4. What is the purpose of transforming nested JSON into a DataFrame?**  \n",
        "<select>\n",
        "  <option value=\"Select_answer\">Select answer</option>\n",
        "  <option value=\"Compress_data\">To compress the data</option>\n",
        "  <option value=\"Visualize_graph\">To visualize the data as a graph</option>\n",
        "  <option value=\"Analyze_data\">To make the data easier to analyze and manipulate</option>\n",
        "  <option value=\"Encrypt_data\">To encrypt the data</option>\n",
        "</select>\n",
        "\n",
        "---\n",
        "\n",
        "**5. Which Python package is introduced in the notebook for handling nested data?**  \n",
        "<select>\n",
        "  <option value=\"Select_answer\">Select answer</option>\n",
        "  <option value=\"pandas\">pandas</option>\n",
        "  <option value=\"glom\">glom</option>\n",
        "  <option value=\"numpy\">numpy</option>\n",
        "  <option value=\"json\">json</option>\n",
        "</select>\n",
        "\n",
        "---\n",
        "\n",
        "**6. What does the `glom` package help you do?**  \n",
        "<select>\n",
        "  <option value=\"Select_answer\">Select answer</option>\n",
        "  <option value=\"Create_plots\">Create plots from data</option>\n",
        "  <option value=\"Access_nested_data\">Access deeply nested data structures easily</option>\n",
        "  <option value=\"Connect_APIs\">Connect to APIs</option>\n",
        "  <option value=\"Clean_missing_values\">Clean missing values in a DataFrame</option>\n",
        "</select>\n",
        "\n",
        "---\n",
        "\n",
        "**7. What is the first step when working with data from an API?**  \n",
        "<select>\n",
        "  <option value=\"Select_answer\">Select answer</option>\n",
        "  <option value=\"Visualize_data\">Visualize the data</option>\n",
        "  <option value=\"Parse_JSON\">Parse the JSON</option>\n",
        "  <option value=\"Send_request\">Send a request to the API</option>\n",
        "  <option value=\"Save_to_file\">Save the data to a file</option>\n",
        "</select>\n",
        "\n",
        "---\n",
        "\n",
        "**8. Which Python library is commonly used to convert JSON data into a DataFrame?**  \n",
        "<select>\n",
        "  <option value=\"Select_answer\">Select answer</option>\n",
        "  <option value=\"matplotlib\">matplotlib</option>\n",
        "  <option value=\"glom\">glom</option>\n",
        "  <option value=\"pandas\">pandas</option>\n",
        "  <option value=\"requests\">requests</option>\n",
        "</select>\n",
        "\n",
        "---\n",
        "\n",
        "**9. How can AI help improve Python code in this notebook?**  \n",
        "<select>\n",
        "  <option value=\"Select_answer\">Select answer</option>\n",
        "  <option value=\"Generate_random_data\">By generating random data</option>\n",
        "  <option value=\"Fix_bugs\">By automatically fixing bugs and suggesting improvements</option>\n",
        "  <option value=\"Visualize_proteins\">By visualizing protein structures</option>\n",
        "  <option value=\"Encrypt_data\">By encrypting sensitive data</option>\n",
        "</select>\n",
        "\n",
        "---\n",
        "\n",
        "**10. Can a single protein chain in a structure be assigned more than one EC number?**  \n",
        "<select>\n",
        "  <option value=\"Select_answer\">Select answer</option>\n",
        "  <option value=\"No_one_EC\">No, each chain can only have one EC number</option>\n",
        "  <option value=\"Yes_multiple_reactions\">Yes, if the chain catalyzes multiple distinct reactions</option>\n",
        "  <option value=\"Only_eukaryotes\">Only if the protein is from a eukaryotic organism</option>\n",
        "  <option value=\"Only_homodimer\">Only if the structure is a homodimer</option>\n",
        "</select>\n",
        "\n",
        "---"
      ],
      "metadata": {
        "id": "TJuJWLDY1yzr"
      }
    },
    {
      "cell_type": "markdown",
      "source": [
        "##🔍 **4) BONUS CHALLENGE**\n",
        "\n",
        "---\n",
        "\n"
      ],
      "metadata": {
        "id": "w0fuMcGHtIPu"
      }
    },
    {
      "cell_type": "markdown",
      "source": [
        "### ❓ **TASK 4:** Improve the code  from the PDBe API with example PDB ID `2xfu`\n",
        "\n",
        "Enhance the previous code to generate an output table with four columns:\n",
        "\n",
        "*   EC Number\n",
        "*   Enzyme Name\n",
        "*   Reaction\n",
        "*   Chain ID\n",
        "\n",
        "\n",
        "<br>\n",
        "\n",
        "---"
      ],
      "metadata": {
        "id": "ZGRYUk096pcm"
      }
    },
    {
      "cell_type": "markdown",
      "source": [
        "\n",
        "\n",
        "### 🧪 **SOLUTION 4:** Improved code (include more info from API)"
      ],
      "metadata": {
        "id": "vUpodoU4tfbt"
      }
    },
    {
      "cell_type": "code",
      "source": [],
      "metadata": {
        "id": "DzljWXUKjmZF"
      },
      "execution_count": null,
      "outputs": []
    },
    {
      "cell_type": "markdown",
      "source": [
        "\n",
        "## 🔍 **5) BONUS CHALLENGE**"
      ],
      "metadata": {
        "id": "cJtKDF4DudZk"
      }
    },
    {
      "cell_type": "markdown",
      "source": [
        "### ❓ **TASK 5:** Use AI and the Python package `glom` to simplify the code with example PDB ID `2xfu`\n",
        "\n",
        "*HINT: May take more than one prompt -- you can ask AI to bug fix.*\n",
        "\n",
        "<br>\n",
        "\n",
        "---"
      ],
      "metadata": {
        "id": "zyAL2RkP6yvS"
      }
    },
    {
      "cell_type": "markdown",
      "source": [
        "### 🧪 **SOLUTION 5:** Simplified by using `glom`, assisted by AI"
      ],
      "metadata": {
        "id": "Veb_ANY_uwkG"
      }
    },
    {
      "cell_type": "code",
      "source": [],
      "metadata": {
        "id": "DfQucDHSnWni"
      },
      "execution_count": null,
      "outputs": []
    },
    {
      "cell_type": "markdown",
      "source": [
        "# Copyright 2025 EMBL - European Bioinformatics Institute\n",
        "\n",
        "Licensed under the Apache License, Version 2.0 (the \"License\"); you may not use this file except in compliance with the License. You may obtain a copy of the License at http://www.apache.org/licenses/LICENSE-2.0\n",
        "\n",
        "Unless required by applicable law or agreed to in writing, software distributed under the License is distributed on an \"AS IS\" BASIS, WITHOUT WARRANTIES OR CONDITIONS OF ANY KIND, either express or implied. See the License for the specific language governing permissions and limitations under the License."
      ],
      "metadata": {
        "id": "iMcFdQcjasgx"
      }
    }
  ]
}