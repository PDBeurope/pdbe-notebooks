{
  "nbformat": 4,
  "nbformat_minor": 0,
  "metadata": {
    "colab": {
      "provenance": [],
      "include_colab_link": true
    },
    "kernelspec": {
      "name": "python3",
      "display_name": "Python 3"
    },
    "language_info": {
      "name": "python"
    }
  },
  "cells": [
    {
      "cell_type": "markdown",
      "metadata": {
        "id": "view-in-github",
        "colab_type": "text"
      },
      "source": [
        "<a href=\"https://colab.research.google.com/github/PDBeurope/pdbe-notebooks/blob/main/pdbe_ligands_tutorials/PDBe_ligand_tools.ipynb\" target=\"_parent\"><img src=\"https://colab.research.google.com/assets/colab-badge.svg\" alt=\"Open In Colab\"/></a>"
      ]
    },
    {
      "cell_type": "markdown",
      "metadata": {
        "id": "D4K6GJSsp2mv"
      },
      "source": [
        "![](https://www.ebi.ac.uk/pdbe/sites/default/files/2019-04/PDBe-letterhead-charcoal-RGB_2013.png)\n",
        "\n",
        "# PDBe tools for ligand analysis and visualisation\n",
        "## Introduction\n",
        "Welcome to this Google Colab notebook, showcasing specialized tools developed by the Protein Data Bank in Europe (PDBe) to analyse small-molecules in PDB. We will explore:\n",
        "\n",
        "1.   **[PDBe CCDUtils](https://github.com/PDBeurope/ccdutils)**: A small-molecule toolkit for accessing and enriching ligand data\n",
        "\n",
        "2.   **[PDBe Arpeggio](https://github.com/PDBeurope/arpeggio)**: Analysing interactions between ligands and macromolecules\n",
        "3.   **[PDBe RelLig](https://github.com/PDBeurope/rellig)**: Identifying the functional roles of ligands, such as reactants, cofactors, and drugs"
      ]
    },
    {
      "cell_type": "markdown",
      "metadata": {
        "id": "FmIv9NCAtHz1"
      },
      "source": [
        "  ## Instructions <a name=\"Instructions\"></a>\n",
        "\n",
        "* Quick Start <a name=\"Quick Start\"></a>\n",
        "\n",
        "In order to make the learning experience more accessible and interactive, we have incorporated widgets that allow you to provide inputs and customize certain aspects of the code. These widgets serve as interactive elements that enhance your ability to interact with the code and observe the impact of different inputs on the results. Throughout this tutorial, you will come across code chunks that include these interactive widgets.\n",
        "\n",
        "  * How to use Google Colab <a name=\"Google Colab\"></a>\n",
        "1. To run a code cell, click on the cell to select it. You will notice a play button (▶) on the left side of the cell. Click on the play button or press Shift+Enter to run the code in the selected cell.\n",
        "2. The code will start executing, and you will see the output, if any, displayed below the code cell.\n",
        "3. Move to the next code cell and repeat steps 2 and 3 until you have executed all the desired code cells in sequence.\n",
        "4. The currently running step is indicated by a circle with a stop sign next to it.\n",
        "If you need to stop or interrupt the execution of a code cell, you can click on the stop button (■) located next to the play button.\n",
        "\n",
        "*Remember to run the code cells in the correct order, as their execution might depend on variables or functions defined in previous cells. You can modify the code in a code cell and re-run it to see updated results.*\n",
        "\n",
        "## Contact us\n",
        "\n",
        "Requests for clarifications or reporting bugs can be made via pdbehelp@ebi.ac.uk."
      ]
    },
    {
      "cell_type": "markdown",
      "metadata": {
        "id": "9LKPtm5gr2Fu"
      },
      "source": [
        "#&nbsp; 1.  PDBe CCDUtils\n",
        "## Introduction\n",
        "PDBe CCDUtils is an open-source python package for processing and analyzing small molecules in the PDB. Small-molecule data in the PDB is available as [Chemical Component Dictionary (CCD)](http://www.wwpdb.org/data/ccd) or [Biologically Interesting Molecule reference Dictioanry (BIRD)](http://www.wwpdb.org/data/bird) in PDBX/mmCIF format. PDBe CCDUtils provides streamlined access to all metadata of small molecules in the PDB and offers a set of convenient methods to compute various properties using RDKIt such as\n",
        "\n",
        "* [Physicochemical properties](#accessing-properties-of-CCD)\n",
        "* [Matching common fragments and scaffolds](#finding-fragments-and-scaffolds)\n",
        "* [Mapping to small-molecule databases using UniChem](#fetching-external-mappings-to-other-databases)\n",
        "* [2D depictions](#2D-Depictions)\n",
        "* [Similarity using PARITY method](#similarity-using-parity-method)\n",
        "* [Export to multiple formats](#export-to-different-formats)\n",
        "\n",
        "\n",
        "PDBe CCDUtils also provides methods for identifying all the Covalently Linked Chemical components (CLC) in a macromolecular structure. To findout more, please refer to the publication [PDBe CCDUtils: an RDKit-based toolkit for handling and analysing small molecules in the Protein Data Bank](https://doi.org/10.1186/s13321-023-00786-w)"
      ]
    },
    {
      "cell_type": "markdown",
      "metadata": {
        "id": "v2TarOvbsmVj"
      },
      "source": [
        "## Install dependencies"
      ]
    },
    {
      "cell_type": "code",
      "execution_count": 55,
      "metadata": {
        "colab": {
          "base_uri": "https://localhost:8080/"
        },
        "id": "RZIHS507sqDq",
        "outputId": "5297f9f2-7846-4e79-b416-b3fbbc9b9943"
      },
      "outputs": [
        {
          "output_type": "stream",
          "name": "stdout",
          "text": [
            "Requirement already satisfied: pdbeccdutils in /usr/local/lib/python3.10/dist-packages (0.8.6)\n",
            "Requirement already satisfied: wget in /usr/local/lib/python3.10/dist-packages (3.2)\n",
            "Requirement already satisfied: gemmi<0.7.0,>=0.6.6 in /usr/local/lib/python3.10/dist-packages (from pdbeccdutils) (0.6.7)\n",
            "Requirement already satisfied: networkx<4.0,>=3.3 in /usr/local/lib/python3.10/dist-packages (from pdbeccdutils) (3.4.2)\n",
            "Requirement already satisfied: numpy<1.27.0,>=1.26.4 in /usr/local/lib/python3.10/dist-packages (from pdbeccdutils) (1.26.4)\n",
            "Requirement already satisfied: pillow<11.0.0,>=10.4.0 in /usr/local/lib/python3.10/dist-packages (from pdbeccdutils) (10.4.0)\n",
            "Requirement already satisfied: rdkit==2023.9.6 in /usr/local/lib/python3.10/dist-packages (from pdbeccdutils) (2023.9.6)\n",
            "Requirement already satisfied: requests<3.0.0,>=2.32.3 in /usr/local/lib/python3.10/dist-packages (from pdbeccdutils) (2.32.3)\n",
            "Requirement already satisfied: scipy<2.0.0,>=1.14.1 in /usr/local/lib/python3.10/dist-packages (from pdbeccdutils) (1.14.1)\n",
            "Requirement already satisfied: charset-normalizer<4,>=2 in /usr/local/lib/python3.10/dist-packages (from requests<3.0.0,>=2.32.3->pdbeccdutils) (3.4.0)\n",
            "Requirement already satisfied: idna<4,>=2.5 in /usr/local/lib/python3.10/dist-packages (from requests<3.0.0,>=2.32.3->pdbeccdutils) (3.10)\n",
            "Requirement already satisfied: urllib3<3,>=1.21.1 in /usr/local/lib/python3.10/dist-packages (from requests<3.0.0,>=2.32.3->pdbeccdutils) (2.2.3)\n",
            "Requirement already satisfied: certifi>=2017.4.17 in /usr/local/lib/python3.10/dist-packages (from requests<3.0.0,>=2.32.3->pdbeccdutils) (2024.8.30)\n"
          ]
        }
      ],
      "source": [
        "%pip install pdbeccdutils wget"
      ]
    },
    {
      "cell_type": "markdown",
      "metadata": {
        "id": "JZbtb1_cr_GH"
      },
      "source": [
        "## Helper functions"
      ]
    },
    {
      "cell_type": "code",
      "execution_count": 7,
      "metadata": {
        "id": "8-lUsb_4r_GH"
      },
      "outputs": [],
      "source": [
        "import os\n",
        "import gzip\n",
        "import requests\n",
        "from enum import Enum\n",
        "from typing import NamedTuple\n",
        "import pandas as pd\n",
        "from collections import defaultdict\n",
        "from typing import List, Set, Dict\n",
        "from gemmi import cif\n",
        "from pdbeccdutils.core.component import Component"
      ]
    },
    {
      "cell_type": "code",
      "execution_count": 8,
      "metadata": {
        "id": "RbWhEiWwr_GH"
      },
      "outputs": [],
      "source": [
        "BASE_URL = \"https://ftp.ebi.ac.uk/pub/databases/msd\"\n",
        "PDBECHEM_URL = f\"{BASE_URL}/pdbechem_v2\"\n",
        "ENTRY_URL = f\"{BASE_URL}/updated_mmcif/all\"\n",
        "ASSEMBLY_URL = f\"{BASE_URL}/assemblies/all\"\n",
        "\n",
        "class ligandType(Enum):\n",
        "    CCD = \"ccd\"\n",
        "    PRD = \"prd\"\n",
        "    CLC = \"clc\"\n",
        "\n",
        "class Subcomponent(NamedTuple):\n",
        "    id: int\n",
        "    name: str\n",
        "    atoms: list[str]\n",
        "\n",
        "\n",
        "def get_ligand_cif(ligand_id: str, ligand_type: ligandType) -> str:\n",
        "    \"\"\"\n",
        "    Downloads and writes ligand CIF from PDBe FTP to a file\n",
        "    and returns the path\n",
        "\n",
        "    Args:\n",
        "        ligand_id: ID of the ligand\n",
        "        ligand_type: Type of ligand\n",
        "\n",
        "    Returns:\n",
        "        The path to cif file of ligand\n",
        "    \"\"\"\n",
        "    match ligand_type.value:\n",
        "        case \"ccd\":\n",
        "            ligand_dir = os.path.join(\"ccd\", ligand_id[0], ligand_id)\n",
        "        case \"prd\":\n",
        "            ligand_dir = os.path.join(\"prd\", ligand_id[-1],ligand_id)\n",
        "        case \"clc\":\n",
        "            ligand_dir = os.path.join(\"clc\", ligand_id[-1],ligand_id)\n",
        "    try:\n",
        "        ligand_cif_path = os.path.join(PDBECHEM_URL, ligand_dir, f\"{ligand_id}.cif\")\n",
        "        response = requests.get(ligand_cif_path)\n",
        "        assert response.status_code == 200\n",
        "        ligand_cif_file = os.path.join(os.getcwd(), f\"{ligand_id}.cif\")\n",
        "        with open(ligand_cif_file, \"wb\") as fh:\n",
        "            fh.write(response.content)\n",
        "\n",
        "        return ligand_cif_file\n",
        "    except  AssertionError:\n",
        "        print(f\"Couldn't find the file. Check if {ligand_id} & {ligand_type} are valid, if so try again\")\n",
        "\n",
        "\n",
        "def get_entry_cif(pdb_id: str) -> str:\n",
        "    \"\"\"\n",
        "    Downloads and writes PDB entry updated mmCIF to a file and\n",
        "    returns the path\n",
        "\n",
        "    Args:\n",
        "        pdb_id: PDB id of an entry\n",
        "\n",
        "    Returns:\n",
        "        path to the downloaded cif file\n",
        "    \"\"\"\n",
        "    entry_url = os.path.join(ENTRY_URL, f\"{pdb_id}_updated.cif.gz\")\n",
        "    response = requests.get(entry_url, stream=True)\n",
        "    response.raise_for_status()\n",
        "    with open(f\"{pdb_id}_updated.cif\", \"wb\") as fh:\n",
        "        fh.write(gzip.decompress(response.content))\n",
        "\n",
        "    return f\"{pdb_id}_updated.cif\"\n",
        "\n",
        "def get_subcomponents(component: Component) -> List[Subcomponent]:\n",
        "    \"\"\"\n",
        "    Returns a list of subcomponents present in a\n",
        "    multi-component ligand\n",
        "\n",
        "    Args:\n",
        "        component: Component object of small molecule\n",
        "    \"\"\"\n",
        "    mol = component.mol_no_h\n",
        "    atoms = defaultdict(list)\n",
        "    for atom in mol.GetAtoms():\n",
        "        if not atom.HasProp(\"residue_id\"):\n",
        "            continue\n",
        "        else:\n",
        "            res_id = atom.GetProp(\"residue_id\")\n",
        "            res_info = atom.GetPDBResidueInfo()\n",
        "            res_name = res_info.GetResidueName()\n",
        "            atoms[(res_id, res_name)].append(atom.GetProp(\"name\"))\n",
        "\n",
        "    subcomponents = [Subcomponent(id=key[0],\n",
        "                                  name = key[1],\n",
        "                                  atoms = values,\n",
        "                                ) for key, values in atoms.items()]\n",
        "    return subcomponents\n"
      ]
    },
    {
      "cell_type": "markdown",
      "metadata": {
        "id": "cI84zBz7r_GJ"
      },
      "source": [
        "##&nbsp; 1.1  Reading small molecule data"
      ]
    },
    {
      "cell_type": "code",
      "execution_count": 9,
      "metadata": {
        "id": "_ToEPsKEr_GJ"
      },
      "outputs": [],
      "source": [
        "from pdbeccdutils.core import ccd_reader"
      ]
    },
    {
      "cell_type": "code",
      "execution_count": 59,
      "metadata": {
        "colab": {
          "base_uri": "https://localhost:8080/"
        },
        "id": "yf7w9isVr_GK",
        "outputId": "cf1b0960-5ac1-428f-b9ea-f04fe5c7092e"
      },
      "outputs": [
        {
          "output_type": "execute_result",
          "data": {
            "text/plain": [
              "CCDReaderResult(warnings=[], errors=[], component=<pdbeccdutils.core.component.Component object at 0x781aa1b5e890>, sanitized=True)"
            ]
          },
          "metadata": {},
          "execution_count": 59
        }
      ],
      "source": [
        "hem_cif = get_ligand_cif(\"HEM\", ligandType.CCD)\n",
        "hem =  ccd_reader.read_pdb_cif_file(hem_cif)\n",
        "hem"
      ]
    },
    {
      "cell_type": "markdown",
      "metadata": {
        "id": "QUmSJtE4r_GL"
      },
      "source": [
        "CCDReaderResult contains a component object - the core structural representation of small-molecules in PDBe CCDUtils. Component is a wrapper around rdkit.Chem.rdchem.Mol object providing most of its functionality and access metada data from CCD file."
      ]
    },
    {
      "cell_type": "code",
      "execution_count": 60,
      "metadata": {
        "id": "PDsjaTkOr_GL"
      },
      "outputs": [],
      "source": [
        "hem_component = hem.component"
      ]
    },
    {
      "cell_type": "markdown",
      "metadata": {
        "id": "QN6fPdSgr_GL"
      },
      "source": [
        "##&nbsp; 1.2 Accessing properties of CCD"
      ]
    },
    {
      "cell_type": "markdown",
      "metadata": {
        "id": "3rJ4YGyNr_GL"
      },
      "source": [
        "Properties in the CCD file and physicochemical properties generated by RDKit can be accessed using attributes of the Component object"
      ]
    },
    {
      "cell_type": "code",
      "execution_count": 61,
      "metadata": {
        "colab": {
          "base_uri": "https://localhost:8080/"
        },
        "id": "E_AJcHu8r_GL",
        "outputId": "9d6fd1f3-d3a3-47a6-9d73-b084bff31da6"
      },
      "outputs": [
        {
          "output_type": "stream",
          "name": "stdout",
          "text": [
            "\n",
            "id: HEM\n",
            "name: PROTOPORPHYRIN IX CONTAINING FE\n",
            "formula: C34 H32 Fe N4 O4\n",
            "inchi: InChI=1S/C34H34N4O4.Fe/c1-7-21-17(3)25-13-26-19(5)23(9-11-33(39)40)31(37-26)16-32-24(10-12-34(41)42)20(6)28(38-32)15-30-22(8-2)18(4)27(36-30)14-29(21)35-25;/h7-8,13-16H,1-2,9-12H2,3-6H3,(H4,35,36,37,38,39,40,41,42);/q;+2/p-2/b25-13-,26-13-,27-14-,28-15-,29-14-,30-15-,31-16-,32-16-;\n",
            "inchikey: KABFMIBPWCXCRK-RGGAHWMASA-L\n",
            "release status: REL\n",
            "modified_date: 2024-09-27\n",
            "\n"
          ]
        }
      ],
      "source": [
        "print(f\"\"\"\n",
        "id: {hem_component.id}\n",
        "name: {hem_component.name}\n",
        "formula: {hem_component.formula}\n",
        "inchi: {hem_component.inchi}\n",
        "inchikey: {hem_component.inchikey}\n",
        "release status: {hem_component.pdbx_release_status.name}\n",
        "modified_date: {hem_component.modified_date}\n",
        "\"\"\")"
      ]
    },
    {
      "cell_type": "code",
      "execution_count": 62,
      "metadata": {
        "colab": {
          "base_uri": "https://localhost:8080/"
        },
        "id": "n82cytJ5r_GM",
        "outputId": "d1daa4f0-18e7-4193-ef45-4e0ae29398de"
      },
      "outputs": [
        {
          "output_type": "execute_result",
          "data": {
            "text/plain": [
              "[Descriptor(type='SMILES', program='ACDLabs', program_version='12.01', value='C=1c3c(c(c4C=C5C(=C(C=6C=C7C(=C(C8=CC=2C(=C(C=1N=2[Fe](n34)(N5=6)N78)CCC(=O)O)C)\\\\C=C)C)\\\\C=C)C)C)CCC(=O)O'),\n",
              " Descriptor(type='InChI', program='InChI', program_version='1.03', value='InChI=1S/C34H34N4O4.Fe/c1-7-21-17(3)25-13-26-19(5)23(9-11-33(39)40)31(37-26)16-32-24(10-12-34(41)42)20(6)28(38-32)15-30-22(8-2)18(4)27(36-30)14-29(21)35-25;/h7-8,13-16H,1-2,9-12H2,3-6H3,(H4,35,36,37,38,39,40,41,42);/q;+2/p-2/b25-13-,26-13-,27-14-,28-15-,29-14-,30-15-,31-16-,32-16-;'),\n",
              " Descriptor(type='InChIKey', program='InChI', program_version='1.03', value='KABFMIBPWCXCRK-RGGAHWMASA-L'),\n",
              " Descriptor(type='SMILES_CANONICAL', program='CACTVS', program_version='3.385', value='CC1=C(CCC(O)=O)C2=Cc3n4[Fe]5|6|N2=C1C=c7n5c(=CC8=N|6C(=Cc4c(C)c3CCC(O)=O)C(=C8C=C)C)c(C)c7C=C'),\n",
              " Descriptor(type='SMILES', program='CACTVS', program_version='3.385', value='CC1=C(CCC(O)=O)C2=Cc3n4[Fe]5|6|N2=C1C=c7n5c(=CC8=N|6C(=Cc4c(C)c3CCC(O)=O)C(=C8C=C)C)c(C)c7C=C'),\n",
              " Descriptor(type='SMILES_CANONICAL', program='OpenEye OEToolkits', program_version='1.7.6', value='Cc1c2n3c(c1CCC(=O)O)C=C4C(=C(C5=[N]4[Fe]36[N]7=C(C=C8N6C(=C5)C(=C8C)C=C)C(=C(C7=C2)C)C=C)C)CCC(=O)O'),\n",
              " Descriptor(type='SMILES', program='OpenEye OEToolkits', program_version='1.7.6', value='Cc1c2n3c(c1CCC(=O)O)C=C4C(=C(C5=[N]4[Fe]36[N]7=C(C=C8N6C(=C5)C(=C8C)C=C)C(=C(C7=C2)C)C=C)C)CCC(=O)O'),\n",
              " Descriptor(type='SYSTEMATIC NAME', program='OpenEye OEToolkits', program_version='1.6.1', value='3-[(5Z,10Z,14Z,19Z)-18-(2-carboxyethyl)-8,13-bis(ethenyl)-3,7,12,17-tetramethyl-21,23-dihydroporphyrin-2-yl]propanoic acid'),\n",
              " Descriptor(type='SYSTEMATIC NAME', program='ACDLabs', program_version='12.01', value=\"[3,3'-(7,12-diethenyl-3,8,13,17-tetramethylporphyrin-2,18-diyl-kappa~4~N~21~,N~22~,N~23~,N~24~)dipropanoato(2-)]iron\")]"
            ]
          },
          "metadata": {},
          "execution_count": 62
        }
      ],
      "source": [
        "hem_component.descriptors"
      ]
    },
    {
      "cell_type": "code",
      "execution_count": 63,
      "metadata": {
        "colab": {
          "base_uri": "https://localhost:8080/"
        },
        "id": "ZmzwfuA4r_GM",
        "outputId": "c19e1baa-8e81-4762-f5a6-0d3c743e927f"
      },
      "outputs": [
        {
          "output_type": "execute_result",
          "data": {
            "text/plain": [
              "{'exactmw': 616.177293004001,\n",
              " 'amw': 616.4990000000015,\n",
              " 'lipinskiHBA': 8.0,\n",
              " 'lipinskiHBD': 2.0,\n",
              " 'NumRotatableBonds': 12.0,\n",
              " 'NumHBD': 2.0,\n",
              " 'NumHBA': 8.0,\n",
              " 'NumHeavyAtoms': 43.0,\n",
              " 'NumAtoms': 75.0,\n",
              " 'NumHeteroatoms': 9.0,\n",
              " 'NumAmideBonds': 0.0,\n",
              " 'FractionCSP3': 0.23529411764705882,\n",
              " 'NumRings': 6.0,\n",
              " 'NumAromaticRings': 2.0,\n",
              " 'NumAliphaticRings': 4.0,\n",
              " 'NumSaturatedRings': 0.0,\n",
              " 'NumHeterocycles': 6.0,\n",
              " 'NumAromaticHeterocycles': 2.0,\n",
              " 'NumSaturatedHeterocycles': 0.0,\n",
              " 'NumAliphaticHeterocycles': 4.0,\n",
              " 'NumSpiroAtoms': 0.0,\n",
              " 'NumBridgeheadAtoms': 6.0,\n",
              " 'NumAtomStereoCenters': 1.0,\n",
              " 'NumUnspecifiedAtomStereoCenters': 0.0,\n",
              " 'labuteASA': 296.33725284003606,\n",
              " 'tpsa': 96.26000000000002,\n",
              " 'CrippenClogP': 6.210060000000007,\n",
              " 'CrippenMR': 165.27259999999967,\n",
              " 'chi0v': 21.879585517566603,\n",
              " 'chi1v': 13.71303192500862,\n",
              " 'chi2v': 11.67144422171997,\n",
              " 'chi3v': 11.67144422171997,\n",
              " 'chi4v': 10.931337280412357,\n",
              " 'chi0n': 52.775400934448555,\n",
              " 'chi1n': 27.554303075888956,\n",
              " 'chi2n': 7.046175792189254,\n",
              " 'chi3n': 7.046175792189254,\n",
              " 'chi4n': 5.474853708651833,\n",
              " 'hallKierAlpha': -4.460519480519479,\n",
              " 'kappa1': 9.033095446276976,\n",
              " 'kappa2': 8.336182650117628,\n",
              " 'kappa3': 2.8255702357007864,\n",
              " 'Phi': 1.7511984543281554}"
            ]
          },
          "metadata": {},
          "execution_count": 63
        }
      ],
      "source": [
        "hem_component.physchem_properties"
      ]
    },
    {
      "cell_type": "markdown",
      "metadata": {
        "id": "cqGxZfgCr_GM"
      },
      "source": [
        "##&nbsp; 1.3 Fetching external mappings to other databases"
      ]
    },
    {
      "cell_type": "code",
      "execution_count": 64,
      "metadata": {
        "colab": {
          "base_uri": "https://localhost:8080/"
        },
        "id": "qmn93mUvr_GM",
        "outputId": "be633fd2-5ce2-4b15-e4e1-b5281ad794fb"
      },
      "outputs": [
        {
          "output_type": "execute_result",
          "data": {
            "text/plain": [
              "[('DrugBank', 'DB18267'),\n",
              " ('BRENDA', '135197'),\n",
              " ('MedChemExpress', 'HY-111914A'),\n",
              " ('BRENDA', '228486'),\n",
              " ('BRENDA', '228485'),\n",
              " ('BRENDA', '48'),\n",
              " ('BRENDA', '8254'),\n",
              " ('BRENDA', '143348'),\n",
              " ('BRENDA', '822'),\n",
              " ('BRENDA', '211503'),\n",
              " ('EPA CompTox Dashboard', 'DTXSID90889386'),\n",
              " ('HMDB', 'HMDB0003178'),\n",
              " ('MetaboLights', 'MTBLC26355'),\n",
              " ('BRENDA', '3360'),\n",
              " ('MetaboLights', 'MTBLC17627'),\n",
              " ('BRENDA', '30062'),\n",
              " ('BRENDA', '144129'),\n",
              " ('BRENDA', '1517'),\n",
              " ('SureChEMBL', 'SCHEMBL4008'),\n",
              " ('PubChem TPHARMA', '14912106'),\n",
              " ('fdasrs', '42VZT0U6YR'),\n",
              " ('ChEBI', '26355'),\n",
              " ('Probes And Drugs', 'PD158908'),\n",
              " ('ChEBI', '17627')]"
            ]
          },
          "metadata": {},
          "execution_count": 64
        }
      ],
      "source": [
        "external_mappings = hem_component.fetch_external_mappings(all_mappings=True)\n",
        "external_mappings"
      ]
    },
    {
      "cell_type": "markdown",
      "metadata": {
        "id": "HeCtfsQkr_GN"
      },
      "source": [
        "##&nbsp; 1.4 Finding fragments"
      ]
    },
    {
      "cell_type": "markdown",
      "metadata": {
        "id": "6TfMwjqdr_GN"
      },
      "source": [
        "PDBe CCDUtils supports search for fragments present in a small molecule from a library of fragments. The fragment library present in PDBe CCDUtils contains 2158 fragments which were manually currated at PDBe and collaborating resources (ENAMINE, DSI). Should you wish to check all the fragments, please check [fragment_library.tsv](https://github.com/PDBeurope/ccdutils/blob/master/pdbeccdutils/data/fragment_library.tsv) file."
      ]
    },
    {
      "cell_type": "code",
      "execution_count": 65,
      "metadata": {
        "id": "OxSwep0Qr_GN"
      },
      "outputs": [],
      "source": [
        "from pdbeccdutils.core.fragment_library import FragmentLibrary\n",
        "from rdkit.Chem import Draw"
      ]
    },
    {
      "cell_type": "code",
      "execution_count": 66,
      "metadata": {
        "id": "Hj1YszD3r_GN"
      },
      "outputs": [],
      "source": [
        "fragment_library = FragmentLibrary()"
      ]
    },
    {
      "cell_type": "code",
      "execution_count": 67,
      "metadata": {
        "colab": {
          "base_uri": "https://localhost:8080/"
        },
        "id": "UQKn2ludr_GN",
        "outputId": "9981a030-e24b-4514-dcbc-a24f270cedc1"
      },
      "outputs": [
        {
          "output_type": "stream",
          "name": "stdout",
          "text": [
            "No of fragments found: 2\n"
          ]
        }
      ],
      "source": [
        "fragment_matches = hem_component.library_search(fragment_library)\n",
        "print(f\"No of fragments found: {len(fragment_matches)}\")"
      ]
    },
    {
      "cell_type": "code",
      "execution_count": 68,
      "metadata": {
        "colab": {
          "base_uri": "https://localhost:8080/"
        },
        "id": "YCSbSRwDr_GN",
        "outputId": "5a57b513-3ed1-4748-89ed-dc60af8f824e"
      },
      "outputs": [
        {
          "output_type": "execute_result",
          "data": {
            "text/plain": [
              "[SubstructureMapping(name='porphin-like', mol=<rdkit.Chem.rdchem.Mol object at 0x781a97991620>, source='PDBe', mappings=((5, 6, 7, 1, 14, 39, 17, 16, 15, 2, 21, 40, 24, 3, 28, 41, 31, 0, 4, 38, 30, 29, 23, 22),)),\n",
              " SubstructureMapping(name='pyrrole', mol=<rdkit.Chem.rdchem.Mol object at 0x781a97991d90>, source='PDBe', mappings=((4, 5, 6, 7, 38), (21, 22, 23, 24, 40)))]"
            ]
          },
          "metadata": {},
          "execution_count": 68
        }
      ],
      "source": [
        "fragment_matches"
      ]
    },
    {
      "cell_type": "code",
      "execution_count": 69,
      "metadata": {
        "colab": {
          "base_uri": "https://localhost:8080/",
          "height": 217
        },
        "id": "O6wODyPor_GN",
        "outputId": "80ded138-47f3-49ef-ab2c-aecc0b91bdaa"
      },
      "outputs": [
        {
          "output_type": "execute_result",
          "data": {
            "image/png": "[encoded data removed]",
            "text/plain": [
              "<IPython.core.display.Image object>"
            ]
          },
          "metadata": {},
          "execution_count": 69
        }
      ],
      "source": [
        "fragment_mols = [fragment.mol for fragment in hem_component.fragments]\n",
        "img = Draw.MolsToGridImage(fragment_mols, legends = [fragment.name for fragment in hem_component.fragments])\n",
        "img"
      ]
    },
    {
      "cell_type": "markdown",
      "metadata": {
        "id": "HEN92ItWr_GN"
      },
      "source": [
        "##&nbsp; 1.5 Finding scaffolds"
      ]
    },
    {
      "cell_type": "markdown",
      "metadata": {
        "id": "l__p9JiKr_GN"
      },
      "source": [
        "PDBe CCDUtils supports identification of scaffolds of small moelcules in PDB using the RDKit functionality. Currently it supports three types of scaffolding methods\n",
        "* MurckoScaffold\n",
        "* MurckoScaffoldGeneric\n",
        "* BRICS"
      ]
    },
    {
      "cell_type": "code",
      "execution_count": 70,
      "metadata": {
        "id": "ZbiWfqhUr_GN"
      },
      "outputs": [],
      "source": [
        "from pdbeccdutils.core.models import ScaffoldingMethod"
      ]
    },
    {
      "cell_type": "code",
      "execution_count": 71,
      "metadata": {
        "id": "Bl_cvN3Fr_GN"
      },
      "outputs": [],
      "source": [
        "murcko_scaffolds = hem_component.get_scaffolds(scaffolding_method = ScaffoldingMethod.MurckoScaffold)\n",
        "generic_murcko_scaffolds = hem_component.get_scaffolds(scaffolding_method = ScaffoldingMethod.MurckoGeneric)\n",
        "brics_scaffolds = hem_component.get_scaffolds(scaffolding_method=ScaffoldingMethod.Brics)"
      ]
    },
    {
      "cell_type": "code",
      "execution_count": 72,
      "metadata": {
        "colab": {
          "base_uri": "https://localhost:8080/",
          "height": 167
        },
        "id": "BR5ea72Er_GN",
        "outputId": "b1e38ca2-b43f-48d8-fc81-3398985a4706"
      },
      "outputs": [
        {
          "output_type": "execute_result",
          "data": {
            "text/plain": [
              "<rdkit.Chem.rdchem.Mol at 0x781a9dc43b50>"
            ],
            "image/png": "[encoded data removed]"
          },
          "metadata": {},
          "execution_count": 72
        }
      ],
      "source": [
        "murcko_scaffolds[0]"
      ]
    },
    {
      "cell_type": "markdown",
      "metadata": {
        "id": "oF9tqWSar_GO"
      },
      "source": [
        "##&nbsp; 1.6 2D Depictions"
      ]
    },
    {
      "cell_type": "markdown",
      "metadata": {
        "id": "IfHkVXzEr_GO"
      },
      "source": [
        "PDBe CCDUtils uses [template-based](https://rdkit.org/docs/source/rdkit.Chem.rdDepictor.html#rdkit.Chem.rdDepictor.GenerateDepictionMatching2DStructure) and [connectivity based](https://rdkit.org/docs/source/rdkit.Chem.rdCoordGen.html) methods from RDKit to generate 2D depictions of small moelcules. Templates can either be downloaded from PubChem or provided as a path to a folder containing SDF files. A hand-curated set of [ten templates](https://github.com/PDBeurope/ccdutils/tree/master/pdbeccdutils/data/general_templates) are also provided with PDBe CCDUtils\n",
        "\n",
        "To find the best depiction of a small molecule, a heuristic-based Depiction Penalty Score (DPS) is defined. A DPS of zero indicates a high-quality 2D depiction, while higher scores indicate lower quality."
      ]
    },
    {
      "cell_type": "code",
      "execution_count": 73,
      "metadata": {
        "colab": {
          "base_uri": "https://localhost:8080/",
          "height": 167
        },
        "id": "KlXgHxLWr_GO",
        "outputId": "887fef2a-230a-4e18-b1dc-8feb9d22e1c6"
      },
      "outputs": [
        {
          "output_type": "execute_result",
          "data": {
            "text/plain": [
              "<rdkit.Chem.rdchem.Mol at 0x781ab06525e0>"
            ],
            "image/png": "[encoded data removed]"
          },
          "metadata": {},
          "execution_count": 73
        }
      ],
      "source": [
        "hem_component.mol"
      ]
    },
    {
      "cell_type": "code",
      "execution_count": 10,
      "metadata": {
        "id": "xWZjIYvBr_GO"
      },
      "outputs": [],
      "source": [
        "from pdbeccdutils.core.depictions import DepictionManager\n",
        "from pdbeccdutils.utils.pubchem_downloader import PubChemDownloader\n",
        "from IPython.core.display import SVG"
      ]
    },
    {
      "cell_type": "code",
      "execution_count": 75,
      "metadata": {
        "id": "O1WtVX1tr_GO"
      },
      "outputs": [],
      "source": [
        "pubchem_templates = os.getcwd()\n",
        "pubchem_downloader = PubChemDownloader(pubchem_templates)"
      ]
    },
    {
      "cell_type": "code",
      "execution_count": 76,
      "metadata": {
        "colab": {
          "base_uri": "https://localhost:8080/"
        },
        "id": "DswwylfTr_GO",
        "outputId": "30089f4c-3ee3-464e-e986-9428d26aeaae"
      },
      "outputs": [
        {
          "output_type": "stream",
          "name": "stderr",
          "text": [
            "[11:42:11] Warning: molecule is tagged as 2D, but at least one Z coordinate is not zero. Marking the mol as 3D.\n"
          ]
        },
        {
          "output_type": "execute_result",
          "data": {
            "text/plain": [
              "DepictionResult(source=<DepictionSource.Template: 2>, template_name='hem', mol=<rdkit.Chem.rdchem.RWMol object at 0x781a97981e40>, score=0.0)"
            ]
          },
          "metadata": {},
          "execution_count": 76
        }
      ],
      "source": [
        "pubchem_downloader.process_template(hem_component)\n",
        "depictions = DepictionManager(pubchem_templates)\n",
        "depiction_result = hem_component.compute_2d(depictions)\n",
        "depiction_result"
      ]
    },
    {
      "cell_type": "code",
      "execution_count": 77,
      "metadata": {
        "colab": {
          "base_uri": "https://localhost:8080/",
          "height": 167
        },
        "id": "Iyj-d9upr_GO",
        "outputId": "ba765f31-c5ed-465a-b3e0-1f9bc71f43c8"
      },
      "outputs": [
        {
          "output_type": "execute_result",
          "data": {
            "text/plain": [
              "<rdkit.Chem.rdchem.RWMol at 0x781a97981e40>"
            ],
            "image/png": "[encoded data removed]"
          },
          "metadata": {},
          "execution_count": 77
        }
      ],
      "source": [
        "hem_component.mol2D"
      ]
    },
    {
      "cell_type": "code",
      "execution_count": 78,
      "metadata": {
        "id": "mg_3knBhr_GR"
      },
      "outputs": [],
      "source": [
        "hem_component.export_2d_svg(\"hem.svg\", width=400)"
      ]
    },
    {
      "cell_type": "code",
      "execution_count": 79,
      "metadata": {
        "colab": {
          "base_uri": "https://localhost:8080/",
          "height": 421
        },
        "id": "Vul-cY_gr_GR",
        "outputId": "1b4293ad-fe28-4880-a533-6706a9d172e2"
      },
      "outputs": [
        {
          "output_type": "execute_result",
          "data": {
            "text/plain": [
              "<IPython.core.display.SVG object>"
            ],
            "image/svg+xml": "<svg xmlns=\"http://www.w3.org/2000/svg\" xmlns:rdkit=\"http://www.rdkit.org/xml\" xmlns:xlink=\"http://www.w3.org/1999/xlink\" version=\"1.1\" baseProfile=\"full\" xml:space=\"preserve\" width=\"400px\" height=\"400px\" viewBox=\"0 0 400 400\">\n<!-- END OF HEADER -->\n<rect style=\"opacity:1.0;fill:#FFFFFF;stroke:none\" width=\"400.0\" height=\"400.0\" x=\"0.0\" y=\"0.0\"> </rect>\n<path class=\"bond-0 atom-0 atom-4\" d=\"M 133.3,200.2 L 152.0,168.3\" style=\"fill:none;fill-rule:evenodd;stroke:#000000;stroke-width:2.0px;stroke-linecap:butt;stroke-linejoin:miter;stroke-opacity:1\"/>\n<path class=\"bond-1 atom-0 atom-31\" d=\"M 133.3,200.2 L 152.0,232.1\" style=\"fill:none;fill-rule:evenodd;stroke:#000000;stroke-width:2.0px;stroke-linecap:butt;stroke-linejoin:miter;stroke-opacity:1\"/>\n<path class=\"bond-1 atom-0 atom-31\" d=\"M 140.0,200.2 L 155.7,226.9\" style=\"fill:none;fill-rule:evenodd;stroke:#000000;stroke-width:2.0px;stroke-linecap:butt;stroke-linejoin:miter;stroke-opacity:1\"/>\n<path class=\"bond-2 atom-1 atom-7\" d=\"M 226.1,106.4 L 194.2,125.2\" style=\"fill:none;fill-rule:evenodd;stroke:#000000;stroke-width:2.0px;stroke-linecap:butt;stroke-linejoin:miter;stroke-opacity:1\"/>\n<path class=\"bond-3 atom-1 atom-14\" d=\"M 226.1,106.4 L 258.9,125.2\" style=\"fill:none;fill-rule:evenodd;stroke:#000000;stroke-width:2.0px;stroke-linecap:butt;stroke-linejoin:miter;stroke-opacity:1\"/>\n<path class=\"bond-3 atom-1 atom-14\" d=\"M 226.2,113.1 L 253.6,128.8\" style=\"fill:none;fill-rule:evenodd;stroke:#000000;stroke-width:2.0px;stroke-linecap:butt;stroke-linejoin:miter;stroke-opacity:1\"/>\n<path class=\"bond-4 atom-2 atom-17\" d=\"M 319.9,200.2 L 301.1,168.3\" style=\"fill:none;fill-rule:evenodd;stroke:#000000;stroke-width:2.0px;stroke-linecap:butt;stroke-linejoin:miter;stroke-opacity:1\"/>\n<path class=\"bond-5 atom-2 atom-21\" d=\"M 319.9,200.2 L 301.1,232.1\" style=\"fill:none;fill-rule:evenodd;stroke:#000000;stroke-width:2.0px;stroke-linecap:butt;stroke-linejoin:miter;stroke-opacity:1\"/>\n<path class=\"bond-5 atom-2 atom-21\" d=\"M 313.2,200.2 L 297.5,226.9\" style=\"fill:none;fill-rule:evenodd;stroke:#000000;stroke-width:2.0px;stroke-linecap:butt;stroke-linejoin:miter;stroke-opacity:1\"/>\n<path class=\"bond-6 atom-3 atom-24\" d=\"M 226.1,294.0 L 258.9,275.2\" style=\"fill:none;fill-rule:evenodd;stroke:#000000;stroke-width:2.0px;stroke-linecap:butt;stroke-linejoin:miter;stroke-opacity:1\"/>\n<path class=\"bond-6 atom-3 atom-24\" d=\"M 226.2,287.3 L 253.6,271.6\" style=\"fill:none;fill-rule:evenodd;stroke:#000000;stroke-width:2.0px;stroke-linecap:butt;stroke-linejoin:miter;stroke-opacity:1\"/>\n<path class=\"bond-7 atom-3 atom-28\" d=\"M 226.1,294.0 L 194.2,275.2\" style=\"fill:none;fill-rule:evenodd;stroke:#000000;stroke-width:2.0px;stroke-linecap:butt;stroke-linejoin:miter;stroke-opacity:1\"/>\n<path class=\"bond-8 atom-4 atom-5\" d=\"M 152.0,168.3 L 135.2,134.6\" style=\"fill:none;fill-rule:evenodd;stroke:#000000;stroke-width:2.0px;stroke-linecap:butt;stroke-linejoin:miter;stroke-opacity:1\"/>\n<path class=\"bond-8 atom-4 atom-5\" d=\"M 155.3,161.9 L 142.2,135.7\" style=\"fill:none;fill-rule:evenodd;stroke:#000000;stroke-width:2.0px;stroke-linecap:butt;stroke-linejoin:miter;stroke-opacity:1\"/>\n<path class=\"bond-9 atom-4 atom-38\" d=\"M 152.0,168.3 L 167.7,165.5\" style=\"fill:none;fill-rule:evenodd;stroke:#000000;stroke-width:2.0px;stroke-linecap:butt;stroke-linejoin:miter;stroke-opacity:1\"/>\n<path class=\"bond-9 atom-4 atom-38\" d=\"M 167.7,165.5 L 183.4,162.7\" style=\"fill:none;fill-rule:evenodd;stroke:#0000FF;stroke-width:2.0px;stroke-linecap:butt;stroke-linejoin:miter;stroke-opacity:1\"/>\n<path class=\"bond-10 atom-5 atom-6\" d=\"M 135.2,134.6 L 161.4,108.3\" style=\"fill:none;fill-rule:evenodd;stroke:#000000;stroke-width:2.0px;stroke-linecap:butt;stroke-linejoin:miter;stroke-opacity:1\"/>\n<path class=\"bond-11 atom-5 atom-9\" d=\"M 135.2,134.6 L 97.9,128.4\" style=\"fill:none;fill-rule:evenodd;stroke:#000000;stroke-width:2.0px;stroke-linecap:butt;stroke-linejoin:miter;stroke-opacity:1\"/>\n<path class=\"bond-12 atom-6 atom-7\" d=\"M 161.4,108.3 L 194.2,125.2\" style=\"fill:none;fill-rule:evenodd;stroke:#000000;stroke-width:2.0px;stroke-linecap:butt;stroke-linejoin:miter;stroke-opacity:1\"/>\n<path class=\"bond-12 atom-6 atom-7\" d=\"M 162.5,115.4 L 187.9,128.4\" style=\"fill:none;fill-rule:evenodd;stroke:#000000;stroke-width:2.0px;stroke-linecap:butt;stroke-linejoin:miter;stroke-opacity:1\"/>\n<path class=\"bond-13 atom-6 atom-8\" d=\"M 161.4,108.3 L 155.6,71.6\" style=\"fill:none;fill-rule:evenodd;stroke:#000000;stroke-width:2.0px;stroke-linecap:butt;stroke-linejoin:miter;stroke-opacity:1\"/>\n<path class=\"bond-14 atom-7 atom-38\" d=\"M 194.2,125.2 L 191.9,140.2\" style=\"fill:none;fill-rule:evenodd;stroke:#000000;stroke-width:2.0px;stroke-linecap:butt;stroke-linejoin:miter;stroke-opacity:1\"/>\n<path class=\"bond-14 atom-7 atom-38\" d=\"M 191.9,140.2 L 189.6,155.2\" style=\"fill:none;fill-rule:evenodd;stroke:#0000FF;stroke-width:2.0px;stroke-linecap:butt;stroke-linejoin:miter;stroke-opacity:1\"/>\n<path class=\"bond-15 atom-9 atom-10\" d=\"M 97.9,128.4 L 84.9,93.7\" style=\"fill:none;fill-rule:evenodd;stroke:#000000;stroke-width:2.0px;stroke-linecap:butt;stroke-linejoin:miter;stroke-opacity:1\"/>\n<path class=\"bond-16 atom-10 atom-11\" d=\"M 84.9,93.7 L 48.4,87.6\" style=\"fill:none;fill-rule:evenodd;stroke:#000000;stroke-width:2.0px;stroke-linecap:butt;stroke-linejoin:miter;stroke-opacity:1\"/>\n<path class=\"bond-17 atom-11 atom-12\" d=\"M 47.2,84.5 L 37.6,96.2\" style=\"fill:none;fill-rule:evenodd;stroke:#000000;stroke-width:2.0px;stroke-linecap:butt;stroke-linejoin:miter;stroke-opacity:1\"/>\n<path class=\"bond-17 atom-11 atom-12\" d=\"M 37.6,96.2 L 28.0,107.8\" style=\"fill:none;fill-rule:evenodd;stroke:#FF0000;stroke-width:2.0px;stroke-linecap:butt;stroke-linejoin:miter;stroke-opacity:1\"/>\n<path class=\"bond-17 atom-11 atom-12\" d=\"M 51.6,88.2 L 42.1,99.8\" style=\"fill:none;fill-rule:evenodd;stroke:#000000;stroke-width:2.0px;stroke-linecap:butt;stroke-linejoin:miter;stroke-opacity:1\"/>\n<path class=\"bond-17 atom-11 atom-12\" d=\"M 42.1,99.8 L 32.5,111.5\" style=\"fill:none;fill-rule:evenodd;stroke:#FF0000;stroke-width:2.0px;stroke-linecap:butt;stroke-linejoin:miter;stroke-opacity:1\"/>\n<path class=\"bond-18 atom-11 atom-13\" d=\"M 48.4,87.6 L 43.1,73.7\" style=\"fill:none;fill-rule:evenodd;stroke:#000000;stroke-width:2.0px;stroke-linecap:butt;stroke-linejoin:miter;stroke-opacity:1\"/>\n<path class=\"bond-18 atom-11 atom-13\" d=\"M 43.1,73.7 L 37.9,59.7\" style=\"fill:none;fill-rule:evenodd;stroke:#FF0000;stroke-width:2.0px;stroke-linecap:butt;stroke-linejoin:miter;stroke-opacity:1\"/>\n<path class=\"bond-19 atom-14 atom-15\" d=\"M 258.9,125.2 L 291.8,108.3\" style=\"fill:none;fill-rule:evenodd;stroke:#000000;stroke-width:2.0px;stroke-linecap:butt;stroke-linejoin:miter;stroke-opacity:1\"/>\n<path class=\"bond-20 atom-14 atom-39\" d=\"M 258.9,125.2 L 261.3,140.2\" style=\"fill:none;fill-rule:evenodd;stroke:#000000;stroke-width:2.0px;stroke-linecap:butt;stroke-linejoin:miter;stroke-opacity:1\"/>\n<path class=\"bond-20 atom-14 atom-39\" d=\"M 261.3,140.2 L 263.6,155.2\" style=\"fill:none;fill-rule:evenodd;stroke:#0000FF;stroke-width:2.0px;stroke-linecap:butt;stroke-linejoin:miter;stroke-opacity:1\"/>\n<path class=\"bond-21 atom-15 atom-16\" d=\"M 291.8,108.3 L 319.0,134.6\" style=\"fill:none;fill-rule:evenodd;stroke:#000000;stroke-width:2.0px;stroke-linecap:butt;stroke-linejoin:miter;stroke-opacity:1\"/>\n<path class=\"bond-21 atom-15 atom-16\" d=\"M 290.7,115.4 L 311.8,135.7\" style=\"fill:none;fill-rule:evenodd;stroke:#000000;stroke-width:2.0px;stroke-linecap:butt;stroke-linejoin:miter;stroke-opacity:1\"/>\n<path class=\"bond-22 atom-15 atom-18\" d=\"M 291.8,108.3 L 297.4,71.8\" style=\"fill:none;fill-rule:evenodd;stroke:#000000;stroke-width:2.0px;stroke-linecap:butt;stroke-linejoin:miter;stroke-opacity:1\"/>\n<path class=\"bond-23 atom-16 atom-17\" d=\"M 319.0,134.6 L 301.1,168.3\" style=\"fill:none;fill-rule:evenodd;stroke:#000000;stroke-width:2.0px;stroke-linecap:butt;stroke-linejoin:miter;stroke-opacity:1\"/>\n<path class=\"bond-24 atom-16 atom-19\" d=\"M 319.0,134.6 L 356.2,128.0\" style=\"fill:none;fill-rule:evenodd;stroke:#000000;stroke-width:2.0px;stroke-linecap:butt;stroke-linejoin:miter;stroke-opacity:1\"/>\n<path class=\"bond-25 atom-17 atom-39\" d=\"M 301.1,168.3 L 285.5,165.5\" style=\"fill:none;fill-rule:evenodd;stroke:#000000;stroke-width:2.0px;stroke-linecap:butt;stroke-linejoin:miter;stroke-opacity:1\"/>\n<path class=\"bond-25 atom-17 atom-39\" d=\"M 285.5,165.5 L 269.8,162.7\" style=\"fill:none;fill-rule:evenodd;stroke:#0000FF;stroke-width:2.0px;stroke-linecap:butt;stroke-linejoin:miter;stroke-opacity:1\"/>\n<path class=\"bond-25 atom-17 atom-39\" d=\"M 298.0,161.9 L 284.4,159.5\" style=\"fill:none;fill-rule:evenodd;stroke:#000000;stroke-width:2.0px;stroke-linecap:butt;stroke-linejoin:miter;stroke-opacity:1\"/>\n<path class=\"bond-25 atom-17 atom-39\" d=\"M 284.4,159.5 L 270.8,157.0\" style=\"fill:none;fill-rule:evenodd;stroke:#0000FF;stroke-width:2.0px;stroke-linecap:butt;stroke-linejoin:miter;stroke-opacity:1\"/>\n<path class=\"bond-26 atom-19 atom-20\" d=\"M 356.2,128.0 L 380.0,156.4\" style=\"fill:none;fill-rule:evenodd;stroke:#000000;stroke-width:2.0px;stroke-linecap:butt;stroke-linejoin:miter;stroke-opacity:1\"/>\n<path class=\"bond-26 atom-19 atom-20\" d=\"M 353.9,134.3 L 375.6,160.1\" style=\"fill:none;fill-rule:evenodd;stroke:#000000;stroke-width:2.0px;stroke-linecap:butt;stroke-linejoin:miter;stroke-opacity:1\"/>\n<path class=\"bond-27 atom-21 atom-22\" d=\"M 301.1,232.1 L 319.0,265.9\" style=\"fill:none;fill-rule:evenodd;stroke:#000000;stroke-width:2.0px;stroke-linecap:butt;stroke-linejoin:miter;stroke-opacity:1\"/>\n<path class=\"bond-28 atom-21 atom-40\" d=\"M 301.1,232.1 L 285.5,234.9\" style=\"fill:none;fill-rule:evenodd;stroke:#000000;stroke-width:2.0px;stroke-linecap:butt;stroke-linejoin:miter;stroke-opacity:1\"/>\n<path class=\"bond-28 atom-21 atom-40\" d=\"M 285.5,234.9 L 269.8,237.7\" style=\"fill:none;fill-rule:evenodd;stroke:#0000FF;stroke-width:2.0px;stroke-linecap:butt;stroke-linejoin:miter;stroke-opacity:1\"/>\n<path class=\"bond-29 atom-22 atom-23\" d=\"M 319.0,265.9 L 291.8,292.1\" style=\"fill:none;fill-rule:evenodd;stroke:#000000;stroke-width:2.0px;stroke-linecap:butt;stroke-linejoin:miter;stroke-opacity:1\"/>\n<path class=\"bond-29 atom-22 atom-23\" d=\"M 311.8,264.7 L 290.7,285.1\" style=\"fill:none;fill-rule:evenodd;stroke:#000000;stroke-width:2.0px;stroke-linecap:butt;stroke-linejoin:miter;stroke-opacity:1\"/>\n<path class=\"bond-30 atom-22 atom-25\" d=\"M 319.0,265.9 L 356.7,271.3\" style=\"fill:none;fill-rule:evenodd;stroke:#000000;stroke-width:2.0px;stroke-linecap:butt;stroke-linejoin:miter;stroke-opacity:1\"/>\n<path class=\"bond-31 atom-23 atom-24\" d=\"M 291.8,292.1 L 258.9,275.2\" style=\"fill:none;fill-rule:evenodd;stroke:#000000;stroke-width:2.0px;stroke-linecap:butt;stroke-linejoin:miter;stroke-opacity:1\"/>\n<path class=\"bond-32 atom-23 atom-26\" d=\"M 291.8,292.1 L 297.0,329.6\" style=\"fill:none;fill-rule:evenodd;stroke:#000000;stroke-width:2.0px;stroke-linecap:butt;stroke-linejoin:miter;stroke-opacity:1\"/>\n<path class=\"bond-33 atom-24 atom-40\" d=\"M 258.9,275.2 L 261.3,260.2\" style=\"fill:none;fill-rule:evenodd;stroke:#000000;stroke-width:2.0px;stroke-linecap:butt;stroke-linejoin:miter;stroke-opacity:1\"/>\n<path class=\"bond-33 atom-24 atom-40\" d=\"M 261.3,260.2 L 263.6,245.2\" style=\"fill:none;fill-rule:evenodd;stroke:#0000FF;stroke-width:2.0px;stroke-linecap:butt;stroke-linejoin:miter;stroke-opacity:1\"/>\n<path class=\"bond-34 atom-26 atom-27\" d=\"M 297.0,329.6 L 267.8,352.4\" style=\"fill:none;fill-rule:evenodd;stroke:#000000;stroke-width:2.0px;stroke-linecap:butt;stroke-linejoin:miter;stroke-opacity:1\"/>\n<path class=\"bond-34 atom-26 atom-27\" d=\"M 290.8,327.0 L 264.3,347.8\" style=\"fill:none;fill-rule:evenodd;stroke:#000000;stroke-width:2.0px;stroke-linecap:butt;stroke-linejoin:miter;stroke-opacity:1\"/>\n<path class=\"bond-35 atom-28 atom-29\" d=\"M 194.2,275.2 L 161.4,292.1\" style=\"fill:none;fill-rule:evenodd;stroke:#000000;stroke-width:2.0px;stroke-linecap:butt;stroke-linejoin:miter;stroke-opacity:1\"/>\n<path class=\"bond-36 atom-28 atom-41\" d=\"M 194.2,275.2 L 191.9,260.2\" style=\"fill:none;fill-rule:evenodd;stroke:#000000;stroke-width:2.0px;stroke-linecap:butt;stroke-linejoin:miter;stroke-opacity:1\"/>\n<path class=\"bond-36 atom-28 atom-41\" d=\"M 191.9,260.2 L 189.6,245.2\" style=\"fill:none;fill-rule:evenodd;stroke:#0000FF;stroke-width:2.0px;stroke-linecap:butt;stroke-linejoin:miter;stroke-opacity:1\"/>\n<path class=\"bond-36 atom-28 atom-41\" d=\"M 187.9,272.0 L 185.9,259.0\" style=\"fill:none;fill-rule:evenodd;stroke:#000000;stroke-width:2.0px;stroke-linecap:butt;stroke-linejoin:miter;stroke-opacity:1\"/>\n<path class=\"bond-36 atom-28 atom-41\" d=\"M 185.9,259.0 L 183.9,246.1\" style=\"fill:none;fill-rule:evenodd;stroke:#0000FF;stroke-width:2.0px;stroke-linecap:butt;stroke-linejoin:miter;stroke-opacity:1\"/>\n<path class=\"bond-37 atom-29 atom-30\" d=\"M 161.4,292.1 L 135.2,265.9\" style=\"fill:none;fill-rule:evenodd;stroke:#000000;stroke-width:2.0px;stroke-linecap:butt;stroke-linejoin:miter;stroke-opacity:1\"/>\n<path class=\"bond-37 atom-29 atom-30\" d=\"M 162.5,285.0 L 142.2,264.7\" style=\"fill:none;fill-rule:evenodd;stroke:#000000;stroke-width:2.0px;stroke-linecap:butt;stroke-linejoin:miter;stroke-opacity:1\"/>\n<path class=\"bond-38 atom-29 atom-32\" d=\"M 161.4,292.1 L 155.8,328.6\" style=\"fill:none;fill-rule:evenodd;stroke:#000000;stroke-width:2.0px;stroke-linecap:butt;stroke-linejoin:miter;stroke-opacity:1\"/>\n<path class=\"bond-39 atom-30 atom-31\" d=\"M 135.2,265.9 L 152.0,232.1\" style=\"fill:none;fill-rule:evenodd;stroke:#000000;stroke-width:2.0px;stroke-linecap:butt;stroke-linejoin:miter;stroke-opacity:1\"/>\n<path class=\"bond-40 atom-30 atom-33\" d=\"M 135.2,265.9 L 98.5,271.7\" style=\"fill:none;fill-rule:evenodd;stroke:#000000;stroke-width:2.0px;stroke-linecap:butt;stroke-linejoin:miter;stroke-opacity:1\"/>\n<path class=\"bond-41 atom-31 atom-41\" d=\"M 152.0,232.1 L 167.7,234.9\" style=\"fill:none;fill-rule:evenodd;stroke:#000000;stroke-width:2.0px;stroke-linecap:butt;stroke-linejoin:miter;stroke-opacity:1\"/>\n<path class=\"bond-41 atom-31 atom-41\" d=\"M 167.7,234.9 L 183.4,237.7\" style=\"fill:none;fill-rule:evenodd;stroke:#0000FF;stroke-width:2.0px;stroke-linecap:butt;stroke-linejoin:miter;stroke-opacity:1\"/>\n<path class=\"bond-42 atom-33 atom-34\" d=\"M 98.5,271.7 L 85.2,306.3\" style=\"fill:none;fill-rule:evenodd;stroke:#000000;stroke-width:2.0px;stroke-linecap:butt;stroke-linejoin:miter;stroke-opacity:1\"/>\n<path class=\"bond-43 atom-34 atom-35\" d=\"M 85.2,306.3 L 48.6,312.1\" style=\"fill:none;fill-rule:evenodd;stroke:#000000;stroke-width:2.0px;stroke-linecap:butt;stroke-linejoin:miter;stroke-opacity:1\"/>\n<path class=\"bond-44 atom-35 atom-36\" d=\"M 51.9,311.5 L 42.4,299.9\" style=\"fill:none;fill-rule:evenodd;stroke:#000000;stroke-width:2.0px;stroke-linecap:butt;stroke-linejoin:miter;stroke-opacity:1\"/>\n<path class=\"bond-44 atom-35 atom-36\" d=\"M 42.4,299.9 L 33.0,288.2\" style=\"fill:none;fill-rule:evenodd;stroke:#FF0000;stroke-width:2.0px;stroke-linecap:butt;stroke-linejoin:miter;stroke-opacity:1\"/>\n<path class=\"bond-44 atom-35 atom-36\" d=\"M 47.4,315.2 L 37.9,303.5\" style=\"fill:none;fill-rule:evenodd;stroke:#000000;stroke-width:2.0px;stroke-linecap:butt;stroke-linejoin:miter;stroke-opacity:1\"/>\n<path class=\"bond-44 atom-35 atom-36\" d=\"M 37.9,303.5 L 28.5,291.8\" style=\"fill:none;fill-rule:evenodd;stroke:#FF0000;stroke-width:2.0px;stroke-linecap:butt;stroke-linejoin:miter;stroke-opacity:1\"/>\n<path class=\"bond-45 atom-35 atom-37\" d=\"M 48.6,312.1 L 43.2,326.1\" style=\"fill:none;fill-rule:evenodd;stroke:#000000;stroke-width:2.0px;stroke-linecap:butt;stroke-linejoin:miter;stroke-opacity:1\"/>\n<path class=\"bond-45 atom-35 atom-37\" d=\"M 43.2,326.1 L 37.8,340.1\" style=\"fill:none;fill-rule:evenodd;stroke:#FF0000;stroke-width:2.0px;stroke-linecap:butt;stroke-linejoin:miter;stroke-opacity:1\"/>\n<path class=\"bond-46 atom-42 atom-38\" d=\"M 219.8,193.7 L 206.8,180.4\" style=\"fill:none;fill-rule:evenodd;stroke:#000000;stroke-width:2.0px;stroke-linecap:butt;stroke-linejoin:miter;stroke-opacity:1\"/>\n<path class=\"bond-46 atom-42 atom-38\" d=\"M 206.8,180.4 L 193.9,167.2\" style=\"fill:none;fill-rule:evenodd;stroke:#0000FF;stroke-width:2.0px;stroke-linecap:butt;stroke-linejoin:miter;stroke-opacity:1\"/>\n<path class=\"bond-47 atom-39 atom-42\" d=\"M 259.3,167.0 L 244.6,181.7\" style=\"fill:none;fill-rule:evenodd;stroke:#0000FF;stroke-width:2.0px;stroke-linecap:butt;stroke-linejoin:miter;stroke-opacity:1;stroke-dasharray:1,1.33333\"/>\n<path class=\"bond-47 atom-39 atom-42\" d=\"M 244.6,181.7 L 229.9,196.4\" style=\"fill:none;fill-rule:evenodd;stroke:#000000;stroke-width:2.0px;stroke-linecap:butt;stroke-linejoin:miter;stroke-opacity:1;stroke-dasharray:1,1.33333\"/>\n<path class=\"bond-48 atom-42 atom-40\" d=\"M 230.8,204.9 L 245.0,219.1\" style=\"fill:none;fill-rule:evenodd;stroke:#000000;stroke-width:2.0px;stroke-linecap:butt;stroke-linejoin:miter;stroke-opacity:1\"/>\n<path class=\"bond-48 atom-42 atom-40\" d=\"M 245.0,219.1 L 259.3,233.4\" style=\"fill:none;fill-rule:evenodd;stroke:#0000FF;stroke-width:2.0px;stroke-linecap:butt;stroke-linejoin:miter;stroke-opacity:1\"/>\n<path class=\"bond-49 atom-41 atom-42\" d=\"M 193.9,233.3 L 206.8,220.0\" style=\"fill:none;fill-rule:evenodd;stroke:#0000FF;stroke-width:2.0px;stroke-linecap:butt;stroke-linejoin:miter;stroke-opacity:1;stroke-dasharray:1,1.33333\"/>\n<path class=\"bond-49 atom-41 atom-42\" d=\"M 206.8,220.0 L 219.8,206.7\" style=\"fill:none;fill-rule:evenodd;stroke:#000000;stroke-width:2.0px;stroke-linecap:butt;stroke-linejoin:miter;stroke-opacity:1;stroke-dasharray:1,1.33333\"/>\n<path d=\"M 134.2,198.6 L 133.3,200.2 L 134.2,201.8\" style=\"fill:none;stroke:#000000;stroke-width:2.0px;stroke-linecap:butt;stroke-linejoin:miter;stroke-opacity:1;\"/>\n<path d=\"M 224.5,107.4 L 226.1,106.4 L 227.8,107.4\" style=\"fill:none;stroke:#000000;stroke-width:2.0px;stroke-linecap:butt;stroke-linejoin:miter;stroke-opacity:1;\"/>\n<path d=\"M 319.0,198.6 L 319.9,200.2 L 319.0,201.8\" style=\"fill:none;stroke:#000000;stroke-width:2.0px;stroke-linecap:butt;stroke-linejoin:miter;stroke-opacity:1;\"/>\n<path d=\"M 227.8,293.1 L 226.1,294.0 L 224.5,293.1\" style=\"fill:none;stroke:#000000;stroke-width:2.0px;stroke-linecap:butt;stroke-linejoin:miter;stroke-opacity:1;\"/>\n<path d=\"M 99.8,128.7 L 97.9,128.4 L 97.3,126.7\" style=\"fill:none;stroke:#000000;stroke-width:2.0px;stroke-linecap:butt;stroke-linejoin:miter;stroke-opacity:1;\"/>\n<path d=\"M 85.6,95.4 L 84.9,93.7 L 83.1,93.4\" style=\"fill:none;stroke:#000000;stroke-width:2.0px;stroke-linecap:butt;stroke-linejoin:miter;stroke-opacity:1;\"/>\n<path d=\"M 50.2,87.9 L 48.4,87.6 L 48.1,86.9\" style=\"fill:none;stroke:#000000;stroke-width:2.0px;stroke-linecap:butt;stroke-linejoin:miter;stroke-opacity:1;\"/>\n<path d=\"M 354.3,128.3 L 356.2,128.0 L 357.4,129.4\" style=\"fill:none;stroke:#000000;stroke-width:2.0px;stroke-linecap:butt;stroke-linejoin:miter;stroke-opacity:1;\"/>\n<path d=\"M 296.8,327.7 L 297.0,329.6 L 295.6,330.7\" style=\"fill:none;stroke:#000000;stroke-width:2.0px;stroke-linecap:butt;stroke-linejoin:miter;stroke-opacity:1;\"/>\n<path d=\"M 100.3,271.4 L 98.5,271.7 L 97.8,273.4\" style=\"fill:none;stroke:#000000;stroke-width:2.0px;stroke-linecap:butt;stroke-linejoin:miter;stroke-opacity:1;\"/>\n<path d=\"M 85.9,304.5 L 85.2,306.3 L 83.4,306.5\" style=\"fill:none;stroke:#000000;stroke-width:2.0px;stroke-linecap:butt;stroke-linejoin:miter;stroke-opacity:1;\"/>\n<path d=\"M 50.4,311.8 L 48.6,312.1 L 48.3,312.8\" style=\"fill:none;stroke:#000000;stroke-width:2.0px;stroke-linecap:butt;stroke-linejoin:miter;stroke-opacity:1;\"/>\n<path class=\"atom-12\" d=\"M 20.0 116.3 Q 20.0 113.8, 21.2 112.4 Q 22.5 110.9, 24.8 110.9 Q 27.1 110.9, 28.4 112.4 Q 29.6 113.8, 29.6 116.3 Q 29.6 118.8, 28.4 120.3 Q 27.1 121.7, 24.8 121.7 Q 22.5 121.7, 21.2 120.3 Q 20.0 118.8, 20.0 116.3 M 24.8 120.5 Q 26.4 120.5, 27.3 119.5 Q 28.2 118.4, 28.2 116.3 Q 28.2 114.2, 27.3 113.2 Q 26.4 112.1, 24.8 112.1 Q 23.2 112.1, 22.3 113.2 Q 21.5 114.2, 21.5 116.3 Q 21.5 118.4, 22.3 119.5 Q 23.2 120.5, 24.8 120.5 \" fill=\"#FF0000\"/>\n<path class=\"atom-13\" d=\"M 20.2 47.8 L 21.6 47.8 L 21.6 52.2 L 26.9 52.2 L 26.9 47.8 L 28.4 47.8 L 28.4 58.2 L 26.9 58.2 L 26.9 53.4 L 21.6 53.4 L 21.6 58.2 L 20.2 58.2 L 20.2 47.8 \" fill=\"#FF0000\"/>\n<path class=\"atom-13\" d=\"M 30.5 53.0 Q 30.5 50.4, 31.8 49.0 Q 33.0 47.6, 35.3 47.6 Q 37.7 47.6, 38.9 49.0 Q 40.2 50.4, 40.2 53.0 Q 40.2 55.5, 38.9 57.0 Q 37.6 58.4, 35.3 58.4 Q 33.0 58.4, 31.8 57.0 Q 30.5 55.5, 30.5 53.0 M 35.3 57.2 Q 36.9 57.2, 37.8 56.2 Q 38.7 55.1, 38.7 53.0 Q 38.7 50.9, 37.8 49.9 Q 36.9 48.8, 35.3 48.8 Q 33.7 48.8, 32.9 49.9 Q 32.0 50.9, 32.0 53.0 Q 32.0 55.1, 32.9 56.2 Q 33.7 57.2, 35.3 57.2 \" fill=\"#FF0000\"/>\n<path class=\"atom-36\" d=\"M 20.5 283.3 Q 20.5 280.8, 21.7 279.4 Q 23.0 277.9, 25.3 277.9 Q 27.6 277.9, 28.9 279.4 Q 30.1 280.8, 30.1 283.3 Q 30.1 285.8, 28.8 287.3 Q 27.6 288.7, 25.3 288.7 Q 23.0 288.7, 21.7 287.3 Q 20.5 285.8, 20.5 283.3 M 25.3 287.5 Q 26.9 287.5, 27.7 286.5 Q 28.6 285.4, 28.6 283.3 Q 28.6 281.2, 27.7 280.2 Q 26.9 279.1, 25.3 279.1 Q 23.7 279.1, 22.8 280.2 Q 21.9 281.2, 21.9 283.3 Q 21.9 285.4, 22.8 286.5 Q 23.7 287.5, 25.3 287.5 \" fill=\"#FF0000\"/>\n<path class=\"atom-37\" d=\"M 20.1 341.5 L 21.6 341.5 L 21.6 345.9 L 26.9 345.9 L 26.9 341.5 L 28.3 341.5 L 28.3 351.9 L 26.9 351.9 L 26.9 347.1 L 21.6 347.1 L 21.6 351.9 L 20.1 351.9 L 20.1 341.5 \" fill=\"#FF0000\"/>\n<path class=\"atom-37\" d=\"M 30.5 346.7 Q 30.5 344.2, 31.7 342.7 Q 33.0 341.3, 35.3 341.3 Q 37.6 341.3, 38.9 342.7 Q 40.1 344.2, 40.1 346.7 Q 40.1 349.2, 38.9 350.7 Q 37.6 352.1, 35.3 352.1 Q 33.0 352.1, 31.7 350.7 Q 30.5 349.2, 30.5 346.7 M 35.3 350.9 Q 36.9 350.9, 37.8 349.9 Q 38.7 348.8, 38.7 346.7 Q 38.7 344.6, 37.8 343.6 Q 36.9 342.5, 35.3 342.5 Q 33.7 342.5, 32.8 343.6 Q 32.0 344.6, 32.0 346.7 Q 32.0 348.8, 32.8 349.9 Q 33.7 350.9, 35.3 350.9 \" fill=\"#FF0000\"/>\n<path class=\"atom-38\" d=\"M 186.3 156.5 L 189.7 162.1 Q 190.1 162.6, 190.6 163.6 Q 191.2 164.6, 191.2 164.7 L 191.2 156.5 L 192.6 156.5 L 192.6 167.0 L 191.1 167.0 L 187.5 160.9 Q 187.0 160.2, 186.6 159.4 Q 186.1 158.6, 186.0 158.3 L 186.0 167.0 L 184.6 167.0 L 184.6 156.5 L 186.3 156.5 \" fill=\"#0000FF\"/>\n<path class=\"atom-39\" d=\"M 262.2 156.5 L 265.7 162.1 Q 266.0 162.6, 266.6 163.6 Q 267.1 164.6, 267.2 164.7 L 267.2 156.5 L 268.5 156.5 L 268.5 167.0 L 267.1 167.0 L 263.4 160.9 Q 263.0 160.2, 262.5 159.4 Q 262.1 158.6, 261.9 158.3 L 261.9 167.0 L 260.6 167.0 L 260.6 156.5 L 262.2 156.5 \" fill=\"#0000FF\"/>\n<path class=\"atom-40\" d=\"M 262.2 233.4 L 265.7 239.0 Q 266.0 239.5, 266.6 240.5 Q 267.1 241.5, 267.2 241.6 L 267.2 233.4 L 268.5 233.4 L 268.5 243.9 L 267.1 243.9 L 263.4 237.8 Q 263.0 237.1, 262.5 236.3 Q 262.1 235.5, 261.9 235.2 L 261.9 243.9 L 260.6 243.9 L 260.6 233.4 L 262.2 233.4 \" fill=\"#0000FF\"/>\n<path class=\"atom-41\" d=\"M 186.3 233.4 L 189.7 239.0 Q 190.1 239.5, 190.6 240.5 Q 191.2 241.5, 191.2 241.6 L 191.2 233.4 L 192.6 233.4 L 192.6 243.9 L 191.1 243.9 L 187.5 237.8 Q 187.0 237.1, 186.6 236.3 Q 186.1 235.5, 186.0 235.2 L 186.0 243.9 L 184.6 243.9 L 184.6 233.4 L 186.3 233.4 \" fill=\"#0000FF\"/>\n<path class=\"atom-42\" d=\"M 215.5 195.0 L 221.8 195.0 L 221.8 196.2 L 216.9 196.2 L 216.9 199.4 L 221.2 199.4 L 221.2 200.6 L 216.9 200.6 L 216.9 205.5 L 215.5 205.5 L 215.5 195.0 \" fill=\"#000000\"/>\n<path class=\"atom-42\" d=\"M 222.7 201.6 Q 222.7 199.8, 223.7 198.8 Q 224.6 197.7, 226.3 197.7 Q 228.0 197.7, 228.7 198.7 Q 229.5 199.7, 229.5 201.6 L 229.5 201.8 L 224.2 201.8 Q 224.2 203.1, 224.8 203.8 Q 225.4 204.5, 226.4 204.5 Q 227.0 204.5, 227.6 204.4 Q 228.1 204.2, 228.8 203.9 L 229.2 204.9 Q 228.4 205.2, 227.8 205.4 Q 227.1 205.6, 226.4 205.6 Q 224.6 205.6, 223.7 204.5 Q 222.7 203.5, 222.7 201.6 M 226.3 198.8 Q 225.4 198.8, 224.9 199.3 Q 224.4 199.8, 224.2 200.8 L 228.0 200.8 Q 227.9 199.8, 227.5 199.3 Q 227.1 198.8, 226.3 198.8 \" fill=\"#000000\"/>\n</svg>"
          },
          "metadata": {},
          "execution_count": 79
        }
      ],
      "source": [
        "SVG(\"hem.svg\")"
      ]
    },
    {
      "cell_type": "markdown",
      "metadata": {
        "id": "4FyFem25r_GS"
      },
      "source": [
        "##&nbsp; 1.6.1 Highlighting substructures"
      ]
    },
    {
      "cell_type": "markdown",
      "metadata": {
        "id": "19cwH1rsr_GS"
      },
      "source": [
        "Atoms and bonds of substructures (fragments and scaffolds) can be highligted on the 2D depiction of small molecules using *export_2d_svg* method of Component object. The atoms to highlight can be passed as a dictionary with atom names as keys and the color as values. Similarly the bonds to highlight can be passed as a dictionary of atom names of bonds as a tuple and colors as values.\n",
        "The below example shows how to highlight the Murcko scaffold of **HEM**."
      ]
    },
    {
      "cell_type": "code",
      "execution_count": 80,
      "metadata": {
        "id": "wV_TOmaqr_GS"
      },
      "outputs": [],
      "source": [
        "atom_color = (0.5, 0.5, 0.5, 0.4)\n",
        "bond_color = (0.5, 0.5, 0.5, 0.8)\n",
        "hem_murcko_scaffold = murcko_scaffolds[0]\n",
        "athighlights = {atom.GetProp(\"name\"):atom_color for atom in hem_murcko_scaffold.GetAtoms()}\n",
        "bndhighlights = {(bond.GetBeginAtom().GetProp(\"name\"), bond.GetEndAtom().GetProp(\"name\")): bond_color for bond in hem_murcko_scaffold.GetBonds()}\n",
        "hem_component.export_2d_svg(\"hem_scaffold.svg\", atom_highlight=athighlights, bond_highlight=bndhighlights, width=400)"
      ]
    },
    {
      "cell_type": "code",
      "execution_count": 81,
      "metadata": {
        "colab": {
          "base_uri": "https://localhost:8080/",
          "height": 421
        },
        "id": "BTO0_lz1r_GS",
        "outputId": "588b7c60-a211-4c59-d761-968504cb93ad"
      },
      "outputs": [
        {
          "output_type": "execute_result",
          "data": {
            "text/plain": [
              "<IPython.core.display.SVG object>"
            ],
            "image/svg+xml": "<svg xmlns=\"http://www.w3.org/2000/svg\" xmlns:rdkit=\"http://www.rdkit.org/xml\" xmlns:xlink=\"http://www.w3.org/1999/xlink\" version=\"1.1\" baseProfile=\"full\" xml:space=\"preserve\" width=\"400px\" height=\"400px\" viewBox=\"0 0 400 400\">\n<!-- END OF HEADER -->\n<rect style=\"opacity:1.0;fill:#FFFFFF;stroke:none\" width=\"400.0\" height=\"400.0\" x=\"0.0\" y=\"0.0\"> </rect>\n<path class=\"bond-0 atom-0 atom-4\" d=\"M 147.5,168.2 L 152.0,168.3 L 154.5,171.9 L 137.9,200.2 L 128.7,200.2 Z\" style=\"fill:#7F7F7FCC;fill-rule:evenodd;fill-opacity:0.8;stroke:#7F7F7FCC;stroke-width:0.0px;stroke-linecap:butt;stroke-linejoin:miter;stroke-opacity:0.8;\"/>\n<path class=\"bond-1 atom-0 atom-31\" d=\"M 137.9,200.2 L 154.5,228.5 L 152.0,232.1 L 147.5,232.3 L 128.7,200.2 Z\" style=\"fill:#7F7F7FCC;fill-rule:evenodd;fill-opacity:0.8;stroke:#7F7F7FCC;stroke-width:0.0px;stroke-linecap:butt;stroke-linejoin:miter;stroke-opacity:0.8;\"/>\n<path class=\"bond-2 atom-1 atom-7\" d=\"M 226.1,101.9 L 226.1,111.0 L 197.9,127.7 L 194.2,125.2 L 194.1,120.7 Z\" style=\"fill:#7F7F7FCC;fill-rule:evenodd;fill-opacity:0.8;stroke:#7F7F7FCC;stroke-width:0.0px;stroke-linecap:butt;stroke-linejoin:miter;stroke-opacity:0.8;\"/>\n<path class=\"bond-3 atom-1 atom-14\" d=\"M 226.1,101.9 L 259.0,120.7 L 258.9,125.2 L 255.3,127.7 L 226.1,111.0 Z\" style=\"fill:#7F7F7FCC;fill-rule:evenodd;fill-opacity:0.8;stroke:#7F7F7FCC;stroke-width:0.0px;stroke-linecap:butt;stroke-linejoin:miter;stroke-opacity:0.8;\"/>\n<path class=\"bond-4 atom-2 atom-17\" d=\"M 305.7,168.2 L 324.5,200.2 L 315.3,200.2 L 298.7,171.9 L 301.1,168.3 Z\" style=\"fill:#7F7F7FCC;fill-rule:evenodd;fill-opacity:0.8;stroke:#7F7F7FCC;stroke-width:0.0px;stroke-linecap:butt;stroke-linejoin:miter;stroke-opacity:0.8;\"/>\n<path class=\"bond-5 atom-2 atom-21\" d=\"M 324.5,200.2 L 305.7,232.2 L 301.1,232.1 L 298.7,228.5 L 315.3,200.2 Z\" style=\"fill:#7F7F7FCC;fill-rule:evenodd;fill-opacity:0.8;stroke:#7F7F7FCC;stroke-width:0.0px;stroke-linecap:butt;stroke-linejoin:miter;stroke-opacity:0.8;\"/>\n<path class=\"bond-6 atom-3 atom-24\" d=\"M 255.3,272.8 L 258.9,275.2 L 259.0,279.7 L 226.1,298.6 L 226.1,289.4 Z\" style=\"fill:#7F7F7FCC;fill-rule:evenodd;fill-opacity:0.8;stroke:#7F7F7FCC;stroke-width:0.0px;stroke-linecap:butt;stroke-linejoin:miter;stroke-opacity:0.8;\"/>\n<path class=\"bond-7 atom-3 atom-28\" d=\"M 197.9,272.8 L 226.1,289.4 L 226.1,298.6 L 194.1,279.8 L 194.2,275.2 Z\" style=\"fill:#7F7F7FCC;fill-rule:evenodd;fill-opacity:0.8;stroke:#7F7F7FCC;stroke-width:0.0px;stroke-linecap:butt;stroke-linejoin:miter;stroke-opacity:0.8;\"/>\n<path class=\"bond-8 atom-4 atom-5\" d=\"M 130.3,133.8 L 140.0,135.4 L 154.2,163.9 L 152.0,168.3 L 147.5,168.2 Z\" style=\"fill:#7F7F7FCC;fill-rule:evenodd;fill-opacity:0.8;stroke:#7F7F7FCC;stroke-width:0.0px;stroke-linecap:butt;stroke-linejoin:miter;stroke-opacity:0.8;\"/>\n<path class=\"bond-9 atom-4 atom-38\" d=\"M 185.1,158.4 L 188.6,161.8 L 187.2,166.0 L 154.5,171.9 L 152.0,168.3 L 154.2,163.9 Z\" style=\"fill:#7F7F7FCC;fill-rule:evenodd;fill-opacity:0.8;stroke:#7F7F7FCC;stroke-width:0.0px;stroke-linecap:butt;stroke-linejoin:miter;stroke-opacity:0.8;\"/>\n<path class=\"bond-10 atom-5 atom-6\" d=\"M 160.7,103.5 L 162.2,113.2 L 140.0,135.4 L 130.3,133.8 Z\" style=\"fill:#7F7F7FCC;fill-rule:evenodd;fill-opacity:0.8;stroke:#7F7F7FCC;stroke-width:0.0px;stroke-linecap:butt;stroke-linejoin:miter;stroke-opacity:0.8;\"/>\n<path class=\"bond-12 atom-6 atom-7\" d=\"M 160.7,103.5 L 194.1,120.7 L 194.2,125.2 L 189.9,127.4 L 162.2,113.2 Z\" style=\"fill:#7F7F7FCC;fill-rule:evenodd;fill-opacity:0.8;stroke:#7F7F7FCC;stroke-width:0.0px;stroke-linecap:butt;stroke-linejoin:miter;stroke-opacity:0.8;\"/>\n<path class=\"bond-14 atom-7 atom-38\" d=\"M 194.2,125.2 L 197.9,127.7 L 192.8,160.4 L 188.6,161.8 L 185.1,158.4 L 189.9,127.4 Z\" style=\"fill:#7F7F7FCC;fill-rule:evenodd;fill-opacity:0.8;stroke:#7F7F7FCC;stroke-width:0.0px;stroke-linecap:butt;stroke-linejoin:miter;stroke-opacity:0.8;\"/>\n<path class=\"bond-19 atom-14 atom-15\" d=\"M 292.5,103.5 L 291.1,113.1 L 263.3,127.4 L 258.9,125.2 L 259.0,120.7 Z\" style=\"fill:#7F7F7FCC;fill-rule:evenodd;fill-opacity:0.8;stroke:#7F7F7FCC;stroke-width:0.0px;stroke-linecap:butt;stroke-linejoin:miter;stroke-opacity:0.8;\"/>\n<path class=\"bond-20 atom-14 atom-39\" d=\"M 258.9,125.2 L 263.3,127.4 L 268.0,158.4 L 264.6,161.8 L 260.4,160.4 L 255.3,127.7 Z\" style=\"fill:#7F7F7FCC;fill-rule:evenodd;fill-opacity:0.8;stroke:#7F7F7FCC;stroke-width:0.0px;stroke-linecap:butt;stroke-linejoin:miter;stroke-opacity:0.8;\"/>\n<path class=\"bond-21 atom-15 atom-16\" d=\"M 292.5,103.5 L 323.8,133.8 L 314.1,135.4 L 291.1,113.1 Z\" style=\"fill:#7F7F7FCC;fill-rule:evenodd;fill-opacity:0.8;stroke:#7F7F7FCC;stroke-width:0.0px;stroke-linecap:butt;stroke-linejoin:miter;stroke-opacity:0.8;\"/>\n<path class=\"bond-23 atom-16 atom-17\" d=\"M 323.8,133.8 L 305.7,168.2 L 301.1,168.3 L 299.0,163.9 L 314.1,135.4 Z\" style=\"fill:#7F7F7FCC;fill-rule:evenodd;fill-opacity:0.8;stroke:#7F7F7FCC;stroke-width:0.0px;stroke-linecap:butt;stroke-linejoin:miter;stroke-opacity:0.8;\"/>\n<path class=\"bond-25 atom-17 atom-39\" d=\"M 268.0,158.4 L 299.0,163.9 L 301.1,168.3 L 298.7,171.9 L 265.9,166.0 L 264.6,161.8 Z\" style=\"fill:#7F7F7FCC;fill-rule:evenodd;fill-opacity:0.8;stroke:#7F7F7FCC;stroke-width:0.0px;stroke-linecap:butt;stroke-linejoin:miter;stroke-opacity:0.8;\"/>\n<path class=\"bond-27 atom-21 atom-22\" d=\"M 301.1,232.1 L 305.7,232.2 L 323.8,266.6 L 314.1,265.1 L 299.0,236.5 Z\" style=\"fill:#7F7F7FCC;fill-rule:evenodd;fill-opacity:0.8;stroke:#7F7F7FCC;stroke-width:0.0px;stroke-linecap:butt;stroke-linejoin:miter;stroke-opacity:0.8;\"/>\n<path class=\"bond-28 atom-21 atom-40\" d=\"M 298.7,228.5 L 301.1,232.1 L 299.0,236.5 L 268.0,242.1 L 264.6,238.7 L 265.9,234.4 Z\" style=\"fill:#7F7F7FCC;fill-rule:evenodd;fill-opacity:0.8;stroke:#7F7F7FCC;stroke-width:0.0px;stroke-linecap:butt;stroke-linejoin:miter;stroke-opacity:0.8;\"/>\n<path class=\"bond-29 atom-22 atom-23\" d=\"M 314.1,265.1 L 323.8,266.6 L 292.5,296.9 L 291.1,287.3 Z\" style=\"fill:#7F7F7FCC;fill-rule:evenodd;fill-opacity:0.8;stroke:#7F7F7FCC;stroke-width:0.0px;stroke-linecap:butt;stroke-linejoin:miter;stroke-opacity:0.8;\"/>\n<path class=\"bond-31 atom-23 atom-24\" d=\"M 263.3,273.0 L 291.1,287.3 L 292.5,296.9 L 259.0,279.7 L 258.9,275.2 Z\" style=\"fill:#7F7F7FCC;fill-rule:evenodd;fill-opacity:0.8;stroke:#7F7F7FCC;stroke-width:0.0px;stroke-linecap:butt;stroke-linejoin:miter;stroke-opacity:0.8;\"/>\n<path class=\"bond-33 atom-24 atom-40\" d=\"M 264.6,238.7 L 268.0,242.1 L 263.3,273.0 L 258.9,275.2 L 255.3,272.8 L 260.4,240.0 Z\" style=\"fill:#7F7F7FCC;fill-rule:evenodd;fill-opacity:0.8;stroke:#7F7F7FCC;stroke-width:0.0px;stroke-linecap:butt;stroke-linejoin:miter;stroke-opacity:0.8;\"/>\n<path class=\"bond-35 atom-28 atom-29\" d=\"M 189.9,273.0 L 194.2,275.2 L 194.1,279.8 L 160.7,297.0 L 162.2,287.3 Z\" style=\"fill:#7F7F7FCC;fill-rule:evenodd;fill-opacity:0.8;stroke:#7F7F7FCC;stroke-width:0.0px;stroke-linecap:butt;stroke-linejoin:miter;stroke-opacity:0.8;\"/>\n<path class=\"bond-36 atom-28 atom-41\" d=\"M 188.6,238.7 L 192.8,240.0 L 197.9,272.8 L 194.2,275.2 L 189.9,273.0 L 185.1,242.1 Z\" style=\"fill:#7F7F7FCC;fill-rule:evenodd;fill-opacity:0.8;stroke:#7F7F7FCC;stroke-width:0.0px;stroke-linecap:butt;stroke-linejoin:miter;stroke-opacity:0.8;\"/>\n<path class=\"bond-37 atom-29 atom-30\" d=\"M 140.0,265.1 L 162.2,287.3 L 160.7,297.0 L 130.3,266.6 Z\" style=\"fill:#7F7F7FCC;fill-rule:evenodd;fill-opacity:0.8;stroke:#7F7F7FCC;stroke-width:0.0px;stroke-linecap:butt;stroke-linejoin:miter;stroke-opacity:0.8;\"/>\n<path class=\"bond-39 atom-30 atom-31\" d=\"M 152.0,232.1 L 154.2,236.5 L 140.0,265.1 L 130.3,266.6 L 147.5,232.3 Z\" style=\"fill:#7F7F7FCC;fill-rule:evenodd;fill-opacity:0.8;stroke:#7F7F7FCC;stroke-width:0.0px;stroke-linecap:butt;stroke-linejoin:miter;stroke-opacity:0.8;\"/>\n<path class=\"bond-41 atom-31 atom-41\" d=\"M 154.5,228.5 L 187.2,234.4 L 188.6,238.7 L 185.1,242.1 L 154.2,236.5 L 152.0,232.1 Z\" style=\"fill:#7F7F7FCC;fill-rule:evenodd;fill-opacity:0.8;stroke:#7F7F7FCC;stroke-width:0.0px;stroke-linecap:butt;stroke-linejoin:miter;stroke-opacity:0.8;\"/>\n<path class=\"bond-46 atom-38 atom-42\" d=\"M 192.8,160.4 L 226.2,194.6 L 226.1,200.2 L 220.6,200.2 L 187.2,166.0 L 188.6,161.8 Z\" style=\"fill:#7F7F7FCC;fill-rule:evenodd;fill-opacity:0.8;stroke:#7F7F7FCC;stroke-width:0.0px;stroke-linecap:butt;stroke-linejoin:miter;stroke-opacity:0.8;\"/>\n<path class=\"bond-47 atom-39 atom-42\" d=\"M 260.4,160.4 L 264.6,161.8 L 265.9,166.0 L 231.7,200.2 L 226.1,200.2 L 226.2,194.6 Z\" style=\"fill:#7F7F7FCC;fill-rule:evenodd;fill-opacity:0.8;stroke:#7F7F7FCC;stroke-width:0.0px;stroke-linecap:butt;stroke-linejoin:miter;stroke-opacity:0.8;\"/>\n<path class=\"bond-48 atom-40 atom-42\" d=\"M 226.1,200.2 L 231.7,200.2 L 265.9,234.4 L 264.6,238.7 L 260.4,240.0 L 226.2,205.8 Z\" style=\"fill:#7F7F7FCC;fill-rule:evenodd;fill-opacity:0.8;stroke:#7F7F7FCC;stroke-width:0.0px;stroke-linecap:butt;stroke-linejoin:miter;stroke-opacity:0.8;\"/>\n<path class=\"bond-49 atom-41 atom-42\" d=\"M 226.1,200.2 L 226.2,205.8 L 192.8,240.0 L 188.6,238.7 L 187.2,234.4 L 220.6,200.2 Z\" style=\"fill:#7F7F7FCC;fill-rule:evenodd;fill-opacity:0.8;stroke:#7F7F7FCC;stroke-width:0.0px;stroke-linecap:butt;stroke-linejoin:miter;stroke-opacity:0.8;\"/>\n<ellipse cx=\"133.3\" cy=\"200.2\" rx=\"7.4\" ry=\"7.4\" class=\"atom-0\" style=\"fill:#7F7F7F66;fill-rule:evenodd;stroke:#7F7F7F66;stroke-width:1.0px;stroke-linecap:butt;stroke-linejoin:miter;stroke-opacity:1\"/>\n<ellipse cx=\"226.1\" cy=\"106.4\" rx=\"7.4\" ry=\"7.4\" class=\"atom-1\" style=\"fill:#7F7F7F66;fill-rule:evenodd;stroke:#7F7F7F66;stroke-width:1.0px;stroke-linecap:butt;stroke-linejoin:miter;stroke-opacity:1\"/>\n<ellipse cx=\"319.9\" cy=\"200.2\" rx=\"7.4\" ry=\"7.4\" class=\"atom-2\" style=\"fill:#7F7F7F66;fill-rule:evenodd;stroke:#7F7F7F66;stroke-width:1.0px;stroke-linecap:butt;stroke-linejoin:miter;stroke-opacity:1\"/>\n<ellipse cx=\"226.1\" cy=\"294.0\" rx=\"7.4\" ry=\"7.4\" class=\"atom-3\" style=\"fill:#7F7F7F66;fill-rule:evenodd;stroke:#7F7F7F66;stroke-width:1.0px;stroke-linecap:butt;stroke-linejoin:miter;stroke-opacity:1\"/>\n<ellipse cx=\"152.0\" cy=\"168.3\" rx=\"7.4\" ry=\"7.4\" class=\"atom-4\" style=\"fill:#7F7F7F66;fill-rule:evenodd;stroke:#7F7F7F66;stroke-width:1.0px;stroke-linecap:butt;stroke-linejoin:miter;stroke-opacity:1\"/>\n<ellipse cx=\"135.2\" cy=\"134.6\" rx=\"7.4\" ry=\"7.4\" class=\"atom-5\" style=\"fill:#7F7F7F66;fill-rule:evenodd;stroke:#7F7F7F66;stroke-width:1.0px;stroke-linecap:butt;stroke-linejoin:miter;stroke-opacity:1\"/>\n<ellipse cx=\"161.4\" cy=\"108.3\" rx=\"7.4\" ry=\"7.4\" class=\"atom-6\" style=\"fill:#7F7F7F66;fill-rule:evenodd;stroke:#7F7F7F66;stroke-width:1.0px;stroke-linecap:butt;stroke-linejoin:miter;stroke-opacity:1\"/>\n<ellipse cx=\"194.2\" cy=\"125.2\" rx=\"7.4\" ry=\"7.4\" class=\"atom-7\" style=\"fill:#7F7F7F66;fill-rule:evenodd;stroke:#7F7F7F66;stroke-width:1.0px;stroke-linecap:butt;stroke-linejoin:miter;stroke-opacity:1\"/>\n<ellipse cx=\"258.9\" cy=\"125.2\" rx=\"7.4\" ry=\"7.4\" class=\"atom-14\" style=\"fill:#7F7F7F66;fill-rule:evenodd;stroke:#7F7F7F66;stroke-width:1.0px;stroke-linecap:butt;stroke-linejoin:miter;stroke-opacity:1\"/>\n<ellipse cx=\"291.8\" cy=\"108.3\" rx=\"7.4\" ry=\"7.4\" class=\"atom-15\" style=\"fill:#7F7F7F66;fill-rule:evenodd;stroke:#7F7F7F66;stroke-width:1.0px;stroke-linecap:butt;stroke-linejoin:miter;stroke-opacity:1\"/>\n<ellipse cx=\"319.0\" cy=\"134.6\" rx=\"7.4\" ry=\"7.4\" class=\"atom-16\" style=\"fill:#7F7F7F66;fill-rule:evenodd;stroke:#7F7F7F66;stroke-width:1.0px;stroke-linecap:butt;stroke-linejoin:miter;stroke-opacity:1\"/>\n<ellipse cx=\"301.1\" cy=\"168.3\" rx=\"7.4\" ry=\"7.4\" class=\"atom-17\" style=\"fill:#7F7F7F66;fill-rule:evenodd;stroke:#7F7F7F66;stroke-width:1.0px;stroke-linecap:butt;stroke-linejoin:miter;stroke-opacity:1\"/>\n<ellipse cx=\"301.1\" cy=\"232.1\" rx=\"7.4\" ry=\"7.4\" class=\"atom-21\" style=\"fill:#7F7F7F66;fill-rule:evenodd;stroke:#7F7F7F66;stroke-width:1.0px;stroke-linecap:butt;stroke-linejoin:miter;stroke-opacity:1\"/>\n<ellipse cx=\"319.0\" cy=\"265.9\" rx=\"7.4\" ry=\"7.4\" class=\"atom-22\" style=\"fill:#7F7F7F66;fill-rule:evenodd;stroke:#7F7F7F66;stroke-width:1.0px;stroke-linecap:butt;stroke-linejoin:miter;stroke-opacity:1\"/>\n<ellipse cx=\"291.8\" cy=\"292.1\" rx=\"7.4\" ry=\"7.4\" class=\"atom-23\" style=\"fill:#7F7F7F66;fill-rule:evenodd;stroke:#7F7F7F66;stroke-width:1.0px;stroke-linecap:butt;stroke-linejoin:miter;stroke-opacity:1\"/>\n<ellipse cx=\"258.9\" cy=\"275.2\" rx=\"7.4\" ry=\"7.4\" class=\"atom-24\" style=\"fill:#7F7F7F66;fill-rule:evenodd;stroke:#7F7F7F66;stroke-width:1.0px;stroke-linecap:butt;stroke-linejoin:miter;stroke-opacity:1\"/>\n<ellipse cx=\"194.2\" cy=\"275.2\" rx=\"7.4\" ry=\"7.4\" class=\"atom-28\" style=\"fill:#7F7F7F66;fill-rule:evenodd;stroke:#7F7F7F66;stroke-width:1.0px;stroke-linecap:butt;stroke-linejoin:miter;stroke-opacity:1\"/>\n<ellipse cx=\"161.4\" cy=\"292.1\" rx=\"7.4\" ry=\"7.4\" class=\"atom-29\" style=\"fill:#7F7F7F66;fill-rule:evenodd;stroke:#7F7F7F66;stroke-width:1.0px;stroke-linecap:butt;stroke-linejoin:miter;stroke-opacity:1\"/>\n<ellipse cx=\"135.2\" cy=\"265.9\" rx=\"7.4\" ry=\"7.4\" class=\"atom-30\" style=\"fill:#7F7F7F66;fill-rule:evenodd;stroke:#7F7F7F66;stroke-width:1.0px;stroke-linecap:butt;stroke-linejoin:miter;stroke-opacity:1\"/>\n<ellipse cx=\"152.0\" cy=\"232.1\" rx=\"7.4\" ry=\"7.4\" class=\"atom-31\" style=\"fill:#7F7F7F66;fill-rule:evenodd;stroke:#7F7F7F66;stroke-width:1.0px;stroke-linecap:butt;stroke-linejoin:miter;stroke-opacity:1\"/>\n<ellipse cx=\"188.6\" cy=\"161.8\" rx=\"7.4\" ry=\"7.4\" class=\"atom-38\" style=\"fill:#7F7F7F66;fill-rule:evenodd;stroke:#7F7F7F66;stroke-width:1.0px;stroke-linecap:butt;stroke-linejoin:miter;stroke-opacity:1\"/>\n<ellipse cx=\"264.6\" cy=\"161.8\" rx=\"7.4\" ry=\"7.4\" class=\"atom-39\" style=\"fill:#7F7F7F66;fill-rule:evenodd;stroke:#7F7F7F66;stroke-width:1.0px;stroke-linecap:butt;stroke-linejoin:miter;stroke-opacity:1\"/>\n<ellipse cx=\"264.6\" cy=\"238.7\" rx=\"7.4\" ry=\"7.4\" class=\"atom-40\" style=\"fill:#7F7F7F66;fill-rule:evenodd;stroke:#7F7F7F66;stroke-width:1.0px;stroke-linecap:butt;stroke-linejoin:miter;stroke-opacity:1\"/>\n<ellipse cx=\"188.6\" cy=\"238.7\" rx=\"7.4\" ry=\"7.4\" class=\"atom-41\" style=\"fill:#7F7F7F66;fill-rule:evenodd;stroke:#7F7F7F66;stroke-width:1.0px;stroke-linecap:butt;stroke-linejoin:miter;stroke-opacity:1\"/>\n<ellipse cx=\"222.5\" cy=\"200.3\" rx=\"9.9\" ry=\"7.5\" class=\"atom-42\" style=\"fill:#7F7F7F66;fill-rule:evenodd;stroke:#7F7F7F66;stroke-width:1.0px;stroke-linecap:butt;stroke-linejoin:miter;stroke-opacity:1\"/>\n<path class=\"bond-0 atom-0 atom-4\" d=\"M 133.3,200.2 L 152.0,168.3\" style=\"fill:none;fill-rule:evenodd;stroke:#000000;stroke-width:2.0px;stroke-linecap:butt;stroke-linejoin:miter;stroke-opacity:1\"/>\n<path class=\"bond-1 atom-0 atom-31\" d=\"M 133.3,200.2 L 152.0,232.1\" style=\"fill:none;fill-rule:evenodd;stroke:#000000;stroke-width:2.0px;stroke-linecap:butt;stroke-linejoin:miter;stroke-opacity:1\"/>\n<path class=\"bond-1 atom-0 atom-31\" d=\"M 140.0,200.2 L 155.7,226.9\" style=\"fill:none;fill-rule:evenodd;stroke:#000000;stroke-width:2.0px;stroke-linecap:butt;stroke-linejoin:miter;stroke-opacity:1\"/>\n<path class=\"bond-2 atom-1 atom-7\" d=\"M 226.1,106.4 L 194.2,125.2\" style=\"fill:none;fill-rule:evenodd;stroke:#000000;stroke-width:2.0px;stroke-linecap:butt;stroke-linejoin:miter;stroke-opacity:1\"/>\n<path class=\"bond-3 atom-1 atom-14\" d=\"M 226.1,106.4 L 258.9,125.2\" style=\"fill:none;fill-rule:evenodd;stroke:#000000;stroke-width:2.0px;stroke-linecap:butt;stroke-linejoin:miter;stroke-opacity:1\"/>\n<path class=\"bond-3 atom-1 atom-14\" d=\"M 226.2,113.1 L 253.6,128.8\" style=\"fill:none;fill-rule:evenodd;stroke:#000000;stroke-width:2.0px;stroke-linecap:butt;stroke-linejoin:miter;stroke-opacity:1\"/>\n<path class=\"bond-4 atom-2 atom-17\" d=\"M 319.9,200.2 L 301.1,168.3\" style=\"fill:none;fill-rule:evenodd;stroke:#000000;stroke-width:2.0px;stroke-linecap:butt;stroke-linejoin:miter;stroke-opacity:1\"/>\n<path class=\"bond-5 atom-2 atom-21\" d=\"M 319.9,200.2 L 301.1,232.1\" style=\"fill:none;fill-rule:evenodd;stroke:#000000;stroke-width:2.0px;stroke-linecap:butt;stroke-linejoin:miter;stroke-opacity:1\"/>\n<path class=\"bond-5 atom-2 atom-21\" d=\"M 313.2,200.2 L 297.5,226.9\" style=\"fill:none;fill-rule:evenodd;stroke:#000000;stroke-width:2.0px;stroke-linecap:butt;stroke-linejoin:miter;stroke-opacity:1\"/>\n<path class=\"bond-6 atom-3 atom-24\" d=\"M 226.1,294.0 L 258.9,275.2\" style=\"fill:none;fill-rule:evenodd;stroke:#000000;stroke-width:2.0px;stroke-linecap:butt;stroke-linejoin:miter;stroke-opacity:1\"/>\n<path class=\"bond-6 atom-3 atom-24\" d=\"M 226.2,287.3 L 253.6,271.6\" style=\"fill:none;fill-rule:evenodd;stroke:#000000;stroke-width:2.0px;stroke-linecap:butt;stroke-linejoin:miter;stroke-opacity:1\"/>\n<path class=\"bond-7 atom-3 atom-28\" d=\"M 226.1,294.0 L 194.2,275.2\" style=\"fill:none;fill-rule:evenodd;stroke:#000000;stroke-width:2.0px;stroke-linecap:butt;stroke-linejoin:miter;stroke-opacity:1\"/>\n<path class=\"bond-8 atom-4 atom-5\" d=\"M 152.0,168.3 L 135.2,134.6\" style=\"fill:none;fill-rule:evenodd;stroke:#000000;stroke-width:2.0px;stroke-linecap:butt;stroke-linejoin:miter;stroke-opacity:1\"/>\n<path class=\"bond-8 atom-4 atom-5\" d=\"M 155.3,161.9 L 142.2,135.7\" style=\"fill:none;fill-rule:evenodd;stroke:#000000;stroke-width:2.0px;stroke-linecap:butt;stroke-linejoin:miter;stroke-opacity:1\"/>\n<path class=\"bond-9 atom-4 atom-38\" d=\"M 152.0,168.3 L 167.7,165.5\" style=\"fill:none;fill-rule:evenodd;stroke:#000000;stroke-width:2.0px;stroke-linecap:butt;stroke-linejoin:miter;stroke-opacity:1\"/>\n<path class=\"bond-9 atom-4 atom-38\" d=\"M 167.7,165.5 L 183.4,162.7\" style=\"fill:none;fill-rule:evenodd;stroke:#0000FF;stroke-width:2.0px;stroke-linecap:butt;stroke-linejoin:miter;stroke-opacity:1\"/>\n<path class=\"bond-10 atom-5 atom-6\" d=\"M 135.2,134.6 L 161.4,108.3\" style=\"fill:none;fill-rule:evenodd;stroke:#000000;stroke-width:2.0px;stroke-linecap:butt;stroke-linejoin:miter;stroke-opacity:1\"/>\n<path class=\"bond-11 atom-5 atom-9\" d=\"M 135.2,134.6 L 97.9,128.4\" style=\"fill:none;fill-rule:evenodd;stroke:#000000;stroke-width:2.0px;stroke-linecap:butt;stroke-linejoin:miter;stroke-opacity:1\"/>\n<path class=\"bond-12 atom-6 atom-7\" d=\"M 161.4,108.3 L 194.2,125.2\" style=\"fill:none;fill-rule:evenodd;stroke:#000000;stroke-width:2.0px;stroke-linecap:butt;stroke-linejoin:miter;stroke-opacity:1\"/>\n<path class=\"bond-12 atom-6 atom-7\" d=\"M 162.5,115.4 L 187.9,128.4\" style=\"fill:none;fill-rule:evenodd;stroke:#000000;stroke-width:2.0px;stroke-linecap:butt;stroke-linejoin:miter;stroke-opacity:1\"/>\n<path class=\"bond-13 atom-6 atom-8\" d=\"M 161.4,108.3 L 155.6,71.6\" style=\"fill:none;fill-rule:evenodd;stroke:#000000;stroke-width:2.0px;stroke-linecap:butt;stroke-linejoin:miter;stroke-opacity:1\"/>\n<path class=\"bond-14 atom-7 atom-38\" d=\"M 194.2,125.2 L 191.9,140.2\" style=\"fill:none;fill-rule:evenodd;stroke:#000000;stroke-width:2.0px;stroke-linecap:butt;stroke-linejoin:miter;stroke-opacity:1\"/>\n<path class=\"bond-14 atom-7 atom-38\" d=\"M 191.9,140.2 L 189.6,155.2\" style=\"fill:none;fill-rule:evenodd;stroke:#0000FF;stroke-width:2.0px;stroke-linecap:butt;stroke-linejoin:miter;stroke-opacity:1\"/>\n<path class=\"bond-15 atom-9 atom-10\" d=\"M 97.9,128.4 L 84.9,93.7\" style=\"fill:none;fill-rule:evenodd;stroke:#000000;stroke-width:2.0px;stroke-linecap:butt;stroke-linejoin:miter;stroke-opacity:1\"/>\n<path class=\"bond-16 atom-10 atom-11\" d=\"M 84.9,93.7 L 48.4,87.6\" style=\"fill:none;fill-rule:evenodd;stroke:#000000;stroke-width:2.0px;stroke-linecap:butt;stroke-linejoin:miter;stroke-opacity:1\"/>\n<path class=\"bond-17 atom-11 atom-12\" d=\"M 47.2,84.5 L 37.6,96.2\" style=\"fill:none;fill-rule:evenodd;stroke:#000000;stroke-width:2.0px;stroke-linecap:butt;stroke-linejoin:miter;stroke-opacity:1\"/>\n<path class=\"bond-17 atom-11 atom-12\" d=\"M 37.6,96.2 L 28.0,107.8\" style=\"fill:none;fill-rule:evenodd;stroke:#FF0000;stroke-width:2.0px;stroke-linecap:butt;stroke-linejoin:miter;stroke-opacity:1\"/>\n<path class=\"bond-17 atom-11 atom-12\" d=\"M 51.6,88.2 L 42.1,99.8\" style=\"fill:none;fill-rule:evenodd;stroke:#000000;stroke-width:2.0px;stroke-linecap:butt;stroke-linejoin:miter;stroke-opacity:1\"/>\n<path class=\"bond-17 atom-11 atom-12\" d=\"M 42.1,99.8 L 32.5,111.5\" style=\"fill:none;fill-rule:evenodd;stroke:#FF0000;stroke-width:2.0px;stroke-linecap:butt;stroke-linejoin:miter;stroke-opacity:1\"/>\n<path class=\"bond-18 atom-11 atom-13\" d=\"M 48.4,87.6 L 43.1,73.7\" style=\"fill:none;fill-rule:evenodd;stroke:#000000;stroke-width:2.0px;stroke-linecap:butt;stroke-linejoin:miter;stroke-opacity:1\"/>\n<path class=\"bond-18 atom-11 atom-13\" d=\"M 43.1,73.7 L 37.9,59.7\" style=\"fill:none;fill-rule:evenodd;stroke:#FF0000;stroke-width:2.0px;stroke-linecap:butt;stroke-linejoin:miter;stroke-opacity:1\"/>\n<path class=\"bond-19 atom-14 atom-15\" d=\"M 258.9,125.2 L 291.8,108.3\" style=\"fill:none;fill-rule:evenodd;stroke:#000000;stroke-width:2.0px;stroke-linecap:butt;stroke-linejoin:miter;stroke-opacity:1\"/>\n<path class=\"bond-20 atom-14 atom-39\" d=\"M 258.9,125.2 L 261.3,140.2\" style=\"fill:none;fill-rule:evenodd;stroke:#000000;stroke-width:2.0px;stroke-linecap:butt;stroke-linejoin:miter;stroke-opacity:1\"/>\n<path class=\"bond-20 atom-14 atom-39\" d=\"M 261.3,140.2 L 263.6,155.2\" style=\"fill:none;fill-rule:evenodd;stroke:#0000FF;stroke-width:2.0px;stroke-linecap:butt;stroke-linejoin:miter;stroke-opacity:1\"/>\n<path class=\"bond-21 atom-15 atom-16\" d=\"M 291.8,108.3 L 319.0,134.6\" style=\"fill:none;fill-rule:evenodd;stroke:#000000;stroke-width:2.0px;stroke-linecap:butt;stroke-linejoin:miter;stroke-opacity:1\"/>\n<path class=\"bond-21 atom-15 atom-16\" d=\"M 290.7,115.4 L 311.8,135.7\" style=\"fill:none;fill-rule:evenodd;stroke:#000000;stroke-width:2.0px;stroke-linecap:butt;stroke-linejoin:miter;stroke-opacity:1\"/>\n<path class=\"bond-22 atom-15 atom-18\" d=\"M 291.8,108.3 L 297.4,71.8\" style=\"fill:none;fill-rule:evenodd;stroke:#000000;stroke-width:2.0px;stroke-linecap:butt;stroke-linejoin:miter;stroke-opacity:1\"/>\n<path class=\"bond-23 atom-16 atom-17\" d=\"M 319.0,134.6 L 301.1,168.3\" style=\"fill:none;fill-rule:evenodd;stroke:#000000;stroke-width:2.0px;stroke-linecap:butt;stroke-linejoin:miter;stroke-opacity:1\"/>\n<path class=\"bond-24 atom-16 atom-19\" d=\"M 319.0,134.6 L 356.2,128.0\" style=\"fill:none;fill-rule:evenodd;stroke:#000000;stroke-width:2.0px;stroke-linecap:butt;stroke-linejoin:miter;stroke-opacity:1\"/>\n<path class=\"bond-25 atom-17 atom-39\" d=\"M 301.1,168.3 L 285.5,165.5\" style=\"fill:none;fill-rule:evenodd;stroke:#000000;stroke-width:2.0px;stroke-linecap:butt;stroke-linejoin:miter;stroke-opacity:1\"/>\n<path class=\"bond-25 atom-17 atom-39\" d=\"M 285.5,165.5 L 269.8,162.7\" style=\"fill:none;fill-rule:evenodd;stroke:#0000FF;stroke-width:2.0px;stroke-linecap:butt;stroke-linejoin:miter;stroke-opacity:1\"/>\n<path class=\"bond-25 atom-17 atom-39\" d=\"M 298.0,161.9 L 284.4,159.5\" style=\"fill:none;fill-rule:evenodd;stroke:#000000;stroke-width:2.0px;stroke-linecap:butt;stroke-linejoin:miter;stroke-opacity:1\"/>\n<path class=\"bond-25 atom-17 atom-39\" d=\"M 284.4,159.5 L 270.8,157.0\" style=\"fill:none;fill-rule:evenodd;stroke:#0000FF;stroke-width:2.0px;stroke-linecap:butt;stroke-linejoin:miter;stroke-opacity:1\"/>\n<path class=\"bond-26 atom-19 atom-20\" d=\"M 356.2,128.0 L 380.0,156.4\" style=\"fill:none;fill-rule:evenodd;stroke:#000000;stroke-width:2.0px;stroke-linecap:butt;stroke-linejoin:miter;stroke-opacity:1\"/>\n<path class=\"bond-26 atom-19 atom-20\" d=\"M 353.9,134.3 L 375.6,160.1\" style=\"fill:none;fill-rule:evenodd;stroke:#000000;stroke-width:2.0px;stroke-linecap:butt;stroke-linejoin:miter;stroke-opacity:1\"/>\n<path class=\"bond-27 atom-21 atom-22\" d=\"M 301.1,232.1 L 319.0,265.9\" style=\"fill:none;fill-rule:evenodd;stroke:#000000;stroke-width:2.0px;stroke-linecap:butt;stroke-linejoin:miter;stroke-opacity:1\"/>\n<path class=\"bond-28 atom-21 atom-40\" d=\"M 301.1,232.1 L 285.5,234.9\" style=\"fill:none;fill-rule:evenodd;stroke:#000000;stroke-width:2.0px;stroke-linecap:butt;stroke-linejoin:miter;stroke-opacity:1\"/>\n<path class=\"bond-28 atom-21 atom-40\" d=\"M 285.5,234.9 L 269.8,237.7\" style=\"fill:none;fill-rule:evenodd;stroke:#0000FF;stroke-width:2.0px;stroke-linecap:butt;stroke-linejoin:miter;stroke-opacity:1\"/>\n<path class=\"bond-29 atom-22 atom-23\" d=\"M 319.0,265.9 L 291.8,292.1\" style=\"fill:none;fill-rule:evenodd;stroke:#000000;stroke-width:2.0px;stroke-linecap:butt;stroke-linejoin:miter;stroke-opacity:1\"/>\n<path class=\"bond-29 atom-22 atom-23\" d=\"M 311.8,264.7 L 290.7,285.1\" style=\"fill:none;fill-rule:evenodd;stroke:#000000;stroke-width:2.0px;stroke-linecap:butt;stroke-linejoin:miter;stroke-opacity:1\"/>\n<path class=\"bond-30 atom-22 atom-25\" d=\"M 319.0,265.9 L 356.7,271.3\" style=\"fill:none;fill-rule:evenodd;stroke:#000000;stroke-width:2.0px;stroke-linecap:butt;stroke-linejoin:miter;stroke-opacity:1\"/>\n<path class=\"bond-31 atom-23 atom-24\" d=\"M 291.8,292.1 L 258.9,275.2\" style=\"fill:none;fill-rule:evenodd;stroke:#000000;stroke-width:2.0px;stroke-linecap:butt;stroke-linejoin:miter;stroke-opacity:1\"/>\n<path class=\"bond-32 atom-23 atom-26\" d=\"M 291.8,292.1 L 297.0,329.6\" style=\"fill:none;fill-rule:evenodd;stroke:#000000;stroke-width:2.0px;stroke-linecap:butt;stroke-linejoin:miter;stroke-opacity:1\"/>\n<path class=\"bond-33 atom-24 atom-40\" d=\"M 258.9,275.2 L 261.3,260.2\" style=\"fill:none;fill-rule:evenodd;stroke:#000000;stroke-width:2.0px;stroke-linecap:butt;stroke-linejoin:miter;stroke-opacity:1\"/>\n<path class=\"bond-33 atom-24 atom-40\" d=\"M 261.3,260.2 L 263.6,245.2\" style=\"fill:none;fill-rule:evenodd;stroke:#0000FF;stroke-width:2.0px;stroke-linecap:butt;stroke-linejoin:miter;stroke-opacity:1\"/>\n<path class=\"bond-34 atom-26 atom-27\" d=\"M 297.0,329.6 L 267.8,352.4\" style=\"fill:none;fill-rule:evenodd;stroke:#000000;stroke-width:2.0px;stroke-linecap:butt;stroke-linejoin:miter;stroke-opacity:1\"/>\n<path class=\"bond-34 atom-26 atom-27\" d=\"M 290.8,327.0 L 264.3,347.8\" style=\"fill:none;fill-rule:evenodd;stroke:#000000;stroke-width:2.0px;stroke-linecap:butt;stroke-linejoin:miter;stroke-opacity:1\"/>\n<path class=\"bond-35 atom-28 atom-29\" d=\"M 194.2,275.2 L 161.4,292.1\" style=\"fill:none;fill-rule:evenodd;stroke:#000000;stroke-width:2.0px;stroke-linecap:butt;stroke-linejoin:miter;stroke-opacity:1\"/>\n<path class=\"bond-36 atom-28 atom-41\" d=\"M 194.2,275.2 L 191.9,260.2\" style=\"fill:none;fill-rule:evenodd;stroke:#000000;stroke-width:2.0px;stroke-linecap:butt;stroke-linejoin:miter;stroke-opacity:1\"/>\n<path class=\"bond-36 atom-28 atom-41\" d=\"M 191.9,260.2 L 189.6,245.2\" style=\"fill:none;fill-rule:evenodd;stroke:#0000FF;stroke-width:2.0px;stroke-linecap:butt;stroke-linejoin:miter;stroke-opacity:1\"/>\n<path class=\"bond-36 atom-28 atom-41\" d=\"M 187.9,272.0 L 185.9,259.0\" style=\"fill:none;fill-rule:evenodd;stroke:#000000;stroke-width:2.0px;stroke-linecap:butt;stroke-linejoin:miter;stroke-opacity:1\"/>\n<path class=\"bond-36 atom-28 atom-41\" d=\"M 185.9,259.0 L 183.9,246.1\" style=\"fill:none;fill-rule:evenodd;stroke:#0000FF;stroke-width:2.0px;stroke-linecap:butt;stroke-linejoin:miter;stroke-opacity:1\"/>\n<path class=\"bond-37 atom-29 atom-30\" d=\"M 161.4,292.1 L 135.2,265.9\" style=\"fill:none;fill-rule:evenodd;stroke:#000000;stroke-width:2.0px;stroke-linecap:butt;stroke-linejoin:miter;stroke-opacity:1\"/>\n<path class=\"bond-37 atom-29 atom-30\" d=\"M 162.5,285.0 L 142.2,264.7\" style=\"fill:none;fill-rule:evenodd;stroke:#000000;stroke-width:2.0px;stroke-linecap:butt;stroke-linejoin:miter;stroke-opacity:1\"/>\n<path class=\"bond-38 atom-29 atom-32\" d=\"M 161.4,292.1 L 155.8,328.6\" style=\"fill:none;fill-rule:evenodd;stroke:#000000;stroke-width:2.0px;stroke-linecap:butt;stroke-linejoin:miter;stroke-opacity:1\"/>\n<path class=\"bond-39 atom-30 atom-31\" d=\"M 135.2,265.9 L 152.0,232.1\" style=\"fill:none;fill-rule:evenodd;stroke:#000000;stroke-width:2.0px;stroke-linecap:butt;stroke-linejoin:miter;stroke-opacity:1\"/>\n<path class=\"bond-40 atom-30 atom-33\" d=\"M 135.2,265.9 L 98.5,271.7\" style=\"fill:none;fill-rule:evenodd;stroke:#000000;stroke-width:2.0px;stroke-linecap:butt;stroke-linejoin:miter;stroke-opacity:1\"/>\n<path class=\"bond-41 atom-31 atom-41\" d=\"M 152.0,232.1 L 167.7,234.9\" style=\"fill:none;fill-rule:evenodd;stroke:#000000;stroke-width:2.0px;stroke-linecap:butt;stroke-linejoin:miter;stroke-opacity:1\"/>\n<path class=\"bond-41 atom-31 atom-41\" d=\"M 167.7,234.9 L 183.4,237.7\" style=\"fill:none;fill-rule:evenodd;stroke:#0000FF;stroke-width:2.0px;stroke-linecap:butt;stroke-linejoin:miter;stroke-opacity:1\"/>\n<path class=\"bond-42 atom-33 atom-34\" d=\"M 98.5,271.7 L 85.2,306.3\" style=\"fill:none;fill-rule:evenodd;stroke:#000000;stroke-width:2.0px;stroke-linecap:butt;stroke-linejoin:miter;stroke-opacity:1\"/>\n<path class=\"bond-43 atom-34 atom-35\" d=\"M 85.2,306.3 L 48.6,312.1\" style=\"fill:none;fill-rule:evenodd;stroke:#000000;stroke-width:2.0px;stroke-linecap:butt;stroke-linejoin:miter;stroke-opacity:1\"/>\n<path class=\"bond-44 atom-35 atom-36\" d=\"M 51.9,311.5 L 42.4,299.9\" style=\"fill:none;fill-rule:evenodd;stroke:#000000;stroke-width:2.0px;stroke-linecap:butt;stroke-linejoin:miter;stroke-opacity:1\"/>\n<path class=\"bond-44 atom-35 atom-36\" d=\"M 42.4,299.9 L 33.0,288.2\" style=\"fill:none;fill-rule:evenodd;stroke:#FF0000;stroke-width:2.0px;stroke-linecap:butt;stroke-linejoin:miter;stroke-opacity:1\"/>\n<path class=\"bond-44 atom-35 atom-36\" d=\"M 47.4,315.2 L 37.9,303.5\" style=\"fill:none;fill-rule:evenodd;stroke:#000000;stroke-width:2.0px;stroke-linecap:butt;stroke-linejoin:miter;stroke-opacity:1\"/>\n<path class=\"bond-44 atom-35 atom-36\" d=\"M 37.9,303.5 L 28.5,291.8\" style=\"fill:none;fill-rule:evenodd;stroke:#FF0000;stroke-width:2.0px;stroke-linecap:butt;stroke-linejoin:miter;stroke-opacity:1\"/>\n<path class=\"bond-45 atom-35 atom-37\" d=\"M 48.6,312.1 L 43.2,326.1\" style=\"fill:none;fill-rule:evenodd;stroke:#000000;stroke-width:2.0px;stroke-linecap:butt;stroke-linejoin:miter;stroke-opacity:1\"/>\n<path class=\"bond-45 atom-35 atom-37\" d=\"M 43.2,326.1 L 37.8,340.1\" style=\"fill:none;fill-rule:evenodd;stroke:#FF0000;stroke-width:2.0px;stroke-linecap:butt;stroke-linejoin:miter;stroke-opacity:1\"/>\n<path class=\"bond-46 atom-42 atom-38\" d=\"M 219.8,193.7 L 206.8,180.4\" style=\"fill:none;fill-rule:evenodd;stroke:#000000;stroke-width:2.0px;stroke-linecap:butt;stroke-linejoin:miter;stroke-opacity:1\"/>\n<path class=\"bond-46 atom-42 atom-38\" d=\"M 206.8,180.4 L 193.9,167.2\" style=\"fill:none;fill-rule:evenodd;stroke:#0000FF;stroke-width:2.0px;stroke-linecap:butt;stroke-linejoin:miter;stroke-opacity:1\"/>\n<path class=\"bond-47 atom-39 atom-42\" d=\"M 259.3,167.0 L 244.6,181.7\" style=\"fill:none;fill-rule:evenodd;stroke:#0000FF;stroke-width:2.0px;stroke-linecap:butt;stroke-linejoin:miter;stroke-opacity:1;stroke-dasharray:1,1.33333\"/>\n<path class=\"bond-47 atom-39 atom-42\" d=\"M 244.6,181.7 L 229.9,196.4\" style=\"fill:none;fill-rule:evenodd;stroke:#000000;stroke-width:2.0px;stroke-linecap:butt;stroke-linejoin:miter;stroke-opacity:1;stroke-dasharray:1,1.33333\"/>\n<path class=\"bond-48 atom-42 atom-40\" d=\"M 230.8,204.9 L 245.0,219.1\" style=\"fill:none;fill-rule:evenodd;stroke:#000000;stroke-width:2.0px;stroke-linecap:butt;stroke-linejoin:miter;stroke-opacity:1\"/>\n<path class=\"bond-48 atom-42 atom-40\" d=\"M 245.0,219.1 L 259.3,233.4\" style=\"fill:none;fill-rule:evenodd;stroke:#0000FF;stroke-width:2.0px;stroke-linecap:butt;stroke-linejoin:miter;stroke-opacity:1\"/>\n<path class=\"bond-49 atom-41 atom-42\" d=\"M 193.9,233.3 L 206.8,220.0\" style=\"fill:none;fill-rule:evenodd;stroke:#0000FF;stroke-width:2.0px;stroke-linecap:butt;stroke-linejoin:miter;stroke-opacity:1;stroke-dasharray:1,1.33333\"/>\n<path class=\"bond-49 atom-41 atom-42\" d=\"M 206.8,220.0 L 219.8,206.7\" style=\"fill:none;fill-rule:evenodd;stroke:#000000;stroke-width:2.0px;stroke-linecap:butt;stroke-linejoin:miter;stroke-opacity:1;stroke-dasharray:1,1.33333\"/>\n<path d=\"M 134.2,198.6 L 133.3,200.2 L 134.2,201.8\" style=\"fill:none;stroke:#000000;stroke-width:2.0px;stroke-linecap:butt;stroke-linejoin:miter;stroke-opacity:1;\"/>\n<path d=\"M 224.5,107.4 L 226.1,106.4 L 227.8,107.4\" style=\"fill:none;stroke:#000000;stroke-width:2.0px;stroke-linecap:butt;stroke-linejoin:miter;stroke-opacity:1;\"/>\n<path d=\"M 319.0,198.6 L 319.9,200.2 L 319.0,201.8\" style=\"fill:none;stroke:#000000;stroke-width:2.0px;stroke-linecap:butt;stroke-linejoin:miter;stroke-opacity:1;\"/>\n<path d=\"M 227.8,293.1 L 226.1,294.0 L 224.5,293.1\" style=\"fill:none;stroke:#000000;stroke-width:2.0px;stroke-linecap:butt;stroke-linejoin:miter;stroke-opacity:1;\"/>\n<path d=\"M 99.8,128.7 L 97.9,128.4 L 97.3,126.7\" style=\"fill:none;stroke:#000000;stroke-width:2.0px;stroke-linecap:butt;stroke-linejoin:miter;stroke-opacity:1;\"/>\n<path d=\"M 85.6,95.4 L 84.9,93.7 L 83.1,93.4\" style=\"fill:none;stroke:#000000;stroke-width:2.0px;stroke-linecap:butt;stroke-linejoin:miter;stroke-opacity:1;\"/>\n<path d=\"M 50.2,87.9 L 48.4,87.6 L 48.1,86.9\" style=\"fill:none;stroke:#000000;stroke-width:2.0px;stroke-linecap:butt;stroke-linejoin:miter;stroke-opacity:1;\"/>\n<path d=\"M 354.3,128.3 L 356.2,128.0 L 357.4,129.4\" style=\"fill:none;stroke:#000000;stroke-width:2.0px;stroke-linecap:butt;stroke-linejoin:miter;stroke-opacity:1;\"/>\n<path d=\"M 296.8,327.7 L 297.0,329.6 L 295.6,330.7\" style=\"fill:none;stroke:#000000;stroke-width:2.0px;stroke-linecap:butt;stroke-linejoin:miter;stroke-opacity:1;\"/>\n<path d=\"M 100.3,271.4 L 98.5,271.7 L 97.8,273.4\" style=\"fill:none;stroke:#000000;stroke-width:2.0px;stroke-linecap:butt;stroke-linejoin:miter;stroke-opacity:1;\"/>\n<path d=\"M 85.9,304.5 L 85.2,306.3 L 83.4,306.5\" style=\"fill:none;stroke:#000000;stroke-width:2.0px;stroke-linecap:butt;stroke-linejoin:miter;stroke-opacity:1;\"/>\n<path d=\"M 50.4,311.8 L 48.6,312.1 L 48.3,312.8\" style=\"fill:none;stroke:#000000;stroke-width:2.0px;stroke-linecap:butt;stroke-linejoin:miter;stroke-opacity:1;\"/>\n<path class=\"atom-12\" d=\"M 20.0 116.3 Q 20.0 113.8, 21.2 112.4 Q 22.5 110.9, 24.8 110.9 Q 27.1 110.9, 28.4 112.4 Q 29.6 113.8, 29.6 116.3 Q 29.6 118.8, 28.4 120.3 Q 27.1 121.7, 24.8 121.7 Q 22.5 121.7, 21.2 120.3 Q 20.0 118.8, 20.0 116.3 M 24.8 120.5 Q 26.4 120.5, 27.3 119.5 Q 28.2 118.4, 28.2 116.3 Q 28.2 114.2, 27.3 113.2 Q 26.4 112.1, 24.8 112.1 Q 23.2 112.1, 22.3 113.2 Q 21.5 114.2, 21.5 116.3 Q 21.5 118.4, 22.3 119.5 Q 23.2 120.5, 24.8 120.5 \" fill=\"#FF0000\"/>\n<path class=\"atom-13\" d=\"M 20.2 47.8 L 21.6 47.8 L 21.6 52.2 L 26.9 52.2 L 26.9 47.8 L 28.4 47.8 L 28.4 58.2 L 26.9 58.2 L 26.9 53.4 L 21.6 53.4 L 21.6 58.2 L 20.2 58.2 L 20.2 47.8 \" fill=\"#FF0000\"/>\n<path class=\"atom-13\" d=\"M 30.5 53.0 Q 30.5 50.4, 31.8 49.0 Q 33.0 47.6, 35.3 47.6 Q 37.7 47.6, 38.9 49.0 Q 40.2 50.4, 40.2 53.0 Q 40.2 55.5, 38.9 57.0 Q 37.6 58.4, 35.3 58.4 Q 33.0 58.4, 31.8 57.0 Q 30.5 55.5, 30.5 53.0 M 35.3 57.2 Q 36.9 57.2, 37.8 56.2 Q 38.7 55.1, 38.7 53.0 Q 38.7 50.9, 37.8 49.9 Q 36.9 48.8, 35.3 48.8 Q 33.7 48.8, 32.9 49.9 Q 32.0 50.9, 32.0 53.0 Q 32.0 55.1, 32.9 56.2 Q 33.7 57.2, 35.3 57.2 \" fill=\"#FF0000\"/>\n<path class=\"atom-36\" d=\"M 20.5 283.3 Q 20.5 280.8, 21.7 279.4 Q 23.0 277.9, 25.3 277.9 Q 27.6 277.9, 28.9 279.4 Q 30.1 280.8, 30.1 283.3 Q 30.1 285.8, 28.8 287.3 Q 27.6 288.7, 25.3 288.7 Q 23.0 288.7, 21.7 287.3 Q 20.5 285.8, 20.5 283.3 M 25.3 287.5 Q 26.9 287.5, 27.7 286.5 Q 28.6 285.4, 28.6 283.3 Q 28.6 281.2, 27.7 280.2 Q 26.9 279.1, 25.3 279.1 Q 23.7 279.1, 22.8 280.2 Q 21.9 281.2, 21.9 283.3 Q 21.9 285.4, 22.8 286.5 Q 23.7 287.5, 25.3 287.5 \" fill=\"#FF0000\"/>\n<path class=\"atom-37\" d=\"M 20.1 341.5 L 21.6 341.5 L 21.6 345.9 L 26.9 345.9 L 26.9 341.5 L 28.3 341.5 L 28.3 351.9 L 26.9 351.9 L 26.9 347.1 L 21.6 347.1 L 21.6 351.9 L 20.1 351.9 L 20.1 341.5 \" fill=\"#FF0000\"/>\n<path class=\"atom-37\" d=\"M 30.5 346.7 Q 30.5 344.2, 31.7 342.7 Q 33.0 341.3, 35.3 341.3 Q 37.6 341.3, 38.9 342.7 Q 40.1 344.2, 40.1 346.7 Q 40.1 349.2, 38.9 350.7 Q 37.6 352.1, 35.3 352.1 Q 33.0 352.1, 31.7 350.7 Q 30.5 349.2, 30.5 346.7 M 35.3 350.9 Q 36.9 350.9, 37.8 349.9 Q 38.7 348.8, 38.7 346.7 Q 38.7 344.6, 37.8 343.6 Q 36.9 342.5, 35.3 342.5 Q 33.7 342.5, 32.8 343.6 Q 32.0 344.6, 32.0 346.7 Q 32.0 348.8, 32.8 349.9 Q 33.7 350.9, 35.3 350.9 \" fill=\"#FF0000\"/>\n<path class=\"atom-38\" d=\"M 186.3 156.5 L 189.7 162.1 Q 190.1 162.6, 190.6 163.6 Q 191.2 164.6, 191.2 164.7 L 191.2 156.5 L 192.6 156.5 L 192.6 167.0 L 191.1 167.0 L 187.5 160.9 Q 187.0 160.2, 186.6 159.4 Q 186.1 158.6, 186.0 158.3 L 186.0 167.0 L 184.6 167.0 L 184.6 156.5 L 186.3 156.5 \" fill=\"#0000FF\"/>\n<path class=\"atom-39\" d=\"M 262.2 156.5 L 265.7 162.1 Q 266.0 162.6, 266.6 163.6 Q 267.1 164.6, 267.2 164.7 L 267.2 156.5 L 268.5 156.5 L 268.5 167.0 L 267.1 167.0 L 263.4 160.9 Q 263.0 160.2, 262.5 159.4 Q 262.1 158.6, 261.9 158.3 L 261.9 167.0 L 260.6 167.0 L 260.6 156.5 L 262.2 156.5 \" fill=\"#0000FF\"/>\n<path class=\"atom-40\" d=\"M 262.2 233.4 L 265.7 239.0 Q 266.0 239.5, 266.6 240.5 Q 267.1 241.5, 267.2 241.6 L 267.2 233.4 L 268.5 233.4 L 268.5 243.9 L 267.1 243.9 L 263.4 237.8 Q 263.0 237.1, 262.5 236.3 Q 262.1 235.5, 261.9 235.2 L 261.9 243.9 L 260.6 243.9 L 260.6 233.4 L 262.2 233.4 \" fill=\"#0000FF\"/>\n<path class=\"atom-41\" d=\"M 186.3 233.4 L 189.7 239.0 Q 190.1 239.5, 190.6 240.5 Q 191.2 241.5, 191.2 241.6 L 191.2 233.4 L 192.6 233.4 L 192.6 243.9 L 191.1 243.9 L 187.5 237.8 Q 187.0 237.1, 186.6 236.3 Q 186.1 235.5, 186.0 235.2 L 186.0 243.9 L 184.6 243.9 L 184.6 233.4 L 186.3 233.4 \" fill=\"#0000FF\"/>\n<path class=\"atom-42\" d=\"M 215.5 195.0 L 221.8 195.0 L 221.8 196.2 L 216.9 196.2 L 216.9 199.4 L 221.2 199.4 L 221.2 200.6 L 216.9 200.6 L 216.9 205.5 L 215.5 205.5 L 215.5 195.0 \" fill=\"#000000\"/>\n<path class=\"atom-42\" d=\"M 222.7 201.6 Q 222.7 199.8, 223.7 198.8 Q 224.6 197.7, 226.3 197.7 Q 228.0 197.7, 228.7 198.7 Q 229.5 199.7, 229.5 201.6 L 229.5 201.8 L 224.2 201.8 Q 224.2 203.1, 224.8 203.8 Q 225.4 204.5, 226.4 204.5 Q 227.0 204.5, 227.6 204.4 Q 228.1 204.2, 228.8 203.9 L 229.2 204.9 Q 228.4 205.2, 227.8 205.4 Q 227.1 205.6, 226.4 205.6 Q 224.6 205.6, 223.7 204.5 Q 222.7 203.5, 222.7 201.6 M 226.3 198.8 Q 225.4 198.8, 224.9 199.3 Q 224.4 199.8, 224.2 200.8 L 228.0 200.8 Q 227.9 199.8, 227.5 199.3 Q 227.1 198.8, 226.3 198.8 \" fill=\"#000000\"/>\n</svg>"
          },
          "metadata": {},
          "execution_count": 81
        }
      ],
      "source": [
        "SVG(\"hem_scaffold.svg\")"
      ]
    },
    {
      "cell_type": "markdown",
      "metadata": {
        "id": "_OEcc0Cxr_GT"
      },
      "source": [
        "##&nbsp; 1.7 Similarity using PARITY method"
      ]
    },
    {
      "cell_type": "markdown",
      "metadata": {
        "id": "y8beI-qIr_GT"
      },
      "source": [
        "PDBe CCDUtils supports comparison of small moelcules based on [PARITY](https://www.ncbi.nlm.nih.gov/pmc/articles/PMC5890617/) similarity score. PARITY represents the proportion of atoms of same type residing in identical topology between two small molecules"
      ]
    },
    {
      "cell_type": "code",
      "execution_count": 82,
      "metadata": {
        "id": "A79VuGDcr_GT"
      },
      "outputs": [],
      "source": [
        "from pdbeccdutils.computations.parity_method import compare_molecules"
      ]
    },
    {
      "cell_type": "code",
      "execution_count": 83,
      "metadata": {
        "id": "k1CmrndSr_GT"
      },
      "outputs": [],
      "source": [
        "heme_acetyl_cif = get_ligand_cif(\"HCO\", ligandType.CCD)\n",
        "heme_acetyl_component = ccd_reader.read_pdb_cif_file(heme_acetyl_cif).component"
      ]
    },
    {
      "cell_type": "code",
      "execution_count": 84,
      "metadata": {
        "id": "5HScCv5fr_GT"
      },
      "outputs": [],
      "source": [
        "similarity = compare_molecules(hem_component.mol_no_h, heme_acetyl_component.mol_no_h)"
      ]
    },
    {
      "cell_type": "code",
      "execution_count": 85,
      "metadata": {
        "colab": {
          "base_uri": "https://localhost:8080/"
        },
        "id": "43SXqfwnr_GT",
        "outputId": "4ccfda28-d205-404a-834b-5f3026fc1731"
      },
      "outputs": [
        {
          "output_type": "execute_result",
          "data": {
            "text/plain": [
              "ParityResult(mapping={0: 1, 4: 9, 5: 10, 6: 11, 7: 12, 38: 5, 42: 0, 40: 7, 21: 27, 2: 3, 17: 22, 39: 6, 14: 19, 1: 2, 15: 20, 16: 21, 19: 24, 20: 25, 18: 23, 22: 28, 23: 29, 24: 30, 3: 4, 28: 34, 41: 8, 31: 37, 30: 36, 29: 35, 32: 38, 33: 39, 34: 40, 35: 41, 36: 42, 37: 43, 26: 32, 27: 33, 25: 31, 8: 13, 9: 14, 10: 15, 11: 16, 12: 17, 13: 18}, similarity_score=0.9772727272727273)"
            ]
          },
          "metadata": {},
          "execution_count": 85
        }
      ],
      "source": [
        "similarity"
      ]
    },
    {
      "cell_type": "markdown",
      "metadata": {
        "id": "NENdxYQ7r_GU"
      },
      "source": [
        "##&nbsp; 1.8 Export to different formats"
      ]
    },
    {
      "cell_type": "markdown",
      "metadata": {
        "id": "Nj_Q15Ctr_GU"
      },
      "source": [
        "PDBe CCDUtils presently supports exporting of small molecule data to the following formats\n",
        "* CIF\n",
        "* PDB\n",
        "* SDF\n",
        "* CML"
      ]
    },
    {
      "cell_type": "code",
      "execution_count": 86,
      "metadata": {
        "id": "b-CaEJ2ur_GU"
      },
      "outputs": [],
      "source": [
        "from pdbeccdutils.core import ccd_writer"
      ]
    },
    {
      "cell_type": "code",
      "execution_count": 87,
      "metadata": {
        "id": "dmLG0A0Pr_GU"
      },
      "outputs": [],
      "source": [
        "ccd_writer.write_molecule(\"hem.sdf\",\n",
        "                          hem_component,\n",
        "                          )"
      ]
    },
    {
      "cell_type": "code",
      "execution_count": 88,
      "metadata": {
        "id": "aVvRKjzqr_GV"
      },
      "outputs": [],
      "source": [
        "ccd_writer.write_molecule(\"hem.pdb\",\n",
        "                          hem_component,\n",
        "                          )"
      ]
    },
    {
      "cell_type": "markdown",
      "metadata": {
        "id": "cHi8voZCr_GV"
      },
      "source": [
        "##&nbsp; 1.9 Use cases"
      ]
    },
    {
      "cell_type": "markdown",
      "metadata": {
        "id": "g0FpHQVyr_GV"
      },
      "source": [
        "###&nbsp; 1.9.1 Fetching DrugBank details"
      ]
    },
    {
      "cell_type": "markdown",
      "metadata": {
        "id": "s1NtuKpZr_GV"
      },
      "source": [
        "The enriched CIF files of small molecules available from [PDBeChem FTP](https://ftp.ebi.ac.uk/pub/databases/msd/pdbechem_v2) contains data fetched from DrugBank. This information can be accessed by parsing approriate category in the CIF files. The below example shows how to fetch DrugBank details of **IMATINIB**"
      ]
    },
    {
      "cell_type": "code",
      "execution_count": 89,
      "metadata": {
        "id": "X2kbaIntr_GV"
      },
      "outputs": [],
      "source": [
        "sti_cif = get_ligand_cif(\"STI\", ligandType.CCD)\n",
        "sti_component = ccd_reader.read_pdb_cif_file(sti_cif).component"
      ]
    },
    {
      "cell_type": "code",
      "execution_count": 90,
      "metadata": {
        "id": "LhgnJb5br_GV"
      },
      "outputs": [],
      "source": [
        "def get_drugbank_synonyms(component: Component) -> Set[str]:\n",
        "    \"\"\"\n",
        "    Returns synonyms from DrugBank\n",
        "\n",
        "    Args:\n",
        "        component: Component object of small molecule\n",
        "    \"\"\"\n",
        "\n",
        "    cif_block = component.ccd_cif_block\n",
        "    if \"_pdbe_chem_comp_synonyms.\" not in cif_block.get_mmcif_category_names():\n",
        "        return\n",
        "    synonyms = set()\n",
        "    synonyms_table = cif_block.find(\"_pdbe_chem_comp_synonyms.\", [\"name\", \"provenance\"])\n",
        "    for row in synonyms_table:\n",
        "        if row[\"_pdbe_chem_comp_synonyms.provenance\"] == \"DrugBank\":\n",
        "            synonyms.add(cif.as_string(row[\"_pdbe_chem_comp_synonyms.name\"]))\n",
        "    return synonyms"
      ]
    },
    {
      "cell_type": "code",
      "execution_count": 91,
      "metadata": {
        "colab": {
          "base_uri": "https://localhost:8080/"
        },
        "id": "TQbTzZb0r_GV",
        "outputId": "7eedf46e-3483-49e6-e5a0-cef420c8168d"
      },
      "outputs": [
        {
          "output_type": "execute_result",
          "data": {
            "text/plain": [
              "{'Celonib',\n",
              " 'Enliven',\n",
              " 'Imatib',\n",
              " 'Imatinib',\n",
              " 'Imatinibum',\n",
              " 'Mesylonib',\n",
              " 'Mitinab',\n",
              " 'Plivatinib',\n",
              " 'Shantinib',\n",
              " \"α-(4-methyl-1-piperazinyl)-3'-((4-(3-pyridyl)-2-pyrimidinyl)amino)-p-toluidide\"}"
            ]
          },
          "metadata": {},
          "execution_count": 91
        }
      ],
      "source": [
        "synonyms = get_drugbank_synonyms(sti_component)\n",
        "synonyms"
      ]
    },
    {
      "cell_type": "code",
      "execution_count": 92,
      "metadata": {
        "id": "Tts_E5oFr_GV"
      },
      "outputs": [],
      "source": [
        "def get_drugbank_classification(component: Component) -> Dict[str, str]:\n",
        "    \"\"\"\n",
        "    Returns DrugBank classification details\n",
        "\n",
        "    Args:\n",
        "        component: Component object of small molecule\n",
        "    \"\"\"\n",
        "    cif_block = component.ccd_cif_block\n",
        "    if \"_pdbe_chem_comp_drugbank_classification.\" not in cif_block.get_mmcif_category_names():\n",
        "        return\n",
        "    items = [\"description\", \"kingdom\", \"superclass\", \"class\", \"parent\"]\n",
        "    classification = {item: cif.as_string(cif_block.find_value(f\"_pdbe_chem_comp_drugbank_classification.{item}\")) for item in items}\n",
        "    return classification"
      ]
    },
    {
      "cell_type": "code",
      "execution_count": 93,
      "metadata": {
        "colab": {
          "base_uri": "https://localhost:8080/"
        },
        "id": "xH1UfS6Lr_GV",
        "outputId": "203a812b-460b-43e3-a923-bb6e42e5ec3a"
      },
      "outputs": [
        {
          "output_type": "execute_result",
          "data": {
            "text/plain": [
              "{'description': \"This compound belongs to the class of organic compounds known as benzanilides. These are aromatic compounds containing an anilide group in which the carboxamide group is substituted with a benzene ring. They have the general structure RNC(=O)R', where R,R'= benzene.\",\n",
              " 'kingdom': 'Organic compounds',\n",
              " 'superclass': 'Benzenoids',\n",
              " 'class': 'Benzene and substituted derivatives',\n",
              " 'parent': 'Benzanilides'}"
            ]
          },
          "metadata": {},
          "execution_count": 93
        }
      ],
      "source": [
        "get_drugbank_classification(sti_component)"
      ]
    },
    {
      "cell_type": "code",
      "execution_count": 94,
      "metadata": {
        "id": "l7b26OQHr_GV"
      },
      "outputs": [],
      "source": [
        "def get_drugbank_details(component: Component):\n",
        "    \"\"\"\n",
        "    Returns details from DrugBank such as name, id,\n",
        "    description etc.\n",
        "\n",
        "    Args:\n",
        "        component: Component object of small molecule\n",
        "\n",
        "    \"\"\"\n",
        "    cif_block = component.ccd_cif_block\n",
        "    if \"_pdbe_chem_comp_drugbank_details.\" not in cif_block.get_mmcif_category_names():\n",
        "        return\n",
        "    items = [\"drugbank_id\", \"name\", \"description\", \"mechanism_of_action\"]\n",
        "    details = defaultdict(list)\n",
        "    for item in items:\n",
        "        details[\"info\"].append(item)\n",
        "        details[\"value\"].append(cif.as_string(cif_block.find_value(f\"_pdbe_chem_comp_drugbank_details.{item}\")))\n",
        "    synonyms = get_drugbank_synonyms(component)\n",
        "    details[\"info\"].append(\"synonyms\")\n",
        "    details[\"value\"].append(', '.join(synonyms))\n",
        "    details_df = pd.DataFrame.from_dict(details)\n",
        "    return details_df\n"
      ]
    },
    {
      "cell_type": "code",
      "execution_count": 95,
      "metadata": {
        "colab": {
          "base_uri": "https://localhost:8080/",
          "height": 345
        },
        "id": "x4exoMthr_GV",
        "outputId": "97033ba0-1062-455d-943a-cd80a6c6dc3d"
      },
      "outputs": [
        {
          "output_type": "execute_result",
          "data": {
            "text/plain": [
              "                  info  \\\n",
              "0          drugbank_id   \n",
              "1                 name   \n",
              "2          description   \n",
              "3  mechanism_of_action   \n",
              "4             synonyms   \n",
              "\n",
              "                                                                                                                                                                                                                                                                                                                                                                                                                                                                                                                                                                                                                                                                                                                                                                                                                                                                                                        value  \n",
              "0                                                                                                                                                                                                                                                                                                                                                                                                                                                                                                                                                                                                                                                                                                                                                                                                                                                                                                     DB00619  \n",
              "1                                                                                                                                                                                                                                                                                                                                                                                                                                                                                                                                                                                                                                                                                                                                                                                                                                                                                                    Imatinib  \n",
              "2                                                                   Imatinib is a small molecule kinase inhibitor that revolutionized the treatment of cancer, particularly chronic myeloid leukemia, in 2001.[A249305] It was deemed a \"miracle drug\" due to its clinical success, as oncologist Dr. Brian noted that \"complete hematologic responses were observed in 53 of 54 patients with CML treated with a daily dosage of 300 mg or more and typically occurred in the first four weeks of therapy\".[A249315]. The discovery of imatinib also established a new group of therapy called \"targeted therapy\", since treatment can be tailored specifically to the unique cancer genetics of each patient.[L42220]   Imatinib was approved on February 1st ,2001 by the FDA and November 7th, 2001 by the EMA; however, its European approval has been withdrawn in October 2023.[A263036,L49746,L49751]  \n",
              "3  Imatinib mesylate is a protein-tyrosine kinase inhibitor that inhibits the BCR-ABL tyrosine kinase, the constitutively active tyrosine kinase created by the Philadelphia chromosome abnormality in CML.[L42080]Although the function of normal BCR is still unclear, ABL activation is overexpressed in various tumors and is heavily implicated in cancer cells growth and survival.[A249305,A249310] Imatinib inhibits the BCR-ABL protein by binding to the ATP pocket in the active site, thus preventing downstream phosphorylation of target protein.[A249305]  Imatinib is also an inhibitor of the receptor tyrosine kinases for platelet-derived growth factor (PDGF) and stem cell factor (SCF), c-Kit, and inhibits PDGF- and SCF-mediated cellular events. In vitro, imatinib inhibits proliferation and induces apoptosis in GIST cells, which express an activating c-Kit mutation.[L42080]  \n",
              "4                                                                                                                                                                                                                                                                                                                                                                                                                                                                                                                                                                                                                                                                                                                                   Plivatinib, Mitinab, Imatib, Enliven, Mesylonib, Imatinib, Celonib, α-(4-methyl-1-piperazinyl)-3'-((4-(3-pyridyl)-2-pyrimidinyl)amino)-p-toluidide, Imatinibum, Shantinib  "
            ],
            "text/html": [
              "\n",
              "  <div id=\"df-8c232224-1138-41d1-87e6-04044a29f639\" class=\"colab-df-container\">\n",
              "    <div>\n",
              "<style scoped>\n",
              "    .dataframe tbody tr th:only-of-type {\n",
              "        vertical-align: middle;\n",
              "    }\n",
              "\n",
              "    .dataframe tbody tr th {\n",
              "        vertical-align: top;\n",
              "    }\n",
              "\n",
              "    .dataframe thead th {\n",
              "        text-align: right;\n",
              "    }\n",
              "</style>\n",
              "<table border=\"1\" class=\"dataframe\">\n",
              "  <thead>\n",
              "    <tr style=\"text-align: right;\">\n",
              "      <th></th>\n",
              "      <th>info</th>\n",
              "      <th>value</th>\n",
              "    </tr>\n",
              "  </thead>\n",
              "  <tbody>\n",
              "    <tr>\n",
              "      <th>0</th>\n",
              "      <td>drugbank_id</td>\n",
              "      <td>DB00619</td>\n",
              "    </tr>\n",
              "    <tr>\n",
              "      <th>1</th>\n",
              "      <td>name</td>\n",
              "      <td>Imatinib</td>\n",
              "    </tr>\n",
              "    <tr>\n",
              "      <th>2</th>\n",
              "      <td>description</td>\n",
              "      <td>Imatinib is a small molecule kinase inhibitor that revolutionized the treatment of cancer, particularly chronic myeloid leukemia, in 2001.[A249305] It was deemed a \"miracle drug\" due to its clinical success, as oncologist Dr. Brian noted that \"complete hematologic responses were observed in 53 of 54 patients with CML treated with a daily dosage of 300 mg or more and typically occurred in the first four weeks of therapy\".[A249315]. The discovery of imatinib also established a new group of therapy called \"targeted therapy\", since treatment can be tailored specifically to the unique cancer genetics of each patient.[L42220]   Imatinib was approved on February 1st ,2001 by the FDA and November 7th, 2001 by the EMA; however, its European approval has been withdrawn in October 2023.[A263036,L49746,L49751]</td>\n",
              "    </tr>\n",
              "    <tr>\n",
              "      <th>3</th>\n",
              "      <td>mechanism_of_action</td>\n",
              "      <td>Imatinib mesylate is a protein-tyrosine kinase inhibitor that inhibits the BCR-ABL tyrosine kinase, the constitutively active tyrosine kinase created by the Philadelphia chromosome abnormality in CML.[L42080]Although the function of normal BCR is still unclear, ABL activation is overexpressed in various tumors and is heavily implicated in cancer cells growth and survival.[A249305,A249310] Imatinib inhibits the BCR-ABL protein by binding to the ATP pocket in the active site, thus preventing downstream phosphorylation of target protein.[A249305]  Imatinib is also an inhibitor of the receptor tyrosine kinases for platelet-derived growth factor (PDGF) and stem cell factor (SCF), c-Kit, and inhibits PDGF- and SCF-mediated cellular events. In vitro, imatinib inhibits proliferation and induces apoptosis in GIST cells, which express an activating c-Kit mutation.[L42080]</td>\n",
              "    </tr>\n",
              "    <tr>\n",
              "      <th>4</th>\n",
              "      <td>synonyms</td>\n",
              "      <td>Plivatinib, Mitinab, Imatib, Enliven, Mesylonib, Imatinib, Celonib, α-(4-methyl-1-piperazinyl)-3'-((4-(3-pyridyl)-2-pyrimidinyl)amino)-p-toluidide, Imatinibum, Shantinib</td>\n",
              "    </tr>\n",
              "  </tbody>\n",
              "</table>\n",
              "</div>\n",
              "    <div class=\"colab-df-buttons\">\n",
              "\n",
              "  <div class=\"colab-df-container\">\n",
              "    <button class=\"colab-df-convert\" onclick=\"convertToInteractive('df-8c232224-1138-41d1-87e6-04044a29f639')\"\n",
              "            title=\"Convert this dataframe to an interactive table.\"\n",
              "            style=\"display:none;\">\n",
              "\n",
              "  <svg xmlns=\"http://www.w3.org/2000/svg\" height=\"24px\" viewBox=\"0 -960 960 960\">\n",
              "    <path d=\"M120-120v-720h720v720H120Zm60-500h600v-160H180v160Zm220 220h160v-160H400v160Zm0 220h160v-160H400v160ZM180-400h160v-160H180v160Zm440 0h160v-160H620v160ZM180-180h160v-160H180v160Zm440 0h160v-160H620v160Z\"/>\n",
              "  </svg>\n",
              "    </button>\n",
              "\n",
              "  <style>\n",
              "    .colab-df-container {\n",
              "      display:flex;\n",
              "      gap: 12px;\n",
              "    }\n",
              "\n",
              "    .colab-df-convert {\n",
              "      background-color: #E8F0FE;\n",
              "      border: none;\n",
              "      border-radius: 50%;\n",
              "      cursor: pointer;\n",
              "      display: none;\n",
              "      fill: #1967D2;\n",
              "      height: 32px;\n",
              "      padding: 0 0 0 0;\n",
              "      width: 32px;\n",
              "    }\n",
              "\n",
              "    .colab-df-convert:hover {\n",
              "      background-color: #E2EBFA;\n",
              "      box-shadow: 0px 1px 2px rgba(60, 64, 67, 0.3), 0px 1px 3px 1px rgba(60, 64, 67, 0.15);\n",
              "      fill: #174EA6;\n",
              "    }\n",
              "\n",
              "    .colab-df-buttons div {\n",
              "      margin-bottom: 4px;\n",
              "    }\n",
              "\n",
              "    [theme=dark] .colab-df-convert {\n",
              "      background-color: #3B4455;\n",
              "      fill: #D2E3FC;\n",
              "    }\n",
              "\n",
              "    [theme=dark] .colab-df-convert:hover {\n",
              "      background-color: #434B5C;\n",
              "      box-shadow: 0px 1px 3px 1px rgba(0, 0, 0, 0.15);\n",
              "      filter: drop-shadow(0px 1px 2px rgba(0, 0, 0, 0.3));\n",
              "      fill: #FFFFFF;\n",
              "    }\n",
              "  </style>\n",
              "\n",
              "    <script>\n",
              "      const buttonEl =\n",
              "        document.querySelector('#df-8c232224-1138-41d1-87e6-04044a29f639 button.colab-df-convert');\n",
              "      buttonEl.style.display =\n",
              "        google.colab.kernel.accessAllowed ? 'block' : 'none';\n",
              "\n",
              "      async function convertToInteractive(key) {\n",
              "        const element = document.querySelector('#df-8c232224-1138-41d1-87e6-04044a29f639');\n",
              "        const dataTable =\n",
              "          await google.colab.kernel.invokeFunction('convertToInteractive',\n",
              "                                                    [key], {});\n",
              "        if (!dataTable) return;\n",
              "\n",
              "        const docLinkHtml = 'Like what you see? Visit the ' +\n",
              "          '<a target=\"_blank\" href=https://colab.research.google.com/notebooks/data_table.ipynb>data table notebook</a>'\n",
              "          + ' to learn more about interactive tables.';\n",
              "        element.innerHTML = '';\n",
              "        dataTable['output_type'] = 'display_data';\n",
              "        await google.colab.output.renderOutput(dataTable, element);\n",
              "        const docLink = document.createElement('div');\n",
              "        docLink.innerHTML = docLinkHtml;\n",
              "        element.appendChild(docLink);\n",
              "      }\n",
              "    </script>\n",
              "  </div>\n",
              "\n",
              "\n",
              "<div id=\"df-8e9a4330-9060-4da3-81bd-4014ca42ef8f\">\n",
              "  <button class=\"colab-df-quickchart\" onclick=\"quickchart('df-8e9a4330-9060-4da3-81bd-4014ca42ef8f')\"\n",
              "            title=\"Suggest charts\"\n",
              "            style=\"display:none;\">\n",
              "\n",
              "<svg xmlns=\"http://www.w3.org/2000/svg\" height=\"24px\"viewBox=\"0 0 24 24\"\n",
              "     width=\"24px\">\n",
              "    <g>\n",
              "        <path d=\"M19 3H5c-1.1 0-2 .9-2 2v14c0 1.1.9 2 2 2h14c1.1 0 2-.9 2-2V5c0-1.1-.9-2-2-2zM9 17H7v-7h2v7zm4 0h-2V7h2v10zm4 0h-2v-4h2v4z\"/>\n",
              "    </g>\n",
              "</svg>\n",
              "  </button>\n",
              "\n",
              "<style>\n",
              "  .colab-df-quickchart {\n",
              "      --bg-color: #E8F0FE;\n",
              "      --fill-color: #1967D2;\n",
              "      --hover-bg-color: #E2EBFA;\n",
              "      --hover-fill-color: #174EA6;\n",
              "      --disabled-fill-color: #AAA;\n",
              "      --disabled-bg-color: #DDD;\n",
              "  }\n",
              "\n",
              "  [theme=dark] .colab-df-quickchart {\n",
              "      --bg-color: #3B4455;\n",
              "      --fill-color: #D2E3FC;\n",
              "      --hover-bg-color: #434B5C;\n",
              "      --hover-fill-color: #FFFFFF;\n",
              "      --disabled-bg-color: #3B4455;\n",
              "      --disabled-fill-color: #666;\n",
              "  }\n",
              "\n",
              "  .colab-df-quickchart {\n",
              "    background-color: var(--bg-color);\n",
              "    border: none;\n",
              "    border-radius: 50%;\n",
              "    cursor: pointer;\n",
              "    display: none;\n",
              "    fill: var(--fill-color);\n",
              "    height: 32px;\n",
              "    padding: 0;\n",
              "    width: 32px;\n",
              "  }\n",
              "\n",
              "  .colab-df-quickchart:hover {\n",
              "    background-color: var(--hover-bg-color);\n",
              "    box-shadow: 0 1px 2px rgba(60, 64, 67, 0.3), 0 1px 3px 1px rgba(60, 64, 67, 0.15);\n",
              "    fill: var(--button-hover-fill-color);\n",
              "  }\n",
              "\n",
              "  .colab-df-quickchart-complete:disabled,\n",
              "  .colab-df-quickchart-complete:disabled:hover {\n",
              "    background-color: var(--disabled-bg-color);\n",
              "    fill: var(--disabled-fill-color);\n",
              "    box-shadow: none;\n",
              "  }\n",
              "\n",
              "  .colab-df-spinner {\n",
              "    border: 2px solid var(--fill-color);\n",
              "    border-color: transparent;\n",
              "    border-bottom-color: var(--fill-color);\n",
              "    animation:\n",
              "      spin 1s steps(1) infinite;\n",
              "  }\n",
              "\n",
              "  @keyframes spin {\n",
              "    0% {\n",
              "      border-color: transparent;\n",
              "      border-bottom-color: var(--fill-color);\n",
              "      border-left-color: var(--fill-color);\n",
              "    }\n",
              "    20% {\n",
              "      border-color: transparent;\n",
              "      border-left-color: var(--fill-color);\n",
              "      border-top-color: var(--fill-color);\n",
              "    }\n",
              "    30% {\n",
              "      border-color: transparent;\n",
              "      border-left-color: var(--fill-color);\n",
              "      border-top-color: var(--fill-color);\n",
              "      border-right-color: var(--fill-color);\n",
              "    }\n",
              "    40% {\n",
              "      border-color: transparent;\n",
              "      border-right-color: var(--fill-color);\n",
              "      border-top-color: var(--fill-color);\n",
              "    }\n",
              "    60% {\n",
              "      border-color: transparent;\n",
              "      border-right-color: var(--fill-color);\n",
              "    }\n",
              "    80% {\n",
              "      border-color: transparent;\n",
              "      border-right-color: var(--fill-color);\n",
              "      border-bottom-color: var(--fill-color);\n",
              "    }\n",
              "    90% {\n",
              "      border-color: transparent;\n",
              "      border-bottom-color: var(--fill-color);\n",
              "    }\n",
              "  }\n",
              "</style>\n",
              "\n",
              "  <script>\n",
              "    async function quickchart(key) {\n",
              "      const quickchartButtonEl =\n",
              "        document.querySelector('#' + key + ' button');\n",
              "      quickchartButtonEl.disabled = true;  // To prevent multiple clicks.\n",
              "      quickchartButtonEl.classList.add('colab-df-spinner');\n",
              "      try {\n",
              "        const charts = await google.colab.kernel.invokeFunction(\n",
              "            'suggestCharts', [key], {});\n",
              "      } catch (error) {\n",
              "        console.error('Error during call to suggestCharts:', error);\n",
              "      }\n",
              "      quickchartButtonEl.classList.remove('colab-df-spinner');\n",
              "      quickchartButtonEl.classList.add('colab-df-quickchart-complete');\n",
              "    }\n",
              "    (() => {\n",
              "      let quickchartButtonEl =\n",
              "        document.querySelector('#df-8e9a4330-9060-4da3-81bd-4014ca42ef8f button');\n",
              "      quickchartButtonEl.style.display =\n",
              "        google.colab.kernel.accessAllowed ? 'block' : 'none';\n",
              "    })();\n",
              "  </script>\n",
              "</div>\n",
              "\n",
              "    </div>\n",
              "  </div>\n"
            ],
            "application/vnd.google.colaboratory.intrinsic+json": {
              "type": "dataframe",
              "summary": "{\n  \"name\": \"get_drugbank_details(sti_component)\",\n  \"rows\": 5,\n  \"fields\": [\n    {\n      \"column\": \"info\",\n      \"properties\": {\n        \"dtype\": \"string\",\n        \"num_unique_values\": 5,\n        \"samples\": [\n          \"name\",\n          \"synonyms\",\n          \"description\"\n        ],\n        \"semantic_type\": \"\",\n        \"description\": \"\"\n      }\n    },\n    {\n      \"column\": \"value\",\n      \"properties\": {\n        \"dtype\": \"string\",\n        \"num_unique_values\": 5,\n        \"samples\": [\n          \"Imatinib\",\n          \"Plivatinib, Mitinab, Imatib, Enliven, Mesylonib, Imatinib, Celonib, \\u03b1-(4-methyl-1-piperazinyl)-3'-((4-(3-pyridyl)-2-pyrimidinyl)amino)-p-toluidide, Imatinibum, Shantinib\",\n          \"Imatinib is a small molecule kinase inhibitor that revolutionized the treatment of cancer, particularly chronic myeloid leukemia, in 2001.[A249305] It was deemed a \\\"miracle drug\\\" due to its clinical success, as oncologist Dr. Brian noted that \\\"complete hematologic responses were observed in 53 of 54 patients with CML treated with a daily dosage of 300 mg or more and typically occurred in the first four weeks of therapy\\\".[A249315]. The discovery of imatinib also established a new group of therapy called \\\"targeted therapy\\\", since treatment can be tailored specifically to the unique cancer genetics of each patient.[L42220]   Imatinib was approved on February 1st ,2001 by the FDA and November 7th, 2001 by the EMA; however, its European approval has been withdrawn in October 2023.[A263036,L49746,L49751]\"\n        ],\n        \"semantic_type\": \"\",\n        \"description\": \"\"\n      }\n    }\n  ]\n}"
            }
          },
          "metadata": {},
          "execution_count": 95
        }
      ],
      "source": [
        "pd.set_option('display.max_colwidth', None)\n",
        "get_drugbank_details(sti_component)"
      ]
    },
    {
      "cell_type": "code",
      "execution_count": 96,
      "metadata": {
        "id": "27JCVSBer_GW"
      },
      "outputs": [],
      "source": [
        "def get_drugbank_targets(component: Component) -> pd.DataFrame:\n",
        "    \"\"\"\n",
        "    Returns target information from DrugBank\n",
        "\n",
        "    Args:\n",
        "        component: Component object of small molecule\n",
        "    \"\"\"\n",
        "    cif_block = component.ccd_cif_block\n",
        "    if \"_pdbe_chem_comp_drugbank_targets.\" not in cif_block.get_mmcif_category_names():\n",
        "        return\n",
        "    items = [\"name\", \"organism\", \"uniprot_id\", \"pharmacologically_active\"]\n",
        "    targets = cif_block.find(\"_pdbe_chem_comp_drugbank_targets.\", items)\n",
        "    targets_info = defaultdict(list)\n",
        "    for row in targets:\n",
        "        for item in items:\n",
        "            targets_info[item].append(cif.as_string(row[f\"_pdbe_chem_comp_drugbank_targets.{item}\"]))\n",
        "    targets_df = pd.DataFrame.from_dict(targets_info)\n",
        "    return targets_df\n"
      ]
    },
    {
      "cell_type": "code",
      "execution_count": 97,
      "metadata": {
        "colab": {
          "base_uri": "https://localhost:8080/",
          "height": 363
        },
        "id": "6Cy86U7mr_GW",
        "outputId": "39e68284-6b50-4001-9736-81d640ebd1ef"
      },
      "outputs": [
        {
          "output_type": "execute_result",
          "data": {
            "text/plain": [
              "                                                  name organism uniprot_id  \\\n",
              "0                    Breakpoint cluster region protein   Humans     P11274   \n",
              "1            Mast/stem cell growth factor receptor Kit   Humans     P10721   \n",
              "2  Proto-oncogene tyrosine-protein kinase receptor Ret   Humans     P07949   \n",
              "3           High affinity nerve growth factor receptor   Humans     P04629   \n",
              "4      Macrophage colony-stimulating factor 1 receptor   Humans     P07333   \n",
              "5        Platelet-derived growth factor receptor alpha   Humans     P16234   \n",
              "6    Epithelial discoidin domain-containing receptor 1   Humans     Q08345   \n",
              "7                         Tyrosine-protein kinase ABL1   Humans     P00519   \n",
              "8         Platelet-derived growth factor receptor beta   Humans     P09619   \n",
              "9               Discoidin domain-containing receptor 2   Humans     Q16832   \n",
              "\n",
              "  pharmacologically_active  \n",
              "0                      yes  \n",
              "1                      yes  \n",
              "2                      yes  \n",
              "3                  unknown  \n",
              "4                  unknown  \n",
              "5                      yes  \n",
              "6                  unknown  \n",
              "7                      yes  \n",
              "8                      yes  \n",
              "9                  unknown  "
            ],
            "text/html": [
              "\n",
              "  <div id=\"df-7ac0ebc8-154a-46e1-a5fc-98a3dd6cd272\" class=\"colab-df-container\">\n",
              "    <div>\n",
              "<style scoped>\n",
              "    .dataframe tbody tr th:only-of-type {\n",
              "        vertical-align: middle;\n",
              "    }\n",
              "\n",
              "    .dataframe tbody tr th {\n",
              "        vertical-align: top;\n",
              "    }\n",
              "\n",
              "    .dataframe thead th {\n",
              "        text-align: right;\n",
              "    }\n",
              "</style>\n",
              "<table border=\"1\" class=\"dataframe\">\n",
              "  <thead>\n",
              "    <tr style=\"text-align: right;\">\n",
              "      <th></th>\n",
              "      <th>name</th>\n",
              "      <th>organism</th>\n",
              "      <th>uniprot_id</th>\n",
              "      <th>pharmacologically_active</th>\n",
              "    </tr>\n",
              "  </thead>\n",
              "  <tbody>\n",
              "    <tr>\n",
              "      <th>0</th>\n",
              "      <td>Breakpoint cluster region protein</td>\n",
              "      <td>Humans</td>\n",
              "      <td>P11274</td>\n",
              "      <td>yes</td>\n",
              "    </tr>\n",
              "    <tr>\n",
              "      <th>1</th>\n",
              "      <td>Mast/stem cell growth factor receptor Kit</td>\n",
              "      <td>Humans</td>\n",
              "      <td>P10721</td>\n",
              "      <td>yes</td>\n",
              "    </tr>\n",
              "    <tr>\n",
              "      <th>2</th>\n",
              "      <td>Proto-oncogene tyrosine-protein kinase receptor Ret</td>\n",
              "      <td>Humans</td>\n",
              "      <td>P07949</td>\n",
              "      <td>yes</td>\n",
              "    </tr>\n",
              "    <tr>\n",
              "      <th>3</th>\n",
              "      <td>High affinity nerve growth factor receptor</td>\n",
              "      <td>Humans</td>\n",
              "      <td>P04629</td>\n",
              "      <td>unknown</td>\n",
              "    </tr>\n",
              "    <tr>\n",
              "      <th>4</th>\n",
              "      <td>Macrophage colony-stimulating factor 1 receptor</td>\n",
              "      <td>Humans</td>\n",
              "      <td>P07333</td>\n",
              "      <td>unknown</td>\n",
              "    </tr>\n",
              "    <tr>\n",
              "      <th>5</th>\n",
              "      <td>Platelet-derived growth factor receptor alpha</td>\n",
              "      <td>Humans</td>\n",
              "      <td>P16234</td>\n",
              "      <td>yes</td>\n",
              "    </tr>\n",
              "    <tr>\n",
              "      <th>6</th>\n",
              "      <td>Epithelial discoidin domain-containing receptor 1</td>\n",
              "      <td>Humans</td>\n",
              "      <td>Q08345</td>\n",
              "      <td>unknown</td>\n",
              "    </tr>\n",
              "    <tr>\n",
              "      <th>7</th>\n",
              "      <td>Tyrosine-protein kinase ABL1</td>\n",
              "      <td>Humans</td>\n",
              "      <td>P00519</td>\n",
              "      <td>yes</td>\n",
              "    </tr>\n",
              "    <tr>\n",
              "      <th>8</th>\n",
              "      <td>Platelet-derived growth factor receptor beta</td>\n",
              "      <td>Humans</td>\n",
              "      <td>P09619</td>\n",
              "      <td>yes</td>\n",
              "    </tr>\n",
              "    <tr>\n",
              "      <th>9</th>\n",
              "      <td>Discoidin domain-containing receptor 2</td>\n",
              "      <td>Humans</td>\n",
              "      <td>Q16832</td>\n",
              "      <td>unknown</td>\n",
              "    </tr>\n",
              "  </tbody>\n",
              "</table>\n",
              "</div>\n",
              "    <div class=\"colab-df-buttons\">\n",
              "\n",
              "  <div class=\"colab-df-container\">\n",
              "    <button class=\"colab-df-convert\" onclick=\"convertToInteractive('df-7ac0ebc8-154a-46e1-a5fc-98a3dd6cd272')\"\n",
              "            title=\"Convert this dataframe to an interactive table.\"\n",
              "            style=\"display:none;\">\n",
              "\n",
              "  <svg xmlns=\"http://www.w3.org/2000/svg\" height=\"24px\" viewBox=\"0 -960 960 960\">\n",
              "    <path d=\"M120-120v-720h720v720H120Zm60-500h600v-160H180v160Zm220 220h160v-160H400v160Zm0 220h160v-160H400v160ZM180-400h160v-160H180v160Zm440 0h160v-160H620v160ZM180-180h160v-160H180v160Zm440 0h160v-160H620v160Z\"/>\n",
              "  </svg>\n",
              "    </button>\n",
              "\n",
              "  <style>\n",
              "    .colab-df-container {\n",
              "      display:flex;\n",
              "      gap: 12px;\n",
              "    }\n",
              "\n",
              "    .colab-df-convert {\n",
              "      background-color: #E8F0FE;\n",
              "      border: none;\n",
              "      border-radius: 50%;\n",
              "      cursor: pointer;\n",
              "      display: none;\n",
              "      fill: #1967D2;\n",
              "      height: 32px;\n",
              "      padding: 0 0 0 0;\n",
              "      width: 32px;\n",
              "    }\n",
              "\n",
              "    .colab-df-convert:hover {\n",
              "      background-color: #E2EBFA;\n",
              "      box-shadow: 0px 1px 2px rgba(60, 64, 67, 0.3), 0px 1px 3px 1px rgba(60, 64, 67, 0.15);\n",
              "      fill: #174EA6;\n",
              "    }\n",
              "\n",
              "    .colab-df-buttons div {\n",
              "      margin-bottom: 4px;\n",
              "    }\n",
              "\n",
              "    [theme=dark] .colab-df-convert {\n",
              "      background-color: #3B4455;\n",
              "      fill: #D2E3FC;\n",
              "    }\n",
              "\n",
              "    [theme=dark] .colab-df-convert:hover {\n",
              "      background-color: #434B5C;\n",
              "      box-shadow: 0px 1px 3px 1px rgba(0, 0, 0, 0.15);\n",
              "      filter: drop-shadow(0px 1px 2px rgba(0, 0, 0, 0.3));\n",
              "      fill: #FFFFFF;\n",
              "    }\n",
              "  </style>\n",
              "\n",
              "    <script>\n",
              "      const buttonEl =\n",
              "        document.querySelector('#df-7ac0ebc8-154a-46e1-a5fc-98a3dd6cd272 button.colab-df-convert');\n",
              "      buttonEl.style.display =\n",
              "        google.colab.kernel.accessAllowed ? 'block' : 'none';\n",
              "\n",
              "      async function convertToInteractive(key) {\n",
              "        const element = document.querySelector('#df-7ac0ebc8-154a-46e1-a5fc-98a3dd6cd272');\n",
              "        const dataTable =\n",
              "          await google.colab.kernel.invokeFunction('convertToInteractive',\n",
              "                                                    [key], {});\n",
              "        if (!dataTable) return;\n",
              "\n",
              "        const docLinkHtml = 'Like what you see? Visit the ' +\n",
              "          '<a target=\"_blank\" href=https://colab.research.google.com/notebooks/data_table.ipynb>data table notebook</a>'\n",
              "          + ' to learn more about interactive tables.';\n",
              "        element.innerHTML = '';\n",
              "        dataTable['output_type'] = 'display_data';\n",
              "        await google.colab.output.renderOutput(dataTable, element);\n",
              "        const docLink = document.createElement('div');\n",
              "        docLink.innerHTML = docLinkHtml;\n",
              "        element.appendChild(docLink);\n",
              "      }\n",
              "    </script>\n",
              "  </div>\n",
              "\n",
              "\n",
              "<div id=\"df-83944a1c-710b-44bd-9ab5-038f0452bdec\">\n",
              "  <button class=\"colab-df-quickchart\" onclick=\"quickchart('df-83944a1c-710b-44bd-9ab5-038f0452bdec')\"\n",
              "            title=\"Suggest charts\"\n",
              "            style=\"display:none;\">\n",
              "\n",
              "<svg xmlns=\"http://www.w3.org/2000/svg\" height=\"24px\"viewBox=\"0 0 24 24\"\n",
              "     width=\"24px\">\n",
              "    <g>\n",
              "        <path d=\"M19 3H5c-1.1 0-2 .9-2 2v14c0 1.1.9 2 2 2h14c1.1 0 2-.9 2-2V5c0-1.1-.9-2-2-2zM9 17H7v-7h2v7zm4 0h-2V7h2v10zm4 0h-2v-4h2v4z\"/>\n",
              "    </g>\n",
              "</svg>\n",
              "  </button>\n",
              "\n",
              "<style>\n",
              "  .colab-df-quickchart {\n",
              "      --bg-color: #E8F0FE;\n",
              "      --fill-color: #1967D2;\n",
              "      --hover-bg-color: #E2EBFA;\n",
              "      --hover-fill-color: #174EA6;\n",
              "      --disabled-fill-color: #AAA;\n",
              "      --disabled-bg-color: #DDD;\n",
              "  }\n",
              "\n",
              "  [theme=dark] .colab-df-quickchart {\n",
              "      --bg-color: #3B4455;\n",
              "      --fill-color: #D2E3FC;\n",
              "      --hover-bg-color: #434B5C;\n",
              "      --hover-fill-color: #FFFFFF;\n",
              "      --disabled-bg-color: #3B4455;\n",
              "      --disabled-fill-color: #666;\n",
              "  }\n",
              "\n",
              "  .colab-df-quickchart {\n",
              "    background-color: var(--bg-color);\n",
              "    border: none;\n",
              "    border-radius: 50%;\n",
              "    cursor: pointer;\n",
              "    display: none;\n",
              "    fill: var(--fill-color);\n",
              "    height: 32px;\n",
              "    padding: 0;\n",
              "    width: 32px;\n",
              "  }\n",
              "\n",
              "  .colab-df-quickchart:hover {\n",
              "    background-color: var(--hover-bg-color);\n",
              "    box-shadow: 0 1px 2px rgba(60, 64, 67, 0.3), 0 1px 3px 1px rgba(60, 64, 67, 0.15);\n",
              "    fill: var(--button-hover-fill-color);\n",
              "  }\n",
              "\n",
              "  .colab-df-quickchart-complete:disabled,\n",
              "  .colab-df-quickchart-complete:disabled:hover {\n",
              "    background-color: var(--disabled-bg-color);\n",
              "    fill: var(--disabled-fill-color);\n",
              "    box-shadow: none;\n",
              "  }\n",
              "\n",
              "  .colab-df-spinner {\n",
              "    border: 2px solid var(--fill-color);\n",
              "    border-color: transparent;\n",
              "    border-bottom-color: var(--fill-color);\n",
              "    animation:\n",
              "      spin 1s steps(1) infinite;\n",
              "  }\n",
              "\n",
              "  @keyframes spin {\n",
              "    0% {\n",
              "      border-color: transparent;\n",
              "      border-bottom-color: var(--fill-color);\n",
              "      border-left-color: var(--fill-color);\n",
              "    }\n",
              "    20% {\n",
              "      border-color: transparent;\n",
              "      border-left-color: var(--fill-color);\n",
              "      border-top-color: var(--fill-color);\n",
              "    }\n",
              "    30% {\n",
              "      border-color: transparent;\n",
              "      border-left-color: var(--fill-color);\n",
              "      border-top-color: var(--fill-color);\n",
              "      border-right-color: var(--fill-color);\n",
              "    }\n",
              "    40% {\n",
              "      border-color: transparent;\n",
              "      border-right-color: var(--fill-color);\n",
              "      border-top-color: var(--fill-color);\n",
              "    }\n",
              "    60% {\n",
              "      border-color: transparent;\n",
              "      border-right-color: var(--fill-color);\n",
              "    }\n",
              "    80% {\n",
              "      border-color: transparent;\n",
              "      border-right-color: var(--fill-color);\n",
              "      border-bottom-color: var(--fill-color);\n",
              "    }\n",
              "    90% {\n",
              "      border-color: transparent;\n",
              "      border-bottom-color: var(--fill-color);\n",
              "    }\n",
              "  }\n",
              "</style>\n",
              "\n",
              "  <script>\n",
              "    async function quickchart(key) {\n",
              "      const quickchartButtonEl =\n",
              "        document.querySelector('#' + key + ' button');\n",
              "      quickchartButtonEl.disabled = true;  // To prevent multiple clicks.\n",
              "      quickchartButtonEl.classList.add('colab-df-spinner');\n",
              "      try {\n",
              "        const charts = await google.colab.kernel.invokeFunction(\n",
              "            'suggestCharts', [key], {});\n",
              "      } catch (error) {\n",
              "        console.error('Error during call to suggestCharts:', error);\n",
              "      }\n",
              "      quickchartButtonEl.classList.remove('colab-df-spinner');\n",
              "      quickchartButtonEl.classList.add('colab-df-quickchart-complete');\n",
              "    }\n",
              "    (() => {\n",
              "      let quickchartButtonEl =\n",
              "        document.querySelector('#df-83944a1c-710b-44bd-9ab5-038f0452bdec button');\n",
              "      quickchartButtonEl.style.display =\n",
              "        google.colab.kernel.accessAllowed ? 'block' : 'none';\n",
              "    })();\n",
              "  </script>\n",
              "</div>\n",
              "\n",
              "    </div>\n",
              "  </div>\n"
            ],
            "application/vnd.google.colaboratory.intrinsic+json": {
              "type": "dataframe",
              "summary": "{\n  \"name\": \"get_drugbank_targets(sti_component)\",\n  \"rows\": 10,\n  \"fields\": [\n    {\n      \"column\": \"name\",\n      \"properties\": {\n        \"dtype\": \"string\",\n        \"num_unique_values\": 10,\n        \"samples\": [\n          \"Platelet-derived growth factor receptor beta\",\n          \"Mast/stem cell growth factor receptor Kit\",\n          \"Platelet-derived growth factor receptor alpha\"\n        ],\n        \"semantic_type\": \"\",\n        \"description\": \"\"\n      }\n    },\n    {\n      \"column\": \"organism\",\n      \"properties\": {\n        \"dtype\": \"category\",\n        \"num_unique_values\": 1,\n        \"samples\": [\n          \"Humans\"\n        ],\n        \"semantic_type\": \"\",\n        \"description\": \"\"\n      }\n    },\n    {\n      \"column\": \"uniprot_id\",\n      \"properties\": {\n        \"dtype\": \"string\",\n        \"num_unique_values\": 10,\n        \"samples\": [\n          \"P09619\"\n        ],\n        \"semantic_type\": \"\",\n        \"description\": \"\"\n      }\n    },\n    {\n      \"column\": \"pharmacologically_active\",\n      \"properties\": {\n        \"dtype\": \"category\",\n        \"num_unique_values\": 2,\n        \"samples\": [\n          \"unknown\"\n        ],\n        \"semantic_type\": \"\",\n        \"description\": \"\"\n      }\n    }\n  ]\n}"
            }
          },
          "metadata": {},
          "execution_count": 97
        }
      ],
      "source": [
        "get_drugbank_targets(sti_component)"
      ]
    },
    {
      "cell_type": "markdown",
      "metadata": {
        "id": "82txjXibr_GW"
      },
      "source": [
        "###&nbsp; 1.9.2 Idenitfying Covalently Linked Components from a PDB entry"
      ]
    },
    {
      "cell_type": "markdown",
      "metadata": {
        "id": "6w8MLnvBr_GW"
      },
      "source": [
        "In some PDB entries, large ligands are fragmented to smaller CCDs. For example in PDB entry [1e55](https://www.ebi.ac.uk/pdbe/entry/pdb/1e55), the competitive inhibitor **dhurrin** is in compelx with the structure, but it is split into two different CCDs - BGC and DHR. This happens due to the current wwwPDB annotation policies, which recommend splitting of large ligands to smaller CCDs to allow identification of correct stereospecificities and geometry. However, this practise obscures the small molecule data in the PDB archive and make it difficult to automatically identify and map to other databases.\n",
        "\n",
        "At PDBe, we have created a process to identify these fragmented ligands in the PDB and assign a unique identifier based on the inchikey. You can access them from [PDBeChem FTP](https://ftp.ebi.ac.uk/pub/databases/msd/pdbechem_v2/clc/). You can also use PDBe CCDUtils to create the complete representaiton of fragmented ligands in a PDB entry."
      ]
    },
    {
      "cell_type": "code",
      "execution_count": 14,
      "metadata": {
        "id": "VuIofN2Tr_GW"
      },
      "outputs": [],
      "source": [
        "from pdbeccdutils.helpers import cif_tools\n",
        "from pdbeccdutils.core.boundmolecule import infer_bound_molecules\n",
        "from pdbeccdutils.core import clc_reader"
      ]
    },
    {
      "cell_type": "code",
      "execution_count": 99,
      "metadata": {
        "id": "jcg1Lub9r_GW"
      },
      "outputs": [],
      "source": [
        "def get_clc(pdb_id: str) -> list[clc_reader.CLCReaderResult]:\n",
        "    \"\"\"\n",
        "    Returns a list of CLCReaderResults containing Component\n",
        "    object of Covalently Linked Components (CLCs)\n",
        "\n",
        "    Args:\n",
        "        pdb_id: PDB ID of an entry\n",
        "\n",
        "    \"\"\"\n",
        "    input_cif = get_entry_cif(pdb_id)\n",
        "    fixed_mmcif_file = os.path.join(f\"{pdb_id}_processed.cif\")\n",
        "\n",
        "    #Keeps only first model, removes alternate conformations of atoms and residues\n",
        "    cif_tools.fix_updated_mmcif(input_cif, fixed_mmcif_file)\n",
        "\n",
        "    #\n",
        "    bms = infer_bound_molecules(\n",
        "    fixed_mmcif_file, [\"HOH\"], assembly=False\n",
        ")\n",
        "    clc_reader_results = []\n",
        "    for i, bm in enumerate(bms, start=1):\n",
        "        bm_id = f\"bm{i}\"\n",
        "        reader_result = clc_reader.infer_multiple_chem_comp(\n",
        "            fixed_mmcif_file, bm, bm_id, sanitize=True\n",
        "        )\n",
        "        if reader_result:\n",
        "            clc_reader_results.append(reader_result)\n",
        "\n",
        "    return clc_reader_results\n"
      ]
    },
    {
      "cell_type": "code",
      "execution_count": 100,
      "metadata": {
        "colab": {
          "base_uri": "https://localhost:8080/",
          "height": 167
        },
        "id": "PetzTxumr_GX",
        "outputId": "edb2aae3-3083-40d0-9521-c12de279eed4"
      },
      "outputs": [
        {
          "output_type": "execute_result",
          "data": {
            "text/plain": [
              "<rdkit.Chem.rdchem.RWMol at 0x781aa152eb10>"
            ],
            "image/png": "[encoded data removed]"
          },
          "metadata": {},
          "execution_count": 100
        }
      ],
      "source": [
        "clc_reader_results = get_clc(\"1e55\")\n",
        "dhurrin_component = clc_reader_results[0].component\n",
        "dhurrin_component.mol"
      ]
    },
    {
      "cell_type": "code",
      "execution_count": 101,
      "metadata": {
        "colab": {
          "base_uri": "https://localhost:8080/"
        },
        "id": "RWjLqqL9r_GX",
        "outputId": "8843db50-f7d3-43ef-a77d-5cdd20e3fa86"
      },
      "outputs": [
        {
          "output_type": "execute_result",
          "data": {
            "text/plain": [
              "[('SureChEMBL', 'SCHEMBL50174'),\n",
              " ('PubChem', '161355'),\n",
              " ('eMolecules', '32231621'),\n",
              " ('PubChem TPHARMA', '24422914'),\n",
              " ('fdasrs', 'P5999IY65C'),\n",
              " ('NMRShiftDB', '60025950'),\n",
              " ('HMDB', 'HMDB0060471'),\n",
              " ('Rhea', '27826'),\n",
              " ('BRENDA', '30532'),\n",
              " ('BRENDA', '1121'),\n",
              " ('MetaboLights', 'MTBLC27826'),\n",
              " ('ChEBI', '27826'),\n",
              " ('KEGG LIGAND', 'C05143'),\n",
              " ('EPA CompTox Dashboard', 'DTXSID90198142'),\n",
              " ('ZINC', 'ZINC000004096638'),\n",
              " ('Nikkaji', 'J10.589I'),\n",
              " ('CCDC', 'QAQVIO')]"
            ]
          },
          "metadata": {},
          "execution_count": 101
        }
      ],
      "source": [
        "dhurrin_component.fetch_external_mappings(all_mappings=True)"
      ]
    },
    {
      "cell_type": "markdown",
      "metadata": {
        "id": "CmymVirer_GX"
      },
      "source": [
        "Instead of creating the complete representation of fragmented ligands from PDB entries, you can find the standardized IDs of these ligands from [interacting_chains_with_ligand_functions.tsv](https://ftp.ebi.ac.uk/pub/databases/msd/pdbechem_v2/additional_data/pdb_ligand_interactions/interacting_chains_with_ligand_functions.tsv) available from FTP. The below example shows how this can be done for the entry **1e55**."
      ]
    },
    {
      "cell_type": "code",
      "execution_count": 11,
      "metadata": {
        "id": "zApgyvx7r_GX"
      },
      "outputs": [],
      "source": [
        "import wget\n",
        "from pdbeccdutils.core import clc_reader"
      ]
    },
    {
      "cell_type": "code",
      "execution_count": 103,
      "metadata": {
        "colab": {
          "base_uri": "https://localhost:8080/",
          "height": 35
        },
        "id": "kEbzOBRar_GX",
        "outputId": "c50fbb61-d83d-4c18-ddba-6c18cc731e60"
      },
      "outputs": [
        {
          "output_type": "execute_result",
          "data": {
            "text/plain": [
              "'interacting_chains_with_ligand_functions.tsv'"
            ],
            "application/vnd.google.colaboratory.intrinsic+json": {
              "type": "string"
            }
          },
          "metadata": {},
          "execution_count": 103
        }
      ],
      "source": [
        "# This is a large file and may take some time to download.\n",
        "# It will be a good idea to remove this file before going to other session to avoid exhausting the freely available RAM\n",
        "interacting_chains = os.path.join(PDBECHEM_URL, \"additional_data\", \"pdb_ligand_interactions\", \"interacting_chains_with_ligand_functions.tsv\")\n",
        "wget.download(interacting_chains)"
      ]
    },
    {
      "cell_type": "code",
      "execution_count": 104,
      "metadata": {
        "colab": {
          "base_uri": "https://localhost:8080/",
          "height": 206
        },
        "id": "vOnvwohsr_GX",
        "outputId": "3e29aa09-a801-4a5a-dd7d-061b14662587"
      },
      "outputs": [
        {
          "output_type": "execute_result",
          "data": {
            "text/plain": [
              "  PDBID Chain_Symmetry BestUnpAccession bmID                     inchikey  \\\n",
              "0  100d              A              NaN  bm1  PFNFFQXMRSDOHW-UHFFFAOYSA-N   \n",
              "1  101d              A              NaN  bm1  JLVVSXFLKOJNIY-UHFFFAOYSA-N   \n",
              "2  101d              A              NaN  bm2  IDBIFFKSXLYUOT-UHFFFAOYSA-N   \n",
              "3  101d              B              NaN  bm1  JLVVSXFLKOJNIY-UHFFFAOYSA-N   \n",
              "4  101d              B              NaN  bm2  IDBIFFKSXLYUOT-UHFFFAOYSA-N   \n",
              "\n",
              "  LigandID LigandType annotation  \n",
              "0      SPM        CCD        NaN  \n",
              "1       MG        CCD        ion  \n",
              "2       NT        CCD        NaN  \n",
              "3       MG        CCD        ion  \n",
              "4       NT        CCD        NaN  "
            ],
            "text/html": [
              "\n",
              "  <div id=\"df-f7524cc3-4e71-4f67-8688-0e69afb5a803\" class=\"colab-df-container\">\n",
              "    <div>\n",
              "<style scoped>\n",
              "    .dataframe tbody tr th:only-of-type {\n",
              "        vertical-align: middle;\n",
              "    }\n",
              "\n",
              "    .dataframe tbody tr th {\n",
              "        vertical-align: top;\n",
              "    }\n",
              "\n",
              "    .dataframe thead th {\n",
              "        text-align: right;\n",
              "    }\n",
              "</style>\n",
              "<table border=\"1\" class=\"dataframe\">\n",
              "  <thead>\n",
              "    <tr style=\"text-align: right;\">\n",
              "      <th></th>\n",
              "      <th>PDBID</th>\n",
              "      <th>Chain_Symmetry</th>\n",
              "      <th>BestUnpAccession</th>\n",
              "      <th>bmID</th>\n",
              "      <th>inchikey</th>\n",
              "      <th>LigandID</th>\n",
              "      <th>LigandType</th>\n",
              "      <th>annotation</th>\n",
              "    </tr>\n",
              "  </thead>\n",
              "  <tbody>\n",
              "    <tr>\n",
              "      <th>0</th>\n",
              "      <td>100d</td>\n",
              "      <td>A</td>\n",
              "      <td>NaN</td>\n",
              "      <td>bm1</td>\n",
              "      <td>PFNFFQXMRSDOHW-UHFFFAOYSA-N</td>\n",
              "      <td>SPM</td>\n",
              "      <td>CCD</td>\n",
              "      <td>NaN</td>\n",
              "    </tr>\n",
              "    <tr>\n",
              "      <th>1</th>\n",
              "      <td>101d</td>\n",
              "      <td>A</td>\n",
              "      <td>NaN</td>\n",
              "      <td>bm1</td>\n",
              "      <td>JLVVSXFLKOJNIY-UHFFFAOYSA-N</td>\n",
              "      <td>MG</td>\n",
              "      <td>CCD</td>\n",
              "      <td>ion</td>\n",
              "    </tr>\n",
              "    <tr>\n",
              "      <th>2</th>\n",
              "      <td>101d</td>\n",
              "      <td>A</td>\n",
              "      <td>NaN</td>\n",
              "      <td>bm2</td>\n",
              "      <td>IDBIFFKSXLYUOT-UHFFFAOYSA-N</td>\n",
              "      <td>NT</td>\n",
              "      <td>CCD</td>\n",
              "      <td>NaN</td>\n",
              "    </tr>\n",
              "    <tr>\n",
              "      <th>3</th>\n",
              "      <td>101d</td>\n",
              "      <td>B</td>\n",
              "      <td>NaN</td>\n",
              "      <td>bm1</td>\n",
              "      <td>JLVVSXFLKOJNIY-UHFFFAOYSA-N</td>\n",
              "      <td>MG</td>\n",
              "      <td>CCD</td>\n",
              "      <td>ion</td>\n",
              "    </tr>\n",
              "    <tr>\n",
              "      <th>4</th>\n",
              "      <td>101d</td>\n",
              "      <td>B</td>\n",
              "      <td>NaN</td>\n",
              "      <td>bm2</td>\n",
              "      <td>IDBIFFKSXLYUOT-UHFFFAOYSA-N</td>\n",
              "      <td>NT</td>\n",
              "      <td>CCD</td>\n",
              "      <td>NaN</td>\n",
              "    </tr>\n",
              "  </tbody>\n",
              "</table>\n",
              "</div>\n",
              "    <div class=\"colab-df-buttons\">\n",
              "\n",
              "  <div class=\"colab-df-container\">\n",
              "    <button class=\"colab-df-convert\" onclick=\"convertToInteractive('df-f7524cc3-4e71-4f67-8688-0e69afb5a803')\"\n",
              "            title=\"Convert this dataframe to an interactive table.\"\n",
              "            style=\"display:none;\">\n",
              "\n",
              "  <svg xmlns=\"http://www.w3.org/2000/svg\" height=\"24px\" viewBox=\"0 -960 960 960\">\n",
              "    <path d=\"M120-120v-720h720v720H120Zm60-500h600v-160H180v160Zm220 220h160v-160H400v160Zm0 220h160v-160H400v160ZM180-400h160v-160H180v160Zm440 0h160v-160H620v160ZM180-180h160v-160H180v160Zm440 0h160v-160H620v160Z\"/>\n",
              "  </svg>\n",
              "    </button>\n",
              "\n",
              "  <style>\n",
              "    .colab-df-container {\n",
              "      display:flex;\n",
              "      gap: 12px;\n",
              "    }\n",
              "\n",
              "    .colab-df-convert {\n",
              "      background-color: #E8F0FE;\n",
              "      border: none;\n",
              "      border-radius: 50%;\n",
              "      cursor: pointer;\n",
              "      display: none;\n",
              "      fill: #1967D2;\n",
              "      height: 32px;\n",
              "      padding: 0 0 0 0;\n",
              "      width: 32px;\n",
              "    }\n",
              "\n",
              "    .colab-df-convert:hover {\n",
              "      background-color: #E2EBFA;\n",
              "      box-shadow: 0px 1px 2px rgba(60, 64, 67, 0.3), 0px 1px 3px 1px rgba(60, 64, 67, 0.15);\n",
              "      fill: #174EA6;\n",
              "    }\n",
              "\n",
              "    .colab-df-buttons div {\n",
              "      margin-bottom: 4px;\n",
              "    }\n",
              "\n",
              "    [theme=dark] .colab-df-convert {\n",
              "      background-color: #3B4455;\n",
              "      fill: #D2E3FC;\n",
              "    }\n",
              "\n",
              "    [theme=dark] .colab-df-convert:hover {\n",
              "      background-color: #434B5C;\n",
              "      box-shadow: 0px 1px 3px 1px rgba(0, 0, 0, 0.15);\n",
              "      filter: drop-shadow(0px 1px 2px rgba(0, 0, 0, 0.3));\n",
              "      fill: #FFFFFF;\n",
              "    }\n",
              "  </style>\n",
              "\n",
              "    <script>\n",
              "      const buttonEl =\n",
              "        document.querySelector('#df-f7524cc3-4e71-4f67-8688-0e69afb5a803 button.colab-df-convert');\n",
              "      buttonEl.style.display =\n",
              "        google.colab.kernel.accessAllowed ? 'block' : 'none';\n",
              "\n",
              "      async function convertToInteractive(key) {\n",
              "        const element = document.querySelector('#df-f7524cc3-4e71-4f67-8688-0e69afb5a803');\n",
              "        const dataTable =\n",
              "          await google.colab.kernel.invokeFunction('convertToInteractive',\n",
              "                                                    [key], {});\n",
              "        if (!dataTable) return;\n",
              "\n",
              "        const docLinkHtml = 'Like what you see? Visit the ' +\n",
              "          '<a target=\"_blank\" href=https://colab.research.google.com/notebooks/data_table.ipynb>data table notebook</a>'\n",
              "          + ' to learn more about interactive tables.';\n",
              "        element.innerHTML = '';\n",
              "        dataTable['output_type'] = 'display_data';\n",
              "        await google.colab.output.renderOutput(dataTable, element);\n",
              "        const docLink = document.createElement('div');\n",
              "        docLink.innerHTML = docLinkHtml;\n",
              "        element.appendChild(docLink);\n",
              "      }\n",
              "    </script>\n",
              "  </div>\n",
              "\n",
              "\n",
              "<div id=\"df-9e33fb98-eef1-450b-92be-c65148037a43\">\n",
              "  <button class=\"colab-df-quickchart\" onclick=\"quickchart('df-9e33fb98-eef1-450b-92be-c65148037a43')\"\n",
              "            title=\"Suggest charts\"\n",
              "            style=\"display:none;\">\n",
              "\n",
              "<svg xmlns=\"http://www.w3.org/2000/svg\" height=\"24px\"viewBox=\"0 0 24 24\"\n",
              "     width=\"24px\">\n",
              "    <g>\n",
              "        <path d=\"M19 3H5c-1.1 0-2 .9-2 2v14c0 1.1.9 2 2 2h14c1.1 0 2-.9 2-2V5c0-1.1-.9-2-2-2zM9 17H7v-7h2v7zm4 0h-2V7h2v10zm4 0h-2v-4h2v4z\"/>\n",
              "    </g>\n",
              "</svg>\n",
              "  </button>\n",
              "\n",
              "<style>\n",
              "  .colab-df-quickchart {\n",
              "      --bg-color: #E8F0FE;\n",
              "      --fill-color: #1967D2;\n",
              "      --hover-bg-color: #E2EBFA;\n",
              "      --hover-fill-color: #174EA6;\n",
              "      --disabled-fill-color: #AAA;\n",
              "      --disabled-bg-color: #DDD;\n",
              "  }\n",
              "\n",
              "  [theme=dark] .colab-df-quickchart {\n",
              "      --bg-color: #3B4455;\n",
              "      --fill-color: #D2E3FC;\n",
              "      --hover-bg-color: #434B5C;\n",
              "      --hover-fill-color: #FFFFFF;\n",
              "      --disabled-bg-color: #3B4455;\n",
              "      --disabled-fill-color: #666;\n",
              "  }\n",
              "\n",
              "  .colab-df-quickchart {\n",
              "    background-color: var(--bg-color);\n",
              "    border: none;\n",
              "    border-radius: 50%;\n",
              "    cursor: pointer;\n",
              "    display: none;\n",
              "    fill: var(--fill-color);\n",
              "    height: 32px;\n",
              "    padding: 0;\n",
              "    width: 32px;\n",
              "  }\n",
              "\n",
              "  .colab-df-quickchart:hover {\n",
              "    background-color: var(--hover-bg-color);\n",
              "    box-shadow: 0 1px 2px rgba(60, 64, 67, 0.3), 0 1px 3px 1px rgba(60, 64, 67, 0.15);\n",
              "    fill: var(--button-hover-fill-color);\n",
              "  }\n",
              "\n",
              "  .colab-df-quickchart-complete:disabled,\n",
              "  .colab-df-quickchart-complete:disabled:hover {\n",
              "    background-color: var(--disabled-bg-color);\n",
              "    fill: var(--disabled-fill-color);\n",
              "    box-shadow: none;\n",
              "  }\n",
              "\n",
              "  .colab-df-spinner {\n",
              "    border: 2px solid var(--fill-color);\n",
              "    border-color: transparent;\n",
              "    border-bottom-color: var(--fill-color);\n",
              "    animation:\n",
              "      spin 1s steps(1) infinite;\n",
              "  }\n",
              "\n",
              "  @keyframes spin {\n",
              "    0% {\n",
              "      border-color: transparent;\n",
              "      border-bottom-color: var(--fill-color);\n",
              "      border-left-color: var(--fill-color);\n",
              "    }\n",
              "    20% {\n",
              "      border-color: transparent;\n",
              "      border-left-color: var(--fill-color);\n",
              "      border-top-color: var(--fill-color);\n",
              "    }\n",
              "    30% {\n",
              "      border-color: transparent;\n",
              "      border-left-color: var(--fill-color);\n",
              "      border-top-color: var(--fill-color);\n",
              "      border-right-color: var(--fill-color);\n",
              "    }\n",
              "    40% {\n",
              "      border-color: transparent;\n",
              "      border-right-color: var(--fill-color);\n",
              "      border-top-color: var(--fill-color);\n",
              "    }\n",
              "    60% {\n",
              "      border-color: transparent;\n",
              "      border-right-color: var(--fill-color);\n",
              "    }\n",
              "    80% {\n",
              "      border-color: transparent;\n",
              "      border-right-color: var(--fill-color);\n",
              "      border-bottom-color: var(--fill-color);\n",
              "    }\n",
              "    90% {\n",
              "      border-color: transparent;\n",
              "      border-bottom-color: var(--fill-color);\n",
              "    }\n",
              "  }\n",
              "</style>\n",
              "\n",
              "  <script>\n",
              "    async function quickchart(key) {\n",
              "      const quickchartButtonEl =\n",
              "        document.querySelector('#' + key + ' button');\n",
              "      quickchartButtonEl.disabled = true;  // To prevent multiple clicks.\n",
              "      quickchartButtonEl.classList.add('colab-df-spinner');\n",
              "      try {\n",
              "        const charts = await google.colab.kernel.invokeFunction(\n",
              "            'suggestCharts', [key], {});\n",
              "      } catch (error) {\n",
              "        console.error('Error during call to suggestCharts:', error);\n",
              "      }\n",
              "      quickchartButtonEl.classList.remove('colab-df-spinner');\n",
              "      quickchartButtonEl.classList.add('colab-df-quickchart-complete');\n",
              "    }\n",
              "    (() => {\n",
              "      let quickchartButtonEl =\n",
              "        document.querySelector('#df-9e33fb98-eef1-450b-92be-c65148037a43 button');\n",
              "      quickchartButtonEl.style.display =\n",
              "        google.colab.kernel.accessAllowed ? 'block' : 'none';\n",
              "    })();\n",
              "  </script>\n",
              "</div>\n",
              "\n",
              "    </div>\n",
              "  </div>\n"
            ],
            "application/vnd.google.colaboratory.intrinsic+json": {
              "type": "dataframe",
              "variable_name": "int_chain_ligand"
            }
          },
          "metadata": {},
          "execution_count": 104
        }
      ],
      "source": [
        "int_chain_ligand = pd.read_csv(\"interacting_chains_with_ligand_functions.tsv\", sep=\"\\t\")\n",
        "int_chain_ligand.head()"
      ]
    },
    {
      "cell_type": "code",
      "execution_count": 105,
      "metadata": {
        "colab": {
          "base_uri": "https://localhost:8080/",
          "height": 112
        },
        "id": "6EVVoiJCr_GX",
        "outputId": "dea52067-73be-483b-dd9b-2a6e12d27f59"
      },
      "outputs": [
        {
          "output_type": "execute_result",
          "data": {
            "text/plain": [
              "      PDBID Chain_Symmetry BestUnpAccession bmID                     inchikey  \\\n",
              "15919  1e55              A           P49235  bm1  NVLTYOJHPBMILU-YOVYLDAJSA-N   \n",
              "15920  1e55              B           P49235  bm2  NVLTYOJHPBMILU-YOVYLDAJSA-N   \n",
              "\n",
              "         LigandID LigandType annotation  \n",
              "15919  CLC_000189        CLC        NaN  \n",
              "15920  CLC_000189        CLC        NaN  "
            ],
            "text/html": [
              "\n",
              "  <div id=\"df-1863ec14-ba0b-47f2-8761-2fe1779e3afb\" class=\"colab-df-container\">\n",
              "    <div>\n",
              "<style scoped>\n",
              "    .dataframe tbody tr th:only-of-type {\n",
              "        vertical-align: middle;\n",
              "    }\n",
              "\n",
              "    .dataframe tbody tr th {\n",
              "        vertical-align: top;\n",
              "    }\n",
              "\n",
              "    .dataframe thead th {\n",
              "        text-align: right;\n",
              "    }\n",
              "</style>\n",
              "<table border=\"1\" class=\"dataframe\">\n",
              "  <thead>\n",
              "    <tr style=\"text-align: right;\">\n",
              "      <th></th>\n",
              "      <th>PDBID</th>\n",
              "      <th>Chain_Symmetry</th>\n",
              "      <th>BestUnpAccession</th>\n",
              "      <th>bmID</th>\n",
              "      <th>inchikey</th>\n",
              "      <th>LigandID</th>\n",
              "      <th>LigandType</th>\n",
              "      <th>annotation</th>\n",
              "    </tr>\n",
              "  </thead>\n",
              "  <tbody>\n",
              "    <tr>\n",
              "      <th>15919</th>\n",
              "      <td>1e55</td>\n",
              "      <td>A</td>\n",
              "      <td>P49235</td>\n",
              "      <td>bm1</td>\n",
              "      <td>NVLTYOJHPBMILU-YOVYLDAJSA-N</td>\n",
              "      <td>CLC_000189</td>\n",
              "      <td>CLC</td>\n",
              "      <td>NaN</td>\n",
              "    </tr>\n",
              "    <tr>\n",
              "      <th>15920</th>\n",
              "      <td>1e55</td>\n",
              "      <td>B</td>\n",
              "      <td>P49235</td>\n",
              "      <td>bm2</td>\n",
              "      <td>NVLTYOJHPBMILU-YOVYLDAJSA-N</td>\n",
              "      <td>CLC_000189</td>\n",
              "      <td>CLC</td>\n",
              "      <td>NaN</td>\n",
              "    </tr>\n",
              "  </tbody>\n",
              "</table>\n",
              "</div>\n",
              "    <div class=\"colab-df-buttons\">\n",
              "\n",
              "  <div class=\"colab-df-container\">\n",
              "    <button class=\"colab-df-convert\" onclick=\"convertToInteractive('df-1863ec14-ba0b-47f2-8761-2fe1779e3afb')\"\n",
              "            title=\"Convert this dataframe to an interactive table.\"\n",
              "            style=\"display:none;\">\n",
              "\n",
              "  <svg xmlns=\"http://www.w3.org/2000/svg\" height=\"24px\" viewBox=\"0 -960 960 960\">\n",
              "    <path d=\"M120-120v-720h720v720H120Zm60-500h600v-160H180v160Zm220 220h160v-160H400v160Zm0 220h160v-160H400v160ZM180-400h160v-160H180v160Zm440 0h160v-160H620v160ZM180-180h160v-160H180v160Zm440 0h160v-160H620v160Z\"/>\n",
              "  </svg>\n",
              "    </button>\n",
              "\n",
              "  <style>\n",
              "    .colab-df-container {\n",
              "      display:flex;\n",
              "      gap: 12px;\n",
              "    }\n",
              "\n",
              "    .colab-df-convert {\n",
              "      background-color: #E8F0FE;\n",
              "      border: none;\n",
              "      border-radius: 50%;\n",
              "      cursor: pointer;\n",
              "      display: none;\n",
              "      fill: #1967D2;\n",
              "      height: 32px;\n",
              "      padding: 0 0 0 0;\n",
              "      width: 32px;\n",
              "    }\n",
              "\n",
              "    .colab-df-convert:hover {\n",
              "      background-color: #E2EBFA;\n",
              "      box-shadow: 0px 1px 2px rgba(60, 64, 67, 0.3), 0px 1px 3px 1px rgba(60, 64, 67, 0.15);\n",
              "      fill: #174EA6;\n",
              "    }\n",
              "\n",
              "    .colab-df-buttons div {\n",
              "      margin-bottom: 4px;\n",
              "    }\n",
              "\n",
              "    [theme=dark] .colab-df-convert {\n",
              "      background-color: #3B4455;\n",
              "      fill: #D2E3FC;\n",
              "    }\n",
              "\n",
              "    [theme=dark] .colab-df-convert:hover {\n",
              "      background-color: #434B5C;\n",
              "      box-shadow: 0px 1px 3px 1px rgba(0, 0, 0, 0.15);\n",
              "      filter: drop-shadow(0px 1px 2px rgba(0, 0, 0, 0.3));\n",
              "      fill: #FFFFFF;\n",
              "    }\n",
              "  </style>\n",
              "\n",
              "    <script>\n",
              "      const buttonEl =\n",
              "        document.querySelector('#df-1863ec14-ba0b-47f2-8761-2fe1779e3afb button.colab-df-convert');\n",
              "      buttonEl.style.display =\n",
              "        google.colab.kernel.accessAllowed ? 'block' : 'none';\n",
              "\n",
              "      async function convertToInteractive(key) {\n",
              "        const element = document.querySelector('#df-1863ec14-ba0b-47f2-8761-2fe1779e3afb');\n",
              "        const dataTable =\n",
              "          await google.colab.kernel.invokeFunction('convertToInteractive',\n",
              "                                                    [key], {});\n",
              "        if (!dataTable) return;\n",
              "\n",
              "        const docLinkHtml = 'Like what you see? Visit the ' +\n",
              "          '<a target=\"_blank\" href=https://colab.research.google.com/notebooks/data_table.ipynb>data table notebook</a>'\n",
              "          + ' to learn more about interactive tables.';\n",
              "        element.innerHTML = '';\n",
              "        dataTable['output_type'] = 'display_data';\n",
              "        await google.colab.output.renderOutput(dataTable, element);\n",
              "        const docLink = document.createElement('div');\n",
              "        docLink.innerHTML = docLinkHtml;\n",
              "        element.appendChild(docLink);\n",
              "      }\n",
              "    </script>\n",
              "  </div>\n",
              "\n",
              "\n",
              "<div id=\"df-28caa3d7-23f8-459e-9712-ad73bdf3a67d\">\n",
              "  <button class=\"colab-df-quickchart\" onclick=\"quickchart('df-28caa3d7-23f8-459e-9712-ad73bdf3a67d')\"\n",
              "            title=\"Suggest charts\"\n",
              "            style=\"display:none;\">\n",
              "\n",
              "<svg xmlns=\"http://www.w3.org/2000/svg\" height=\"24px\"viewBox=\"0 0 24 24\"\n",
              "     width=\"24px\">\n",
              "    <g>\n",
              "        <path d=\"M19 3H5c-1.1 0-2 .9-2 2v14c0 1.1.9 2 2 2h14c1.1 0 2-.9 2-2V5c0-1.1-.9-2-2-2zM9 17H7v-7h2v7zm4 0h-2V7h2v10zm4 0h-2v-4h2v4z\"/>\n",
              "    </g>\n",
              "</svg>\n",
              "  </button>\n",
              "\n",
              "<style>\n",
              "  .colab-df-quickchart {\n",
              "      --bg-color: #E8F0FE;\n",
              "      --fill-color: #1967D2;\n",
              "      --hover-bg-color: #E2EBFA;\n",
              "      --hover-fill-color: #174EA6;\n",
              "      --disabled-fill-color: #AAA;\n",
              "      --disabled-bg-color: #DDD;\n",
              "  }\n",
              "\n",
              "  [theme=dark] .colab-df-quickchart {\n",
              "      --bg-color: #3B4455;\n",
              "      --fill-color: #D2E3FC;\n",
              "      --hover-bg-color: #434B5C;\n",
              "      --hover-fill-color: #FFFFFF;\n",
              "      --disabled-bg-color: #3B4455;\n",
              "      --disabled-fill-color: #666;\n",
              "  }\n",
              "\n",
              "  .colab-df-quickchart {\n",
              "    background-color: var(--bg-color);\n",
              "    border: none;\n",
              "    border-radius: 50%;\n",
              "    cursor: pointer;\n",
              "    display: none;\n",
              "    fill: var(--fill-color);\n",
              "    height: 32px;\n",
              "    padding: 0;\n",
              "    width: 32px;\n",
              "  }\n",
              "\n",
              "  .colab-df-quickchart:hover {\n",
              "    background-color: var(--hover-bg-color);\n",
              "    box-shadow: 0 1px 2px rgba(60, 64, 67, 0.3), 0 1px 3px 1px rgba(60, 64, 67, 0.15);\n",
              "    fill: var(--button-hover-fill-color);\n",
              "  }\n",
              "\n",
              "  .colab-df-quickchart-complete:disabled,\n",
              "  .colab-df-quickchart-complete:disabled:hover {\n",
              "    background-color: var(--disabled-bg-color);\n",
              "    fill: var(--disabled-fill-color);\n",
              "    box-shadow: none;\n",
              "  }\n",
              "\n",
              "  .colab-df-spinner {\n",
              "    border: 2px solid var(--fill-color);\n",
              "    border-color: transparent;\n",
              "    border-bottom-color: var(--fill-color);\n",
              "    animation:\n",
              "      spin 1s steps(1) infinite;\n",
              "  }\n",
              "\n",
              "  @keyframes spin {\n",
              "    0% {\n",
              "      border-color: transparent;\n",
              "      border-bottom-color: var(--fill-color);\n",
              "      border-left-color: var(--fill-color);\n",
              "    }\n",
              "    20% {\n",
              "      border-color: transparent;\n",
              "      border-left-color: var(--fill-color);\n",
              "      border-top-color: var(--fill-color);\n",
              "    }\n",
              "    30% {\n",
              "      border-color: transparent;\n",
              "      border-left-color: var(--fill-color);\n",
              "      border-top-color: var(--fill-color);\n",
              "      border-right-color: var(--fill-color);\n",
              "    }\n",
              "    40% {\n",
              "      border-color: transparent;\n",
              "      border-right-color: var(--fill-color);\n",
              "      border-top-color: var(--fill-color);\n",
              "    }\n",
              "    60% {\n",
              "      border-color: transparent;\n",
              "      border-right-color: var(--fill-color);\n",
              "    }\n",
              "    80% {\n",
              "      border-color: transparent;\n",
              "      border-right-color: var(--fill-color);\n",
              "      border-bottom-color: var(--fill-color);\n",
              "    }\n",
              "    90% {\n",
              "      border-color: transparent;\n",
              "      border-bottom-color: var(--fill-color);\n",
              "    }\n",
              "  }\n",
              "</style>\n",
              "\n",
              "  <script>\n",
              "    async function quickchart(key) {\n",
              "      const quickchartButtonEl =\n",
              "        document.querySelector('#' + key + ' button');\n",
              "      quickchartButtonEl.disabled = true;  // To prevent multiple clicks.\n",
              "      quickchartButtonEl.classList.add('colab-df-spinner');\n",
              "      try {\n",
              "        const charts = await google.colab.kernel.invokeFunction(\n",
              "            'suggestCharts', [key], {});\n",
              "      } catch (error) {\n",
              "        console.error('Error during call to suggestCharts:', error);\n",
              "      }\n",
              "      quickchartButtonEl.classList.remove('colab-df-spinner');\n",
              "      quickchartButtonEl.classList.add('colab-df-quickchart-complete');\n",
              "    }\n",
              "    (() => {\n",
              "      let quickchartButtonEl =\n",
              "        document.querySelector('#df-28caa3d7-23f8-459e-9712-ad73bdf3a67d button');\n",
              "      quickchartButtonEl.style.display =\n",
              "        google.colab.kernel.accessAllowed ? 'block' : 'none';\n",
              "    })();\n",
              "  </script>\n",
              "</div>\n",
              "\n",
              "    </div>\n",
              "  </div>\n"
            ],
            "application/vnd.google.colaboratory.intrinsic+json": {
              "type": "dataframe",
              "repr_error": "0"
            }
          },
          "metadata": {},
          "execution_count": 105
        }
      ],
      "source": [
        "int_chain_ligand[int_chain_ligand[\"PDBID\"]==\"1e55\"]"
      ]
    },
    {
      "cell_type": "code",
      "execution_count": 106,
      "metadata": {
        "colab": {
          "base_uri": "https://localhost:8080/",
          "height": 167
        },
        "id": "v-tIQuYhr_GX",
        "outputId": "8e0c0bbb-f604-4fa3-8489-edc86143a058"
      },
      "outputs": [
        {
          "output_type": "execute_result",
          "data": {
            "text/plain": [
              "<rdkit.Chem.rdchem.Mol at 0x781a9dcf4970>"
            ],
            "image/png": "[encoded data removed]"
          },
          "metadata": {},
          "execution_count": 106
        }
      ],
      "source": [
        "durrin_cif = get_ligand_cif(\"CLC_000189\", ligandType.CLC)\n",
        "dhurrin_cif_component = clc_reader.read_clc_cif_file(durrin_cif).component\n",
        "dhurrin_cif_component.mol"
      ]
    },
    {
      "cell_type": "markdown",
      "metadata": {
        "id": "c9dz01AVr_GX"
      },
      "source": [
        "####&nbsp; 1.9.2.1 Highlighting CCDs present in a Covalently Linked Component (CLC)"
      ]
    },
    {
      "cell_type": "code",
      "execution_count": 107,
      "metadata": {
        "colab": {
          "base_uri": "https://localhost:8080/"
        },
        "id": "Q5V3OnwYr_GX",
        "outputId": "3b04424c-e5bc-4f99-9412-085470294988"
      },
      "outputs": [
        {
          "output_type": "stream",
          "name": "stderr",
          "text": [
            "[11:42:11] unrecognized bond type[11:42:11] unrecognized bond type[11:43:58] Warning: molecule is tagged as 2D, but at least one Z coordinate is not zero. Marking the mol as 3D.\n"
          ]
        },
        {
          "output_type": "execute_result",
          "data": {
            "text/plain": [
              "DepictionResult(source=<DepictionSource.PubChem: 1>, template_name='CLC_000189', mol=<rdkit.Chem.rdchem.Mol object at 0x781a9428c3c0>, score=0.0)"
            ]
          },
          "metadata": {},
          "execution_count": 107
        }
      ],
      "source": [
        "pubchem_downloader.process_template(dhurrin_cif_component)\n",
        "depictions = DepictionManager(pubchem_templates)\n",
        "depiction_result = dhurrin_cif_component.compute_2d(depictions)\n",
        "depiction_result"
      ]
    },
    {
      "cell_type": "code",
      "execution_count": 108,
      "metadata": {
        "colab": {
          "base_uri": "https://localhost:8080/",
          "height": 167
        },
        "id": "UaAD2CGgr_GX",
        "outputId": "a669281b-9349-4b60-92bf-764632f624e7"
      },
      "outputs": [
        {
          "output_type": "execute_result",
          "data": {
            "text/plain": [
              "<rdkit.Chem.rdchem.Mol at 0x781a9428c3c0>"
            ],
            "image/png": "[encoded data removed]"
          },
          "metadata": {},
          "execution_count": 108
        }
      ],
      "source": [
        "dhurrin_cif_component.mol2D"
      ]
    },
    {
      "cell_type": "code",
      "execution_count": 109,
      "metadata": {
        "colab": {
          "base_uri": "https://localhost:8080/"
        },
        "id": "on2PI0vWr_GY",
        "outputId": "0d456a8a-c332-47a6-fa3b-41b439117210"
      },
      "outputs": [
        {
          "output_type": "execute_result",
          "data": {
            "text/plain": [
              "[Subcomponent(id='1', name='BGC', atoms=['C0', 'C1', 'C2', 'C3', 'C4', 'C5', 'O6', 'O7', 'O8', 'O9', 'O10', 'O11']),\n",
              " Subcomponent(id='2', name='DHR', atoms=['N12', 'C13', 'C14', 'C15', 'C16', 'C17', 'C18', 'C19', 'O20', 'C21'])]"
            ]
          },
          "metadata": {},
          "execution_count": 109
        }
      ],
      "source": [
        "dhurrin_subcomponents = get_subcomponents(dhurrin_cif_component)\n",
        "dhurrin_subcomponents"
      ]
    },
    {
      "cell_type": "code",
      "execution_count": 110,
      "metadata": {
        "id": "2VO3Qm-Hr_GY"
      },
      "outputs": [],
      "source": [
        "subcomponent_colors = [(0.0, 0.0, 1.0, 0.5), (1.0, 0.0, 0.0, 0.5)]\n",
        "athighlights ={}\n",
        "bndhighlights = {}\n",
        "for i, subcomponent in enumerate(dhurrin_subcomponents):\n",
        "    for atom in subcomponent.atoms:\n",
        "        athighlights[atom] = subcomponent_colors[i]\n",
        "    for bond in dhurrin_cif_component.mol.GetBonds():\n",
        "        bgn_atom = bond.GetBeginAtom().GetProp(\"name\")\n",
        "        end_atom = bond.GetEndAtom().GetProp(\"name\")\n",
        "        if bgn_atom in subcomponent.atoms and end_atom in subcomponent.atoms:\n",
        "            bndhighlights[(bgn_atom, end_atom)] = subcomponent_colors[i]"
      ]
    },
    {
      "cell_type": "code",
      "execution_count": 111,
      "metadata": {
        "id": "EVcNGMeLr_GY"
      },
      "outputs": [],
      "source": [
        "dhurrin_cif_component.export_2d_svg(\"dhurrin_ccd.svg\", atom_highlight=athighlights, bond_highlight=bndhighlights)"
      ]
    },
    {
      "cell_type": "code",
      "execution_count": 112,
      "metadata": {
        "colab": {
          "base_uri": "https://localhost:8080/",
          "height": 521
        },
        "id": "O3wbDBkpr_GZ",
        "outputId": "1c709922-f79b-4dd2-b10e-4184e611170f"
      },
      "outputs": [
        {
          "output_type": "execute_result",
          "data": {
            "text/plain": [
              "<IPython.core.display.SVG object>"
            ],
            "image/svg+xml": "<svg xmlns=\"http://www.w3.org/2000/svg\" xmlns:rdkit=\"http://www.rdkit.org/xml\" xmlns:xlink=\"http://www.w3.org/1999/xlink\" version=\"1.1\" baseProfile=\"full\" xml:space=\"preserve\" width=\"500px\" height=\"500px\" viewBox=\"0 0 500 500\">\n<!-- END OF HEADER -->\n<rect style=\"opacity:1.0;fill:#FFFFFF;stroke:none\" width=\"500.0\" height=\"500.0\" x=\"0.0\" y=\"0.0\"> </rect>\n<path class=\"bond-0 atom-0 atom-1\" d=\"M 195.5,331.3 L 201.5,334.7 L 201.5,341.7 L 158.5,366.5 L 152.5,363.0 L 152.5,356.1 Z\" style=\"fill:#0000FF7F;fill-rule:evenodd;fill-opacity:0.5;stroke:#0000FF7F;stroke-width:0.0px;stroke-linecap:butt;stroke-linejoin:miter;stroke-opacity:0.5;\"/>\n<path class=\"bond-1 atom-0 atom-5\" d=\"M 201.5,278.2 L 207.5,281.6 L 207.5,331.3 L 201.5,334.7 L 195.5,331.3 L 195.5,281.6 Z\" style=\"fill:#0000FF7F;fill-rule:evenodd;fill-opacity:0.5;stroke:#0000FF7F;stroke-width:0.0px;stroke-linecap:butt;stroke-linejoin:miter;stroke-opacity:0.5;\"/>\n<path class=\"bond-2 atom-0 atom-7\" d=\"M 207.5,331.3 L 253.5,357.8 L 247.5,368.3 L 201.5,341.7 L 201.5,334.7 Z\" style=\"fill:#0000FF7F;fill-rule:evenodd;fill-opacity:0.5;stroke:#0000FF7F;stroke-width:0.0px;stroke-linecap:butt;stroke-linejoin:miter;stroke-opacity:0.5;\"/>\n<path class=\"bond-3 atom-1 atom-2\" d=\"M 109.5,331.3 L 152.5,356.1 L 152.5,363.0 L 146.5,366.5 L 103.5,341.7 L 103.5,334.7 Z\" style=\"fill:#0000FF7F;fill-rule:evenodd;fill-opacity:0.5;stroke:#0000FF7F;stroke-width:0.0px;stroke-linecap:butt;stroke-linejoin:miter;stroke-opacity:0.5;\"/>\n<path class=\"bond-4 atom-1 atom-8\" d=\"M 152.5,363.0 L 158.5,366.5 L 158.5,419.6 L 146.5,419.6 L 146.5,366.5 Z\" style=\"fill:#0000FF7F;fill-rule:evenodd;fill-opacity:0.5;stroke:#0000FF7F;stroke-width:0.0px;stroke-linecap:butt;stroke-linejoin:miter;stroke-opacity:0.5;\"/>\n<path class=\"bond-5 atom-2 atom-3\" d=\"M 103.5,278.2 L 109.5,281.6 L 109.5,331.3 L 103.5,334.7 L 97.5,331.3 L 97.5,281.6 Z\" style=\"fill:#0000FF7F;fill-rule:evenodd;fill-opacity:0.5;stroke:#0000FF7F;stroke-width:0.0px;stroke-linecap:butt;stroke-linejoin:miter;stroke-opacity:0.5;\"/>\n<path class=\"bond-6 atom-2 atom-9\" d=\"M 97.5,331.3 L 103.5,334.7 L 103.5,341.7 L 57.5,368.3 L 51.5,357.8 Z\" style=\"fill:#0000FF7F;fill-rule:evenodd;fill-opacity:0.5;stroke:#0000FF7F;stroke-width:0.0px;stroke-linecap:butt;stroke-linejoin:miter;stroke-opacity:0.5;\"/>\n<path class=\"bond-7 atom-3 atom-4\" d=\"M 60.5,246.4 L 103.5,271.2 L 103.5,278.2 L 97.5,281.6 L 48.5,253.4 Z\" style=\"fill:#0000FF7F;fill-rule:evenodd;fill-opacity:0.5;stroke:#0000FF7F;stroke-width:0.0px;stroke-linecap:butt;stroke-linejoin:miter;stroke-opacity:0.5;\"/>\n<path class=\"bond-8 atom-3 atom-10\" d=\"M 152.5,242.9 L 152.5,256.8 L 109.5,281.6 L 103.5,278.2 L 103.5,271.2 Z\" style=\"fill:#0000FF7F;fill-rule:evenodd;fill-opacity:0.5;stroke:#0000FF7F;stroke-width:0.0px;stroke-linecap:butt;stroke-linejoin:miter;stroke-opacity:0.5;\"/>\n<path class=\"bond-9 atom-4 atom-11\" d=\"M 48.5,193.3 L 60.5,193.3 L 60.5,246.4 L 48.5,253.4 Z\" style=\"fill:#0000FF7F;fill-rule:evenodd;fill-opacity:0.5;stroke:#0000FF7F;stroke-width:0.0px;stroke-linecap:butt;stroke-linejoin:miter;stroke-opacity:0.5;\"/>\n<path class=\"bond-10 atom-5 atom-6\" d=\"M 247.5,244.6 L 253.5,255.1 L 207.5,281.6 L 201.5,278.2 L 201.5,271.2 Z\" style=\"fill:#0000FF7F;fill-rule:evenodd;fill-opacity:0.5;stroke:#0000FF7F;stroke-width:0.0px;stroke-linecap:butt;stroke-linejoin:miter;stroke-opacity:0.5;\"/>\n<path class=\"bond-11 atom-5 atom-10\" d=\"M 152.5,242.9 L 201.5,271.2 L 201.5,278.2 L 195.5,281.6 L 152.5,256.8 Z\" style=\"fill:#0000FF7F;fill-rule:evenodd;fill-opacity:0.5;stroke:#0000FF7F;stroke-width:0.0px;stroke-linecap:butt;stroke-linejoin:miter;stroke-opacity:0.5;\"/>\n<path class=\"bond-12 atom-12 atom-13\" d=\"M 155.5,131.5 L 204.0,159.5 L 199.0,170.5 L 149.5,142.0 Z\" style=\"fill:#FF00007F;fill-rule:evenodd;fill-opacity:0.5;stroke:#FF00007F;stroke-width:0.0px;stroke-linecap:butt;stroke-linejoin:miter;stroke-opacity:0.5;\"/>\n<path class=\"bond-13 atom-13 atom-21\" d=\"M 204.0,159.5 L 250.5,186.3 L 250.5,200.3 L 199.0,170.5 Z\" style=\"fill:#FF00007F;fill-rule:evenodd;fill-opacity:0.5;stroke:#FF00007F;stroke-width:0.0px;stroke-linecap:butt;stroke-linejoin:miter;stroke-opacity:0.5;\"/>\n<path class=\"bond-14 atom-14 atom-15\" d=\"M 293.4,105.0 L 305.5,111.9 L 305.5,161.5 L 299.5,165.0 L 293.4,161.5 Z\" style=\"fill:#FF00007F;fill-rule:evenodd;fill-opacity:0.5;stroke:#FF00007F;stroke-width:0.0px;stroke-linecap:butt;stroke-linejoin:miter;stroke-opacity:0.5;\"/>\n<path class=\"bond-15 atom-14 atom-16\" d=\"M 305.5,161.5 L 348.5,186.3 L 348.5,200.3 L 299.5,172.0 L 299.5,165.0 Z\" style=\"fill:#FF00007F;fill-rule:evenodd;fill-opacity:0.5;stroke:#FF00007F;stroke-width:0.0px;stroke-linecap:butt;stroke-linejoin:miter;stroke-opacity:0.5;\"/>\n<path class=\"bond-16 atom-14 atom-21\" d=\"M 293.4,161.5 L 299.5,165.0 L 299.5,172.0 L 250.5,200.3 L 250.5,186.3 Z\" style=\"fill:#FF00007F;fill-rule:evenodd;fill-opacity:0.5;stroke:#FF00007F;stroke-width:0.0px;stroke-linecap:butt;stroke-linejoin:miter;stroke-opacity:0.5;\"/>\n<path class=\"bond-17 atom-15 atom-18\" d=\"M 348.5,73.2 L 348.5,87.1 L 305.5,111.9 L 293.4,105.0 Z\" style=\"fill:#FF00007F;fill-rule:evenodd;fill-opacity:0.5;stroke:#FF00007F;stroke-width:0.0px;stroke-linecap:butt;stroke-linejoin:miter;stroke-opacity:0.5;\"/>\n<path class=\"bond-18 atom-16 atom-17\" d=\"M 391.4,161.5 L 403.5,168.5 L 348.5,200.3 L 348.5,186.3 Z\" style=\"fill:#FF00007F;fill-rule:evenodd;fill-opacity:0.5;stroke:#FF00007F;stroke-width:0.0px;stroke-linecap:butt;stroke-linejoin:miter;stroke-opacity:0.5;\"/>\n<path class=\"bond-19 atom-17 atom-19\" d=\"M 397.5,108.4 L 403.5,111.9 L 403.5,168.5 L 391.4,161.5 L 391.4,111.9 Z\" style=\"fill:#FF00007F;fill-rule:evenodd;fill-opacity:0.5;stroke:#FF00007F;stroke-width:0.0px;stroke-linecap:butt;stroke-linejoin:miter;stroke-opacity:0.5;\"/>\n<path class=\"bond-20 atom-18 atom-19\" d=\"M 348.5,73.2 L 397.5,101.5 L 397.5,108.4 L 391.4,111.9 L 348.5,87.1 Z\" style=\"fill:#FF00007F;fill-rule:evenodd;fill-opacity:0.5;stroke:#FF00007F;stroke-width:0.0px;stroke-linecap:butt;stroke-linejoin:miter;stroke-opacity:0.5;\"/>\n<path class=\"bond-21 atom-19 atom-20\" d=\"M 443.4,74.9 L 449.5,85.4 L 403.5,111.9 L 397.5,108.4 L 397.5,101.5 Z\" style=\"fill:#FF00007F;fill-rule:evenodd;fill-opacity:0.5;stroke:#FF00007F;stroke-width:0.0px;stroke-linecap:butt;stroke-linejoin:miter;stroke-opacity:0.5;\"/>\n<ellipse cx=\"201.5\" cy=\"334.7\" rx=\"11.3\" ry=\"11.3\" class=\"atom-0\" style=\"fill:#0000FF7F;fill-rule:evenodd;stroke:#0000FF7F;stroke-width:1.0px;stroke-linecap:butt;stroke-linejoin:miter;stroke-opacity:1\"/>\n<ellipse cx=\"152.5\" cy=\"363.0\" rx=\"11.3\" ry=\"11.3\" class=\"atom-1\" style=\"fill:#0000FF7F;fill-rule:evenodd;stroke:#0000FF7F;stroke-width:1.0px;stroke-linecap:butt;stroke-linejoin:miter;stroke-opacity:1\"/>\n<ellipse cx=\"103.5\" cy=\"334.7\" rx=\"11.3\" ry=\"11.3\" class=\"atom-2\" style=\"fill:#0000FF7F;fill-rule:evenodd;stroke:#0000FF7F;stroke-width:1.0px;stroke-linecap:butt;stroke-linejoin:miter;stroke-opacity:1\"/>\n<ellipse cx=\"103.5\" cy=\"278.2\" rx=\"11.3\" ry=\"11.3\" class=\"atom-3\" style=\"fill:#0000FF7F;fill-rule:evenodd;stroke:#0000FF7F;stroke-width:1.0px;stroke-linecap:butt;stroke-linejoin:miter;stroke-opacity:1\"/>\n<ellipse cx=\"54.5\" cy=\"249.9\" rx=\"11.3\" ry=\"11.3\" class=\"atom-4\" style=\"fill:#0000FF7F;fill-rule:evenodd;stroke:#0000FF7F;stroke-width:1.0px;stroke-linecap:butt;stroke-linejoin:miter;stroke-opacity:1\"/>\n<ellipse cx=\"201.5\" cy=\"278.2\" rx=\"11.3\" ry=\"11.3\" class=\"atom-5\" style=\"fill:#0000FF7F;fill-rule:evenodd;stroke:#0000FF7F;stroke-width:1.0px;stroke-linecap:butt;stroke-linejoin:miter;stroke-opacity:1\"/>\n<ellipse cx=\"250.5\" cy=\"250.0\" rx=\"11.3\" ry=\"11.6\" class=\"atom-6\" style=\"fill:#0000FF7F;fill-rule:evenodd;stroke:#0000FF7F;stroke-width:1.0px;stroke-linecap:butt;stroke-linejoin:miter;stroke-opacity:1\"/>\n<ellipse cx=\"258.0\" cy=\"363.1\" rx=\"21.0\" ry=\"11.6\" class=\"atom-7\" style=\"fill:#0000FF7F;fill-rule:evenodd;stroke:#0000FF7F;stroke-width:1.0px;stroke-linecap:butt;stroke-linejoin:miter;stroke-opacity:1\"/>\n<ellipse cx=\"160.0\" cy=\"419.7\" rx=\"21.0\" ry=\"11.6\" class=\"atom-8\" style=\"fill:#0000FF7F;fill-rule:evenodd;stroke:#0000FF7F;stroke-width:1.0px;stroke-linecap:butt;stroke-linejoin:miter;stroke-opacity:1\"/>\n<ellipse cx=\"46.6\" cy=\"363.1\" rx=\"21.6\" ry=\"11.6\" class=\"atom-9\" style=\"fill:#0000FF7F;fill-rule:evenodd;stroke:#0000FF7F;stroke-width:1.0px;stroke-linecap:butt;stroke-linejoin:miter;stroke-opacity:1\"/>\n<ellipse cx=\"152.5\" cy=\"250.0\" rx=\"11.3\" ry=\"11.6\" class=\"atom-10\" style=\"fill:#0000FF7F;fill-rule:evenodd;stroke:#0000FF7F;stroke-width:1.0px;stroke-linecap:butt;stroke-linejoin:miter;stroke-opacity:1\"/>\n<ellipse cx=\"62.0\" cy=\"193.4\" rx=\"21.0\" ry=\"11.6\" class=\"atom-11\" style=\"fill:#0000FF7F;fill-rule:evenodd;stroke:#0000FF7F;stroke-width:1.0px;stroke-linecap:butt;stroke-linejoin:miter;stroke-opacity:1\"/>\n<ellipse cx=\"152.5\" cy=\"136.7\" rx=\"11.3\" ry=\"11.3\" class=\"atom-12\" style=\"fill:#FF00007F;fill-rule:evenodd;stroke:#FF00007F;stroke-width:1.0px;stroke-linecap:butt;stroke-linejoin:miter;stroke-opacity:1\"/>\n<ellipse cx=\"201.5\" cy=\"165.0\" rx=\"11.3\" ry=\"11.3\" class=\"atom-13\" style=\"fill:#FF00007F;fill-rule:evenodd;stroke:#FF00007F;stroke-width:1.0px;stroke-linecap:butt;stroke-linejoin:miter;stroke-opacity:1\"/>\n<ellipse cx=\"299.5\" cy=\"165.0\" rx=\"11.3\" ry=\"11.3\" class=\"atom-14\" style=\"fill:#FF00007F;fill-rule:evenodd;stroke:#FF00007F;stroke-width:1.0px;stroke-linecap:butt;stroke-linejoin:miter;stroke-opacity:1\"/>\n<ellipse cx=\"299.5\" cy=\"108.4\" rx=\"11.3\" ry=\"11.3\" class=\"atom-15\" style=\"fill:#FF00007F;fill-rule:evenodd;stroke:#FF00007F;stroke-width:1.0px;stroke-linecap:butt;stroke-linejoin:miter;stroke-opacity:1\"/>\n<ellipse cx=\"348.5\" cy=\"193.3\" rx=\"11.3\" ry=\"11.3\" class=\"atom-16\" style=\"fill:#FF00007F;fill-rule:evenodd;stroke:#FF00007F;stroke-width:1.0px;stroke-linecap:butt;stroke-linejoin:miter;stroke-opacity:1\"/>\n<ellipse cx=\"397.5\" cy=\"165.0\" rx=\"11.3\" ry=\"11.3\" class=\"atom-17\" style=\"fill:#FF00007F;fill-rule:evenodd;stroke:#FF00007F;stroke-width:1.0px;stroke-linecap:butt;stroke-linejoin:miter;stroke-opacity:1\"/>\n<ellipse cx=\"348.5\" cy=\"80.2\" rx=\"11.3\" ry=\"11.3\" class=\"atom-18\" style=\"fill:#FF00007F;fill-rule:evenodd;stroke:#FF00007F;stroke-width:1.0px;stroke-linecap:butt;stroke-linejoin:miter;stroke-opacity:1\"/>\n<ellipse cx=\"397.5\" cy=\"108.4\" rx=\"11.3\" ry=\"11.3\" class=\"atom-19\" style=\"fill:#FF00007F;fill-rule:evenodd;stroke:#FF00007F;stroke-width:1.0px;stroke-linecap:butt;stroke-linejoin:miter;stroke-opacity:1\"/>\n<ellipse cx=\"454.0\" cy=\"80.3\" rx=\"21.0\" ry=\"11.6\" class=\"atom-20\" style=\"fill:#FF00007F;fill-rule:evenodd;stroke:#FF00007F;stroke-width:1.0px;stroke-linecap:butt;stroke-linejoin:miter;stroke-opacity:1\"/>\n<ellipse cx=\"250.5\" cy=\"193.3\" rx=\"11.3\" ry=\"11.3\" class=\"atom-21\" style=\"fill:#FF00007F;fill-rule:evenodd;stroke:#FF00007F;stroke-width:1.0px;stroke-linecap:butt;stroke-linejoin:miter;stroke-opacity:1\"/>\n<path class=\"bond-0 atom-0 atom-1\" d=\"M 201.5,334.7 L 152.5,363.0\" style=\"fill:none;fill-rule:evenodd;stroke:#000000;stroke-width:2.0px;stroke-linecap:butt;stroke-linejoin:miter;stroke-opacity:1\"/>\n<path class=\"bond-1 atom-0 atom-5\" d=\"M 201.5,334.7 L 201.5,278.2\" style=\"fill:none;fill-rule:evenodd;stroke:#000000;stroke-width:2.0px;stroke-linecap:butt;stroke-linejoin:miter;stroke-opacity:1\"/>\n<path class=\"bond-2 atom-0 atom-7\" d=\"M 204.6,336.1 L 204.2,336.7\" style=\"fill:none;fill-rule:evenodd;stroke:#000000;stroke-width:1.0px;stroke-linecap:butt;stroke-linejoin:miter;stroke-opacity:1\"/>\n<path class=\"bond-2 atom-0 atom-7\" d=\"M 207.6,337.5 L 207.0,338.7\" style=\"fill:none;fill-rule:evenodd;stroke:#000000;stroke-width:1.0px;stroke-linecap:butt;stroke-linejoin:miter;stroke-opacity:1\"/>\n<path class=\"bond-2 atom-0 atom-7\" d=\"M 210.7,338.9 L 209.7,340.6\" style=\"fill:none;fill-rule:evenodd;stroke:#000000;stroke-width:1.0px;stroke-linecap:butt;stroke-linejoin:miter;stroke-opacity:1\"/>\n<path class=\"bond-2 atom-0 atom-7\" d=\"M 213.8,340.3 L 212.5,342.6\" style=\"fill:none;fill-rule:evenodd;stroke:#000000;stroke-width:1.0px;stroke-linecap:butt;stroke-linejoin:miter;stroke-opacity:1\"/>\n<path class=\"bond-2 atom-0 atom-7\" d=\"M 216.9,341.7 L 215.2,344.6\" style=\"fill:none;fill-rule:evenodd;stroke:#000000;stroke-width:1.0px;stroke-linecap:butt;stroke-linejoin:miter;stroke-opacity:1\"/>\n<path class=\"bond-2 atom-0 atom-7\" d=\"M 220.0,343.1 L 218.0,346.5\" style=\"fill:none;fill-rule:evenodd;stroke:#000000;stroke-width:1.0px;stroke-linecap:butt;stroke-linejoin:miter;stroke-opacity:1\"/>\n<path class=\"bond-2 atom-0 atom-7\" d=\"M 223.0,344.5 L 220.8,348.5\" style=\"fill:none;fill-rule:evenodd;stroke:#FF0000;stroke-width:1.0px;stroke-linecap:butt;stroke-linejoin:miter;stroke-opacity:1\"/>\n<path class=\"bond-2 atom-0 atom-7\" d=\"M 226.1,345.9 L 223.5,350.5\" style=\"fill:none;fill-rule:evenodd;stroke:#FF0000;stroke-width:1.0px;stroke-linecap:butt;stroke-linejoin:miter;stroke-opacity:1\"/>\n<path class=\"bond-2 atom-0 atom-7\" d=\"M 229.2,347.3 L 226.3,352.4\" style=\"fill:none;fill-rule:evenodd;stroke:#FF0000;stroke-width:1.0px;stroke-linecap:butt;stroke-linejoin:miter;stroke-opacity:1\"/>\n<path class=\"bond-2 atom-0 atom-7\" d=\"M 232.3,348.7 L 229.0,354.4\" style=\"fill:none;fill-rule:evenodd;stroke:#FF0000;stroke-width:1.0px;stroke-linecap:butt;stroke-linejoin:miter;stroke-opacity:1\"/>\n<path class=\"bond-2 atom-0 atom-7\" d=\"M 235.4,350.1 L 231.8,356.4\" style=\"fill:none;fill-rule:evenodd;stroke:#FF0000;stroke-width:1.0px;stroke-linecap:butt;stroke-linejoin:miter;stroke-opacity:1\"/>\n<path class=\"bond-2 atom-0 atom-7\" d=\"M 238.4,351.5 L 234.5,358.3\" style=\"fill:none;fill-rule:evenodd;stroke:#FF0000;stroke-width:1.0px;stroke-linecap:butt;stroke-linejoin:miter;stroke-opacity:1\"/>\n<path class=\"bond-2 atom-0 atom-7\" d=\"M 241.5,352.9 L 237.3,360.3\" style=\"fill:none;fill-rule:evenodd;stroke:#FF0000;stroke-width:1.0px;stroke-linecap:butt;stroke-linejoin:miter;stroke-opacity:1\"/>\n<path class=\"bond-3 atom-1 atom-2\" d=\"M 152.5,363.0 L 103.5,334.7\" style=\"fill:none;fill-rule:evenodd;stroke:#000000;stroke-width:2.0px;stroke-linecap:butt;stroke-linejoin:miter;stroke-opacity:1\"/>\n<path class=\"bond-4 atom-1 atom-8\" d=\"M 152.5,363.0 L 154.6,385.4 L 150.4,385.4 Z\" style=\"fill:#000000;fill-rule:evenodd;fill-opacity:1;stroke:#000000;stroke-width:0.5px;stroke-linecap:butt;stroke-linejoin:miter;stroke-opacity:1;\"/>\n<path class=\"bond-4 atom-1 atom-8\" d=\"M 154.6,385.4 L 148.2,407.8 L 156.7,407.8 Z\" style=\"fill:#FF0000;fill-rule:evenodd;fill-opacity:1;stroke:#FF0000;stroke-width:0.5px;stroke-linecap:butt;stroke-linejoin:miter;stroke-opacity:1;\"/>\n<path class=\"bond-4 atom-1 atom-8\" d=\"M 154.6,385.4 L 150.4,385.4 L 148.2,407.8 Z\" style=\"fill:#FF0000;fill-rule:evenodd;fill-opacity:1;stroke:#FF0000;stroke-width:0.5px;stroke-linecap:butt;stroke-linejoin:miter;stroke-opacity:1;\"/>\n<path class=\"bond-5 atom-2 atom-3\" d=\"M 103.5,334.7 L 103.5,278.2\" style=\"fill:none;fill-rule:evenodd;stroke:#000000;stroke-width:2.0px;stroke-linecap:butt;stroke-linejoin:miter;stroke-opacity:1\"/>\n<path class=\"bond-6 atom-2 atom-9\" d=\"M 100.7,336.7 L 100.4,336.1\" style=\"fill:none;fill-rule:evenodd;stroke:#000000;stroke-width:1.0px;stroke-linecap:butt;stroke-linejoin:miter;stroke-opacity:1\"/>\n<path class=\"bond-6 atom-2 atom-9\" d=\"M 98.0,338.7 L 97.3,337.5\" style=\"fill:none;fill-rule:evenodd;stroke:#000000;stroke-width:1.0px;stroke-linecap:butt;stroke-linejoin:miter;stroke-opacity:1\"/>\n<path class=\"bond-6 atom-2 atom-9\" d=\"M 95.2,340.6 L 94.3,338.9\" style=\"fill:none;fill-rule:evenodd;stroke:#000000;stroke-width:1.0px;stroke-linecap:butt;stroke-linejoin:miter;stroke-opacity:1\"/>\n<path class=\"bond-6 atom-2 atom-9\" d=\"M 92.5,342.6 L 91.2,340.3\" style=\"fill:none;fill-rule:evenodd;stroke:#000000;stroke-width:1.0px;stroke-linecap:butt;stroke-linejoin:miter;stroke-opacity:1\"/>\n<path class=\"bond-6 atom-2 atom-9\" d=\"M 89.7,344.6 L 88.1,341.7\" style=\"fill:none;fill-rule:evenodd;stroke:#000000;stroke-width:1.0px;stroke-linecap:butt;stroke-linejoin:miter;stroke-opacity:1\"/>\n<path class=\"bond-6 atom-2 atom-9\" d=\"M 87.0,346.5 L 85.0,343.1\" style=\"fill:none;fill-rule:evenodd;stroke:#000000;stroke-width:1.0px;stroke-linecap:butt;stroke-linejoin:miter;stroke-opacity:1\"/>\n<path class=\"bond-6 atom-2 atom-9\" d=\"M 84.2,348.5 L 81.9,344.5\" style=\"fill:none;fill-rule:evenodd;stroke:#FF0000;stroke-width:1.0px;stroke-linecap:butt;stroke-linejoin:miter;stroke-opacity:1\"/>\n<path class=\"bond-6 atom-2 atom-9\" d=\"M 81.5,350.5 L 78.9,345.9\" style=\"fill:none;fill-rule:evenodd;stroke:#FF0000;stroke-width:1.0px;stroke-linecap:butt;stroke-linejoin:miter;stroke-opacity:1\"/>\n<path class=\"bond-6 atom-2 atom-9\" d=\"M 78.7,352.4 L 75.8,347.3\" style=\"fill:none;fill-rule:evenodd;stroke:#FF0000;stroke-width:1.0px;stroke-linecap:butt;stroke-linejoin:miter;stroke-opacity:1\"/>\n<path class=\"bond-6 atom-2 atom-9\" d=\"M 76.0,354.4 L 72.7,348.7\" style=\"fill:none;fill-rule:evenodd;stroke:#FF0000;stroke-width:1.0px;stroke-linecap:butt;stroke-linejoin:miter;stroke-opacity:1\"/>\n<path class=\"bond-6 atom-2 atom-9\" d=\"M 73.2,356.4 L 69.6,350.1\" style=\"fill:none;fill-rule:evenodd;stroke:#FF0000;stroke-width:1.0px;stroke-linecap:butt;stroke-linejoin:miter;stroke-opacity:1\"/>\n<path class=\"bond-6 atom-2 atom-9\" d=\"M 70.5,358.3 L 66.5,351.5\" style=\"fill:none;fill-rule:evenodd;stroke:#FF0000;stroke-width:1.0px;stroke-linecap:butt;stroke-linejoin:miter;stroke-opacity:1\"/>\n<path class=\"bond-6 atom-2 atom-9\" d=\"M 67.7,360.3 L 63.5,352.9\" style=\"fill:none;fill-rule:evenodd;stroke:#FF0000;stroke-width:1.0px;stroke-linecap:butt;stroke-linejoin:miter;stroke-opacity:1\"/>\n<path class=\"bond-7 atom-3 atom-4\" d=\"M 103.5,278.2 L 54.5,254.6 L 54.5,244.8 Z\" style=\"fill:#000000;fill-rule:evenodd;fill-opacity:1;stroke:#000000;stroke-width:0.5px;stroke-linecap:butt;stroke-linejoin:miter;stroke-opacity:1;\"/>\n<path class=\"bond-8 atom-3 atom-10\" d=\"M 103.5,278.2 L 123.4,266.7\" style=\"fill:none;fill-rule:evenodd;stroke:#000000;stroke-width:2.0px;stroke-linecap:butt;stroke-linejoin:miter;stroke-opacity:1\"/>\n<path class=\"bond-8 atom-3 atom-10\" d=\"M 123.4,266.7 L 143.3,255.2\" style=\"fill:none;fill-rule:evenodd;stroke:#FF0000;stroke-width:2.0px;stroke-linecap:butt;stroke-linejoin:miter;stroke-opacity:1\"/>\n<path class=\"bond-9 atom-4 atom-11\" d=\"M 54.5,254.6 L 54.5,226.7\" style=\"fill:none;fill-rule:evenodd;stroke:#000000;stroke-width:2.0px;stroke-linecap:butt;stroke-linejoin:miter;stroke-opacity:1\"/>\n<path class=\"bond-9 atom-4 atom-11\" d=\"M 54.5,226.7 L 54.5,203.5\" style=\"fill:none;fill-rule:evenodd;stroke:#FF0000;stroke-width:2.0px;stroke-linecap:butt;stroke-linejoin:miter;stroke-opacity:1\"/>\n<path class=\"bond-10 atom-5 atom-6\" d=\"M 201.5,278.2 L 219.4,265.4 L 221.5,269.1 Z\" style=\"fill:#000000;fill-rule:evenodd;fill-opacity:1;stroke:#000000;stroke-width:0.5px;stroke-linecap:butt;stroke-linejoin:miter;stroke-opacity:1;\"/>\n<path class=\"bond-10 atom-5 atom-6\" d=\"M 219.4,265.4 L 241.5,260.0 L 237.3,252.6 Z\" style=\"fill:#FF0000;fill-rule:evenodd;fill-opacity:1;stroke:#FF0000;stroke-width:0.5px;stroke-linecap:butt;stroke-linejoin:miter;stroke-opacity:1;\"/>\n<path class=\"bond-10 atom-5 atom-6\" d=\"M 219.4,265.4 L 221.5,269.1 L 241.5,260.0 Z\" style=\"fill:#FF0000;fill-rule:evenodd;fill-opacity:1;stroke:#FF0000;stroke-width:0.5px;stroke-linecap:butt;stroke-linejoin:miter;stroke-opacity:1;\"/>\n<path class=\"bond-11 atom-5 atom-10\" d=\"M 201.5,278.2 L 181.6,266.7\" style=\"fill:none;fill-rule:evenodd;stroke:#000000;stroke-width:2.0px;stroke-linecap:butt;stroke-linejoin:miter;stroke-opacity:1\"/>\n<path class=\"bond-11 atom-5 atom-10\" d=\"M 181.6,266.7 L 161.7,255.2\" style=\"fill:none;fill-rule:evenodd;stroke:#FF0000;stroke-width:2.0px;stroke-linecap:butt;stroke-linejoin:miter;stroke-opacity:1\"/>\n<path class=\"bond-12 atom-12 atom-13\" d=\"M 160.4,141.3 L 181.0,153.2\" style=\"fill:none;fill-rule:evenodd;stroke:#0000FF;stroke-width:2.0px;stroke-linecap:butt;stroke-linejoin:miter;stroke-opacity:1\"/>\n<path class=\"bond-12 atom-12 atom-13\" d=\"M 181.0,153.2 L 201.5,165.0\" style=\"fill:none;fill-rule:evenodd;stroke:#000000;stroke-width:2.0px;stroke-linecap:butt;stroke-linejoin:miter;stroke-opacity:1\"/>\n<path class=\"bond-12 atom-12 atom-13\" d=\"M 164.7,134.0 L 185.2,145.8\" style=\"fill:none;fill-rule:evenodd;stroke:#0000FF;stroke-width:2.0px;stroke-linecap:butt;stroke-linejoin:miter;stroke-opacity:1\"/>\n<path class=\"bond-12 atom-12 atom-13\" d=\"M 185.2,145.8 L 205.7,157.7\" style=\"fill:none;fill-rule:evenodd;stroke:#000000;stroke-width:2.0px;stroke-linecap:butt;stroke-linejoin:miter;stroke-opacity:1\"/>\n<path class=\"bond-12 atom-12 atom-13\" d=\"M 156.2,148.7 L 176.7,160.5\" style=\"fill:none;fill-rule:evenodd;stroke:#0000FF;stroke-width:2.0px;stroke-linecap:butt;stroke-linejoin:miter;stroke-opacity:1\"/>\n<path class=\"bond-12 atom-12 atom-13\" d=\"M 176.7,160.5 L 197.2,172.4\" style=\"fill:none;fill-rule:evenodd;stroke:#000000;stroke-width:2.0px;stroke-linecap:butt;stroke-linejoin:miter;stroke-opacity:1\"/>\n<path class=\"bond-13 atom-21 atom-13\" d=\"M 247.6,191.3 L 247.3,191.8\" style=\"fill:none;fill-rule:evenodd;stroke:#000000;stroke-width:1.0px;stroke-linecap:butt;stroke-linejoin:miter;stroke-opacity:1\"/>\n<path class=\"bond-13 atom-21 atom-13\" d=\"M 244.6,189.3 L 244.1,190.3\" style=\"fill:none;fill-rule:evenodd;stroke:#000000;stroke-width:1.0px;stroke-linecap:butt;stroke-linejoin:miter;stroke-opacity:1\"/>\n<path class=\"bond-13 atom-21 atom-13\" d=\"M 241.7,187.3 L 240.9,188.7\" style=\"fill:none;fill-rule:evenodd;stroke:#000000;stroke-width:1.0px;stroke-linecap:butt;stroke-linejoin:miter;stroke-opacity:1\"/>\n<path class=\"bond-13 atom-21 atom-13\" d=\"M 238.8,185.3 L 237.7,187.2\" style=\"fill:none;fill-rule:evenodd;stroke:#000000;stroke-width:1.0px;stroke-linecap:butt;stroke-linejoin:miter;stroke-opacity:1\"/>\n<path class=\"bond-13 atom-21 atom-13\" d=\"M 235.9,183.2 L 234.5,185.7\" style=\"fill:none;fill-rule:evenodd;stroke:#000000;stroke-width:1.0px;stroke-linecap:butt;stroke-linejoin:miter;stroke-opacity:1\"/>\n<path class=\"bond-13 atom-21 atom-13\" d=\"M 233.0,181.2 L 231.3,184.2\" style=\"fill:none;fill-rule:evenodd;stroke:#000000;stroke-width:1.0px;stroke-linecap:butt;stroke-linejoin:miter;stroke-opacity:1\"/>\n<path class=\"bond-13 atom-21 atom-13\" d=\"M 230.0,179.2 L 228.1,182.6\" style=\"fill:none;fill-rule:evenodd;stroke:#000000;stroke-width:1.0px;stroke-linecap:butt;stroke-linejoin:miter;stroke-opacity:1\"/>\n<path class=\"bond-13 atom-21 atom-13\" d=\"M 227.1,177.2 L 224.9,181.1\" style=\"fill:none;fill-rule:evenodd;stroke:#000000;stroke-width:1.0px;stroke-linecap:butt;stroke-linejoin:miter;stroke-opacity:1\"/>\n<path class=\"bond-13 atom-21 atom-13\" d=\"M 224.2,175.2 L 221.7,179.6\" style=\"fill:none;fill-rule:evenodd;stroke:#000000;stroke-width:1.0px;stroke-linecap:butt;stroke-linejoin:miter;stroke-opacity:1\"/>\n<path class=\"bond-13 atom-21 atom-13\" d=\"M 221.3,173.2 L 218.5,178.1\" style=\"fill:none;fill-rule:evenodd;stroke:#000000;stroke-width:1.0px;stroke-linecap:butt;stroke-linejoin:miter;stroke-opacity:1\"/>\n<path class=\"bond-13 atom-21 atom-13\" d=\"M 218.4,171.2 L 215.3,176.6\" style=\"fill:none;fill-rule:evenodd;stroke:#000000;stroke-width:1.0px;stroke-linecap:butt;stroke-linejoin:miter;stroke-opacity:1\"/>\n<path class=\"bond-13 atom-21 atom-13\" d=\"M 215.4,169.2 L 212.1,175.0\" style=\"fill:none;fill-rule:evenodd;stroke:#000000;stroke-width:1.0px;stroke-linecap:butt;stroke-linejoin:miter;stroke-opacity:1\"/>\n<path class=\"bond-13 atom-21 atom-13\" d=\"M 212.5,167.1 L 208.8,173.5\" style=\"fill:none;fill-rule:evenodd;stroke:#000000;stroke-width:1.0px;stroke-linecap:butt;stroke-linejoin:miter;stroke-opacity:1\"/>\n<path class=\"bond-13 atom-21 atom-13\" d=\"M 209.6,165.1 L 205.6,172.0\" style=\"fill:none;fill-rule:evenodd;stroke:#000000;stroke-width:1.0px;stroke-linecap:butt;stroke-linejoin:miter;stroke-opacity:1\"/>\n<path class=\"bond-13 atom-21 atom-13\" d=\"M 206.7,163.1 L 202.4,170.5\" style=\"fill:none;fill-rule:evenodd;stroke:#000000;stroke-width:1.0px;stroke-linecap:butt;stroke-linejoin:miter;stroke-opacity:1\"/>\n<path class=\"bond-14 atom-14 atom-15\" d=\"M 299.5,165.0 L 299.5,108.4\" style=\"fill:none;fill-rule:evenodd;stroke:#000000;stroke-width:2.0px;stroke-linecap:butt;stroke-linejoin:miter;stroke-opacity:1\"/>\n<path class=\"bond-14 atom-14 atom-15\" d=\"M 308.0,160.1 L 308.0,113.3\" style=\"fill:none;fill-rule:evenodd;stroke:#000000;stroke-width:2.0px;stroke-linecap:butt;stroke-linejoin:miter;stroke-opacity:1\"/>\n<path class=\"bond-15 atom-14 atom-16\" d=\"M 299.5,165.0 L 348.5,193.3\" style=\"fill:none;fill-rule:evenodd;stroke:#000000;stroke-width:2.0px;stroke-linecap:butt;stroke-linejoin:miter;stroke-opacity:1\"/>\n<path class=\"bond-16 atom-14 atom-21\" d=\"M 299.5,165.0 L 250.5,193.3\" style=\"fill:none;fill-rule:evenodd;stroke:#000000;stroke-width:2.0px;stroke-linecap:butt;stroke-linejoin:miter;stroke-opacity:1\"/>\n<path class=\"bond-17 atom-15 atom-18\" d=\"M 299.5,108.4 L 348.5,80.2\" style=\"fill:none;fill-rule:evenodd;stroke:#000000;stroke-width:2.0px;stroke-linecap:butt;stroke-linejoin:miter;stroke-opacity:1\"/>\n<path class=\"bond-18 atom-16 atom-17\" d=\"M 348.5,193.3 L 397.5,165.0\" style=\"fill:none;fill-rule:evenodd;stroke:#000000;stroke-width:2.0px;stroke-linecap:butt;stroke-linejoin:miter;stroke-opacity:1\"/>\n<path class=\"bond-18 atom-16 atom-17\" d=\"M 348.5,183.5 L 389.0,160.1\" style=\"fill:none;fill-rule:evenodd;stroke:#000000;stroke-width:2.0px;stroke-linecap:butt;stroke-linejoin:miter;stroke-opacity:1\"/>\n<path class=\"bond-19 atom-17 atom-19\" d=\"M 397.5,165.0 L 397.5,108.4\" style=\"fill:none;fill-rule:evenodd;stroke:#000000;stroke-width:2.0px;stroke-linecap:butt;stroke-linejoin:miter;stroke-opacity:1\"/>\n<path class=\"bond-20 atom-18 atom-19\" d=\"M 348.5,80.2 L 397.5,108.4\" style=\"fill:none;fill-rule:evenodd;stroke:#000000;stroke-width:2.0px;stroke-linecap:butt;stroke-linejoin:miter;stroke-opacity:1\"/>\n<path class=\"bond-20 atom-18 atom-19\" d=\"M 348.5,90.0 L 389.0,113.3\" style=\"fill:none;fill-rule:evenodd;stroke:#000000;stroke-width:2.0px;stroke-linecap:butt;stroke-linejoin:miter;stroke-opacity:1\"/>\n<path class=\"bond-21 atom-19 atom-20\" d=\"M 397.5,108.4 L 417.3,97.0\" style=\"fill:none;fill-rule:evenodd;stroke:#000000;stroke-width:2.0px;stroke-linecap:butt;stroke-linejoin:miter;stroke-opacity:1\"/>\n<path class=\"bond-21 atom-19 atom-20\" d=\"M 417.3,97.0 L 437.2,85.5\" style=\"fill:none;fill-rule:evenodd;stroke:#FF0000;stroke-width:2.0px;stroke-linecap:butt;stroke-linejoin:miter;stroke-opacity:1\"/>\n<path class=\"bond-22 atom-6 atom-21\" d=\"M 250.5,239.9 L 250.5,216.6\" style=\"fill:none;fill-rule:evenodd;stroke:#FF0000;stroke-width:2.0px;stroke-linecap:butt;stroke-linejoin:miter;stroke-opacity:1\"/>\n<path class=\"bond-22 atom-6 atom-21\" d=\"M 250.5,216.6 L 250.5,193.3\" style=\"fill:none;fill-rule:evenodd;stroke:#000000;stroke-width:2.0px;stroke-linecap:butt;stroke-linejoin:miter;stroke-opacity:1\"/>\n<path d=\"M 199.0,336.2 L 201.5,334.7 L 201.5,331.9\" style=\"fill:none;stroke:#000000;stroke-width:2.0px;stroke-linecap:butt;stroke-linejoin:miter;stroke-opacity:1;\"/>\n<path d=\"M 154.9,361.6 L 152.5,363.0 L 150.0,361.6\" style=\"fill:none;stroke:#000000;stroke-width:2.0px;stroke-linecap:butt;stroke-linejoin:miter;stroke-opacity:1;\"/>\n<path d=\"M 105.9,336.2 L 103.5,334.7 L 103.5,331.9\" style=\"fill:none;stroke:#000000;stroke-width:2.0px;stroke-linecap:butt;stroke-linejoin:miter;stroke-opacity:1;\"/>\n<path d=\"M 103.5,281.0 L 103.5,278.2 L 104.5,277.6\" style=\"fill:none;stroke:#000000;stroke-width:2.0px;stroke-linecap:butt;stroke-linejoin:miter;stroke-opacity:1;\"/>\n<path d=\"M 201.5,281.0 L 201.5,278.2 L 200.5,277.6\" style=\"fill:none;stroke:#000000;stroke-width:2.0px;stroke-linecap:butt;stroke-linejoin:miter;stroke-opacity:1;\"/>\n<path d=\"M 299.5,111.3 L 299.5,108.4 L 301.9,107.0\" style=\"fill:none;stroke:#000000;stroke-width:2.0px;stroke-linecap:butt;stroke-linejoin:miter;stroke-opacity:1;\"/>\n<path d=\"M 346.0,191.9 L 348.5,193.3 L 350.9,191.9\" style=\"fill:none;stroke:#000000;stroke-width:2.0px;stroke-linecap:butt;stroke-linejoin:miter;stroke-opacity:1;\"/>\n<path d=\"M 395.0,166.4 L 397.5,165.0 L 397.5,162.2\" style=\"fill:none;stroke:#000000;stroke-width:2.0px;stroke-linecap:butt;stroke-linejoin:miter;stroke-opacity:1;\"/>\n<path d=\"M 346.0,81.6 L 348.5,80.2 L 350.9,81.6\" style=\"fill:none;stroke:#000000;stroke-width:2.0px;stroke-linecap:butt;stroke-linejoin:miter;stroke-opacity:1;\"/>\n<path d=\"M 252.9,191.9 L 250.5,193.3 L 250.5,194.5\" style=\"fill:none;stroke:#000000;stroke-width:2.0px;stroke-linecap:butt;stroke-linejoin:miter;stroke-opacity:1;\"/>\n<path class=\"atom-6\" d=\"M 243.1 249.9 Q 243.1 246.1, 245.0 243.9 Q 246.9 241.8, 250.5 241.8 Q 254.0 241.8, 255.9 243.9 Q 257.8 246.1, 257.8 249.9 Q 257.8 253.8, 255.9 256.0 Q 254.0 258.2, 250.5 258.2 Q 246.9 258.2, 245.0 256.0 Q 243.1 253.8, 243.1 249.9 M 250.5 256.4 Q 252.9 256.4, 254.2 254.8 Q 255.6 253.1, 255.6 249.9 Q 255.6 246.8, 254.2 245.2 Q 252.9 243.6, 250.5 243.6 Q 248.0 243.6, 246.7 245.2 Q 245.4 246.8, 245.4 249.9 Q 245.4 253.2, 246.7 254.8 Q 248.0 256.4, 250.5 256.4 \" fill=\"#FF0000\"/>\n<path class=\"atom-7\" d=\"M 243.1 363.1 Q 243.1 359.2, 245.0 357.1 Q 246.9 354.9, 250.5 354.9 Q 254.0 354.9, 255.9 357.1 Q 257.8 359.2, 257.8 363.1 Q 257.8 367.0, 255.9 369.2 Q 254.0 371.4, 250.5 371.4 Q 246.9 371.4, 245.0 369.2 Q 243.1 367.0, 243.1 363.1 M 250.5 369.6 Q 252.9 369.6, 254.2 367.9 Q 255.6 366.3, 255.6 363.1 Q 255.6 359.9, 254.2 358.3 Q 252.9 356.7, 250.5 356.7 Q 248.0 356.7, 246.7 358.3 Q 245.4 359.9, 245.4 363.1 Q 245.4 366.3, 246.7 367.9 Q 248.0 369.6, 250.5 369.6 \" fill=\"#FF0000\"/>\n<path class=\"atom-7\" d=\"M 260.3 355.1 L 262.5 355.1 L 262.5 361.9 L 270.7 361.9 L 270.7 355.1 L 272.9 355.1 L 272.9 371.1 L 270.7 371.1 L 270.7 363.7 L 262.5 363.7 L 262.5 371.1 L 260.3 371.1 L 260.3 355.1 \" fill=\"#FF0000\"/>\n<path class=\"atom-8\" d=\"M 145.1 419.6 Q 145.1 415.8, 147.0 413.6 Q 148.9 411.5, 152.5 411.5 Q 156.0 411.5, 157.9 413.6 Q 159.8 415.8, 159.8 419.6 Q 159.8 423.5, 157.9 425.8 Q 156.0 427.9, 152.5 427.9 Q 149.0 427.9, 147.0 425.8 Q 145.1 423.6, 145.1 419.6 M 152.5 426.1 Q 154.9 426.1, 156.2 424.5 Q 157.6 422.9, 157.6 419.6 Q 157.6 416.5, 156.2 414.9 Q 154.9 413.3, 152.5 413.3 Q 150.0 413.3, 148.7 414.9 Q 147.4 416.5, 147.4 419.6 Q 147.4 422.9, 148.7 424.5 Q 150.0 426.1, 152.5 426.1 \" fill=\"#FF0000\"/>\n<path class=\"atom-8\" d=\"M 162.3 411.7 L 164.5 411.7 L 164.5 418.5 L 172.7 418.5 L 172.7 411.7 L 174.9 411.7 L 174.9 427.7 L 172.7 427.7 L 172.7 420.3 L 164.5 420.3 L 164.5 427.7 L 162.3 427.7 L 162.3 411.7 \" fill=\"#FF0000\"/>\n<path class=\"atom-9\" d=\"M 31.3 355.1 L 33.5 355.1 L 33.5 361.9 L 41.7 361.9 L 41.7 355.1 L 43.9 355.1 L 43.9 371.1 L 41.7 371.1 L 41.7 363.7 L 33.5 363.7 L 33.5 371.1 L 31.3 371.1 L 31.3 355.1 \" fill=\"#FF0000\"/>\n<path class=\"atom-9\" d=\"M 47.1 363.1 Q 47.1 359.2, 49.0 357.1 Q 50.9 354.9, 54.5 354.9 Q 58.1 354.9, 60.0 357.1 Q 61.9 359.2, 61.9 363.1 Q 61.9 367.0, 59.9 369.2 Q 58.0 371.4, 54.5 371.4 Q 51.0 371.4, 49.0 369.2 Q 47.1 367.0, 47.1 363.1 M 54.5 369.6 Q 56.9 369.6, 58.3 367.9 Q 59.6 366.3, 59.6 363.1 Q 59.6 359.9, 58.3 358.3 Q 56.9 356.7, 54.5 356.7 Q 52.1 356.7, 50.7 358.3 Q 49.4 359.9, 49.4 363.1 Q 49.4 366.3, 50.7 367.9 Q 52.1 369.6, 54.5 369.6 \" fill=\"#FF0000\"/>\n<path class=\"atom-10\" d=\"M 145.1 249.9 Q 145.1 246.1, 147.0 243.9 Q 148.9 241.8, 152.5 241.8 Q 156.0 241.8, 157.9 243.9 Q 159.8 246.1, 159.8 249.9 Q 159.8 253.8, 157.9 256.0 Q 156.0 258.2, 152.5 258.2 Q 149.0 258.2, 147.0 256.0 Q 145.1 253.8, 145.1 249.9 M 152.5 256.4 Q 154.9 256.4, 156.2 254.8 Q 157.6 253.1, 157.6 249.9 Q 157.6 246.8, 156.2 245.2 Q 154.9 243.6, 152.5 243.6 Q 150.0 243.6, 148.7 245.2 Q 147.4 246.8, 147.4 249.9 Q 147.4 253.2, 148.7 254.8 Q 150.0 256.4, 152.5 256.4 \" fill=\"#FF0000\"/>\n<path class=\"atom-11\" d=\"M 47.1 193.3 Q 47.1 189.5, 49.0 187.3 Q 50.9 185.2, 54.5 185.2 Q 58.1 185.2, 60.0 187.3 Q 61.9 189.5, 61.9 193.3 Q 61.9 197.2, 59.9 199.5 Q 58.0 201.7, 54.5 201.7 Q 51.0 201.7, 49.0 199.5 Q 47.1 197.3, 47.1 193.3 M 54.5 199.8 Q 56.9 199.8, 58.3 198.2 Q 59.6 196.6, 59.6 193.3 Q 59.6 190.2, 58.3 188.6 Q 56.9 187.0, 54.5 187.0 Q 52.1 187.0, 50.7 188.6 Q 49.4 190.2, 49.4 193.3 Q 49.4 196.6, 50.7 198.2 Q 52.1 199.8, 54.5 199.8 \" fill=\"#FF0000\"/>\n<path class=\"atom-11\" d=\"M 64.3 185.4 L 66.5 185.4 L 66.5 192.2 L 74.7 192.2 L 74.7 185.4 L 76.9 185.4 L 76.9 201.4 L 74.7 201.4 L 74.7 194.0 L 66.5 194.0 L 66.5 201.4 L 64.3 201.4 L 64.3 185.4 \" fill=\"#FF0000\"/>\n<path class=\"atom-12\" d=\"M 148.9 128.7 L 154.2 137.2 Q 154.7 138.0, 155.6 139.6 Q 156.4 141.1, 156.4 141.2 L 156.4 128.7 L 158.6 128.7 L 158.6 144.7 L 156.4 144.7 L 150.7 135.5 Q 150.1 134.4, 149.4 133.1 Q 148.7 131.9, 148.5 131.5 L 148.5 144.7 L 146.4 144.7 L 146.4 128.7 L 148.9 128.7 \" fill=\"#0000FF\"/>\n<path class=\"atom-20\" d=\"M 439.1 80.2 Q 439.1 76.4, 441.0 74.2 Q 442.9 72.1, 446.5 72.1 Q 450.0 72.1, 451.9 74.2 Q 453.8 76.4, 453.8 80.2 Q 453.8 84.1, 451.9 86.3 Q 450.0 88.5, 446.5 88.5 Q 442.9 88.5, 441.0 86.3 Q 439.1 84.1, 439.1 80.2 M 446.5 86.7 Q 448.9 86.7, 450.2 85.1 Q 451.5 83.4, 451.5 80.2 Q 451.5 77.1, 450.2 75.5 Q 448.9 73.9, 446.5 73.9 Q 444.0 73.9, 442.7 75.4 Q 441.4 77.0, 441.4 80.2 Q 441.4 83.4, 442.7 85.1 Q 444.0 86.7, 446.5 86.7 \" fill=\"#FF0000\"/>\n<path class=\"atom-20\" d=\"M 456.3 72.2 L 458.5 72.2 L 458.5 79.0 L 466.7 79.0 L 466.7 72.2 L 468.8 72.2 L 468.8 88.3 L 466.7 88.3 L 466.7 80.9 L 458.5 80.9 L 458.5 88.3 L 456.3 88.3 L 456.3 72.2 \" fill=\"#FF0000\"/>\n</svg>"
          },
          "metadata": {},
          "execution_count": 112
        }
      ],
      "source": [
        "SVG(\"dhurrin_ccd.svg\")"
      ]
    },
    {
      "cell_type": "markdown",
      "metadata": {
        "id": "s-pkaal0r_GZ"
      },
      "source": [
        "###&nbsp; 1.9.3 Analysis of Drug-like molecules in PDB"
      ]
    },
    {
      "cell_type": "code",
      "execution_count": 113,
      "metadata": {
        "colab": {
          "base_uri": "https://localhost:8080/"
        },
        "id": "lRFwo9sRr_GZ",
        "outputId": "d1fa06a4-738b-4d81-977c-a545614facda"
      },
      "outputs": [
        {
          "output_type": "execute_result",
          "data": {
            "text/plain": [
              "array(['BME', 'MES', 'SAH', ..., 'P5S', 'A1APA', 'COC'], dtype=object)"
            ]
          },
          "metadata": {},
          "execution_count": 113
        }
      ],
      "source": [
        "drug_like_molecules = int_chain_ligand.loc[int_chain_ligand[\"annotation\"]==\"drug-like\", \"LigandID\"].unique()\n",
        "drug_like_molecules"
      ]
    },
    {
      "cell_type": "code",
      "execution_count": 114,
      "metadata": {
        "colab": {
          "base_uri": "https://localhost:8080/",
          "height": 35
        },
        "id": "-Op_grBnr_GZ",
        "outputId": "012ee535-2893-4d90-e0b5-6f6735544a67"
      },
      "outputs": [
        {
          "output_type": "execute_result",
          "data": {
            "text/plain": [
              "'components.cif'"
            ],
            "application/vnd.google.colaboratory.intrinsic+json": {
              "type": "string"
            }
          },
          "metadata": {},
          "execution_count": 114
        }
      ],
      "source": [
        "ccd_component_cif = os.path.join(PDBECHEM_URL, \"ccd\", \"components.cif\")\n",
        "wget.download(ccd_component_cif)"
      ]
    },
    {
      "cell_type": "code",
      "execution_count": 115,
      "metadata": {
        "id": "Ojk7MsSAr_Ga"
      },
      "outputs": [],
      "source": [
        "# This is a large file and may take some time to download.\n",
        "# It will be a good idea to remove this file before going to other session to avoid exhausting the freely available RAM\n",
        "ccd_components = ccd_reader.read_pdb_components_file(\"components.cif\")"
      ]
    },
    {
      "cell_type": "code",
      "execution_count": 116,
      "metadata": {
        "id": "61YddUi1r_Ga"
      },
      "outputs": [],
      "source": [
        "import matplotlib.pyplot as plt"
      ]
    },
    {
      "cell_type": "code",
      "execution_count": 117,
      "metadata": {
        "id": "nenZ1sjEr_Ga"
      },
      "outputs": [],
      "source": [
        "#Filter based on number of atoms\n",
        "drug_like_with_heavy_atoms = []\n",
        "for ccd in drug_like_molecules:\n",
        "    num_heavy_atoms = ccd_components[ccd].component.physchem_properties.get(\"NumHeavyAtoms\", 0)\n",
        "    if num_heavy_atoms > 6:\n",
        "        drug_like_with_heavy_atoms.append(ccd)\n"
      ]
    },
    {
      "cell_type": "code",
      "execution_count": 118,
      "metadata": {
        "id": "iu3jU29pr_Ga"
      },
      "outputs": [],
      "source": [
        "drug_like_weights = []\n",
        "for ccd in drug_like_with_heavy_atoms:\n",
        "    if \"exactmw\" in ccd_components[ccd].component.physchem_properties:\n",
        "        drug_like_weights.append(ccd_components[ccd].component.physchem_properties[\"exactmw\"])"
      ]
    },
    {
      "cell_type": "code",
      "execution_count": 119,
      "metadata": {
        "id": "XxMeSYg9r_Ga",
        "outputId": "0f37a8d4-4746-490d-8a5d-ce9e3bd41422",
        "colab": {
          "base_uri": "https://localhost:8080/",
          "height": 449
        }
      },
      "outputs": [
        {
          "output_type": "display_data",
          "data": {
            "text/plain": [
              "<Figure size 640x480 with 1 Axes>"
            ],
            "image/png": "[encoded data removed]"
          },
          "metadata": {}
        }
      ],
      "source": [
        "plt.hist(drug_like_weights)\n",
        "plt.xlabel(\"Molecular Weight\")\n",
        "plt.ylabel(\"Frequency\")\n",
        "plt.show()"
      ]
    },
    {
      "cell_type": "markdown",
      "metadata": {
        "id": "Esq6k7rLy2t0"
      },
      "source": [
        "#&nbsp; 2. PDBe Arpeggio"
      ]
    },
    {
      "cell_type": "markdown",
      "source": [
        "## Introduction\n",
        "\n",
        "PDBe Arpeggio is an open-source python package to calculate interatomic interactions between macromolecules and ligands from their 3D structures. Currently the library only supports macromolecule-ligand complexes in mmCIF format.\n",
        "\n",
        "In this notebook, we will analyse the protein-ligand interactions present in the crystal structure of hexameric P4 ATPase from bacteriophage $\\phi$12 in complex with ATP analog (APC - $\\alpha$,$\\beta$-methyleneadenosine-5'-triphosphate) from the PDB entry [1w48](https://pdbe.org/1w48). The model file for this PDB entry is a homo trimer and the biological assembly is a homo hexamer. There are 6 instances of ligand APC binding at the interface of adjacent subunits of the PDB entry on the outer surface. We will calculate the interactions between the protein and APC, and identify important interaction types and residues in the binding pocket.\n",
        "\n",
        "Before running the interaction calculations using PDBe Arpeggio, the protein-ligand complex need to be prepared. The preparation steps usually involves:\n",
        "- Selecting an appropriate model of PDB entry if there are multiple models\n",
        "- Selecting appropriate conformations of atoms and residues, if there are multiple conformations present\n",
        "- Creating biological assembly of the model\n",
        "- Protonating the strcuture in an appropriate pH for the analysis\n",
        "\n",
        "For the sake of this tutorial, we will use the protonated biological assembly of PDB ID: [1w48](https://pdbe.org/1w48)) available from PDBe static file server. This file is generated by\n",
        "- Selecting the first model if there are multiple models\n",
        "- Keeping only the conformation with maximum occupancy\n",
        "- Creating biological assembly using [Model Server](https://molstar.org/docs/data-access-tools/model-server/)\n",
        "- Protonating at pH 7.4 using [ChimeraX](https://www.rbvi.ucsf.edu/chimerax/)\n",
        "\n",
        "\n",
        "   "
      ],
      "metadata": {
        "id": "miM1sLEIX8wm"
      }
    },
    {
      "cell_type": "markdown",
      "source": [
        "## Installation of dependencies"
      ],
      "metadata": {
        "id": "G-a0ctaGbYMx"
      }
    },
    {
      "cell_type": "code",
      "source": [
        "# install openbabel\n",
        "!apt-get install openbabel"
      ],
      "metadata": {
        "colab": {
          "base_uri": "https://localhost:8080/"
        },
        "id": "qLR8R4lDbcXe",
        "outputId": "14f43d3b-a8a5-4727-b67e-4df2945f4f83"
      },
      "execution_count": 120,
      "outputs": [
        {
          "output_type": "stream",
          "name": "stdout",
          "text": [
            "Reading package lists... Done\n",
            "Building dependency tree... Done\n",
            "Reading state information... Done\n",
            "The following additional packages will be installed:\n",
            "  libinchi1 libmaeparser1 libopenbabel7\n",
            "The following NEW packages will be installed:\n",
            "  libinchi1 libmaeparser1 libopenbabel7 openbabel\n",
            "0 upgraded, 4 newly installed, 0 to remove and 49 not upgraded.\n",
            "Need to get 3,903 kB of archives.\n",
            "After this operation, 16.9 MB of additional disk space will be used.\n",
            "Get:1 http://archive.ubuntu.com/ubuntu jammy/universe amd64 libinchi1 amd64 1.03+dfsg-4 [455 kB]\n",
            "Get:2 http://archive.ubuntu.com/ubuntu jammy/universe amd64 libmaeparser1 amd64 1.2.4-1build1 [88.2 kB]\n",
            "Get:3 http://archive.ubuntu.com/ubuntu jammy/universe amd64 libopenbabel7 amd64 3.1.1+dfsg-6ubuntu5 [3,231 kB]\n",
            "Get:4 http://archive.ubuntu.com/ubuntu jammy/universe amd64 openbabel amd64 3.1.1+dfsg-6ubuntu5 [128 kB]\n",
            "Fetched 3,903 kB in 1s (3,869 kB/s)\n",
            "Selecting previously unselected package libinchi1.\n",
            "(Reading database ... 123623 files and directories currently installed.)\n",
            "Preparing to unpack .../libinchi1_1.03+dfsg-4_amd64.deb ...\n",
            "Unpacking libinchi1 (1.03+dfsg-4) ...\n",
            "Selecting previously unselected package libmaeparser1:amd64.\n",
            "Preparing to unpack .../libmaeparser1_1.2.4-1build1_amd64.deb ...\n",
            "Unpacking libmaeparser1:amd64 (1.2.4-1build1) ...\n",
            "Selecting previously unselected package libopenbabel7.\n",
            "Preparing to unpack .../libopenbabel7_3.1.1+dfsg-6ubuntu5_amd64.deb ...\n",
            "Unpacking libopenbabel7 (3.1.1+dfsg-6ubuntu5) ...\n",
            "Selecting previously unselected package openbabel.\n",
            "Preparing to unpack .../openbabel_3.1.1+dfsg-6ubuntu5_amd64.deb ...\n",
            "Unpacking openbabel (3.1.1+dfsg-6ubuntu5) ...\n",
            "Setting up libmaeparser1:amd64 (1.2.4-1build1) ...\n",
            "Setting up libinchi1 (1.03+dfsg-4) ...\n",
            "Setting up libopenbabel7 (3.1.1+dfsg-6ubuntu5) ...\n",
            "Setting up openbabel (3.1.1+dfsg-6ubuntu5) ...\n",
            "Processing triggers for libc-bin (2.35-0ubuntu3.4) ...\n",
            "/sbin/ldconfig.real: /usr/local/lib/libumf.so.0 is not a symbolic link\n",
            "\n",
            "/sbin/ldconfig.real: /usr/local/lib/libur_adapter_opencl.so.0 is not a symbolic link\n",
            "\n",
            "/sbin/ldconfig.real: /usr/local/lib/libur_loader.so.0 is not a symbolic link\n",
            "\n",
            "/sbin/ldconfig.real: /usr/local/lib/libtbb.so.12 is not a symbolic link\n",
            "\n",
            "/sbin/ldconfig.real: /usr/local/lib/libtbbbind.so.3 is not a symbolic link\n",
            "\n",
            "/sbin/ldconfig.real: /usr/local/lib/libtcm_debug.so.1 is not a symbolic link\n",
            "\n",
            "/sbin/ldconfig.real: /usr/local/lib/libhwloc.so.15 is not a symbolic link\n",
            "\n",
            "/sbin/ldconfig.real: /usr/local/lib/libtbbbind_2_5.so.3 is not a symbolic link\n",
            "\n",
            "/sbin/ldconfig.real: /usr/local/lib/libtbbmalloc_proxy.so.2 is not a symbolic link\n",
            "\n",
            "/sbin/ldconfig.real: /usr/local/lib/libtcm.so.1 is not a symbolic link\n",
            "\n",
            "/sbin/ldconfig.real: /usr/local/lib/libtbbbind_2_0.so.3 is not a symbolic link\n",
            "\n",
            "/sbin/ldconfig.real: /usr/local/lib/libtbbmalloc.so.2 is not a symbolic link\n",
            "\n",
            "/sbin/ldconfig.real: /usr/local/lib/libur_adapter_level_zero.so.0 is not a symbolic link\n",
            "\n",
            "Processing triggers for man-db (2.10.2-1) ...\n"
          ]
        }
      ]
    },
    {
      "cell_type": "markdown",
      "source": [
        "Official python bindings of OpenBabel had issues with installation using PyPI as of writing of this notebook. Please see the [issue](https://github.com/openbabel/openbabel/issues/2571). Hence, a pre-built unofficial openbabel-wheel is used here"
      ],
      "metadata": {
        "id": "3OfSD86sbgVj"
      }
    },
    {
      "cell_type": "code",
      "source": [
        "# install pdbe-arpeggio and openbabel python bindings\n",
        "# openbabel-wheel is a unofficial OpenBabel prebuilt wheel distributed through PyPI\n",
        "%pip install pdbe-arpeggio openbabel-wheel"
      ],
      "metadata": {
        "colab": {
          "base_uri": "https://localhost:8080/"
        },
        "id": "OZpTymZabjRB",
        "outputId": "6cdbfbf7-efe0-4842-cef4-4d14feedc051"
      },
      "execution_count": 2,
      "outputs": [
        {
          "output_type": "stream",
          "name": "stdout",
          "text": [
            "Requirement already satisfied: pdbe-arpeggio in /usr/local/lib/python3.10/dist-packages (1.4.4)\n",
            "Requirement already satisfied: openbabel-wheel in /usr/local/lib/python3.10/dist-packages (3.1.1.20)\n",
            "Requirement already satisfied: gemmi in /usr/local/lib/python3.10/dist-packages (from pdbe-arpeggio) (0.6.7)\n",
            "Requirement already satisfied: numpy in /usr/local/lib/python3.10/dist-packages (from pdbe-arpeggio) (1.26.4)\n",
            "Requirement already satisfied: biopython in /usr/local/lib/python3.10/dist-packages (from pdbe-arpeggio) (1.84)\n"
          ]
        }
      ]
    },
    {
      "cell_type": "markdown",
      "source": [
        "## Helper Functions"
      ],
      "metadata": {
        "id": "f0IorGo0x7CZ"
      }
    },
    {
      "cell_type": "code",
      "source": [
        "import io\n",
        "import pandas as pd\n",
        "from arpeggio.core import InteractionComplex\n",
        "from collections import defaultdict\n",
        "import seaborn as sns\n",
        "import matplotlib.pyplot as plt\n",
        "from rdkit.Chem import Draw\n",
        "from rdkit.Chem.Draw import MolsToGridImage\n",
        "from rdkit import Chem\n",
        "from PIL import Image\n",
        "import json"
      ],
      "metadata": {
        "id": "gysnKI7ZOj_S"
      },
      "execution_count": 1,
      "outputs": []
    },
    {
      "cell_type": "code",
      "source": [
        "def get_protonated_preferred_assembly(pdb_id: str) -> str:\n",
        "  \"\"\"\n",
        "    Downloads and writes protonated preferred biological\n",
        "    assembly cif of PDB entry to a file and returns the path\n",
        "\n",
        "    Args:\n",
        "        pdb_id: PDB id of an entry\n",
        "\n",
        "    Returns:\n",
        "        path to the downloaded protinated cif file\n",
        "\n",
        "  \"\"\"\n",
        "\n",
        "  assembly_url = f\"https://www.ebi.ac.uk/pdbe/static/entry/download/{pdb_id}_bio_h.cif.gz\"\n",
        "  response = requests.get(assembly_url, stream=True)\n",
        "  response.raise_for_status()\n",
        "  with open(f\"{pdb_id}_bio_h.cif\", \"wb\") as fh:\n",
        "    fh.write(gzip.decompress(response.content))\n",
        "\n",
        "  return f\"{pdb_id}_bio_h.cif\"\n",
        "\n",
        "def show_png(data):\n",
        "  \"\"\"\n",
        "  Function to show image\n",
        "  \"\"\"\n",
        "  #copied from https://greglandrum.github.io/rdkit-blog/posts/2020-01-03-similarity-maps-with-new-drawing-code.html\n",
        "  bio = io.BytesIO(data)\n",
        "  img = Image.open(bio)\n",
        "  return img"
      ],
      "metadata": {
        "id": "G-UNbKQlx5yQ"
      },
      "execution_count": 3,
      "outputs": []
    },
    {
      "cell_type": "code",
      "source": [
        "class ProtLigComplex:\n",
        "    \"\"\"Wrapper for the Arpeggio computation. Parses bound molecules and\n",
        "    calculates interactions.\n",
        "    \"\"\"\n",
        "\n",
        "    def __init__(self, structure, to_discard=None):\n",
        "        \"\"\"Create protein - ligand interaction object.\n",
        "\n",
        "        Args:\n",
        "            structure (str): Path to the structure to be processed\n",
        "            to_discard (list, optional): Defaults to []. list of residue\n",
        "                names to be discarded prior to protein-ligand interaction\n",
        "                lookup.\n",
        "        \"\"\"\n",
        "        self.compl = None\n",
        "        self.path = structure\n",
        "\n",
        "        to_discard = [] if to_discard is None else to_discard\n",
        "\n",
        "    def initialize(self):\n",
        "        \"\"\"Set up Arpeggio basics. Create all the internal representation\"\"\"\n",
        "        self.compl = InteractionComplex(self.path)\n",
        "        self.compl.structure_checks()\n",
        "        self.compl.address_ambiguities()\n",
        "        self.compl.initialize()\n",
        "\n",
        "    def get_interaction(\n",
        "        self,\n",
        "        bm,\n",
        "        interaction_cutoff=5.0,\n",
        "        compensation_factor=0.1,\n",
        "        include_neighbors=False,\n",
        "    ):\n",
        "        \"\"\"Retrieve interactions in the protein within a given selection.\n",
        "\n",
        "        Args:\n",
        "            bm (BoundMolecule): Bound molecule\n",
        "            interaction_cutoff (float, optional): Defaults to 5.0. Distance\n",
        "                cutoff for grid points to be `interacting` with the entity.\n",
        "            compensation_factor (float, optional): Defaults to 0.1.\n",
        "                Compensation factor for VdW radii dependent interaction types.\n",
        "            include_neighbors (bool, optional): Defaults to False. Include\n",
        "                non-bonding interactions between residues that are next to\n",
        "                each other in sequence.\n",
        "\n",
        "        Returns:\n",
        "            dict of str: Interactions in a dictionary like schema.\n",
        "        \"\"\"\n",
        "        selection = bm.to_arpeggio()\n",
        "        self.compl.run_arpeggio(\n",
        "            selection, interaction_cutoff, compensation_factor, include_neighbors\n",
        "        )\n",
        "\n",
        "        return self.compl.get_contacts()\n"
      ],
      "metadata": {
        "id": "oGGqr8-t1b9o"
      },
      "execution_count": 4,
      "outputs": []
    },
    {
      "cell_type": "code",
      "source": [
        "pdb_id = '1w48'\n",
        "discarded_ligands = [\"HOH\"] #chemical components in this list are not considered as bound-molecules for interaction calculation"
      ],
      "metadata": {
        "id": "QeznV_i11_8m"
      },
      "execution_count": 5,
      "outputs": []
    },
    {
      "cell_type": "code",
      "source": [
        "#download the protonated biological assembly\n",
        "protonated_assembly = get_protonated_preferred_assembly(pdb_id)"
      ],
      "metadata": {
        "id": "i2BrT_cZTS5p"
      },
      "execution_count": 12,
      "outputs": []
    },
    {
      "cell_type": "code",
      "source": [
        "#identify all the bound-molecules (ligands) in the PDB entry\n",
        "bound_molecules = infer_bound_molecules(protonated_assembly, discarded_ligands, assembly=True)"
      ],
      "metadata": {
        "id": "Ri9hTdd0Tne1"
      },
      "execution_count": 15,
      "outputs": []
    },
    {
      "cell_type": "code",
      "source": [
        "#setup protein-ligand complex for interaction calculations\n",
        "protein_lignad_complex= ProtLigComplex(protonated_assembly, discarded_ligands)\n",
        "protein_lignad_complex.initialize()\n",
        "\n",
        "#write interactions to a pandas data frame\n",
        "pdb_interactions = defaultdict(list)\n",
        "intx_fields = [\"auth_asym_id\", \"auth_seq_id\", \"label_comp_id\", \"auth_atom_id\"]\n",
        "for i, bm in enumerate(bound_molecules, start=1):\n",
        "  bm_residues = set(f\"{residue['auth_asym_id']}_{residue['auth_seq_id']}_{residue['label_comp_id']}\" for residue in bm.to_dict().get('residues'))\n",
        "  interactions = protein_lignad_complex.get_interaction(bm)\n",
        "  for intx in interactions:\n",
        "    if intx[\"interacting_entities\"] in (\"INTER\", \"INTRA_SELECTION\", \"SELECTION_WATER\"): # filtering interaction types\n",
        "      for contact in intx[\"contact\"]:\n",
        "        pdb_interactions[\"interacting_entities\"].append(intx[\"interacting_entities\"])\n",
        "        pdb_interactions[\"interaction_type\"].append(intx[\"type\"])\n",
        "        pdb_interactions[\"distance\"].append(intx[\"distance\"])\n",
        "        pdb_interactions[\"bm_id\"].append(f\"bm_{i}\")\n",
        "        pdb_interactions[\"contact_type\"].append(contact)\n",
        "        begin_res_id = f\"{intx['bgn']['auth_asym_id']}_{intx['bgn']['auth_seq_id']}_{intx['bgn']['label_comp_id']}\"\n",
        "        if begin_res_id in bm_residues:\n",
        "          ordered_intx_residues = {1:'bgn', 2: 'end'} #keeping bound-molecule as the first residue in the table\n",
        "        else:\n",
        "          ordered_intx_residues = {1:'end', 2: 'bgn'}\n",
        "        for field in intx_fields:\n",
        "          for order in ordered_intx_residues:\n",
        "            pdb_interactions[f\"{field}_{order}\"].append(intx[ordered_intx_residues[order]][field])\n",
        "\n",
        "pdb_interactions_df = pd.DataFrame.from_dict(pdb_interactions)"
      ],
      "metadata": {
        "id": "xPPa4WWBUyqD"
      },
      "execution_count": 16,
      "outputs": []
    },
    {
      "cell_type": "code",
      "source": [
        "print(f\"The number bound-molecules found: {len(bound_molecules)}\")"
      ],
      "metadata": {
        "colab": {
          "base_uri": "https://localhost:8080/"
        },
        "id": "c691STNwKStg",
        "outputId": "7939e5df-ecdf-45d3-ab2c-45da54caba3c"
      },
      "execution_count": 17,
      "outputs": [
        {
          "output_type": "stream",
          "name": "stdout",
          "text": [
            "The number bound-molecules found: 6\n"
          ]
        }
      ]
    },
    {
      "cell_type": "code",
      "source": [
        "pdb_interactions_df.head()"
      ],
      "metadata": {
        "colab": {
          "base_uri": "https://localhost:8080/",
          "height": 226
        },
        "id": "OSaDw5lm-uRN",
        "outputId": "9a302c7a-8cc3-4bc0-d30c-565ba29d66df"
      },
      "execution_count": 130,
      "outputs": [
        {
          "output_type": "execute_result",
          "data": {
            "text/plain": [
              "  interacting_entities interaction_type  distance bm_id contact_type  \\\n",
              "0                INTER        atom-atom      3.78  bm_1     proximal   \n",
              "1                INTER        atom-atom      3.17  bm_1     proximal   \n",
              "2                INTER        atom-atom      3.17  bm_1        hbond   \n",
              "3                INTER        atom-atom      3.17  bm_1        polar   \n",
              "4                INTER        atom-atom      4.44  bm_1     proximal   \n",
              "\n",
              "  auth_asym_id_1 auth_asym_id_2  auth_seq_id_1  auth_seq_id_2 label_comp_id_1  \\\n",
              "0              A            C_2            700            252             APC   \n",
              "1              A            C_2            700            252             APC   \n",
              "2              A            C_2            700            252             APC   \n",
              "3              A            C_2            700            252             APC   \n",
              "4              A            C_2            700            252             APC   \n",
              "\n",
              "  label_comp_id_2 auth_atom_id_1 auth_atom_id_2  \n",
              "0             SER            O1G             CB  \n",
              "1             SER            O1G             OG  \n",
              "2             SER            O1G             OG  \n",
              "3             SER            O1G             OG  \n",
              "4             SER             PG             OG  "
            ],
            "text/html": [
              "\n",
              "  <div id=\"df-00659131-0231-4bc3-b096-3da2aca4a954\" class=\"colab-df-container\">\n",
              "    <div>\n",
              "<style scoped>\n",
              "    .dataframe tbody tr th:only-of-type {\n",
              "        vertical-align: middle;\n",
              "    }\n",
              "\n",
              "    .dataframe tbody tr th {\n",
              "        vertical-align: top;\n",
              "    }\n",
              "\n",
              "    .dataframe thead th {\n",
              "        text-align: right;\n",
              "    }\n",
              "</style>\n",
              "<table border=\"1\" class=\"dataframe\">\n",
              "  <thead>\n",
              "    <tr style=\"text-align: right;\">\n",
              "      <th></th>\n",
              "      <th>interacting_entities</th>\n",
              "      <th>interaction_type</th>\n",
              "      <th>distance</th>\n",
              "      <th>bm_id</th>\n",
              "      <th>contact_type</th>\n",
              "      <th>auth_asym_id_1</th>\n",
              "      <th>auth_asym_id_2</th>\n",
              "      <th>auth_seq_id_1</th>\n",
              "      <th>auth_seq_id_2</th>\n",
              "      <th>label_comp_id_1</th>\n",
              "      <th>label_comp_id_2</th>\n",
              "      <th>auth_atom_id_1</th>\n",
              "      <th>auth_atom_id_2</th>\n",
              "    </tr>\n",
              "  </thead>\n",
              "  <tbody>\n",
              "    <tr>\n",
              "      <th>0</th>\n",
              "      <td>INTER</td>\n",
              "      <td>atom-atom</td>\n",
              "      <td>3.78</td>\n",
              "      <td>bm_1</td>\n",
              "      <td>proximal</td>\n",
              "      <td>A</td>\n",
              "      <td>C_2</td>\n",
              "      <td>700</td>\n",
              "      <td>252</td>\n",
              "      <td>APC</td>\n",
              "      <td>SER</td>\n",
              "      <td>O1G</td>\n",
              "      <td>CB</td>\n",
              "    </tr>\n",
              "    <tr>\n",
              "      <th>1</th>\n",
              "      <td>INTER</td>\n",
              "      <td>atom-atom</td>\n",
              "      <td>3.17</td>\n",
              "      <td>bm_1</td>\n",
              "      <td>proximal</td>\n",
              "      <td>A</td>\n",
              "      <td>C_2</td>\n",
              "      <td>700</td>\n",
              "      <td>252</td>\n",
              "      <td>APC</td>\n",
              "      <td>SER</td>\n",
              "      <td>O1G</td>\n",
              "      <td>OG</td>\n",
              "    </tr>\n",
              "    <tr>\n",
              "      <th>2</th>\n",
              "      <td>INTER</td>\n",
              "      <td>atom-atom</td>\n",
              "      <td>3.17</td>\n",
              "      <td>bm_1</td>\n",
              "      <td>hbond</td>\n",
              "      <td>A</td>\n",
              "      <td>C_2</td>\n",
              "      <td>700</td>\n",
              "      <td>252</td>\n",
              "      <td>APC</td>\n",
              "      <td>SER</td>\n",
              "      <td>O1G</td>\n",
              "      <td>OG</td>\n",
              "    </tr>\n",
              "    <tr>\n",
              "      <th>3</th>\n",
              "      <td>INTER</td>\n",
              "      <td>atom-atom</td>\n",
              "      <td>3.17</td>\n",
              "      <td>bm_1</td>\n",
              "      <td>polar</td>\n",
              "      <td>A</td>\n",
              "      <td>C_2</td>\n",
              "      <td>700</td>\n",
              "      <td>252</td>\n",
              "      <td>APC</td>\n",
              "      <td>SER</td>\n",
              "      <td>O1G</td>\n",
              "      <td>OG</td>\n",
              "    </tr>\n",
              "    <tr>\n",
              "      <th>4</th>\n",
              "      <td>INTER</td>\n",
              "      <td>atom-atom</td>\n",
              "      <td>4.44</td>\n",
              "      <td>bm_1</td>\n",
              "      <td>proximal</td>\n",
              "      <td>A</td>\n",
              "      <td>C_2</td>\n",
              "      <td>700</td>\n",
              "      <td>252</td>\n",
              "      <td>APC</td>\n",
              "      <td>SER</td>\n",
              "      <td>PG</td>\n",
              "      <td>OG</td>\n",
              "    </tr>\n",
              "  </tbody>\n",
              "</table>\n",
              "</div>\n",
              "    <div class=\"colab-df-buttons\">\n",
              "\n",
              "  <div class=\"colab-df-container\">\n",
              "    <button class=\"colab-df-convert\" onclick=\"convertToInteractive('df-00659131-0231-4bc3-b096-3da2aca4a954')\"\n",
              "            title=\"Convert this dataframe to an interactive table.\"\n",
              "            style=\"display:none;\">\n",
              "\n",
              "  <svg xmlns=\"http://www.w3.org/2000/svg\" height=\"24px\" viewBox=\"0 -960 960 960\">\n",
              "    <path d=\"M120-120v-720h720v720H120Zm60-500h600v-160H180v160Zm220 220h160v-160H400v160Zm0 220h160v-160H400v160ZM180-400h160v-160H180v160Zm440 0h160v-160H620v160ZM180-180h160v-160H180v160Zm440 0h160v-160H620v160Z\"/>\n",
              "  </svg>\n",
              "    </button>\n",
              "\n",
              "  <style>\n",
              "    .colab-df-container {\n",
              "      display:flex;\n",
              "      gap: 12px;\n",
              "    }\n",
              "\n",
              "    .colab-df-convert {\n",
              "      background-color: #E8F0FE;\n",
              "      border: none;\n",
              "      border-radius: 50%;\n",
              "      cursor: pointer;\n",
              "      display: none;\n",
              "      fill: #1967D2;\n",
              "      height: 32px;\n",
              "      padding: 0 0 0 0;\n",
              "      width: 32px;\n",
              "    }\n",
              "\n",
              "    .colab-df-convert:hover {\n",
              "      background-color: #E2EBFA;\n",
              "      box-shadow: 0px 1px 2px rgba(60, 64, 67, 0.3), 0px 1px 3px 1px rgba(60, 64, 67, 0.15);\n",
              "      fill: #174EA6;\n",
              "    }\n",
              "\n",
              "    .colab-df-buttons div {\n",
              "      margin-bottom: 4px;\n",
              "    }\n",
              "\n",
              "    [theme=dark] .colab-df-convert {\n",
              "      background-color: #3B4455;\n",
              "      fill: #D2E3FC;\n",
              "    }\n",
              "\n",
              "    [theme=dark] .colab-df-convert:hover {\n",
              "      background-color: #434B5C;\n",
              "      box-shadow: 0px 1px 3px 1px rgba(0, 0, 0, 0.15);\n",
              "      filter: drop-shadow(0px 1px 2px rgba(0, 0, 0, 0.3));\n",
              "      fill: #FFFFFF;\n",
              "    }\n",
              "  </style>\n",
              "\n",
              "    <script>\n",
              "      const buttonEl =\n",
              "        document.querySelector('#df-00659131-0231-4bc3-b096-3da2aca4a954 button.colab-df-convert');\n",
              "      buttonEl.style.display =\n",
              "        google.colab.kernel.accessAllowed ? 'block' : 'none';\n",
              "\n",
              "      async function convertToInteractive(key) {\n",
              "        const element = document.querySelector('#df-00659131-0231-4bc3-b096-3da2aca4a954');\n",
              "        const dataTable =\n",
              "          await google.colab.kernel.invokeFunction('convertToInteractive',\n",
              "                                                    [key], {});\n",
              "        if (!dataTable) return;\n",
              "\n",
              "        const docLinkHtml = 'Like what you see? Visit the ' +\n",
              "          '<a target=\"_blank\" href=https://colab.research.google.com/notebooks/data_table.ipynb>data table notebook</a>'\n",
              "          + ' to learn more about interactive tables.';\n",
              "        element.innerHTML = '';\n",
              "        dataTable['output_type'] = 'display_data';\n",
              "        await google.colab.output.renderOutput(dataTable, element);\n",
              "        const docLink = document.createElement('div');\n",
              "        docLink.innerHTML = docLinkHtml;\n",
              "        element.appendChild(docLink);\n",
              "      }\n",
              "    </script>\n",
              "  </div>\n",
              "\n",
              "\n",
              "<div id=\"df-fb642964-5428-475c-8d60-899cc20c0cd4\">\n",
              "  <button class=\"colab-df-quickchart\" onclick=\"quickchart('df-fb642964-5428-475c-8d60-899cc20c0cd4')\"\n",
              "            title=\"Suggest charts\"\n",
              "            style=\"display:none;\">\n",
              "\n",
              "<svg xmlns=\"http://www.w3.org/2000/svg\" height=\"24px\"viewBox=\"0 0 24 24\"\n",
              "     width=\"24px\">\n",
              "    <g>\n",
              "        <path d=\"M19 3H5c-1.1 0-2 .9-2 2v14c0 1.1.9 2 2 2h14c1.1 0 2-.9 2-2V5c0-1.1-.9-2-2-2zM9 17H7v-7h2v7zm4 0h-2V7h2v10zm4 0h-2v-4h2v4z\"/>\n",
              "    </g>\n",
              "</svg>\n",
              "  </button>\n",
              "\n",
              "<style>\n",
              "  .colab-df-quickchart {\n",
              "      --bg-color: #E8F0FE;\n",
              "      --fill-color: #1967D2;\n",
              "      --hover-bg-color: #E2EBFA;\n",
              "      --hover-fill-color: #174EA6;\n",
              "      --disabled-fill-color: #AAA;\n",
              "      --disabled-bg-color: #DDD;\n",
              "  }\n",
              "\n",
              "  [theme=dark] .colab-df-quickchart {\n",
              "      --bg-color: #3B4455;\n",
              "      --fill-color: #D2E3FC;\n",
              "      --hover-bg-color: #434B5C;\n",
              "      --hover-fill-color: #FFFFFF;\n",
              "      --disabled-bg-color: #3B4455;\n",
              "      --disabled-fill-color: #666;\n",
              "  }\n",
              "\n",
              "  .colab-df-quickchart {\n",
              "    background-color: var(--bg-color);\n",
              "    border: none;\n",
              "    border-radius: 50%;\n",
              "    cursor: pointer;\n",
              "    display: none;\n",
              "    fill: var(--fill-color);\n",
              "    height: 32px;\n",
              "    padding: 0;\n",
              "    width: 32px;\n",
              "  }\n",
              "\n",
              "  .colab-df-quickchart:hover {\n",
              "    background-color: var(--hover-bg-color);\n",
              "    box-shadow: 0 1px 2px rgba(60, 64, 67, 0.3), 0 1px 3px 1px rgba(60, 64, 67, 0.15);\n",
              "    fill: var(--button-hover-fill-color);\n",
              "  }\n",
              "\n",
              "  .colab-df-quickchart-complete:disabled,\n",
              "  .colab-df-quickchart-complete:disabled:hover {\n",
              "    background-color: var(--disabled-bg-color);\n",
              "    fill: var(--disabled-fill-color);\n",
              "    box-shadow: none;\n",
              "  }\n",
              "\n",
              "  .colab-df-spinner {\n",
              "    border: 2px solid var(--fill-color);\n",
              "    border-color: transparent;\n",
              "    border-bottom-color: var(--fill-color);\n",
              "    animation:\n",
              "      spin 1s steps(1) infinite;\n",
              "  }\n",
              "\n",
              "  @keyframes spin {\n",
              "    0% {\n",
              "      border-color: transparent;\n",
              "      border-bottom-color: var(--fill-color);\n",
              "      border-left-color: var(--fill-color);\n",
              "    }\n",
              "    20% {\n",
              "      border-color: transparent;\n",
              "      border-left-color: var(--fill-color);\n",
              "      border-top-color: var(--fill-color);\n",
              "    }\n",
              "    30% {\n",
              "      border-color: transparent;\n",
              "      border-left-color: var(--fill-color);\n",
              "      border-top-color: var(--fill-color);\n",
              "      border-right-color: var(--fill-color);\n",
              "    }\n",
              "    40% {\n",
              "      border-color: transparent;\n",
              "      border-right-color: var(--fill-color);\n",
              "      border-top-color: var(--fill-color);\n",
              "    }\n",
              "    60% {\n",
              "      border-color: transparent;\n",
              "      border-right-color: var(--fill-color);\n",
              "    }\n",
              "    80% {\n",
              "      border-color: transparent;\n",
              "      border-right-color: var(--fill-color);\n",
              "      border-bottom-color: var(--fill-color);\n",
              "    }\n",
              "    90% {\n",
              "      border-color: transparent;\n",
              "      border-bottom-color: var(--fill-color);\n",
              "    }\n",
              "  }\n",
              "</style>\n",
              "\n",
              "  <script>\n",
              "    async function quickchart(key) {\n",
              "      const quickchartButtonEl =\n",
              "        document.querySelector('#' + key + ' button');\n",
              "      quickchartButtonEl.disabled = true;  // To prevent multiple clicks.\n",
              "      quickchartButtonEl.classList.add('colab-df-spinner');\n",
              "      try {\n",
              "        const charts = await google.colab.kernel.invokeFunction(\n",
              "            'suggestCharts', [key], {});\n",
              "      } catch (error) {\n",
              "        console.error('Error during call to suggestCharts:', error);\n",
              "      }\n",
              "      quickchartButtonEl.classList.remove('colab-df-spinner');\n",
              "      quickchartButtonEl.classList.add('colab-df-quickchart-complete');\n",
              "    }\n",
              "    (() => {\n",
              "      let quickchartButtonEl =\n",
              "        document.querySelector('#df-fb642964-5428-475c-8d60-899cc20c0cd4 button');\n",
              "      quickchartButtonEl.style.display =\n",
              "        google.colab.kernel.accessAllowed ? 'block' : 'none';\n",
              "    })();\n",
              "  </script>\n",
              "</div>\n",
              "\n",
              "    </div>\n",
              "  </div>\n"
            ],
            "application/vnd.google.colaboratory.intrinsic+json": {
              "type": "dataframe",
              "variable_name": "pdb_interactions_df",
              "summary": "{\n  \"name\": \"pdb_interactions_df\",\n  \"rows\": 3028,\n  \"fields\": [\n    {\n      \"column\": \"interacting_entities\",\n      \"properties\": {\n        \"dtype\": \"category\",\n        \"num_unique_values\": 2,\n        \"samples\": [\n          \"SELECTION_WATER\",\n          \"INTER\"\n        ],\n        \"semantic_type\": \"\",\n        \"description\": \"\"\n      }\n    },\n    {\n      \"column\": \"interaction_type\",\n      \"properties\": {\n        \"dtype\": \"category\",\n        \"num_unique_values\": 3,\n        \"samples\": [\n          \"atom-atom\",\n          \"plane-plane\"\n        ],\n        \"semantic_type\": \"\",\n        \"description\": \"\"\n      }\n    },\n    {\n      \"column\": \"distance\",\n      \"properties\": {\n        \"dtype\": \"number\",\n        \"std\": 0.6292319487881743,\n        \"min\": 2.23,\n        \"max\": 5.0,\n        \"num_unique_values\": 218,\n        \"samples\": [\n          4.46,\n          2.63\n        ],\n        \"semantic_type\": \"\",\n        \"description\": \"\"\n      }\n    },\n    {\n      \"column\": \"bm_id\",\n      \"properties\": {\n        \"dtype\": \"category\",\n        \"num_unique_values\": 6,\n        \"samples\": [\n          \"bm_1\",\n          \"bm_2\"\n        ],\n        \"semantic_type\": \"\",\n        \"description\": \"\"\n      }\n    },\n    {\n      \"column\": \"contact_type\",\n      \"properties\": {\n        \"dtype\": \"category\",\n        \"num_unique_values\": 14,\n        \"samples\": [\n          \"FF\",\n          \"DONORPI\"\n        ],\n        \"semantic_type\": \"\",\n        \"description\": \"\"\n      }\n    },\n    {\n      \"column\": \"auth_asym_id_1\",\n      \"properties\": {\n        \"dtype\": \"category\",\n        \"num_unique_values\": 6,\n        \"samples\": [\n          \"A\",\n          \"A_2\"\n        ],\n        \"semantic_type\": \"\",\n        \"description\": \"\"\n      }\n    },\n    {\n      \"column\": \"auth_asym_id_2\",\n      \"properties\": {\n        \"dtype\": \"category\",\n        \"num_unique_values\": 6,\n        \"samples\": [\n          \"C_2\",\n          \"A\"\n        ],\n        \"semantic_type\": \"\",\n        \"description\": \"\"\n      }\n    },\n    {\n      \"column\": \"auth_seq_id_1\",\n      \"properties\": {\n        \"dtype\": \"number\",\n        \"std\": 0,\n        \"min\": 700,\n        \"max\": 700,\n        \"num_unique_values\": 1,\n        \"samples\": [\n          700\n        ],\n        \"semantic_type\": \"\",\n        \"description\": \"\"\n      }\n    },\n    {\n      \"column\": \"auth_seq_id_2\",\n      \"properties\": {\n        \"dtype\": \"number\",\n        \"std\": 733,\n        \"min\": 133,\n        \"max\": 2276,\n        \"num_unique_values\": 59,\n        \"samples\": [\n          252\n        ],\n        \"semantic_type\": \"\",\n        \"description\": \"\"\n      }\n    },\n    {\n      \"column\": \"label_comp_id_1\",\n      \"properties\": {\n        \"dtype\": \"category\",\n        \"num_unique_values\": 1,\n        \"samples\": [\n          \"APC\"\n        ],\n        \"semantic_type\": \"\",\n        \"description\": \"\"\n      }\n    },\n    {\n      \"column\": \"label_comp_id_2\",\n      \"properties\": {\n        \"dtype\": \"category\",\n        \"num_unique_values\": 13,\n        \"samples\": [\n          \"TYR\"\n        ],\n        \"semantic_type\": \"\",\n        \"description\": \"\"\n      }\n    },\n    {\n      \"column\": \"auth_atom_id_1\",\n      \"properties\": {\n        \"dtype\": \"category\",\n        \"num_unique_values\": 32,\n        \"samples\": [\n          \"N1\"\n        ],\n        \"semantic_type\": \"\",\n        \"description\": \"\"\n      }\n    },\n    {\n      \"column\": \"auth_atom_id_2\",\n      \"properties\": {\n        \"dtype\": \"category\",\n        \"num_unique_values\": 28,\n        \"samples\": [\n          \"CZ\"\n        ],\n        \"semantic_type\": \"\",\n        \"description\": \"\"\n      }\n    }\n  ]\n}"
            }
          },
          "metadata": {},
          "execution_count": 130
        }
      ]
    },
    {
      "cell_type": "code",
      "source": [
        "pdb_interactions_df[\"contact_type\"].value_counts()"
      ],
      "metadata": {
        "colab": {
          "base_uri": "https://localhost:8080/",
          "height": 554
        },
        "id": "eSu_dqOh-xpv",
        "outputId": "035f66d5-4f05-4457-c85e-9a9e0b1d944e"
      },
      "execution_count": 18,
      "outputs": [
        {
          "output_type": "execute_result",
          "data": {
            "text/plain": [
              "contact_type\n",
              "proximal       2426\n",
              "polar           120\n",
              "vdw_clash       118\n",
              "hbond            91\n",
              "weak_polar       68\n",
              "aromatic         58\n",
              "weak_hbond       56\n",
              "vdw              50\n",
              "DONORPI          12\n",
              "CATIONPI         12\n",
              "OF                6\n",
              "CARBONPI          6\n",
              "FF                4\n",
              "hydrophobic       2\n",
              "Name: count, dtype: int64"
            ],
            "text/html": [
              "<div>\n",
              "<style scoped>\n",
              "    .dataframe tbody tr th:only-of-type {\n",
              "        vertical-align: middle;\n",
              "    }\n",
              "\n",
              "    .dataframe tbody tr th {\n",
              "        vertical-align: top;\n",
              "    }\n",
              "\n",
              "    .dataframe thead th {\n",
              "        text-align: right;\n",
              "    }\n",
              "</style>\n",
              "<table border=\"1\" class=\"dataframe\">\n",
              "  <thead>\n",
              "    <tr style=\"text-align: right;\">\n",
              "      <th></th>\n",
              "      <th>count</th>\n",
              "    </tr>\n",
              "    <tr>\n",
              "      <th>contact_type</th>\n",
              "      <th></th>\n",
              "    </tr>\n",
              "  </thead>\n",
              "  <tbody>\n",
              "    <tr>\n",
              "      <th>proximal</th>\n",
              "      <td>2426</td>\n",
              "    </tr>\n",
              "    <tr>\n",
              "      <th>polar</th>\n",
              "      <td>120</td>\n",
              "    </tr>\n",
              "    <tr>\n",
              "      <th>vdw_clash</th>\n",
              "      <td>118</td>\n",
              "    </tr>\n",
              "    <tr>\n",
              "      <th>hbond</th>\n",
              "      <td>91</td>\n",
              "    </tr>\n",
              "    <tr>\n",
              "      <th>weak_polar</th>\n",
              "      <td>68</td>\n",
              "    </tr>\n",
              "    <tr>\n",
              "      <th>aromatic</th>\n",
              "      <td>58</td>\n",
              "    </tr>\n",
              "    <tr>\n",
              "      <th>weak_hbond</th>\n",
              "      <td>56</td>\n",
              "    </tr>\n",
              "    <tr>\n",
              "      <th>vdw</th>\n",
              "      <td>50</td>\n",
              "    </tr>\n",
              "    <tr>\n",
              "      <th>DONORPI</th>\n",
              "      <td>12</td>\n",
              "    </tr>\n",
              "    <tr>\n",
              "      <th>CATIONPI</th>\n",
              "      <td>12</td>\n",
              "    </tr>\n",
              "    <tr>\n",
              "      <th>OF</th>\n",
              "      <td>6</td>\n",
              "    </tr>\n",
              "    <tr>\n",
              "      <th>CARBONPI</th>\n",
              "      <td>6</td>\n",
              "    </tr>\n",
              "    <tr>\n",
              "      <th>FF</th>\n",
              "      <td>4</td>\n",
              "    </tr>\n",
              "    <tr>\n",
              "      <th>hydrophobic</th>\n",
              "      <td>2</td>\n",
              "    </tr>\n",
              "  </tbody>\n",
              "</table>\n",
              "</div><br><label><b>dtype:</b> int64</label>"
            ]
          },
          "metadata": {},
          "execution_count": 18
        }
      ]
    },
    {
      "cell_type": "markdown",
      "source": [
        "The definitions of different contact types can be found in [PDBe Arpeggio GitHub README](https://github.com/PDBeurope/arpeggio/tree/master). Proximal has the largest frequecy, and it is a contact type between two atoms when the distance between them is greater than the sum of their VdW radius but less than 5 $\\mathring{A}$. Since it is a generic type of interactions we will remove it from the rest of the analysis"
      ],
      "metadata": {
        "id": "1QE6cVYaJvWM"
      }
    },
    {
      "cell_type": "code",
      "source": [
        "# filter to exclude proximal contacts\n",
        "pdb_inx_non_proximal = pdb_interactions_df[pdb_interactions_df[\"contact_type\"]!=\"proximal\"]"
      ],
      "metadata": {
        "id": "OzVd8JwsLfbm"
      },
      "execution_count": 19,
      "outputs": []
    },
    {
      "cell_type": "code",
      "source": [
        "# Generate a count-plot of contact types\n",
        "plt.figure(figsize=(10, 8))  # Adjust figure size as needed\n",
        "sns.countplot(pdb_inx_non_proximal, x=\"contact_type\", hue=\"bm_id\")\n",
        "plt.xticks(rotation=30)\n",
        "plt.xlabel(\"contact type\")\n",
        "plt.ylabel(\"number of interactions\")\n",
        "plt.show()"
      ],
      "metadata": {
        "colab": {
          "base_uri": "https://localhost:8080/",
          "height": 738
        },
        "id": "sVhS1CD2KJXJ",
        "outputId": "35fb382c-5cce-4553-9c87-a377a5a15f0e"
      },
      "execution_count": 20,
      "outputs": [
        {
          "output_type": "display_data",
          "data": {
            "text/plain": [
              "<Figure size 1000x800 with 1 Axes>"
            ],
            "image/png": "[encoded data removed]"
          },
          "metadata": {}
        }
      ]
    },
    {
      "cell_type": "markdown",
      "source": [
        " - From the contact-type count plot, it is clear that the most of the interactions are polar, and there are very less number of hydrophobic interactions. This is in aggrement with the location of binding site - interface of proteins in the outer surface.\n",
        " - Equivalent bound-molecules (bound-molecules from the symmetric subunits) have the same interaction pattern (bm1-bm2, bm3-bm4, and bm5-bm6 ) as expected\n",
        " - atom-plane and plane-plane interactions are same in all instances of ligands"
      ],
      "metadata": {
        "id": "KSaR57LyNmse"
      }
    },
    {
      "cell_type": "code",
      "source": [
        "bound_molecules[0].is_equivalent(bound_molecules[1])"
      ],
      "metadata": {
        "colab": {
          "base_uri": "https://localhost:8080/"
        },
        "id": "E_Iq80VTM2G0",
        "outputId": "9270ba69-d040-425a-b021-29b758601105"
      },
      "execution_count": 21,
      "outputs": [
        {
          "output_type": "execute_result",
          "data": {
            "text/plain": [
              "True"
            ]
          },
          "metadata": {},
          "execution_count": 21
        }
      ]
    },
    {
      "cell_type": "code",
      "source": [
        "bound_molecules[0].is_equivalent(bound_molecules[2])"
      ],
      "metadata": {
        "colab": {
          "base_uri": "https://localhost:8080/"
        },
        "id": "zWVLxXplNMyE",
        "outputId": "8428796d-55f4-4684-8ab7-186859305948"
      },
      "execution_count": 22,
      "outputs": [
        {
          "output_type": "execute_result",
          "data": {
            "text/plain": [
              "False"
            ]
          },
          "metadata": {},
          "execution_count": 22
        }
      ]
    },
    {
      "cell_type": "code",
      "source": [
        "bound_molecules[2].is_equivalent(bound_molecules[3])"
      ],
      "metadata": {
        "colab": {
          "base_uri": "https://localhost:8080/"
        },
        "id": "ALQoOxtGR157",
        "outputId": "b3febb56-019e-4b53-9e71-6fdecd17ad0a"
      },
      "execution_count": 23,
      "outputs": [
        {
          "output_type": "execute_result",
          "data": {
            "text/plain": [
              "True"
            ]
          },
          "metadata": {},
          "execution_count": 23
        }
      ]
    },
    {
      "cell_type": "code",
      "source": [
        "pdb_inx_non_proximal.head()"
      ],
      "metadata": {
        "colab": {
          "base_uri": "https://localhost:8080/",
          "height": 226
        },
        "id": "VPLlp8KuDxv_",
        "outputId": "ec9a4dc3-4304-428d-9228-6887d77f6ec7"
      },
      "execution_count": 24,
      "outputs": [
        {
          "output_type": "execute_result",
          "data": {
            "text/plain": [
              "   interacting_entities interaction_type  distance bm_id contact_type  \\\n",
              "2                 INTER        atom-atom      3.17  bm_1        hbond   \n",
              "3                 INTER        atom-atom      3.17  bm_1        polar   \n",
              "10      SELECTION_WATER        atom-atom      2.65  bm_1    vdw_clash   \n",
              "11      SELECTION_WATER        atom-atom      2.65  bm_1        hbond   \n",
              "12      SELECTION_WATER        atom-atom      2.65  bm_1        polar   \n",
              "\n",
              "   auth_asym_id_1 auth_asym_id_2  auth_seq_id_1  auth_seq_id_2  \\\n",
              "2               A            C_2            700            252   \n",
              "3               A            C_2            700            252   \n",
              "10              A              A            700           2272   \n",
              "11              A              A            700           2272   \n",
              "12              A              A            700           2272   \n",
              "\n",
              "   label_comp_id_1 label_comp_id_2 auth_atom_id_1 auth_atom_id_2  \n",
              "2              APC             SER            O1G             OG  \n",
              "3              APC             SER            O1G             OG  \n",
              "10             APC             HOH            O1G              O  \n",
              "11             APC             HOH            O1G              O  \n",
              "12             APC             HOH            O1G              O  "
            ],
            "text/html": [
              "\n",
              "  <div id=\"df-0b1537ad-ad11-4338-b87c-6ca1d6ef5b0f\" class=\"colab-df-container\">\n",
              "    <div>\n",
              "<style scoped>\n",
              "    .dataframe tbody tr th:only-of-type {\n",
              "        vertical-align: middle;\n",
              "    }\n",
              "\n",
              "    .dataframe tbody tr th {\n",
              "        vertical-align: top;\n",
              "    }\n",
              "\n",
              "    .dataframe thead th {\n",
              "        text-align: right;\n",
              "    }\n",
              "</style>\n",
              "<table border=\"1\" class=\"dataframe\">\n",
              "  <thead>\n",
              "    <tr style=\"text-align: right;\">\n",
              "      <th></th>\n",
              "      <th>interacting_entities</th>\n",
              "      <th>interaction_type</th>\n",
              "      <th>distance</th>\n",
              "      <th>bm_id</th>\n",
              "      <th>contact_type</th>\n",
              "      <th>auth_asym_id_1</th>\n",
              "      <th>auth_asym_id_2</th>\n",
              "      <th>auth_seq_id_1</th>\n",
              "      <th>auth_seq_id_2</th>\n",
              "      <th>label_comp_id_1</th>\n",
              "      <th>label_comp_id_2</th>\n",
              "      <th>auth_atom_id_1</th>\n",
              "      <th>auth_atom_id_2</th>\n",
              "    </tr>\n",
              "  </thead>\n",
              "  <tbody>\n",
              "    <tr>\n",
              "      <th>2</th>\n",
              "      <td>INTER</td>\n",
              "      <td>atom-atom</td>\n",
              "      <td>3.17</td>\n",
              "      <td>bm_1</td>\n",
              "      <td>hbond</td>\n",
              "      <td>A</td>\n",
              "      <td>C_2</td>\n",
              "      <td>700</td>\n",
              "      <td>252</td>\n",
              "      <td>APC</td>\n",
              "      <td>SER</td>\n",
              "      <td>O1G</td>\n",
              "      <td>OG</td>\n",
              "    </tr>\n",
              "    <tr>\n",
              "      <th>3</th>\n",
              "      <td>INTER</td>\n",
              "      <td>atom-atom</td>\n",
              "      <td>3.17</td>\n",
              "      <td>bm_1</td>\n",
              "      <td>polar</td>\n",
              "      <td>A</td>\n",
              "      <td>C_2</td>\n",
              "      <td>700</td>\n",
              "      <td>252</td>\n",
              "      <td>APC</td>\n",
              "      <td>SER</td>\n",
              "      <td>O1G</td>\n",
              "      <td>OG</td>\n",
              "    </tr>\n",
              "    <tr>\n",
              "      <th>10</th>\n",
              "      <td>SELECTION_WATER</td>\n",
              "      <td>atom-atom</td>\n",
              "      <td>2.65</td>\n",
              "      <td>bm_1</td>\n",
              "      <td>vdw_clash</td>\n",
              "      <td>A</td>\n",
              "      <td>A</td>\n",
              "      <td>700</td>\n",
              "      <td>2272</td>\n",
              "      <td>APC</td>\n",
              "      <td>HOH</td>\n",
              "      <td>O1G</td>\n",
              "      <td>O</td>\n",
              "    </tr>\n",
              "    <tr>\n",
              "      <th>11</th>\n",
              "      <td>SELECTION_WATER</td>\n",
              "      <td>atom-atom</td>\n",
              "      <td>2.65</td>\n",
              "      <td>bm_1</td>\n",
              "      <td>hbond</td>\n",
              "      <td>A</td>\n",
              "      <td>A</td>\n",
              "      <td>700</td>\n",
              "      <td>2272</td>\n",
              "      <td>APC</td>\n",
              "      <td>HOH</td>\n",
              "      <td>O1G</td>\n",
              "      <td>O</td>\n",
              "    </tr>\n",
              "    <tr>\n",
              "      <th>12</th>\n",
              "      <td>SELECTION_WATER</td>\n",
              "      <td>atom-atom</td>\n",
              "      <td>2.65</td>\n",
              "      <td>bm_1</td>\n",
              "      <td>polar</td>\n",
              "      <td>A</td>\n",
              "      <td>A</td>\n",
              "      <td>700</td>\n",
              "      <td>2272</td>\n",
              "      <td>APC</td>\n",
              "      <td>HOH</td>\n",
              "      <td>O1G</td>\n",
              "      <td>O</td>\n",
              "    </tr>\n",
              "  </tbody>\n",
              "</table>\n",
              "</div>\n",
              "    <div class=\"colab-df-buttons\">\n",
              "\n",
              "  <div class=\"colab-df-container\">\n",
              "    <button class=\"colab-df-convert\" onclick=\"convertToInteractive('df-0b1537ad-ad11-4338-b87c-6ca1d6ef5b0f')\"\n",
              "            title=\"Convert this dataframe to an interactive table.\"\n",
              "            style=\"display:none;\">\n",
              "\n",
              "  <svg xmlns=\"http://www.w3.org/2000/svg\" height=\"24px\" viewBox=\"0 -960 960 960\">\n",
              "    <path d=\"M120-120v-720h720v720H120Zm60-500h600v-160H180v160Zm220 220h160v-160H400v160Zm0 220h160v-160H400v160ZM180-400h160v-160H180v160Zm440 0h160v-160H620v160ZM180-180h160v-160H180v160Zm440 0h160v-160H620v160Z\"/>\n",
              "  </svg>\n",
              "    </button>\n",
              "\n",
              "  <style>\n",
              "    .colab-df-container {\n",
              "      display:flex;\n",
              "      gap: 12px;\n",
              "    }\n",
              "\n",
              "    .colab-df-convert {\n",
              "      background-color: #E8F0FE;\n",
              "      border: none;\n",
              "      border-radius: 50%;\n",
              "      cursor: pointer;\n",
              "      display: none;\n",
              "      fill: #1967D2;\n",
              "      height: 32px;\n",
              "      padding: 0 0 0 0;\n",
              "      width: 32px;\n",
              "    }\n",
              "\n",
              "    .colab-df-convert:hover {\n",
              "      background-color: #E2EBFA;\n",
              "      box-shadow: 0px 1px 2px rgba(60, 64, 67, 0.3), 0px 1px 3px 1px rgba(60, 64, 67, 0.15);\n",
              "      fill: #174EA6;\n",
              "    }\n",
              "\n",
              "    .colab-df-buttons div {\n",
              "      margin-bottom: 4px;\n",
              "    }\n",
              "\n",
              "    [theme=dark] .colab-df-convert {\n",
              "      background-color: #3B4455;\n",
              "      fill: #D2E3FC;\n",
              "    }\n",
              "\n",
              "    [theme=dark] .colab-df-convert:hover {\n",
              "      background-color: #434B5C;\n",
              "      box-shadow: 0px 1px 3px 1px rgba(0, 0, 0, 0.15);\n",
              "      filter: drop-shadow(0px 1px 2px rgba(0, 0, 0, 0.3));\n",
              "      fill: #FFFFFF;\n",
              "    }\n",
              "  </style>\n",
              "\n",
              "    <script>\n",
              "      const buttonEl =\n",
              "        document.querySelector('#df-0b1537ad-ad11-4338-b87c-6ca1d6ef5b0f button.colab-df-convert');\n",
              "      buttonEl.style.display =\n",
              "        google.colab.kernel.accessAllowed ? 'block' : 'none';\n",
              "\n",
              "      async function convertToInteractive(key) {\n",
              "        const element = document.querySelector('#df-0b1537ad-ad11-4338-b87c-6ca1d6ef5b0f');\n",
              "        const dataTable =\n",
              "          await google.colab.kernel.invokeFunction('convertToInteractive',\n",
              "                                                    [key], {});\n",
              "        if (!dataTable) return;\n",
              "\n",
              "        const docLinkHtml = 'Like what you see? Visit the ' +\n",
              "          '<a target=\"_blank\" href=https://colab.research.google.com/notebooks/data_table.ipynb>data table notebook</a>'\n",
              "          + ' to learn more about interactive tables.';\n",
              "        element.innerHTML = '';\n",
              "        dataTable['output_type'] = 'display_data';\n",
              "        await google.colab.output.renderOutput(dataTable, element);\n",
              "        const docLink = document.createElement('div');\n",
              "        docLink.innerHTML = docLinkHtml;\n",
              "        element.appendChild(docLink);\n",
              "      }\n",
              "    </script>\n",
              "  </div>\n",
              "\n",
              "\n",
              "<div id=\"df-cc64a351-c668-4279-abaf-8913c7848f11\">\n",
              "  <button class=\"colab-df-quickchart\" onclick=\"quickchart('df-cc64a351-c668-4279-abaf-8913c7848f11')\"\n",
              "            title=\"Suggest charts\"\n",
              "            style=\"display:none;\">\n",
              "\n",
              "<svg xmlns=\"http://www.w3.org/2000/svg\" height=\"24px\"viewBox=\"0 0 24 24\"\n",
              "     width=\"24px\">\n",
              "    <g>\n",
              "        <path d=\"M19 3H5c-1.1 0-2 .9-2 2v14c0 1.1.9 2 2 2h14c1.1 0 2-.9 2-2V5c0-1.1-.9-2-2-2zM9 17H7v-7h2v7zm4 0h-2V7h2v10zm4 0h-2v-4h2v4z\"/>\n",
              "    </g>\n",
              "</svg>\n",
              "  </button>\n",
              "\n",
              "<style>\n",
              "  .colab-df-quickchart {\n",
              "      --bg-color: #E8F0FE;\n",
              "      --fill-color: #1967D2;\n",
              "      --hover-bg-color: #E2EBFA;\n",
              "      --hover-fill-color: #174EA6;\n",
              "      --disabled-fill-color: #AAA;\n",
              "      --disabled-bg-color: #DDD;\n",
              "  }\n",
              "\n",
              "  [theme=dark] .colab-df-quickchart {\n",
              "      --bg-color: #3B4455;\n",
              "      --fill-color: #D2E3FC;\n",
              "      --hover-bg-color: #434B5C;\n",
              "      --hover-fill-color: #FFFFFF;\n",
              "      --disabled-bg-color: #3B4455;\n",
              "      --disabled-fill-color: #666;\n",
              "  }\n",
              "\n",
              "  .colab-df-quickchart {\n",
              "    background-color: var(--bg-color);\n",
              "    border: none;\n",
              "    border-radius: 50%;\n",
              "    cursor: pointer;\n",
              "    display: none;\n",
              "    fill: var(--fill-color);\n",
              "    height: 32px;\n",
              "    padding: 0;\n",
              "    width: 32px;\n",
              "  }\n",
              "\n",
              "  .colab-df-quickchart:hover {\n",
              "    background-color: var(--hover-bg-color);\n",
              "    box-shadow: 0 1px 2px rgba(60, 64, 67, 0.3), 0 1px 3px 1px rgba(60, 64, 67, 0.15);\n",
              "    fill: var(--button-hover-fill-color);\n",
              "  }\n",
              "\n",
              "  .colab-df-quickchart-complete:disabled,\n",
              "  .colab-df-quickchart-complete:disabled:hover {\n",
              "    background-color: var(--disabled-bg-color);\n",
              "    fill: var(--disabled-fill-color);\n",
              "    box-shadow: none;\n",
              "  }\n",
              "\n",
              "  .colab-df-spinner {\n",
              "    border: 2px solid var(--fill-color);\n",
              "    border-color: transparent;\n",
              "    border-bottom-color: var(--fill-color);\n",
              "    animation:\n",
              "      spin 1s steps(1) infinite;\n",
              "  }\n",
              "\n",
              "  @keyframes spin {\n",
              "    0% {\n",
              "      border-color: transparent;\n",
              "      border-bottom-color: var(--fill-color);\n",
              "      border-left-color: var(--fill-color);\n",
              "    }\n",
              "    20% {\n",
              "      border-color: transparent;\n",
              "      border-left-color: var(--fill-color);\n",
              "      border-top-color: var(--fill-color);\n",
              "    }\n",
              "    30% {\n",
              "      border-color: transparent;\n",
              "      border-left-color: var(--fill-color);\n",
              "      border-top-color: var(--fill-color);\n",
              "      border-right-color: var(--fill-color);\n",
              "    }\n",
              "    40% {\n",
              "      border-color: transparent;\n",
              "      border-right-color: var(--fill-color);\n",
              "      border-top-color: var(--fill-color);\n",
              "    }\n",
              "    60% {\n",
              "      border-color: transparent;\n",
              "      border-right-color: var(--fill-color);\n",
              "    }\n",
              "    80% {\n",
              "      border-color: transparent;\n",
              "      border-right-color: var(--fill-color);\n",
              "      border-bottom-color: var(--fill-color);\n",
              "    }\n",
              "    90% {\n",
              "      border-color: transparent;\n",
              "      border-bottom-color: var(--fill-color);\n",
              "    }\n",
              "  }\n",
              "</style>\n",
              "\n",
              "  <script>\n",
              "    async function quickchart(key) {\n",
              "      const quickchartButtonEl =\n",
              "        document.querySelector('#' + key + ' button');\n",
              "      quickchartButtonEl.disabled = true;  // To prevent multiple clicks.\n",
              "      quickchartButtonEl.classList.add('colab-df-spinner');\n",
              "      try {\n",
              "        const charts = await google.colab.kernel.invokeFunction(\n",
              "            'suggestCharts', [key], {});\n",
              "      } catch (error) {\n",
              "        console.error('Error during call to suggestCharts:', error);\n",
              "      }\n",
              "      quickchartButtonEl.classList.remove('colab-df-spinner');\n",
              "      quickchartButtonEl.classList.add('colab-df-quickchart-complete');\n",
              "    }\n",
              "    (() => {\n",
              "      let quickchartButtonEl =\n",
              "        document.querySelector('#df-cc64a351-c668-4279-abaf-8913c7848f11 button');\n",
              "      quickchartButtonEl.style.display =\n",
              "        google.colab.kernel.accessAllowed ? 'block' : 'none';\n",
              "    })();\n",
              "  </script>\n",
              "</div>\n",
              "\n",
              "    </div>\n",
              "  </div>\n"
            ],
            "application/vnd.google.colaboratory.intrinsic+json": {
              "type": "dataframe",
              "variable_name": "pdb_inx_non_proximal",
              "summary": "{\n  \"name\": \"pdb_inx_non_proximal\",\n  \"rows\": 603,\n  \"fields\": [\n    {\n      \"column\": \"interacting_entities\",\n      \"properties\": {\n        \"dtype\": \"category\",\n        \"num_unique_values\": 2,\n        \"samples\": [\n          \"SELECTION_WATER\",\n          \"INTER\"\n        ],\n        \"semantic_type\": \"\",\n        \"description\": \"\"\n      }\n    },\n    {\n      \"column\": \"interaction_type\",\n      \"properties\": {\n        \"dtype\": \"category\",\n        \"num_unique_values\": 3,\n        \"samples\": [\n          \"atom-atom\",\n          \"plane-plane\"\n        ],\n        \"semantic_type\": \"\",\n        \"description\": \"\"\n      }\n    },\n    {\n      \"column\": \"distance\",\n      \"properties\": {\n        \"dtype\": \"number\",\n        \"std\": 0.4143321193931214,\n        \"min\": 2.23,\n        \"max\": 4.47,\n        \"num_unique_values\": 105,\n        \"samples\": [\n          3.6,\n          2.93\n        ],\n        \"semantic_type\": \"\",\n        \"description\": \"\"\n      }\n    },\n    {\n      \"column\": \"bm_id\",\n      \"properties\": {\n        \"dtype\": \"category\",\n        \"num_unique_values\": 6,\n        \"samples\": [\n          \"bm_1\",\n          \"bm_2\"\n        ],\n        \"semantic_type\": \"\",\n        \"description\": \"\"\n      }\n    },\n    {\n      \"column\": \"contact_type\",\n      \"properties\": {\n        \"dtype\": \"category\",\n        \"num_unique_values\": 13,\n        \"samples\": [\n          \"CATIONPI\",\n          \"CARBONPI\"\n        ],\n        \"semantic_type\": \"\",\n        \"description\": \"\"\n      }\n    },\n    {\n      \"column\": \"auth_asym_id_1\",\n      \"properties\": {\n        \"dtype\": \"category\",\n        \"num_unique_values\": 6,\n        \"samples\": [\n          \"A\",\n          \"A_2\"\n        ],\n        \"semantic_type\": \"\",\n        \"description\": \"\"\n      }\n    },\n    {\n      \"column\": \"auth_asym_id_2\",\n      \"properties\": {\n        \"dtype\": \"category\",\n        \"num_unique_values\": 6,\n        \"samples\": [\n          \"C_2\",\n          \"A\"\n        ],\n        \"semantic_type\": \"\",\n        \"description\": \"\"\n      }\n    },\n    {\n      \"column\": \"auth_seq_id_1\",\n      \"properties\": {\n        \"dtype\": \"number\",\n        \"std\": 0,\n        \"min\": 700,\n        \"max\": 700,\n        \"num_unique_values\": 1,\n        \"samples\": [\n          700\n        ],\n        \"semantic_type\": \"\",\n        \"description\": \"\"\n      }\n    },\n    {\n      \"column\": \"auth_seq_id_2\",\n      \"properties\": {\n        \"dtype\": \"number\",\n        \"std\": 909,\n        \"min\": 135,\n        \"max\": 2275,\n        \"num_unique_values\": 34,\n        \"samples\": [\n          2247\n        ],\n        \"semantic_type\": \"\",\n        \"description\": \"\"\n      }\n    },\n    {\n      \"column\": \"label_comp_id_1\",\n      \"properties\": {\n        \"dtype\": \"category\",\n        \"num_unique_values\": 1,\n        \"samples\": [\n          \"APC\"\n        ],\n        \"semantic_type\": \"\",\n        \"description\": \"\"\n      }\n    },\n    {\n      \"column\": \"label_comp_id_2\",\n      \"properties\": {\n        \"dtype\": \"category\",\n        \"num_unique_values\": 12,\n        \"samples\": [\n          \"ARG\"\n        ],\n        \"semantic_type\": \"\",\n        \"description\": \"\"\n      }\n    },\n    {\n      \"column\": \"auth_atom_id_1\",\n      \"properties\": {\n        \"dtype\": \"category\",\n        \"num_unique_values\": 29,\n        \"samples\": [\n          \"C5'\"\n        ],\n        \"semantic_type\": \"\",\n        \"description\": \"\"\n      }\n    },\n    {\n      \"column\": \"auth_atom_id_2\",\n      \"properties\": {\n        \"dtype\": \"category\",\n        \"num_unique_values\": 23,\n        \"samples\": [\n          \"CE1\"\n        ],\n        \"semantic_type\": \"\",\n        \"description\": \"\"\n      }\n    }\n  ]\n}"
            }
          },
          "metadata": {},
          "execution_count": 24
        }
      ]
    },
    {
      "cell_type": "markdown",
      "source": [
        "## Interaction Analysis"
      ],
      "metadata": {
        "id": "muBUfgg-FOnb"
      }
    },
    {
      "cell_type": "markdown",
      "source": [
        "In this analysis, we will find the relevant ligand atoms and polymer residues interacting in the binding site by plotting the count of interactions between them using relational plots in seaborn."
      ],
      "metadata": {
        "id": "lnR0Lv2TXgtC"
      }
    },
    {
      "cell_type": "code",
      "source": [
        "ignore = [\"proximal\", \"vdw_clash\", \"weak_hbond\", \"weak_polar\"] ## list of contact-types to ignore\n",
        "bm_id = \"bm_1\"\n",
        "selected_interaction_types = [\"INTER\"] #list of interaction types to include\n",
        "bm_intx = pdb_interactions_df.loc[(pdb_interactions_df[\"bm_id\"] == bm_id) &\n",
        "                                  (pdb_interactions_df[\"interacting_entities\"].isin(selected_interaction_types)) &\n",
        "                                  (~pdb_interactions_df[\"contact_type\"].isin(ignore))]\n",
        "bm_intx_copy = bm_intx[[\"auth_atom_id_1\", \"auth_asym_id_2\", \"auth_seq_id_2\", \"label_comp_id_2\", \"auth_atom_id_2\", \"contact_type\"]].copy()\n",
        "bm_intx_copy.replace([\"FF\", \"OF\", \"EE\", \"FT\", \"OT\", \"ET\", \"FE\", \"OE\", \"EF\"], \"plane-plane\", inplace=True) #\n",
        "bm_intx_copy[\"residue_id_2\"] = bm_intx_copy.apply(lambda row: f\"{row['auth_asym_id_2']}:{row['auth_seq_id_2']}:{row['label_comp_id_2']}\", axis=1)\n",
        "bm_intx_copy[\"auth_atom_id_1_list\"] = bm_intx_copy[\"auth_atom_id_1\"].str.split(',')\n",
        "bm_intx_expanded = bm_intx_copy.explode(\"auth_atom_id_1_list\")\n",
        "bm_intx_expanded_group = bm_intx_expanded.groupby(by=[\"residue_id_2\", \"auth_atom_id_1_list\", 'contact_type']).size().reset_index(name='counts')"
      ],
      "metadata": {
        "id": "rt0dxQF67_nI"
      },
      "execution_count": 25,
      "outputs": []
    },
    {
      "cell_type": "code",
      "source": [
        "# Generate a relational-plot of ligand atom-amino acid interactions\n",
        "facet_height = 4\n",
        "facet_aspect = 1.2\n",
        "col_wrap = 2\n",
        "num_facets = bm_intx_expanded_group['contact_type'].nunique()\n",
        "\n",
        "fig_width = (col_wrap * facet_height * facet_aspect) + 5\n",
        "fig_height = (num_facets // col_wrap + (num_facets % col_wrap > 0)) * facet_height\n",
        "\n",
        "\n",
        "g = sns.relplot(\n",
        "    data=bm_intx_expanded_group,\n",
        "    x=\"residue_id_2\",\n",
        "    y=\"auth_atom_id_1_list\",\n",
        "    hue=\"contact_type\",\n",
        "    size = \"counts\",\n",
        "    sizes=(40,400),\n",
        "    col=\"contact_type\",\n",
        "    col_wrap=col_wrap,\n",
        "    height=facet_height,\n",
        "    aspect=facet_aspect\n",
        ")\n",
        "# Set x-axis label for all facets\n",
        "g.set_axis_labels(\"Residue ID\", \"Ligand Atom\")\n",
        "g.set_titles(\"{col_name} Interaction\")\n",
        "g.fig.suptitle(\"Residue-Ligand Interaction Visualization by Interaction Type\", y=1.05)\n",
        "g.fig.subplots_adjust(hspace=0.4)\n",
        "\n",
        "# Set xticks for all facets\n",
        "for ax in g.axes.flat:\n",
        "    ax.tick_params(axis='x', which='both', bottom=True, top=False, labelbottom=True)\n",
        "    for label in ax.get_xticklabels():\n",
        "      label.set_rotation(30)  # Rotate x-ticks by 30 degrees (adjust as needed)\n",
        "\n",
        "\n",
        "# Set the calculated figure size\n",
        "g.fig.set_size_inches(fig_width, fig_height)\n",
        "\n",
        "plt.show()"
      ],
      "metadata": {
        "colab": {
          "base_uri": "https://localhost:8080/",
          "height": 1000
        },
        "id": "YjAJOJkp9GYb",
        "outputId": "76552fc0-850e-4816-be37-e2723ad21ffb"
      },
      "execution_count": 26,
      "outputs": [
        {
          "output_type": "display_data",
          "data": {
            "text/plain": [
              "<Figure size 1460x1600 with 8 Axes>"
            ],
            "image/png": "[encoded data removed]"
          },
          "metadata": {}
        }
      ]
    },
    {
      "cell_type": "markdown",
      "source": [
        "From the above plots it is clear that Lys 136, Thr 137, Ser 292 and Tyr 288 from chain A and Ser 252 and Gln 278 from chain C_2 are the important residues in the binding pocket of APC.  "
      ],
      "metadata": {
        "id": "sLFvQU7WagUu"
      }
    },
    {
      "cell_type": "markdown",
      "metadata": {
        "id": "tzGflIvry_Tv"
      },
      "source": [
        "#&nbsp; 3 PDBe RelLig"
      ]
    },
    {
      "cell_type": "markdown",
      "source": [
        "With over 200,000 entries in the PDB, about 75% of these structures contain at least one ligand bound to a protein or nucleic acid. However, not all ligands are biologically relevant, some are present due to experimental necessities, such as aiding crystallisation or enabling cryoprotection, while others play biologically significant roles acting as cofactors, reactants or drugs. Unfortunately, the biological role of ligands present in PDB entries is not annotated in the PDB/mmCIF files.\n",
        "PDBe RelLig is designed to bridge this gap by automatically annotating the ligand's functional role as the following:\n",
        " - cofactor\n",
        " - reactant\n",
        " - drug"
      ],
      "metadata": {
        "id": "r6Nj5kceLvzZ"
      }
    },
    {
      "cell_type": "code",
      "source": [
        "%pip install pdberellig"
      ],
      "metadata": {
        "id": "Ztlbr8N5ZjOL",
        "outputId": "6cc344be-1c3b-4b9b-b7b5-16908cd7da31",
        "colab": {
          "base_uri": "https://localhost:8080/"
        }
      },
      "execution_count": 140,
      "outputs": [
        {
          "output_type": "stream",
          "name": "stdout",
          "text": [
            "Requirement already satisfied: pdberellig in /usr/local/lib/python3.10/dist-packages (1.0.0)\n",
            "Requirement already satisfied: click==8.1.7 in /usr/local/lib/python3.10/dist-packages (from pdberellig) (8.1.7)\n",
            "Requirement already satisfied: pandas<3.0.0,>=2.2.3 in /usr/local/lib/python3.10/dist-packages (from pdberellig) (2.2.3)\n",
            "Requirement already satisfied: pdbeccdutils<0.9.0,>=0.8.6 in /usr/local/lib/python3.10/dist-packages (from pdberellig) (0.8.6)\n",
            "Requirement already satisfied: sparqlwrapper<3.0.0,>=2.0.0 in /usr/local/lib/python3.10/dist-packages (from pdberellig) (2.0.0)\n",
            "Requirement already satisfied: numpy>=1.22.4 in /usr/local/lib/python3.10/dist-packages (from pandas<3.0.0,>=2.2.3->pdberellig) (1.26.4)\n",
            "Requirement already satisfied: python-dateutil>=2.8.2 in /usr/local/lib/python3.10/dist-packages (from pandas<3.0.0,>=2.2.3->pdberellig) (2.8.2)\n",
            "Requirement already satisfied: pytz>=2020.1 in /usr/local/lib/python3.10/dist-packages (from pandas<3.0.0,>=2.2.3->pdberellig) (2024.2)\n",
            "Requirement already satisfied: tzdata>=2022.7 in /usr/local/lib/python3.10/dist-packages (from pandas<3.0.0,>=2.2.3->pdberellig) (2024.2)\n",
            "Requirement already satisfied: gemmi<0.7.0,>=0.6.6 in /usr/local/lib/python3.10/dist-packages (from pdbeccdutils<0.9.0,>=0.8.6->pdberellig) (0.6.7)\n",
            "Requirement already satisfied: networkx<4.0,>=3.3 in /usr/local/lib/python3.10/dist-packages (from pdbeccdutils<0.9.0,>=0.8.6->pdberellig) (3.4.2)\n",
            "Requirement already satisfied: pillow<11.0.0,>=10.4.0 in /usr/local/lib/python3.10/dist-packages (from pdbeccdutils<0.9.0,>=0.8.6->pdberellig) (10.4.0)\n",
            "Requirement already satisfied: rdkit==2023.9.6 in /usr/local/lib/python3.10/dist-packages (from pdbeccdutils<0.9.0,>=0.8.6->pdberellig) (2023.9.6)\n",
            "Requirement already satisfied: requests<3.0.0,>=2.32.3 in /usr/local/lib/python3.10/dist-packages (from pdbeccdutils<0.9.0,>=0.8.6->pdberellig) (2.32.3)\n",
            "Requirement already satisfied: scipy<2.0.0,>=1.14.1 in /usr/local/lib/python3.10/dist-packages (from pdbeccdutils<0.9.0,>=0.8.6->pdberellig) (1.14.1)\n",
            "Requirement already satisfied: rdflib>=6.1.1 in /usr/local/lib/python3.10/dist-packages (from sparqlwrapper<3.0.0,>=2.0.0->pdberellig) (7.1.1)\n",
            "Requirement already satisfied: six>=1.5 in /usr/local/lib/python3.10/dist-packages (from python-dateutil>=2.8.2->pandas<3.0.0,>=2.2.3->pdberellig) (1.16.0)\n",
            "Requirement already satisfied: isodate<1.0.0,>=0.7.2 in /usr/local/lib/python3.10/dist-packages (from rdflib>=6.1.1->sparqlwrapper<3.0.0,>=2.0.0->pdberellig) (0.7.2)\n",
            "Requirement already satisfied: pyparsing<4,>=2.1.0 in /usr/local/lib/python3.10/dist-packages (from rdflib>=6.1.1->sparqlwrapper<3.0.0,>=2.0.0->pdberellig) (3.2.0)\n",
            "Requirement already satisfied: charset-normalizer<4,>=2 in /usr/local/lib/python3.10/dist-packages (from requests<3.0.0,>=2.32.3->pdbeccdutils<0.9.0,>=0.8.6->pdberellig) (3.4.0)\n",
            "Requirement already satisfied: idna<4,>=2.5 in /usr/local/lib/python3.10/dist-packages (from requests<3.0.0,>=2.32.3->pdbeccdutils<0.9.0,>=0.8.6->pdberellig) (3.10)\n",
            "Requirement already satisfied: urllib3<3,>=1.21.1 in /usr/local/lib/python3.10/dist-packages (from requests<3.0.0,>=2.32.3->pdbeccdutils<0.9.0,>=0.8.6->pdberellig) (2.2.3)\n",
            "Requirement already satisfied: certifi>=2017.4.17 in /usr/local/lib/python3.10/dist-packages (from requests<3.0.0,>=2.32.3->pdbeccdutils<0.9.0,>=0.8.6->pdberellig) (2024.8.30)\n"
          ]
        }
      ]
    },
    {
      "cell_type": "markdown",
      "source": [
        "## Identifying Cofactors"
      ],
      "metadata": {
        "id": "WTsKK4waZ09s"
      }
    },
    {
      "cell_type": "markdown",
      "source": [
        "The cofacor pipeline identifies cofactor-like molecules in the PDB by comparing them to organic cofactors in the [CoFactor](https://www.ebi.ac.uk/thornton-srv/databases/CoFactor/) database based on structural similarity and matching EC numbers of ligand interacting proteins. The pipeline takes the CIF file of ligand and the type of ligand (i.e., CCD/PRD/CLC) as inputs and writes a json file containing, similarity to the template and representative cofactor molecules along with the details of ligand interacting chains with EC number matching to the organic cofactors. If the ligand cannot be annotated as cofactor-like, then no output is generated."
      ],
      "metadata": {
        "id": "hQncpCY2bZ4Y"
      }
    },
    {
      "cell_type": "code",
      "source": [
        "!pdberellig cofactors --help"
      ],
      "metadata": {
        "id": "WbWMffoPZwJ8",
        "outputId": "5075bd95-0b9a-4151-ad0c-0571be65e3b0",
        "colab": {
          "base_uri": "https://localhost:8080/"
        }
      },
      "execution_count": 27,
      "outputs": [
        {
          "output_type": "stream",
          "name": "stdout",
          "text": [
            "Usage: pdberellig cofactors [OPTIONS]\n",
            "\n",
            "  PDBe RelLig pipeline - cofactors mode =================\n",
            "\n",
            "  This pipeline processes ligand CIF files from the PDB and annotates them as\n",
            "  cofactor-like molecules\n",
            "\n",
            "Options:\n",
            "  --cif TEXT                   path to input cif file  [required]\n",
            "  --ligand-type [CCD|PRD|CLC]  type of ligand in the PDB  [required]\n",
            "  --out-dir TEXT               path to output directory  [required]\n",
            "  --help                       Show this message and exit.\n"
          ]
        }
      ]
    },
    {
      "cell_type": "markdown",
      "source": [
        "In this analysis we will check the annotation of TXE (1,2,3,4-tetrahydronicotinamide adenine dinucleotide) and identify all the PDB entries in which it is likely to act as a cofactor"
      ],
      "metadata": {
        "id": "KaD7QvHIeLN8"
      }
    },
    {
      "cell_type": "code",
      "source": [
        "txe_cif = get_ligand_cif('TXE', ligandType.CCD)"
      ],
      "metadata": {
        "id": "1OCBOtYQaOD8"
      },
      "execution_count": 28,
      "outputs": []
    },
    {
      "cell_type": "code",
      "source": [
        "!pdberellig cofactors --cif TXE.cif --ligand-type CCD --out-dir /content"
      ],
      "metadata": {
        "id": "Ws1wwvJmagnN",
        "outputId": "a874bd6a-4883-457a-dc91-cff6e6e9de2c",
        "colab": {
          "base_uri": "https://localhost:8080/"
        }
      },
      "execution_count": 29,
      "outputs": [
        {
          "output_type": "stream",
          "name": "stdout",
          "text": [
            "[2024-11-01 12:05:48,410] cofactors:INFO:PDBe RelLig functional annotation pipeline started | cofactors    v.1.0.0\n",
            "[2024-11-01 12:05:48,410] cofactors:INFO:Used packages:\n",
            "[2024-11-01 12:05:48,410] cofactors:INFO:  rdkit 2023.09.6\n",
            "[2024-11-01 12:05:48,411] cofactors:INFO:  pdbeccdutils 0.8.6\n",
            "[2024-11-01 12:05:48,625] cofactors:INFO:Possible new cofactor identified: TXE similar to NAD2 template with score 0.83.\n",
            "[2024-11-01 12:05:48,643] cofactors:INFO:Running similarity to representative NAD\n",
            "[2024-11-01 12:05:50,652] cofactors:INFO:Possible new cofactor identified: TXE similar to NAD representative with score 1.0.\n",
            "[2024-11-01 12:05:51,098] cofactors:INFO:TXE is a cofactor-like\n",
            "                            molecule similar to the cofactor template NAD2\n",
            "[2024-11-01 12:05:51,101] cofactors:INFO:Writing cofactor annotations to /content/TXE_cofactor_annotation.json\n"
          ]
        }
      ]
    },
    {
      "cell_type": "code",
      "source": [
        "with open(\"TXE_cofactor_annotation.json\", \"r\") as fh:\n",
        "  txe_intx_chains = json.load(fh)"
      ],
      "metadata": {
        "id": "PvEmIhm4a99-"
      },
      "execution_count": 144,
      "outputs": []
    },
    {
      "cell_type": "code",
      "source": [
        "txe_intx_chains"
      ],
      "metadata": {
        "id": "5l8djsXbbLAl",
        "outputId": "ae48d5ff-4717-4d93-ae53-3e11b9802805",
        "colab": {
          "base_uri": "https://localhost:8080/"
        }
      },
      "execution_count": 145,
      "outputs": [
        {
          "output_type": "execute_result",
          "data": {
            "text/plain": [
              "{'TXE': {'template': {'id': 'NAD2', 'similarity': 0.83},\n",
              "  'representative': {'id': 'NAD', 'similarity': 1.0},\n",
              "  'pdb_chains': [{'pdb_id': '5ac2',\n",
              "    'auth_asym_id': 'A',\n",
              "    'struct_asym_id': 'A',\n",
              "    'uniprot_id': 'P00352',\n",
              "    'ec_number': '1.2.1.19'},\n",
              "   {'pdb_id': '5ac1',\n",
              "    'auth_asym_id': 'B',\n",
              "    'struct_asym_id': 'B',\n",
              "    'uniprot_id': 'P51977',\n",
              "    'ec_number': '1.2.1.19'},\n",
              "   {'pdb_id': '5abm',\n",
              "    'auth_asym_id': 'D',\n",
              "    'struct_asym_id': 'D',\n",
              "    'uniprot_id': 'P51977',\n",
              "    'ec_number': '1.2.1.19'},\n",
              "   {'pdb_id': '5ac1',\n",
              "    'auth_asym_id': 'A',\n",
              "    'struct_asym_id': 'A',\n",
              "    'uniprot_id': 'P51977',\n",
              "    'ec_number': '1.2.1.19'},\n",
              "   {'pdb_id': '5abm',\n",
              "    'auth_asym_id': 'C',\n",
              "    'struct_asym_id': 'C',\n",
              "    'uniprot_id': 'P51977',\n",
              "    'ec_number': '1.2.1.19'},\n",
              "   {'pdb_id': '5ac2',\n",
              "    'auth_asym_id': 'A',\n",
              "    'struct_asym_id': 'A',\n",
              "    'uniprot_id': 'P00352',\n",
              "    'ec_number': '1.2.1.28'},\n",
              "   {'pdb_id': '5ac1',\n",
              "    'auth_asym_id': 'B',\n",
              "    'struct_asym_id': 'B',\n",
              "    'uniprot_id': 'P51977',\n",
              "    'ec_number': '1.2.1.28'},\n",
              "   {'pdb_id': '5ac1',\n",
              "    'auth_asym_id': 'A',\n",
              "    'struct_asym_id': 'A',\n",
              "    'uniprot_id': 'P51977',\n",
              "    'ec_number': '1.2.1.28'},\n",
              "   {'pdb_id': '5abm',\n",
              "    'auth_asym_id': 'C',\n",
              "    'struct_asym_id': 'C',\n",
              "    'uniprot_id': 'P51977',\n",
              "    'ec_number': '1.2.1.28'},\n",
              "   {'pdb_id': '5abm',\n",
              "    'auth_asym_id': 'D',\n",
              "    'struct_asym_id': 'D',\n",
              "    'uniprot_id': 'P51977',\n",
              "    'ec_number': '1.2.1.28'},\n",
              "   {'pdb_id': '5abm',\n",
              "    'auth_asym_id': 'D',\n",
              "    'struct_asym_id': 'D',\n",
              "    'uniprot_id': 'P51977',\n",
              "    'ec_number': '1.2.1.3'},\n",
              "   {'pdb_id': '5ac1',\n",
              "    'auth_asym_id': 'A',\n",
              "    'struct_asym_id': 'A',\n",
              "    'uniprot_id': 'P51977',\n",
              "    'ec_number': '1.2.1.3'},\n",
              "   {'pdb_id': '5ac2',\n",
              "    'auth_asym_id': 'A',\n",
              "    'struct_asym_id': 'A',\n",
              "    'uniprot_id': 'P00352',\n",
              "    'ec_number': '1.2.1.3'},\n",
              "   {'pdb_id': '5ac1',\n",
              "    'auth_asym_id': 'B',\n",
              "    'struct_asym_id': 'B',\n",
              "    'uniprot_id': 'P51977',\n",
              "    'ec_number': '1.2.1.3'},\n",
              "   {'pdb_id': '5abm',\n",
              "    'auth_asym_id': 'C',\n",
              "    'struct_asym_id': 'C',\n",
              "    'uniprot_id': 'P51977',\n",
              "    'ec_number': '1.2.1.3'},\n",
              "   {'pdb_id': '5abm',\n",
              "    'auth_asym_id': 'C',\n",
              "    'struct_asym_id': 'C',\n",
              "    'uniprot_id': 'P51977',\n",
              "    'ec_number': '1.2.1.36'},\n",
              "   {'pdb_id': '5abm',\n",
              "    'auth_asym_id': 'D',\n",
              "    'struct_asym_id': 'D',\n",
              "    'uniprot_id': 'P51977',\n",
              "    'ec_number': '1.2.1.36'},\n",
              "   {'pdb_id': '5ac2',\n",
              "    'auth_asym_id': 'A',\n",
              "    'struct_asym_id': 'A',\n",
              "    'uniprot_id': 'P00352',\n",
              "    'ec_number': '1.2.1.36'},\n",
              "   {'pdb_id': '5ac1',\n",
              "    'auth_asym_id': 'A',\n",
              "    'struct_asym_id': 'A',\n",
              "    'uniprot_id': 'P51977',\n",
              "    'ec_number': '1.2.1.36'},\n",
              "   {'pdb_id': '5ac1',\n",
              "    'auth_asym_id': 'B',\n",
              "    'struct_asym_id': 'B',\n",
              "    'uniprot_id': 'P51977',\n",
              "    'ec_number': '1.2.1.36'},\n",
              "   {'pdb_id': '4caz',\n",
              "    'auth_asym_id': 'A',\n",
              "    'struct_asym_id': 'A',\n",
              "    'uniprot_id': 'Q9HTJ1',\n",
              "    'ec_number': '1.2.1.8'},\n",
              "   {'pdb_id': '4caz',\n",
              "    'auth_asym_id': 'B',\n",
              "    'struct_asym_id': 'B',\n",
              "    'uniprot_id': 'Q9HTJ1',\n",
              "    'ec_number': '1.2.1.8'}]}}"
            ]
          },
          "metadata": {},
          "execution_count": 145
        }
      ]
    },
    {
      "cell_type": "markdown",
      "source": [
        "The pipeline identifies TXE to act as a cofactor molecule due to its high similarity to NAD in the above PDB entries, and this information will be useful for further analysis of these PDB entries, for instance in docking studies"
      ],
      "metadata": {
        "id": "1kpReYcFLL-6"
      }
    },
    {
      "cell_type": "markdown",
      "source": [
        "## Identifying Reactants"
      ],
      "metadata": {
        "id": "JvYP_Vr6hWB3"
      }
    },
    {
      "cell_type": "markdown",
      "source": [
        "The reactants pipeline identifies reactant-like molecules in the PDB by comparing its structural similarity to reaction paticipants present in the ligand-interacting proteins fetched from [Rhea](https://www.rhea-db.org/) database. The pipeline takes the CIF file of ligand, the type of ligand (i.e., CCD/PRD/CLC) and structure file from ChEBI as inputs and writes a tsv file containing, ligand interacting chains and corresponding rhea ids of proteins and ChEBI ids of reaction participants along with their similarity to the ligand."
      ],
      "metadata": {
        "id": "w3prEmjphbt_"
      }
    },
    {
      "cell_type": "code",
      "source": [
        "!pdberellig reactants --help"
      ],
      "metadata": {
        "id": "5pCkhWSIirRp",
        "outputId": "c08f5731-db94-49ce-8317-5358575ec381",
        "colab": {
          "base_uri": "https://localhost:8080/"
        }
      },
      "execution_count": 146,
      "outputs": [
        {
          "output_type": "stream",
          "name": "stdout",
          "text": [
            "Usage: pdberellig reactants [OPTIONS]\n",
            "\n",
            "  PDBe RelLig pipeline - reactants mode =================\n",
            "\n",
            "  This pipeline processes ligand CIF files from the PDB and annotates them as\n",
            "  reactant-like molecule\n",
            "\n",
            "Options:\n",
            "  --cif TEXT                     path to input cif file  [required]\n",
            "  --ligand-type [CCD|PRD|CLC]    type of ligand in the PDB  [required]\n",
            "  --chebi-structure-file TEXT    Path to the ChEBI SDF file  [required]\n",
            "  --out-dir TEXT                 path to output directory  [required]\n",
            "  --update-chebi                 Flag to update ChEBI structures file\n",
            "  --minimal-ligand-size INTEGER  Minimum ligand size.  [default: 5]\n",
            "  --help                         Show this message and exit.\n"
          ]
        }
      ]
    },
    {
      "cell_type": "markdown",
      "source": [
        "In this analysis, we will find the PDB entries in which 1CP (coproporphyrinogen I) is likely to act as reactant molecule"
      ],
      "metadata": {
        "id": "nfJifEsML8sC"
      }
    },
    {
      "cell_type": "code",
      "source": [
        "cp_cif = get_ligand_cif('1CP', ligandType.CCD)"
      ],
      "metadata": {
        "id": "VvzTRwUiiwap"
      },
      "execution_count": 36,
      "outputs": []
    },
    {
      "cell_type": "code",
      "source": [
        "# Download structure file from ChEBI\n",
        "chebi_structure_url = \"https://ftp.ebi.ac.uk/pub/databases/chebi/Flat_file_tab_delimited/structures.csv.gz\"\n",
        "wget.download(chebi_structure_url)"
      ],
      "metadata": {
        "colab": {
          "base_uri": "https://localhost:8080/",
          "height": 35
        },
        "id": "xZBv7l43Ecvw",
        "outputId": "ba53d5fc-9842-4f2d-ae9f-6cc4e94db810"
      },
      "execution_count": 30,
      "outputs": [
        {
          "output_type": "execute_result",
          "data": {
            "text/plain": [
              "'structures.csv.gz'"
            ],
            "application/vnd.google.colaboratory.intrinsic+json": {
              "type": "string"
            }
          },
          "metadata": {},
          "execution_count": 30
        }
      ]
    },
    {
      "cell_type": "code",
      "source": [
        "!pdberellig reactants --cif 1CP.cif --ligand-type CCD --chebi-structure-file structures.csv.gz --out-dir /content"
      ],
      "metadata": {
        "id": "VJswVkEYivFB",
        "colab": {
          "base_uri": "https://localhost:8080/"
        },
        "outputId": "67260329-f4ff-449a-db97-b06f46c1a1eb"
      },
      "execution_count": null,
      "outputs": [
        {
          "output_type": "stream",
          "name": "stdout",
          "text": [
            "[2024-11-01 11:53:47,807] reactants:INFO:PDBe RelLig functional annotation pipeline started | reactants    v.1.0.0\n",
            "[2024-11-01 11:53:47,807] reactants:INFO:Used packages:\n",
            "[2024-11-01 11:53:47,807] reactants:INFO:  rdkit 2023.09.6\n",
            "[2024-11-01 11:53:47,810] reactants:INFO:  pdbeccdutils 0.8.6\n"
          ]
        }
      ]
    },
    {
      "cell_type": "code",
      "source": [
        "cp_annotations = pd.read_csv(\"1CP_reactant_annotation.tsv\", sep=\"\\t\")"
      ],
      "metadata": {
        "id": "HqmXfrZdJCdm"
      },
      "execution_count": 31,
      "outputs": []
    },
    {
      "cell_type": "code",
      "source": [
        "cp_annotations"
      ],
      "metadata": {
        "colab": {
          "base_uri": "https://localhost:8080/",
          "height": 332
        },
        "id": "oSUfTUHYJQRp",
        "outputId": "8c1ca699-0a45-49bf-a2e7-d05a74a67436"
      },
      "execution_count": 32,
      "outputs": [
        {
          "output_type": "execute_result",
          "data": {
            "text/plain": [
              "  pdb_id auth_asym_id struct_asym_id uniprot_id  rhea_id  chebi_id  similarity\n",
              "0   1r3q            A              A     P06132    19865     57308       0.714\n",
              "1   1r3q            A              A     P06132    31239     62626       0.800\n",
              "2   1r3q            A              A     P06132    31239     62631       1.000\n",
              "3   1r3s            A              A     P06132    19865     57308       0.714\n",
              "4   1r3s            A              A     P06132    31239     62626       0.800\n",
              "5   1r3s            A              A     P06132    31239     62631       1.000\n",
              "6   1r3v            A              A     P06132    19865     57308       0.714\n",
              "7   1r3v            A              A     P06132    31239     62626       0.800\n",
              "8   1r3v            A              A     P06132    31239     62631       1.000"
            ],
            "text/html": [
              "\n",
              "  <div id=\"df-6fcb6375-5b11-4ca7-83c2-12c077959f82\" class=\"colab-df-container\">\n",
              "    <div>\n",
              "<style scoped>\n",
              "    .dataframe tbody tr th:only-of-type {\n",
              "        vertical-align: middle;\n",
              "    }\n",
              "\n",
              "    .dataframe tbody tr th {\n",
              "        vertical-align: top;\n",
              "    }\n",
              "\n",
              "    .dataframe thead th {\n",
              "        text-align: right;\n",
              "    }\n",
              "</style>\n",
              "<table border=\"1\" class=\"dataframe\">\n",
              "  <thead>\n",
              "    <tr style=\"text-align: right;\">\n",
              "      <th></th>\n",
              "      <th>pdb_id</th>\n",
              "      <th>auth_asym_id</th>\n",
              "      <th>struct_asym_id</th>\n",
              "      <th>uniprot_id</th>\n",
              "      <th>rhea_id</th>\n",
              "      <th>chebi_id</th>\n",
              "      <th>similarity</th>\n",
              "    </tr>\n",
              "  </thead>\n",
              "  <tbody>\n",
              "    <tr>\n",
              "      <th>0</th>\n",
              "      <td>1r3q</td>\n",
              "      <td>A</td>\n",
              "      <td>A</td>\n",
              "      <td>P06132</td>\n",
              "      <td>19865</td>\n",
              "      <td>57308</td>\n",
              "      <td>0.714</td>\n",
              "    </tr>\n",
              "    <tr>\n",
              "      <th>1</th>\n",
              "      <td>1r3q</td>\n",
              "      <td>A</td>\n",
              "      <td>A</td>\n",
              "      <td>P06132</td>\n",
              "      <td>31239</td>\n",
              "      <td>62626</td>\n",
              "      <td>0.800</td>\n",
              "    </tr>\n",
              "    <tr>\n",
              "      <th>2</th>\n",
              "      <td>1r3q</td>\n",
              "      <td>A</td>\n",
              "      <td>A</td>\n",
              "      <td>P06132</td>\n",
              "      <td>31239</td>\n",
              "      <td>62631</td>\n",
              "      <td>1.000</td>\n",
              "    </tr>\n",
              "    <tr>\n",
              "      <th>3</th>\n",
              "      <td>1r3s</td>\n",
              "      <td>A</td>\n",
              "      <td>A</td>\n",
              "      <td>P06132</td>\n",
              "      <td>19865</td>\n",
              "      <td>57308</td>\n",
              "      <td>0.714</td>\n",
              "    </tr>\n",
              "    <tr>\n",
              "      <th>4</th>\n",
              "      <td>1r3s</td>\n",
              "      <td>A</td>\n",
              "      <td>A</td>\n",
              "      <td>P06132</td>\n",
              "      <td>31239</td>\n",
              "      <td>62626</td>\n",
              "      <td>0.800</td>\n",
              "    </tr>\n",
              "    <tr>\n",
              "      <th>5</th>\n",
              "      <td>1r3s</td>\n",
              "      <td>A</td>\n",
              "      <td>A</td>\n",
              "      <td>P06132</td>\n",
              "      <td>31239</td>\n",
              "      <td>62631</td>\n",
              "      <td>1.000</td>\n",
              "    </tr>\n",
              "    <tr>\n",
              "      <th>6</th>\n",
              "      <td>1r3v</td>\n",
              "      <td>A</td>\n",
              "      <td>A</td>\n",
              "      <td>P06132</td>\n",
              "      <td>19865</td>\n",
              "      <td>57308</td>\n",
              "      <td>0.714</td>\n",
              "    </tr>\n",
              "    <tr>\n",
              "      <th>7</th>\n",
              "      <td>1r3v</td>\n",
              "      <td>A</td>\n",
              "      <td>A</td>\n",
              "      <td>P06132</td>\n",
              "      <td>31239</td>\n",
              "      <td>62626</td>\n",
              "      <td>0.800</td>\n",
              "    </tr>\n",
              "    <tr>\n",
              "      <th>8</th>\n",
              "      <td>1r3v</td>\n",
              "      <td>A</td>\n",
              "      <td>A</td>\n",
              "      <td>P06132</td>\n",
              "      <td>31239</td>\n",
              "      <td>62631</td>\n",
              "      <td>1.000</td>\n",
              "    </tr>\n",
              "  </tbody>\n",
              "</table>\n",
              "</div>\n",
              "    <div class=\"colab-df-buttons\">\n",
              "\n",
              "  <div class=\"colab-df-container\">\n",
              "    <button class=\"colab-df-convert\" onclick=\"convertToInteractive('df-6fcb6375-5b11-4ca7-83c2-12c077959f82')\"\n",
              "            title=\"Convert this dataframe to an interactive table.\"\n",
              "            style=\"display:none;\">\n",
              "\n",
              "  <svg xmlns=\"http://www.w3.org/2000/svg\" height=\"24px\" viewBox=\"0 -960 960 960\">\n",
              "    <path d=\"M120-120v-720h720v720H120Zm60-500h600v-160H180v160Zm220 220h160v-160H400v160Zm0 220h160v-160H400v160ZM180-400h160v-160H180v160Zm440 0h160v-160H620v160ZM180-180h160v-160H180v160Zm440 0h160v-160H620v160Z\"/>\n",
              "  </svg>\n",
              "    </button>\n",
              "\n",
              "  <style>\n",
              "    .colab-df-container {\n",
              "      display:flex;\n",
              "      gap: 12px;\n",
              "    }\n",
              "\n",
              "    .colab-df-convert {\n",
              "      background-color: #E8F0FE;\n",
              "      border: none;\n",
              "      border-radius: 50%;\n",
              "      cursor: pointer;\n",
              "      display: none;\n",
              "      fill: #1967D2;\n",
              "      height: 32px;\n",
              "      padding: 0 0 0 0;\n",
              "      width: 32px;\n",
              "    }\n",
              "\n",
              "    .colab-df-convert:hover {\n",
              "      background-color: #E2EBFA;\n",
              "      box-shadow: 0px 1px 2px rgba(60, 64, 67, 0.3), 0px 1px 3px 1px rgba(60, 64, 67, 0.15);\n",
              "      fill: #174EA6;\n",
              "    }\n",
              "\n",
              "    .colab-df-buttons div {\n",
              "      margin-bottom: 4px;\n",
              "    }\n",
              "\n",
              "    [theme=dark] .colab-df-convert {\n",
              "      background-color: #3B4455;\n",
              "      fill: #D2E3FC;\n",
              "    }\n",
              "\n",
              "    [theme=dark] .colab-df-convert:hover {\n",
              "      background-color: #434B5C;\n",
              "      box-shadow: 0px 1px 3px 1px rgba(0, 0, 0, 0.15);\n",
              "      filter: drop-shadow(0px 1px 2px rgba(0, 0, 0, 0.3));\n",
              "      fill: #FFFFFF;\n",
              "    }\n",
              "  </style>\n",
              "\n",
              "    <script>\n",
              "      const buttonEl =\n",
              "        document.querySelector('#df-6fcb6375-5b11-4ca7-83c2-12c077959f82 button.colab-df-convert');\n",
              "      buttonEl.style.display =\n",
              "        google.colab.kernel.accessAllowed ? 'block' : 'none';\n",
              "\n",
              "      async function convertToInteractive(key) {\n",
              "        const element = document.querySelector('#df-6fcb6375-5b11-4ca7-83c2-12c077959f82');\n",
              "        const dataTable =\n",
              "          await google.colab.kernel.invokeFunction('convertToInteractive',\n",
              "                                                    [key], {});\n",
              "        if (!dataTable) return;\n",
              "\n",
              "        const docLinkHtml = 'Like what you see? Visit the ' +\n",
              "          '<a target=\"_blank\" href=https://colab.research.google.com/notebooks/data_table.ipynb>data table notebook</a>'\n",
              "          + ' to learn more about interactive tables.';\n",
              "        element.innerHTML = '';\n",
              "        dataTable['output_type'] = 'display_data';\n",
              "        await google.colab.output.renderOutput(dataTable, element);\n",
              "        const docLink = document.createElement('div');\n",
              "        docLink.innerHTML = docLinkHtml;\n",
              "        element.appendChild(docLink);\n",
              "      }\n",
              "    </script>\n",
              "  </div>\n",
              "\n",
              "\n",
              "<div id=\"df-f02b6e5f-874c-4e5e-a488-b110e94951ff\">\n",
              "  <button class=\"colab-df-quickchart\" onclick=\"quickchart('df-f02b6e5f-874c-4e5e-a488-b110e94951ff')\"\n",
              "            title=\"Suggest charts\"\n",
              "            style=\"display:none;\">\n",
              "\n",
              "<svg xmlns=\"http://www.w3.org/2000/svg\" height=\"24px\"viewBox=\"0 0 24 24\"\n",
              "     width=\"24px\">\n",
              "    <g>\n",
              "        <path d=\"M19 3H5c-1.1 0-2 .9-2 2v14c0 1.1.9 2 2 2h14c1.1 0 2-.9 2-2V5c0-1.1-.9-2-2-2zM9 17H7v-7h2v7zm4 0h-2V7h2v10zm4 0h-2v-4h2v4z\"/>\n",
              "    </g>\n",
              "</svg>\n",
              "  </button>\n",
              "\n",
              "<style>\n",
              "  .colab-df-quickchart {\n",
              "      --bg-color: #E8F0FE;\n",
              "      --fill-color: #1967D2;\n",
              "      --hover-bg-color: #E2EBFA;\n",
              "      --hover-fill-color: #174EA6;\n",
              "      --disabled-fill-color: #AAA;\n",
              "      --disabled-bg-color: #DDD;\n",
              "  }\n",
              "\n",
              "  [theme=dark] .colab-df-quickchart {\n",
              "      --bg-color: #3B4455;\n",
              "      --fill-color: #D2E3FC;\n",
              "      --hover-bg-color: #434B5C;\n",
              "      --hover-fill-color: #FFFFFF;\n",
              "      --disabled-bg-color: #3B4455;\n",
              "      --disabled-fill-color: #666;\n",
              "  }\n",
              "\n",
              "  .colab-df-quickchart {\n",
              "    background-color: var(--bg-color);\n",
              "    border: none;\n",
              "    border-radius: 50%;\n",
              "    cursor: pointer;\n",
              "    display: none;\n",
              "    fill: var(--fill-color);\n",
              "    height: 32px;\n",
              "    padding: 0;\n",
              "    width: 32px;\n",
              "  }\n",
              "\n",
              "  .colab-df-quickchart:hover {\n",
              "    background-color: var(--hover-bg-color);\n",
              "    box-shadow: 0 1px 2px rgba(60, 64, 67, 0.3), 0 1px 3px 1px rgba(60, 64, 67, 0.15);\n",
              "    fill: var(--button-hover-fill-color);\n",
              "  }\n",
              "\n",
              "  .colab-df-quickchart-complete:disabled,\n",
              "  .colab-df-quickchart-complete:disabled:hover {\n",
              "    background-color: var(--disabled-bg-color);\n",
              "    fill: var(--disabled-fill-color);\n",
              "    box-shadow: none;\n",
              "  }\n",
              "\n",
              "  .colab-df-spinner {\n",
              "    border: 2px solid var(--fill-color);\n",
              "    border-color: transparent;\n",
              "    border-bottom-color: var(--fill-color);\n",
              "    animation:\n",
              "      spin 1s steps(1) infinite;\n",
              "  }\n",
              "\n",
              "  @keyframes spin {\n",
              "    0% {\n",
              "      border-color: transparent;\n",
              "      border-bottom-color: var(--fill-color);\n",
              "      border-left-color: var(--fill-color);\n",
              "    }\n",
              "    20% {\n",
              "      border-color: transparent;\n",
              "      border-left-color: var(--fill-color);\n",
              "      border-top-color: var(--fill-color);\n",
              "    }\n",
              "    30% {\n",
              "      border-color: transparent;\n",
              "      border-left-color: var(--fill-color);\n",
              "      border-top-color: var(--fill-color);\n",
              "      border-right-color: var(--fill-color);\n",
              "    }\n",
              "    40% {\n",
              "      border-color: transparent;\n",
              "      border-right-color: var(--fill-color);\n",
              "      border-top-color: var(--fill-color);\n",
              "    }\n",
              "    60% {\n",
              "      border-color: transparent;\n",
              "      border-right-color: var(--fill-color);\n",
              "    }\n",
              "    80% {\n",
              "      border-color: transparent;\n",
              "      border-right-color: var(--fill-color);\n",
              "      border-bottom-color: var(--fill-color);\n",
              "    }\n",
              "    90% {\n",
              "      border-color: transparent;\n",
              "      border-bottom-color: var(--fill-color);\n",
              "    }\n",
              "  }\n",
              "</style>\n",
              "\n",
              "  <script>\n",
              "    async function quickchart(key) {\n",
              "      const quickchartButtonEl =\n",
              "        document.querySelector('#' + key + ' button');\n",
              "      quickchartButtonEl.disabled = true;  // To prevent multiple clicks.\n",
              "      quickchartButtonEl.classList.add('colab-df-spinner');\n",
              "      try {\n",
              "        const charts = await google.colab.kernel.invokeFunction(\n",
              "            'suggestCharts', [key], {});\n",
              "      } catch (error) {\n",
              "        console.error('Error during call to suggestCharts:', error);\n",
              "      }\n",
              "      quickchartButtonEl.classList.remove('colab-df-spinner');\n",
              "      quickchartButtonEl.classList.add('colab-df-quickchart-complete');\n",
              "    }\n",
              "    (() => {\n",
              "      let quickchartButtonEl =\n",
              "        document.querySelector('#df-f02b6e5f-874c-4e5e-a488-b110e94951ff button');\n",
              "      quickchartButtonEl.style.display =\n",
              "        google.colab.kernel.accessAllowed ? 'block' : 'none';\n",
              "    })();\n",
              "  </script>\n",
              "</div>\n",
              "\n",
              "  <div id=\"id_3563e534-7bd6-464c-a121-81b762d7b8ad\">\n",
              "    <style>\n",
              "      .colab-df-generate {\n",
              "        background-color: #E8F0FE;\n",
              "        border: none;\n",
              "        border-radius: 50%;\n",
              "        cursor: pointer;\n",
              "        display: none;\n",
              "        fill: #1967D2;\n",
              "        height: 32px;\n",
              "        padding: 0 0 0 0;\n",
              "        width: 32px;\n",
              "      }\n",
              "\n",
              "      .colab-df-generate:hover {\n",
              "        background-color: #E2EBFA;\n",
              "        box-shadow: 0px 1px 2px rgba(60, 64, 67, 0.3), 0px 1px 3px 1px rgba(60, 64, 67, 0.15);\n",
              "        fill: #174EA6;\n",
              "      }\n",
              "\n",
              "      [theme=dark] .colab-df-generate {\n",
              "        background-color: #3B4455;\n",
              "        fill: #D2E3FC;\n",
              "      }\n",
              "\n",
              "      [theme=dark] .colab-df-generate:hover {\n",
              "        background-color: #434B5C;\n",
              "        box-shadow: 0px 1px 3px 1px rgba(0, 0, 0, 0.15);\n",
              "        filter: drop-shadow(0px 1px 2px rgba(0, 0, 0, 0.3));\n",
              "        fill: #FFFFFF;\n",
              "      }\n",
              "    </style>\n",
              "    <button class=\"colab-df-generate\" onclick=\"generateWithVariable('cp_annotations')\"\n",
              "            title=\"Generate code using this dataframe.\"\n",
              "            style=\"display:none;\">\n",
              "\n",
              "  <svg xmlns=\"http://www.w3.org/2000/svg\" height=\"24px\"viewBox=\"0 0 24 24\"\n",
              "       width=\"24px\">\n",
              "    <path d=\"M7,19H8.4L18.45,9,17,7.55,7,17.6ZM5,21V16.75L18.45,3.32a2,2,0,0,1,2.83,0l1.4,1.43a1.91,1.91,0,0,1,.58,1.4,1.91,1.91,0,0,1-.58,1.4L9.25,21ZM18.45,9,17,7.55Zm-12,3A5.31,5.31,0,0,0,4.9,8.1,5.31,5.31,0,0,0,1,6.5,5.31,5.31,0,0,0,4.9,4.9,5.31,5.31,0,0,0,6.5,1,5.31,5.31,0,0,0,8.1,4.9,5.31,5.31,0,0,0,12,6.5,5.46,5.46,0,0,0,6.5,12Z\"/>\n",
              "  </svg>\n",
              "    </button>\n",
              "    <script>\n",
              "      (() => {\n",
              "      const buttonEl =\n",
              "        document.querySelector('#id_3563e534-7bd6-464c-a121-81b762d7b8ad button.colab-df-generate');\n",
              "      buttonEl.style.display =\n",
              "        google.colab.kernel.accessAllowed ? 'block' : 'none';\n",
              "\n",
              "      buttonEl.onclick = () => {\n",
              "        google.colab.notebook.generateWithVariable('cp_annotations');\n",
              "      }\n",
              "      })();\n",
              "    </script>\n",
              "  </div>\n",
              "\n",
              "    </div>\n",
              "  </div>\n"
            ],
            "application/vnd.google.colaboratory.intrinsic+json": {
              "type": "dataframe",
              "variable_name": "cp_annotations",
              "summary": "{\n  \"name\": \"cp_annotations\",\n  \"rows\": 9,\n  \"fields\": [\n    {\n      \"column\": \"pdb_id\",\n      \"properties\": {\n        \"dtype\": \"category\",\n        \"num_unique_values\": 3,\n        \"samples\": [\n          \"1r3q\",\n          \"1r3s\",\n          \"1r3v\"\n        ],\n        \"semantic_type\": \"\",\n        \"description\": \"\"\n      }\n    },\n    {\n      \"column\": \"auth_asym_id\",\n      \"properties\": {\n        \"dtype\": \"category\",\n        \"num_unique_values\": 1,\n        \"samples\": [\n          \"A\"\n        ],\n        \"semantic_type\": \"\",\n        \"description\": \"\"\n      }\n    },\n    {\n      \"column\": \"struct_asym_id\",\n      \"properties\": {\n        \"dtype\": \"category\",\n        \"num_unique_values\": 1,\n        \"samples\": [\n          \"A\"\n        ],\n        \"semantic_type\": \"\",\n        \"description\": \"\"\n      }\n    },\n    {\n      \"column\": \"uniprot_id\",\n      \"properties\": {\n        \"dtype\": \"category\",\n        \"num_unique_values\": 1,\n        \"samples\": [\n          \"P06132\"\n        ],\n        \"semantic_type\": \"\",\n        \"description\": \"\"\n      }\n    },\n    {\n      \"column\": \"rhea_id\",\n      \"properties\": {\n        \"dtype\": \"number\",\n        \"std\": 5687,\n        \"min\": 19865,\n        \"max\": 31239,\n        \"num_unique_values\": 2,\n        \"samples\": [\n          31239\n        ],\n        \"semantic_type\": \"\",\n        \"description\": \"\"\n      }\n    },\n    {\n      \"column\": \"chebi_id\",\n      \"properties\": {\n        \"dtype\": \"number\",\n        \"std\": 2660,\n        \"min\": 57308,\n        \"max\": 62631,\n        \"num_unique_values\": 3,\n        \"samples\": [\n          57308\n        ],\n        \"semantic_type\": \"\",\n        \"description\": \"\"\n      }\n    },\n    {\n      \"column\": \"similarity\",\n      \"properties\": {\n        \"dtype\": \"number\",\n        \"std\": 0.1270787157631049,\n        \"min\": 0.714,\n        \"max\": 1.0,\n        \"num_unique_values\": 3,\n        \"samples\": [\n          0.714\n        ],\n        \"semantic_type\": \"\",\n        \"description\": \"\"\n      }\n    }\n  ]\n}"
            }
          },
          "metadata": {},
          "execution_count": 32
        }
      ]
    },
    {
      "cell_type": "code",
      "source": [
        "chebi_structures = pd.read_csv(\"structures.csv.gz\")\n",
        "chebi_similars = chebi_structures[(chebi_structures[\"COMPOUND_ID\"].isin(cp_annotations[\"chebi_id\"])) &\n",
        "                                  (chebi_structures[\"TYPE\"]==\"mol\") &\n",
        "                                  (chebi_structures[\"DEFAULT_STRUCTURE\"] == \"Y\")]\n",
        "chebi_similars.head()"
      ],
      "metadata": {
        "colab": {
          "base_uri": "https://localhost:8080/",
          "height": 143
        },
        "id": "O6Y8Bqt3M-lb",
        "outputId": "2a6b97fb-6463-49d1-c750-fce679809f9d"
      },
      "execution_count": 33,
      "outputs": [
        {
          "output_type": "execute_result",
          "data": {
            "text/plain": [
              "            ID  COMPOUND_ID  \\\n",
              "18229  2175888        57308   \n",
              "84041  2781132        62626   \n",
              "88115  2781147        62631   \n",
              "\n",
              "                                               STRUCTURE TYPE DIMENSION  \\\n",
              "18229  \\nCDK    2/12/10,15:26\\n\\n 60 64  0  0  0  0  ...  mol        2D   \n",
              "84041  \\n  Marvin  07251111592D          \\n\\n 60 64  ...  mol        2D   \n",
              "88115  \\n  Marvin  07261110232D          \\n\\n 48 52  ...  mol        2D   \n",
              "\n",
              "      DEFAULT_STRUCTURE AUTOGEN_STRUCTURE  \n",
              "18229                 Y                 N  \n",
              "84041                 Y                 N  \n",
              "88115                 Y                 N  "
            ],
            "text/html": [
              "\n",
              "  <div id=\"df-8c97116c-c418-4d18-8588-4f205209a1ba\" class=\"colab-df-container\">\n",
              "    <div>\n",
              "<style scoped>\n",
              "    .dataframe tbody tr th:only-of-type {\n",
              "        vertical-align: middle;\n",
              "    }\n",
              "\n",
              "    .dataframe tbody tr th {\n",
              "        vertical-align: top;\n",
              "    }\n",
              "\n",
              "    .dataframe thead th {\n",
              "        text-align: right;\n",
              "    }\n",
              "</style>\n",
              "<table border=\"1\" class=\"dataframe\">\n",
              "  <thead>\n",
              "    <tr style=\"text-align: right;\">\n",
              "      <th></th>\n",
              "      <th>ID</th>\n",
              "      <th>COMPOUND_ID</th>\n",
              "      <th>STRUCTURE</th>\n",
              "      <th>TYPE</th>\n",
              "      <th>DIMENSION</th>\n",
              "      <th>DEFAULT_STRUCTURE</th>\n",
              "      <th>AUTOGEN_STRUCTURE</th>\n",
              "    </tr>\n",
              "  </thead>\n",
              "  <tbody>\n",
              "    <tr>\n",
              "      <th>18229</th>\n",
              "      <td>2175888</td>\n",
              "      <td>57308</td>\n",
              "      <td>\\nCDK    2/12/10,15:26\\n\\n 60 64  0  0  0  0  ...</td>\n",
              "      <td>mol</td>\n",
              "      <td>2D</td>\n",
              "      <td>Y</td>\n",
              "      <td>N</td>\n",
              "    </tr>\n",
              "    <tr>\n",
              "      <th>84041</th>\n",
              "      <td>2781132</td>\n",
              "      <td>62626</td>\n",
              "      <td>\\n  Marvin  07251111592D          \\n\\n 60 64  ...</td>\n",
              "      <td>mol</td>\n",
              "      <td>2D</td>\n",
              "      <td>Y</td>\n",
              "      <td>N</td>\n",
              "    </tr>\n",
              "    <tr>\n",
              "      <th>88115</th>\n",
              "      <td>2781147</td>\n",
              "      <td>62631</td>\n",
              "      <td>\\n  Marvin  07261110232D          \\n\\n 48 52  ...</td>\n",
              "      <td>mol</td>\n",
              "      <td>2D</td>\n",
              "      <td>Y</td>\n",
              "      <td>N</td>\n",
              "    </tr>\n",
              "  </tbody>\n",
              "</table>\n",
              "</div>\n",
              "    <div class=\"colab-df-buttons\">\n",
              "\n",
              "  <div class=\"colab-df-container\">\n",
              "    <button class=\"colab-df-convert\" onclick=\"convertToInteractive('df-8c97116c-c418-4d18-8588-4f205209a1ba')\"\n",
              "            title=\"Convert this dataframe to an interactive table.\"\n",
              "            style=\"display:none;\">\n",
              "\n",
              "  <svg xmlns=\"http://www.w3.org/2000/svg\" height=\"24px\" viewBox=\"0 -960 960 960\">\n",
              "    <path d=\"M120-120v-720h720v720H120Zm60-500h600v-160H180v160Zm220 220h160v-160H400v160Zm0 220h160v-160H400v160ZM180-400h160v-160H180v160Zm440 0h160v-160H620v160ZM180-180h160v-160H180v160Zm440 0h160v-160H620v160Z\"/>\n",
              "  </svg>\n",
              "    </button>\n",
              "\n",
              "  <style>\n",
              "    .colab-df-container {\n",
              "      display:flex;\n",
              "      gap: 12px;\n",
              "    }\n",
              "\n",
              "    .colab-df-convert {\n",
              "      background-color: #E8F0FE;\n",
              "      border: none;\n",
              "      border-radius: 50%;\n",
              "      cursor: pointer;\n",
              "      display: none;\n",
              "      fill: #1967D2;\n",
              "      height: 32px;\n",
              "      padding: 0 0 0 0;\n",
              "      width: 32px;\n",
              "    }\n",
              "\n",
              "    .colab-df-convert:hover {\n",
              "      background-color: #E2EBFA;\n",
              "      box-shadow: 0px 1px 2px rgba(60, 64, 67, 0.3), 0px 1px 3px 1px rgba(60, 64, 67, 0.15);\n",
              "      fill: #174EA6;\n",
              "    }\n",
              "\n",
              "    .colab-df-buttons div {\n",
              "      margin-bottom: 4px;\n",
              "    }\n",
              "\n",
              "    [theme=dark] .colab-df-convert {\n",
              "      background-color: #3B4455;\n",
              "      fill: #D2E3FC;\n",
              "    }\n",
              "\n",
              "    [theme=dark] .colab-df-convert:hover {\n",
              "      background-color: #434B5C;\n",
              "      box-shadow: 0px 1px 3px 1px rgba(0, 0, 0, 0.15);\n",
              "      filter: drop-shadow(0px 1px 2px rgba(0, 0, 0, 0.3));\n",
              "      fill: #FFFFFF;\n",
              "    }\n",
              "  </style>\n",
              "\n",
              "    <script>\n",
              "      const buttonEl =\n",
              "        document.querySelector('#df-8c97116c-c418-4d18-8588-4f205209a1ba button.colab-df-convert');\n",
              "      buttonEl.style.display =\n",
              "        google.colab.kernel.accessAllowed ? 'block' : 'none';\n",
              "\n",
              "      async function convertToInteractive(key) {\n",
              "        const element = document.querySelector('#df-8c97116c-c418-4d18-8588-4f205209a1ba');\n",
              "        const dataTable =\n",
              "          await google.colab.kernel.invokeFunction('convertToInteractive',\n",
              "                                                    [key], {});\n",
              "        if (!dataTable) return;\n",
              "\n",
              "        const docLinkHtml = 'Like what you see? Visit the ' +\n",
              "          '<a target=\"_blank\" href=https://colab.research.google.com/notebooks/data_table.ipynb>data table notebook</a>'\n",
              "          + ' to learn more about interactive tables.';\n",
              "        element.innerHTML = '';\n",
              "        dataTable['output_type'] = 'display_data';\n",
              "        await google.colab.output.renderOutput(dataTable, element);\n",
              "        const docLink = document.createElement('div');\n",
              "        docLink.innerHTML = docLinkHtml;\n",
              "        element.appendChild(docLink);\n",
              "      }\n",
              "    </script>\n",
              "  </div>\n",
              "\n",
              "\n",
              "<div id=\"df-ec83a4e5-0e48-4dac-9c61-a451957e15ca\">\n",
              "  <button class=\"colab-df-quickchart\" onclick=\"quickchart('df-ec83a4e5-0e48-4dac-9c61-a451957e15ca')\"\n",
              "            title=\"Suggest charts\"\n",
              "            style=\"display:none;\">\n",
              "\n",
              "<svg xmlns=\"http://www.w3.org/2000/svg\" height=\"24px\"viewBox=\"0 0 24 24\"\n",
              "     width=\"24px\">\n",
              "    <g>\n",
              "        <path d=\"M19 3H5c-1.1 0-2 .9-2 2v14c0 1.1.9 2 2 2h14c1.1 0 2-.9 2-2V5c0-1.1-.9-2-2-2zM9 17H7v-7h2v7zm4 0h-2V7h2v10zm4 0h-2v-4h2v4z\"/>\n",
              "    </g>\n",
              "</svg>\n",
              "  </button>\n",
              "\n",
              "<style>\n",
              "  .colab-df-quickchart {\n",
              "      --bg-color: #E8F0FE;\n",
              "      --fill-color: #1967D2;\n",
              "      --hover-bg-color: #E2EBFA;\n",
              "      --hover-fill-color: #174EA6;\n",
              "      --disabled-fill-color: #AAA;\n",
              "      --disabled-bg-color: #DDD;\n",
              "  }\n",
              "\n",
              "  [theme=dark] .colab-df-quickchart {\n",
              "      --bg-color: #3B4455;\n",
              "      --fill-color: #D2E3FC;\n",
              "      --hover-bg-color: #434B5C;\n",
              "      --hover-fill-color: #FFFFFF;\n",
              "      --disabled-bg-color: #3B4455;\n",
              "      --disabled-fill-color: #666;\n",
              "  }\n",
              "\n",
              "  .colab-df-quickchart {\n",
              "    background-color: var(--bg-color);\n",
              "    border: none;\n",
              "    border-radius: 50%;\n",
              "    cursor: pointer;\n",
              "    display: none;\n",
              "    fill: var(--fill-color);\n",
              "    height: 32px;\n",
              "    padding: 0;\n",
              "    width: 32px;\n",
              "  }\n",
              "\n",
              "  .colab-df-quickchart:hover {\n",
              "    background-color: var(--hover-bg-color);\n",
              "    box-shadow: 0 1px 2px rgba(60, 64, 67, 0.3), 0 1px 3px 1px rgba(60, 64, 67, 0.15);\n",
              "    fill: var(--button-hover-fill-color);\n",
              "  }\n",
              "\n",
              "  .colab-df-quickchart-complete:disabled,\n",
              "  .colab-df-quickchart-complete:disabled:hover {\n",
              "    background-color: var(--disabled-bg-color);\n",
              "    fill: var(--disabled-fill-color);\n",
              "    box-shadow: none;\n",
              "  }\n",
              "\n",
              "  .colab-df-spinner {\n",
              "    border: 2px solid var(--fill-color);\n",
              "    border-color: transparent;\n",
              "    border-bottom-color: var(--fill-color);\n",
              "    animation:\n",
              "      spin 1s steps(1) infinite;\n",
              "  }\n",
              "\n",
              "  @keyframes spin {\n",
              "    0% {\n",
              "      border-color: transparent;\n",
              "      border-bottom-color: var(--fill-color);\n",
              "      border-left-color: var(--fill-color);\n",
              "    }\n",
              "    20% {\n",
              "      border-color: transparent;\n",
              "      border-left-color: var(--fill-color);\n",
              "      border-top-color: var(--fill-color);\n",
              "    }\n",
              "    30% {\n",
              "      border-color: transparent;\n",
              "      border-left-color: var(--fill-color);\n",
              "      border-top-color: var(--fill-color);\n",
              "      border-right-color: var(--fill-color);\n",
              "    }\n",
              "    40% {\n",
              "      border-color: transparent;\n",
              "      border-right-color: var(--fill-color);\n",
              "      border-top-color: var(--fill-color);\n",
              "    }\n",
              "    60% {\n",
              "      border-color: transparent;\n",
              "      border-right-color: var(--fill-color);\n",
              "    }\n",
              "    80% {\n",
              "      border-color: transparent;\n",
              "      border-right-color: var(--fill-color);\n",
              "      border-bottom-color: var(--fill-color);\n",
              "    }\n",
              "    90% {\n",
              "      border-color: transparent;\n",
              "      border-bottom-color: var(--fill-color);\n",
              "    }\n",
              "  }\n",
              "</style>\n",
              "\n",
              "  <script>\n",
              "    async function quickchart(key) {\n",
              "      const quickchartButtonEl =\n",
              "        document.querySelector('#' + key + ' button');\n",
              "      quickchartButtonEl.disabled = true;  // To prevent multiple clicks.\n",
              "      quickchartButtonEl.classList.add('colab-df-spinner');\n",
              "      try {\n",
              "        const charts = await google.colab.kernel.invokeFunction(\n",
              "            'suggestCharts', [key], {});\n",
              "      } catch (error) {\n",
              "        console.error('Error during call to suggestCharts:', error);\n",
              "      }\n",
              "      quickchartButtonEl.classList.remove('colab-df-spinner');\n",
              "      quickchartButtonEl.classList.add('colab-df-quickchart-complete');\n",
              "    }\n",
              "    (() => {\n",
              "      let quickchartButtonEl =\n",
              "        document.querySelector('#df-ec83a4e5-0e48-4dac-9c61-a451957e15ca button');\n",
              "      quickchartButtonEl.style.display =\n",
              "        google.colab.kernel.accessAllowed ? 'block' : 'none';\n",
              "    })();\n",
              "  </script>\n",
              "</div>\n",
              "\n",
              "    </div>\n",
              "  </div>\n"
            ],
            "application/vnd.google.colaboratory.intrinsic+json": {
              "type": "dataframe",
              "variable_name": "chebi_similars",
              "summary": "{\n  \"name\": \"chebi_similars\",\n  \"rows\": 3,\n  \"fields\": [\n    {\n      \"column\": \"ID\",\n      \"properties\": {\n        \"dtype\": \"number\",\n        \"std\": 349442,\n        \"min\": 2175888,\n        \"max\": 2781147,\n        \"num_unique_values\": 3,\n        \"samples\": [\n          2175888,\n          2781132,\n          2781147\n        ],\n        \"semantic_type\": \"\",\n        \"description\": \"\"\n      }\n    },\n    {\n      \"column\": \"COMPOUND_ID\",\n      \"properties\": {\n        \"dtype\": \"number\",\n        \"std\": 3071,\n        \"min\": 57308,\n        \"max\": 62631,\n        \"num_unique_values\": 3,\n        \"samples\": [\n          57308,\n          62626,\n          62631\n        ],\n        \"semantic_type\": \"\",\n        \"description\": \"\"\n      }\n    },\n    {\n      \"column\": \"STRUCTURE\",\n      \"properties\": {\n        \"dtype\": \"string\",\n        \"num_unique_values\": 3,\n        \"samples\": [\n          \"\\nCDK    2/12/10,15:26\\n\\n 60 64  0  0  0  0  0  0  0  0999 V2000\\n   -0.7214   -1.6423    0.0000 C   0  0  0  0  0  0  0  0  0  0  0  0\\n   -1.4790   -2.0588    0.0000 C   0  0  0  0  0  0  0  0  0  0  0  0\\n   -0.8451   -0.8821    0.0000 N   0  0  0  0  0  0  0  0  0  0  0  0\\n    0.0141   -2.0458    0.0000 C   0  0  0  0  0  0  0  0  0  0  0  0\\n   -2.0401   -1.5074    0.0000 C   0  0  0  0  0  0  0  0  0  0  0  0\\n   -1.6661   -0.7429    0.0000 C   0  0  0  0  0  0  0  0  0  0  0  0\\n    0.7135   -1.6591    0.0000 C   0  0  0  0  0  0  0  0  0  0  0  0\\n   -2.0529   -0.0436    0.0000 C   0  0  0  0  0  0  0  0  0  0  0  0\\n    1.5074   -2.0328    0.0000 C   0  0  0  0  0  0  0  0  0  0  0  0\\n    0.8530   -0.8673    0.0000 N   0  0  0  0  0  0  0  0  0  0  0  0\\n   -1.6789    0.7210    0.0000 C   0  0  0  0  0  0  0  0  0  0  0  0\\n    2.0587   -1.4716    0.0000 C   0  0  0  0  0  0  0  0  0  0  0  0\\n    1.6712   -0.6845    0.0000 C   0  0  0  0  0  0  0  0  0  0  0  0\\n   -2.0364    1.4205    0.0000 C   0  0  0  0  0  0  0  0  0  0  0  0\\n   -0.8897    0.8742    0.0000 N   0  0  0  0  0  0  0  0  0  0  0  0\\n    2.0456    0.0215    0.0000 C   0  0  0  0  0  0  0  0  0  0  0  0\\n   -1.4559    2.0112    0.0000 C   0  0  0  0  0  0  0  0  0  0  0  0\\n   -0.7210    1.6663    0.0000 C   0  0  0  0  0  0  0  0  0  0  0  0\\n    1.6294    0.7498    0.0000 C   0  0  0  0  0  0  0  0  0  0  0  0\\n    0.0076    2.0532    0.0000 C   0  0  0  0  0  0  0  0  0  0  0  0\\n    2.0327    1.5146    0.0000 C   0  0  0  0  0  0  0  0  0  0  0  0\\n    0.8672    0.8603    0.0000 N   0  0  0  0  0  0  0  0  0  0  0  0\\n    0.7136    1.6788    0.0000 C   0  0  0  0  0  0  0  0  0  0  0  0\\n    1.4715    2.0660    0.0000 C   0  0  0  0  0  0  0  0  0  0  0  0\\n   -1.5916   -2.8761    0.0000 C   0  0  0  0  0  0  0  0  0  0  0  0\\n   -2.8532   -1.6466    0.0000 C   0  0  0  0  0  0  0  0  0  0  0  0\\n   -2.3557   -3.1871    0.0000 C   0  0  0  0  0  0  0  0  0  0  0  0\\n   -2.4684   -4.0044    0.0000 C   0  0  0  0  0  0  0  0  0  0  0  0\\n    1.6527   -2.8449    0.0000 C   0  0  0  0  0  0  0  0  0  0  0  0\\n   -1.8170   -4.5106    0.0000 O   0  0  0  0  0  0  0  0  0  0  0  0\\n   -3.2325   -4.3154    0.0000 O   0  0  0  0  0  0  0  0  0  0  0  0\\n    1.0221   -3.3768    0.0000 C   0  0  0  0  0  0  0  0  0  0  0  0\\n   -2.8518    1.5455    0.0000 C   0  0  0  0  0  0  0  0  0  0  0  0\\n    1.1674   -4.1889    0.0000 C   0  0  0  0  0  0  0  0  0  0  0  0\\n   -3.3678    0.9018    0.0000 C   0  0  0  0  0  0  0  0  0  0  0  0\\n    1.9434   -4.4691    0.0000 O   0  0  0  0  0  0  0  0  0  0  0  0\\n    0.5368   -4.7208    0.0000 O   0  0  0  0  0  0  0  0  0  0  0  0\\n   -4.1833    1.0268    0.0000 C   0  0  0  0  0  0  0  0  0  0  0  0\\n   -4.4828    1.7955    0.0000 O   0  0  0  0  0  0  0  0  0  0  0  0\\n   -4.6993    0.3831    0.0000 O   0  0  0  0  0  0  0  0  0  0  0  0\\n    1.5966    2.8815    0.0000 C   0  0  0  0  0  0  0  0  0  0  0  0\\n    0.9529    3.3975    0.0000 C   0  0  0  0  0  0  0  0  0  0  0  0\\n    1.0780    4.2130    0.0000 C   0  0  0  0  0  0  0  0  0  0  0  0\\n    1.8467    4.5124    0.0000 O   0  0  0  0  0  0  0  0  0  0  0  0\\n    0.4343    4.7290    0.0000 O   0  0  0  0  0  0  0  0  0  0  0  0\\n   -3.3804   -1.0120    0.0000 C   0  0  0  0  0  0  0  0  0  0  0  0\\n   -4.1935   -1.1512    0.0000 O   0  0  0  0  0  0  0  0  0  0  0  0\\n   -3.0944   -0.2382    0.0000 O   0  0  0  0  0  0  0  0  0  0  0  0\\n    2.8733   -1.6027    0.0000 C   0  0  0  0  0  0  0  0  0  0  0  0\\n    3.1670   -2.3736    0.0000 C   0  0  0  0  0  0  0  0  0  0  0  0\\n    3.9815   -2.5047    0.0000 O   0  0  0  0  0  0  0  0  0  0  0  0\\n    2.6462   -3.0135    0.0000 O   0  0  0  0  0  0  0  0  0  0  0  0\\n    2.8478    1.6415    0.0000 C   0  0  0  0  0  0  0  0  0  0  0  0\\n    3.3653    0.9990    0.0000 C   0  0  0  0  0  0  0  0  0  0  0  0\\n    4.1805    1.1260    0.0000 O   0  0  0  0  0  0  0  0  0  0  0  0\\n    3.0677    0.2296    0.0000 O   0  0  0  0  0  0  0  0  0  0  0  0\\n   -1.6016    2.8232    0.0000 C   0  0  0  0  0  0  0  0  0  0  0  0\\n   -0.9713    3.3555    0.0000 C   0  0  0  0  0  0  0  0  0  0  0  0\\n   -1.1171    4.1675    0.0000 O   0  0  0  0  0  0  0  0  0  0  0  0\\n   -0.1952    3.0757    0.0000 O   0  0  0  0  0  0  0  0  0  0  0  0\\n 24 41  1  0  0  0  0 \\n 21 24  1  0  0  0  0 \\n 21 53  1  0  0  0  0 \\n  1  2  2  0  0  0  0 \\n  2 25  1  0  0  0  0 \\n  1  3  1  0  0  0  0 \\n  1  4  1  0  0  0  0 \\n  2  5  1  0  0  0  0 \\n  5 26  1  0  0  0  0 \\n  5  6  2  0  0  0  0 \\n  3  6  1  0  0  0  0 \\n  4  7  1  0  0  0  0 \\n  6  8  1  0  0  0  0 \\n  7  9  2  0  0  0  0 \\n  9 29  1  0  0  0  0 \\n  7 10  1  0  0  0  0 \\n  8 11  1  0  0  0  0 \\n  9 12  1  0  0  0  0 \\n 12 49  1  0  0  0  0 \\n 12 13  2  0  0  0  0 \\n 10 13  1  0  0  0  0 \\n 11 14  2  0  0  0  0 \\n 14 33  1  0  0  0  0 \\n 11 15  1  0  0  0  0 \\n 13 16  1  0  0  0  0 \\n 14 17  1  0  0  0  0 \\n 17 57  1  0  0  0  0 \\n 17 18  2  0  0  0  0 \\n 15 18  1  0  0  0  0 \\n 19 21  2  0  0  0  0 \\n 16 19  1  0  0  0  0 \\n 18 20  1  0  0  0  0 \\n 19 22  1  0  0  0  0 \\n 23 24  2  0  0  0  0 \\n 22 23  1  0  0  0  0 \\n 20 23  1  0  0  0  0 \\n 25 27  1  0  0  0  0 \\n 27 28  1  0  0  0  0 \\n 28 30  1  0  0  0  0 \\n 28 31  2  0  0  0  0 \\n 29 32  1  0  0  0  0 \\n 32 34  1  0  0  0  0 \\n 33 35  1  0  0  0  0 \\n 34 36  1  0  0  0  0 \\n 34 37  2  0  0  0  0 \\n 35 38  1  0  0  0  0 \\n 38 39  1  0  0  0  0 \\n 38 40  2  0  0  0  0 \\n 41 42  1  0  0  0  0 \\n 42 43  1  0  0  0  0 \\n 43 44  1  0  0  0  0 \\n 43 45  2  0  0  0  0 \\n 26 46  1  0  0  0  0 \\n 46 47  1  0  0  0  0 \\n 46 48  2  0  0  0  0 \\n 49 50  1  0  0  0  0 \\n 50 51  1  0  0  0  0 \\n 50 52  2  0  0  0  0 \\n 53 54  1  0  0  0  0 \\n 54 55  1  0  0  0  0 \\n 54 56  2  0  0  0  0 \\n 57 58  1  0  0  0  0 \\n 58 59  2  0  0  0  0 \\n 58 60  1  0  0  0  0 \\nM  CHG  1  30  -1\\nM  CHG  1  36  -1\\nM  CHG  1  39  -1\\nM  CHG  1  44  -1\\nM  CHG  1  47  -1\\nM  CHG  1  51  -1\\nM  CHG  1  55  -1\\nM  CHG  1  60  -1\\nM  END\\n\",\n          \"\\n  Marvin  07251111592D          \\n\\n 60 64  0  0  0  0            999 V2000\\n   -1.4080   -2.0626    0.0000 C   0  0  0  0  0  0  0  0  0  0  0  0\\n   -1.9691   -1.5112    0.0000 C   0  0  0  0  0  0  0  0  0  0  0  0\\n   -0.6504   -1.6461    0.0000 C   0  0  0  0  0  0  0  0  0  0  0  0\\n   -1.5207   -2.8799    0.0000 C   0  0  0  0  0  0  0  0  0  0  0  0\\n   -1.5951   -0.7467    0.0000 C   0  0  0  0  0  0  0  0  0  0  0  0\\n   -2.7823   -1.6505    0.0000 C   0  0  0  0  0  0  0  0  0  0  0  0\\n    0.0851   -2.0496    0.0000 C   0  0  0  0  0  0  0  0  0  0  0  0\\n   -0.7741   -0.8859    0.0000 N   0  0  0  0  0  0  0  0  0  0  0  0\\n   -2.2848   -3.1910    0.0000 C   0  0  0  0  0  0  0  0  0  0  0  0\\n   -1.9819   -0.0474    0.0000 C   0  0  0  0  0  0  0  0  0  0  0  0\\n    0.7845   -1.6629    0.0000 C   0  0  0  0  0  0  0  0  0  0  0  0\\n   -2.3975   -4.0082    0.0000 C   0  0  0  0  0  0  0  0  0  0  0  0\\n   -1.6079    0.7172    0.0000 C   0  0  0  0  0  0  0  0  0  0  0  0\\n    1.5783   -2.0366    0.0000 C   0  0  0  0  0  0  0  0  0  0  0  0\\n    0.9240   -0.8711    0.0000 N   0  0  0  0  0  0  0  0  0  0  0  0\\n   -1.7460   -4.5144    0.0000 O   0  5  0  0  0  0  0  0  0  0  0  0\\n   -3.1616   -4.3193    0.0000 O   0  0  0  0  0  0  0  0  0  0  0  0\\n   -1.9654    1.4167    0.0000 C   0  0  0  0  0  0  0  0  0  0  0  0\\n   -0.8187    0.8704    0.0000 N   0  0  0  0  0  0  0  0  0  0  0  0\\n    2.1297   -1.4754    0.0000 C   0  0  0  0  0  0  0  0  0  0  0  0\\n    1.7422   -0.6883    0.0000 C   0  0  0  0  0  0  0  0  0  0  0  0\\n   -1.3849    2.0074    0.0000 C   0  0  0  0  0  0  0  0  0  0  0  0\\n   -2.7809    1.5417    0.0000 C   0  0  0  0  0  0  0  0  0  0  0  0\\n   -0.6500    1.6625    0.0000 C   0  0  0  0  0  0  0  0  0  0  0  0\\n    2.9442   -1.6065    0.0000 C   0  0  0  0  0  0  0  0  0  0  0  0\\n    2.1166    0.0177    0.0000 C   0  0  0  0  0  0  0  0  0  0  0  0\\n   -3.2969    0.8979    0.0000 C   0  0  0  0  0  0  0  0  0  0  0  0\\n    0.0786    2.0494    0.0000 C   0  0  0  0  0  0  0  0  0  0  0  0\\n    3.4650   -0.9667    0.0000 C   0  0  0  0  0  0  0  0  0  0  0  0\\n    1.7004    0.7460    0.0000 C   0  0  0  0  0  0  0  0  0  0  0  0\\n   -4.1123    1.0230    0.0000 C   0  0  0  0  0  0  0  0  0  0  0  0\\n    0.7846    1.6750    0.0000 C   0  0  0  0  0  0  0  0  0  0  0  0\\n    4.2795   -1.0977    0.0000 C   0  0  0  0  0  0  0  0  0  0  0  0\\n    2.1036    1.5108    0.0000 C   0  0  0  0  0  0  0  0  0  0  0  0\\n    0.9382    0.8565    0.0000 N   0  0  0  0  0  0  0  0  0  0  0  0\\n   -4.6283    0.3792    0.0000 O   0  5  0  0  0  0  0  0  0  0  0  0\\n   -4.4118    1.7917    0.0000 O   0  0  0  0  0  0  0  0  0  0  0  0\\n    1.5425    2.0622    0.0000 C   0  0  0  0  0  0  0  0  0  0  0  0\\n    4.5733   -1.8687    0.0000 O   0  0  0  0  0  0  0  0  0  0  0  0\\n    4.8003   -0.4579    0.0000 O   0  5  0  0  0  0  0  0  0  0  0  0\\n    1.6676    2.8776    0.0000 C   0  0  0  0  0  0  0  0  0  0  0  0\\n    3.4363    0.9952    0.0000 C   0  0  0  0  0  0  0  0  0  0  0  0\\n    1.0239    3.3937    0.0000 C   0  0  0  0  0  0  0  0  0  0  0  0\\n    4.2515    1.1221    0.0000 O   0  5  0  0  0  0  0  0  0  0  0  0\\n    3.1386    0.2258    0.0000 O   0  0  0  0  0  0  0  0  0  0  0  0\\n    1.1489    4.2091    0.0000 C   0  0  0  0  0  0  0  0  0  0  0  0\\n    0.5053    4.7252    0.0000 O   0  5  0  0  0  0  0  0  0  0  0  0\\n    1.9177    4.5086    0.0000 O   0  0  0  0  0  0  0  0  0  0  0  0\\n   -1.5307    2.8194    0.0000 C   0  0  0  0  0  0  0  0  0  0  0  0\\n   -0.9004    3.3516    0.0000 C   0  0  0  0  0  0  0  0  0  0  0  0\\n   -1.0462    4.1637    0.0000 O   0  0  0  0  0  0  0  0  0  0  0  0\\n   -0.1242    3.0719    0.0000 O   0  5  0  0  0  0  0  0  0  0  0  0\\n    1.7236   -2.8487    0.0000 C   0  0  0  0  0  0  0  0  0  0  0  0\\n    1.0930   -3.3807    0.0000 C   0  0  0  0  0  0  0  0  0  0  0  0\\n    1.2384   -4.1928    0.0000 O   0  5  0  0  0  0  0  0  0  0  0  0\\n    0.3171   -3.1005    0.0000 O   0  0  0  0  0  0  0  0  0  0  0  0\\n   -3.3094   -1.0159    0.0000 C   0  0  0  0  0  0  0  0  0  0  0  0\\n   -3.0234   -0.2420    0.0000 O   0  5  0  0  0  0  0  0  0  0  0  0\\n   -4.1226   -1.1551    0.0000 O   0  0  0  0  0  0  0  0  0  0  0  0\\n    2.9188    1.6377    0.0000 C   0  0  0  0  0  0  0  0  0  0  0  0\\n  1  2  1  0  0  0  0\\n  1  3  2  0  0  0  0\\n  1  4  1  0  0  0  0\\n  2  5  2  0  0  0  0\\n  2  6  1  0  0  0  0\\n  3  7  1  0  0  0  0\\n  3  8  1  0  0  0  0\\n  4  9  1  0  0  0  0\\n  5 10  1  0  0  0  0\\n  7 11  1  0  0  0  0\\n  9 12  1  0  0  0  0\\n 10 13  1  0  0  0  0\\n 11 14  2  0  0  0  0\\n 11 15  1  0  0  0  0\\n 12 16  1  0  0  0  0\\n 12 17  2  0  0  0  0\\n 13 18  2  0  0  0  0\\n 13 19  1  0  0  0  0\\n 14 20  1  0  0  0  0\\n 14 53  1  0  0  0  0\\n 15 21  1  0  0  0  0\\n 18 22  1  0  0  0  0\\n 18 23  1  0  0  0  0\\n 19 24  1  0  0  0  0\\n 20 25  1  0  0  0  0\\n 21 26  1  0  0  0  0\\n 22 49  1  0  0  0  0\\n 23 27  1  0  0  0  0\\n 24 28  1  0  0  0  0\\n 25 29  1  0  0  0  0\\n 26 30  1  0  0  0  0\\n 27 31  1  0  0  0  0\\n 28 32  1  0  0  0  0\\n 29 33  1  0  0  0  0\\n 30 34  2  0  0  0  0\\n 30 35  1  0  0  0  0\\n 31 36  1  0  0  0  0\\n 31 37  2  0  0  0  0\\n 32 38  2  0  0  0  0\\n 33 39  2  0  0  0  0\\n 33 40  1  0  0  0  0\\n 34 60  1  0  0  0  0\\n 38 41  1  0  0  0  0\\n 60 42  1  0  0  0  0\\n 41 43  1  0  0  0  0\\n 42 44  1  0  0  0  0\\n 42 45  2  0  0  0  0\\n 43 46  1  0  0  0  0\\n 46 47  1  0  0  0  0\\n 46 48  2  0  0  0  0\\n  5  8  1  0  0  0  0\\n 20 21  2  0  0  0  0\\n 22 24  2  0  0  0  0\\n 32 35  1  0  0  0  0\\n 34 38  1  0  0  0  0\\n 49 50  1  0  0  0  0\\n 50 51  2  0  0  0  0\\n 50 52  1  0  0  0  0\\n 53 54  1  0  0  0  0\\n 54 55  1  0  0  0  0\\n 54 56  2  0  0  0  0\\n  6 57  1  0  0  0  0\\n 57 58  1  0  0  0  0\\n 57 59  2  0  0  0  0\\nM  CHG  8  16  -1  36  -1  40  -1  44  -1  47  -1  52  -1  55  -1  58  -1\\nM  END\\n\",\n          \"\\n  Marvin  07261110232D          \\n\\n 48 52  0  0  0  0            999 V2000\\n   -0.7271   -1.6362    0.0000 C   0  0  0  0  0  0  0  0  0  0  0  0\\n   -1.4847   -2.0527    0.0000 C   0  0  0  0  0  0  0  0  0  0  0  0\\n    0.0084   -2.0397    0.0000 C   0  0  0  0  0  0  0  0  0  0  0  0\\n   -0.8508   -0.8760    0.0000 N   0  0  0  0  0  0  0  0  0  0  0  0\\n   -2.0458   -1.5013    0.0000 C   0  0  0  0  0  0  0  0  0  0  0  0\\n   -1.5973   -2.8699    0.0000 C   0  0  0  0  0  0  0  0  0  0  0  0\\n    0.7078   -1.6530    0.0000 C   0  0  0  0  0  0  0  0  0  0  0  0\\n   -1.6718   -0.7368    0.0000 C   0  0  0  0  0  0  0  0  0  0  0  0\\n   -2.8589   -1.6405    0.0000 C   0  0  0  0  0  0  0  0  0  0  0  0\\n   -0.9459   -3.3762    0.0000 C   0  0  0  0  0  0  0  0  0  0  0  0\\n    1.5016   -2.0267    0.0000 C   0  0  0  0  0  0  0  0  0  0  0  0\\n    0.8473   -0.8612    0.0000 N   0  0  0  0  0  0  0  0  0  0  0  0\\n   -2.0586   -0.0375    0.0000 C   0  0  0  0  0  0  0  0  0  0  0  0\\n   -1.0586   -4.1934    0.0000 C   0  0  0  0  0  0  0  0  0  0  0  0\\n    2.0530   -1.4655    0.0000 C   0  0  0  0  0  0  0  0  0  0  0  0\\n    1.6470   -2.8388    0.0000 C   0  0  0  0  0  0  0  0  0  0  0  0\\n    1.6655   -0.6784    0.0000 C   0  0  0  0  0  0  0  0  0  0  0  0\\n   -1.6846    0.7271    0.0000 C   0  0  0  0  0  0  0  0  0  0  0  0\\n   -1.8227   -4.5045    0.0000 O   0  0  0  0  0  0  0  0  0  0  0  0\\n   -0.4071   -4.6996    0.0000 O   0  5  0  0  0  0  0  0  0  0  0  0\\n    2.8676   -1.5965    0.0000 C   0  0  0  0  0  0  0  0  0  0  0  0\\n    2.0399    0.0276    0.0000 C   0  0  0  0  0  0  0  0  0  0  0  0\\n   -2.0421    1.4266    0.0000 C   0  0  0  0  0  0  0  0  0  0  0  0\\n   -0.8954    0.8803    0.0000 N   0  0  0  0  0  0  0  0  0  0  0  0\\n    3.3883   -0.9567    0.0000 C   0  0  0  0  0  0  0  0  0  0  0  0\\n    1.6237    0.7559    0.0000 C   0  0  0  0  0  0  0  0  0  0  0  0\\n   -1.4616    2.0173    0.0000 C   0  0  0  0  0  0  0  0  0  0  0  0\\n   -2.8575    1.5516    0.0000 C   0  0  0  0  0  0  0  0  0  0  0  0\\n   -0.7267    1.6724    0.0000 C   0  0  0  0  0  0  0  0  0  0  0  0\\n    4.2029   -1.0878    0.0000 C   0  0  0  0  0  0  0  0  0  0  0  0\\n    2.0269    1.5207    0.0000 C   0  0  0  0  0  0  0  0  0  0  0  0\\n    0.8615    0.8664    0.0000 N   0  0  0  0  0  0  0  0  0  0  0  0\\n   -1.6073    2.8293    0.0000 C   0  0  0  0  0  0  0  0  0  0  0  0\\n   -3.3735    0.9079    0.0000 C   0  0  0  0  0  0  0  0  0  0  0  0\\n    0.0019    2.0593    0.0000 C   0  0  0  0  0  0  0  0  0  0  0  0\\n    4.7236   -0.4479    0.0000 O   0  5  0  0  0  0  0  0  0  0  0  0\\n    4.4966   -1.8587    0.0000 O   0  0  0  0  0  0  0  0  0  0  0  0\\n    1.4658    2.0721    0.0000 C   0  0  0  0  0  0  0  0  0  0  0  0\\n    2.8421    1.6477    0.0000 C   0  0  0  0  0  0  0  0  0  0  0  0\\n    0.7079    1.6849    0.0000 C   0  0  0  0  0  0  0  0  0  0  0  0\\n   -4.1890    1.0329    0.0000 C   0  0  0  0  0  0  0  0  0  0  0  0\\n    1.5909    2.8876    0.0000 C   0  0  0  0  0  0  0  0  0  0  0  0\\n   -4.4885    1.8016    0.0000 O   0  0  0  0  0  0  0  0  0  0  0  0\\n   -4.7050    0.3892    0.0000 O   0  5  0  0  0  0  0  0  0  0  0  0\\n    0.9472    3.4036    0.0000 C   0  0  0  0  0  0  0  0  0  0  0  0\\n    1.0723    4.2191    0.0000 C   0  0  0  0  0  0  0  0  0  0  0  0\\n    0.4286    4.7351    0.0000 O   0  5  0  0  0  0  0  0  0  0  0  0\\n    1.8410    4.5185    0.0000 O   0  0  0  0  0  0  0  0  0  0  0  0\\n  1  2  2  0  0  0  0\\n  1  3  1  0  0  0  0\\n  1  4  1  0  0  0  0\\n  2  5  1  0  0  0  0\\n  2  6  1  0  0  0  0\\n  3  7  1  0  0  0  0\\n  4  8  1  0  0  0  0\\n  5  9  1  0  0  0  0\\n  6 10  1  0  0  0  0\\n  7 11  2  0  0  0  0\\n  7 12  1  0  0  0  0\\n  8 13  1  0  0  0  0\\n 10 14  1  0  0  0  0\\n 11 15  1  0  0  0  0\\n 11 16  1  0  0  0  0\\n 12 17  1  0  0  0  0\\n 13 18  1  0  0  0  0\\n 14 19  2  0  0  0  0\\n 14 20  1  0  0  0  0\\n 15 21  1  0  0  0  0\\n 17 22  1  0  0  0  0\\n 18 23  2  0  0  0  0\\n 18 24  1  0  0  0  0\\n 21 25  1  0  0  0  0\\n 22 26  1  0  0  0  0\\n 23 27  1  0  0  0  0\\n 23 28  1  0  0  0  0\\n 24 29  1  0  0  0  0\\n 25 30  1  0  0  0  0\\n 26 31  2  0  0  0  0\\n 26 32  1  0  0  0  0\\n 27 33  1  0  0  0  0\\n 28 34  1  0  0  0  0\\n 29 35  1  0  0  0  0\\n 30 36  1  0  0  0  0\\n 30 37  2  0  0  0  0\\n 31 38  1  0  0  0  0\\n 31 39  1  0  0  0  0\\n 32 40  1  0  0  0  0\\n 34 41  1  0  0  0  0\\n 38 42  1  0  0  0  0\\n 41 43  2  0  0  0  0\\n 41 44  1  0  0  0  0\\n 42 45  1  0  0  0  0\\n 45 46  1  0  0  0  0\\n 46 47  1  0  0  0  0\\n 46 48  2  0  0  0  0\\n  5  8  2  0  0  0  0\\n 15 17  2  0  0  0  0\\n 27 29  2  0  0  0  0\\n 35 40  1  0  0  0  0\\n 38 40  2  0  0  0  0\\nM  CHG  4  20  -1  36  -1  44  -1  47  -1\\nM  END\\n\"\n        ],\n        \"semantic_type\": \"\",\n        \"description\": \"\"\n      }\n    },\n    {\n      \"column\": \"TYPE\",\n      \"properties\": {\n        \"dtype\": \"category\",\n        \"num_unique_values\": 1,\n        \"samples\": [\n          \"mol\"\n        ],\n        \"semantic_type\": \"\",\n        \"description\": \"\"\n      }\n    },\n    {\n      \"column\": \"DIMENSION\",\n      \"properties\": {\n        \"dtype\": \"category\",\n        \"num_unique_values\": 1,\n        \"samples\": [\n          \"2D\"\n        ],\n        \"semantic_type\": \"\",\n        \"description\": \"\"\n      }\n    },\n    {\n      \"column\": \"DEFAULT_STRUCTURE\",\n      \"properties\": {\n        \"dtype\": \"category\",\n        \"num_unique_values\": 1,\n        \"samples\": [\n          \"Y\"\n        ],\n        \"semantic_type\": \"\",\n        \"description\": \"\"\n      }\n    },\n    {\n      \"column\": \"AUTOGEN_STRUCTURE\",\n      \"properties\": {\n        \"dtype\": \"category\",\n        \"num_unique_values\": 1,\n        \"samples\": [\n          \"N\"\n        ],\n        \"semantic_type\": \"\",\n        \"description\": \"\"\n      }\n    }\n  ]\n}"
            }
          },
          "metadata": {},
          "execution_count": 33
        }
      ]
    },
    {
      "cell_type": "code",
      "source": [
        "chebi_mol = [Chem.MolFromMolBlock(mol_block) for mol_block in chebi_similars[\"STRUCTURE\"]]"
      ],
      "metadata": {
        "id": "UsTSv3DgPhXV"
      },
      "execution_count": 34,
      "outputs": []
    },
    {
      "cell_type": "code",
      "source": [
        "cp_component = ccd_reader.read_pdb_cif_file(cp_cif).component\n",
        "depictions = DepictionManager()\n",
        "cp_depiction = cp_component.compute_2d(depictions)"
      ],
      "metadata": {
        "colab": {
          "base_uri": "https://localhost:8080/"
        },
        "id": "D9nlbnHqaCgb",
        "outputId": "dbd40e91-4725-49d5-e337-986329f41184"
      },
      "execution_count": 38,
      "outputs": [
        {
          "output_type": "stream",
          "name": "stderr",
          "text": [
            "[12:09:50] Warning: molecule is tagged as 2D, but at least one Z coordinate is not zero. Marking the mol as 3D.\n"
          ]
        }
      ]
    },
    {
      "cell_type": "code",
      "source": [
        "MolsToGridImage([cp_component.mol2D]+ chebi_mol, legends = [\"1CP\"] + chebi_similars[\"COMPOUND_ID\"].astype(str).to_list(), useSVG=True, subImgSize=(300, 300))"
      ],
      "metadata": {
        "colab": {
          "base_uri": "https://localhost:8080/",
          "height": 621
        },
        "id": "7B-w63mWQhkA",
        "outputId": "fe7c860f-3626-4c5b-f9a9-87f7378cfb5b"
      },
      "execution_count": 39,
      "outputs": [
        {
          "output_type": "execute_result",
          "data": {
            "text/plain": [
              "<IPython.core.display.SVG object>"
            ],
            "image/svg+xml": "<svg xmlns=\"http://www.w3.org/2000/svg\" xmlns:rdkit=\"http://www.rdkit.org/xml\" xmlns:xlink=\"http://www.w3.org/1999/xlink\" version=\"1.1\" baseProfile=\"full\" xml:space=\"preserve\" width=\"900px\" height=\"600px\" viewBox=\"0 0 900 600\">\n<!-- END OF HEADER -->\n<rect style=\"opacity:1.0;fill:#FFFFFF;stroke:none\" width=\"900.0\" height=\"600.0\" x=\"0.0\" y=\"0.0\"> </rect>\n<path class=\"bond-0 atom-0 atom-1\" d=\"M 131.9,21.0 L 128.8,27.8\" style=\"fill:none;fill-rule:evenodd;stroke:#FF0000;stroke-width:2.0px;stroke-linecap:butt;stroke-linejoin:miter;stroke-opacity:1\"/>\n<path class=\"bond-0 atom-0 atom-1\" d=\"M 128.8,27.8 L 125.8,34.6\" style=\"fill:none;fill-rule:evenodd;stroke:#000000;stroke-width:2.0px;stroke-linecap:butt;stroke-linejoin:miter;stroke-opacity:1\"/>\n<path class=\"bond-1 atom-1 atom-2\" d=\"M 126.5,33.1 L 118.3,34.0\" style=\"fill:none;fill-rule:evenodd;stroke:#000000;stroke-width:2.0px;stroke-linecap:butt;stroke-linejoin:miter;stroke-opacity:1\"/>\n<path class=\"bond-1 atom-1 atom-2\" d=\"M 118.3,34.0 L 110.2,34.9\" style=\"fill:none;fill-rule:evenodd;stroke:#FF0000;stroke-width:2.0px;stroke-linecap:butt;stroke-linejoin:miter;stroke-opacity:1\"/>\n<path class=\"bond-1 atom-1 atom-2\" d=\"M 126.8,35.9 L 118.6,36.8\" style=\"fill:none;fill-rule:evenodd;stroke:#000000;stroke-width:2.0px;stroke-linecap:butt;stroke-linejoin:miter;stroke-opacity:1\"/>\n<path class=\"bond-1 atom-1 atom-2\" d=\"M 118.6,36.8 L 110.5,37.6\" style=\"fill:none;fill-rule:evenodd;stroke:#FF0000;stroke-width:2.0px;stroke-linecap:butt;stroke-linejoin:miter;stroke-opacity:1\"/>\n<path class=\"bond-2 atom-1 atom-3\" d=\"M 125.8,34.6 L 136.7,49.6\" style=\"fill:none;fill-rule:evenodd;stroke:#000000;stroke-width:2.0px;stroke-linecap:butt;stroke-linejoin:miter;stroke-opacity:1\"/>\n<path class=\"bond-3 atom-3 atom-4\" d=\"M 136.7,49.6 L 129.2,66.6\" style=\"fill:none;fill-rule:evenodd;stroke:#000000;stroke-width:2.0px;stroke-linecap:butt;stroke-linejoin:miter;stroke-opacity:1\"/>\n<path class=\"bond-4 atom-4 atom-5\" d=\"M 129.2,66.6 L 140.1,81.6\" style=\"fill:none;fill-rule:evenodd;stroke:#000000;stroke-width:2.0px;stroke-linecap:butt;stroke-linejoin:miter;stroke-opacity:1\"/>\n<path class=\"bond-5 atom-5 atom-6\" d=\"M 140.1,81.6 L 158.7,81.6\" style=\"fill:none;fill-rule:evenodd;stroke:#000000;stroke-width:2.0px;stroke-linecap:butt;stroke-linejoin:miter;stroke-opacity:1\"/>\n<path class=\"bond-6 atom-5 atom-8\" d=\"M 140.1,81.6 L 134.5,99.6\" style=\"fill:none;fill-rule:evenodd;stroke:#000000;stroke-width:2.0px;stroke-linecap:butt;stroke-linejoin:miter;stroke-opacity:1\"/>\n<path class=\"bond-6 atom-5 atom-8\" d=\"M 142.1,84.4 L 137.7,98.6\" style=\"fill:none;fill-rule:evenodd;stroke:#000000;stroke-width:2.0px;stroke-linecap:butt;stroke-linejoin:miter;stroke-opacity:1\"/>\n<path class=\"bond-7 atom-6 atom-7\" d=\"M 158.7,81.6 L 169.0,66.4\" style=\"fill:none;fill-rule:evenodd;stroke:#000000;stroke-width:2.0px;stroke-linecap:butt;stroke-linejoin:miter;stroke-opacity:1\"/>\n<path class=\"bond-8 atom-6 atom-11\" d=\"M 158.7,81.6 L 164.9,99.0\" style=\"fill:none;fill-rule:evenodd;stroke:#000000;stroke-width:2.0px;stroke-linecap:butt;stroke-linejoin:miter;stroke-opacity:1\"/>\n<path class=\"bond-8 atom-6 atom-11\" d=\"M 156.7,84.4 L 161.6,98.0\" style=\"fill:none;fill-rule:evenodd;stroke:#000000;stroke-width:2.0px;stroke-linecap:butt;stroke-linejoin:miter;stroke-opacity:1\"/>\n<path class=\"bond-9 atom-8 atom-9\" d=\"M 134.5,99.6 L 116.5,104.5\" style=\"fill:none;fill-rule:evenodd;stroke:#000000;stroke-width:2.0px;stroke-linecap:butt;stroke-linejoin:miter;stroke-opacity:1\"/>\n<path class=\"bond-10 atom-8 atom-10\" d=\"M 134.5,99.6 L 140.6,104.4\" style=\"fill:none;fill-rule:evenodd;stroke:#000000;stroke-width:2.0px;stroke-linecap:butt;stroke-linejoin:miter;stroke-opacity:1\"/>\n<path class=\"bond-10 atom-8 atom-10\" d=\"M 140.6,104.4 L 146.8,109.3\" style=\"fill:none;fill-rule:evenodd;stroke:#0000FF;stroke-width:2.0px;stroke-linecap:butt;stroke-linejoin:miter;stroke-opacity:1\"/>\n<path class=\"bond-11 atom-9 atom-39\" d=\"M 116.5,104.5 L 111.6,122.5\" style=\"fill:none;fill-rule:evenodd;stroke:#000000;stroke-width:2.0px;stroke-linecap:butt;stroke-linejoin:miter;stroke-opacity:1\"/>\n<path class=\"bond-12 atom-10 atom-11\" d=\"M 152.0,109.3 L 158.4,104.1\" style=\"fill:none;fill-rule:evenodd;stroke:#0000FF;stroke-width:2.0px;stroke-linecap:butt;stroke-linejoin:miter;stroke-opacity:1\"/>\n<path class=\"bond-12 atom-10 atom-11\" d=\"M 158.4,104.1 L 164.9,99.0\" style=\"fill:none;fill-rule:evenodd;stroke:#000000;stroke-width:2.0px;stroke-linecap:butt;stroke-linejoin:miter;stroke-opacity:1\"/>\n<path class=\"bond-13 atom-11 atom-12\" d=\"M 164.9,99.0 L 182.8,104.5\" style=\"fill:none;fill-rule:evenodd;stroke:#000000;stroke-width:2.0px;stroke-linecap:butt;stroke-linejoin:miter;stroke-opacity:1\"/>\n<path class=\"bond-14 atom-12 atom-13\" d=\"M 182.8,104.5 L 188.4,121.9\" style=\"fill:none;fill-rule:evenodd;stroke:#000000;stroke-width:2.0px;stroke-linecap:butt;stroke-linejoin:miter;stroke-opacity:1\"/>\n<path class=\"bond-15 atom-13 atom-14\" d=\"M 188.4,121.9 L 184.3,127.7\" style=\"fill:none;fill-rule:evenodd;stroke:#000000;stroke-width:2.0px;stroke-linecap:butt;stroke-linejoin:miter;stroke-opacity:1\"/>\n<path class=\"bond-15 atom-13 atom-14\" d=\"M 184.3,127.7 L 180.2,133.5\" style=\"fill:none;fill-rule:evenodd;stroke:#0000FF;stroke-width:2.0px;stroke-linecap:butt;stroke-linejoin:miter;stroke-opacity:1\"/>\n<path class=\"bond-16 atom-13 atom-15\" d=\"M 188.4,121.9 L 206.4,126.9\" style=\"fill:none;fill-rule:evenodd;stroke:#000000;stroke-width:2.0px;stroke-linecap:butt;stroke-linejoin:miter;stroke-opacity:1\"/>\n<path class=\"bond-16 atom-13 atom-15\" d=\"M 189.5,125.1 L 203.6,129.0\" style=\"fill:none;fill-rule:evenodd;stroke:#000000;stroke-width:2.0px;stroke-linecap:butt;stroke-linejoin:miter;stroke-opacity:1\"/>\n<path class=\"bond-17 atom-14 atom-23\" d=\"M 180.5,140.0 L 184.8,145.2\" style=\"fill:none;fill-rule:evenodd;stroke:#0000FF;stroke-width:2.0px;stroke-linecap:butt;stroke-linejoin:miter;stroke-opacity:1\"/>\n<path class=\"bond-17 atom-14 atom-23\" d=\"M 184.8,145.2 L 189.0,150.4\" style=\"fill:none;fill-rule:evenodd;stroke:#000000;stroke-width:2.0px;stroke-linecap:butt;stroke-linejoin:miter;stroke-opacity:1\"/>\n<path class=\"bond-18 atom-15 atom-16\" d=\"M 206.4,126.9 L 221.4,115.9\" style=\"fill:none;fill-rule:evenodd;stroke:#000000;stroke-width:2.0px;stroke-linecap:butt;stroke-linejoin:miter;stroke-opacity:1\"/>\n<path class=\"bond-19 atom-15 atom-21\" d=\"M 206.4,126.9 L 206.4,145.4\" style=\"fill:none;fill-rule:evenodd;stroke:#000000;stroke-width:2.0px;stroke-linecap:butt;stroke-linejoin:miter;stroke-opacity:1\"/>\n<path class=\"bond-20 atom-16 atom-17\" d=\"M 221.4,115.9 L 238.4,123.5\" style=\"fill:none;fill-rule:evenodd;stroke:#000000;stroke-width:2.0px;stroke-linecap:butt;stroke-linejoin:miter;stroke-opacity:1\"/>\n<path class=\"bond-21 atom-17 atom-18\" d=\"M 238.4,123.5 L 253.4,112.6\" style=\"fill:none;fill-rule:evenodd;stroke:#000000;stroke-width:2.0px;stroke-linecap:butt;stroke-linejoin:miter;stroke-opacity:1\"/>\n<path class=\"bond-22 atom-18 atom-19\" d=\"M 252.1,113.5 L 259.4,116.8\" style=\"fill:none;fill-rule:evenodd;stroke:#000000;stroke-width:2.0px;stroke-linecap:butt;stroke-linejoin:miter;stroke-opacity:1\"/>\n<path class=\"bond-22 atom-18 atom-19\" d=\"M 259.4,116.8 L 266.8,120.0\" style=\"fill:none;fill-rule:evenodd;stroke:#FF0000;stroke-width:2.0px;stroke-linecap:butt;stroke-linejoin:miter;stroke-opacity:1\"/>\n<path class=\"bond-22 atom-18 atom-19\" d=\"M 253.2,111.0 L 260.6,114.2\" style=\"fill:none;fill-rule:evenodd;stroke:#000000;stroke-width:2.0px;stroke-linecap:butt;stroke-linejoin:miter;stroke-opacity:1\"/>\n<path class=\"bond-22 atom-18 atom-19\" d=\"M 260.6,114.2 L 267.9,117.5\" style=\"fill:none;fill-rule:evenodd;stroke:#FF0000;stroke-width:2.0px;stroke-linecap:butt;stroke-linejoin:miter;stroke-opacity:1\"/>\n<path class=\"bond-23 atom-18 atom-20\" d=\"M 253.4,112.6 L 252.6,105.0\" style=\"fill:none;fill-rule:evenodd;stroke:#000000;stroke-width:2.0px;stroke-linecap:butt;stroke-linejoin:miter;stroke-opacity:1\"/>\n<path class=\"bond-23 atom-18 atom-20\" d=\"M 252.6,105.0 L 251.8,97.5\" style=\"fill:none;fill-rule:evenodd;stroke:#FF0000;stroke-width:2.0px;stroke-linecap:butt;stroke-linejoin:miter;stroke-opacity:1\"/>\n<path class=\"bond-24 atom-21 atom-22\" d=\"M 206.4,145.4 L 220.6,156.6\" style=\"fill:none;fill-rule:evenodd;stroke:#000000;stroke-width:2.0px;stroke-linecap:butt;stroke-linejoin:miter;stroke-opacity:1\"/>\n<path class=\"bond-25 atom-21 atom-23\" d=\"M 206.4,145.4 L 189.0,150.4\" style=\"fill:none;fill-rule:evenodd;stroke:#000000;stroke-width:2.0px;stroke-linecap:butt;stroke-linejoin:miter;stroke-opacity:1\"/>\n<path class=\"bond-25 atom-21 atom-23\" d=\"M 203.6,143.3 L 190.0,147.2\" style=\"fill:none;fill-rule:evenodd;stroke:#000000;stroke-width:2.0px;stroke-linecap:butt;stroke-linejoin:miter;stroke-opacity:1\"/>\n<path class=\"bond-26 atom-23 atom-24\" d=\"M 189.0,150.4 L 183.5,168.4\" style=\"fill:none;fill-rule:evenodd;stroke:#000000;stroke-width:2.0px;stroke-linecap:butt;stroke-linejoin:miter;stroke-opacity:1\"/>\n<path class=\"bond-27 atom-24 atom-25\" d=\"M 183.5,168.4 L 164.9,173.3\" style=\"fill:none;fill-rule:evenodd;stroke:#000000;stroke-width:2.0px;stroke-linecap:butt;stroke-linejoin:miter;stroke-opacity:1\"/>\n<path class=\"bond-28 atom-25 atom-26\" d=\"M 164.9,173.3 L 158.7,168.7\" style=\"fill:none;fill-rule:evenodd;stroke:#000000;stroke-width:2.0px;stroke-linecap:butt;stroke-linejoin:miter;stroke-opacity:1\"/>\n<path class=\"bond-28 atom-25 atom-26\" d=\"M 158.7,168.7 L 152.6,164.1\" style=\"fill:none;fill-rule:evenodd;stroke:#0000FF;stroke-width:2.0px;stroke-linecap:butt;stroke-linejoin:miter;stroke-opacity:1\"/>\n<path class=\"bond-29 atom-25 atom-27\" d=\"M 164.9,173.3 L 159.3,191.3\" style=\"fill:none;fill-rule:evenodd;stroke:#000000;stroke-width:2.0px;stroke-linecap:butt;stroke-linejoin:miter;stroke-opacity:1\"/>\n<path class=\"bond-29 atom-25 atom-27\" d=\"M 161.6,174.4 L 157.2,188.5\" style=\"fill:none;fill-rule:evenodd;stroke:#000000;stroke-width:2.0px;stroke-linecap:butt;stroke-linejoin:miter;stroke-opacity:1\"/>\n<path class=\"bond-30 atom-26 atom-35\" d=\"M 147.4,164.2 L 141.3,169.1\" style=\"fill:none;fill-rule:evenodd;stroke:#0000FF;stroke-width:2.0px;stroke-linecap:butt;stroke-linejoin:miter;stroke-opacity:1\"/>\n<path class=\"bond-30 atom-26 atom-35\" d=\"M 141.3,169.1 L 135.1,174.0\" style=\"fill:none;fill-rule:evenodd;stroke:#000000;stroke-width:2.0px;stroke-linecap:butt;stroke-linejoin:miter;stroke-opacity:1\"/>\n<path class=\"bond-31 atom-27 atom-28\" d=\"M 159.3,191.3 L 170.2,206.3\" style=\"fill:none;fill-rule:evenodd;stroke:#000000;stroke-width:2.0px;stroke-linecap:butt;stroke-linejoin:miter;stroke-opacity:1\"/>\n<path class=\"bond-32 atom-27 atom-33\" d=\"M 159.3,191.3 L 140.7,191.3\" style=\"fill:none;fill-rule:evenodd;stroke:#000000;stroke-width:2.0px;stroke-linecap:butt;stroke-linejoin:miter;stroke-opacity:1\"/>\n<path class=\"bond-33 atom-28 atom-29\" d=\"M 170.2,206.3 L 162.7,223.3\" style=\"fill:none;fill-rule:evenodd;stroke:#000000;stroke-width:2.0px;stroke-linecap:butt;stroke-linejoin:miter;stroke-opacity:1\"/>\n<path class=\"bond-34 atom-29 atom-30\" d=\"M 162.7,223.3 L 173.6,238.3\" style=\"fill:none;fill-rule:evenodd;stroke:#000000;stroke-width:2.0px;stroke-linecap:butt;stroke-linejoin:miter;stroke-opacity:1\"/>\n<path class=\"bond-35 atom-30 atom-31\" d=\"M 173.6,238.3 L 170.5,245.1\" style=\"fill:none;fill-rule:evenodd;stroke:#000000;stroke-width:2.0px;stroke-linecap:butt;stroke-linejoin:miter;stroke-opacity:1\"/>\n<path class=\"bond-35 atom-30 atom-31\" d=\"M 170.5,245.1 L 167.5,252.0\" style=\"fill:none;fill-rule:evenodd;stroke:#FF0000;stroke-width:2.0px;stroke-linecap:butt;stroke-linejoin:miter;stroke-opacity:1\"/>\n<path class=\"bond-36 atom-30 atom-32\" d=\"M 172.9,239.8 L 181.0,238.9\" style=\"fill:none;fill-rule:evenodd;stroke:#000000;stroke-width:2.0px;stroke-linecap:butt;stroke-linejoin:miter;stroke-opacity:1\"/>\n<path class=\"bond-36 atom-30 atom-32\" d=\"M 181.0,238.9 L 189.2,238.1\" style=\"fill:none;fill-rule:evenodd;stroke:#FF0000;stroke-width:2.0px;stroke-linecap:butt;stroke-linejoin:miter;stroke-opacity:1\"/>\n<path class=\"bond-36 atom-30 atom-32\" d=\"M 172.6,237.0 L 180.7,236.2\" style=\"fill:none;fill-rule:evenodd;stroke:#000000;stroke-width:2.0px;stroke-linecap:butt;stroke-linejoin:miter;stroke-opacity:1\"/>\n<path class=\"bond-36 atom-30 atom-32\" d=\"M 180.7,236.2 L 188.9,235.3\" style=\"fill:none;fill-rule:evenodd;stroke:#FF0000;stroke-width:2.0px;stroke-linecap:butt;stroke-linejoin:miter;stroke-opacity:1\"/>\n<path class=\"bond-37 atom-33 atom-34\" d=\"M 140.7,191.3 L 130.0,206.0\" style=\"fill:none;fill-rule:evenodd;stroke:#000000;stroke-width:2.0px;stroke-linecap:butt;stroke-linejoin:miter;stroke-opacity:1\"/>\n<path class=\"bond-38 atom-33 atom-35\" d=\"M 140.7,191.3 L 135.1,174.0\" style=\"fill:none;fill-rule:evenodd;stroke:#000000;stroke-width:2.0px;stroke-linecap:butt;stroke-linejoin:miter;stroke-opacity:1\"/>\n<path class=\"bond-38 atom-33 atom-35\" d=\"M 142.7,188.5 L 138.4,174.9\" style=\"fill:none;fill-rule:evenodd;stroke:#000000;stroke-width:2.0px;stroke-linecap:butt;stroke-linejoin:miter;stroke-opacity:1\"/>\n<path class=\"bond-39 atom-35 atom-36\" d=\"M 135.1,174.0 L 117.2,168.4\" style=\"fill:none;fill-rule:evenodd;stroke:#000000;stroke-width:2.0px;stroke-linecap:butt;stroke-linejoin:miter;stroke-opacity:1\"/>\n<path class=\"bond-40 atom-36 atom-37\" d=\"M 117.2,168.4 L 111.6,151.0\" style=\"fill:none;fill-rule:evenodd;stroke:#000000;stroke-width:2.0px;stroke-linecap:butt;stroke-linejoin:miter;stroke-opacity:1\"/>\n<path class=\"bond-41 atom-37 atom-38\" d=\"M 111.6,151.0 L 115.6,145.5\" style=\"fill:none;fill-rule:evenodd;stroke:#000000;stroke-width:2.0px;stroke-linecap:butt;stroke-linejoin:miter;stroke-opacity:1\"/>\n<path class=\"bond-41 atom-37 atom-38\" d=\"M 115.6,145.5 L 119.7,140.0\" style=\"fill:none;fill-rule:evenodd;stroke:#0000FF;stroke-width:2.0px;stroke-linecap:butt;stroke-linejoin:miter;stroke-opacity:1\"/>\n<path class=\"bond-42 atom-37 atom-42\" d=\"M 111.6,151.0 L 93.6,146.1\" style=\"fill:none;fill-rule:evenodd;stroke:#000000;stroke-width:2.0px;stroke-linecap:butt;stroke-linejoin:miter;stroke-opacity:1\"/>\n<path class=\"bond-42 atom-37 atom-42\" d=\"M 110.5,147.8 L 96.4,143.9\" style=\"fill:none;fill-rule:evenodd;stroke:#000000;stroke-width:2.0px;stroke-linecap:butt;stroke-linejoin:miter;stroke-opacity:1\"/>\n<path class=\"bond-43 atom-38 atom-39\" d=\"M 119.7,133.5 L 115.6,128.0\" style=\"fill:none;fill-rule:evenodd;stroke:#0000FF;stroke-width:2.0px;stroke-linecap:butt;stroke-linejoin:miter;stroke-opacity:1\"/>\n<path class=\"bond-43 atom-38 atom-39\" d=\"M 115.6,128.0 L 111.6,122.5\" style=\"fill:none;fill-rule:evenodd;stroke:#000000;stroke-width:2.0px;stroke-linecap:butt;stroke-linejoin:miter;stroke-opacity:1\"/>\n<path class=\"bond-44 atom-39 atom-40\" d=\"M 111.6,122.5 L 93.6,127.5\" style=\"fill:none;fill-rule:evenodd;stroke:#000000;stroke-width:2.0px;stroke-linecap:butt;stroke-linejoin:miter;stroke-opacity:1\"/>\n<path class=\"bond-44 atom-39 atom-40\" d=\"M 110.5,125.7 L 96.4,129.6\" style=\"fill:none;fill-rule:evenodd;stroke:#000000;stroke-width:2.0px;stroke-linecap:butt;stroke-linejoin:miter;stroke-opacity:1\"/>\n<path class=\"bond-45 atom-40 atom-41\" d=\"M 93.6,127.5 L 79.0,115.9\" style=\"fill:none;fill-rule:evenodd;stroke:#000000;stroke-width:2.0px;stroke-linecap:butt;stroke-linejoin:miter;stroke-opacity:1\"/>\n<path class=\"bond-46 atom-40 atom-42\" d=\"M 93.6,127.5 L 93.6,146.1\" style=\"fill:none;fill-rule:evenodd;stroke:#000000;stroke-width:2.0px;stroke-linecap:butt;stroke-linejoin:miter;stroke-opacity:1\"/>\n<path class=\"bond-47 atom-42 atom-43\" d=\"M 93.6,146.1 L 78.6,157.0\" style=\"fill:none;fill-rule:evenodd;stroke:#000000;stroke-width:2.0px;stroke-linecap:butt;stroke-linejoin:miter;stroke-opacity:1\"/>\n<path class=\"bond-48 atom-43 atom-44\" d=\"M 78.6,157.0 L 61.6,149.4\" style=\"fill:none;fill-rule:evenodd;stroke:#000000;stroke-width:2.0px;stroke-linecap:butt;stroke-linejoin:miter;stroke-opacity:1\"/>\n<path class=\"bond-49 atom-44 atom-45\" d=\"M 61.6,149.4 L 46.6,160.3\" style=\"fill:none;fill-rule:evenodd;stroke:#000000;stroke-width:2.0px;stroke-linecap:butt;stroke-linejoin:miter;stroke-opacity:1\"/>\n<path class=\"bond-50 atom-45 atom-46\" d=\"M 47.9,159.4 L 40.6,156.1\" style=\"fill:none;fill-rule:evenodd;stroke:#000000;stroke-width:2.0px;stroke-linecap:butt;stroke-linejoin:miter;stroke-opacity:1\"/>\n<path class=\"bond-50 atom-45 atom-46\" d=\"M 40.6,156.1 L 33.2,152.9\" style=\"fill:none;fill-rule:evenodd;stroke:#FF0000;stroke-width:2.0px;stroke-linecap:butt;stroke-linejoin:miter;stroke-opacity:1\"/>\n<path class=\"bond-50 atom-45 atom-46\" d=\"M 46.8,161.9 L 39.4,158.7\" style=\"fill:none;fill-rule:evenodd;stroke:#000000;stroke-width:2.0px;stroke-linecap:butt;stroke-linejoin:miter;stroke-opacity:1\"/>\n<path class=\"bond-50 atom-45 atom-46\" d=\"M 39.4,158.7 L 32.1,155.4\" style=\"fill:none;fill-rule:evenodd;stroke:#FF0000;stroke-width:2.0px;stroke-linecap:butt;stroke-linejoin:miter;stroke-opacity:1\"/>\n<path class=\"bond-51 atom-45 atom-47\" d=\"M 46.6,160.3 L 47.4,167.9\" style=\"fill:none;fill-rule:evenodd;stroke:#000000;stroke-width:2.0px;stroke-linecap:butt;stroke-linejoin:miter;stroke-opacity:1\"/>\n<path class=\"bond-51 atom-45 atom-47\" d=\"M 47.4,167.9 L 48.2,175.5\" style=\"fill:none;fill-rule:evenodd;stroke:#FF0000;stroke-width:2.0px;stroke-linecap:butt;stroke-linejoin:miter;stroke-opacity:1\"/>\n<path d=\"M 126.0,34.3 L 125.8,34.6 L 126.4,35.4\" style=\"fill:none;stroke:#000000;stroke-width:2.0px;stroke-linecap:butt;stroke-linejoin:miter;stroke-opacity:1;\"/>\n<path d=\"M 136.2,48.9 L 136.7,49.6 L 136.3,50.5\" style=\"fill:none;stroke:#000000;stroke-width:2.0px;stroke-linecap:butt;stroke-linejoin:miter;stroke-opacity:1;\"/>\n<path d=\"M 129.5,65.7 L 129.2,66.6 L 129.7,67.3\" style=\"fill:none;stroke:#000000;stroke-width:2.0px;stroke-linecap:butt;stroke-linejoin:miter;stroke-opacity:1;\"/>\n<path d=\"M 117.4,104.3 L 116.5,104.5 L 116.3,105.4\" style=\"fill:none;stroke:#000000;stroke-width:2.0px;stroke-linecap:butt;stroke-linejoin:miter;stroke-opacity:1;\"/>\n<path d=\"M 181.9,104.3 L 182.8,104.5 L 183.1,105.4\" style=\"fill:none;stroke:#000000;stroke-width:2.0px;stroke-linecap:butt;stroke-linejoin:miter;stroke-opacity:1;\"/>\n<path d=\"M 220.7,116.5 L 221.4,115.9 L 222.3,116.3\" style=\"fill:none;stroke:#000000;stroke-width:2.0px;stroke-linecap:butt;stroke-linejoin:miter;stroke-opacity:1;\"/>\n<path d=\"M 237.5,123.1 L 238.4,123.5 L 239.1,122.9\" style=\"fill:none;stroke:#000000;stroke-width:2.0px;stroke-linecap:butt;stroke-linejoin:miter;stroke-opacity:1;\"/>\n<path d=\"M 252.6,113.1 L 253.4,112.6 L 253.4,112.2\" style=\"fill:none;stroke:#000000;stroke-width:2.0px;stroke-linecap:butt;stroke-linejoin:miter;stroke-opacity:1;\"/>\n<path d=\"M 183.7,167.5 L 183.5,168.4 L 182.5,168.6\" style=\"fill:none;stroke:#000000;stroke-width:2.0px;stroke-linecap:butt;stroke-linejoin:miter;stroke-opacity:1;\"/>\n<path d=\"M 169.7,205.6 L 170.2,206.3 L 169.8,207.2\" style=\"fill:none;stroke:#000000;stroke-width:2.0px;stroke-linecap:butt;stroke-linejoin:miter;stroke-opacity:1;\"/>\n<path d=\"M 163.0,222.4 L 162.7,223.3 L 163.2,224.0\" style=\"fill:none;stroke:#000000;stroke-width:2.0px;stroke-linecap:butt;stroke-linejoin:miter;stroke-opacity:1;\"/>\n<path d=\"M 173.0,237.6 L 173.6,238.3 L 173.4,238.6\" style=\"fill:none;stroke:#000000;stroke-width:2.0px;stroke-linecap:butt;stroke-linejoin:miter;stroke-opacity:1;\"/>\n<path d=\"M 118.1,168.6 L 117.2,168.4 L 116.9,167.5\" style=\"fill:none;stroke:#000000;stroke-width:2.0px;stroke-linecap:butt;stroke-linejoin:miter;stroke-opacity:1;\"/>\n<path d=\"M 79.3,156.4 L 78.6,157.0 L 77.7,156.6\" style=\"fill:none;stroke:#000000;stroke-width:2.0px;stroke-linecap:butt;stroke-linejoin:miter;stroke-opacity:1;\"/>\n<path d=\"M 62.5,149.8 L 61.6,149.4 L 60.9,150.0\" style=\"fill:none;stroke:#000000;stroke-width:2.0px;stroke-linecap:butt;stroke-linejoin:miter;stroke-opacity:1;\"/>\n<path d=\"M 47.4,159.8 L 46.6,160.3 L 46.6,160.7\" style=\"fill:none;stroke:#000000;stroke-width:2.0px;stroke-linecap:butt;stroke-linejoin:miter;stroke-opacity:1;\"/>\n<path class=\"atom-0\" d=\"M 130.9 17.7 Q 130.9 16.4, 131.6 15.7 Q 132.2 15.0, 133.4 15.0 Q 134.5 15.0, 135.1 15.7 Q 135.8 16.4, 135.8 17.7 Q 135.8 18.9, 135.1 19.7 Q 134.5 20.4, 133.4 20.4 Q 132.2 20.4, 131.6 19.7 Q 130.9 19.0, 130.9 17.7 M 133.4 19.8 Q 134.2 19.8, 134.6 19.3 Q 135.0 18.7, 135.0 17.7 Q 135.0 16.6, 134.6 16.1 Q 134.2 15.6, 133.4 15.6 Q 132.6 15.6, 132.1 16.1 Q 131.7 16.6, 131.7 17.7 Q 131.7 18.7, 132.1 19.3 Q 132.6 19.8, 133.4 19.8 \" fill=\"#FF0000\"/>\n<path class=\"atom-0\" d=\"M 136.6 15.1 L 137.3 15.1 L 137.3 17.3 L 140.0 17.3 L 140.0 15.1 L 140.7 15.1 L 140.7 20.3 L 140.0 20.3 L 140.0 17.9 L 137.3 17.9 L 137.3 20.3 L 136.6 20.3 L 136.6 15.1 \" fill=\"#FF0000\"/>\n<path class=\"atom-2\" d=\"M 104.9 36.6 Q 104.9 35.3, 105.6 34.6 Q 106.2 33.9, 107.3 33.9 Q 108.5 33.9, 109.1 34.6 Q 109.8 35.3, 109.8 36.6 Q 109.8 37.8, 109.1 38.6 Q 108.5 39.3, 107.3 39.3 Q 106.2 39.3, 105.6 38.6 Q 104.9 37.9, 104.9 36.6 M 107.3 38.7 Q 108.2 38.7, 108.6 38.2 Q 109.0 37.6, 109.0 36.6 Q 109.0 35.5, 108.6 35.0 Q 108.2 34.5, 107.3 34.5 Q 106.5 34.5, 106.1 35.0 Q 105.7 35.5, 105.7 36.6 Q 105.7 37.6, 106.1 38.2 Q 106.5 38.7, 107.3 38.7 \" fill=\"#FF0000\"/>\n<path class=\"atom-10\" d=\"M 148.2 108.7 L 149.9 111.5 Q 150.1 111.8, 150.4 112.3 Q 150.7 112.8, 150.7 112.8 L 150.7 108.7 L 151.4 108.7 L 151.4 114.0 L 150.7 114.0 L 148.8 110.9 Q 148.6 110.6, 148.4 110.2 Q 148.1 109.8, 148.1 109.6 L 148.1 114.0 L 147.4 114.0 L 147.4 108.7 L 148.2 108.7 \" fill=\"#0000FF\"/>\n<path class=\"atom-10\" d=\"M 147.3 114.5 L 148.0 114.5 L 148.0 116.7 L 150.7 116.7 L 150.7 114.5 L 151.4 114.5 L 151.4 119.8 L 150.7 119.8 L 150.7 117.3 L 148.0 117.3 L 148.0 119.8 L 147.3 119.8 L 147.3 114.5 \" fill=\"#0000FF\"/>\n<path class=\"atom-14\" d=\"M 170.7 134.1 L 171.4 134.1 L 171.4 136.4 L 174.1 136.4 L 174.1 134.1 L 174.8 134.1 L 174.8 139.4 L 174.1 139.4 L 174.1 137.0 L 171.4 137.0 L 171.4 139.4 L 170.7 139.4 L 170.7 134.1 \" fill=\"#0000FF\"/>\n<path class=\"atom-14\" d=\"M 176.7 134.1 L 178.4 136.9 Q 178.6 137.2, 178.9 137.7 Q 179.2 138.2, 179.2 138.2 L 179.2 134.1 L 179.9 134.1 L 179.9 139.4 L 179.1 139.4 L 177.3 136.4 Q 177.1 136.0, 176.9 135.6 Q 176.6 135.2, 176.6 135.1 L 176.6 139.4 L 175.9 139.4 L 175.9 134.1 L 176.7 134.1 \" fill=\"#0000FF\"/>\n<path class=\"atom-19\" d=\"M 267.9 120.1 Q 267.9 118.9, 268.6 118.2 Q 269.2 117.5, 270.4 117.5 Q 271.5 117.5, 272.1 118.2 Q 272.8 118.9, 272.8 120.1 Q 272.8 121.4, 272.1 122.1 Q 271.5 122.9, 270.4 122.9 Q 269.2 122.9, 268.6 122.1 Q 267.9 121.4, 267.9 120.1 M 270.4 122.3 Q 271.2 122.3, 271.6 121.7 Q 272.0 121.2, 272.0 120.1 Q 272.0 119.1, 271.6 118.6 Q 271.2 118.1, 270.4 118.1 Q 269.6 118.1, 269.1 118.6 Q 268.7 119.1, 268.7 120.1 Q 268.7 121.2, 269.1 121.7 Q 269.6 122.3, 270.4 122.3 \" fill=\"#FF0000\"/>\n<path class=\"atom-20\" d=\"M 249.0 94.1 Q 249.0 92.9, 249.7 92.2 Q 250.3 91.5, 251.5 91.5 Q 252.6 91.5, 253.2 92.2 Q 253.9 92.9, 253.9 94.1 Q 253.9 95.4, 253.2 96.1 Q 252.6 96.9, 251.5 96.9 Q 250.3 96.9, 249.7 96.1 Q 249.0 95.4, 249.0 94.1 M 251.5 96.3 Q 252.3 96.3, 252.7 95.7 Q 253.1 95.2, 253.1 94.1 Q 253.1 93.1, 252.7 92.6 Q 252.3 92.1, 251.5 92.1 Q 250.7 92.1, 250.2 92.6 Q 249.8 93.1, 249.8 94.1 Q 249.8 95.2, 250.2 95.7 Q 250.7 96.3, 251.5 96.3 \" fill=\"#FF0000\"/>\n<path class=\"atom-20\" d=\"M 254.7 91.5 L 255.4 91.5 L 255.4 93.8 L 258.1 93.8 L 258.1 91.5 L 258.8 91.5 L 258.8 96.8 L 258.1 96.8 L 258.1 94.3 L 255.4 94.3 L 255.4 96.8 L 254.7 96.8 L 254.7 91.5 \" fill=\"#FF0000\"/>\n<path class=\"atom-26\" d=\"M 148.8 159.6 L 150.6 162.3 Q 150.7 162.6, 151.0 163.1 Q 151.3 163.6, 151.3 163.6 L 151.3 159.6 L 152.0 159.6 L 152.0 164.8 L 151.3 164.8 L 149.4 161.8 Q 149.2 161.4, 149.0 161.0 Q 148.8 160.6, 148.7 160.5 L 148.7 164.8 L 148.0 164.8 L 148.0 159.6 L 148.8 159.6 \" fill=\"#0000FF\"/>\n<path class=\"atom-26\" d=\"M 147.9 153.8 L 148.7 153.8 L 148.7 156.0 L 151.3 156.0 L 151.3 153.8 L 152.1 153.8 L 152.1 159.0 L 151.3 159.0 L 151.3 156.6 L 148.7 156.6 L 148.7 159.0 L 147.9 159.0 L 147.9 153.8 \" fill=\"#0000FF\"/>\n<path class=\"atom-31\" d=\"M 158.4 252.7 L 159.1 252.7 L 159.1 254.9 L 161.8 254.9 L 161.8 252.7 L 162.5 252.7 L 162.5 257.9 L 161.8 257.9 L 161.8 255.5 L 159.1 255.5 L 159.1 257.9 L 158.4 257.9 L 158.4 252.7 \" fill=\"#FF0000\"/>\n<path class=\"atom-31\" d=\"M 163.6 255.3 Q 163.6 254.0, 164.2 253.3 Q 164.9 252.6, 166.0 252.6 Q 167.2 252.6, 167.8 253.3 Q 168.4 254.0, 168.4 255.3 Q 168.4 256.6, 167.8 257.3 Q 167.2 258.0, 166.0 258.0 Q 164.9 258.0, 164.2 257.3 Q 163.6 256.6, 163.6 255.3 M 166.0 257.4 Q 166.8 257.4, 167.3 256.9 Q 167.7 256.3, 167.7 255.3 Q 167.7 254.2, 167.3 253.7 Q 166.8 253.2, 166.0 253.2 Q 165.2 253.2, 164.8 253.7 Q 164.4 254.2, 164.4 255.3 Q 164.4 256.3, 164.8 256.9 Q 165.2 257.4, 166.0 257.4 \" fill=\"#FF0000\"/>\n<path class=\"atom-32\" d=\"M 189.6 236.4 Q 189.6 235.1, 190.2 234.4 Q 190.9 233.7, 192.0 233.7 Q 193.2 233.7, 193.8 234.4 Q 194.4 235.1, 194.4 236.4 Q 194.4 237.7, 193.8 238.4 Q 193.2 239.1, 192.0 239.1 Q 190.9 239.1, 190.2 238.4 Q 189.6 237.7, 189.6 236.4 M 192.0 238.5 Q 192.8 238.5, 193.3 238.0 Q 193.7 237.4, 193.7 236.4 Q 193.7 235.3, 193.3 234.8 Q 192.8 234.3, 192.0 234.3 Q 191.2 234.3, 190.8 234.8 Q 190.4 235.3, 190.4 236.4 Q 190.4 237.4, 190.8 238.0 Q 191.2 238.5, 192.0 238.5 \" fill=\"#FF0000\"/>\n<path class=\"atom-38\" d=\"M 120.9 134.1 L 122.7 136.9 Q 122.8 137.2, 123.1 137.7 Q 123.4 138.2, 123.4 138.2 L 123.4 134.1 L 124.1 134.1 L 124.1 139.4 L 123.4 139.4 L 121.5 136.4 Q 121.3 136.0, 121.1 135.6 Q 120.9 135.2, 120.8 135.1 L 120.8 139.4 L 120.1 139.4 L 120.1 134.1 L 120.9 134.1 \" fill=\"#0000FF\"/>\n<path class=\"atom-38\" d=\"M 125.1 134.1 L 125.8 134.1 L 125.8 136.4 L 128.5 136.4 L 128.5 134.1 L 129.2 134.1 L 129.2 139.4 L 128.5 139.4 L 128.5 137.0 L 125.8 137.0 L 125.8 139.4 L 125.1 139.4 L 125.1 134.1 \" fill=\"#0000FF\"/>\n<path class=\"atom-46\" d=\"M 27.2 152.8 Q 27.2 151.5, 27.9 150.8 Q 28.5 150.1, 29.6 150.1 Q 30.8 150.1, 31.4 150.8 Q 32.1 151.5, 32.1 152.8 Q 32.1 154.1, 31.4 154.8 Q 30.8 155.5, 29.6 155.5 Q 28.5 155.5, 27.9 154.8 Q 27.2 154.1, 27.2 152.8 M 29.6 154.9 Q 30.4 154.9, 30.9 154.4 Q 31.3 153.9, 31.3 152.8 Q 31.3 151.8, 30.9 151.3 Q 30.4 150.7, 29.6 150.7 Q 28.8 150.7, 28.4 151.2 Q 28.0 151.8, 28.0 152.8 Q 28.0 153.9, 28.4 154.4 Q 28.8 154.9, 29.6 154.9 \" fill=\"#FF0000\"/>\n<path class=\"atom-47\" d=\"M 46.1 178.8 Q 46.1 177.6, 46.8 176.8 Q 47.4 176.1, 48.5 176.1 Q 49.7 176.1, 50.3 176.8 Q 51.0 177.6, 51.0 178.8 Q 51.0 180.1, 50.3 180.8 Q 49.7 181.5, 48.5 181.5 Q 47.4 181.5, 46.8 180.8 Q 46.1 180.1, 46.1 178.8 M 48.5 180.9 Q 49.3 180.9, 49.8 180.4 Q 50.2 179.9, 50.2 178.8 Q 50.2 177.8, 49.8 177.3 Q 49.3 176.7, 48.5 176.7 Q 47.7 176.7, 47.3 177.3 Q 46.9 177.8, 46.9 178.8 Q 46.9 179.9, 47.3 180.4 Q 47.7 180.9, 48.5 180.9 \" fill=\"#FF0000\"/>\n<path class=\"atom-47\" d=\"M 51.8 176.2 L 52.5 176.2 L 52.5 178.4 L 55.2 178.4 L 55.2 176.2 L 55.9 176.2 L 55.9 181.5 L 55.2 181.5 L 55.2 179.0 L 52.5 179.0 L 52.5 181.5 L 51.8 181.5 L 51.8 176.2 \" fill=\"#FF0000\"/>\n<path class=\"legend\" d=\"M 137.8 283.6 L 140.3 283.6 L 140.3 275.1 L 137.6 276.0 L 137.2 275.0 L 140.7 273.5 L 141.8 273.7 L 141.8 283.6 L 144.0 283.6 L 144.0 284.9 L 137.8 284.9 L 137.8 283.6 \" fill=\"#000000\"/>\n<path class=\"legend\" d=\"M 145.4 279.2 Q 145.4 276.4, 146.8 274.9 Q 148.1 273.4, 150.6 273.4 Q 152.9 273.4, 154.2 275.0 L 153.1 275.9 Q 152.2 274.7, 150.6 274.7 Q 148.9 274.7, 148.0 275.9 Q 147.1 277.0, 147.1 279.2 Q 147.1 281.4, 148.0 282.6 Q 149.0 283.7, 150.8 283.7 Q 152.0 283.7, 153.5 283.0 L 153.9 284.2 Q 153.3 284.6, 152.4 284.8 Q 151.5 285.0, 150.6 285.0 Q 148.1 285.0, 146.8 283.5 Q 145.4 282.0, 145.4 279.2 \" fill=\"#000000\"/>\n<path class=\"legend\" d=\"M 158.9 273.5 Q 160.9 273.5, 161.8 274.4 Q 162.8 275.3, 162.8 276.9 Q 162.8 278.4, 161.8 279.3 Q 160.8 280.2, 158.9 280.2 L 157.1 280.2 L 157.1 284.9 L 155.6 284.9 L 155.6 273.5 L 158.9 273.5 M 158.9 278.9 Q 160.0 278.9, 160.6 278.4 Q 161.2 277.9, 161.2 276.9 Q 161.2 275.8, 160.6 275.3 Q 160.0 274.8, 158.9 274.8 L 157.1 274.8 L 157.1 278.9 L 158.9 278.9 \" fill=\"#000000\"/>\n<path class=\"bond-0 atom-23 atom-40\" d=\"M 470.1,110.9 L 471.7,100.9\" style=\"fill:none;fill-rule:evenodd;stroke:#000000;stroke-width:2.0px;stroke-linecap:butt;stroke-linejoin:miter;stroke-opacity:1\"/>\n<path class=\"bond-1 atom-20 atom-23\" d=\"M 477.1,117.8 L 470.1,110.9\" style=\"fill:none;fill-rule:evenodd;stroke:#000000;stroke-width:2.0px;stroke-linecap:butt;stroke-linejoin:miter;stroke-opacity:1\"/>\n<path class=\"bond-2 atom-20 atom-52\" d=\"M 477.1,117.8 L 487.2,116.2\" style=\"fill:none;fill-rule:evenodd;stroke:#000000;stroke-width:2.0px;stroke-linecap:butt;stroke-linejoin:miter;stroke-opacity:1\"/>\n<path class=\"bond-3 atom-0 atom-1\" d=\"M 443.0,156.8 L 433.6,162.0\" style=\"fill:none;fill-rule:evenodd;stroke:#000000;stroke-width:2.0px;stroke-linecap:butt;stroke-linejoin:miter;stroke-opacity:1\"/>\n<path class=\"bond-3 atom-0 atom-1\" d=\"M 441.3,156.0 L 433.9,160.1\" style=\"fill:none;fill-rule:evenodd;stroke:#000000;stroke-width:2.0px;stroke-linecap:butt;stroke-linejoin:miter;stroke-opacity:1\"/>\n<path class=\"bond-4 atom-1 atom-24\" d=\"M 433.6,162.0 L 432.2,172.1\" style=\"fill:none;fill-rule:evenodd;stroke:#000000;stroke-width:2.0px;stroke-linecap:butt;stroke-linejoin:miter;stroke-opacity:1\"/>\n<path class=\"bond-5 atom-0 atom-2\" d=\"M 443.0,156.8 L 442.5,153.6\" style=\"fill:none;fill-rule:evenodd;stroke:#000000;stroke-width:2.0px;stroke-linecap:butt;stroke-linejoin:miter;stroke-opacity:1\"/>\n<path class=\"bond-5 atom-0 atom-2\" d=\"M 442.5,153.6 L 442.0,150.4\" style=\"fill:none;fill-rule:evenodd;stroke:#0000FF;stroke-width:2.0px;stroke-linecap:butt;stroke-linejoin:miter;stroke-opacity:1\"/>\n<path class=\"bond-6 atom-0 atom-3\" d=\"M 443.0,156.8 L 452.1,161.8\" style=\"fill:none;fill-rule:evenodd;stroke:#000000;stroke-width:2.0px;stroke-linecap:butt;stroke-linejoin:miter;stroke-opacity:1\"/>\n<path class=\"bond-7 atom-1 atom-4\" d=\"M 433.6,162.0 L 426.7,155.2\" style=\"fill:none;fill-rule:evenodd;stroke:#000000;stroke-width:2.0px;stroke-linecap:butt;stroke-linejoin:miter;stroke-opacity:1\"/>\n<path class=\"bond-8 atom-4 atom-25\" d=\"M 426.7,155.2 L 416.6,156.9\" style=\"fill:none;fill-rule:evenodd;stroke:#000000;stroke-width:2.0px;stroke-linecap:butt;stroke-linejoin:miter;stroke-opacity:1\"/>\n<path class=\"bond-9 atom-4 atom-5\" d=\"M 426.7,155.2 L 431.3,145.7\" style=\"fill:none;fill-rule:evenodd;stroke:#000000;stroke-width:2.0px;stroke-linecap:butt;stroke-linejoin:miter;stroke-opacity:1\"/>\n<path class=\"bond-9 atom-4 atom-5\" d=\"M 428.6,154.8 L 432.2,147.4\" style=\"fill:none;fill-rule:evenodd;stroke:#000000;stroke-width:2.0px;stroke-linecap:butt;stroke-linejoin:miter;stroke-opacity:1\"/>\n<path class=\"bond-10 atom-2 atom-5\" d=\"M 439.2,147.0 L 435.2,146.4\" style=\"fill:none;fill-rule:evenodd;stroke:#0000FF;stroke-width:2.0px;stroke-linecap:butt;stroke-linejoin:miter;stroke-opacity:1\"/>\n<path class=\"bond-10 atom-2 atom-5\" d=\"M 435.2,146.4 L 431.3,145.7\" style=\"fill:none;fill-rule:evenodd;stroke:#000000;stroke-width:2.0px;stroke-linecap:butt;stroke-linejoin:miter;stroke-opacity:1\"/>\n<path class=\"bond-11 atom-3 atom-6\" d=\"M 452.1,161.8 L 460.8,157.0\" style=\"fill:none;fill-rule:evenodd;stroke:#000000;stroke-width:2.0px;stroke-linecap:butt;stroke-linejoin:miter;stroke-opacity:1\"/>\n<path class=\"bond-12 atom-5 atom-7\" d=\"M 431.3,145.7 L 426.5,137.0\" style=\"fill:none;fill-rule:evenodd;stroke:#000000;stroke-width:2.0px;stroke-linecap:butt;stroke-linejoin:miter;stroke-opacity:1\"/>\n<path class=\"bond-13 atom-6 atom-8\" d=\"M 460.8,157.0 L 470.6,161.7\" style=\"fill:none;fill-rule:evenodd;stroke:#000000;stroke-width:2.0px;stroke-linecap:butt;stroke-linejoin:miter;stroke-opacity:1\"/>\n<path class=\"bond-13 atom-6 atom-8\" d=\"M 462.5,156.2 L 470.3,159.8\" style=\"fill:none;fill-rule:evenodd;stroke:#000000;stroke-width:2.0px;stroke-linecap:butt;stroke-linejoin:miter;stroke-opacity:1\"/>\n<path class=\"bond-14 atom-8 atom-28\" d=\"M 470.6,161.7 L 472.4,171.7\" style=\"fill:none;fill-rule:evenodd;stroke:#000000;stroke-width:2.0px;stroke-linecap:butt;stroke-linejoin:miter;stroke-opacity:1\"/>\n<path class=\"bond-15 atom-6 atom-9\" d=\"M 460.8,157.0 L 461.4,153.6\" style=\"fill:none;fill-rule:evenodd;stroke:#000000;stroke-width:2.0px;stroke-linecap:butt;stroke-linejoin:miter;stroke-opacity:1\"/>\n<path class=\"bond-15 atom-6 atom-9\" d=\"M 461.4,153.6 L 462.0,150.2\" style=\"fill:none;fill-rule:evenodd;stroke:#0000FF;stroke-width:2.0px;stroke-linecap:butt;stroke-linejoin:miter;stroke-opacity:1\"/>\n<path class=\"bond-16 atom-7 atom-10\" d=\"M 426.5,137.0 L 431.2,127.6\" style=\"fill:none;fill-rule:evenodd;stroke:#000000;stroke-width:2.0px;stroke-linecap:butt;stroke-linejoin:miter;stroke-opacity:1\"/>\n<path class=\"bond-17 atom-8 atom-11\" d=\"M 470.6,161.7 L 477.4,154.7\" style=\"fill:none;fill-rule:evenodd;stroke:#000000;stroke-width:2.0px;stroke-linecap:butt;stroke-linejoin:miter;stroke-opacity:1\"/>\n<path class=\"bond-18 atom-11 atom-48\" d=\"M 477.4,154.7 L 487.5,156.3\" style=\"fill:none;fill-rule:evenodd;stroke:#000000;stroke-width:2.0px;stroke-linecap:butt;stroke-linejoin:miter;stroke-opacity:1\"/>\n<path class=\"bond-19 atom-11 atom-12\" d=\"M 477.4,154.7 L 472.6,145.0\" style=\"fill:none;fill-rule:evenodd;stroke:#000000;stroke-width:2.0px;stroke-linecap:butt;stroke-linejoin:miter;stroke-opacity:1\"/>\n<path class=\"bond-19 atom-11 atom-12\" d=\"M 475.6,154.4 L 471.8,146.7\" style=\"fill:none;fill-rule:evenodd;stroke:#000000;stroke-width:2.0px;stroke-linecap:butt;stroke-linejoin:miter;stroke-opacity:1\"/>\n<path class=\"bond-20 atom-9 atom-12\" d=\"M 464.8,146.7 L 468.7,145.8\" style=\"fill:none;fill-rule:evenodd;stroke:#0000FF;stroke-width:2.0px;stroke-linecap:butt;stroke-linejoin:miter;stroke-opacity:1\"/>\n<path class=\"bond-20 atom-9 atom-12\" d=\"M 468.7,145.8 L 472.6,145.0\" style=\"fill:none;fill-rule:evenodd;stroke:#000000;stroke-width:2.0px;stroke-linecap:butt;stroke-linejoin:miter;stroke-opacity:1\"/>\n<path class=\"bond-21 atom-10 atom-13\" d=\"M 431.2,127.6 L 426.7,118.9\" style=\"fill:none;fill-rule:evenodd;stroke:#000000;stroke-width:2.0px;stroke-linecap:butt;stroke-linejoin:miter;stroke-opacity:1\"/>\n<path class=\"bond-21 atom-10 atom-13\" d=\"M 432.0,125.9 L 428.6,119.2\" style=\"fill:none;fill-rule:evenodd;stroke:#000000;stroke-width:2.0px;stroke-linecap:butt;stroke-linejoin:miter;stroke-opacity:1\"/>\n<path class=\"bond-22 atom-13 atom-32\" d=\"M 426.7,118.9 L 416.7,117.4\" style=\"fill:none;fill-rule:evenodd;stroke:#000000;stroke-width:2.0px;stroke-linecap:butt;stroke-linejoin:miter;stroke-opacity:1\"/>\n<path class=\"bond-23 atom-10 atom-14\" d=\"M 431.2,127.6 L 434.9,126.9\" style=\"fill:none;fill-rule:evenodd;stroke:#000000;stroke-width:2.0px;stroke-linecap:butt;stroke-linejoin:miter;stroke-opacity:1\"/>\n<path class=\"bond-23 atom-10 atom-14\" d=\"M 434.9,126.9 L 438.6,126.1\" style=\"fill:none;fill-rule:evenodd;stroke:#0000FF;stroke-width:2.0px;stroke-linecap:butt;stroke-linejoin:miter;stroke-opacity:1\"/>\n<path class=\"bond-24 atom-12 atom-15\" d=\"M 472.6,145.0 L 477.2,136.2\" style=\"fill:none;fill-rule:evenodd;stroke:#000000;stroke-width:2.0px;stroke-linecap:butt;stroke-linejoin:miter;stroke-opacity:1\"/>\n<path class=\"bond-25 atom-13 atom-16\" d=\"M 426.7,118.9 L 433.9,111.6\" style=\"fill:none;fill-rule:evenodd;stroke:#000000;stroke-width:2.0px;stroke-linecap:butt;stroke-linejoin:miter;stroke-opacity:1\"/>\n<path class=\"bond-26 atom-16 atom-56\" d=\"M 433.9,111.6 L 432.1,101.6\" style=\"fill:none;fill-rule:evenodd;stroke:#000000;stroke-width:2.0px;stroke-linecap:butt;stroke-linejoin:miter;stroke-opacity:1\"/>\n<path class=\"bond-27 atom-16 atom-17\" d=\"M 433.9,111.6 L 443.0,115.9\" style=\"fill:none;fill-rule:evenodd;stroke:#000000;stroke-width:2.0px;stroke-linecap:butt;stroke-linejoin:miter;stroke-opacity:1\"/>\n<path class=\"bond-27 atom-16 atom-17\" d=\"M 434.3,113.5 L 441.3,116.8\" style=\"fill:none;fill-rule:evenodd;stroke:#000000;stroke-width:2.0px;stroke-linecap:butt;stroke-linejoin:miter;stroke-opacity:1\"/>\n<path class=\"bond-28 atom-14 atom-17\" d=\"M 441.6,122.7 L 442.3,119.3\" style=\"fill:none;fill-rule:evenodd;stroke:#0000FF;stroke-width:2.0px;stroke-linecap:butt;stroke-linejoin:miter;stroke-opacity:1\"/>\n<path class=\"bond-28 atom-14 atom-17\" d=\"M 442.3,119.3 L 443.0,115.9\" style=\"fill:none;fill-rule:evenodd;stroke:#000000;stroke-width:2.0px;stroke-linecap:butt;stroke-linejoin:miter;stroke-opacity:1\"/>\n<path class=\"bond-29 atom-18 atom-20\" d=\"M 472.1,127.2 L 477.1,117.8\" style=\"fill:none;fill-rule:evenodd;stroke:#000000;stroke-width:2.0px;stroke-linecap:butt;stroke-linejoin:miter;stroke-opacity:1\"/>\n<path class=\"bond-29 atom-18 atom-20\" d=\"M 471.2,125.6 L 475.2,118.1\" style=\"fill:none;fill-rule:evenodd;stroke:#000000;stroke-width:2.0px;stroke-linecap:butt;stroke-linejoin:miter;stroke-opacity:1\"/>\n<path class=\"bond-30 atom-15 atom-18\" d=\"M 477.2,136.2 L 472.1,127.2\" style=\"fill:none;fill-rule:evenodd;stroke:#000000;stroke-width:2.0px;stroke-linecap:butt;stroke-linejoin:miter;stroke-opacity:1\"/>\n<path class=\"bond-31 atom-17 atom-19\" d=\"M 443.0,115.9 L 452.0,111.1\" style=\"fill:none;fill-rule:evenodd;stroke:#000000;stroke-width:2.0px;stroke-linecap:butt;stroke-linejoin:miter;stroke-opacity:1\"/>\n<path class=\"bond-32 atom-18 atom-21\" d=\"M 472.1,127.2 L 468.5,126.7\" style=\"fill:none;fill-rule:evenodd;stroke:#000000;stroke-width:2.0px;stroke-linecap:butt;stroke-linejoin:miter;stroke-opacity:1\"/>\n<path class=\"bond-32 atom-18 atom-21\" d=\"M 468.5,126.7 L 465.0,126.2\" style=\"fill:none;fill-rule:evenodd;stroke:#0000FF;stroke-width:2.0px;stroke-linecap:butt;stroke-linejoin:miter;stroke-opacity:1\"/>\n<path class=\"bond-33 atom-22 atom-23\" d=\"M 460.8,115.7 L 470.1,110.9\" style=\"fill:none;fill-rule:evenodd;stroke:#000000;stroke-width:2.0px;stroke-linecap:butt;stroke-linejoin:miter;stroke-opacity:1\"/>\n<path class=\"bond-33 atom-22 atom-23\" d=\"M 462.5,116.6 L 469.9,112.8\" style=\"fill:none;fill-rule:evenodd;stroke:#000000;stroke-width:2.0px;stroke-linecap:butt;stroke-linejoin:miter;stroke-opacity:1\"/>\n<path class=\"bond-34 atom-21 atom-22\" d=\"M 462.1,122.9 L 461.4,119.3\" style=\"fill:none;fill-rule:evenodd;stroke:#0000FF;stroke-width:2.0px;stroke-linecap:butt;stroke-linejoin:miter;stroke-opacity:1\"/>\n<path class=\"bond-34 atom-21 atom-22\" d=\"M 461.4,119.3 L 460.8,115.7\" style=\"fill:none;fill-rule:evenodd;stroke:#000000;stroke-width:2.0px;stroke-linecap:butt;stroke-linejoin:miter;stroke-opacity:1\"/>\n<path class=\"bond-35 atom-19 atom-22\" d=\"M 452.0,111.1 L 460.8,115.7\" style=\"fill:none;fill-rule:evenodd;stroke:#000000;stroke-width:2.0px;stroke-linecap:butt;stroke-linejoin:miter;stroke-opacity:1\"/>\n<path class=\"bond-36 atom-24 atom-26\" d=\"M 432.2,172.1 L 422.8,175.9\" style=\"fill:none;fill-rule:evenodd;stroke:#000000;stroke-width:2.0px;stroke-linecap:butt;stroke-linejoin:miter;stroke-opacity:1\"/>\n<path class=\"bond-37 atom-26 atom-27\" d=\"M 422.8,175.9 L 421.4,186.1\" style=\"fill:none;fill-rule:evenodd;stroke:#000000;stroke-width:2.0px;stroke-linecap:butt;stroke-linejoin:miter;stroke-opacity:1\"/>\n<path class=\"bond-38 atom-27 atom-29\" d=\"M 421.4,186.1 L 424.1,188.1\" style=\"fill:none;fill-rule:evenodd;stroke:#000000;stroke-width:2.0px;stroke-linecap:butt;stroke-linejoin:miter;stroke-opacity:1\"/>\n<path class=\"bond-38 atom-27 atom-29\" d=\"M 424.1,188.1 L 426.7,190.2\" style=\"fill:none;fill-rule:evenodd;stroke:#FF0000;stroke-width:2.0px;stroke-linecap:butt;stroke-linejoin:miter;stroke-opacity:1\"/>\n<path class=\"bond-39 atom-27 atom-30\" d=\"M 421.5,185.2 L 418.0,186.6\" style=\"fill:none;fill-rule:evenodd;stroke:#000000;stroke-width:2.0px;stroke-linecap:butt;stroke-linejoin:miter;stroke-opacity:1\"/>\n<path class=\"bond-39 atom-27 atom-30\" d=\"M 418.0,186.6 L 414.4,188.1\" style=\"fill:none;fill-rule:evenodd;stroke:#FF0000;stroke-width:2.0px;stroke-linecap:butt;stroke-linejoin:miter;stroke-opacity:1\"/>\n<path class=\"bond-39 atom-27 atom-30\" d=\"M 422.1,186.6 L 418.5,188.0\" style=\"fill:none;fill-rule:evenodd;stroke:#000000;stroke-width:2.0px;stroke-linecap:butt;stroke-linejoin:miter;stroke-opacity:1\"/>\n<path class=\"bond-39 atom-27 atom-30\" d=\"M 418.5,188.0 L 415.0,189.5\" style=\"fill:none;fill-rule:evenodd;stroke:#FF0000;stroke-width:2.0px;stroke-linecap:butt;stroke-linejoin:miter;stroke-opacity:1\"/>\n<path class=\"bond-40 atom-28 atom-31\" d=\"M 472.4,171.7 L 464.6,178.3\" style=\"fill:none;fill-rule:evenodd;stroke:#000000;stroke-width:2.0px;stroke-linecap:butt;stroke-linejoin:miter;stroke-opacity:1\"/>\n<path class=\"bond-41 atom-31 atom-33\" d=\"M 464.6,178.3 L 466.4,188.3\" style=\"fill:none;fill-rule:evenodd;stroke:#000000;stroke-width:2.0px;stroke-linecap:butt;stroke-linejoin:miter;stroke-opacity:1\"/>\n<path class=\"bond-42 atom-32 atom-34\" d=\"M 416.7,117.4 L 410.3,125.4\" style=\"fill:none;fill-rule:evenodd;stroke:#000000;stroke-width:2.0px;stroke-linecap:butt;stroke-linejoin:miter;stroke-opacity:1\"/>\n<path class=\"bond-43 atom-33 atom-35\" d=\"M 466.4,188.3 L 469.8,189.6\" style=\"fill:none;fill-rule:evenodd;stroke:#000000;stroke-width:2.0px;stroke-linecap:butt;stroke-linejoin:miter;stroke-opacity:1\"/>\n<path class=\"bond-43 atom-33 atom-35\" d=\"M 469.8,189.6 L 473.2,190.8\" style=\"fill:none;fill-rule:evenodd;stroke:#FF0000;stroke-width:2.0px;stroke-linecap:butt;stroke-linejoin:miter;stroke-opacity:1\"/>\n<path class=\"bond-44 atom-33 atom-36\" d=\"M 466.2,187.5 L 463.5,189.7\" style=\"fill:none;fill-rule:evenodd;stroke:#000000;stroke-width:2.0px;stroke-linecap:butt;stroke-linejoin:miter;stroke-opacity:1\"/>\n<path class=\"bond-44 atom-33 atom-36\" d=\"M 463.5,189.7 L 460.8,192.0\" style=\"fill:none;fill-rule:evenodd;stroke:#FF0000;stroke-width:2.0px;stroke-linecap:butt;stroke-linejoin:miter;stroke-opacity:1\"/>\n<path class=\"bond-44 atom-33 atom-36\" d=\"M 467.2,188.6 L 464.5,190.9\" style=\"fill:none;fill-rule:evenodd;stroke:#000000;stroke-width:2.0px;stroke-linecap:butt;stroke-linejoin:miter;stroke-opacity:1\"/>\n<path class=\"bond-44 atom-33 atom-36\" d=\"M 464.5,190.9 L 461.8,193.2\" style=\"fill:none;fill-rule:evenodd;stroke:#FF0000;stroke-width:2.0px;stroke-linecap:butt;stroke-linejoin:miter;stroke-opacity:1\"/>\n<path class=\"bond-45 atom-34 atom-37\" d=\"M 410.3,125.4 L 400.2,123.8\" style=\"fill:none;fill-rule:evenodd;stroke:#000000;stroke-width:2.0px;stroke-linecap:butt;stroke-linejoin:miter;stroke-opacity:1\"/>\n<path class=\"bond-46 atom-37 atom-38\" d=\"M 400.2,123.8 L 398.9,120.6\" style=\"fill:none;fill-rule:evenodd;stroke:#000000;stroke-width:2.0px;stroke-linecap:butt;stroke-linejoin:miter;stroke-opacity:1\"/>\n<path class=\"bond-46 atom-37 atom-38\" d=\"M 398.9,120.6 L 397.7,117.4\" style=\"fill:none;fill-rule:evenodd;stroke:#FF0000;stroke-width:2.0px;stroke-linecap:butt;stroke-linejoin:miter;stroke-opacity:1\"/>\n<path class=\"bond-47 atom-37 atom-39\" d=\"M 399.9,123.0 L 397.7,125.6\" style=\"fill:none;fill-rule:evenodd;stroke:#000000;stroke-width:2.0px;stroke-linecap:butt;stroke-linejoin:miter;stroke-opacity:1\"/>\n<path class=\"bond-47 atom-37 atom-39\" d=\"M 397.7,125.6 L 395.6,128.3\" style=\"fill:none;fill-rule:evenodd;stroke:#FF0000;stroke-width:2.0px;stroke-linecap:butt;stroke-linejoin:miter;stroke-opacity:1\"/>\n<path class=\"bond-47 atom-37 atom-39\" d=\"M 401.0,123.9 L 398.9,126.6\" style=\"fill:none;fill-rule:evenodd;stroke:#000000;stroke-width:2.0px;stroke-linecap:butt;stroke-linejoin:miter;stroke-opacity:1\"/>\n<path class=\"bond-47 atom-37 atom-39\" d=\"M 398.9,126.6 L 396.8,129.3\" style=\"fill:none;fill-rule:evenodd;stroke:#FF0000;stroke-width:2.0px;stroke-linecap:butt;stroke-linejoin:miter;stroke-opacity:1\"/>\n<path class=\"bond-48 atom-40 atom-41\" d=\"M 471.7,100.9 L 463.7,94.5\" style=\"fill:none;fill-rule:evenodd;stroke:#000000;stroke-width:2.0px;stroke-linecap:butt;stroke-linejoin:miter;stroke-opacity:1\"/>\n<path class=\"bond-49 atom-41 atom-42\" d=\"M 463.7,94.5 L 465.3,84.4\" style=\"fill:none;fill-rule:evenodd;stroke:#000000;stroke-width:2.0px;stroke-linecap:butt;stroke-linejoin:miter;stroke-opacity:1\"/>\n<path class=\"bond-50 atom-42 atom-43\" d=\"M 465.3,84.4 L 468.7,83.1\" style=\"fill:none;fill-rule:evenodd;stroke:#000000;stroke-width:2.0px;stroke-linecap:butt;stroke-linejoin:miter;stroke-opacity:1\"/>\n<path class=\"bond-50 atom-42 atom-43\" d=\"M 468.7,83.1 L 472.0,81.7\" style=\"fill:none;fill-rule:evenodd;stroke:#FF0000;stroke-width:2.0px;stroke-linecap:butt;stroke-linejoin:miter;stroke-opacity:1\"/>\n<path class=\"bond-51 atom-42 atom-44\" d=\"M 466.1,84.1 L 463.3,81.8\" style=\"fill:none;fill-rule:evenodd;stroke:#000000;stroke-width:2.0px;stroke-linecap:butt;stroke-linejoin:miter;stroke-opacity:1\"/>\n<path class=\"bond-51 atom-42 atom-44\" d=\"M 463.3,81.8 L 460.5,79.6\" style=\"fill:none;fill-rule:evenodd;stroke:#FF0000;stroke-width:2.0px;stroke-linecap:butt;stroke-linejoin:miter;stroke-opacity:1\"/>\n<path class=\"bond-51 atom-42 atom-44\" d=\"M 465.1,85.3 L 462.4,83.0\" style=\"fill:none;fill-rule:evenodd;stroke:#000000;stroke-width:2.0px;stroke-linecap:butt;stroke-linejoin:miter;stroke-opacity:1\"/>\n<path class=\"bond-51 atom-42 atom-44\" d=\"M 462.4,83.0 L 459.6,80.8\" style=\"fill:none;fill-rule:evenodd;stroke:#FF0000;stroke-width:2.0px;stroke-linecap:butt;stroke-linejoin:miter;stroke-opacity:1\"/>\n<path class=\"bond-52 atom-25 atom-45\" d=\"M 416.6,156.9 L 410.1,149.0\" style=\"fill:none;fill-rule:evenodd;stroke:#000000;stroke-width:2.0px;stroke-linecap:butt;stroke-linejoin:miter;stroke-opacity:1\"/>\n<path class=\"bond-53 atom-45 atom-46\" d=\"M 410.1,149.0 L 406.5,149.7\" style=\"fill:none;fill-rule:evenodd;stroke:#000000;stroke-width:2.0px;stroke-linecap:butt;stroke-linejoin:miter;stroke-opacity:1\"/>\n<path class=\"bond-53 atom-45 atom-46\" d=\"M 406.5,149.7 L 402.8,150.3\" style=\"fill:none;fill-rule:evenodd;stroke:#FF0000;stroke-width:2.0px;stroke-linecap:butt;stroke-linejoin:miter;stroke-opacity:1\"/>\n<path class=\"bond-54 atom-45 atom-47\" d=\"M 410.7,149.7 L 412.0,146.3\" style=\"fill:none;fill-rule:evenodd;stroke:#000000;stroke-width:2.0px;stroke-linecap:butt;stroke-linejoin:miter;stroke-opacity:1\"/>\n<path class=\"bond-54 atom-45 atom-47\" d=\"M 412.0,146.3 L 413.2,142.8\" style=\"fill:none;fill-rule:evenodd;stroke:#FF0000;stroke-width:2.0px;stroke-linecap:butt;stroke-linejoin:miter;stroke-opacity:1\"/>\n<path class=\"bond-54 atom-45 atom-47\" d=\"M 409.2,149.2 L 410.5,145.7\" style=\"fill:none;fill-rule:evenodd;stroke:#000000;stroke-width:2.0px;stroke-linecap:butt;stroke-linejoin:miter;stroke-opacity:1\"/>\n<path class=\"bond-54 atom-45 atom-47\" d=\"M 410.5,145.7 L 411.8,142.3\" style=\"fill:none;fill-rule:evenodd;stroke:#FF0000;stroke-width:2.0px;stroke-linecap:butt;stroke-linejoin:miter;stroke-opacity:1\"/>\n<path class=\"bond-55 atom-48 atom-49\" d=\"M 487.5,156.3 L 491.1,165.9\" style=\"fill:none;fill-rule:evenodd;stroke:#000000;stroke-width:2.0px;stroke-linecap:butt;stroke-linejoin:miter;stroke-opacity:1\"/>\n<path class=\"bond-56 atom-49 atom-50\" d=\"M 491.1,165.9 L 494.8,166.5\" style=\"fill:none;fill-rule:evenodd;stroke:#000000;stroke-width:2.0px;stroke-linecap:butt;stroke-linejoin:miter;stroke-opacity:1\"/>\n<path class=\"bond-56 atom-49 atom-50\" d=\"M 494.8,166.5 L 498.5,167.1\" style=\"fill:none;fill-rule:evenodd;stroke:#FF0000;stroke-width:2.0px;stroke-linecap:butt;stroke-linejoin:miter;stroke-opacity:1\"/>\n<path class=\"bond-57 atom-49 atom-51\" d=\"M 490.8,165.1 L 488.7,167.7\" style=\"fill:none;fill-rule:evenodd;stroke:#000000;stroke-width:2.0px;stroke-linecap:butt;stroke-linejoin:miter;stroke-opacity:1\"/>\n<path class=\"bond-57 atom-49 atom-51\" d=\"M 488.7,167.7 L 486.5,170.3\" style=\"fill:none;fill-rule:evenodd;stroke:#FF0000;stroke-width:2.0px;stroke-linecap:butt;stroke-linejoin:miter;stroke-opacity:1\"/>\n<path class=\"bond-57 atom-49 atom-51\" d=\"M 492.0,166.0 L 489.8,168.7\" style=\"fill:none;fill-rule:evenodd;stroke:#000000;stroke-width:2.0px;stroke-linecap:butt;stroke-linejoin:miter;stroke-opacity:1\"/>\n<path class=\"bond-57 atom-49 atom-51\" d=\"M 489.8,168.7 L 487.7,171.3\" style=\"fill:none;fill-rule:evenodd;stroke:#FF0000;stroke-width:2.0px;stroke-linecap:butt;stroke-linejoin:miter;stroke-opacity:1\"/>\n<path class=\"bond-58 atom-52 atom-53\" d=\"M 487.2,116.2 L 493.6,124.1\" style=\"fill:none;fill-rule:evenodd;stroke:#000000;stroke-width:2.0px;stroke-linecap:butt;stroke-linejoin:miter;stroke-opacity:1\"/>\n<path class=\"bond-59 atom-53 atom-54\" d=\"M 493.6,124.1 L 497.2,123.6\" style=\"fill:none;fill-rule:evenodd;stroke:#000000;stroke-width:2.0px;stroke-linecap:butt;stroke-linejoin:miter;stroke-opacity:1\"/>\n<path class=\"bond-59 atom-53 atom-54\" d=\"M 497.2,123.6 L 500.9,123.0\" style=\"fill:none;fill-rule:evenodd;stroke:#FF0000;stroke-width:2.0px;stroke-linecap:butt;stroke-linejoin:miter;stroke-opacity:1\"/>\n<path class=\"bond-60 atom-53 atom-55\" d=\"M 493.0,123.5 L 491.7,126.9\" style=\"fill:none;fill-rule:evenodd;stroke:#000000;stroke-width:2.0px;stroke-linecap:butt;stroke-linejoin:miter;stroke-opacity:1\"/>\n<path class=\"bond-60 atom-53 atom-55\" d=\"M 491.7,126.9 L 490.3,130.4\" style=\"fill:none;fill-rule:evenodd;stroke:#FF0000;stroke-width:2.0px;stroke-linecap:butt;stroke-linejoin:miter;stroke-opacity:1\"/>\n<path class=\"bond-60 atom-53 atom-55\" d=\"M 494.4,124.0 L 493.1,127.5\" style=\"fill:none;fill-rule:evenodd;stroke:#000000;stroke-width:2.0px;stroke-linecap:butt;stroke-linejoin:miter;stroke-opacity:1\"/>\n<path class=\"bond-60 atom-53 atom-55\" d=\"M 493.1,127.5 L 491.8,131.0\" style=\"fill:none;fill-rule:evenodd;stroke:#FF0000;stroke-width:2.0px;stroke-linecap:butt;stroke-linejoin:miter;stroke-opacity:1\"/>\n<path class=\"bond-61 atom-56 atom-57\" d=\"M 432.1,101.6 L 439.9,95.0\" style=\"fill:none;fill-rule:evenodd;stroke:#000000;stroke-width:2.0px;stroke-linecap:butt;stroke-linejoin:miter;stroke-opacity:1\"/>\n<path class=\"bond-62 atom-57 atom-58\" d=\"M 440.7,95.3 L 440.1,91.6\" style=\"fill:none;fill-rule:evenodd;stroke:#000000;stroke-width:2.0px;stroke-linecap:butt;stroke-linejoin:miter;stroke-opacity:1\"/>\n<path class=\"bond-62 atom-57 atom-58\" d=\"M 440.1,91.6 L 439.4,87.9\" style=\"fill:none;fill-rule:evenodd;stroke:#FF0000;stroke-width:2.0px;stroke-linecap:butt;stroke-linejoin:miter;stroke-opacity:1\"/>\n<path class=\"bond-62 atom-57 atom-58\" d=\"M 439.2,95.6 L 438.6,91.9\" style=\"fill:none;fill-rule:evenodd;stroke:#000000;stroke-width:2.0px;stroke-linecap:butt;stroke-linejoin:miter;stroke-opacity:1\"/>\n<path class=\"bond-62 atom-57 atom-58\" d=\"M 438.6,91.9 L 437.9,88.2\" style=\"fill:none;fill-rule:evenodd;stroke:#FF0000;stroke-width:2.0px;stroke-linecap:butt;stroke-linejoin:miter;stroke-opacity:1\"/>\n<path class=\"bond-63 atom-57 atom-59\" d=\"M 439.9,95.0 L 443.3,96.2\" style=\"fill:none;fill-rule:evenodd;stroke:#000000;stroke-width:2.0px;stroke-linecap:butt;stroke-linejoin:miter;stroke-opacity:1\"/>\n<path class=\"bond-63 atom-57 atom-59\" d=\"M 443.3,96.2 L 446.8,97.5\" style=\"fill:none;fill-rule:evenodd;stroke:#FF0000;stroke-width:2.0px;stroke-linecap:butt;stroke-linejoin:miter;stroke-opacity:1\"/>\n<path d=\"M 451.7,161.6 L 452.1,161.8 L 452.5,161.6\" style=\"fill:none;stroke:#000000;stroke-width:2.0px;stroke-linecap:butt;stroke-linejoin:miter;stroke-opacity:1;\"/>\n<path d=\"M 426.8,137.5 L 426.5,137.0 L 426.8,136.6\" style=\"fill:none;stroke:#000000;stroke-width:2.0px;stroke-linecap:butt;stroke-linejoin:miter;stroke-opacity:1;\"/>\n<path d=\"M 477.0,136.7 L 477.2,136.2 L 477.0,135.8\" style=\"fill:none;stroke:#000000;stroke-width:2.0px;stroke-linecap:butt;stroke-linejoin:miter;stroke-opacity:1;\"/>\n<path d=\"M 451.6,111.3 L 452.0,111.1 L 452.5,111.3\" style=\"fill:none;stroke:#000000;stroke-width:2.0px;stroke-linecap:butt;stroke-linejoin:miter;stroke-opacity:1;\"/>\n<path d=\"M 432.3,171.6 L 432.2,172.1 L 431.8,172.3\" style=\"fill:none;stroke:#000000;stroke-width:2.0px;stroke-linecap:butt;stroke-linejoin:miter;stroke-opacity:1;\"/>\n<path d=\"M 417.1,156.8 L 416.6,156.9 L 416.3,156.5\" style=\"fill:none;stroke:#000000;stroke-width:2.0px;stroke-linecap:butt;stroke-linejoin:miter;stroke-opacity:1;\"/>\n<path d=\"M 423.3,175.8 L 422.8,175.9 L 422.7,176.4\" style=\"fill:none;stroke:#000000;stroke-width:2.0px;stroke-linecap:butt;stroke-linejoin:miter;stroke-opacity:1;\"/>\n<path d=\"M 421.5,185.6 L 421.4,186.1 L 421.5,186.2\" style=\"fill:none;stroke:#000000;stroke-width:2.0px;stroke-linecap:butt;stroke-linejoin:miter;stroke-opacity:1;\"/>\n<path d=\"M 472.3,171.2 L 472.4,171.7 L 472.0,172.0\" style=\"fill:none;stroke:#000000;stroke-width:2.0px;stroke-linecap:butt;stroke-linejoin:miter;stroke-opacity:1;\"/>\n<path d=\"M 465.0,178.0 L 464.6,178.3 L 464.7,178.8\" style=\"fill:none;stroke:#000000;stroke-width:2.0px;stroke-linecap:butt;stroke-linejoin:miter;stroke-opacity:1;\"/>\n<path d=\"M 417.2,117.5 L 416.7,117.4 L 416.3,117.8\" style=\"fill:none;stroke:#000000;stroke-width:2.0px;stroke-linecap:butt;stroke-linejoin:miter;stroke-opacity:1;\"/>\n<path d=\"M 466.3,187.8 L 466.4,188.3 L 466.6,188.4\" style=\"fill:none;stroke:#000000;stroke-width:2.0px;stroke-linecap:butt;stroke-linejoin:miter;stroke-opacity:1;\"/>\n<path d=\"M 410.6,125.0 L 410.3,125.4 L 409.8,125.3\" style=\"fill:none;stroke:#000000;stroke-width:2.0px;stroke-linecap:butt;stroke-linejoin:miter;stroke-opacity:1;\"/>\n<path d=\"M 400.7,123.9 L 400.2,123.8 L 400.1,123.6\" style=\"fill:none;stroke:#000000;stroke-width:2.0px;stroke-linecap:butt;stroke-linejoin:miter;stroke-opacity:1;\"/>\n<path d=\"M 471.6,101.4 L 471.7,100.9 L 471.3,100.5\" style=\"fill:none;stroke:#000000;stroke-width:2.0px;stroke-linecap:butt;stroke-linejoin:miter;stroke-opacity:1;\"/>\n<path d=\"M 464.1,94.8 L 463.7,94.5 L 463.8,94.0\" style=\"fill:none;stroke:#000000;stroke-width:2.0px;stroke-linecap:butt;stroke-linejoin:miter;stroke-opacity:1;\"/>\n<path d=\"M 465.2,84.9 L 465.3,84.4 L 465.4,84.3\" style=\"fill:none;stroke:#000000;stroke-width:2.0px;stroke-linecap:butt;stroke-linejoin:miter;stroke-opacity:1;\"/>\n<path d=\"M 410.4,149.4 L 410.1,149.0 L 409.9,149.1\" style=\"fill:none;stroke:#000000;stroke-width:2.0px;stroke-linecap:butt;stroke-linejoin:miter;stroke-opacity:1;\"/>\n<path d=\"M 487.0,156.3 L 487.5,156.3 L 487.7,156.8\" style=\"fill:none;stroke:#000000;stroke-width:2.0px;stroke-linecap:butt;stroke-linejoin:miter;stroke-opacity:1;\"/>\n<path d=\"M 490.9,165.4 L 491.1,165.9 L 491.3,165.9\" style=\"fill:none;stroke:#000000;stroke-width:2.0px;stroke-linecap:butt;stroke-linejoin:miter;stroke-opacity:1;\"/>\n<path d=\"M 486.7,116.3 L 487.2,116.2 L 487.5,116.6\" style=\"fill:none;stroke:#000000;stroke-width:2.0px;stroke-linecap:butt;stroke-linejoin:miter;stroke-opacity:1;\"/>\n<path d=\"M 493.3,123.8 L 493.6,124.1 L 493.8,124.1\" style=\"fill:none;stroke:#000000;stroke-width:2.0px;stroke-linecap:butt;stroke-linejoin:miter;stroke-opacity:1;\"/>\n<path d=\"M 432.2,102.1 L 432.1,101.6 L 432.5,101.2\" style=\"fill:none;stroke:#000000;stroke-width:2.0px;stroke-linecap:butt;stroke-linejoin:miter;stroke-opacity:1;\"/>\n<path d=\"M 439.5,95.3 L 439.9,95.0 L 440.1,95.1\" style=\"fill:none;stroke:#000000;stroke-width:2.0px;stroke-linecap:butt;stroke-linejoin:miter;stroke-opacity:1;\"/>\n<path class=\"atom-2\" d=\"M 440.3 144.8 L 442.0 147.6 Q 442.2 147.9, 442.5 148.4 Q 442.8 148.8, 442.8 148.9 L 442.8 144.8 L 443.5 144.8 L 443.5 150.1 L 442.8 150.1 L 440.9 147.0 Q 440.7 146.7, 440.5 146.2 Q 440.2 145.8, 440.2 145.7 L 440.2 150.1 L 439.5 150.1 L 439.5 144.8 L 440.3 144.8 \" fill=\"#0000FF\"/>\n<path class=\"atom-2\" d=\"M 444.5 144.8 L 445.2 144.8 L 445.2 147.0 L 447.9 147.0 L 447.9 144.8 L 448.6 144.8 L 448.6 150.1 L 447.9 150.1 L 447.9 147.6 L 445.2 147.6 L 445.2 150.1 L 444.5 150.1 L 444.5 144.8 \" fill=\"#0000FF\"/>\n<path class=\"atom-9\" d=\"M 455.3 144.6 L 456.1 144.6 L 456.1 146.8 L 458.7 146.8 L 458.7 144.6 L 459.5 144.6 L 459.5 149.9 L 458.7 149.9 L 458.7 147.4 L 456.1 147.4 L 456.1 149.9 L 455.3 149.9 L 455.3 144.6 \" fill=\"#0000FF\"/>\n<path class=\"atom-9\" d=\"M 461.3 144.6 L 463.1 147.4 Q 463.2 147.7, 463.5 148.2 Q 463.8 148.7, 463.8 148.7 L 463.8 144.6 L 464.5 144.6 L 464.5 149.9 L 463.8 149.9 L 461.9 146.8 Q 461.7 146.5, 461.5 146.1 Q 461.2 145.7, 461.2 145.5 L 461.2 149.9 L 460.5 149.9 L 460.5 144.6 L 461.3 144.6 \" fill=\"#0000FF\"/>\n<path class=\"atom-14\" d=\"M 439.8 123.1 L 441.5 125.8 Q 441.7 126.1, 441.9 126.6 Q 442.2 127.1, 442.2 127.1 L 442.2 123.1 L 442.9 123.1 L 442.9 128.3 L 442.2 128.3 L 440.4 125.3 Q 440.1 124.9, 439.9 124.5 Q 439.7 124.1, 439.6 124.0 L 439.6 128.3 L 438.9 128.3 L 438.9 123.1 L 439.8 123.1 \" fill=\"#0000FF\"/>\n<path class=\"atom-14\" d=\"M 443.9 123.1 L 444.7 123.1 L 444.7 125.3 L 447.3 125.3 L 447.3 123.1 L 448.1 123.1 L 448.1 128.3 L 447.3 128.3 L 447.3 125.9 L 444.7 125.9 L 444.7 128.3 L 443.9 128.3 L 443.9 123.1 \" fill=\"#0000FF\"/>\n<path class=\"atom-21\" d=\"M 455.5 123.2 L 456.2 123.2 L 456.2 125.5 L 458.9 125.5 L 458.9 123.2 L 459.6 123.2 L 459.6 128.5 L 458.9 128.5 L 458.9 126.1 L 456.2 126.1 L 456.2 128.5 L 455.5 128.5 L 455.5 123.2 \" fill=\"#0000FF\"/>\n<path class=\"atom-21\" d=\"M 461.5 123.2 L 463.2 126.0 Q 463.4 126.3, 463.7 126.8 Q 463.9 127.3, 464.0 127.3 L 464.0 123.2 L 464.7 123.2 L 464.7 128.5 L 463.9 128.5 L 462.1 125.4 Q 461.9 125.1, 461.6 124.7 Q 461.4 124.3, 461.4 124.2 L 461.4 128.5 L 460.7 128.5 L 460.7 123.2 L 461.5 123.2 \" fill=\"#0000FF\"/>\n<path class=\"atom-29\" d=\"M 427.0 192.3 Q 427.0 191.1, 427.7 190.4 Q 428.3 189.7, 429.5 189.7 Q 430.6 189.7, 431.2 190.4 Q 431.9 191.1, 431.9 192.3 Q 431.9 193.6, 431.2 194.3 Q 430.6 195.1, 429.5 195.1 Q 428.3 195.1, 427.7 194.3 Q 427.0 193.6, 427.0 192.3 M 429.5 194.5 Q 430.3 194.5, 430.7 193.9 Q 431.1 193.4, 431.1 192.3 Q 431.1 191.3, 430.7 190.8 Q 430.3 190.3, 429.5 190.3 Q 428.7 190.3, 428.2 190.8 Q 427.8 191.3, 427.8 192.3 Q 427.8 193.4, 428.2 193.9 Q 428.7 194.5, 429.5 194.5 \" fill=\"#FF0000\"/>\n<path class=\"atom-29\" d=\"M 432.6 190.5 L 434.4 190.5 L 434.4 190.9 L 432.6 190.9 L 432.6 190.5 \" fill=\"#FF0000\"/>\n<path class=\"atom-30\" d=\"M 409.5 189.9 Q 409.5 188.7, 410.2 188.0 Q 410.8 187.2, 411.9 187.2 Q 413.1 187.2, 413.7 188.0 Q 414.4 188.7, 414.4 189.9 Q 414.4 191.2, 413.7 191.9 Q 413.1 192.6, 411.9 192.6 Q 410.8 192.6, 410.2 191.9 Q 409.5 191.2, 409.5 189.9 M 411.9 192.0 Q 412.7 192.0, 413.2 191.5 Q 413.6 191.0, 413.6 189.9 Q 413.6 188.9, 413.2 188.4 Q 412.7 187.8, 411.9 187.8 Q 411.1 187.8, 410.7 188.4 Q 410.3 188.9, 410.3 189.9 Q 410.3 191.0, 410.7 191.5 Q 411.1 192.0, 411.9 192.0 \" fill=\"#FF0000\"/>\n<path class=\"atom-35\" d=\"M 473.6 191.8 Q 473.6 190.6, 474.2 189.9 Q 474.8 189.1, 476.0 189.1 Q 477.1 189.1, 477.8 189.9 Q 478.4 190.6, 478.4 191.8 Q 478.4 193.1, 477.8 193.8 Q 477.1 194.5, 476.0 194.5 Q 474.8 194.5, 474.2 193.8 Q 473.6 193.1, 473.6 191.8 M 476.0 194.0 Q 476.8 194.0, 477.2 193.4 Q 477.7 192.9, 477.7 191.8 Q 477.7 190.8, 477.2 190.3 Q 476.8 189.7, 476.0 189.7 Q 475.2 189.7, 474.7 190.3 Q 474.3 190.8, 474.3 191.8 Q 474.3 192.9, 474.7 193.4 Q 475.2 194.0, 476.0 194.0 \" fill=\"#FF0000\"/>\n<path class=\"atom-35\" d=\"M 479.1 190.0 L 480.9 190.0 L 480.9 190.4 L 479.1 190.4 L 479.1 190.0 \" fill=\"#FF0000\"/>\n<path class=\"atom-36\" d=\"M 456.2 194.9 Q 456.2 193.7, 456.8 193.0 Q 457.4 192.3, 458.6 192.3 Q 459.7 192.3, 460.4 193.0 Q 461.0 193.7, 461.0 194.9 Q 461.0 196.2, 460.4 196.9 Q 459.7 197.7, 458.6 197.7 Q 457.4 197.7, 456.8 196.9 Q 456.2 196.2, 456.2 194.9 M 458.6 197.1 Q 459.4 197.1, 459.8 196.5 Q 460.2 196.0, 460.2 194.9 Q 460.2 193.9, 459.8 193.4 Q 459.4 192.9, 458.6 192.9 Q 457.8 192.9, 457.3 193.4 Q 456.9 193.9, 456.9 194.9 Q 456.9 196.0, 457.3 196.5 Q 457.8 197.1, 458.6 197.1 \" fill=\"#FF0000\"/>\n<path class=\"atom-38\" d=\"M 394.1 114.3 Q 394.1 113.0, 394.7 112.3 Q 395.3 111.6, 396.5 111.6 Q 397.6 111.6, 398.3 112.3 Q 398.9 113.0, 398.9 114.3 Q 398.9 115.6, 398.3 116.3 Q 397.6 117.0, 396.5 117.0 Q 395.3 117.0, 394.7 116.3 Q 394.1 115.6, 394.1 114.3 M 396.5 116.4 Q 397.3 116.4, 397.7 115.9 Q 398.1 115.4, 398.1 114.3 Q 398.1 113.3, 397.7 112.8 Q 397.3 112.2, 396.5 112.2 Q 395.7 112.2, 395.2 112.8 Q 394.8 113.3, 394.8 114.3 Q 394.8 115.4, 395.2 115.9 Q 395.7 116.4, 396.5 116.4 \" fill=\"#FF0000\"/>\n<path class=\"atom-38\" d=\"M 399.6 112.5 L 401.4 112.5 L 401.4 112.9 L 399.6 112.9 L 399.6 112.5 \" fill=\"#FF0000\"/>\n<path class=\"atom-39\" d=\"M 391.4 131.8 Q 391.4 130.5, 392.0 129.8 Q 392.6 129.1, 393.8 129.1 Q 395.0 129.1, 395.6 129.8 Q 396.2 130.5, 396.2 131.8 Q 396.2 133.1, 395.6 133.8 Q 394.9 134.5, 393.8 134.5 Q 392.6 134.5, 392.0 133.8 Q 391.4 133.1, 391.4 131.8 M 393.8 133.9 Q 394.6 133.9, 395.0 133.4 Q 395.5 132.8, 395.5 131.8 Q 395.5 130.8, 395.0 130.2 Q 394.6 129.7, 393.8 129.7 Q 393.0 129.7, 392.6 130.2 Q 392.1 130.7, 392.1 131.8 Q 392.1 132.8, 392.6 133.4 Q 393.0 133.9, 393.8 133.9 \" fill=\"#FF0000\"/>\n<path class=\"atom-43\" d=\"M 472.4 80.7 Q 472.4 79.4, 473.0 78.7 Q 473.6 78.0, 474.8 78.0 Q 476.0 78.0, 476.6 78.7 Q 477.2 79.4, 477.2 80.7 Q 477.2 82.0, 476.6 82.7 Q 475.9 83.4, 474.8 83.4 Q 473.6 83.4, 473.0 82.7 Q 472.4 82.0, 472.4 80.7 M 474.8 82.8 Q 475.6 82.8, 476.0 82.3 Q 476.5 81.7, 476.5 80.7 Q 476.5 79.7, 476.0 79.1 Q 475.6 78.6, 474.8 78.6 Q 474.0 78.6, 473.5 79.1 Q 473.1 79.7, 473.1 80.7 Q 473.1 81.8, 473.5 82.3 Q 474.0 82.8, 474.8 82.8 \" fill=\"#FF0000\"/>\n<path class=\"atom-43\" d=\"M 477.9 78.9 L 479.7 78.9 L 479.7 79.3 L 477.9 79.3 L 477.9 78.9 \" fill=\"#FF0000\"/>\n<path class=\"atom-44\" d=\"M 454.9 78.0 Q 454.9 76.8, 455.5 76.0 Q 456.1 75.3, 457.3 75.3 Q 458.5 75.3, 459.1 76.0 Q 459.7 76.8, 459.7 78.0 Q 459.7 79.3, 459.1 80.0 Q 458.5 80.7, 457.3 80.7 Q 456.2 80.7, 455.5 80.0 Q 454.9 79.3, 454.9 78.0 M 457.3 80.1 Q 458.1 80.1, 458.5 79.6 Q 459.0 79.1, 459.0 78.0 Q 459.0 77.0, 458.5 76.5 Q 458.1 75.9, 457.3 75.9 Q 456.5 75.9, 456.1 76.5 Q 455.6 77.0, 455.6 78.0 Q 455.6 79.1, 456.1 79.6 Q 456.5 80.1, 457.3 80.1 \" fill=\"#FF0000\"/>\n<path class=\"atom-46\" d=\"M 397.6 150.8 Q 397.6 149.5, 398.3 148.8 Q 398.9 148.1, 400.1 148.1 Q 401.2 148.1, 401.8 148.8 Q 402.5 149.5, 402.5 150.8 Q 402.5 152.0, 401.8 152.8 Q 401.2 153.5, 400.1 153.5 Q 398.9 153.5, 398.3 152.8 Q 397.6 152.1, 397.6 150.8 M 400.1 152.9 Q 400.9 152.9, 401.3 152.4 Q 401.7 151.8, 401.7 150.8 Q 401.7 149.7, 401.3 149.2 Q 400.9 148.7, 400.1 148.7 Q 399.2 148.7, 398.8 149.2 Q 398.4 149.7, 398.4 150.8 Q 398.4 151.8, 398.8 152.4 Q 399.2 152.9, 400.1 152.9 \" fill=\"#FF0000\"/>\n<path class=\"atom-46\" d=\"M 403.2 149.0 L 405.0 149.0 L 405.0 149.3 L 403.2 149.3 L 403.2 149.0 \" fill=\"#FF0000\"/>\n<path class=\"atom-47\" d=\"M 411.2 139.5 Q 411.2 138.2, 411.9 137.5 Q 412.5 136.8, 413.6 136.8 Q 414.8 136.8, 415.4 137.5 Q 416.1 138.2, 416.1 139.5 Q 416.1 140.7, 415.4 141.5 Q 414.8 142.2, 413.6 142.2 Q 412.5 142.2, 411.9 141.5 Q 411.2 140.8, 411.2 139.5 M 413.6 141.6 Q 414.5 141.6, 414.9 141.1 Q 415.3 140.5, 415.3 139.5 Q 415.3 138.4, 414.9 137.9 Q 414.5 137.4, 413.6 137.4 Q 412.8 137.4, 412.4 137.9 Q 412.0 138.4, 412.0 139.5 Q 412.0 140.5, 412.4 141.1 Q 412.8 141.6, 413.6 141.6 \" fill=\"#FF0000\"/>\n<path class=\"atom-50\" d=\"M 498.8 167.5 Q 498.8 166.3, 499.4 165.5 Q 500.0 164.8, 501.2 164.8 Q 502.4 164.8, 503.0 165.5 Q 503.6 166.3, 503.6 167.5 Q 503.6 168.8, 503.0 169.5 Q 502.3 170.2, 501.2 170.2 Q 500.0 170.2, 499.4 169.5 Q 498.8 168.8, 498.8 167.5 M 501.2 169.6 Q 502.0 169.6, 502.4 169.1 Q 502.9 168.6, 502.9 167.5 Q 502.9 166.5, 502.4 166.0 Q 502.0 165.4, 501.2 165.4 Q 500.4 165.4, 500.0 166.0 Q 499.5 166.5, 499.5 167.5 Q 499.5 168.6, 500.0 169.1 Q 500.4 169.6, 501.2 169.6 \" fill=\"#FF0000\"/>\n<path class=\"atom-50\" d=\"M 504.4 165.7 L 506.2 165.7 L 506.2 166.1 L 504.4 166.1 L 504.4 165.7 \" fill=\"#FF0000\"/>\n<path class=\"atom-51\" d=\"M 482.3 173.8 Q 482.3 172.5, 482.9 171.8 Q 483.5 171.1, 484.7 171.1 Q 485.8 171.1, 486.5 171.8 Q 487.1 172.5, 487.1 173.8 Q 487.1 175.1, 486.5 175.8 Q 485.8 176.5, 484.7 176.5 Q 483.5 176.5, 482.9 175.8 Q 482.3 175.1, 482.3 173.8 M 484.7 175.9 Q 485.5 175.9, 485.9 175.4 Q 486.3 174.9, 486.3 173.8 Q 486.3 172.8, 485.9 172.3 Q 485.5 171.7, 484.7 171.7 Q 483.9 171.7, 483.4 172.3 Q 483.0 172.8, 483.0 173.8 Q 483.0 174.9, 483.4 175.4 Q 483.9 175.9, 484.7 175.9 \" fill=\"#FF0000\"/>\n<path class=\"atom-54\" d=\"M 501.2 122.6 Q 501.2 121.3, 501.9 120.6 Q 502.5 119.9, 503.7 119.9 Q 504.8 119.9, 505.5 120.6 Q 506.1 121.3, 506.1 122.6 Q 506.1 123.9, 505.4 124.6 Q 504.8 125.3, 503.7 125.3 Q 502.5 125.3, 501.9 124.6 Q 501.2 123.9, 501.2 122.6 M 503.7 124.7 Q 504.5 124.7, 504.9 124.2 Q 505.3 123.6, 505.3 122.6 Q 505.3 121.6, 504.9 121.0 Q 504.5 120.5, 503.7 120.5 Q 502.9 120.5, 502.4 121.0 Q 502.0 121.6, 502.0 122.6 Q 502.0 123.7, 502.4 124.2 Q 502.9 124.7, 503.7 124.7 \" fill=\"#FF0000\"/>\n<path class=\"atom-54\" d=\"M 506.8 120.8 L 508.6 120.8 L 508.6 121.2 L 506.8 121.2 L 506.8 120.8 \" fill=\"#FF0000\"/>\n<path class=\"atom-55\" d=\"M 487.5 133.7 Q 487.5 132.4, 488.1 131.7 Q 488.7 131.0, 489.9 131.0 Q 491.1 131.0, 491.7 131.7 Q 492.3 132.4, 492.3 133.7 Q 492.3 135.0, 491.7 135.7 Q 491.0 136.4, 489.9 136.4 Q 488.7 136.4, 488.1 135.7 Q 487.5 135.0, 487.5 133.7 M 489.9 135.8 Q 490.7 135.8, 491.1 135.3 Q 491.6 134.7, 491.6 133.7 Q 491.6 132.7, 491.1 132.1 Q 490.7 131.6, 489.9 131.6 Q 489.1 131.6, 488.7 132.1 Q 488.2 132.6, 488.2 133.7 Q 488.2 134.7, 488.7 135.3 Q 489.1 135.8, 489.9 135.8 \" fill=\"#FF0000\"/>\n<path class=\"atom-58\" d=\"M 435.7 85.0 Q 435.7 83.7, 436.3 83.0 Q 436.9 82.3, 438.1 82.3 Q 439.3 82.3, 439.9 83.0 Q 440.5 83.7, 440.5 85.0 Q 440.5 86.2, 439.9 87.0 Q 439.3 87.7, 438.1 87.7 Q 437.0 87.7, 436.3 87.0 Q 435.7 86.2, 435.7 85.0 M 438.1 87.1 Q 438.9 87.1, 439.3 86.6 Q 439.8 86.0, 439.8 85.0 Q 439.8 83.9, 439.3 83.4 Q 438.9 82.9, 438.1 82.9 Q 437.3 82.9, 436.9 83.4 Q 436.4 83.9, 436.4 85.0 Q 436.4 86.0, 436.9 86.6 Q 437.3 87.1, 438.1 87.1 \" fill=\"#FF0000\"/>\n<path class=\"atom-59\" d=\"M 447.1 98.5 Q 447.1 97.2, 447.7 96.5 Q 448.4 95.8, 449.5 95.8 Q 450.7 95.8, 451.3 96.5 Q 451.9 97.2, 451.9 98.5 Q 451.9 99.7, 451.3 100.5 Q 450.7 101.2, 449.5 101.2 Q 448.4 101.2, 447.7 100.5 Q 447.1 99.8, 447.1 98.5 M 449.5 100.6 Q 450.3 100.6, 450.8 100.1 Q 451.2 99.5, 451.2 98.5 Q 451.2 97.4, 450.8 96.9 Q 450.3 96.4, 449.5 96.4 Q 448.7 96.4, 448.3 96.9 Q 447.9 97.4, 447.9 98.5 Q 447.9 99.5, 448.3 100.1 Q 448.7 100.6, 449.5 100.6 \" fill=\"#FF0000\"/>\n<path class=\"atom-59\" d=\"M 452.7 96.7 L 454.5 96.7 L 454.5 97.0 L 452.7 97.0 L 452.7 96.7 \" fill=\"#FF0000\"/>\n<path class=\"legend\" d=\"M 431.4 277.8 Q 432.4 277.8, 433.2 278.2 Q 434.0 278.6, 434.5 279.4 Q 434.9 280.2, 434.9 281.3 Q 434.9 282.4, 434.4 283.3 Q 433.8 284.1, 432.9 284.5 Q 432.0 285.0, 430.9 285.0 Q 429.9 285.0, 428.9 284.6 Q 427.9 284.2, 427.3 283.5 L 428.2 282.5 Q 428.8 283.0, 429.5 283.4 Q 430.2 283.7, 430.9 283.7 Q 432.0 283.7, 432.6 283.0 Q 433.3 282.4, 433.3 281.3 Q 433.3 280.1, 432.6 279.5 Q 432.0 279.0, 430.9 279.0 Q 429.9 279.0, 428.8 279.4 L 427.9 279.0 L 428.4 273.5 L 434.2 273.5 L 434.1 274.8 L 429.7 274.8 L 429.4 278.2 Q 430.4 277.8, 431.4 277.8 \" fill=\"#000000\"/>\n<path class=\"legend\" d=\"M 442.4 274.8 L 436.5 274.8 L 436.5 273.5 L 444.0 273.5 L 444.0 274.6 L 439.4 284.8 L 437.9 284.8 L 442.4 274.8 \" fill=\"#000000\"/>\n<path class=\"legend\" d=\"M 450.7 278.9 Q 451.8 279.2, 452.3 279.9 Q 452.9 280.6, 452.9 281.7 Q 452.9 282.7, 452.4 283.4 Q 451.9 284.2, 451.0 284.6 Q 450.2 285.0, 449.0 285.0 Q 447.8 285.0, 446.9 284.6 Q 446.0 284.2, 445.3 283.3 L 446.2 282.4 Q 446.9 283.1, 447.5 283.4 Q 448.1 283.7, 449.0 283.7 Q 450.0 283.7, 450.7 283.2 Q 451.3 282.6, 451.3 281.7 Q 451.3 280.6, 450.6 280.1 Q 450.0 279.5, 448.6 279.5 L 447.8 279.5 L 447.8 278.4 L 448.5 278.4 Q 449.7 278.4, 450.4 277.8 Q 451.0 277.3, 451.0 276.3 Q 451.0 275.5, 450.5 275.1 Q 450.0 274.7, 449.0 274.7 Q 448.1 274.7, 447.5 275.0 Q 446.9 275.3, 446.5 276.2 L 445.4 275.6 Q 445.8 274.6, 446.7 274.0 Q 447.7 273.4, 449.0 273.4 Q 450.7 273.4, 451.7 274.2 Q 452.6 275.0, 452.6 276.3 Q 452.6 277.2, 452.1 277.8 Q 451.6 278.5, 450.7 278.9 \" fill=\"#000000\"/>\n<path class=\"legend\" d=\"M 458.7 285.0 Q 456.7 285.0, 455.6 283.4 Q 454.6 281.9, 454.6 279.2 Q 454.6 276.4, 455.6 274.9 Q 456.7 273.4, 458.7 273.4 Q 460.8 273.4, 461.9 274.9 Q 462.9 276.4, 462.9 279.2 Q 462.9 281.9, 461.9 283.4 Q 460.8 285.0, 458.7 285.0 M 458.7 283.7 Q 460.0 283.7, 460.6 282.6 Q 461.3 281.4, 461.3 279.2 Q 461.3 276.9, 460.6 275.8 Q 460.0 274.7, 458.7 274.7 Q 457.5 274.7, 456.9 275.8 Q 456.2 276.9, 456.2 279.2 Q 456.2 281.4, 456.9 282.6 Q 457.5 283.7, 458.7 283.7 \" fill=\"#000000\"/>\n<path class=\"legend\" d=\"M 470.5 278.8 Q 471.5 279.3, 472.1 280.0 Q 472.7 280.6, 472.7 281.7 Q 472.7 282.7, 472.2 283.4 Q 471.7 284.2, 470.8 284.6 Q 469.9 285.0, 468.8 285.0 Q 466.9 285.0, 465.8 284.1 Q 464.7 283.3, 464.7 281.7 Q 464.7 280.8, 465.2 280.1 Q 465.7 279.4, 466.7 278.9 Q 465.9 278.5, 465.5 277.9 Q 465.1 277.2, 465.1 276.3 Q 465.1 275.0, 466.1 274.2 Q 467.1 273.4, 468.7 273.4 Q 470.4 273.4, 471.3 274.2 Q 472.3 275.0, 472.3 276.3 Q 472.3 277.1, 471.8 277.7 Q 471.4 278.3, 470.5 278.8 M 468.7 274.6 Q 467.8 274.6, 467.2 275.0 Q 466.7 275.5, 466.7 276.3 Q 466.7 276.9, 467.1 277.3 Q 467.4 277.7, 467.9 277.9 Q 468.4 278.1, 469.4 278.4 Q 470.1 278.0, 470.4 277.4 Q 470.7 276.9, 470.7 276.3 Q 470.7 275.5, 470.2 275.0 Q 469.7 274.6, 468.7 274.6 M 468.8 283.8 Q 469.8 283.8, 470.5 283.2 Q 471.1 282.7, 471.1 281.7 Q 471.1 281.1, 470.8 280.7 Q 470.4 280.3, 469.9 280.1 Q 469.4 279.9, 468.5 279.6 L 467.8 279.4 Q 467.0 279.8, 466.7 280.4 Q 466.3 281.0, 466.3 281.7 Q 466.3 282.7, 467.0 283.2 Q 467.7 283.8, 468.8 283.8 \" fill=\"#000000\"/>\n<path class=\"bond-0 atom-0 atom-1\" d=\"M 730.2,163.3 L 723.3,156.5\" style=\"fill:none;fill-rule:evenodd;stroke:#000000;stroke-width:2.0px;stroke-linecap:butt;stroke-linejoin:miter;stroke-opacity:1\"/>\n<path class=\"bond-1 atom-0 atom-2\" d=\"M 730.2,163.3 L 739.6,158.1\" style=\"fill:none;fill-rule:evenodd;stroke:#000000;stroke-width:2.0px;stroke-linecap:butt;stroke-linejoin:miter;stroke-opacity:1\"/>\n<path class=\"bond-1 atom-0 atom-2\" d=\"M 730.5,161.4 L 737.9,157.3\" style=\"fill:none;fill-rule:evenodd;stroke:#000000;stroke-width:2.0px;stroke-linecap:butt;stroke-linejoin:miter;stroke-opacity:1\"/>\n<path class=\"bond-2 atom-0 atom-3\" d=\"M 730.2,163.3 L 728.8,173.4\" style=\"fill:none;fill-rule:evenodd;stroke:#000000;stroke-width:2.0px;stroke-linecap:butt;stroke-linejoin:miter;stroke-opacity:1\"/>\n<path class=\"bond-3 atom-1 atom-4\" d=\"M 723.3,156.5 L 727.9,147.0\" style=\"fill:none;fill-rule:evenodd;stroke:#000000;stroke-width:2.0px;stroke-linecap:butt;stroke-linejoin:miter;stroke-opacity:1\"/>\n<path class=\"bond-3 atom-1 atom-4\" d=\"M 725.2,156.1 L 728.8,148.7\" style=\"fill:none;fill-rule:evenodd;stroke:#000000;stroke-width:2.0px;stroke-linecap:butt;stroke-linejoin:miter;stroke-opacity:1\"/>\n<path class=\"bond-4 atom-1 atom-5\" d=\"M 723.3,156.5 L 713.2,158.2\" style=\"fill:none;fill-rule:evenodd;stroke:#000000;stroke-width:2.0px;stroke-linecap:butt;stroke-linejoin:miter;stroke-opacity:1\"/>\n<path class=\"bond-5 atom-2 atom-6\" d=\"M 739.6,158.1 L 748.7,163.1\" style=\"fill:none;fill-rule:evenodd;stroke:#000000;stroke-width:2.0px;stroke-linecap:butt;stroke-linejoin:miter;stroke-opacity:1\"/>\n<path class=\"bond-6 atom-2 atom-7\" d=\"M 739.6,158.1 L 739.1,154.9\" style=\"fill:none;fill-rule:evenodd;stroke:#000000;stroke-width:2.0px;stroke-linecap:butt;stroke-linejoin:miter;stroke-opacity:1\"/>\n<path class=\"bond-6 atom-2 atom-7\" d=\"M 739.1,154.9 L 738.6,151.7\" style=\"fill:none;fill-rule:evenodd;stroke:#0000FF;stroke-width:2.0px;stroke-linecap:butt;stroke-linejoin:miter;stroke-opacity:1\"/>\n<path class=\"bond-7 atom-3 atom-8\" d=\"M 728.8,173.4 L 719.4,177.2\" style=\"fill:none;fill-rule:evenodd;stroke:#000000;stroke-width:2.0px;stroke-linecap:butt;stroke-linejoin:miter;stroke-opacity:1\"/>\n<path class=\"bond-8 atom-4 atom-9\" d=\"M 727.9,147.0 L 723.1,138.3\" style=\"fill:none;fill-rule:evenodd;stroke:#000000;stroke-width:2.0px;stroke-linecap:butt;stroke-linejoin:miter;stroke-opacity:1\"/>\n<path class=\"bond-9 atom-6 atom-10\" d=\"M 748.7,163.1 L 757.4,158.3\" style=\"fill:none;fill-rule:evenodd;stroke:#000000;stroke-width:2.0px;stroke-linecap:butt;stroke-linejoin:miter;stroke-opacity:1\"/>\n<path class=\"bond-10 atom-8 atom-11\" d=\"M 719.4,177.2 L 718.0,187.4\" style=\"fill:none;fill-rule:evenodd;stroke:#000000;stroke-width:2.0px;stroke-linecap:butt;stroke-linejoin:miter;stroke-opacity:1\"/>\n<path class=\"bond-11 atom-9 atom-12\" d=\"M 723.1,138.3 L 727.8,128.9\" style=\"fill:none;fill-rule:evenodd;stroke:#000000;stroke-width:2.0px;stroke-linecap:butt;stroke-linejoin:miter;stroke-opacity:1\"/>\n<path class=\"bond-12 atom-10 atom-13\" d=\"M 757.4,158.3 L 767.2,163.0\" style=\"fill:none;fill-rule:evenodd;stroke:#000000;stroke-width:2.0px;stroke-linecap:butt;stroke-linejoin:miter;stroke-opacity:1\"/>\n<path class=\"bond-12 atom-10 atom-13\" d=\"M 759.1,157.5 L 766.9,161.1\" style=\"fill:none;fill-rule:evenodd;stroke:#000000;stroke-width:2.0px;stroke-linecap:butt;stroke-linejoin:miter;stroke-opacity:1\"/>\n<path class=\"bond-13 atom-10 atom-14\" d=\"M 757.4,158.3 L 758.0,154.9\" style=\"fill:none;fill-rule:evenodd;stroke:#000000;stroke-width:2.0px;stroke-linecap:butt;stroke-linejoin:miter;stroke-opacity:1\"/>\n<path class=\"bond-13 atom-10 atom-14\" d=\"M 758.0,154.9 L 758.6,151.5\" style=\"fill:none;fill-rule:evenodd;stroke:#0000FF;stroke-width:2.0px;stroke-linecap:butt;stroke-linejoin:miter;stroke-opacity:1\"/>\n<path class=\"bond-14 atom-11 atom-15\" d=\"M 718.0,187.4 L 720.7,189.4\" style=\"fill:none;fill-rule:evenodd;stroke:#000000;stroke-width:2.0px;stroke-linecap:butt;stroke-linejoin:miter;stroke-opacity:1\"/>\n<path class=\"bond-14 atom-11 atom-15\" d=\"M 720.7,189.4 L 723.3,191.5\" style=\"fill:none;fill-rule:evenodd;stroke:#FF0000;stroke-width:2.0px;stroke-linecap:butt;stroke-linejoin:miter;stroke-opacity:1\"/>\n<path class=\"bond-15 atom-11 atom-16\" d=\"M 718.1,186.5 L 714.6,187.9\" style=\"fill:none;fill-rule:evenodd;stroke:#000000;stroke-width:2.0px;stroke-linecap:butt;stroke-linejoin:miter;stroke-opacity:1\"/>\n<path class=\"bond-15 atom-11 atom-16\" d=\"M 714.6,187.9 L 711.0,189.4\" style=\"fill:none;fill-rule:evenodd;stroke:#FF0000;stroke-width:2.0px;stroke-linecap:butt;stroke-linejoin:miter;stroke-opacity:1\"/>\n<path class=\"bond-15 atom-11 atom-16\" d=\"M 718.7,187.9 L 715.1,189.3\" style=\"fill:none;fill-rule:evenodd;stroke:#000000;stroke-width:2.0px;stroke-linecap:butt;stroke-linejoin:miter;stroke-opacity:1\"/>\n<path class=\"bond-15 atom-11 atom-16\" d=\"M 715.1,189.3 L 711.6,190.8\" style=\"fill:none;fill-rule:evenodd;stroke:#FF0000;stroke-width:2.0px;stroke-linecap:butt;stroke-linejoin:miter;stroke-opacity:1\"/>\n<path class=\"bond-16 atom-12 atom-17\" d=\"M 727.8,128.9 L 723.3,120.2\" style=\"fill:none;fill-rule:evenodd;stroke:#000000;stroke-width:2.0px;stroke-linecap:butt;stroke-linejoin:miter;stroke-opacity:1\"/>\n<path class=\"bond-16 atom-12 atom-17\" d=\"M 728.6,127.2 L 725.2,120.5\" style=\"fill:none;fill-rule:evenodd;stroke:#000000;stroke-width:2.0px;stroke-linecap:butt;stroke-linejoin:miter;stroke-opacity:1\"/>\n<path class=\"bond-17 atom-12 atom-18\" d=\"M 727.8,128.9 L 731.5,128.2\" style=\"fill:none;fill-rule:evenodd;stroke:#000000;stroke-width:2.0px;stroke-linecap:butt;stroke-linejoin:miter;stroke-opacity:1\"/>\n<path class=\"bond-17 atom-12 atom-18\" d=\"M 731.5,128.2 L 735.2,127.4\" style=\"fill:none;fill-rule:evenodd;stroke:#0000FF;stroke-width:2.0px;stroke-linecap:butt;stroke-linejoin:miter;stroke-opacity:1\"/>\n<path class=\"bond-18 atom-13 atom-19\" d=\"M 767.2,163.0 L 774.0,156.0\" style=\"fill:none;fill-rule:evenodd;stroke:#000000;stroke-width:2.0px;stroke-linecap:butt;stroke-linejoin:miter;stroke-opacity:1\"/>\n<path class=\"bond-19 atom-13 atom-52\" d=\"M 767.2,163.0 L 769.0,173.0\" style=\"fill:none;fill-rule:evenodd;stroke:#000000;stroke-width:2.0px;stroke-linecap:butt;stroke-linejoin:miter;stroke-opacity:1\"/>\n<path class=\"bond-20 atom-14 atom-20\" d=\"M 761.4,148.0 L 765.3,147.2\" style=\"fill:none;fill-rule:evenodd;stroke:#0000FF;stroke-width:2.0px;stroke-linecap:butt;stroke-linejoin:miter;stroke-opacity:1\"/>\n<path class=\"bond-20 atom-14 atom-20\" d=\"M 765.3,147.2 L 769.2,146.3\" style=\"fill:none;fill-rule:evenodd;stroke:#000000;stroke-width:2.0px;stroke-linecap:butt;stroke-linejoin:miter;stroke-opacity:1\"/>\n<path class=\"bond-21 atom-17 atom-21\" d=\"M 723.3,120.2 L 730.5,112.9\" style=\"fill:none;fill-rule:evenodd;stroke:#000000;stroke-width:2.0px;stroke-linecap:butt;stroke-linejoin:miter;stroke-opacity:1\"/>\n<path class=\"bond-22 atom-17 atom-22\" d=\"M 723.3,120.2 L 713.3,118.7\" style=\"fill:none;fill-rule:evenodd;stroke:#000000;stroke-width:2.0px;stroke-linecap:butt;stroke-linejoin:miter;stroke-opacity:1\"/>\n<path class=\"bond-23 atom-18 atom-23\" d=\"M 738.2,124.0 L 738.9,120.6\" style=\"fill:none;fill-rule:evenodd;stroke:#0000FF;stroke-width:2.0px;stroke-linecap:butt;stroke-linejoin:miter;stroke-opacity:1\"/>\n<path class=\"bond-23 atom-18 atom-23\" d=\"M 738.9,120.6 L 739.6,117.2\" style=\"fill:none;fill-rule:evenodd;stroke:#000000;stroke-width:2.0px;stroke-linecap:butt;stroke-linejoin:miter;stroke-opacity:1\"/>\n<path class=\"bond-24 atom-19 atom-24\" d=\"M 774.0,156.0 L 784.1,157.6\" style=\"fill:none;fill-rule:evenodd;stroke:#000000;stroke-width:2.0px;stroke-linecap:butt;stroke-linejoin:miter;stroke-opacity:1\"/>\n<path class=\"bond-25 atom-20 atom-25\" d=\"M 769.2,146.3 L 773.9,137.5\" style=\"fill:none;fill-rule:evenodd;stroke:#000000;stroke-width:2.0px;stroke-linecap:butt;stroke-linejoin:miter;stroke-opacity:1\"/>\n<path class=\"bond-26 atom-21 atom-48\" d=\"M 730.5,112.9 L 728.7,102.9\" style=\"fill:none;fill-rule:evenodd;stroke:#000000;stroke-width:2.0px;stroke-linecap:butt;stroke-linejoin:miter;stroke-opacity:1\"/>\n<path class=\"bond-27 atom-22 atom-26\" d=\"M 713.3,118.7 L 706.9,126.7\" style=\"fill:none;fill-rule:evenodd;stroke:#000000;stroke-width:2.0px;stroke-linecap:butt;stroke-linejoin:miter;stroke-opacity:1\"/>\n<path class=\"bond-28 atom-23 atom-27\" d=\"M 739.6,117.2 L 748.6,112.4\" style=\"fill:none;fill-rule:evenodd;stroke:#000000;stroke-width:2.0px;stroke-linecap:butt;stroke-linejoin:miter;stroke-opacity:1\"/>\n<path class=\"bond-29 atom-24 atom-28\" d=\"M 784.1,157.6 L 790.5,149.7\" style=\"fill:none;fill-rule:evenodd;stroke:#000000;stroke-width:2.0px;stroke-linecap:butt;stroke-linejoin:miter;stroke-opacity:1\"/>\n<path class=\"bond-30 atom-25 atom-29\" d=\"M 773.9,137.5 L 768.7,128.5\" style=\"fill:none;fill-rule:evenodd;stroke:#000000;stroke-width:2.0px;stroke-linecap:butt;stroke-linejoin:miter;stroke-opacity:1\"/>\n<path class=\"bond-31 atom-26 atom-30\" d=\"M 706.9,126.7 L 696.8,125.1\" style=\"fill:none;fill-rule:evenodd;stroke:#000000;stroke-width:2.0px;stroke-linecap:butt;stroke-linejoin:miter;stroke-opacity:1\"/>\n<path class=\"bond-32 atom-27 atom-31\" d=\"M 748.6,112.4 L 757.4,117.0\" style=\"fill:none;fill-rule:evenodd;stroke:#000000;stroke-width:2.0px;stroke-linecap:butt;stroke-linejoin:miter;stroke-opacity:1\"/>\n<path class=\"bond-33 atom-28 atom-32\" d=\"M 790.5,149.7 L 800.6,151.3\" style=\"fill:none;fill-rule:evenodd;stroke:#000000;stroke-width:2.0px;stroke-linecap:butt;stroke-linejoin:miter;stroke-opacity:1\"/>\n<path class=\"bond-34 atom-29 atom-33\" d=\"M 768.7,128.5 L 773.7,119.1\" style=\"fill:none;fill-rule:evenodd;stroke:#000000;stroke-width:2.0px;stroke-linecap:butt;stroke-linejoin:miter;stroke-opacity:1\"/>\n<path class=\"bond-34 atom-29 atom-33\" d=\"M 767.9,126.9 L 771.8,119.4\" style=\"fill:none;fill-rule:evenodd;stroke:#000000;stroke-width:2.0px;stroke-linecap:butt;stroke-linejoin:miter;stroke-opacity:1\"/>\n<path class=\"bond-35 atom-29 atom-34\" d=\"M 768.7,128.5 L 765.2,128.0\" style=\"fill:none;fill-rule:evenodd;stroke:#000000;stroke-width:2.0px;stroke-linecap:butt;stroke-linejoin:miter;stroke-opacity:1\"/>\n<path class=\"bond-35 atom-29 atom-34\" d=\"M 765.2,128.0 L 761.6,127.5\" style=\"fill:none;fill-rule:evenodd;stroke:#0000FF;stroke-width:2.0px;stroke-linecap:butt;stroke-linejoin:miter;stroke-opacity:1\"/>\n<path class=\"bond-36 atom-30 atom-35\" d=\"M 696.8,125.1 L 694.8,127.6\" style=\"fill:none;fill-rule:evenodd;stroke:#000000;stroke-width:2.0px;stroke-linecap:butt;stroke-linejoin:miter;stroke-opacity:1\"/>\n<path class=\"bond-36 atom-30 atom-35\" d=\"M 694.8,127.6 L 692.8,130.1\" style=\"fill:none;fill-rule:evenodd;stroke:#FF0000;stroke-width:2.0px;stroke-linecap:butt;stroke-linejoin:miter;stroke-opacity:1\"/>\n<path class=\"bond-37 atom-30 atom-36\" d=\"M 697.7,125.2 L 696.3,121.8\" style=\"fill:none;fill-rule:evenodd;stroke:#000000;stroke-width:2.0px;stroke-linecap:butt;stroke-linejoin:miter;stroke-opacity:1\"/>\n<path class=\"bond-37 atom-30 atom-36\" d=\"M 696.3,121.8 L 695.0,118.4\" style=\"fill:none;fill-rule:evenodd;stroke:#FF0000;stroke-width:2.0px;stroke-linecap:butt;stroke-linejoin:miter;stroke-opacity:1\"/>\n<path class=\"bond-37 atom-30 atom-36\" d=\"M 696.2,125.8 L 694.9,122.4\" style=\"fill:none;fill-rule:evenodd;stroke:#000000;stroke-width:2.0px;stroke-linecap:butt;stroke-linejoin:miter;stroke-opacity:1\"/>\n<path class=\"bond-37 atom-30 atom-36\" d=\"M 694.9,122.4 L 693.6,118.9\" style=\"fill:none;fill-rule:evenodd;stroke:#FF0000;stroke-width:2.0px;stroke-linecap:butt;stroke-linejoin:miter;stroke-opacity:1\"/>\n<path class=\"bond-38 atom-31 atom-37\" d=\"M 757.4,117.0 L 766.7,112.2\" style=\"fill:none;fill-rule:evenodd;stroke:#000000;stroke-width:2.0px;stroke-linecap:butt;stroke-linejoin:miter;stroke-opacity:1\"/>\n<path class=\"bond-38 atom-31 atom-37\" d=\"M 759.1,117.9 L 766.5,114.1\" style=\"fill:none;fill-rule:evenodd;stroke:#000000;stroke-width:2.0px;stroke-linecap:butt;stroke-linejoin:miter;stroke-opacity:1\"/>\n<path class=\"bond-39 atom-32 atom-38\" d=\"M 799.7,151.2 L 801.1,154.7\" style=\"fill:none;fill-rule:evenodd;stroke:#000000;stroke-width:2.0px;stroke-linecap:butt;stroke-linejoin:miter;stroke-opacity:1\"/>\n<path class=\"bond-39 atom-32 atom-38\" d=\"M 801.1,154.7 L 802.4,158.2\" style=\"fill:none;fill-rule:evenodd;stroke:#FF0000;stroke-width:2.0px;stroke-linecap:butt;stroke-linejoin:miter;stroke-opacity:1\"/>\n<path class=\"bond-39 atom-32 atom-38\" d=\"M 801.2,150.7 L 802.5,154.1\" style=\"fill:none;fill-rule:evenodd;stroke:#000000;stroke-width:2.0px;stroke-linecap:butt;stroke-linejoin:miter;stroke-opacity:1\"/>\n<path class=\"bond-39 atom-32 atom-38\" d=\"M 802.5,154.1 L 803.8,157.6\" style=\"fill:none;fill-rule:evenodd;stroke:#FF0000;stroke-width:2.0px;stroke-linecap:butt;stroke-linejoin:miter;stroke-opacity:1\"/>\n<path class=\"bond-40 atom-32 atom-39\" d=\"M 800.6,151.3 L 802.6,148.9\" style=\"fill:none;fill-rule:evenodd;stroke:#000000;stroke-width:2.0px;stroke-linecap:butt;stroke-linejoin:miter;stroke-opacity:1\"/>\n<path class=\"bond-40 atom-32 atom-39\" d=\"M 802.6,148.9 L 804.6,146.5\" style=\"fill:none;fill-rule:evenodd;stroke:#FF0000;stroke-width:2.0px;stroke-linecap:butt;stroke-linejoin:miter;stroke-opacity:1\"/>\n<path class=\"bond-41 atom-33 atom-59\" d=\"M 773.7,119.1 L 783.8,117.5\" style=\"fill:none;fill-rule:evenodd;stroke:#000000;stroke-width:2.0px;stroke-linecap:butt;stroke-linejoin:miter;stroke-opacity:1\"/>\n<path class=\"bond-42 atom-37 atom-40\" d=\"M 766.7,112.2 L 768.3,102.2\" style=\"fill:none;fill-rule:evenodd;stroke:#000000;stroke-width:2.0px;stroke-linecap:butt;stroke-linejoin:miter;stroke-opacity:1\"/>\n<path class=\"bond-43 atom-59 atom-41\" d=\"M 783.8,117.5 L 790.2,125.4\" style=\"fill:none;fill-rule:evenodd;stroke:#000000;stroke-width:2.0px;stroke-linecap:butt;stroke-linejoin:miter;stroke-opacity:1\"/>\n<path class=\"bond-44 atom-40 atom-42\" d=\"M 768.3,102.2 L 760.3,95.8\" style=\"fill:none;fill-rule:evenodd;stroke:#000000;stroke-width:2.0px;stroke-linecap:butt;stroke-linejoin:miter;stroke-opacity:1\"/>\n<path class=\"bond-45 atom-41 atom-43\" d=\"M 790.2,125.4 L 793.8,124.9\" style=\"fill:none;fill-rule:evenodd;stroke:#000000;stroke-width:2.0px;stroke-linecap:butt;stroke-linejoin:miter;stroke-opacity:1\"/>\n<path class=\"bond-45 atom-41 atom-43\" d=\"M 793.8,124.9 L 797.5,124.3\" style=\"fill:none;fill-rule:evenodd;stroke:#FF0000;stroke-width:2.0px;stroke-linecap:butt;stroke-linejoin:miter;stroke-opacity:1\"/>\n<path class=\"bond-46 atom-41 atom-44\" d=\"M 789.6,124.8 L 788.3,128.2\" style=\"fill:none;fill-rule:evenodd;stroke:#000000;stroke-width:2.0px;stroke-linecap:butt;stroke-linejoin:miter;stroke-opacity:1\"/>\n<path class=\"bond-46 atom-41 atom-44\" d=\"M 788.3,128.2 L 786.9,131.7\" style=\"fill:none;fill-rule:evenodd;stroke:#FF0000;stroke-width:2.0px;stroke-linecap:butt;stroke-linejoin:miter;stroke-opacity:1\"/>\n<path class=\"bond-46 atom-41 atom-44\" d=\"M 791.1,125.3 L 789.7,128.8\" style=\"fill:none;fill-rule:evenodd;stroke:#000000;stroke-width:2.0px;stroke-linecap:butt;stroke-linejoin:miter;stroke-opacity:1\"/>\n<path class=\"bond-46 atom-41 atom-44\" d=\"M 789.7,128.8 L 788.4,132.3\" style=\"fill:none;fill-rule:evenodd;stroke:#FF0000;stroke-width:2.0px;stroke-linecap:butt;stroke-linejoin:miter;stroke-opacity:1\"/>\n<path class=\"bond-47 atom-42 atom-45\" d=\"M 760.3,95.8 L 761.9,85.7\" style=\"fill:none;fill-rule:evenodd;stroke:#000000;stroke-width:2.0px;stroke-linecap:butt;stroke-linejoin:miter;stroke-opacity:1\"/>\n<path class=\"bond-48 atom-45 atom-46\" d=\"M 761.9,85.7 L 759.3,83.6\" style=\"fill:none;fill-rule:evenodd;stroke:#000000;stroke-width:2.0px;stroke-linecap:butt;stroke-linejoin:miter;stroke-opacity:1\"/>\n<path class=\"bond-48 atom-45 atom-46\" d=\"M 759.3,83.6 L 756.7,81.5\" style=\"fill:none;fill-rule:evenodd;stroke:#FF0000;stroke-width:2.0px;stroke-linecap:butt;stroke-linejoin:miter;stroke-opacity:1\"/>\n<path class=\"bond-49 atom-45 atom-47\" d=\"M 761.7,86.6 L 765.3,85.2\" style=\"fill:none;fill-rule:evenodd;stroke:#000000;stroke-width:2.0px;stroke-linecap:butt;stroke-linejoin:miter;stroke-opacity:1\"/>\n<path class=\"bond-49 atom-45 atom-47\" d=\"M 765.3,85.2 L 768.9,83.8\" style=\"fill:none;fill-rule:evenodd;stroke:#FF0000;stroke-width:2.0px;stroke-linecap:butt;stroke-linejoin:miter;stroke-opacity:1\"/>\n<path class=\"bond-49 atom-45 atom-47\" d=\"M 761.2,85.1 L 764.8,83.7\" style=\"fill:none;fill-rule:evenodd;stroke:#000000;stroke-width:2.0px;stroke-linecap:butt;stroke-linejoin:miter;stroke-opacity:1\"/>\n<path class=\"bond-49 atom-45 atom-47\" d=\"M 764.8,83.7 L 768.4,82.3\" style=\"fill:none;fill-rule:evenodd;stroke:#FF0000;stroke-width:2.0px;stroke-linecap:butt;stroke-linejoin:miter;stroke-opacity:1\"/>\n<path class=\"bond-50 atom-4 atom-7\" d=\"M 727.9,147.0 L 731.8,147.7\" style=\"fill:none;fill-rule:evenodd;stroke:#000000;stroke-width:2.0px;stroke-linecap:butt;stroke-linejoin:miter;stroke-opacity:1\"/>\n<path class=\"bond-50 atom-4 atom-7\" d=\"M 731.8,147.7 L 735.8,148.3\" style=\"fill:none;fill-rule:evenodd;stroke:#0000FF;stroke-width:2.0px;stroke-linecap:butt;stroke-linejoin:miter;stroke-opacity:1\"/>\n<path class=\"bond-51 atom-19 atom-20\" d=\"M 774.0,156.0 L 769.2,146.3\" style=\"fill:none;fill-rule:evenodd;stroke:#000000;stroke-width:2.0px;stroke-linecap:butt;stroke-linejoin:miter;stroke-opacity:1\"/>\n<path class=\"bond-51 atom-19 atom-20\" d=\"M 772.2,155.7 L 768.4,148.0\" style=\"fill:none;fill-rule:evenodd;stroke:#000000;stroke-width:2.0px;stroke-linecap:butt;stroke-linejoin:miter;stroke-opacity:1\"/>\n<path class=\"bond-52 atom-21 atom-23\" d=\"M 730.5,112.9 L 739.6,117.2\" style=\"fill:none;fill-rule:evenodd;stroke:#000000;stroke-width:2.0px;stroke-linecap:butt;stroke-linejoin:miter;stroke-opacity:1\"/>\n<path class=\"bond-52 atom-21 atom-23\" d=\"M 730.9,114.8 L 737.9,118.1\" style=\"fill:none;fill-rule:evenodd;stroke:#000000;stroke-width:2.0px;stroke-linecap:butt;stroke-linejoin:miter;stroke-opacity:1\"/>\n<path class=\"bond-53 atom-31 atom-34\" d=\"M 757.4,117.0 L 758.0,120.6\" style=\"fill:none;fill-rule:evenodd;stroke:#000000;stroke-width:2.0px;stroke-linecap:butt;stroke-linejoin:miter;stroke-opacity:1\"/>\n<path class=\"bond-53 atom-31 atom-34\" d=\"M 758.0,120.6 L 758.7,124.2\" style=\"fill:none;fill-rule:evenodd;stroke:#0000FF;stroke-width:2.0px;stroke-linecap:butt;stroke-linejoin:miter;stroke-opacity:1\"/>\n<path class=\"bond-54 atom-33 atom-37\" d=\"M 773.7,119.1 L 766.7,112.2\" style=\"fill:none;fill-rule:evenodd;stroke:#000000;stroke-width:2.0px;stroke-linecap:butt;stroke-linejoin:miter;stroke-opacity:1\"/>\n<path class=\"bond-55 atom-48 atom-49\" d=\"M 728.7,102.9 L 736.5,96.3\" style=\"fill:none;fill-rule:evenodd;stroke:#000000;stroke-width:2.0px;stroke-linecap:butt;stroke-linejoin:miter;stroke-opacity:1\"/>\n<path class=\"bond-56 atom-49 atom-50\" d=\"M 737.4,96.6 L 736.7,92.9\" style=\"fill:none;fill-rule:evenodd;stroke:#000000;stroke-width:2.0px;stroke-linecap:butt;stroke-linejoin:miter;stroke-opacity:1\"/>\n<path class=\"bond-56 atom-49 atom-50\" d=\"M 736.7,92.9 L 736.0,89.2\" style=\"fill:none;fill-rule:evenodd;stroke:#FF0000;stroke-width:2.0px;stroke-linecap:butt;stroke-linejoin:miter;stroke-opacity:1\"/>\n<path class=\"bond-56 atom-49 atom-50\" d=\"M 735.8,96.9 L 735.2,93.2\" style=\"fill:none;fill-rule:evenodd;stroke:#000000;stroke-width:2.0px;stroke-linecap:butt;stroke-linejoin:miter;stroke-opacity:1\"/>\n<path class=\"bond-56 atom-49 atom-50\" d=\"M 735.2,93.2 L 734.5,89.5\" style=\"fill:none;fill-rule:evenodd;stroke:#FF0000;stroke-width:2.0px;stroke-linecap:butt;stroke-linejoin:miter;stroke-opacity:1\"/>\n<path class=\"bond-57 atom-49 atom-51\" d=\"M 736.5,96.3 L 739.9,97.5\" style=\"fill:none;fill-rule:evenodd;stroke:#000000;stroke-width:2.0px;stroke-linecap:butt;stroke-linejoin:miter;stroke-opacity:1\"/>\n<path class=\"bond-57 atom-49 atom-51\" d=\"M 739.9,97.5 L 743.4,98.8\" style=\"fill:none;fill-rule:evenodd;stroke:#FF0000;stroke-width:2.0px;stroke-linecap:butt;stroke-linejoin:miter;stroke-opacity:1\"/>\n<path class=\"bond-58 atom-52 atom-53\" d=\"M 769.0,173.0 L 761.2,179.6\" style=\"fill:none;fill-rule:evenodd;stroke:#000000;stroke-width:2.0px;stroke-linecap:butt;stroke-linejoin:miter;stroke-opacity:1\"/>\n<path class=\"bond-59 atom-53 atom-54\" d=\"M 761.2,179.6 L 761.8,183.1\" style=\"fill:none;fill-rule:evenodd;stroke:#000000;stroke-width:2.0px;stroke-linecap:butt;stroke-linejoin:miter;stroke-opacity:1\"/>\n<path class=\"bond-59 atom-53 atom-54\" d=\"M 761.8,183.1 L 762.4,186.6\" style=\"fill:none;fill-rule:evenodd;stroke:#FF0000;stroke-width:2.0px;stroke-linecap:butt;stroke-linejoin:miter;stroke-opacity:1\"/>\n<path class=\"bond-60 atom-53 atom-55\" d=\"M 761.9,179.0 L 758.2,177.7\" style=\"fill:none;fill-rule:evenodd;stroke:#000000;stroke-width:2.0px;stroke-linecap:butt;stroke-linejoin:miter;stroke-opacity:1\"/>\n<path class=\"bond-60 atom-53 atom-55\" d=\"M 758.2,177.7 L 754.6,176.4\" style=\"fill:none;fill-rule:evenodd;stroke:#FF0000;stroke-width:2.0px;stroke-linecap:butt;stroke-linejoin:miter;stroke-opacity:1\"/>\n<path class=\"bond-60 atom-53 atom-55\" d=\"M 761.3,180.5 L 757.7,179.1\" style=\"fill:none;fill-rule:evenodd;stroke:#000000;stroke-width:2.0px;stroke-linecap:butt;stroke-linejoin:miter;stroke-opacity:1\"/>\n<path class=\"bond-60 atom-53 atom-55\" d=\"M 757.7,179.1 L 754.1,177.8\" style=\"fill:none;fill-rule:evenodd;stroke:#FF0000;stroke-width:2.0px;stroke-linecap:butt;stroke-linejoin:miter;stroke-opacity:1\"/>\n<path class=\"bond-61 atom-5 atom-56\" d=\"M 713.2,158.2 L 706.7,150.3\" style=\"fill:none;fill-rule:evenodd;stroke:#000000;stroke-width:2.0px;stroke-linecap:butt;stroke-linejoin:miter;stroke-opacity:1\"/>\n<path class=\"bond-62 atom-56 atom-57\" d=\"M 706.7,150.3 L 707.9,147.1\" style=\"fill:none;fill-rule:evenodd;stroke:#000000;stroke-width:2.0px;stroke-linecap:butt;stroke-linejoin:miter;stroke-opacity:1\"/>\n<path class=\"bond-62 atom-56 atom-57\" d=\"M 707.9,147.1 L 709.1,143.8\" style=\"fill:none;fill-rule:evenodd;stroke:#FF0000;stroke-width:2.0px;stroke-linecap:butt;stroke-linejoin:miter;stroke-opacity:1\"/>\n<path class=\"bond-63 atom-56 atom-58\" d=\"M 707.0,149.5 L 703.1,150.2\" style=\"fill:none;fill-rule:evenodd;stroke:#000000;stroke-width:2.0px;stroke-linecap:butt;stroke-linejoin:miter;stroke-opacity:1\"/>\n<path class=\"bond-63 atom-56 atom-58\" d=\"M 703.1,150.2 L 699.3,150.8\" style=\"fill:none;fill-rule:evenodd;stroke:#FF0000;stroke-width:2.0px;stroke-linecap:butt;stroke-linejoin:miter;stroke-opacity:1\"/>\n<path class=\"bond-63 atom-56 atom-58\" d=\"M 707.3,151.0 L 703.4,151.7\" style=\"fill:none;fill-rule:evenodd;stroke:#000000;stroke-width:2.0px;stroke-linecap:butt;stroke-linejoin:miter;stroke-opacity:1\"/>\n<path class=\"bond-63 atom-56 atom-58\" d=\"M 703.4,151.7 L 699.5,152.3\" style=\"fill:none;fill-rule:evenodd;stroke:#FF0000;stroke-width:2.0px;stroke-linecap:butt;stroke-linejoin:miter;stroke-opacity:1\"/>\n<path d=\"M 728.9,172.9 L 728.8,173.4 L 728.4,173.6\" style=\"fill:none;stroke:#000000;stroke-width:2.0px;stroke-linecap:butt;stroke-linejoin:miter;stroke-opacity:1;\"/>\n<path d=\"M 713.7,158.1 L 713.2,158.2 L 712.9,157.8\" style=\"fill:none;stroke:#000000;stroke-width:2.0px;stroke-linecap:butt;stroke-linejoin:miter;stroke-opacity:1;\"/>\n<path d=\"M 748.3,162.9 L 748.7,163.1 L 749.1,162.9\" style=\"fill:none;stroke:#000000;stroke-width:2.0px;stroke-linecap:butt;stroke-linejoin:miter;stroke-opacity:1;\"/>\n<path d=\"M 719.9,177.1 L 719.4,177.2 L 719.3,177.8\" style=\"fill:none;stroke:#000000;stroke-width:2.0px;stroke-linecap:butt;stroke-linejoin:miter;stroke-opacity:1;\"/>\n<path d=\"M 723.4,138.8 L 723.1,138.3 L 723.4,137.9\" style=\"fill:none;stroke:#000000;stroke-width:2.0px;stroke-linecap:butt;stroke-linejoin:miter;stroke-opacity:1;\"/>\n<path d=\"M 718.1,186.9 L 718.0,187.4 L 718.1,187.5\" style=\"fill:none;stroke:#000000;stroke-width:2.0px;stroke-linecap:butt;stroke-linejoin:miter;stroke-opacity:1;\"/>\n<path d=\"M 713.8,118.8 L 713.3,118.7 L 712.9,119.1\" style=\"fill:none;stroke:#000000;stroke-width:2.0px;stroke-linecap:butt;stroke-linejoin:miter;stroke-opacity:1;\"/>\n<path d=\"M 783.6,157.6 L 784.1,157.6 L 784.4,157.2\" style=\"fill:none;stroke:#000000;stroke-width:2.0px;stroke-linecap:butt;stroke-linejoin:miter;stroke-opacity:1;\"/>\n<path d=\"M 773.6,138.0 L 773.9,137.5 L 773.6,137.1\" style=\"fill:none;stroke:#000000;stroke-width:2.0px;stroke-linecap:butt;stroke-linejoin:miter;stroke-opacity:1;\"/>\n<path d=\"M 707.2,126.3 L 706.9,126.7 L 706.4,126.6\" style=\"fill:none;stroke:#000000;stroke-width:2.0px;stroke-linecap:butt;stroke-linejoin:miter;stroke-opacity:1;\"/>\n<path d=\"M 748.2,112.6 L 748.6,112.4 L 749.1,112.6\" style=\"fill:none;stroke:#000000;stroke-width:2.0px;stroke-linecap:butt;stroke-linejoin:miter;stroke-opacity:1;\"/>\n<path d=\"M 790.2,150.1 L 790.5,149.7 L 791.0,149.8\" style=\"fill:none;stroke:#000000;stroke-width:2.0px;stroke-linecap:butt;stroke-linejoin:miter;stroke-opacity:1;\"/>\n<path d=\"M 697.3,125.2 L 696.8,125.1 L 696.7,125.2\" style=\"fill:none;stroke:#000000;stroke-width:2.0px;stroke-linecap:butt;stroke-linejoin:miter;stroke-opacity:1;\"/>\n<path d=\"M 800.1,151.3 L 800.6,151.3 L 800.7,151.2\" style=\"fill:none;stroke:#000000;stroke-width:2.0px;stroke-linecap:butt;stroke-linejoin:miter;stroke-opacity:1;\"/>\n<path d=\"M 768.2,102.7 L 768.3,102.2 L 767.9,101.8\" style=\"fill:none;stroke:#000000;stroke-width:2.0px;stroke-linecap:butt;stroke-linejoin:miter;stroke-opacity:1;\"/>\n<path d=\"M 789.9,125.1 L 790.2,125.4 L 790.4,125.4\" style=\"fill:none;stroke:#000000;stroke-width:2.0px;stroke-linecap:butt;stroke-linejoin:miter;stroke-opacity:1;\"/>\n<path d=\"M 760.7,96.1 L 760.3,95.8 L 760.4,95.3\" style=\"fill:none;stroke:#000000;stroke-width:2.0px;stroke-linecap:butt;stroke-linejoin:miter;stroke-opacity:1;\"/>\n<path d=\"M 761.8,86.2 L 761.9,85.7 L 761.7,85.6\" style=\"fill:none;stroke:#000000;stroke-width:2.0px;stroke-linecap:butt;stroke-linejoin:miter;stroke-opacity:1;\"/>\n<path d=\"M 728.8,103.4 L 728.7,102.9 L 729.1,102.5\" style=\"fill:none;stroke:#000000;stroke-width:2.0px;stroke-linecap:butt;stroke-linejoin:miter;stroke-opacity:1;\"/>\n<path d=\"M 736.1,96.6 L 736.5,96.3 L 736.7,96.4\" style=\"fill:none;stroke:#000000;stroke-width:2.0px;stroke-linecap:butt;stroke-linejoin:miter;stroke-opacity:1;\"/>\n<path d=\"M 768.9,172.5 L 769.0,173.0 L 768.6,173.3\" style=\"fill:none;stroke:#000000;stroke-width:2.0px;stroke-linecap:butt;stroke-linejoin:miter;stroke-opacity:1;\"/>\n<path d=\"M 761.6,179.3 L 761.2,179.6 L 761.2,179.8\" style=\"fill:none;stroke:#000000;stroke-width:2.0px;stroke-linecap:butt;stroke-linejoin:miter;stroke-opacity:1;\"/>\n<path d=\"M 707.0,150.7 L 706.7,150.3 L 706.8,150.2\" style=\"fill:none;stroke:#000000;stroke-width:2.0px;stroke-linecap:butt;stroke-linejoin:miter;stroke-opacity:1;\"/>\n<path d=\"M 783.3,117.6 L 783.8,117.5 L 784.1,117.9\" style=\"fill:none;stroke:#000000;stroke-width:2.0px;stroke-linecap:butt;stroke-linejoin:miter;stroke-opacity:1;\"/>\n<path class=\"atom-7\" d=\"M 736.9 146.1 L 738.6 148.9 Q 738.8 149.2, 739.1 149.7 Q 739.4 150.1, 739.4 150.2 L 739.4 146.1 L 740.1 146.1 L 740.1 151.4 L 739.4 151.4 L 737.5 148.3 Q 737.3 148.0, 737.1 147.5 Q 736.8 147.1, 736.8 147.0 L 736.8 151.4 L 736.1 151.4 L 736.1 146.1 L 736.9 146.1 \" fill=\"#0000FF\"/>\n<path class=\"atom-7\" d=\"M 741.1 146.1 L 741.8 146.1 L 741.8 148.3 L 744.5 148.3 L 744.5 146.1 L 745.2 146.1 L 745.2 151.4 L 744.5 151.4 L 744.5 148.9 L 741.8 148.9 L 741.8 151.4 L 741.1 151.4 L 741.1 146.1 \" fill=\"#0000FF\"/>\n<path class=\"atom-14\" d=\"M 752.0 145.9 L 752.7 145.9 L 752.7 148.1 L 755.4 148.1 L 755.4 145.9 L 756.1 145.9 L 756.1 151.2 L 755.4 151.2 L 755.4 148.7 L 752.7 148.7 L 752.7 151.2 L 752.0 151.2 L 752.0 145.9 \" fill=\"#0000FF\"/>\n<path class=\"atom-14\" d=\"M 757.9 145.9 L 759.7 148.7 Q 759.8 149.0, 760.1 149.5 Q 760.4 150.0, 760.4 150.0 L 760.4 145.9 L 761.1 145.9 L 761.1 151.2 L 760.4 151.2 L 758.5 148.1 Q 758.3 147.8, 758.1 147.4 Q 757.9 147.0, 757.8 146.8 L 757.8 151.2 L 757.1 151.2 L 757.1 145.9 L 757.9 145.9 \" fill=\"#0000FF\"/>\n<path class=\"atom-15\" d=\"M 723.6 193.6 Q 723.6 192.4, 724.3 191.7 Q 724.9 191.0, 726.1 191.0 Q 727.2 191.0, 727.8 191.7 Q 728.5 192.4, 728.5 193.6 Q 728.5 194.9, 727.8 195.6 Q 727.2 196.4, 726.1 196.4 Q 724.9 196.4, 724.3 195.6 Q 723.6 194.9, 723.6 193.6 M 726.1 195.8 Q 726.9 195.8, 727.3 195.2 Q 727.7 194.7, 727.7 193.6 Q 727.7 192.6, 727.3 192.1 Q 726.9 191.6, 726.1 191.6 Q 725.3 191.6, 724.8 192.1 Q 724.4 192.6, 724.4 193.6 Q 724.4 194.7, 724.8 195.2 Q 725.3 195.8, 726.1 195.8 \" fill=\"#FF0000\"/>\n<path class=\"atom-15\" d=\"M 729.2 191.8 L 731.0 191.8 L 731.0 192.2 L 729.2 192.2 L 729.2 191.8 \" fill=\"#FF0000\"/>\n<path class=\"atom-16\" d=\"M 706.1 191.2 Q 706.1 190.0, 706.8 189.3 Q 707.4 188.5, 708.5 188.5 Q 709.7 188.5, 710.3 189.3 Q 711.0 190.0, 711.0 191.2 Q 711.0 192.5, 710.3 193.2 Q 709.7 193.9, 708.5 193.9 Q 707.4 193.9, 706.8 193.2 Q 706.1 192.5, 706.1 191.2 M 708.5 193.4 Q 709.3 193.4, 709.8 192.8 Q 710.2 192.3, 710.2 191.2 Q 710.2 190.2, 709.8 189.7 Q 709.3 189.1, 708.5 189.1 Q 707.7 189.1, 707.3 189.7 Q 706.9 190.2, 706.9 191.2 Q 706.9 192.3, 707.3 192.8 Q 707.7 193.4, 708.5 193.4 \" fill=\"#FF0000\"/>\n<path class=\"atom-18\" d=\"M 736.4 124.4 L 738.1 127.1 Q 738.3 127.4, 738.5 127.9 Q 738.8 128.4, 738.8 128.4 L 738.8 124.4 L 739.5 124.4 L 739.5 129.6 L 738.8 129.6 L 737.0 126.6 Q 736.7 126.2, 736.5 125.8 Q 736.3 125.4, 736.2 125.3 L 736.2 129.6 L 735.5 129.6 L 735.5 124.4 L 736.4 124.4 \" fill=\"#0000FF\"/>\n<path class=\"atom-18\" d=\"M 740.5 124.4 L 741.3 124.4 L 741.3 126.6 L 743.9 126.6 L 743.9 124.4 L 744.7 124.4 L 744.7 129.6 L 743.9 129.6 L 743.9 127.2 L 741.3 127.2 L 741.3 129.6 L 740.5 129.6 L 740.5 124.4 \" fill=\"#0000FF\"/>\n<path class=\"atom-34\" d=\"M 752.1 124.5 L 752.8 124.5 L 752.8 126.8 L 755.5 126.8 L 755.5 124.5 L 756.2 124.5 L 756.2 129.8 L 755.5 129.8 L 755.5 127.4 L 752.8 127.4 L 752.8 129.8 L 752.1 129.8 L 752.1 124.5 \" fill=\"#0000FF\"/>\n<path class=\"atom-34\" d=\"M 758.1 124.5 L 759.8 127.3 Q 760.0 127.6, 760.3 128.1 Q 760.6 128.6, 760.6 128.6 L 760.6 124.5 L 761.3 124.5 L 761.3 129.8 L 760.5 129.8 L 758.7 126.8 Q 758.5 126.4, 758.3 126.0 Q 758.0 125.6, 758.0 125.5 L 758.0 129.8 L 757.3 129.8 L 757.3 124.5 L 758.1 124.5 \" fill=\"#0000FF\"/>\n<path class=\"atom-35\" d=\"M 688.0 133.1 Q 688.0 131.8, 688.6 131.1 Q 689.2 130.4, 690.4 130.4 Q 691.6 130.4, 692.2 131.1 Q 692.8 131.8, 692.8 133.1 Q 692.8 134.4, 692.2 135.1 Q 691.5 135.8, 690.4 135.8 Q 689.2 135.8, 688.6 135.1 Q 688.0 134.4, 688.0 133.1 M 690.4 135.2 Q 691.2 135.2, 691.6 134.7 Q 692.1 134.1, 692.1 133.1 Q 692.1 132.1, 691.6 131.5 Q 691.2 131.0, 690.4 131.0 Q 689.6 131.0, 689.2 131.5 Q 688.7 132.0, 688.7 133.1 Q 688.7 134.1, 689.2 134.7 Q 689.6 135.2, 690.4 135.2 \" fill=\"#FF0000\"/>\n<path class=\"atom-35\" d=\"M 693.6 131.3 L 695.4 131.3 L 695.4 131.7 L 693.6 131.7 L 693.6 131.3 \" fill=\"#FF0000\"/>\n<path class=\"atom-36\" d=\"M 690.7 115.6 Q 690.7 114.3, 691.3 113.6 Q 691.9 112.9, 693.1 112.9 Q 694.2 112.9, 694.9 113.6 Q 695.5 114.3, 695.5 115.6 Q 695.5 116.9, 694.9 117.6 Q 694.2 118.3, 693.1 118.3 Q 691.9 118.3, 691.3 117.6 Q 690.7 116.9, 690.7 115.6 M 693.1 117.7 Q 693.9 117.7, 694.3 117.2 Q 694.7 116.7, 694.7 115.6 Q 694.7 114.6, 694.3 114.1 Q 693.9 113.5, 693.1 113.5 Q 692.3 113.5, 691.8 114.1 Q 691.4 114.6, 691.4 115.6 Q 691.4 116.7, 691.8 117.2 Q 692.3 117.7, 693.1 117.7 \" fill=\"#FF0000\"/>\n<path class=\"atom-38\" d=\"M 801.8 160.9 Q 801.8 159.6, 802.5 158.9 Q 803.1 158.2, 804.2 158.2 Q 805.4 158.2, 806.0 158.9 Q 806.7 159.6, 806.7 160.9 Q 806.7 162.2, 806.0 162.9 Q 805.4 163.6, 804.2 163.6 Q 803.1 163.6, 802.5 162.9 Q 801.8 162.2, 801.8 160.9 M 804.2 163.0 Q 805.0 163.0, 805.5 162.5 Q 805.9 162.0, 805.9 160.9 Q 805.9 159.9, 805.5 159.3 Q 805.0 158.8, 804.2 158.8 Q 803.4 158.8, 803.0 159.3 Q 802.6 159.9, 802.6 160.9 Q 802.6 162.0, 803.0 162.5 Q 803.4 163.0, 804.2 163.0 \" fill=\"#FF0000\"/>\n<path class=\"atom-39\" d=\"M 804.6 143.4 Q 804.6 142.2, 805.3 141.5 Q 805.9 140.8, 807.1 140.8 Q 808.2 140.8, 808.8 141.5 Q 809.5 142.2, 809.5 143.4 Q 809.5 144.7, 808.8 145.4 Q 808.2 146.2, 807.1 146.2 Q 805.9 146.2, 805.3 145.4 Q 804.6 144.7, 804.6 143.4 M 807.1 145.6 Q 807.9 145.6, 808.3 145.0 Q 808.7 144.5, 808.7 143.4 Q 808.7 142.4, 808.3 141.9 Q 807.9 141.4, 807.1 141.4 Q 806.3 141.4, 805.8 141.9 Q 805.4 142.4, 805.4 143.4 Q 805.4 144.5, 805.8 145.0 Q 806.3 145.6, 807.1 145.6 \" fill=\"#FF0000\"/>\n<path class=\"atom-39\" d=\"M 810.2 141.6 L 812.0 141.6 L 812.0 142.0 L 810.2 142.0 L 810.2 141.6 \" fill=\"#FF0000\"/>\n<path class=\"atom-43\" d=\"M 797.9 123.9 Q 797.9 122.6, 798.5 121.9 Q 799.1 121.2, 800.3 121.2 Q 801.4 121.2, 802.1 121.9 Q 802.7 122.6, 802.7 123.9 Q 802.7 125.2, 802.0 125.9 Q 801.4 126.6, 800.3 126.6 Q 799.1 126.6, 798.5 125.9 Q 797.9 125.2, 797.9 123.9 M 800.3 126.0 Q 801.1 126.0, 801.5 125.5 Q 801.9 124.9, 801.9 123.9 Q 801.9 122.9, 801.5 122.3 Q 801.1 121.8, 800.3 121.8 Q 799.5 121.8, 799.0 122.3 Q 798.6 122.9, 798.6 123.9 Q 798.6 125.0, 799.0 125.5 Q 799.5 126.0, 800.3 126.0 \" fill=\"#FF0000\"/>\n<path class=\"atom-43\" d=\"M 803.4 122.1 L 805.2 122.1 L 805.2 122.5 L 803.4 122.5 L 803.4 122.1 \" fill=\"#FF0000\"/>\n<path class=\"atom-44\" d=\"M 784.1 135.0 Q 784.1 133.7, 784.7 133.0 Q 785.3 132.3, 786.5 132.3 Q 787.7 132.3, 788.3 133.0 Q 788.9 133.7, 788.9 135.0 Q 788.9 136.3, 788.3 137.0 Q 787.6 137.7, 786.5 137.7 Q 785.3 137.7, 784.7 137.0 Q 784.1 136.3, 784.1 135.0 M 786.5 137.1 Q 787.3 137.1, 787.7 136.6 Q 788.2 136.0, 788.2 135.0 Q 788.2 134.0, 787.7 133.4 Q 787.3 132.9, 786.5 132.9 Q 785.7 132.9, 785.3 133.4 Q 784.8 133.9, 784.8 135.0 Q 784.8 136.0, 785.3 136.6 Q 785.7 137.1, 786.5 137.1 \" fill=\"#FF0000\"/>\n<path class=\"atom-46\" d=\"M 751.5 79.3 Q 751.5 78.1, 752.1 77.3 Q 752.7 76.6, 753.9 76.6 Q 755.1 76.6, 755.7 77.3 Q 756.3 78.1, 756.3 79.3 Q 756.3 80.6, 755.7 81.3 Q 755.1 82.0, 753.9 82.0 Q 752.8 82.0, 752.1 81.3 Q 751.5 80.6, 751.5 79.3 M 753.9 81.4 Q 754.7 81.4, 755.1 80.9 Q 755.6 80.4, 755.6 79.3 Q 755.6 78.3, 755.1 77.8 Q 754.7 77.2, 753.9 77.2 Q 753.1 77.2, 752.7 77.8 Q 752.2 78.3, 752.2 79.3 Q 752.2 80.4, 752.7 80.9 Q 753.1 81.4, 753.9 81.4 \" fill=\"#FF0000\"/>\n<path class=\"atom-46\" d=\"M 757.1 77.5 L 758.9 77.5 L 758.9 77.9 L 757.1 77.9 L 757.1 77.5 \" fill=\"#FF0000\"/>\n<path class=\"atom-47\" d=\"M 769.0 82.0 Q 769.0 80.7, 769.6 80.0 Q 770.2 79.3, 771.4 79.3 Q 772.6 79.3, 773.2 80.0 Q 773.8 80.7, 773.8 82.0 Q 773.8 83.3, 773.2 84.0 Q 772.5 84.7, 771.4 84.7 Q 770.2 84.7, 769.6 84.0 Q 769.0 83.3, 769.0 82.0 M 771.4 84.1 Q 772.2 84.1, 772.6 83.6 Q 773.1 83.0, 773.1 82.0 Q 773.1 81.0, 772.6 80.4 Q 772.2 79.9, 771.4 79.9 Q 770.6 79.9, 770.2 80.4 Q 769.7 81.0, 769.7 82.0 Q 769.7 83.1, 770.2 83.6 Q 770.6 84.1, 771.4 84.1 \" fill=\"#FF0000\"/>\n<path class=\"atom-50\" d=\"M 732.3 86.3 Q 732.3 85.0, 732.9 84.3 Q 733.6 83.6, 734.7 83.6 Q 735.9 83.6, 736.5 84.3 Q 737.1 85.0, 737.1 86.3 Q 737.1 87.5, 736.5 88.3 Q 735.9 89.0, 734.7 89.0 Q 733.6 89.0, 732.9 88.3 Q 732.3 87.5, 732.3 86.3 M 734.7 88.4 Q 735.5 88.4, 736.0 87.9 Q 736.4 87.3, 736.4 86.3 Q 736.4 85.2, 736.0 84.7 Q 735.5 84.2, 734.7 84.2 Q 733.9 84.2, 733.5 84.7 Q 733.0 85.2, 733.0 86.3 Q 733.0 87.3, 733.5 87.9 Q 733.9 88.4, 734.7 88.4 \" fill=\"#FF0000\"/>\n<path class=\"atom-51\" d=\"M 743.7 99.8 Q 743.7 98.5, 744.3 97.8 Q 745.0 97.1, 746.1 97.1 Q 747.3 97.1, 747.9 97.8 Q 748.5 98.5, 748.5 99.8 Q 748.5 101.0, 747.9 101.8 Q 747.3 102.5, 746.1 102.5 Q 745.0 102.5, 744.3 101.8 Q 743.7 101.1, 743.7 99.8 M 746.1 101.9 Q 746.9 101.9, 747.4 101.4 Q 747.8 100.8, 747.8 99.8 Q 747.8 98.7, 747.4 98.2 Q 746.9 97.7, 746.1 97.7 Q 745.3 97.7, 744.9 98.2 Q 744.5 98.7, 744.5 99.8 Q 744.5 100.8, 744.9 101.4 Q 745.3 101.9, 746.1 101.9 \" fill=\"#FF0000\"/>\n<path class=\"atom-51\" d=\"M 749.3 98.0 L 751.1 98.0 L 751.1 98.3 L 749.3 98.3 L 749.3 98.0 \" fill=\"#FF0000\"/>\n<path class=\"atom-54\" d=\"M 760.6 189.7 Q 760.6 188.4, 761.2 187.7 Q 761.8 187.0, 763.0 187.0 Q 764.2 187.0, 764.8 187.7 Q 765.4 188.4, 765.4 189.7 Q 765.4 190.9, 764.8 191.7 Q 764.1 192.4, 763.0 192.4 Q 761.8 192.4, 761.2 191.7 Q 760.6 190.9, 760.6 189.7 M 763.0 191.8 Q 763.8 191.8, 764.2 191.3 Q 764.7 190.7, 764.7 189.7 Q 764.7 188.6, 764.2 188.1 Q 763.8 187.6, 763.0 187.6 Q 762.2 187.6, 761.7 188.1 Q 761.3 188.6, 761.3 189.7 Q 761.3 190.7, 761.7 191.3 Q 762.2 191.8, 763.0 191.8 \" fill=\"#FF0000\"/>\n<path class=\"atom-54\" d=\"M 766.1 187.8 L 767.9 187.8 L 767.9 188.2 L 766.1 188.2 L 766.1 187.8 \" fill=\"#FF0000\"/>\n<path class=\"atom-55\" d=\"M 749.2 176.1 Q 749.2 174.9, 749.8 174.2 Q 750.4 173.5, 751.6 173.5 Q 752.8 173.5, 753.4 174.2 Q 754.0 174.9, 754.0 176.1 Q 754.0 177.4, 753.4 178.1 Q 752.7 178.9, 751.6 178.9 Q 750.4 178.9, 749.8 178.1 Q 749.2 177.4, 749.2 176.1 M 751.6 178.3 Q 752.4 178.3, 752.8 177.7 Q 753.3 177.2, 753.3 176.1 Q 753.3 175.1, 752.8 174.6 Q 752.4 174.1, 751.6 174.1 Q 750.8 174.1, 750.3 174.6 Q 749.9 175.1, 749.9 176.1 Q 749.9 177.2, 750.3 177.7 Q 750.8 178.3, 751.6 178.3 \" fill=\"#FF0000\"/>\n<path class=\"atom-57\" d=\"M 707.8 140.8 Q 707.8 139.5, 708.5 138.8 Q 709.1 138.1, 710.3 138.1 Q 711.4 138.1, 712.0 138.8 Q 712.7 139.5, 712.7 140.8 Q 712.7 142.0, 712.0 142.8 Q 711.4 143.5, 710.3 143.5 Q 709.1 143.5, 708.5 142.8 Q 707.8 142.1, 707.8 140.8 M 710.3 142.9 Q 711.1 142.9, 711.5 142.4 Q 711.9 141.8, 711.9 140.8 Q 711.9 139.7, 711.5 139.2 Q 711.1 138.7, 710.3 138.7 Q 709.5 138.7, 709.0 139.2 Q 708.6 139.7, 708.6 140.8 Q 708.6 141.8, 709.0 142.4 Q 709.5 142.9, 710.3 142.9 \" fill=\"#FF0000\"/>\n<path class=\"atom-57\" d=\"M 713.4 139.0 L 715.2 139.0 L 715.2 139.3 L 713.4 139.3 L 713.4 139.0 \" fill=\"#FF0000\"/>\n<path class=\"atom-58\" d=\"M 694.2 152.1 Q 694.2 150.8, 694.9 150.1 Q 695.5 149.4, 696.7 149.4 Q 697.8 149.4, 698.4 150.1 Q 699.1 150.8, 699.1 152.1 Q 699.1 153.3, 698.4 154.1 Q 697.8 154.8, 696.7 154.8 Q 695.5 154.8, 694.9 154.1 Q 694.2 153.4, 694.2 152.1 M 696.7 154.2 Q 697.5 154.2, 697.9 153.7 Q 698.3 153.1, 698.3 152.1 Q 698.3 151.0, 697.9 150.5 Q 697.5 150.0, 696.7 150.0 Q 695.9 150.0, 695.4 150.5 Q 695.0 151.0, 695.0 152.1 Q 695.0 153.1, 695.4 153.7 Q 695.9 154.2, 696.7 154.2 \" fill=\"#FF0000\"/>\n<path class=\"legend\" d=\"M 731.6 277.8 Q 732.6 277.8, 733.4 278.2 Q 734.2 278.7, 734.6 279.4 Q 735.0 280.2, 735.0 281.2 Q 735.0 282.3, 734.6 283.2 Q 734.1 284.0, 733.2 284.5 Q 732.3 285.0, 731.2 285.0 Q 729.2 285.0, 728.2 283.6 Q 727.2 282.3, 727.2 279.5 Q 727.2 276.5, 728.4 275.0 Q 729.7 273.4, 732.1 273.4 Q 732.8 273.4, 733.4 273.6 Q 734.0 273.7, 734.6 274.1 L 734.0 275.1 Q 733.1 274.7, 732.1 274.7 Q 730.5 274.7, 729.7 275.7 Q 728.9 276.8, 728.8 278.9 Q 729.4 278.4, 730.1 278.1 Q 730.8 277.8, 731.6 277.8 M 731.3 283.7 Q 731.9 283.7, 732.4 283.4 Q 732.9 283.0, 733.2 282.5 Q 733.4 281.9, 733.4 281.2 Q 733.4 280.2, 732.9 279.7 Q 732.3 279.1, 731.3 279.1 Q 730.6 279.1, 730.0 279.4 Q 729.3 279.6, 728.8 280.1 Q 728.9 282.0, 729.5 282.8 Q 730.1 283.7, 731.3 283.7 \" fill=\"#000000\"/>\n<path class=\"legend\" d=\"M 736.7 275.7 Q 737.2 274.6, 738.1 274.0 Q 739.1 273.4, 740.5 273.4 Q 742.2 273.4, 743.2 274.3 Q 744.1 275.3, 744.1 276.9 Q 744.1 278.6, 742.9 280.2 Q 741.7 281.7, 739.1 283.6 L 744.3 283.6 L 744.3 284.9 L 736.7 284.9 L 736.7 283.8 Q 738.8 282.3, 740.1 281.2 Q 741.3 280.1, 741.9 279.0 Q 742.5 278.0, 742.5 277.0 Q 742.5 275.9, 742.0 275.3 Q 741.5 274.7, 740.5 274.7 Q 739.6 274.7, 739.0 275.1 Q 738.4 275.4, 738.0 276.2 L 736.7 275.7 \" fill=\"#000000\"/>\n<path class=\"legend\" d=\"M 750.5 277.8 Q 751.5 277.8, 752.3 278.2 Q 753.1 278.7, 753.5 279.4 Q 753.9 280.2, 753.9 281.2 Q 753.9 282.3, 753.4 283.2 Q 753.0 284.0, 752.1 284.5 Q 751.2 285.0, 750.1 285.0 Q 748.1 285.0, 747.1 283.6 Q 746.1 282.3, 746.1 279.5 Q 746.1 276.5, 747.3 275.0 Q 748.6 273.4, 751.0 273.4 Q 751.7 273.4, 752.3 273.6 Q 752.9 273.7, 753.5 274.1 L 752.9 275.1 Q 752.0 274.7, 751.0 274.7 Q 749.4 274.7, 748.6 275.7 Q 747.8 276.8, 747.7 278.9 Q 748.3 278.4, 749.0 278.1 Q 749.7 277.8, 750.5 277.8 M 750.1 283.7 Q 750.7 283.7, 751.2 283.4 Q 751.8 283.0, 752.0 282.5 Q 752.3 281.9, 752.3 281.2 Q 752.3 280.2, 751.8 279.7 Q 751.2 279.1, 750.2 279.1 Q 749.5 279.1, 748.8 279.4 Q 748.2 279.6, 747.7 280.1 Q 747.8 282.0, 748.3 282.8 Q 748.9 283.7, 750.1 283.7 \" fill=\"#000000\"/>\n<path class=\"legend\" d=\"M 755.6 275.7 Q 756.0 274.6, 757.0 274.0 Q 758.0 273.4, 759.4 273.4 Q 761.1 273.4, 762.1 274.3 Q 763.0 275.3, 763.0 276.9 Q 763.0 278.6, 761.8 280.2 Q 760.5 281.7, 758.0 283.6 L 763.2 283.6 L 763.2 284.9 L 755.6 284.9 L 755.6 283.8 Q 757.7 282.3, 758.9 281.2 Q 760.2 280.1, 760.8 279.0 Q 761.4 278.0, 761.4 277.0 Q 761.4 275.9, 760.9 275.3 Q 760.3 274.7, 759.4 274.7 Q 758.5 274.7, 757.9 275.1 Q 757.3 275.4, 756.8 276.2 L 755.6 275.7 \" fill=\"#000000\"/>\n<path class=\"legend\" d=\"M 769.4 277.8 Q 770.4 277.8, 771.2 278.2 Q 771.9 278.7, 772.4 279.4 Q 772.8 280.2, 772.8 281.2 Q 772.8 282.3, 772.3 283.2 Q 771.8 284.0, 771.0 284.5 Q 770.1 285.0, 769.0 285.0 Q 767.0 285.0, 766.0 283.6 Q 765.0 282.3, 765.0 279.5 Q 765.0 276.5, 766.2 275.0 Q 767.5 273.4, 769.9 273.4 Q 770.6 273.4, 771.2 273.6 Q 771.8 273.7, 772.4 274.1 L 771.7 275.1 Q 770.9 274.7, 769.9 274.7 Q 768.3 274.7, 767.5 275.7 Q 766.7 276.8, 766.6 278.9 Q 767.1 278.4, 767.9 278.1 Q 768.6 277.8, 769.4 277.8 M 769.0 283.7 Q 769.6 283.7, 770.1 283.4 Q 770.6 283.0, 770.9 282.5 Q 771.2 281.9, 771.2 281.2 Q 771.2 280.2, 770.6 279.7 Q 770.1 279.1, 769.1 279.1 Q 768.4 279.1, 767.7 279.4 Q 767.0 279.6, 766.6 280.1 Q 766.6 282.0, 767.2 282.8 Q 767.8 283.7, 769.0 283.7 \" fill=\"#000000\"/>\n<path class=\"bond-0 atom-0 atom-1\" d=\"M 139.6,456.9 L 130.2,462.1\" style=\"fill:none;fill-rule:evenodd;stroke:#000000;stroke-width:2.0px;stroke-linecap:butt;stroke-linejoin:miter;stroke-opacity:1\"/>\n<path class=\"bond-0 atom-0 atom-1\" d=\"M 137.9,456.1 L 130.5,460.2\" style=\"fill:none;fill-rule:evenodd;stroke:#000000;stroke-width:2.0px;stroke-linecap:butt;stroke-linejoin:miter;stroke-opacity:1\"/>\n<path class=\"bond-1 atom-0 atom-2\" d=\"M 139.6,456.9 L 148.7,461.9\" style=\"fill:none;fill-rule:evenodd;stroke:#000000;stroke-width:2.0px;stroke-linecap:butt;stroke-linejoin:miter;stroke-opacity:1\"/>\n<path class=\"bond-2 atom-0 atom-3\" d=\"M 139.6,456.9 L 139.1,453.7\" style=\"fill:none;fill-rule:evenodd;stroke:#000000;stroke-width:2.0px;stroke-linecap:butt;stroke-linejoin:miter;stroke-opacity:1\"/>\n<path class=\"bond-2 atom-0 atom-3\" d=\"M 139.1,453.7 L 138.6,450.5\" style=\"fill:none;fill-rule:evenodd;stroke:#0000FF;stroke-width:2.0px;stroke-linecap:butt;stroke-linejoin:miter;stroke-opacity:1\"/>\n<path class=\"bond-3 atom-1 atom-4\" d=\"M 130.2,462.1 L 123.3,455.3\" style=\"fill:none;fill-rule:evenodd;stroke:#000000;stroke-width:2.0px;stroke-linecap:butt;stroke-linejoin:miter;stroke-opacity:1\"/>\n<path class=\"bond-4 atom-1 atom-5\" d=\"M 130.2,462.1 L 128.8,472.2\" style=\"fill:none;fill-rule:evenodd;stroke:#000000;stroke-width:2.0px;stroke-linecap:butt;stroke-linejoin:miter;stroke-opacity:1\"/>\n<path class=\"bond-5 atom-2 atom-6\" d=\"M 148.7,461.9 L 157.4,457.1\" style=\"fill:none;fill-rule:evenodd;stroke:#000000;stroke-width:2.0px;stroke-linecap:butt;stroke-linejoin:miter;stroke-opacity:1\"/>\n<path class=\"bond-6 atom-3 atom-7\" d=\"M 135.8,447.1 L 131.8,446.5\" style=\"fill:none;fill-rule:evenodd;stroke:#0000FF;stroke-width:2.0px;stroke-linecap:butt;stroke-linejoin:miter;stroke-opacity:1\"/>\n<path class=\"bond-6 atom-3 atom-7\" d=\"M 131.8,446.5 L 127.9,445.8\" style=\"fill:none;fill-rule:evenodd;stroke:#000000;stroke-width:2.0px;stroke-linecap:butt;stroke-linejoin:miter;stroke-opacity:1\"/>\n<path class=\"bond-7 atom-4 atom-8\" d=\"M 123.3,455.3 L 113.2,457.0\" style=\"fill:none;fill-rule:evenodd;stroke:#000000;stroke-width:2.0px;stroke-linecap:butt;stroke-linejoin:miter;stroke-opacity:1\"/>\n<path class=\"bond-8 atom-5 atom-9\" d=\"M 128.8,472.2 L 136.9,478.5\" style=\"fill:none;fill-rule:evenodd;stroke:#000000;stroke-width:2.0px;stroke-linecap:butt;stroke-linejoin:miter;stroke-opacity:1\"/>\n<path class=\"bond-9 atom-6 atom-10\" d=\"M 157.4,457.1 L 167.2,461.8\" style=\"fill:none;fill-rule:evenodd;stroke:#000000;stroke-width:2.0px;stroke-linecap:butt;stroke-linejoin:miter;stroke-opacity:1\"/>\n<path class=\"bond-9 atom-6 atom-10\" d=\"M 159.1,456.2 L 166.9,459.9\" style=\"fill:none;fill-rule:evenodd;stroke:#000000;stroke-width:2.0px;stroke-linecap:butt;stroke-linejoin:miter;stroke-opacity:1\"/>\n<path class=\"bond-10 atom-6 atom-11\" d=\"M 157.4,457.1 L 158.0,453.7\" style=\"fill:none;fill-rule:evenodd;stroke:#000000;stroke-width:2.0px;stroke-linecap:butt;stroke-linejoin:miter;stroke-opacity:1\"/>\n<path class=\"bond-10 atom-6 atom-11\" d=\"M 158.0,453.7 L 158.6,450.3\" style=\"fill:none;fill-rule:evenodd;stroke:#0000FF;stroke-width:2.0px;stroke-linecap:butt;stroke-linejoin:miter;stroke-opacity:1\"/>\n<path class=\"bond-11 atom-7 atom-12\" d=\"M 127.9,445.8 L 123.1,437.1\" style=\"fill:none;fill-rule:evenodd;stroke:#000000;stroke-width:2.0px;stroke-linecap:butt;stroke-linejoin:miter;stroke-opacity:1\"/>\n<path class=\"bond-12 atom-9 atom-13\" d=\"M 136.9,478.5 L 135.5,488.6\" style=\"fill:none;fill-rule:evenodd;stroke:#000000;stroke-width:2.0px;stroke-linecap:butt;stroke-linejoin:miter;stroke-opacity:1\"/>\n<path class=\"bond-13 atom-10 atom-14\" d=\"M 167.2,461.8 L 174.0,454.8\" style=\"fill:none;fill-rule:evenodd;stroke:#000000;stroke-width:2.0px;stroke-linecap:butt;stroke-linejoin:miter;stroke-opacity:1\"/>\n<path class=\"bond-14 atom-10 atom-15\" d=\"M 167.2,461.8 L 169.0,471.8\" style=\"fill:none;fill-rule:evenodd;stroke:#000000;stroke-width:2.0px;stroke-linecap:butt;stroke-linejoin:miter;stroke-opacity:1\"/>\n<path class=\"bond-15 atom-11 atom-16\" d=\"M 161.4,446.8 L 165.3,445.9\" style=\"fill:none;fill-rule:evenodd;stroke:#0000FF;stroke-width:2.0px;stroke-linecap:butt;stroke-linejoin:miter;stroke-opacity:1\"/>\n<path class=\"bond-15 atom-11 atom-16\" d=\"M 165.3,445.9 L 169.2,445.1\" style=\"fill:none;fill-rule:evenodd;stroke:#000000;stroke-width:2.0px;stroke-linecap:butt;stroke-linejoin:miter;stroke-opacity:1\"/>\n<path class=\"bond-16 atom-12 atom-17\" d=\"M 123.1,437.1 L 127.8,427.7\" style=\"fill:none;fill-rule:evenodd;stroke:#000000;stroke-width:2.0px;stroke-linecap:butt;stroke-linejoin:miter;stroke-opacity:1\"/>\n<path class=\"bond-17 atom-13 atom-18\" d=\"M 135.6,487.7 L 132.1,489.1\" style=\"fill:none;fill-rule:evenodd;stroke:#000000;stroke-width:2.0px;stroke-linecap:butt;stroke-linejoin:miter;stroke-opacity:1\"/>\n<path class=\"bond-17 atom-13 atom-18\" d=\"M 132.1,489.1 L 128.5,490.6\" style=\"fill:none;fill-rule:evenodd;stroke:#FF0000;stroke-width:2.0px;stroke-linecap:butt;stroke-linejoin:miter;stroke-opacity:1\"/>\n<path class=\"bond-17 atom-13 atom-18\" d=\"M 136.2,489.1 L 132.7,490.6\" style=\"fill:none;fill-rule:evenodd;stroke:#000000;stroke-width:2.0px;stroke-linecap:butt;stroke-linejoin:miter;stroke-opacity:1\"/>\n<path class=\"bond-17 atom-13 atom-18\" d=\"M 132.7,490.6 L 129.1,492.0\" style=\"fill:none;fill-rule:evenodd;stroke:#FF0000;stroke-width:2.0px;stroke-linecap:butt;stroke-linejoin:miter;stroke-opacity:1\"/>\n<path class=\"bond-18 atom-13 atom-19\" d=\"M 135.5,488.6 L 138.2,490.6\" style=\"fill:none;fill-rule:evenodd;stroke:#000000;stroke-width:2.0px;stroke-linecap:butt;stroke-linejoin:miter;stroke-opacity:1\"/>\n<path class=\"bond-18 atom-13 atom-19\" d=\"M 138.2,490.6 L 140.8,492.7\" style=\"fill:none;fill-rule:evenodd;stroke:#FF0000;stroke-width:2.0px;stroke-linecap:butt;stroke-linejoin:miter;stroke-opacity:1\"/>\n<path class=\"bond-19 atom-14 atom-20\" d=\"M 174.0,454.8 L 184.1,456.4\" style=\"fill:none;fill-rule:evenodd;stroke:#000000;stroke-width:2.0px;stroke-linecap:butt;stroke-linejoin:miter;stroke-opacity:1\"/>\n<path class=\"bond-20 atom-16 atom-21\" d=\"M 169.2,445.1 L 173.9,436.3\" style=\"fill:none;fill-rule:evenodd;stroke:#000000;stroke-width:2.0px;stroke-linecap:butt;stroke-linejoin:miter;stroke-opacity:1\"/>\n<path class=\"bond-21 atom-17 atom-22\" d=\"M 127.8,427.7 L 123.3,419.0\" style=\"fill:none;fill-rule:evenodd;stroke:#000000;stroke-width:2.0px;stroke-linecap:butt;stroke-linejoin:miter;stroke-opacity:1\"/>\n<path class=\"bond-21 atom-17 atom-22\" d=\"M 128.6,426.0 L 125.2,419.3\" style=\"fill:none;fill-rule:evenodd;stroke:#000000;stroke-width:2.0px;stroke-linecap:butt;stroke-linejoin:miter;stroke-opacity:1\"/>\n<path class=\"bond-22 atom-17 atom-23\" d=\"M 127.8,427.7 L 131.5,427.0\" style=\"fill:none;fill-rule:evenodd;stroke:#000000;stroke-width:2.0px;stroke-linecap:butt;stroke-linejoin:miter;stroke-opacity:1\"/>\n<path class=\"bond-22 atom-17 atom-23\" d=\"M 131.5,427.0 L 135.2,426.2\" style=\"fill:none;fill-rule:evenodd;stroke:#0000FF;stroke-width:2.0px;stroke-linecap:butt;stroke-linejoin:miter;stroke-opacity:1\"/>\n<path class=\"bond-23 atom-20 atom-24\" d=\"M 184.1,456.4 L 190.5,448.5\" style=\"fill:none;fill-rule:evenodd;stroke:#000000;stroke-width:2.0px;stroke-linecap:butt;stroke-linejoin:miter;stroke-opacity:1\"/>\n<path class=\"bond-24 atom-21 atom-25\" d=\"M 173.9,436.3 L 168.7,427.3\" style=\"fill:none;fill-rule:evenodd;stroke:#000000;stroke-width:2.0px;stroke-linecap:butt;stroke-linejoin:miter;stroke-opacity:1\"/>\n<path class=\"bond-25 atom-22 atom-26\" d=\"M 123.3,419.0 L 130.5,411.7\" style=\"fill:none;fill-rule:evenodd;stroke:#000000;stroke-width:2.0px;stroke-linecap:butt;stroke-linejoin:miter;stroke-opacity:1\"/>\n<path class=\"bond-26 atom-22 atom-27\" d=\"M 123.3,419.0 L 113.3,417.5\" style=\"fill:none;fill-rule:evenodd;stroke:#000000;stroke-width:2.0px;stroke-linecap:butt;stroke-linejoin:miter;stroke-opacity:1\"/>\n<path class=\"bond-27 atom-23 atom-28\" d=\"M 138.2,422.8 L 138.9,419.4\" style=\"fill:none;fill-rule:evenodd;stroke:#0000FF;stroke-width:2.0px;stroke-linecap:butt;stroke-linejoin:miter;stroke-opacity:1\"/>\n<path class=\"bond-27 atom-23 atom-28\" d=\"M 138.9,419.4 L 139.6,416.0\" style=\"fill:none;fill-rule:evenodd;stroke:#000000;stroke-width:2.0px;stroke-linecap:butt;stroke-linejoin:miter;stroke-opacity:1\"/>\n<path class=\"bond-28 atom-24 atom-29\" d=\"M 190.5,448.5 L 200.6,450.1\" style=\"fill:none;fill-rule:evenodd;stroke:#000000;stroke-width:2.0px;stroke-linecap:butt;stroke-linejoin:miter;stroke-opacity:1\"/>\n<path class=\"bond-29 atom-25 atom-30\" d=\"M 168.7,427.3 L 173.7,417.9\" style=\"fill:none;fill-rule:evenodd;stroke:#000000;stroke-width:2.0px;stroke-linecap:butt;stroke-linejoin:miter;stroke-opacity:1\"/>\n<path class=\"bond-29 atom-25 atom-30\" d=\"M 167.9,425.7 L 171.8,418.2\" style=\"fill:none;fill-rule:evenodd;stroke:#000000;stroke-width:2.0px;stroke-linecap:butt;stroke-linejoin:miter;stroke-opacity:1\"/>\n<path class=\"bond-30 atom-25 atom-31\" d=\"M 168.7,427.3 L 165.2,426.8\" style=\"fill:none;fill-rule:evenodd;stroke:#000000;stroke-width:2.0px;stroke-linecap:butt;stroke-linejoin:miter;stroke-opacity:1\"/>\n<path class=\"bond-30 atom-25 atom-31\" d=\"M 165.2,426.8 L 161.6,426.3\" style=\"fill:none;fill-rule:evenodd;stroke:#0000FF;stroke-width:2.0px;stroke-linecap:butt;stroke-linejoin:miter;stroke-opacity:1\"/>\n<path class=\"bond-31 atom-26 atom-32\" d=\"M 130.5,411.7 L 128.7,401.7\" style=\"fill:none;fill-rule:evenodd;stroke:#000000;stroke-width:2.0px;stroke-linecap:butt;stroke-linejoin:miter;stroke-opacity:1\"/>\n<path class=\"bond-32 atom-27 atom-33\" d=\"M 113.3,417.5 L 106.9,425.4\" style=\"fill:none;fill-rule:evenodd;stroke:#000000;stroke-width:2.0px;stroke-linecap:butt;stroke-linejoin:miter;stroke-opacity:1\"/>\n<path class=\"bond-33 atom-28 atom-34\" d=\"M 139.6,416.0 L 148.6,411.2\" style=\"fill:none;fill-rule:evenodd;stroke:#000000;stroke-width:2.0px;stroke-linecap:butt;stroke-linejoin:miter;stroke-opacity:1\"/>\n<path class=\"bond-34 atom-29 atom-35\" d=\"M 200.6,450.1 L 202.6,447.7\" style=\"fill:none;fill-rule:evenodd;stroke:#000000;stroke-width:2.0px;stroke-linecap:butt;stroke-linejoin:miter;stroke-opacity:1\"/>\n<path class=\"bond-34 atom-29 atom-35\" d=\"M 202.6,447.7 L 204.6,445.3\" style=\"fill:none;fill-rule:evenodd;stroke:#FF0000;stroke-width:2.0px;stroke-linecap:butt;stroke-linejoin:miter;stroke-opacity:1\"/>\n<path class=\"bond-35 atom-29 atom-36\" d=\"M 199.7,450.0 L 201.1,453.5\" style=\"fill:none;fill-rule:evenodd;stroke:#000000;stroke-width:2.0px;stroke-linecap:butt;stroke-linejoin:miter;stroke-opacity:1\"/>\n<path class=\"bond-35 atom-29 atom-36\" d=\"M 201.1,453.5 L 202.4,457.0\" style=\"fill:none;fill-rule:evenodd;stroke:#FF0000;stroke-width:2.0px;stroke-linecap:butt;stroke-linejoin:miter;stroke-opacity:1\"/>\n<path class=\"bond-35 atom-29 atom-36\" d=\"M 201.2,449.5 L 202.5,452.9\" style=\"fill:none;fill-rule:evenodd;stroke:#000000;stroke-width:2.0px;stroke-linecap:butt;stroke-linejoin:miter;stroke-opacity:1\"/>\n<path class=\"bond-35 atom-29 atom-36\" d=\"M 202.5,452.9 L 203.8,456.4\" style=\"fill:none;fill-rule:evenodd;stroke:#FF0000;stroke-width:2.0px;stroke-linecap:butt;stroke-linejoin:miter;stroke-opacity:1\"/>\n<path class=\"bond-36 atom-30 atom-37\" d=\"M 173.7,417.9 L 166.7,411.0\" style=\"fill:none;fill-rule:evenodd;stroke:#000000;stroke-width:2.0px;stroke-linecap:butt;stroke-linejoin:miter;stroke-opacity:1\"/>\n<path class=\"bond-37 atom-30 atom-38\" d=\"M 173.7,417.9 L 183.8,416.3\" style=\"fill:none;fill-rule:evenodd;stroke:#000000;stroke-width:2.0px;stroke-linecap:butt;stroke-linejoin:miter;stroke-opacity:1\"/>\n<path class=\"bond-38 atom-31 atom-39\" d=\"M 158.7,423.0 L 158.0,419.4\" style=\"fill:none;fill-rule:evenodd;stroke:#0000FF;stroke-width:2.0px;stroke-linecap:butt;stroke-linejoin:miter;stroke-opacity:1\"/>\n<path class=\"bond-38 atom-31 atom-39\" d=\"M 158.0,419.4 L 157.4,415.8\" style=\"fill:none;fill-rule:evenodd;stroke:#000000;stroke-width:2.0px;stroke-linecap:butt;stroke-linejoin:miter;stroke-opacity:1\"/>\n<path class=\"bond-39 atom-33 atom-40\" d=\"M 106.9,425.4 L 96.8,423.9\" style=\"fill:none;fill-rule:evenodd;stroke:#000000;stroke-width:2.0px;stroke-linecap:butt;stroke-linejoin:miter;stroke-opacity:1\"/>\n<path class=\"bond-40 atom-37 atom-41\" d=\"M 166.7,411.0 L 168.3,401.0\" style=\"fill:none;fill-rule:evenodd;stroke:#000000;stroke-width:2.0px;stroke-linecap:butt;stroke-linejoin:miter;stroke-opacity:1\"/>\n<path class=\"bond-41 atom-40 atom-42\" d=\"M 97.7,424.0 L 96.3,420.6\" style=\"fill:none;fill-rule:evenodd;stroke:#000000;stroke-width:2.0px;stroke-linecap:butt;stroke-linejoin:miter;stroke-opacity:1\"/>\n<path class=\"bond-41 atom-40 atom-42\" d=\"M 96.3,420.6 L 95.0,417.2\" style=\"fill:none;fill-rule:evenodd;stroke:#FF0000;stroke-width:2.0px;stroke-linecap:butt;stroke-linejoin:miter;stroke-opacity:1\"/>\n<path class=\"bond-41 atom-40 atom-42\" d=\"M 96.2,424.6 L 94.9,421.2\" style=\"fill:none;fill-rule:evenodd;stroke:#000000;stroke-width:2.0px;stroke-linecap:butt;stroke-linejoin:miter;stroke-opacity:1\"/>\n<path class=\"bond-41 atom-40 atom-42\" d=\"M 94.9,421.2 L 93.6,417.7\" style=\"fill:none;fill-rule:evenodd;stroke:#FF0000;stroke-width:2.0px;stroke-linecap:butt;stroke-linejoin:miter;stroke-opacity:1\"/>\n<path class=\"bond-42 atom-40 atom-43\" d=\"M 96.8,423.9 L 94.8,426.4\" style=\"fill:none;fill-rule:evenodd;stroke:#000000;stroke-width:2.0px;stroke-linecap:butt;stroke-linejoin:miter;stroke-opacity:1\"/>\n<path class=\"bond-42 atom-40 atom-43\" d=\"M 94.8,426.4 L 92.8,428.9\" style=\"fill:none;fill-rule:evenodd;stroke:#FF0000;stroke-width:2.0px;stroke-linecap:butt;stroke-linejoin:miter;stroke-opacity:1\"/>\n<path class=\"bond-43 atom-41 atom-44\" d=\"M 168.3,401.0 L 160.3,394.6\" style=\"fill:none;fill-rule:evenodd;stroke:#000000;stroke-width:2.0px;stroke-linecap:butt;stroke-linejoin:miter;stroke-opacity:1\"/>\n<path class=\"bond-44 atom-44 atom-45\" d=\"M 160.3,394.6 L 161.9,384.5\" style=\"fill:none;fill-rule:evenodd;stroke:#000000;stroke-width:2.0px;stroke-linecap:butt;stroke-linejoin:miter;stroke-opacity:1\"/>\n<path class=\"bond-45 atom-45 atom-46\" d=\"M 161.9,384.5 L 159.3,382.4\" style=\"fill:none;fill-rule:evenodd;stroke:#000000;stroke-width:2.0px;stroke-linecap:butt;stroke-linejoin:miter;stroke-opacity:1\"/>\n<path class=\"bond-45 atom-45 atom-46\" d=\"M 159.3,382.4 L 156.7,380.3\" style=\"fill:none;fill-rule:evenodd;stroke:#FF0000;stroke-width:2.0px;stroke-linecap:butt;stroke-linejoin:miter;stroke-opacity:1\"/>\n<path class=\"bond-46 atom-45 atom-47\" d=\"M 161.7,385.3 L 165.3,384.0\" style=\"fill:none;fill-rule:evenodd;stroke:#000000;stroke-width:2.0px;stroke-linecap:butt;stroke-linejoin:miter;stroke-opacity:1\"/>\n<path class=\"bond-46 atom-45 atom-47\" d=\"M 165.3,384.0 L 168.9,382.6\" style=\"fill:none;fill-rule:evenodd;stroke:#FF0000;stroke-width:2.0px;stroke-linecap:butt;stroke-linejoin:miter;stroke-opacity:1\"/>\n<path class=\"bond-46 atom-45 atom-47\" d=\"M 161.2,383.9 L 164.8,382.5\" style=\"fill:none;fill-rule:evenodd;stroke:#000000;stroke-width:2.0px;stroke-linecap:butt;stroke-linejoin:miter;stroke-opacity:1\"/>\n<path class=\"bond-46 atom-45 atom-47\" d=\"M 164.8,382.5 L 168.4,381.1\" style=\"fill:none;fill-rule:evenodd;stroke:#FF0000;stroke-width:2.0px;stroke-linecap:butt;stroke-linejoin:miter;stroke-opacity:1\"/>\n<path class=\"bond-47 atom-4 atom-7\" d=\"M 123.3,455.3 L 127.9,445.8\" style=\"fill:none;fill-rule:evenodd;stroke:#000000;stroke-width:2.0px;stroke-linecap:butt;stroke-linejoin:miter;stroke-opacity:1\"/>\n<path class=\"bond-47 atom-4 atom-7\" d=\"M 125.2,454.9 L 128.8,447.5\" style=\"fill:none;fill-rule:evenodd;stroke:#000000;stroke-width:2.0px;stroke-linecap:butt;stroke-linejoin:miter;stroke-opacity:1\"/>\n<path class=\"bond-48 atom-14 atom-16\" d=\"M 174.0,454.8 L 169.2,445.1\" style=\"fill:none;fill-rule:evenodd;stroke:#000000;stroke-width:2.0px;stroke-linecap:butt;stroke-linejoin:miter;stroke-opacity:1\"/>\n<path class=\"bond-48 atom-14 atom-16\" d=\"M 172.2,454.5 L 168.4,446.8\" style=\"fill:none;fill-rule:evenodd;stroke:#000000;stroke-width:2.0px;stroke-linecap:butt;stroke-linejoin:miter;stroke-opacity:1\"/>\n<path class=\"bond-49 atom-26 atom-28\" d=\"M 130.5,411.7 L 139.6,416.0\" style=\"fill:none;fill-rule:evenodd;stroke:#000000;stroke-width:2.0px;stroke-linecap:butt;stroke-linejoin:miter;stroke-opacity:1\"/>\n<path class=\"bond-49 atom-26 atom-28\" d=\"M 130.9,413.6 L 137.9,416.9\" style=\"fill:none;fill-rule:evenodd;stroke:#000000;stroke-width:2.0px;stroke-linecap:butt;stroke-linejoin:miter;stroke-opacity:1\"/>\n<path class=\"bond-50 atom-34 atom-39\" d=\"M 148.6,411.2 L 157.4,415.8\" style=\"fill:none;fill-rule:evenodd;stroke:#000000;stroke-width:2.0px;stroke-linecap:butt;stroke-linejoin:miter;stroke-opacity:1\"/>\n<path class=\"bond-51 atom-37 atom-39\" d=\"M 166.7,411.0 L 157.4,415.8\" style=\"fill:none;fill-rule:evenodd;stroke:#000000;stroke-width:2.0px;stroke-linecap:butt;stroke-linejoin:miter;stroke-opacity:1\"/>\n<path class=\"bond-51 atom-37 atom-39\" d=\"M 166.5,412.9 L 159.1,416.7\" style=\"fill:none;fill-rule:evenodd;stroke:#000000;stroke-width:2.0px;stroke-linecap:butt;stroke-linejoin:miter;stroke-opacity:1\"/>\n<path d=\"M 148.3,461.7 L 148.7,461.9 L 149.1,461.7\" style=\"fill:none;stroke:#000000;stroke-width:2.0px;stroke-linecap:butt;stroke-linejoin:miter;stroke-opacity:1;\"/>\n<path d=\"M 128.9,471.7 L 128.8,472.2 L 129.3,472.5\" style=\"fill:none;stroke:#000000;stroke-width:2.0px;stroke-linecap:butt;stroke-linejoin:miter;stroke-opacity:1;\"/>\n<path d=\"M 136.5,478.1 L 136.9,478.5 L 136.8,479.0\" style=\"fill:none;stroke:#000000;stroke-width:2.0px;stroke-linecap:butt;stroke-linejoin:miter;stroke-opacity:1;\"/>\n<path d=\"M 123.4,437.6 L 123.1,437.1 L 123.4,436.7\" style=\"fill:none;stroke:#000000;stroke-width:2.0px;stroke-linecap:butt;stroke-linejoin:miter;stroke-opacity:1;\"/>\n<path d=\"M 135.6,488.1 L 135.5,488.6 L 135.6,488.7\" style=\"fill:none;stroke:#000000;stroke-width:2.0px;stroke-linecap:butt;stroke-linejoin:miter;stroke-opacity:1;\"/>\n<path d=\"M 183.6,456.4 L 184.1,456.4 L 184.4,456.0\" style=\"fill:none;stroke:#000000;stroke-width:2.0px;stroke-linecap:butt;stroke-linejoin:miter;stroke-opacity:1;\"/>\n<path d=\"M 173.6,436.8 L 173.9,436.3 L 173.6,435.9\" style=\"fill:none;stroke:#000000;stroke-width:2.0px;stroke-linecap:butt;stroke-linejoin:miter;stroke-opacity:1;\"/>\n<path d=\"M 190.2,448.9 L 190.5,448.5 L 191.0,448.6\" style=\"fill:none;stroke:#000000;stroke-width:2.0px;stroke-linecap:butt;stroke-linejoin:miter;stroke-opacity:1;\"/>\n<path d=\"M 113.8,417.6 L 113.3,417.5 L 112.9,417.9\" style=\"fill:none;stroke:#000000;stroke-width:2.0px;stroke-linecap:butt;stroke-linejoin:miter;stroke-opacity:1;\"/>\n<path d=\"M 200.1,450.1 L 200.6,450.1 L 200.7,450.0\" style=\"fill:none;stroke:#000000;stroke-width:2.0px;stroke-linecap:butt;stroke-linejoin:miter;stroke-opacity:1;\"/>\n<path d=\"M 107.2,425.0 L 106.9,425.4 L 106.4,425.4\" style=\"fill:none;stroke:#000000;stroke-width:2.0px;stroke-linecap:butt;stroke-linejoin:miter;stroke-opacity:1;\"/>\n<path d=\"M 148.2,411.4 L 148.6,411.2 L 149.1,411.4\" style=\"fill:none;stroke:#000000;stroke-width:2.0px;stroke-linecap:butt;stroke-linejoin:miter;stroke-opacity:1;\"/>\n<path d=\"M 97.3,424.0 L 96.8,423.9 L 96.7,424.0\" style=\"fill:none;stroke:#000000;stroke-width:2.0px;stroke-linecap:butt;stroke-linejoin:miter;stroke-opacity:1;\"/>\n<path d=\"M 168.2,401.5 L 168.3,401.0 L 167.9,400.6\" style=\"fill:none;stroke:#000000;stroke-width:2.0px;stroke-linecap:butt;stroke-linejoin:miter;stroke-opacity:1;\"/>\n<path d=\"M 160.7,394.9 L 160.3,394.6 L 160.4,394.1\" style=\"fill:none;stroke:#000000;stroke-width:2.0px;stroke-linecap:butt;stroke-linejoin:miter;stroke-opacity:1;\"/>\n<path d=\"M 161.8,385.0 L 161.9,384.5 L 161.7,384.4\" style=\"fill:none;stroke:#000000;stroke-width:2.0px;stroke-linecap:butt;stroke-linejoin:miter;stroke-opacity:1;\"/>\n<path class=\"atom-3\" d=\"M 136.9 444.9 L 138.6 447.7 Q 138.8 447.9, 139.1 448.4 Q 139.4 448.9, 139.4 449.0 L 139.4 444.9 L 140.1 444.9 L 140.1 450.1 L 139.4 450.1 L 137.5 447.1 Q 137.3 446.7, 137.1 446.3 Q 136.8 445.9, 136.8 445.8 L 136.8 450.1 L 136.1 450.1 L 136.1 444.9 L 136.9 444.9 \" fill=\"#0000FF\"/>\n<path class=\"atom-3\" d=\"M 141.1 444.9 L 141.8 444.9 L 141.8 447.1 L 144.5 447.1 L 144.5 444.9 L 145.2 444.9 L 145.2 450.1 L 144.5 450.1 L 144.5 447.7 L 141.8 447.7 L 141.8 450.1 L 141.1 450.1 L 141.1 444.9 \" fill=\"#0000FF\"/>\n<path class=\"atom-11\" d=\"M 152.0 444.7 L 152.7 444.7 L 152.7 446.9 L 155.4 446.9 L 155.4 444.7 L 156.1 444.7 L 156.1 450.0 L 155.4 450.0 L 155.4 447.5 L 152.7 447.5 L 152.7 450.0 L 152.0 450.0 L 152.0 444.7 \" fill=\"#0000FF\"/>\n<path class=\"atom-11\" d=\"M 157.9 444.7 L 159.7 447.5 Q 159.8 447.8, 160.1 448.3 Q 160.4 448.8, 160.4 448.8 L 160.4 444.7 L 161.1 444.7 L 161.1 450.0 L 160.4 450.0 L 158.5 446.9 Q 158.3 446.6, 158.1 446.2 Q 157.9 445.7, 157.8 445.6 L 157.8 450.0 L 157.1 450.0 L 157.1 444.7 L 157.9 444.7 \" fill=\"#0000FF\"/>\n<path class=\"atom-18\" d=\"M 123.6 492.4 Q 123.6 491.2, 124.3 490.5 Q 124.9 489.8, 126.1 489.8 Q 127.2 489.8, 127.8 490.5 Q 128.5 491.2, 128.5 492.4 Q 128.5 493.7, 127.8 494.4 Q 127.2 495.2, 126.1 495.2 Q 124.9 495.2, 124.3 494.4 Q 123.6 493.7, 123.6 492.4 M 126.1 494.6 Q 126.9 494.6, 127.3 494.0 Q 127.7 493.5, 127.7 492.4 Q 127.7 491.4, 127.3 490.9 Q 126.9 490.3, 126.1 490.3 Q 125.3 490.3, 124.8 490.9 Q 124.4 491.4, 124.4 492.4 Q 124.4 493.5, 124.8 494.0 Q 125.3 494.6, 126.1 494.6 \" fill=\"#FF0000\"/>\n<path class=\"atom-19\" d=\"M 141.2 494.8 Q 141.2 493.6, 141.8 492.9 Q 142.4 492.2, 143.6 492.2 Q 144.7 492.2, 145.4 492.9 Q 146.0 493.6, 146.0 494.8 Q 146.0 496.1, 145.4 496.8 Q 144.7 497.6, 143.6 497.6 Q 142.4 497.6, 141.8 496.8 Q 141.2 496.1, 141.2 494.8 M 143.6 497.0 Q 144.4 497.0, 144.8 496.4 Q 145.2 495.9, 145.2 494.8 Q 145.2 493.8, 144.8 493.3 Q 144.4 492.8, 143.6 492.8 Q 142.8 492.8, 142.3 493.3 Q 141.9 493.8, 141.9 494.8 Q 141.9 495.9, 142.3 496.4 Q 142.8 497.0, 143.6 497.0 \" fill=\"#FF0000\"/>\n<path class=\"atom-19\" d=\"M 146.7 493.0 L 148.5 493.0 L 148.5 493.4 L 146.7 493.4 L 146.7 493.0 \" fill=\"#FF0000\"/>\n<path class=\"atom-23\" d=\"M 136.4 423.2 L 138.1 425.9 Q 138.3 426.2, 138.5 426.7 Q 138.8 427.2, 138.8 427.2 L 138.8 423.2 L 139.5 423.2 L 139.5 428.4 L 138.8 428.4 L 137.0 425.4 Q 136.7 425.0, 136.5 424.6 Q 136.3 424.2, 136.2 424.1 L 136.2 428.4 L 135.5 428.4 L 135.5 423.2 L 136.4 423.2 \" fill=\"#0000FF\"/>\n<path class=\"atom-23\" d=\"M 140.5 423.2 L 141.3 423.2 L 141.3 425.4 L 143.9 425.4 L 143.9 423.2 L 144.7 423.2 L 144.7 428.4 L 143.9 428.4 L 143.9 426.0 L 141.3 426.0 L 141.3 428.4 L 140.5 428.4 L 140.5 423.2 \" fill=\"#0000FF\"/>\n<path class=\"atom-31\" d=\"M 152.1 423.3 L 152.8 423.3 L 152.8 425.6 L 155.5 425.6 L 155.5 423.3 L 156.2 423.3 L 156.2 428.6 L 155.5 428.6 L 155.5 426.2 L 152.8 426.2 L 152.8 428.6 L 152.1 428.6 L 152.1 423.3 \" fill=\"#0000FF\"/>\n<path class=\"atom-31\" d=\"M 158.1 423.3 L 159.8 426.1 Q 160.0 426.4, 160.3 426.9 Q 160.6 427.4, 160.6 427.4 L 160.6 423.3 L 161.3 423.3 L 161.3 428.6 L 160.5 428.6 L 158.7 425.5 Q 158.5 425.2, 158.3 424.8 Q 158.0 424.4, 158.0 424.2 L 158.0 428.6 L 157.3 428.6 L 157.3 423.3 L 158.1 423.3 \" fill=\"#0000FF\"/>\n<path class=\"atom-35\" d=\"M 204.6 442.2 Q 204.6 441.0, 205.3 440.3 Q 205.9 439.6, 207.1 439.6 Q 208.2 439.6, 208.8 440.3 Q 209.5 441.0, 209.5 442.2 Q 209.5 443.5, 208.8 444.2 Q 208.2 445.0, 207.1 445.0 Q 205.9 445.0, 205.3 444.2 Q 204.6 443.5, 204.6 442.2 M 207.1 444.4 Q 207.9 444.4, 208.3 443.8 Q 208.7 443.3, 208.7 442.2 Q 208.7 441.2, 208.3 440.7 Q 207.9 440.2, 207.1 440.2 Q 206.3 440.2, 205.8 440.7 Q 205.4 441.2, 205.4 442.2 Q 205.4 443.3, 205.8 443.8 Q 206.3 444.4, 207.1 444.4 \" fill=\"#FF0000\"/>\n<path class=\"atom-35\" d=\"M 210.2 440.4 L 212.0 440.4 L 212.0 440.8 L 210.2 440.8 L 210.2 440.4 \" fill=\"#FF0000\"/>\n<path class=\"atom-36\" d=\"M 201.8 459.7 Q 201.8 458.4, 202.5 457.7 Q 203.1 457.0, 204.2 457.0 Q 205.4 457.0, 206.0 457.7 Q 206.7 458.4, 206.7 459.7 Q 206.7 461.0, 206.0 461.7 Q 205.4 462.4, 204.2 462.4 Q 203.1 462.4, 202.5 461.7 Q 201.8 461.0, 201.8 459.7 M 204.2 461.8 Q 205.0 461.8, 205.5 461.3 Q 205.9 460.7, 205.9 459.7 Q 205.9 458.7, 205.5 458.1 Q 205.0 457.6, 204.2 457.6 Q 203.4 457.6, 203.0 458.1 Q 202.6 458.7, 202.6 459.7 Q 202.6 460.8, 203.0 461.3 Q 203.4 461.8, 204.2 461.8 \" fill=\"#FF0000\"/>\n<path class=\"atom-42\" d=\"M 90.7 414.4 Q 90.7 413.1, 91.3 412.4 Q 91.9 411.7, 93.1 411.7 Q 94.2 411.7, 94.9 412.4 Q 95.5 413.1, 95.5 414.4 Q 95.5 415.7, 94.9 416.4 Q 94.2 417.1, 93.1 417.1 Q 91.9 417.1, 91.3 416.4 Q 90.7 415.7, 90.7 414.4 M 93.1 416.5 Q 93.9 416.5, 94.3 416.0 Q 94.7 415.5, 94.7 414.4 Q 94.7 413.4, 94.3 412.9 Q 93.9 412.3, 93.1 412.3 Q 92.3 412.3, 91.8 412.8 Q 91.4 413.4, 91.4 414.4 Q 91.4 415.5, 91.8 416.0 Q 92.3 416.5, 93.1 416.5 \" fill=\"#FF0000\"/>\n<path class=\"atom-43\" d=\"M 88.0 431.9 Q 88.0 430.6, 88.6 429.9 Q 89.2 429.2, 90.4 429.2 Q 91.6 429.2, 92.2 429.9 Q 92.8 430.6, 92.8 431.9 Q 92.8 433.2, 92.2 433.9 Q 91.5 434.6, 90.4 434.6 Q 89.2 434.6, 88.6 433.9 Q 88.0 433.2, 88.0 431.9 M 90.4 434.0 Q 91.2 434.0, 91.6 433.5 Q 92.1 432.9, 92.1 431.9 Q 92.1 430.8, 91.6 430.3 Q 91.2 429.8, 90.4 429.8 Q 89.6 429.8, 89.2 430.3 Q 88.7 430.8, 88.7 431.9 Q 88.7 432.9, 89.2 433.5 Q 89.6 434.0, 90.4 434.0 \" fill=\"#FF0000\"/>\n<path class=\"atom-43\" d=\"M 93.6 430.1 L 95.4 430.1 L 95.4 430.5 L 93.6 430.5 L 93.6 430.1 \" fill=\"#FF0000\"/>\n<path class=\"atom-46\" d=\"M 151.5 378.1 Q 151.5 376.8, 152.1 376.1 Q 152.7 375.4, 153.9 375.4 Q 155.1 375.4, 155.7 376.1 Q 156.3 376.8, 156.3 378.1 Q 156.3 379.4, 155.7 380.1 Q 155.1 380.8, 153.9 380.8 Q 152.8 380.8, 152.1 380.1 Q 151.5 379.4, 151.5 378.1 M 153.9 380.2 Q 154.7 380.2, 155.1 379.7 Q 155.6 379.2, 155.6 378.1 Q 155.6 377.1, 155.1 376.6 Q 154.7 376.0, 153.9 376.0 Q 153.1 376.0, 152.7 376.5 Q 152.2 377.1, 152.2 378.1 Q 152.2 379.2, 152.7 379.7 Q 153.1 380.2, 153.9 380.2 \" fill=\"#FF0000\"/>\n<path class=\"atom-46\" d=\"M 157.1 376.3 L 158.9 376.3 L 158.9 376.7 L 157.1 376.7 L 157.1 376.3 \" fill=\"#FF0000\"/>\n<path class=\"atom-47\" d=\"M 169.0 380.8 Q 169.0 379.5, 169.6 378.8 Q 170.2 378.1, 171.4 378.1 Q 172.6 378.1, 173.2 378.8 Q 173.8 379.5, 173.8 380.8 Q 173.8 382.1, 173.2 382.8 Q 172.5 383.5, 171.4 383.5 Q 170.2 383.5, 169.6 382.8 Q 169.0 382.1, 169.0 380.8 M 171.4 382.9 Q 172.2 382.9, 172.6 382.4 Q 173.1 381.8, 173.1 380.8 Q 173.1 379.8, 172.6 379.2 Q 172.2 378.7, 171.4 378.7 Q 170.6 378.7, 170.2 379.2 Q 169.7 379.7, 169.7 380.8 Q 169.7 381.8, 170.2 382.4 Q 170.6 382.9, 171.4 382.9 \" fill=\"#FF0000\"/>\n<path class=\"legend\" d=\"M 132.2 577.8 Q 133.2 577.8, 134.0 578.2 Q 134.8 578.6, 135.2 579.4 Q 135.6 580.2, 135.6 581.2 Q 135.6 582.3, 135.1 583.2 Q 134.6 584.0, 133.8 584.5 Q 132.9 585.0, 131.8 585.0 Q 129.8 585.0, 128.8 583.6 Q 127.8 582.2, 127.8 579.5 Q 127.8 576.5, 129.0 575.0 Q 130.3 573.4, 132.7 573.4 Q 133.4 573.4, 134.0 573.5 Q 134.6 573.7, 135.2 574.0 L 134.5 575.1 Q 133.7 574.7, 132.7 574.7 Q 131.1 574.7, 130.3 575.7 Q 129.5 576.7, 129.4 578.9 Q 130.0 578.3, 130.7 578.1 Q 131.4 577.8, 132.2 577.8 M 131.8 583.7 Q 132.4 583.7, 132.9 583.3 Q 133.4 583.0, 133.7 582.5 Q 134.0 581.9, 134.0 581.2 Q 134.0 580.2, 133.5 579.6 Q 132.9 579.0, 131.9 579.0 Q 131.2 579.0, 130.5 579.3 Q 129.9 579.6, 129.4 580.1 Q 129.4 582.0, 130.0 582.8 Q 130.6 583.7, 131.8 583.7 \" fill=\"#000000\"/>\n<path class=\"legend\" d=\"M 137.3 575.7 Q 137.7 574.6, 138.7 574.0 Q 139.7 573.4, 141.1 573.4 Q 142.8 573.4, 143.7 574.3 Q 144.7 575.2, 144.7 576.9 Q 144.7 578.6, 143.4 580.1 Q 142.2 581.7, 139.7 583.6 L 144.9 583.6 L 144.9 584.8 L 137.3 584.8 L 137.3 583.8 Q 139.4 582.3, 140.6 581.1 Q 141.9 580.0, 142.5 579.0 Q 143.1 578.0, 143.1 577.0 Q 143.1 575.9, 142.5 575.3 Q 142.0 574.7, 141.1 574.7 Q 140.1 574.7, 139.5 575.0 Q 138.9 575.4, 138.5 576.2 L 137.3 575.7 \" fill=\"#000000\"/>\n<path class=\"legend\" d=\"M 151.0 577.8 Q 152.0 577.8, 152.8 578.2 Q 153.6 578.6, 154.0 579.4 Q 154.5 580.2, 154.5 581.2 Q 154.5 582.3, 154.0 583.2 Q 153.5 584.0, 152.6 584.5 Q 151.8 585.0, 150.6 585.0 Q 148.6 585.0, 147.6 583.6 Q 146.6 582.2, 146.6 579.5 Q 146.6 576.5, 147.8 575.0 Q 149.1 573.4, 151.5 573.4 Q 152.2 573.4, 152.8 573.5 Q 153.4 573.7, 154.0 574.0 L 153.4 575.1 Q 152.6 574.7, 151.5 574.7 Q 149.9 574.7, 149.1 575.7 Q 148.3 576.7, 148.2 578.9 Q 148.8 578.3, 149.5 578.1 Q 150.2 577.8, 151.0 577.8 M 150.7 583.7 Q 151.3 583.7, 151.8 583.3 Q 152.3 583.0, 152.6 582.5 Q 152.9 581.9, 152.9 581.2 Q 152.9 580.2, 152.3 579.6 Q 151.7 579.0, 150.7 579.0 Q 150.1 579.0, 149.4 579.3 Q 148.7 579.6, 148.2 580.1 Q 148.3 582.0, 148.9 582.8 Q 149.5 583.7, 150.7 583.7 \" fill=\"#000000\"/>\n<path class=\"legend\" d=\"M 161.5 578.9 Q 162.6 579.2, 163.2 579.9 Q 163.7 580.6, 163.7 581.7 Q 163.7 582.7, 163.2 583.4 Q 162.7 584.2, 161.9 584.6 Q 161.0 585.0, 159.8 585.0 Q 158.6 585.0, 157.7 584.6 Q 156.8 584.2, 156.1 583.3 L 157.0 582.4 Q 157.7 583.1, 158.3 583.4 Q 158.9 583.7, 159.8 583.7 Q 160.9 583.7, 161.5 583.2 Q 162.1 582.6, 162.1 581.7 Q 162.1 580.6, 161.5 580.1 Q 160.8 579.5, 159.4 579.5 L 158.6 579.5 L 158.6 578.4 L 159.3 578.4 Q 160.6 578.4, 161.2 577.8 Q 161.9 577.3, 161.9 576.3 Q 161.9 575.5, 161.3 575.1 Q 160.8 574.7, 159.9 574.7 Q 158.9 574.7, 158.3 575.0 Q 157.7 575.3, 157.3 576.2 L 156.2 575.6 Q 156.6 574.6, 157.5 574.0 Q 158.5 573.4, 159.9 573.4 Q 161.5 573.4, 162.5 574.2 Q 163.5 575.0, 163.5 576.3 Q 163.5 577.2, 163.0 577.8 Q 162.5 578.5, 161.5 578.9 \" fill=\"#000000\"/>\n<path class=\"legend\" d=\"M 166.0 583.6 L 168.5 583.6 L 168.5 575.1 L 165.8 575.9 L 165.4 575.0 L 168.9 573.4 L 170.0 573.6 L 170.0 583.6 L 172.2 583.6 L 172.2 584.8 L 166.0 584.8 L 166.0 583.6 \" fill=\"#000000\"/>\n</svg>"
          },
          "metadata": {},
          "execution_count": 39
        }
      ]
    },
    {
      "cell_type": "markdown",
      "source": [
        "The pipeline identifies the PDB entries in which 1CP is likely to act as a reactant. All the identified PDB entries are corresponding to the protein Uroporphyrinogen decarboxylase which catalyzes the sequential decarboxylation of the four acetate side chains of uroporphyrinogen to form coproporphyrinogen and participates in the fifth step in the heme biosynthetic pathway."
      ],
      "metadata": {
        "id": "veVFDvLFeDFM"
      }
    },
    {
      "cell_type": "markdown",
      "source": [
        "## Identifying Drugs"
      ],
      "metadata": {
        "id": "0Var9k_Ge5gq"
      }
    },
    {
      "cell_type": "markdown",
      "source": [
        "The drugs pipeline identifies drug-like molecules based on the drug-target information fetched from DrugBank present in the ligand CIF file. For all ligands in the [PDBeChem FTP](https://ftp.ebi.ac.uk/pub/databases/msd/pdbechem_v2/) area, this information is added in their CIF file. If any of the drug target associated with a ligand is annotated as *pharmacologically active*, then the pipeline identify those molecule as drug-like."
      ],
      "metadata": {
        "id": "dPl_fH1Wfec-"
      }
    },
    {
      "cell_type": "code",
      "source": [
        "sti_cif = get_ligand_cif('STI', ligandType.CCD)"
      ],
      "metadata": {
        "id": "WgPZzyD4eBJM"
      },
      "execution_count": 40,
      "outputs": []
    },
    {
      "cell_type": "code",
      "source": [
        "!pdberellig drugs --help"
      ],
      "metadata": {
        "id": "zohNO5-hfBBW",
        "outputId": "df4e6cf4-72cc-49c4-874c-9819b87b1b52",
        "colab": {
          "base_uri": "https://localhost:8080/"
        }
      },
      "execution_count": 41,
      "outputs": [
        {
          "output_type": "stream",
          "name": "stdout",
          "text": [
            "Usage: pdberellig drugs [OPTIONS]\n",
            "\n",
            "  PDBe RelLig pipeline - drugs mode =================\n",
            "\n",
            "  This pipeline parses ligand CIF files from the PDB and annotates them as\n",
            "  drug-like molecule\n",
            "\n",
            "Options:\n",
            "  --cif TEXT                   path to input cif file  [required]\n",
            "  --out-dir TEXT               path to output directory  [required]\n",
            "  --ligand-type [CCD|PRD|CLC]  type of ligand in the PDB  [required]\n",
            "  --help                       Show this message and exit.\n"
          ]
        }
      ]
    },
    {
      "cell_type": "code",
      "source": [
        "!pdberellig drugs --cif STI.cif --ligand-type CCD --out-dir /content"
      ],
      "metadata": {
        "id": "9sDjtZHifFju",
        "outputId": "b4949252-519c-48b0-a4c1-dfc25b1720e3",
        "colab": {
          "base_uri": "https://localhost:8080/"
        }
      },
      "execution_count": 43,
      "outputs": [
        {
          "output_type": "stream",
          "name": "stdout",
          "text": [
            "[2024-11-01 12:10:13,183] drugs:INFO:PDBe RelLig functional annotation pipeline started | drugs    v.1.0.0\n",
            "[2024-11-01 12:10:13,183] drugs:INFO:Used packages:\n",
            "[2024-11-01 12:10:13,183] drugs:INFO:  rdkit 2023.09.6\n",
            "[2024-11-01 12:10:13,184] drugs:INFO:  pdbeccdutils 0.8.6\n",
            "[2024-11-01 12:10:13,551] drugs:INFO:Writing drug annotations to /content/STI_drug_annotation.tsv\n"
          ]
        }
      ]
    },
    {
      "cell_type": "code",
      "source": [
        "sti_annotations = pd.read_csv(\"STI_drug_annotation.tsv\", sep=\"\\t\")"
      ],
      "metadata": {
        "id": "fvLnuW8UfOLF"
      },
      "execution_count": 44,
      "outputs": []
    },
    {
      "cell_type": "code",
      "source": [
        "sti_annotations"
      ],
      "metadata": {
        "id": "kLhAj8OtfbpJ",
        "outputId": "54264dc8-b5fe-458b-caa6-b52ed46a76a7",
        "colab": {
          "base_uri": "https://localhost:8080/",
          "height": 300
        }
      },
      "execution_count": 45,
      "outputs": [
        {
          "output_type": "execute_result",
          "data": {
            "text/plain": [
              "  pdb_id auth_asym_id struct_asym_id uniprot_id                          name  \\\n",
              "0   7n9g            A              A     P00519  Tyrosine-protein kinase ABL1   \n",
              "1   3pyy            B              B     P00519  Tyrosine-protein kinase ABL1   \n",
              "2   6npu            B              B     P00519  Tyrosine-protein kinase ABL1   \n",
              "3   6npe            A              A     P00519  Tyrosine-protein kinase ABL1   \n",
              "4   2hyy            A              A     P00519  Tyrosine-protein kinase ABL1   \n",
              "5   6npu            A              A     P00519  Tyrosine-protein kinase ABL1   \n",
              "6   6npv            B              B     P00519  Tyrosine-protein kinase ABL1   \n",
              "7   6npe            B              B     P00519  Tyrosine-protein kinase ABL1   \n",
              "\n",
              "  organism  \n",
              "0   Humans  \n",
              "1   Humans  \n",
              "2   Humans  \n",
              "3   Humans  \n",
              "4   Humans  \n",
              "5   Humans  \n",
              "6   Humans  \n",
              "7   Humans  "
            ],
            "text/html": [
              "\n",
              "  <div id=\"df-625b03c3-6b8b-4023-965f-e386ae6c3693\" class=\"colab-df-container\">\n",
              "    <div>\n",
              "<style scoped>\n",
              "    .dataframe tbody tr th:only-of-type {\n",
              "        vertical-align: middle;\n",
              "    }\n",
              "\n",
              "    .dataframe tbody tr th {\n",
              "        vertical-align: top;\n",
              "    }\n",
              "\n",
              "    .dataframe thead th {\n",
              "        text-align: right;\n",
              "    }\n",
              "</style>\n",
              "<table border=\"1\" class=\"dataframe\">\n",
              "  <thead>\n",
              "    <tr style=\"text-align: right;\">\n",
              "      <th></th>\n",
              "      <th>pdb_id</th>\n",
              "      <th>auth_asym_id</th>\n",
              "      <th>struct_asym_id</th>\n",
              "      <th>uniprot_id</th>\n",
              "      <th>name</th>\n",
              "      <th>organism</th>\n",
              "    </tr>\n",
              "  </thead>\n",
              "  <tbody>\n",
              "    <tr>\n",
              "      <th>0</th>\n",
              "      <td>7n9g</td>\n",
              "      <td>A</td>\n",
              "      <td>A</td>\n",
              "      <td>P00519</td>\n",
              "      <td>Tyrosine-protein kinase ABL1</td>\n",
              "      <td>Humans</td>\n",
              "    </tr>\n",
              "    <tr>\n",
              "      <th>1</th>\n",
              "      <td>3pyy</td>\n",
              "      <td>B</td>\n",
              "      <td>B</td>\n",
              "      <td>P00519</td>\n",
              "      <td>Tyrosine-protein kinase ABL1</td>\n",
              "      <td>Humans</td>\n",
              "    </tr>\n",
              "    <tr>\n",
              "      <th>2</th>\n",
              "      <td>6npu</td>\n",
              "      <td>B</td>\n",
              "      <td>B</td>\n",
              "      <td>P00519</td>\n",
              "      <td>Tyrosine-protein kinase ABL1</td>\n",
              "      <td>Humans</td>\n",
              "    </tr>\n",
              "    <tr>\n",
              "      <th>3</th>\n",
              "      <td>6npe</td>\n",
              "      <td>A</td>\n",
              "      <td>A</td>\n",
              "      <td>P00519</td>\n",
              "      <td>Tyrosine-protein kinase ABL1</td>\n",
              "      <td>Humans</td>\n",
              "    </tr>\n",
              "    <tr>\n",
              "      <th>4</th>\n",
              "      <td>2hyy</td>\n",
              "      <td>A</td>\n",
              "      <td>A</td>\n",
              "      <td>P00519</td>\n",
              "      <td>Tyrosine-protein kinase ABL1</td>\n",
              "      <td>Humans</td>\n",
              "    </tr>\n",
              "    <tr>\n",
              "      <th>5</th>\n",
              "      <td>6npu</td>\n",
              "      <td>A</td>\n",
              "      <td>A</td>\n",
              "      <td>P00519</td>\n",
              "      <td>Tyrosine-protein kinase ABL1</td>\n",
              "      <td>Humans</td>\n",
              "    </tr>\n",
              "    <tr>\n",
              "      <th>6</th>\n",
              "      <td>6npv</td>\n",
              "      <td>B</td>\n",
              "      <td>B</td>\n",
              "      <td>P00519</td>\n",
              "      <td>Tyrosine-protein kinase ABL1</td>\n",
              "      <td>Humans</td>\n",
              "    </tr>\n",
              "    <tr>\n",
              "      <th>7</th>\n",
              "      <td>6npe</td>\n",
              "      <td>B</td>\n",
              "      <td>B</td>\n",
              "      <td>P00519</td>\n",
              "      <td>Tyrosine-protein kinase ABL1</td>\n",
              "      <td>Humans</td>\n",
              "    </tr>\n",
              "  </tbody>\n",
              "</table>\n",
              "</div>\n",
              "    <div class=\"colab-df-buttons\">\n",
              "\n",
              "  <div class=\"colab-df-container\">\n",
              "    <button class=\"colab-df-convert\" onclick=\"convertToInteractive('df-625b03c3-6b8b-4023-965f-e386ae6c3693')\"\n",
              "            title=\"Convert this dataframe to an interactive table.\"\n",
              "            style=\"display:none;\">\n",
              "\n",
              "  <svg xmlns=\"http://www.w3.org/2000/svg\" height=\"24px\" viewBox=\"0 -960 960 960\">\n",
              "    <path d=\"M120-120v-720h720v720H120Zm60-500h600v-160H180v160Zm220 220h160v-160H400v160Zm0 220h160v-160H400v160ZM180-400h160v-160H180v160Zm440 0h160v-160H620v160ZM180-180h160v-160H180v160Zm440 0h160v-160H620v160Z\"/>\n",
              "  </svg>\n",
              "    </button>\n",
              "\n",
              "  <style>\n",
              "    .colab-df-container {\n",
              "      display:flex;\n",
              "      gap: 12px;\n",
              "    }\n",
              "\n",
              "    .colab-df-convert {\n",
              "      background-color: #E8F0FE;\n",
              "      border: none;\n",
              "      border-radius: 50%;\n",
              "      cursor: pointer;\n",
              "      display: none;\n",
              "      fill: #1967D2;\n",
              "      height: 32px;\n",
              "      padding: 0 0 0 0;\n",
              "      width: 32px;\n",
              "    }\n",
              "\n",
              "    .colab-df-convert:hover {\n",
              "      background-color: #E2EBFA;\n",
              "      box-shadow: 0px 1px 2px rgba(60, 64, 67, 0.3), 0px 1px 3px 1px rgba(60, 64, 67, 0.15);\n",
              "      fill: #174EA6;\n",
              "    }\n",
              "\n",
              "    .colab-df-buttons div {\n",
              "      margin-bottom: 4px;\n",
              "    }\n",
              "\n",
              "    [theme=dark] .colab-df-convert {\n",
              "      background-color: #3B4455;\n",
              "      fill: #D2E3FC;\n",
              "    }\n",
              "\n",
              "    [theme=dark] .colab-df-convert:hover {\n",
              "      background-color: #434B5C;\n",
              "      box-shadow: 0px 1px 3px 1px rgba(0, 0, 0, 0.15);\n",
              "      filter: drop-shadow(0px 1px 2px rgba(0, 0, 0, 0.3));\n",
              "      fill: #FFFFFF;\n",
              "    }\n",
              "  </style>\n",
              "\n",
              "    <script>\n",
              "      const buttonEl =\n",
              "        document.querySelector('#df-625b03c3-6b8b-4023-965f-e386ae6c3693 button.colab-df-convert');\n",
              "      buttonEl.style.display =\n",
              "        google.colab.kernel.accessAllowed ? 'block' : 'none';\n",
              "\n",
              "      async function convertToInteractive(key) {\n",
              "        const element = document.querySelector('#df-625b03c3-6b8b-4023-965f-e386ae6c3693');\n",
              "        const dataTable =\n",
              "          await google.colab.kernel.invokeFunction('convertToInteractive',\n",
              "                                                    [key], {});\n",
              "        if (!dataTable) return;\n",
              "\n",
              "        const docLinkHtml = 'Like what you see? Visit the ' +\n",
              "          '<a target=\"_blank\" href=https://colab.research.google.com/notebooks/data_table.ipynb>data table notebook</a>'\n",
              "          + ' to learn more about interactive tables.';\n",
              "        element.innerHTML = '';\n",
              "        dataTable['output_type'] = 'display_data';\n",
              "        await google.colab.output.renderOutput(dataTable, element);\n",
              "        const docLink = document.createElement('div');\n",
              "        docLink.innerHTML = docLinkHtml;\n",
              "        element.appendChild(docLink);\n",
              "      }\n",
              "    </script>\n",
              "  </div>\n",
              "\n",
              "\n",
              "<div id=\"df-236c2203-5c73-4478-8079-b2c983622c18\">\n",
              "  <button class=\"colab-df-quickchart\" onclick=\"quickchart('df-236c2203-5c73-4478-8079-b2c983622c18')\"\n",
              "            title=\"Suggest charts\"\n",
              "            style=\"display:none;\">\n",
              "\n",
              "<svg xmlns=\"http://www.w3.org/2000/svg\" height=\"24px\"viewBox=\"0 0 24 24\"\n",
              "     width=\"24px\">\n",
              "    <g>\n",
              "        <path d=\"M19 3H5c-1.1 0-2 .9-2 2v14c0 1.1.9 2 2 2h14c1.1 0 2-.9 2-2V5c0-1.1-.9-2-2-2zM9 17H7v-7h2v7zm4 0h-2V7h2v10zm4 0h-2v-4h2v4z\"/>\n",
              "    </g>\n",
              "</svg>\n",
              "  </button>\n",
              "\n",
              "<style>\n",
              "  .colab-df-quickchart {\n",
              "      --bg-color: #E8F0FE;\n",
              "      --fill-color: #1967D2;\n",
              "      --hover-bg-color: #E2EBFA;\n",
              "      --hover-fill-color: #174EA6;\n",
              "      --disabled-fill-color: #AAA;\n",
              "      --disabled-bg-color: #DDD;\n",
              "  }\n",
              "\n",
              "  [theme=dark] .colab-df-quickchart {\n",
              "      --bg-color: #3B4455;\n",
              "      --fill-color: #D2E3FC;\n",
              "      --hover-bg-color: #434B5C;\n",
              "      --hover-fill-color: #FFFFFF;\n",
              "      --disabled-bg-color: #3B4455;\n",
              "      --disabled-fill-color: #666;\n",
              "  }\n",
              "\n",
              "  .colab-df-quickchart {\n",
              "    background-color: var(--bg-color);\n",
              "    border: none;\n",
              "    border-radius: 50%;\n",
              "    cursor: pointer;\n",
              "    display: none;\n",
              "    fill: var(--fill-color);\n",
              "    height: 32px;\n",
              "    padding: 0;\n",
              "    width: 32px;\n",
              "  }\n",
              "\n",
              "  .colab-df-quickchart:hover {\n",
              "    background-color: var(--hover-bg-color);\n",
              "    box-shadow: 0 1px 2px rgba(60, 64, 67, 0.3), 0 1px 3px 1px rgba(60, 64, 67, 0.15);\n",
              "    fill: var(--button-hover-fill-color);\n",
              "  }\n",
              "\n",
              "  .colab-df-quickchart-complete:disabled,\n",
              "  .colab-df-quickchart-complete:disabled:hover {\n",
              "    background-color: var(--disabled-bg-color);\n",
              "    fill: var(--disabled-fill-color);\n",
              "    box-shadow: none;\n",
              "  }\n",
              "\n",
              "  .colab-df-spinner {\n",
              "    border: 2px solid var(--fill-color);\n",
              "    border-color: transparent;\n",
              "    border-bottom-color: var(--fill-color);\n",
              "    animation:\n",
              "      spin 1s steps(1) infinite;\n",
              "  }\n",
              "\n",
              "  @keyframes spin {\n",
              "    0% {\n",
              "      border-color: transparent;\n",
              "      border-bottom-color: var(--fill-color);\n",
              "      border-left-color: var(--fill-color);\n",
              "    }\n",
              "    20% {\n",
              "      border-color: transparent;\n",
              "      border-left-color: var(--fill-color);\n",
              "      border-top-color: var(--fill-color);\n",
              "    }\n",
              "    30% {\n",
              "      border-color: transparent;\n",
              "      border-left-color: var(--fill-color);\n",
              "      border-top-color: var(--fill-color);\n",
              "      border-right-color: var(--fill-color);\n",
              "    }\n",
              "    40% {\n",
              "      border-color: transparent;\n",
              "      border-right-color: var(--fill-color);\n",
              "      border-top-color: var(--fill-color);\n",
              "    }\n",
              "    60% {\n",
              "      border-color: transparent;\n",
              "      border-right-color: var(--fill-color);\n",
              "    }\n",
              "    80% {\n",
              "      border-color: transparent;\n",
              "      border-right-color: var(--fill-color);\n",
              "      border-bottom-color: var(--fill-color);\n",
              "    }\n",
              "    90% {\n",
              "      border-color: transparent;\n",
              "      border-bottom-color: var(--fill-color);\n",
              "    }\n",
              "  }\n",
              "</style>\n",
              "\n",
              "  <script>\n",
              "    async function quickchart(key) {\n",
              "      const quickchartButtonEl =\n",
              "        document.querySelector('#' + key + ' button');\n",
              "      quickchartButtonEl.disabled = true;  // To prevent multiple clicks.\n",
              "      quickchartButtonEl.classList.add('colab-df-spinner');\n",
              "      try {\n",
              "        const charts = await google.colab.kernel.invokeFunction(\n",
              "            'suggestCharts', [key], {});\n",
              "      } catch (error) {\n",
              "        console.error('Error during call to suggestCharts:', error);\n",
              "      }\n",
              "      quickchartButtonEl.classList.remove('colab-df-spinner');\n",
              "      quickchartButtonEl.classList.add('colab-df-quickchart-complete');\n",
              "    }\n",
              "    (() => {\n",
              "      let quickchartButtonEl =\n",
              "        document.querySelector('#df-236c2203-5c73-4478-8079-b2c983622c18 button');\n",
              "      quickchartButtonEl.style.display =\n",
              "        google.colab.kernel.accessAllowed ? 'block' : 'none';\n",
              "    })();\n",
              "  </script>\n",
              "</div>\n",
              "\n",
              "  <div id=\"id_24a3aa91-39ea-4579-bb0f-73294b04b44c\">\n",
              "    <style>\n",
              "      .colab-df-generate {\n",
              "        background-color: #E8F0FE;\n",
              "        border: none;\n",
              "        border-radius: 50%;\n",
              "        cursor: pointer;\n",
              "        display: none;\n",
              "        fill: #1967D2;\n",
              "        height: 32px;\n",
              "        padding: 0 0 0 0;\n",
              "        width: 32px;\n",
              "      }\n",
              "\n",
              "      .colab-df-generate:hover {\n",
              "        background-color: #E2EBFA;\n",
              "        box-shadow: 0px 1px 2px rgba(60, 64, 67, 0.3), 0px 1px 3px 1px rgba(60, 64, 67, 0.15);\n",
              "        fill: #174EA6;\n",
              "      }\n",
              "\n",
              "      [theme=dark] .colab-df-generate {\n",
              "        background-color: #3B4455;\n",
              "        fill: #D2E3FC;\n",
              "      }\n",
              "\n",
              "      [theme=dark] .colab-df-generate:hover {\n",
              "        background-color: #434B5C;\n",
              "        box-shadow: 0px 1px 3px 1px rgba(0, 0, 0, 0.15);\n",
              "        filter: drop-shadow(0px 1px 2px rgba(0, 0, 0, 0.3));\n",
              "        fill: #FFFFFF;\n",
              "      }\n",
              "    </style>\n",
              "    <button class=\"colab-df-generate\" onclick=\"generateWithVariable('sti_annotations')\"\n",
              "            title=\"Generate code using this dataframe.\"\n",
              "            style=\"display:none;\">\n",
              "\n",
              "  <svg xmlns=\"http://www.w3.org/2000/svg\" height=\"24px\"viewBox=\"0 0 24 24\"\n",
              "       width=\"24px\">\n",
              "    <path d=\"M7,19H8.4L18.45,9,17,7.55,7,17.6ZM5,21V16.75L18.45,3.32a2,2,0,0,1,2.83,0l1.4,1.43a1.91,1.91,0,0,1,.58,1.4,1.91,1.91,0,0,1-.58,1.4L9.25,21ZM18.45,9,17,7.55Zm-12,3A5.31,5.31,0,0,0,4.9,8.1,5.31,5.31,0,0,0,1,6.5,5.31,5.31,0,0,0,4.9,4.9,5.31,5.31,0,0,0,6.5,1,5.31,5.31,0,0,0,8.1,4.9,5.31,5.31,0,0,0,12,6.5,5.46,5.46,0,0,0,6.5,12Z\"/>\n",
              "  </svg>\n",
              "    </button>\n",
              "    <script>\n",
              "      (() => {\n",
              "      const buttonEl =\n",
              "        document.querySelector('#id_24a3aa91-39ea-4579-bb0f-73294b04b44c button.colab-df-generate');\n",
              "      buttonEl.style.display =\n",
              "        google.colab.kernel.accessAllowed ? 'block' : 'none';\n",
              "\n",
              "      buttonEl.onclick = () => {\n",
              "        google.colab.notebook.generateWithVariable('sti_annotations');\n",
              "      }\n",
              "      })();\n",
              "    </script>\n",
              "  </div>\n",
              "\n",
              "    </div>\n",
              "  </div>\n"
            ],
            "application/vnd.google.colaboratory.intrinsic+json": {
              "type": "dataframe",
              "variable_name": "sti_annotations",
              "summary": "{\n  \"name\": \"sti_annotations\",\n  \"rows\": 8,\n  \"fields\": [\n    {\n      \"column\": \"pdb_id\",\n      \"properties\": {\n        \"dtype\": \"string\",\n        \"num_unique_values\": 6,\n        \"samples\": [\n          \"7n9g\",\n          \"3pyy\",\n          \"6npv\"\n        ],\n        \"semantic_type\": \"\",\n        \"description\": \"\"\n      }\n    },\n    {\n      \"column\": \"auth_asym_id\",\n      \"properties\": {\n        \"dtype\": \"category\",\n        \"num_unique_values\": 2,\n        \"samples\": [\n          \"B\",\n          \"A\"\n        ],\n        \"semantic_type\": \"\",\n        \"description\": \"\"\n      }\n    },\n    {\n      \"column\": \"struct_asym_id\",\n      \"properties\": {\n        \"dtype\": \"category\",\n        \"num_unique_values\": 2,\n        \"samples\": [\n          \"B\",\n          \"A\"\n        ],\n        \"semantic_type\": \"\",\n        \"description\": \"\"\n      }\n    },\n    {\n      \"column\": \"uniprot_id\",\n      \"properties\": {\n        \"dtype\": \"category\",\n        \"num_unique_values\": 1,\n        \"samples\": [\n          \"P00519\"\n        ],\n        \"semantic_type\": \"\",\n        \"description\": \"\"\n      }\n    },\n    {\n      \"column\": \"name\",\n      \"properties\": {\n        \"dtype\": \"category\",\n        \"num_unique_values\": 1,\n        \"samples\": [\n          \"Tyrosine-protein kinase ABL1\"\n        ],\n        \"semantic_type\": \"\",\n        \"description\": \"\"\n      }\n    },\n    {\n      \"column\": \"organism\",\n      \"properties\": {\n        \"dtype\": \"category\",\n        \"num_unique_values\": 1,\n        \"samples\": [\n          \"Humans\"\n        ],\n        \"semantic_type\": \"\",\n        \"description\": \"\"\n      }\n    }\n  ]\n}"
            }
          },
          "metadata": {},
          "execution_count": 45
        }
      ]
    },
    {
      "cell_type": "markdown",
      "source": [
        "The pipeline identifies all the PDB entries corresponding to the protein Tyrosine-protein kinase ABL1 in which STI (imatinib) acts as an inhibitor. You can do an interaction analysis on these PDB entries similar to the one we did in this notebook to identify important residues in the binding pockets of STI."
      ],
      "metadata": {
        "id": "2Y1nSsh6fY79"
      }
    }
  ]
}